{
 "cells": [
  {
   "cell_type": "code",
   "execution_count": 1,
   "id": "fa6520ec",
   "metadata": {
    "_cell_guid": "b1076dfc-b9ad-4769-8c92-a6c4dae69d19",
    "_uuid": "8f2839f25d086af736a60e9eeb907d3b93b6e0e5",
    "execution": {
     "iopub.execute_input": "2025-02-22T06:21:15.347989Z",
     "iopub.status.busy": "2025-02-22T06:21:15.347690Z",
     "iopub.status.idle": "2025-02-22T06:21:16.107758Z",
     "shell.execute_reply": "2025-02-22T06:21:16.106741Z"
    },
    "papermill": {
     "duration": 0.772443,
     "end_time": "2025-02-22T06:21:16.109198",
     "exception": false,
     "start_time": "2025-02-22T06:21:15.336755",
     "status": "completed"
    },
    "tags": []
   },
   "outputs": [
    {
     "name": "stdout",
     "output_type": "stream",
     "text": [
      "/kaggle/input/personal-data/high_contrast.jpeg\n",
      "/kaggle/input/personal-data/1694354392633.jpg\n",
      "/kaggle/input/personal-data/Translation of banglaNewsData.xlsx\n",
      "/kaggle/input/personal-data/hindu.csv\n",
      "/kaggle/input/personal-data/political.txt\n",
      "/kaggle/input/personal-data/BanglaBlendCleanedData.xlsx\n",
      "/kaggle/input/personal-data/result31.csv\n",
      "/kaggle/input/personal-data/low_contrast_cat.jpeg\n",
      "/kaggle/input/personal-data/IMG_3661.jpg\n",
      "/kaggle/input/personal-data/Translator Dataset/Word.xlsx\n",
      "/kaggle/input/personal-data/Translator Dataset/Clause.xlsx\n",
      "/kaggle/input/personal-data/Translator Dataset/Sentence.xlsx\n",
      "/kaggle/input/sarcastic-comments-on-reddit/train-balanced-sarcasm.csv\n",
      "/kaggle/input/sarcasm/reddit_test.jsonl\n",
      "/kaggle/input/sarcasm/sarcasm_detection_shared_task_twitter_training.jsonl\n",
      "/kaggle/input/sarcasm/twitter_test.jsonl\n",
      "/kaggle/input/sarcasm/sarcasm_detection_shared_task_reddit_training.jsonl\n",
      "/kaggle/input/sarcasm/Ben-Sarc_ Bengali Sarcasm Detection Corpus.xlsx\n",
      "/kaggle/input/sarcasm/sarcasm_v2/RQ-sarc-notsarc.csv\n",
      "/kaggle/input/sarcasm/sarcasm_v2/GEN-sarc-notsarc.csv\n",
      "/kaggle/input/sarcasm/sarcasm_v2/HYP-sarc-notsarc.csv\n",
      "/kaggle/input/news-category-dataset/News_Category_Dataset_v3.json\n"
     ]
    }
   ],
   "source": [
    "# This Python 3 environment comes with many helpful analytics libraries installed\n",
    "# It is defined by the kaggle/python Docker image: https://github.com/kaggle/docker-python\n",
    "# For example, here's several helpful packages to load\n",
    "\n",
    "import numpy as np # linear algebra\n",
    "import pandas as pd # data processing, CSV file I/O (e.g. pd.read_csv)\n",
    "\n",
    "# Input data files are available in the read-only \"../input/\" directory\n",
    "# For example, running this (by clicking run or pressing Shift+Enter) will list all files under the input directory\n",
    "\n",
    "import os\n",
    "for dirname, _, filenames in os.walk('/kaggle/input'):\n",
    "    for filename in filenames:\n",
    "        print(os.path.join(dirname, filename))\n",
    "\n",
    "# You can write up to 20GB to the current directory (/kaggle/working/) that gets preserved as output when you create a version using \"Save & Run All\" \n",
    "# You can also write temporary files to /kaggle/temp/, but they won't be saved outside of the current session"
   ]
  },
  {
   "cell_type": "code",
   "execution_count": 2,
   "id": "dadcb8e0",
   "metadata": {
    "execution": {
     "iopub.execute_input": "2025-02-22T06:21:16.128718Z",
     "iopub.status.busy": "2025-02-22T06:21:16.128366Z",
     "iopub.status.idle": "2025-02-22T06:21:18.305462Z",
     "shell.execute_reply": "2025-02-22T06:21:18.304627Z"
    },
    "papermill": {
     "duration": 2.187851,
     "end_time": "2025-02-22T06:21:18.306785",
     "exception": false,
     "start_time": "2025-02-22T06:21:16.118934",
     "status": "completed"
    },
    "tags": []
   },
   "outputs": [
    {
     "data": {
      "text/html": [
       "<div>\n",
       "<style scoped>\n",
       "    .dataframe tbody tr th:only-of-type {\n",
       "        vertical-align: middle;\n",
       "    }\n",
       "\n",
       "    .dataframe tbody tr th {\n",
       "        vertical-align: top;\n",
       "    }\n",
       "\n",
       "    .dataframe thead th {\n",
       "        text-align: right;\n",
       "    }\n",
       "</style>\n",
       "<table border=\"1\" class=\"dataframe\">\n",
       "  <thead>\n",
       "    <tr style=\"text-align: right;\">\n",
       "      <th></th>\n",
       "      <th>id</th>\n",
       "      <th>Text</th>\n",
       "      <th>Polarity</th>\n",
       "    </tr>\n",
       "  </thead>\n",
       "  <tbody>\n",
       "    <tr>\n",
       "      <th>0</th>\n",
       "      <td>0</td>\n",
       "      <td>শুধু মাত্র এই পোস্টে কমেন্ট করার জন্য বাড়ির এ...</td>\n",
       "      <td>1</td>\n",
       "    </tr>\n",
       "    <tr>\n",
       "      <th>1</th>\n",
       "      <td>2</td>\n",
       "      <td>সাথে আছে বুক ভরা চুল ।</td>\n",
       "      <td>1</td>\n",
       "    </tr>\n",
       "    <tr>\n",
       "      <th>2</th>\n",
       "      <td>4</td>\n",
       "      <td>ভাই মিথ্যা কথা বইলেন না আপনি ভিপিএন ইউজ করে পো...</td>\n",
       "      <td>1</td>\n",
       "    </tr>\n",
       "  </tbody>\n",
       "</table>\n",
       "</div>"
      ],
      "text/plain": [
       "   id                                               Text  Polarity\n",
       "0   0  শুধু মাত্র এই পোস্টে কমেন্ট করার জন্য বাড়ির এ...         1\n",
       "1   2                             সাথে আছে বুক ভরা চুল ।         1\n",
       "2   4  ভাই মিথ্যা কথা বইলেন না আপনি ভিপিএন ইউজ করে পো...         1"
      ]
     },
     "execution_count": 2,
     "metadata": {},
     "output_type": "execute_result"
    }
   ],
   "source": [
    "df = pd.read_excel('/kaggle/input/sarcasm/Ben-Sarc_ Bengali Sarcasm Detection Corpus.xlsx')\n",
    "\n",
    "df.head(3)"
   ]
  },
  {
   "cell_type": "code",
   "execution_count": 3,
   "id": "cefbecb2",
   "metadata": {
    "execution": {
     "iopub.execute_input": "2025-02-22T06:21:18.326591Z",
     "iopub.status.busy": "2025-02-22T06:21:18.326216Z",
     "iopub.status.idle": "2025-02-22T06:21:18.335414Z",
     "shell.execute_reply": "2025-02-22T06:21:18.334764Z"
    },
    "papermill": {
     "duration": 0.020278,
     "end_time": "2025-02-22T06:21:18.336697",
     "exception": false,
     "start_time": "2025-02-22T06:21:18.316419",
     "status": "completed"
    },
    "tags": []
   },
   "outputs": [
    {
     "data": {
      "text/html": [
       "<div>\n",
       "<style scoped>\n",
       "    .dataframe tbody tr th:only-of-type {\n",
       "        vertical-align: middle;\n",
       "    }\n",
       "\n",
       "    .dataframe tbody tr th {\n",
       "        vertical-align: top;\n",
       "    }\n",
       "\n",
       "    .dataframe thead th {\n",
       "        text-align: right;\n",
       "    }\n",
       "</style>\n",
       "<table border=\"1\" class=\"dataframe\">\n",
       "  <thead>\n",
       "    <tr style=\"text-align: right;\">\n",
       "      <th></th>\n",
       "      <th>id</th>\n",
       "      <th>text</th>\n",
       "      <th>label</th>\n",
       "    </tr>\n",
       "  </thead>\n",
       "  <tbody>\n",
       "    <tr>\n",
       "      <th>0</th>\n",
       "      <td>0</td>\n",
       "      <td>শুধু মাত্র এই পোস্টে কমেন্ট করার জন্য বাড়ির এ...</td>\n",
       "      <td>1</td>\n",
       "    </tr>\n",
       "    <tr>\n",
       "      <th>1</th>\n",
       "      <td>2</td>\n",
       "      <td>সাথে আছে বুক ভরা চুল ।</td>\n",
       "      <td>1</td>\n",
       "    </tr>\n",
       "    <tr>\n",
       "      <th>2</th>\n",
       "      <td>4</td>\n",
       "      <td>ভাই মিথ্যা কথা বইলেন না আপনি ভিপিএন ইউজ করে পো...</td>\n",
       "      <td>1</td>\n",
       "    </tr>\n",
       "  </tbody>\n",
       "</table>\n",
       "</div>"
      ],
      "text/plain": [
       "   id                                               text  label\n",
       "0   0  শুধু মাত্র এই পোস্টে কমেন্ট করার জন্য বাড়ির এ...      1\n",
       "1   2                             সাথে আছে বুক ভরা চুল ।      1\n",
       "2   4  ভাই মিথ্যা কথা বইলেন না আপনি ভিপিএন ইউজ করে পো...      1"
      ]
     },
     "execution_count": 3,
     "metadata": {},
     "output_type": "execute_result"
    }
   ],
   "source": [
    "df.rename(columns={\"Text\": \"text\"}, inplace=True)\n",
    "df.rename(columns={\"Polarity\": \"label\"}, inplace=True)\n",
    "\n",
    "df.head(3)"
   ]
  },
  {
   "cell_type": "markdown",
   "id": "1806d8c0",
   "metadata": {
    "papermill": {
     "duration": 0.008564,
     "end_time": "2025-02-22T06:21:18.354387",
     "exception": false,
     "start_time": "2025-02-22T06:21:18.345823",
     "status": "completed"
    },
    "tags": []
   },
   "source": [
    "## Apply Normalizer"
   ]
  },
  {
   "cell_type": "code",
   "execution_count": 4,
   "id": "7d5d4075",
   "metadata": {
    "execution": {
     "iopub.execute_input": "2025-02-22T06:21:18.372940Z",
     "iopub.status.busy": "2025-02-22T06:21:18.372731Z",
     "iopub.status.idle": "2025-02-22T06:21:29.298966Z",
     "shell.execute_reply": "2025-02-22T06:21:29.297951Z"
    },
    "papermill": {
     "duration": 10.937038,
     "end_time": "2025-02-22T06:21:29.300599",
     "exception": false,
     "start_time": "2025-02-22T06:21:18.363561",
     "status": "completed"
    },
    "tags": []
   },
   "outputs": [
    {
     "name": "stdout",
     "output_type": "stream",
     "text": [
      "Collecting git+https://github.com/csebuetnlp/normalizer\r\n",
      "  Cloning https://github.com/csebuetnlp/normalizer to /tmp/pip-req-build-oid968ce\r\n",
      "  Running command git clone --filter=blob:none --quiet https://github.com/csebuetnlp/normalizer /tmp/pip-req-build-oid968ce\r\n",
      "  Resolved https://github.com/csebuetnlp/normalizer to commit d405944dde5ceeacb7c2fd3245ae2a9dea5f35c9\r\n",
      "  Preparing metadata (setup.py) ... \u001b[?25l\u001b[?25hdone\r\n",
      "Requirement already satisfied: regex in /usr/local/lib/python3.10/dist-packages (from normalizer==0.0.1) (2024.9.11)\r\n",
      "Collecting emoji==1.4.2 (from normalizer==0.0.1)\r\n",
      "  Downloading emoji-1.4.2.tar.gz (184 kB)\r\n",
      "\u001b[2K     \u001b[90m━━━━━━━━━━━━━━━━━━━━━━━━━━━━━━━━━━━━━━━━\u001b[0m \u001b[32m185.0/185.0 kB\u001b[0m \u001b[31m5.7 MB/s\u001b[0m eta \u001b[36m0:00:00\u001b[0m\r\n",
      "\u001b[?25h  Preparing metadata (setup.py) ... \u001b[?25l\u001b[?25hdone\r\n",
      "Collecting ftfy==6.0.3 (from normalizer==0.0.1)\r\n",
      "  Downloading ftfy-6.0.3.tar.gz (64 kB)\r\n",
      "\u001b[2K     \u001b[90m━━━━━━━━━━━━━━━━━━━━━━━━━━━━━━━━━━━━━━━━\u001b[0m \u001b[32m64.2/64.2 kB\u001b[0m \u001b[31m3.4 MB/s\u001b[0m eta \u001b[36m0:00:00\u001b[0m\r\n",
      "\u001b[?25h  Preparing metadata (setup.py) ... \u001b[?25l\u001b[?25hdone\r\n",
      "Requirement already satisfied: wcwidth in /usr/local/lib/python3.10/dist-packages (from ftfy==6.0.3->normalizer==0.0.1) (0.2.13)\r\n",
      "Building wheels for collected packages: normalizer, emoji, ftfy\r\n",
      "  Building wheel for normalizer (setup.py) ... \u001b[?25l\u001b[?25hdone\r\n",
      "  Created wheel for normalizer: filename=normalizer-0.0.1-py3-none-any.whl size=6860 sha256=e4202ea89bcf44f1370a0b7cb6fdd931bb8f67e9bfe35185e23aaede75e5ddf9\r\n",
      "  Stored in directory: /tmp/pip-ephem-wheel-cache-nm17uk99/wheels/2e/79/9c/cd96d490298305d51d2da11484bb2c25fd1f759a6906708282\r\n",
      "  Building wheel for emoji (setup.py) ... \u001b[?25l\u001b[?25hdone\r\n",
      "  Created wheel for emoji: filename=emoji-1.4.2-py3-none-any.whl size=186456 sha256=c2b84187ee54068472593243645120ac17321dc199d842c4cc103c7efd1f4d8b\r\n",
      "  Stored in directory: /root/.cache/pip/wheels/10/f0/fd/4813b1177405693e8da9cdea839f0fb64fde161380e058c827\r\n",
      "  Building wheel for ftfy (setup.py) ... \u001b[?25l\u001b[?25hdone\r\n",
      "  Created wheel for ftfy: filename=ftfy-6.0.3-py3-none-any.whl size=41930 sha256=089ad4875d44c14cb75414a83e3351e4d5fb5757a87a0eec30f46220a7065d16\r\n",
      "  Stored in directory: /root/.cache/pip/wheels/92/8e/16/c1e4d4d65685d71085e4e27b44d6ed880b0559474c9ee4ff66\r\n",
      "Successfully built normalizer emoji ftfy\r\n",
      "Installing collected packages: emoji, ftfy, normalizer\r\n",
      "  Attempting uninstall: emoji\r\n",
      "    Found existing installation: emoji 2.14.0\r\n",
      "    Uninstalling emoji-2.14.0:\r\n",
      "      Successfully uninstalled emoji-2.14.0\r\n",
      "Successfully installed emoji-1.4.2 ftfy-6.0.3 normalizer-0.0.1\r\n",
      "Note: you may need to restart the kernel to use updated packages.\n"
     ]
    }
   ],
   "source": [
    "pip install git+https://github.com/csebuetnlp/normalizer"
   ]
  },
  {
   "cell_type": "code",
   "execution_count": 5,
   "id": "fb707e08",
   "metadata": {
    "execution": {
     "iopub.execute_input": "2025-02-22T06:21:29.339414Z",
     "iopub.status.busy": "2025-02-22T06:21:29.339052Z",
     "iopub.status.idle": "2025-02-22T06:21:33.579612Z",
     "shell.execute_reply": "2025-02-22T06:21:33.578630Z"
    },
    "papermill": {
     "duration": 4.259319,
     "end_time": "2025-02-22T06:21:33.580811",
     "exception": false,
     "start_time": "2025-02-22T06:21:29.321492",
     "status": "completed"
    },
    "tags": []
   },
   "outputs": [
    {
     "name": "stderr",
     "output_type": "stream",
     "text": [
      "100%|██████████| 25636/25636 [00:04<00:00, 6265.17it/s]\n"
     ]
    }
   ],
   "source": [
    "from normalizer import normalize \n",
    "from tqdm import tqdm\n",
    "\n",
    "tqdm.pandas()\n",
    "df['text'] = df['text'].progress_apply(normalize)"
   ]
  },
  {
   "cell_type": "code",
   "execution_count": 6,
   "id": "e464007a",
   "metadata": {
    "execution": {
     "iopub.execute_input": "2025-02-22T06:21:33.605003Z",
     "iopub.status.busy": "2025-02-22T06:21:33.604732Z",
     "iopub.status.idle": "2025-02-22T06:21:33.682614Z",
     "shell.execute_reply": "2025-02-22T06:21:33.681732Z"
    },
    "papermill": {
     "duration": 0.091094,
     "end_time": "2025-02-22T06:21:33.683730",
     "exception": false,
     "start_time": "2025-02-22T06:21:33.592636",
     "status": "completed"
    },
    "tags": []
   },
   "outputs": [
    {
     "name": "stderr",
     "output_type": "stream",
     "text": [
      "100%|██████████| 25636/25636 [00:00<00:00, 361862.19it/s]\n"
     ]
    }
   ],
   "source": [
    "df['rtext'] = df['text'].progress_apply(lambda x: ' '.join(x.split()[::-1]))"
   ]
  },
  {
   "cell_type": "code",
   "execution_count": 7,
   "id": "59d3a05a",
   "metadata": {
    "execution": {
     "iopub.execute_input": "2025-02-22T06:21:33.707643Z",
     "iopub.status.busy": "2025-02-22T06:21:33.707426Z",
     "iopub.status.idle": "2025-02-22T06:21:33.712070Z",
     "shell.execute_reply": "2025-02-22T06:21:33.711466Z"
    },
    "papermill": {
     "duration": 0.017954,
     "end_time": "2025-02-22T06:21:33.713321",
     "exception": false,
     "start_time": "2025-02-22T06:21:33.695367",
     "status": "completed"
    },
    "tags": []
   },
   "outputs": [
    {
     "data": {
      "text/plain": [
       "('ভাই মিথ্যা কথা বইলেন না আপনি ভিপিএন ইউজ করে পোস্ট দিয়েছেন এবং আপনি রঙিন দুনিয়া দেখছেন না । কারণ আপনার ফ্রেম রঙিন হলেও গ্লাসটা কিন্তু কালো । আমি কিন্তু রঙিন দুনিয়ার একজন রঙমিস্ত্রি তাই বিষয়টি এড়িয়ে যেতে পারলাম না ।',\n",
       " 1)"
      ]
     },
     "execution_count": 7,
     "metadata": {},
     "output_type": "execute_result"
    }
   ],
   "source": [
    "ri = 2\n",
    "df['text'][ri], df['label'][ri]"
   ]
  },
  {
   "cell_type": "code",
   "execution_count": 8,
   "id": "b233bed3",
   "metadata": {
    "execution": {
     "iopub.execute_input": "2025-02-22T06:21:33.737665Z",
     "iopub.status.busy": "2025-02-22T06:21:33.737466Z",
     "iopub.status.idle": "2025-02-22T06:21:33.746416Z",
     "shell.execute_reply": "2025-02-22T06:21:33.745631Z"
    },
    "papermill": {
     "duration": 0.022421,
     "end_time": "2025-02-22T06:21:33.747595",
     "exception": false,
     "start_time": "2025-02-22T06:21:33.725174",
     "status": "completed"
    },
    "tags": []
   },
   "outputs": [
    {
     "data": {
      "text/plain": [
       "label\n",
       "1    12818\n",
       "0    12818\n",
       "Name: count, dtype: int64"
      ]
     },
     "execution_count": 8,
     "metadata": {},
     "output_type": "execute_result"
    }
   ],
   "source": [
    "df.label.value_counts()"
   ]
  },
  {
   "cell_type": "code",
   "execution_count": 9,
   "id": "6ba06405",
   "metadata": {
    "execution": {
     "iopub.execute_input": "2025-02-22T06:21:33.771791Z",
     "iopub.status.busy": "2025-02-22T06:21:33.771565Z",
     "iopub.status.idle": "2025-02-22T06:21:33.775860Z",
     "shell.execute_reply": "2025-02-22T06:21:33.774997Z"
    },
    "papermill": {
     "duration": 0.017638,
     "end_time": "2025-02-22T06:21:33.777003",
     "exception": false,
     "start_time": "2025-02-22T06:21:33.759365",
     "status": "completed"
    },
    "tags": []
   },
   "outputs": [
    {
     "data": {
      "text/plain": [
       "(25636, 4)"
      ]
     },
     "execution_count": 9,
     "metadata": {},
     "output_type": "execute_result"
    }
   ],
   "source": [
    "df.shape"
   ]
  },
  {
   "cell_type": "code",
   "execution_count": 10,
   "id": "abe6b5f7",
   "metadata": {
    "execution": {
     "iopub.execute_input": "2025-02-22T06:21:33.801479Z",
     "iopub.status.busy": "2025-02-22T06:21:33.801211Z",
     "iopub.status.idle": "2025-02-22T06:21:34.909255Z",
     "shell.execute_reply": "2025-02-22T06:21:34.908586Z"
    },
    "papermill": {
     "duration": 1.121871,
     "end_time": "2025-02-22T06:21:34.910684",
     "exception": false,
     "start_time": "2025-02-22T06:21:33.788813",
     "status": "completed"
    },
    "tags": []
   },
   "outputs": [],
   "source": [
    "from sklearn.model_selection import train_test_split\n",
    "\n",
    "# Assume 'df' is your DataFrame and 'label_column' is the column you want to stratify on\n",
    "# df, _ = train_test_split(df, train_size=1000, stratify=df['label'], random_state=42)"
   ]
  },
  {
   "cell_type": "code",
   "execution_count": 11,
   "id": "56c4cd35",
   "metadata": {
    "execution": {
     "iopub.execute_input": "2025-02-22T06:21:34.936101Z",
     "iopub.status.busy": "2025-02-22T06:21:34.935759Z",
     "iopub.status.idle": "2025-02-22T06:21:34.944066Z",
     "shell.execute_reply": "2025-02-22T06:21:34.943272Z"
    },
    "papermill": {
     "duration": 0.022421,
     "end_time": "2025-02-22T06:21:34.945325",
     "exception": false,
     "start_time": "2025-02-22T06:21:34.922904",
     "status": "completed"
    },
    "tags": []
   },
   "outputs": [
    {
     "name": "stdout",
     "output_type": "stream",
     "text": [
      "(25636, 4)\n"
     ]
    },
    {
     "data": {
      "text/html": [
       "<div>\n",
       "<style scoped>\n",
       "    .dataframe tbody tr th:only-of-type {\n",
       "        vertical-align: middle;\n",
       "    }\n",
       "\n",
       "    .dataframe tbody tr th {\n",
       "        vertical-align: top;\n",
       "    }\n",
       "\n",
       "    .dataframe thead th {\n",
       "        text-align: right;\n",
       "    }\n",
       "</style>\n",
       "<table border=\"1\" class=\"dataframe\">\n",
       "  <thead>\n",
       "    <tr style=\"text-align: right;\">\n",
       "      <th></th>\n",
       "      <th>id</th>\n",
       "      <th>text</th>\n",
       "      <th>label</th>\n",
       "      <th>rtext</th>\n",
       "    </tr>\n",
       "  </thead>\n",
       "  <tbody>\n",
       "    <tr>\n",
       "      <th>0</th>\n",
       "      <td>0</td>\n",
       "      <td>শুধু মাত্র এই পোস্টে কমেন্ট করার জন্য বাড়ির এ...</td>\n",
       "      <td>1</td>\n",
       "      <td>ছিলাম বসে কিনে বি এম করে বিক্রি ঘোড়া পাড়া ডি...</td>\n",
       "    </tr>\n",
       "    <tr>\n",
       "      <th>1</th>\n",
       "      <td>2</td>\n",
       "      <td>সাথে আছে বুক ভরা চুল ।</td>\n",
       "      <td>1</td>\n",
       "      <td>। চুল ভরা বুক আছে সাথে</td>\n",
       "    </tr>\n",
       "    <tr>\n",
       "      <th>2</th>\n",
       "      <td>4</td>\n",
       "      <td>ভাই মিথ্যা কথা বইলেন না আপনি ভিপিএন ইউজ করে পো...</td>\n",
       "      <td>1</td>\n",
       "      <td>। না পারলাম যেতে এড়িয়ে বিষয়টি তাই রঙমিস্ত্র...</td>\n",
       "    </tr>\n",
       "  </tbody>\n",
       "</table>\n",
       "</div>"
      ],
      "text/plain": [
       "   id                                               text  label  \\\n",
       "0   0  শুধু মাত্র এই পোস্টে কমেন্ট করার জন্য বাড়ির এ...      1   \n",
       "1   2                             সাথে আছে বুক ভরা চুল ।      1   \n",
       "2   4  ভাই মিথ্যা কথা বইলেন না আপনি ভিপিএন ইউজ করে পো...      1   \n",
       "\n",
       "                                               rtext  \n",
       "0  ছিলাম বসে কিনে বি এম করে বিক্রি ঘোড়া পাড়া ডি...  \n",
       "1                             । চুল ভরা বুক আছে সাথে  \n",
       "2  । না পারলাম যেতে এড়িয়ে বিষয়টি তাই রঙমিস্ত্র...  "
      ]
     },
     "execution_count": 11,
     "metadata": {},
     "output_type": "execute_result"
    }
   ],
   "source": [
    "print(df.shape)\n",
    "df.head(3)"
   ]
  },
  {
   "cell_type": "markdown",
   "id": "d86895b0",
   "metadata": {
    "papermill": {
     "duration": 0.011699,
     "end_time": "2025-02-22T06:21:34.969502",
     "exception": false,
     "start_time": "2025-02-22T06:21:34.957803",
     "status": "completed"
    },
    "tags": []
   },
   "source": [
    "## Training On MLM"
   ]
  },
  {
   "cell_type": "code",
   "execution_count": 12,
   "id": "6fe44aa1",
   "metadata": {
    "execution": {
     "iopub.execute_input": "2025-02-22T06:21:34.994022Z",
     "iopub.status.busy": "2025-02-22T06:21:34.993783Z",
     "iopub.status.idle": "2025-02-22T06:21:34.999745Z",
     "shell.execute_reply": "2025-02-22T06:21:34.998951Z"
    },
    "papermill": {
     "duration": 0.019689,
     "end_time": "2025-02-22T06:21:35.001056",
     "exception": false,
     "start_time": "2025-02-22T06:21:34.981367",
     "status": "completed"
    },
    "tags": []
   },
   "outputs": [
    {
     "name": "stdout",
     "output_type": "stream",
     "text": [
      "25636\n",
      "25636\n"
     ]
    }
   ],
   "source": [
    "sentences = df.text.values.tolist()\n",
    "\n",
    "labels = df.label.values.tolist()\n",
    "\n",
    "print(len(sentences))\n",
    "\n",
    "print(len(labels))"
   ]
  },
  {
   "cell_type": "code",
   "execution_count": 13,
   "id": "205619dc",
   "metadata": {
    "execution": {
     "iopub.execute_input": "2025-02-22T06:21:35.025491Z",
     "iopub.status.busy": "2025-02-22T06:21:35.025209Z",
     "iopub.status.idle": "2025-02-22T06:21:35.029611Z",
     "shell.execute_reply": "2025-02-22T06:21:35.028807Z"
    },
    "papermill": {
     "duration": 0.017989,
     "end_time": "2025-02-22T06:21:35.030897",
     "exception": false,
     "start_time": "2025-02-22T06:21:35.012908",
     "status": "completed"
    },
    "tags": []
   },
   "outputs": [
    {
     "data": {
      "text/plain": [
       "'শুধু মাত্র এই পোস্টে কমেন্ট করার জন্য বাড়ির এক মাত্র ডিম পাড়া ঘোড়া বিক্রি করে এম বি কিনে বসে ছিলাম'"
      ]
     },
     "execution_count": 13,
     "metadata": {},
     "output_type": "execute_result"
    }
   ],
   "source": [
    "sentences[0]"
   ]
  },
  {
   "cell_type": "code",
   "execution_count": 14,
   "id": "cee404d6",
   "metadata": {
    "execution": {
     "iopub.execute_input": "2025-02-22T06:21:35.055644Z",
     "iopub.status.busy": "2025-02-22T06:21:35.055417Z",
     "iopub.status.idle": "2025-02-22T06:21:35.058470Z",
     "shell.execute_reply": "2025-02-22T06:21:35.057688Z"
    },
    "papermill": {
     "duration": 0.016665,
     "end_time": "2025-02-22T06:21:35.059731",
     "exception": false,
     "start_time": "2025-02-22T06:21:35.043066",
     "status": "completed"
    },
    "tags": []
   },
   "outputs": [],
   "source": [
    "# Specify the model path\n",
    "\n",
    "# model_path = \"csebuetnlp/banglabert_large\"\n",
    "model_path = \"csebuetnlp/banglabert\""
   ]
  },
  {
   "cell_type": "code",
   "execution_count": 15,
   "id": "e9345ab0",
   "metadata": {
    "execution": {
     "iopub.execute_input": "2025-02-22T06:21:35.084582Z",
     "iopub.status.busy": "2025-02-22T06:21:35.084376Z",
     "iopub.status.idle": "2025-02-22T06:21:48.188956Z",
     "shell.execute_reply": "2025-02-22T06:21:48.188298Z"
    },
    "papermill": {
     "duration": 13.118589,
     "end_time": "2025-02-22T06:21:48.190379",
     "exception": false,
     "start_time": "2025-02-22T06:21:35.071790",
     "status": "completed"
    },
    "tags": []
   },
   "outputs": [],
   "source": [
    "# First, disable wandb\n",
    "import os\n",
    "os.environ[\"WANDB_DISABLED\"] = \"true\"\n",
    "os.environ[\"WANDB_MODE\"] = \"disabled\"\n",
    "os.environ[\"WANDB_SILENT\"] = \"true\"\n",
    "\n",
    "# Import required libraries\n",
    "from transformers import (\n",
    "    AutoModelForMaskedLM,\n",
    "    AutoTokenizer,\n",
    "    DataCollatorForLanguageModeling,\n",
    "    Trainer,\n",
    "    TrainingArguments\n",
    ")"
   ]
  },
  {
   "cell_type": "code",
   "execution_count": 16,
   "id": "34935ca1",
   "metadata": {
    "execution": {
     "iopub.execute_input": "2025-02-22T06:21:48.215918Z",
     "iopub.status.busy": "2025-02-22T06:21:48.215437Z",
     "iopub.status.idle": "2025-02-22T06:21:49.485296Z",
     "shell.execute_reply": "2025-02-22T06:21:49.484281Z"
    },
    "papermill": {
     "duration": 1.283908,
     "end_time": "2025-02-22T06:21:49.486749",
     "exception": false,
     "start_time": "2025-02-22T06:21:48.202841",
     "status": "completed"
    },
    "tags": []
   },
   "outputs": [
    {
     "data": {
      "application/vnd.jupyter.widget-view+json": {
       "model_id": "1b69b0e3af9442a6aa68cffc239329fa",
       "version_major": 2,
       "version_minor": 0
      },
      "text/plain": [
       "tokenizer_config.json:   0%|          | 0.00/119 [00:00<?, ?B/s]"
      ]
     },
     "metadata": {},
     "output_type": "display_data"
    },
    {
     "data": {
      "application/vnd.jupyter.widget-view+json": {
       "model_id": "8c4c4b8555b945eb93a6a9828129c9ae",
       "version_major": 2,
       "version_minor": 0
      },
      "text/plain": [
       "config.json:   0%|          | 0.00/586 [00:00<?, ?B/s]"
      ]
     },
     "metadata": {},
     "output_type": "display_data"
    },
    {
     "data": {
      "application/vnd.jupyter.widget-view+json": {
       "model_id": "b05136fc1e3f4af4ac1ae7330f672ae9",
       "version_major": 2,
       "version_minor": 0
      },
      "text/plain": [
       "vocab.txt:   0%|          | 0.00/528k [00:00<?, ?B/s]"
      ]
     },
     "metadata": {},
     "output_type": "display_data"
    },
    {
     "data": {
      "application/vnd.jupyter.widget-view+json": {
       "model_id": "6baae049549f469f8986f56f3fc2dd54",
       "version_major": 2,
       "version_minor": 0
      },
      "text/plain": [
       "special_tokens_map.json:   0%|          | 0.00/112 [00:00<?, ?B/s]"
      ]
     },
     "metadata": {},
     "output_type": "display_data"
    },
    {
     "name": "stderr",
     "output_type": "stream",
     "text": [
      "/usr/local/lib/python3.10/dist-packages/transformers/tokenization_utils_base.py:1601: FutureWarning: `clean_up_tokenization_spaces` was not set. It will be set to `True` by default. This behavior will be depracted in transformers v4.45, and will be then set to `False` by default. For more details check this issue: https://github.com/huggingface/transformers/issues/31884\n",
      "  warnings.warn(\n"
     ]
    }
   ],
   "source": [
    "import torch\n",
    "from datasets import Dataset\n",
    "\n",
    "# Prepare your text data\n",
    "# your_unlabeled_texts = df.parent_comm.values.tolist()\n",
    "\n",
    "# Create dataset\n",
    "# dataset = Dataset.from_dict({\"text\": sentences[:500]})\n",
    "dataset = Dataset.from_dict({\"text\": sentences})\n",
    "\n",
    "\n",
    "# Load tokenizer\n",
    "tokenizer = AutoTokenizer.from_pretrained(model_path)\n",
    "\n",
    "# Tokenize function\n",
    "def tokenize_function(examples):\n",
    "    return tokenizer(\n",
    "        examples[\"text\"],\n",
    "        padding=\"max_length\",\n",
    "        truncation=True,\n",
    "        max_length=64,\n",
    "        return_special_tokens_mask=True\n",
    ")"
   ]
  },
  {
   "cell_type": "code",
   "execution_count": 17,
   "id": "72201d1c",
   "metadata": {
    "execution": {
     "iopub.execute_input": "2025-02-22T06:21:49.512894Z",
     "iopub.status.busy": "2025-02-22T06:21:49.512662Z",
     "iopub.status.idle": "2025-02-22T06:21:49.520757Z",
     "shell.execute_reply": "2025-02-22T06:21:49.520070Z"
    },
    "papermill": {
     "duration": 0.022308,
     "end_time": "2025-02-22T06:21:49.521935",
     "exception": false,
     "start_time": "2025-02-22T06:21:49.499627",
     "status": "completed"
    },
    "tags": []
   },
   "outputs": [
    {
     "name": "stdout",
     "output_type": "stream",
     "text": [
      " Original:  শুধু মাত্র এই পোস্টে কমেন্ট করার জন্য বাড়ির এক মাত্র ডিম পাড়া ঘোড়া বিক্রি করে এম বি কিনে বসে ছিলাম\n",
      "Tokenized:  ['শুধু', 'মাত্র', 'এই', 'পোস্টে', 'কমেন্ট', 'করার', 'জন্য', 'বাড়ির', 'এক', 'মাত্র', 'ডিম', 'পাড়া', 'ঘোড়া', 'বিক্রি', 'করে', 'এম', 'বি', 'কিনে', 'বসে', 'ছিলাম']\n",
      "Token IDs:  [1289, 1768, 830, 12098, 8764, 1121, 900, 2095, 788, 1768, 5270, 9224, 8046, 3149, 792, 1611, 797, 3597, 1346, 3285]\n"
     ]
    }
   ],
   "source": [
    "# Print the original sentence.\n",
    "print(' Original: ', sentences[0])\n",
    "\n",
    "# Print the sentence split into tokens.\n",
    "print('Tokenized: ', tokenizer.tokenize(sentences[0]))\n",
    "\n",
    "# Print the sentence mapped to token ids.\n",
    "print('Token IDs: ', tokenizer.convert_tokens_to_ids(tokenizer.tokenize(sentences[0])))"
   ]
  },
  {
   "cell_type": "code",
   "execution_count": 18,
   "id": "e4216e2a",
   "metadata": {
    "execution": {
     "iopub.execute_input": "2025-02-22T06:21:49.547757Z",
     "iopub.status.busy": "2025-02-22T06:21:49.547538Z",
     "iopub.status.idle": "2025-02-22T06:21:51.656653Z",
     "shell.execute_reply": "2025-02-22T06:21:51.655817Z"
    },
    "papermill": {
     "duration": 2.123397,
     "end_time": "2025-02-22T06:21:51.657988",
     "exception": false,
     "start_time": "2025-02-22T06:21:49.534591",
     "status": "completed"
    },
    "tags": []
   },
   "outputs": [
    {
     "data": {
      "application/vnd.jupyter.widget-view+json": {
       "model_id": "82e67a2f203b47cc9e26c8eff4bcd80a",
       "version_major": 2,
       "version_minor": 0
      },
      "text/plain": [
       "Map:   0%|          | 0/25636 [00:00<?, ? examples/s]"
      ]
     },
     "metadata": {},
     "output_type": "display_data"
    }
   ],
   "source": [
    "# Tokenize dataset\n",
    "tokenized_dataset = dataset.map(\n",
    "    tokenize_function,\n",
    "    batched=True,\n",
    "    remove_columns=dataset.column_names\n",
    ")"
   ]
  },
  {
   "cell_type": "markdown",
   "id": "5c11dad0",
   "metadata": {
    "papermill": {
     "duration": 0.012497,
     "end_time": "2025-02-22T06:21:51.683575",
     "exception": false,
     "start_time": "2025-02-22T06:21:51.671078",
     "status": "completed"
    },
    "tags": []
   },
   "source": [
    "## Load MLM Model"
   ]
  },
  {
   "cell_type": "code",
   "execution_count": 19,
   "id": "e8082fd7",
   "metadata": {
    "execution": {
     "iopub.execute_input": "2025-02-22T06:21:51.709482Z",
     "iopub.status.busy": "2025-02-22T06:21:51.709200Z",
     "iopub.status.idle": "2025-02-22T06:21:51.713180Z",
     "shell.execute_reply": "2025-02-22T06:21:51.712489Z"
    },
    "papermill": {
     "duration": 0.01829,
     "end_time": "2025-02-22T06:21:51.714393",
     "exception": false,
     "start_time": "2025-02-22T06:21:51.696103",
     "status": "completed"
    },
    "tags": []
   },
   "outputs": [
    {
     "name": "stdout",
     "output_type": "stream",
     "text": [
      "csebuetnlp/banglabert\n"
     ]
    }
   ],
   "source": [
    "print(model_path)"
   ]
  },
  {
   "cell_type": "code",
   "execution_count": 20,
   "id": "fe3f2cbb",
   "metadata": {
    "execution": {
     "iopub.execute_input": "2025-02-22T06:21:51.740507Z",
     "iopub.status.busy": "2025-02-22T06:21:51.740294Z",
     "iopub.status.idle": "2025-02-22T06:21:54.643279Z",
     "shell.execute_reply": "2025-02-22T06:21:54.642505Z"
    },
    "papermill": {
     "duration": 2.917564,
     "end_time": "2025-02-22T06:21:54.644720",
     "exception": false,
     "start_time": "2025-02-22T06:21:51.727156",
     "status": "completed"
    },
    "tags": []
   },
   "outputs": [
    {
     "data": {
      "application/vnd.jupyter.widget-view+json": {
       "model_id": "c0a02987144547a99a4dbe4e2bbe2b7d",
       "version_major": 2,
       "version_minor": 0
      },
      "text/plain": [
       "pytorch_model.bin:   0%|          | 0.00/443M [00:00<?, ?B/s]"
      ]
     },
     "metadata": {},
     "output_type": "display_data"
    },
    {
     "name": "stderr",
     "output_type": "stream",
     "text": [
      "Some weights of ElectraForMaskedLM were not initialized from the model checkpoint at csebuetnlp/banglabert and are newly initialized: ['generator_lm_head.bias', 'generator_predictions.LayerNorm.bias', 'generator_predictions.LayerNorm.weight', 'generator_predictions.dense.bias', 'generator_predictions.dense.weight']\n",
      "You should probably TRAIN this model on a down-stream task to be able to use it for predictions and inference.\n"
     ]
    },
    {
     "data": {
      "text/plain": [
       "ElectraForMaskedLM(\n",
       "  (electra): ElectraModel(\n",
       "    (embeddings): ElectraEmbeddings(\n",
       "      (word_embeddings): Embedding(32000, 768, padding_idx=0)\n",
       "      (position_embeddings): Embedding(512, 768)\n",
       "      (token_type_embeddings): Embedding(2, 768)\n",
       "      (LayerNorm): LayerNorm((768,), eps=1e-12, elementwise_affine=True)\n",
       "      (dropout): Dropout(p=0.1, inplace=False)\n",
       "    )\n",
       "    (encoder): ElectraEncoder(\n",
       "      (layer): ModuleList(\n",
       "        (0-11): 12 x ElectraLayer(\n",
       "          (attention): ElectraAttention(\n",
       "            (self): ElectraSelfAttention(\n",
       "              (query): Linear(in_features=768, out_features=768, bias=True)\n",
       "              (key): Linear(in_features=768, out_features=768, bias=True)\n",
       "              (value): Linear(in_features=768, out_features=768, bias=True)\n",
       "              (dropout): Dropout(p=0.1, inplace=False)\n",
       "            )\n",
       "            (output): ElectraSelfOutput(\n",
       "              (dense): Linear(in_features=768, out_features=768, bias=True)\n",
       "              (LayerNorm): LayerNorm((768,), eps=1e-12, elementwise_affine=True)\n",
       "              (dropout): Dropout(p=0.1, inplace=False)\n",
       "            )\n",
       "          )\n",
       "          (intermediate): ElectraIntermediate(\n",
       "            (dense): Linear(in_features=768, out_features=3072, bias=True)\n",
       "            (intermediate_act_fn): GELUActivation()\n",
       "          )\n",
       "          (output): ElectraOutput(\n",
       "            (dense): Linear(in_features=3072, out_features=768, bias=True)\n",
       "            (LayerNorm): LayerNorm((768,), eps=1e-12, elementwise_affine=True)\n",
       "            (dropout): Dropout(p=0.1, inplace=False)\n",
       "          )\n",
       "        )\n",
       "      )\n",
       "    )\n",
       "  )\n",
       "  (generator_predictions): ElectraGeneratorPredictions(\n",
       "    (activation): GELUActivation()\n",
       "    (LayerNorm): LayerNorm((768,), eps=1e-12, elementwise_affine=True)\n",
       "    (dense): Linear(in_features=768, out_features=768, bias=True)\n",
       "  )\n",
       "  (generator_lm_head): Linear(in_features=768, out_features=32000, bias=True)\n",
       ")"
      ]
     },
     "execution_count": 20,
     "metadata": {},
     "output_type": "execute_result"
    }
   ],
   "source": [
    "# Load model for MLM\n",
    "mlm_model = AutoModelForMaskedLM.from_pretrained(model_path)\n",
    "# Create data collator\n",
    "data_collator = DataCollatorForLanguageModeling(\n",
    "    tokenizer=tokenizer,\n",
    "    mlm=True,\n",
    "    mlm_probability=0.15\n",
    ")\n",
    "\n",
    "mlm_model"
   ]
  },
  {
   "cell_type": "code",
   "execution_count": 21,
   "id": "58621e5a",
   "metadata": {
    "execution": {
     "iopub.execute_input": "2025-02-22T06:21:54.672116Z",
     "iopub.status.busy": "2025-02-22T06:21:54.671867Z",
     "iopub.status.idle": "2025-02-22T06:21:54.675073Z",
     "shell.execute_reply": "2025-02-22T06:21:54.674289Z"
    },
    "papermill": {
     "duration": 0.01823,
     "end_time": "2025-02-22T06:21:54.676426",
     "exception": false,
     "start_time": "2025-02-22T06:21:54.658196",
     "status": "completed"
    },
    "tags": []
   },
   "outputs": [],
   "source": [
    "Epochs = 5"
   ]
  },
  {
   "cell_type": "code",
   "execution_count": 22,
   "id": "e946a759",
   "metadata": {
    "execution": {
     "iopub.execute_input": "2025-02-22T06:21:54.703475Z",
     "iopub.status.busy": "2025-02-22T06:21:54.703219Z",
     "iopub.status.idle": "2025-02-22T06:21:54.851579Z",
     "shell.execute_reply": "2025-02-22T06:21:54.850651Z"
    },
    "papermill": {
     "duration": 0.163325,
     "end_time": "2025-02-22T06:21:54.853155",
     "exception": false,
     "start_time": "2025-02-22T06:21:54.689830",
     "status": "completed"
    },
    "tags": []
   },
   "outputs": [],
   "source": [
    "# Setup training arguments without automatic saving.\n",
    "training_args = TrainingArguments(\n",
    "    output_dir=\"./mlm_pretrained_model\",  # still required for logs etc.\n",
    "    report_to=[],                         # Disable all integrations\n",
    "    num_train_epochs=Epochs,\n",
    "    per_device_train_batch_size=16,\n",
    "    save_strategy=\"no\",                   # Disable automatic saving\n",
    "    logging_strategy=\"epoch\",\n",
    "    learning_rate=5e-5,\n",
    "    weight_decay=0.01,\n",
    ")"
   ]
  },
  {
   "cell_type": "code",
   "execution_count": 23,
   "id": "d7216eb9",
   "metadata": {
    "execution": {
     "iopub.execute_input": "2025-02-22T06:21:54.880525Z",
     "iopub.status.busy": "2025-02-22T06:21:54.880282Z",
     "iopub.status.idle": "2025-02-22T06:21:55.224733Z",
     "shell.execute_reply": "2025-02-22T06:21:55.224028Z"
    },
    "papermill": {
     "duration": 0.359357,
     "end_time": "2025-02-22T06:21:55.226166",
     "exception": false,
     "start_time": "2025-02-22T06:21:54.866809",
     "status": "completed"
    },
    "tags": []
   },
   "outputs": [],
   "source": [
    "# Initialize trainer\n",
    "trainer = Trainer(\n",
    "    model=mlm_model,\n",
    "    args=training_args,\n",
    "    train_dataset=tokenized_dataset,\n",
    "    data_collator=data_collator,\n",
    ")"
   ]
  },
  {
   "cell_type": "code",
   "execution_count": 24,
   "id": "cc0833f7",
   "metadata": {
    "execution": {
     "iopub.execute_input": "2025-02-22T06:21:55.253546Z",
     "iopub.status.busy": "2025-02-22T06:21:55.253316Z",
     "iopub.status.idle": "2025-02-22T06:47:11.159894Z",
     "shell.execute_reply": "2025-02-22T06:47:11.158973Z"
    },
    "papermill": {
     "duration": 1515.92138,
     "end_time": "2025-02-22T06:47:11.161183",
     "exception": false,
     "start_time": "2025-02-22T06:21:55.239803",
     "status": "completed"
    },
    "tags": []
   },
   "outputs": [
    {
     "name": "stderr",
     "output_type": "stream",
     "text": [
      "/usr/local/lib/python3.10/dist-packages/torch/nn/parallel/_functions.py:68: UserWarning: Was asked to gather along dimension 0, but all input tensors were scalars; will instead unsqueeze and return a vector.\n",
      "  warnings.warn('Was asked to gather along dimension 0, but all '\n"
     ]
    },
    {
     "data": {
      "text/html": [
       "\n",
       "    <div>\n",
       "      \n",
       "      <progress value='4010' max='4010' style='width:300px; height:20px; vertical-align: middle;'></progress>\n",
       "      [4010/4010 25:13, Epoch 5/5]\n",
       "    </div>\n",
       "    <table border=\"1\" class=\"dataframe\">\n",
       "  <thead>\n",
       " <tr style=\"text-align: left;\">\n",
       "      <th>Step</th>\n",
       "      <th>Training Loss</th>\n",
       "    </tr>\n",
       "  </thead>\n",
       "  <tbody>\n",
       "    <tr>\n",
       "      <td>802</td>\n",
       "      <td>6.926400</td>\n",
       "    </tr>\n",
       "    <tr>\n",
       "      <td>1604</td>\n",
       "      <td>5.716700</td>\n",
       "    </tr>\n",
       "    <tr>\n",
       "      <td>2406</td>\n",
       "      <td>5.303400</td>\n",
       "    </tr>\n",
       "    <tr>\n",
       "      <td>3208</td>\n",
       "      <td>5.063800</td>\n",
       "    </tr>\n",
       "    <tr>\n",
       "      <td>4010</td>\n",
       "      <td>4.930400</td>\n",
       "    </tr>\n",
       "  </tbody>\n",
       "</table><p>"
      ],
      "text/plain": [
       "<IPython.core.display.HTML object>"
      ]
     },
     "metadata": {},
     "output_type": "display_data"
    },
    {
     "data": {
      "text/plain": [
       "TrainOutput(global_step=4010, training_loss=5.5881522999142765, metrics={'train_runtime': 1514.7898, 'train_samples_per_second': 84.619, 'train_steps_per_second': 2.647, 'total_flos': 4217271861903360.0, 'train_loss': 5.5881522999142765, 'epoch': 5.0})"
      ]
     },
     "execution_count": 24,
     "metadata": {},
     "output_type": "execute_result"
    }
   ],
   "source": [
    "# Start Training\n",
    "trainer.train()"
   ]
  },
  {
   "cell_type": "code",
   "execution_count": 25,
   "id": "80d92d54",
   "metadata": {
    "execution": {
     "iopub.execute_input": "2025-02-22T06:47:11.190656Z",
     "iopub.status.busy": "2025-02-22T06:47:11.190342Z",
     "iopub.status.idle": "2025-02-22T06:47:11.828977Z",
     "shell.execute_reply": "2025-02-22T06:47:11.827919Z"
    },
    "papermill": {
     "duration": 0.655311,
     "end_time": "2025-02-22T06:47:11.830433",
     "exception": false,
     "start_time": "2025-02-22T06:47:11.175122",
     "status": "completed"
    },
    "tags": []
   },
   "outputs": [
    {
     "name": "stdout",
     "output_type": "stream",
     "text": [
      "Model saved to ./mlm_pretrained_model (all tensors are now contiguous)\n"
     ]
    }
   ],
   "source": [
    "# Save the model\n",
    "\n",
    "import os\n",
    "import torch\n",
    "\n",
    "def save_model_contiguous(model, output_dir):\n",
    "    os.makedirs(output_dir, exist_ok=True)\n",
    "    state_dict = model.state_dict()\n",
    "    contiguous_state_dict = {k: v.contiguous() for k, v in state_dict.items()}\n",
    "    torch.save(contiguous_state_dict, os.path.join(output_dir, \"pytorch_model.bin\"))\n",
    "    # If your model has a configuration saved, also save it:\n",
    "    if hasattr(model, \"config\"):\n",
    "        model.config.save_pretrained(output_dir)\n",
    "    print(f\"Model saved to {output_dir} (all tensors are now contiguous)\")\n",
    "\n",
    "# Example usage:\n",
    "output_dir = \"./mlm_pretrained_model\"\n",
    "save_model_contiguous(mlm_model, output_dir)\n",
    "\n",
    "\n",
    "# trainer.save_model(\"./mlm_pretrained_model\")"
   ]
  },
  {
   "cell_type": "code",
   "execution_count": 26,
   "id": "4603fe40",
   "metadata": {
    "execution": {
     "iopub.execute_input": "2025-02-22T06:47:11.859356Z",
     "iopub.status.busy": "2025-02-22T06:47:11.859000Z",
     "iopub.status.idle": "2025-02-22T06:47:11.862689Z",
     "shell.execute_reply": "2025-02-22T06:47:11.861933Z"
    },
    "papermill": {
     "duration": 0.019251,
     "end_time": "2025-02-22T06:47:11.863858",
     "exception": false,
     "start_time": "2025-02-22T06:47:11.844607",
     "status": "completed"
    },
    "tags": []
   },
   "outputs": [],
   "source": [
    "# from transformers import AutoModelForSequenceClassification, AutoTokenizer\n",
    "\n",
    "# # Now you can load this for classification\n",
    "# model = AutoModelForSequenceClassification.from_pretrained(\n",
    "#     \"./mlm_pretrained_model\",\n",
    "#     num_labels=2,\n",
    "#     output_attentions=False,\n",
    "#     output_hidden_states=False,\n",
    "# )\n",
    "\n",
    "new_model_path = \"/kaggle/working/mlm_pretrained_model\""
   ]
  },
  {
   "cell_type": "code",
   "execution_count": 27,
   "id": "0788f22b",
   "metadata": {
    "execution": {
     "iopub.execute_input": "2025-02-22T06:47:11.891646Z",
     "iopub.status.busy": "2025-02-22T06:47:11.891353Z",
     "iopub.status.idle": "2025-02-22T06:47:11.894733Z",
     "shell.execute_reply": "2025-02-22T06:47:11.893914Z"
    },
    "papermill": {
     "duration": 0.018797,
     "end_time": "2025-02-22T06:47:11.896015",
     "exception": false,
     "start_time": "2025-02-22T06:47:11.877218",
     "status": "completed"
    },
    "tags": []
   },
   "outputs": [],
   "source": [
    "# import pandas as pd\n",
    "# import json\n",
    "\n",
    "# # Read the JSONL file\n",
    "# data_train = []\n",
    "# with open('/kaggle/input/sarcasm/sarcasm_detection_shared_task_reddit_training.jsonl', 'r') as f:\n",
    "#     for line in f:\n",
    "#         # Parse each line as JSON and append to list\n",
    "#         data_train.append(json.loads(line))\n",
    "# data_twitter_df = pd.DataFrame(data_train)\n",
    "# # Convert list of dictionaries to Data"
   ]
  },
  {
   "cell_type": "code",
   "execution_count": 28,
   "id": "e4ae4eb4",
   "metadata": {
    "execution": {
     "iopub.execute_input": "2025-02-22T06:47:11.924165Z",
     "iopub.status.busy": "2025-02-22T06:47:11.923860Z",
     "iopub.status.idle": "2025-02-22T06:47:11.926943Z",
     "shell.execute_reply": "2025-02-22T06:47:11.926331Z"
    },
    "papermill": {
     "duration": 0.018454,
     "end_time": "2025-02-22T06:47:11.928175",
     "exception": false,
     "start_time": "2025-02-22T06:47:11.909721",
     "status": "completed"
    },
    "tags": []
   },
   "outputs": [],
   "source": [
    "# data_twitter_df['label']=data_twitter_df['label'].map({'SARCASM':0,'NOT_SARCASM':1})\n",
    "# data_twitter_df=data_twitter_df.rename(columns={'context':'parent_comment','response':'comment'})"
   ]
  },
  {
   "cell_type": "code",
   "execution_count": 29,
   "id": "63a17921",
   "metadata": {
    "execution": {
     "iopub.execute_input": "2025-02-22T06:47:11.956301Z",
     "iopub.status.busy": "2025-02-22T06:47:11.955946Z",
     "iopub.status.idle": "2025-02-22T06:47:11.959172Z",
     "shell.execute_reply": "2025-02-22T06:47:11.958522Z"
    },
    "papermill": {
     "duration": 0.018719,
     "end_time": "2025-02-22T06:47:11.960333",
     "exception": false,
     "start_time": "2025-02-22T06:47:11.941614",
     "status": "completed"
    },
    "tags": []
   },
   "outputs": [],
   "source": [
    "# data_twitter_df.head(3)"
   ]
  },
  {
   "cell_type": "code",
   "execution_count": 30,
   "id": "83ddb14e",
   "metadata": {
    "execution": {
     "iopub.execute_input": "2025-02-22T06:47:11.988523Z",
     "iopub.status.busy": "2025-02-22T06:47:11.988153Z",
     "iopub.status.idle": "2025-02-22T06:47:11.991414Z",
     "shell.execute_reply": "2025-02-22T06:47:11.990714Z"
    },
    "papermill": {
     "duration": 0.018689,
     "end_time": "2025-02-22T06:47:11.992759",
     "exception": false,
     "start_time": "2025-02-22T06:47:11.974070",
     "status": "completed"
    },
    "tags": []
   },
   "outputs": [],
   "source": [
    "# data_twitter_df['comment']=data_twitter_df['comment'].astype(str)\n",
    "# data_twitter_df['parent_comment']=data_twitter_df['parent_comment'].astype(str)"
   ]
  },
  {
   "cell_type": "code",
   "execution_count": 31,
   "id": "be2f0fc8",
   "metadata": {
    "execution": {
     "iopub.execute_input": "2025-02-22T06:47:12.021070Z",
     "iopub.status.busy": "2025-02-22T06:47:12.020778Z",
     "iopub.status.idle": "2025-02-22T06:47:12.027572Z",
     "shell.execute_reply": "2025-02-22T06:47:12.026869Z"
    },
    "papermill": {
     "duration": 0.022367,
     "end_time": "2025-02-22T06:47:12.028723",
     "exception": false,
     "start_time": "2025-02-22T06:47:12.006356",
     "status": "completed"
    },
    "tags": []
   },
   "outputs": [],
   "source": [
    "import torch\n",
    "from torch.utils.data import Dataset\n",
    "\n",
    "class MultiFeatureDataset(Dataset):\n",
    "    def __init__(self, dataframe, tokenizer, max_len):\n",
    "        self.tokenizer = tokenizer\n",
    "        self.data = dataframe\n",
    "        self.comment = dataframe['comment']\n",
    "        self.parent=dataframe['parent_comment']\n",
    "        self.labels = dataframe.label\n",
    "        self.max_len = max_len\n",
    "\n",
    "    def __len__(self):\n",
    "        return len(self.data)\n",
    "    \n",
    "    def __getitem__(self, index):\n",
    "        if index >= len(self.data):\n",
    "            raise IndexError(f\"Index {index} out of range\")\n",
    "        comment = str(self.comment.iloc[index])\n",
    "        parent = str(self.parent.iloc[index])\n",
    "        label = self.labels.iloc[index]\n",
    "\n",
    "\n",
    " \n",
    "        comment_encoding = self.tokenizer.encode_plus(\n",
    "            comment,\n",
    "            add_special_tokens=True,\n",
    "            max_length=self.max_len,\n",
    "            return_token_type_ids=False,\n",
    "            padding='max_length',\n",
    "            truncation=True,\n",
    "            return_attention_mask=True,\n",
    "            return_tensors='pt',\n",
    "        )\n",
    "\n",
    "        parent_encoding = self.tokenizer.encode_plus(\n",
    "            parent,\n",
    "            add_special_tokens=True,\n",
    "            max_length=self.max_len,\n",
    "            return_token_type_ids=False,\n",
    "            padding='max_length',\n",
    "            truncation=True,\n",
    "            return_attention_mask=True,\n",
    "            return_tensors='pt',\n",
    "        )\n",
    "\n",
    "        return {\n",
    "        'input_ids1': parent_encoding['input_ids'].flatten(),\n",
    "        'attention_mask1': parent_encoding['attention_mask'].flatten(),\n",
    "        'input_ids2': comment_encoding['input_ids'].flatten(),\n",
    "        'attention_mask2': comment_encoding['attention_mask'].flatten(),\n",
    "        'labels': torch.tensor(label, dtype=torch.long)\n",
    "    }"
   ]
  },
  {
   "cell_type": "code",
   "execution_count": 32,
   "id": "92490095",
   "metadata": {
    "execution": {
     "iopub.execute_input": "2025-02-22T06:47:12.056748Z",
     "iopub.status.busy": "2025-02-22T06:47:12.056437Z",
     "iopub.status.idle": "2025-02-22T06:47:12.059599Z",
     "shell.execute_reply": "2025-02-22T06:47:12.058912Z"
    },
    "papermill": {
     "duration": 0.018529,
     "end_time": "2025-02-22T06:47:12.060830",
     "exception": false,
     "start_time": "2025-02-22T06:47:12.042301",
     "status": "completed"
    },
    "tags": []
   },
   "outputs": [],
   "source": [
    "# print(data_twitter_df.shape)\n",
    "# data_twitter_df.head(3)"
   ]
  },
  {
   "cell_type": "code",
   "execution_count": 33,
   "id": "3c9d0ee6",
   "metadata": {
    "execution": {
     "iopub.execute_input": "2025-02-22T06:47:12.088738Z",
     "iopub.status.busy": "2025-02-22T06:47:12.088475Z",
     "iopub.status.idle": "2025-02-22T06:47:12.097584Z",
     "shell.execute_reply": "2025-02-22T06:47:12.096895Z"
    },
    "papermill": {
     "duration": 0.024264,
     "end_time": "2025-02-22T06:47:12.098765",
     "exception": false,
     "start_time": "2025-02-22T06:47:12.074501",
     "status": "completed"
    },
    "tags": []
   },
   "outputs": [
    {
     "data": {
      "text/html": [
       "<div>\n",
       "<style scoped>\n",
       "    .dataframe tbody tr th:only-of-type {\n",
       "        vertical-align: middle;\n",
       "    }\n",
       "\n",
       "    .dataframe tbody tr th {\n",
       "        vertical-align: top;\n",
       "    }\n",
       "\n",
       "    .dataframe thead th {\n",
       "        text-align: right;\n",
       "    }\n",
       "</style>\n",
       "<table border=\"1\" class=\"dataframe\">\n",
       "  <thead>\n",
       "    <tr style=\"text-align: right;\">\n",
       "      <th></th>\n",
       "      <th>id</th>\n",
       "      <th>parent_comment</th>\n",
       "      <th>label</th>\n",
       "      <th>comment</th>\n",
       "    </tr>\n",
       "  </thead>\n",
       "  <tbody>\n",
       "    <tr>\n",
       "      <th>0</th>\n",
       "      <td>0</td>\n",
       "      <td>শুধু মাত্র এই পোস্টে কমেন্ট করার জন্য বাড়ির এ...</td>\n",
       "      <td>1</td>\n",
       "      <td>ছিলাম বসে কিনে বি এম করে বিক্রি ঘোড়া পাড়া ডি...</td>\n",
       "    </tr>\n",
       "    <tr>\n",
       "      <th>1</th>\n",
       "      <td>2</td>\n",
       "      <td>সাথে আছে বুক ভরা চুল ।</td>\n",
       "      <td>1</td>\n",
       "      <td>। চুল ভরা বুক আছে সাথে</td>\n",
       "    </tr>\n",
       "    <tr>\n",
       "      <th>2</th>\n",
       "      <td>4</td>\n",
       "      <td>ভাই মিথ্যা কথা বইলেন না আপনি ভিপিএন ইউজ করে পো...</td>\n",
       "      <td>1</td>\n",
       "      <td>। না পারলাম যেতে এড়িয়ে বিষয়টি তাই রঙমিস্ত্র...</td>\n",
       "    </tr>\n",
       "  </tbody>\n",
       "</table>\n",
       "</div>"
      ],
      "text/plain": [
       "   id                                     parent_comment  label  \\\n",
       "0   0  শুধু মাত্র এই পোস্টে কমেন্ট করার জন্য বাড়ির এ...      1   \n",
       "1   2                             সাথে আছে বুক ভরা চুল ।      1   \n",
       "2   4  ভাই মিথ্যা কথা বইলেন না আপনি ভিপিএন ইউজ করে পো...      1   \n",
       "\n",
       "                                             comment  \n",
       "0  ছিলাম বসে কিনে বি এম করে বিক্রি ঘোড়া পাড়া ডি...  \n",
       "1                             । চুল ভরা বুক আছে সাথে  \n",
       "2  । না পারলাম যেতে এড়িয়ে বিষয়টি তাই রঙমিস্ত্র...  "
      ]
     },
     "execution_count": 33,
     "metadata": {},
     "output_type": "execute_result"
    }
   ],
   "source": [
    "# df.rename(columns={\"Polarity\": \"label\"}, inplace=True)\n",
    "df.rename(columns={\"text\": \"parent_comment\"}, inplace=True)\n",
    "df.rename(columns={\"rtext\": \"comment\"}, inplace=True)\n",
    "\n",
    "df.head(3)"
   ]
  },
  {
   "cell_type": "code",
   "execution_count": 34,
   "id": "a4d3dd63",
   "metadata": {
    "execution": {
     "iopub.execute_input": "2025-02-22T06:47:12.126978Z",
     "iopub.status.busy": "2025-02-22T06:47:12.126708Z",
     "iopub.status.idle": "2025-02-22T06:47:12.134484Z",
     "shell.execute_reply": "2025-02-22T06:47:12.133537Z"
    },
    "papermill": {
     "duration": 0.023447,
     "end_time": "2025-02-22T06:47:12.135906",
     "exception": false,
     "start_time": "2025-02-22T06:47:12.112459",
     "status": "completed"
    },
    "tags": []
   },
   "outputs": [],
   "source": [
    "data_twitter_df = df.copy()"
   ]
  },
  {
   "cell_type": "code",
   "execution_count": 35,
   "id": "03b889ec",
   "metadata": {
    "execution": {
     "iopub.execute_input": "2025-02-22T06:47:12.165616Z",
     "iopub.status.busy": "2025-02-22T06:47:12.165322Z",
     "iopub.status.idle": "2025-02-22T06:47:12.173595Z",
     "shell.execute_reply": "2025-02-22T06:47:12.172888Z"
    },
    "papermill": {
     "duration": 0.023961,
     "end_time": "2025-02-22T06:47:12.174784",
     "exception": false,
     "start_time": "2025-02-22T06:47:12.150823",
     "status": "completed"
    },
    "tags": []
   },
   "outputs": [],
   "source": [
    "n_samples = 1000  # Change this as needed\n",
    "\n",
    "sampled_df = data_twitter_df.sample(n=n_samples, random_state=42) if len(data_twitter_df) > n_samples else data_twitter_df"
   ]
  },
  {
   "cell_type": "code",
   "execution_count": 36,
   "id": "2dd45d78",
   "metadata": {
    "execution": {
     "iopub.execute_input": "2025-02-22T06:47:12.203151Z",
     "iopub.status.busy": "2025-02-22T06:47:12.202896Z",
     "iopub.status.idle": "2025-02-22T06:47:12.216252Z",
     "shell.execute_reply": "2025-02-22T06:47:12.215470Z"
    },
    "papermill": {
     "duration": 0.028788,
     "end_time": "2025-02-22T06:47:12.217466",
     "exception": false,
     "start_time": "2025-02-22T06:47:12.188678",
     "status": "completed"
    },
    "tags": []
   },
   "outputs": [
    {
     "name": "stdout",
     "output_type": "stream",
     "text": [
      "20508 5128\n"
     ]
    }
   ],
   "source": [
    "from sklearn.model_selection import train_test_split\n",
    "\n",
    "train_df, eval_df = train_test_split(data_twitter_df, test_size=0.2, random_state=42, stratify=data_twitter_df['label'])\n",
    "\n",
    "print(len(train_df), len(eval_df))"
   ]
  },
  {
   "cell_type": "code",
   "execution_count": 37,
   "id": "b32c0971",
   "metadata": {
    "execution": {
     "iopub.execute_input": "2025-02-22T06:47:12.245701Z",
     "iopub.status.busy": "2025-02-22T06:47:12.245428Z",
     "iopub.status.idle": "2025-02-22T06:47:12.253092Z",
     "shell.execute_reply": "2025-02-22T06:47:12.252384Z"
    },
    "papermill": {
     "duration": 0.023259,
     "end_time": "2025-02-22T06:47:12.254418",
     "exception": false,
     "start_time": "2025-02-22T06:47:12.231159",
     "status": "completed"
    },
    "tags": []
   },
   "outputs": [
    {
     "data": {
      "text/html": [
       "<div>\n",
       "<style scoped>\n",
       "    .dataframe tbody tr th:only-of-type {\n",
       "        vertical-align: middle;\n",
       "    }\n",
       "\n",
       "    .dataframe tbody tr th {\n",
       "        vertical-align: top;\n",
       "    }\n",
       "\n",
       "    .dataframe thead th {\n",
       "        text-align: right;\n",
       "    }\n",
       "</style>\n",
       "<table border=\"1\" class=\"dataframe\">\n",
       "  <thead>\n",
       "    <tr style=\"text-align: right;\">\n",
       "      <th></th>\n",
       "      <th>id</th>\n",
       "      <th>parent_comment</th>\n",
       "      <th>label</th>\n",
       "      <th>comment</th>\n",
       "    </tr>\n",
       "  </thead>\n",
       "  <tbody>\n",
       "    <tr>\n",
       "      <th>24108</th>\n",
       "      <td>24487</td>\n",
       "      <td>আমার ভাই এবং বাবাকে নিয়ে নােয়াখালী সদর থানায...</td>\n",
       "      <td>0</td>\n",
       "      <td>। পারেনি দিতে সন্ধান কোন আমাকে তারা চাইলে সন্ধ...</td>\n",
       "    </tr>\n",
       "    <tr>\n",
       "      <th>16703</th>\n",
       "      <td>11100</td>\n",
       "      <td>যদি ডট বল করাতে চাও তবে আমাকে ডাকো সুনীল নারিন...</td>\n",
       "      <td>0</td>\n",
       "      <td>। পানি বোতল এক ভিতর মরুভুমির । ছেলে সোনার আমাদ...</td>\n",
       "    </tr>\n",
       "    <tr>\n",
       "      <th>9138</th>\n",
       "      <td>22963</td>\n",
       "      <td>কেউ অক্সিজেন না পেয়ে মরে আর কেউ বিয়ে করে মরে ।</td>\n",
       "      <td>1</td>\n",
       "      <td>। মরে করে বিয়ে কেউ আর মরে পেয়ে না অক্সিজেন কেউ</td>\n",
       "    </tr>\n",
       "  </tbody>\n",
       "</table>\n",
       "</div>"
      ],
      "text/plain": [
       "          id                                     parent_comment  label  \\\n",
       "24108  24487  আমার ভাই এবং বাবাকে নিয়ে নােয়াখালী সদর থানায...      0   \n",
       "16703  11100  যদি ডট বল করাতে চাও তবে আমাকে ডাকো সুনীল নারিন...      0   \n",
       "9138   22963   কেউ অক্সিজেন না পেয়ে মরে আর কেউ বিয়ে করে মরে ।      1   \n",
       "\n",
       "                                                 comment  \n",
       "24108  । পারেনি দিতে সন্ধান কোন আমাকে তারা চাইলে সন্ধ...  \n",
       "16703  । পানি বোতল এক ভিতর মরুভুমির । ছেলে সোনার আমাদ...  \n",
       "9138    । মরে করে বিয়ে কেউ আর মরে পেয়ে না অক্সিজেন কেউ  "
      ]
     },
     "execution_count": 37,
     "metadata": {},
     "output_type": "execute_result"
    }
   ],
   "source": [
    "train_df.head(3)"
   ]
  },
  {
   "cell_type": "code",
   "execution_count": 38,
   "id": "c487b0d9",
   "metadata": {
    "execution": {
     "iopub.execute_input": "2025-02-22T06:47:12.282883Z",
     "iopub.status.busy": "2025-02-22T06:47:12.282625Z",
     "iopub.status.idle": "2025-02-22T06:47:12.288552Z",
     "shell.execute_reply": "2025-02-22T06:47:12.287703Z"
    },
    "papermill": {
     "duration": 0.021472,
     "end_time": "2025-02-22T06:47:12.289752",
     "exception": false,
     "start_time": "2025-02-22T06:47:12.268280",
     "status": "completed"
    },
    "tags": []
   },
   "outputs": [
    {
     "data": {
      "text/plain": [
       "label\n",
       "0    10254\n",
       "1    10254\n",
       "Name: count, dtype: int64"
      ]
     },
     "execution_count": 38,
     "metadata": {},
     "output_type": "execute_result"
    }
   ],
   "source": [
    "train_df.label.value_counts()"
   ]
  },
  {
   "cell_type": "code",
   "execution_count": 39,
   "id": "dcd8aa25",
   "metadata": {
    "execution": {
     "iopub.execute_input": "2025-02-22T06:47:12.318202Z",
     "iopub.status.busy": "2025-02-22T06:47:12.317939Z",
     "iopub.status.idle": "2025-02-22T06:47:12.323578Z",
     "shell.execute_reply": "2025-02-22T06:47:12.322820Z"
    },
    "papermill": {
     "duration": 0.021203,
     "end_time": "2025-02-22T06:47:12.324835",
     "exception": false,
     "start_time": "2025-02-22T06:47:12.303632",
     "status": "completed"
    },
    "tags": []
   },
   "outputs": [
    {
     "data": {
      "text/plain": [
       "label\n",
       "1    2564\n",
       "0    2564\n",
       "Name: count, dtype: int64"
      ]
     },
     "execution_count": 39,
     "metadata": {},
     "output_type": "execute_result"
    }
   ],
   "source": [
    "eval_df.label.value_counts()"
   ]
  },
  {
   "cell_type": "code",
   "execution_count": 40,
   "id": "5bd041db",
   "metadata": {
    "execution": {
     "iopub.execute_input": "2025-02-22T06:47:12.353807Z",
     "iopub.status.busy": "2025-02-22T06:47:12.353514Z",
     "iopub.status.idle": "2025-02-22T06:47:12.358210Z",
     "shell.execute_reply": "2025-02-22T06:47:12.357417Z"
    },
    "papermill": {
     "duration": 0.020267,
     "end_time": "2025-02-22T06:47:12.359386",
     "exception": false,
     "start_time": "2025-02-22T06:47:12.339119",
     "status": "completed"
    },
    "tags": []
   },
   "outputs": [
    {
     "data": {
      "text/plain": [
       "768"
      ]
     },
     "execution_count": 40,
     "metadata": {},
     "output_type": "execute_result"
    }
   ],
   "source": [
    "mlm_model.config.hidden_size"
   ]
  },
  {
   "cell_type": "code",
   "execution_count": 41,
   "id": "af376203",
   "metadata": {
    "execution": {
     "iopub.execute_input": "2025-02-22T06:47:12.388004Z",
     "iopub.status.busy": "2025-02-22T06:47:12.387718Z",
     "iopub.status.idle": "2025-02-22T06:47:12.398296Z",
     "shell.execute_reply": "2025-02-22T06:47:12.397386Z"
    },
    "papermill": {
     "duration": 0.026218,
     "end_time": "2025-02-22T06:47:12.399483",
     "exception": false,
     "start_time": "2025-02-22T06:47:12.373265",
     "status": "completed"
    },
    "tags": []
   },
   "outputs": [],
   "source": [
    "from transformers import AutoConfig, AutoModel, AutoTokenizer, logging\n",
    "import torch\n",
    "import torch.nn as nn\n",
    "\n",
    "# Suppress unnecessary warnings\n",
    "logging.set_verbosity_error()\n",
    "\n",
    "class CustomEncoderLayer(nn.Module):\n",
    "    def __init__(self, hidden_size, num_attention_heads, dropout_rate=0.3):\n",
    "        super(CustomEncoderLayer, self).__init__()\n",
    "        self.self_attention = nn.MultiheadAttention(hidden_size, num_attention_heads, dropout=dropout_rate)\n",
    "        self.cross_attention = nn.MultiheadAttention(hidden_size, num_attention_heads, dropout=dropout_rate)\n",
    "        self.feed_forward = nn.Sequential(\n",
    "            nn.Linear(hidden_size, hidden_size * 4),\n",
    "            nn.ReLU(),\n",
    "            nn.Linear(hidden_size * 4, hidden_size)\n",
    "        )\n",
    "        self.layer_norm1 = nn.LayerNorm(hidden_size)\n",
    "        self.layer_norm2 = nn.LayerNorm(hidden_size)\n",
    "        self.layer_norm3 = nn.LayerNorm(hidden_size)\n",
    "        self.dropout = nn.Dropout(dropout_rate)\n",
    "\n",
    "    def forward(self, x, y, x_mask, y_mask):\n",
    "        # Self-attention on x\n",
    "        temp1 = x\n",
    "        self_attn_output, _ = self.self_attention(x, x, x)\n",
    "        x = self.layer_norm1(temp1 + self.dropout(self_attn_output))\n",
    "        \n",
    "        # Cross-attention from x to y\n",
    "        cross_attn_output, cross_attn_weights = self.cross_attention(x, y, y)\n",
    "        x = self.layer_norm2(temp1 + self.dropout(cross_attn_output))\n",
    "        \n",
    "        # Feed forward\n",
    "        ff_output = self.feed_forward(x)\n",
    "        x = self.layer_norm3(temp1 + self.dropout(ff_output))\n",
    "        \n",
    "        return x, cross_attn_weights\n",
    "\n",
    "class CustomDualBanglaBERTModel(nn.Module):\n",
    "    def __init__(self, model_checkpoint, num_layers=6, hidden_size=768, num_attention_heads=8, dropout_rate=0.1):\n",
    "        super(CustomDualBanglaBERTModel, self).__init__()\n",
    "        \n",
    "        # Load BanglaBERT Electra-based models\n",
    "        self.bert1 = AutoModel.from_pretrained(model_checkpoint)\n",
    "        self.bert2 = AutoModel.from_pretrained(model_checkpoint)\n",
    "        \n",
    "        # Custom encoder layers\n",
    "        self.encoder_layers = nn.ModuleList([\n",
    "            CustomEncoderLayer(hidden_size, num_attention_heads, dropout_rate)\n",
    "            for _ in range(num_layers)\n",
    "        ])\n",
    "        \n",
    "        # Classification head\n",
    "        self.fc = nn.Linear(hidden_size * 2, 2)\n",
    "\n",
    "    def forward(self, input_ids1, attention_mask1, input_ids2, attention_mask2):\n",
    "        # Get embeddings from two BERT models\n",
    "        output1 = self.bert1(input_ids=input_ids1, attention_mask=attention_mask1).last_hidden_state\n",
    "        output2 = self.bert2(input_ids=input_ids2, attention_mask=attention_mask2).last_hidden_state\n",
    "        \n",
    "        # Attention masks for padding tokens\n",
    "        x_mask = ~attention_mask1.bool()\n",
    "        y_mask = ~attention_mask2.bool()\n",
    "        \n",
    "        # Apply encoder layers\n",
    "        for layer in self.encoder_layers:\n",
    "            output1, _ = layer(output1, output2, x_mask, y_mask)\n",
    "            output2, cross_attn_weights = layer(output2, output1, y_mask, x_mask)\n",
    "        \n",
    "        # Pool the outputs from both models\n",
    "        pooled_output1 = torch.mean(output1, dim=1)\n",
    "        pooled_output2 = torch.mean(output2, dim=1)\n",
    "        \n",
    "        # Combine and classify\n",
    "        combined = torch.cat((pooled_output1, pooled_output2), dim=1)\n",
    "        return self.fc(combined)"
   ]
  },
  {
   "cell_type": "code",
   "execution_count": 42,
   "id": "0582cda0",
   "metadata": {
    "execution": {
     "iopub.execute_input": "2025-02-22T06:47:12.428101Z",
     "iopub.status.busy": "2025-02-22T06:47:12.427827Z",
     "iopub.status.idle": "2025-02-22T06:47:13.627879Z",
     "shell.execute_reply": "2025-02-22T06:47:13.626915Z"
    },
    "papermill": {
     "duration": 1.215718,
     "end_time": "2025-02-22T06:47:13.629265",
     "exception": false,
     "start_time": "2025-02-22T06:47:12.413547",
     "status": "completed"
    },
    "tags": []
   },
   "outputs": [
    {
     "data": {
      "text/plain": [
       "CustomDualBanglaBERTModel(\n",
       "  (bert1): ElectraModel(\n",
       "    (embeddings): ElectraEmbeddings(\n",
       "      (word_embeddings): Embedding(32000, 768, padding_idx=0)\n",
       "      (position_embeddings): Embedding(512, 768)\n",
       "      (token_type_embeddings): Embedding(2, 768)\n",
       "      (LayerNorm): LayerNorm((768,), eps=1e-12, elementwise_affine=True)\n",
       "      (dropout): Dropout(p=0.1, inplace=False)\n",
       "    )\n",
       "    (encoder): ElectraEncoder(\n",
       "      (layer): ModuleList(\n",
       "        (0-11): 12 x ElectraLayer(\n",
       "          (attention): ElectraAttention(\n",
       "            (self): ElectraSelfAttention(\n",
       "              (query): Linear(in_features=768, out_features=768, bias=True)\n",
       "              (key): Linear(in_features=768, out_features=768, bias=True)\n",
       "              (value): Linear(in_features=768, out_features=768, bias=True)\n",
       "              (dropout): Dropout(p=0.1, inplace=False)\n",
       "            )\n",
       "            (output): ElectraSelfOutput(\n",
       "              (dense): Linear(in_features=768, out_features=768, bias=True)\n",
       "              (LayerNorm): LayerNorm((768,), eps=1e-12, elementwise_affine=True)\n",
       "              (dropout): Dropout(p=0.1, inplace=False)\n",
       "            )\n",
       "          )\n",
       "          (intermediate): ElectraIntermediate(\n",
       "            (dense): Linear(in_features=768, out_features=3072, bias=True)\n",
       "            (intermediate_act_fn): GELUActivation()\n",
       "          )\n",
       "          (output): ElectraOutput(\n",
       "            (dense): Linear(in_features=3072, out_features=768, bias=True)\n",
       "            (LayerNorm): LayerNorm((768,), eps=1e-12, elementwise_affine=True)\n",
       "            (dropout): Dropout(p=0.1, inplace=False)\n",
       "          )\n",
       "        )\n",
       "      )\n",
       "    )\n",
       "  )\n",
       "  (bert2): ElectraModel(\n",
       "    (embeddings): ElectraEmbeddings(\n",
       "      (word_embeddings): Embedding(32000, 768, padding_idx=0)\n",
       "      (position_embeddings): Embedding(512, 768)\n",
       "      (token_type_embeddings): Embedding(2, 768)\n",
       "      (LayerNorm): LayerNorm((768,), eps=1e-12, elementwise_affine=True)\n",
       "      (dropout): Dropout(p=0.1, inplace=False)\n",
       "    )\n",
       "    (encoder): ElectraEncoder(\n",
       "      (layer): ModuleList(\n",
       "        (0-11): 12 x ElectraLayer(\n",
       "          (attention): ElectraAttention(\n",
       "            (self): ElectraSelfAttention(\n",
       "              (query): Linear(in_features=768, out_features=768, bias=True)\n",
       "              (key): Linear(in_features=768, out_features=768, bias=True)\n",
       "              (value): Linear(in_features=768, out_features=768, bias=True)\n",
       "              (dropout): Dropout(p=0.1, inplace=False)\n",
       "            )\n",
       "            (output): ElectraSelfOutput(\n",
       "              (dense): Linear(in_features=768, out_features=768, bias=True)\n",
       "              (LayerNorm): LayerNorm((768,), eps=1e-12, elementwise_affine=True)\n",
       "              (dropout): Dropout(p=0.1, inplace=False)\n",
       "            )\n",
       "          )\n",
       "          (intermediate): ElectraIntermediate(\n",
       "            (dense): Linear(in_features=768, out_features=3072, bias=True)\n",
       "            (intermediate_act_fn): GELUActivation()\n",
       "          )\n",
       "          (output): ElectraOutput(\n",
       "            (dense): Linear(in_features=3072, out_features=768, bias=True)\n",
       "            (LayerNorm): LayerNorm((768,), eps=1e-12, elementwise_affine=True)\n",
       "            (dropout): Dropout(p=0.1, inplace=False)\n",
       "          )\n",
       "        )\n",
       "      )\n",
       "    )\n",
       "  )\n",
       "  (encoder_layers): ModuleList(\n",
       "    (0-5): 6 x CustomEncoderLayer(\n",
       "      (self_attention): MultiheadAttention(\n",
       "        (out_proj): NonDynamicallyQuantizableLinear(in_features=768, out_features=768, bias=True)\n",
       "      )\n",
       "      (cross_attention): MultiheadAttention(\n",
       "        (out_proj): NonDynamicallyQuantizableLinear(in_features=768, out_features=768, bias=True)\n",
       "      )\n",
       "      (feed_forward): Sequential(\n",
       "        (0): Linear(in_features=768, out_features=3072, bias=True)\n",
       "        (1): ReLU()\n",
       "        (2): Linear(in_features=3072, out_features=768, bias=True)\n",
       "      )\n",
       "      (layer_norm1): LayerNorm((768,), eps=1e-05, elementwise_affine=True)\n",
       "      (layer_norm2): LayerNorm((768,), eps=1e-05, elementwise_affine=True)\n",
       "      (layer_norm3): LayerNorm((768,), eps=1e-05, elementwise_affine=True)\n",
       "      (dropout): Dropout(p=0.1, inplace=False)\n",
       "    )\n",
       "  )\n",
       "  (fc): Linear(in_features=1536, out_features=2, bias=True)\n",
       ")"
      ]
     },
     "execution_count": 42,
     "metadata": {},
     "output_type": "execute_result"
    }
   ],
   "source": [
    "# Example usage\n",
    "# model_checkpoint = 'csebuetnlp/banglabert'\n",
    "model_checkpoint = \"/kaggle/working/mlm_pretrained_model\"\n",
    "model = CustomDualBanglaBERTModel(model_checkpoint=model_checkpoint)\n",
    "\n",
    "# Move the model to GPU if available\n",
    "device = torch.device(\"cuda\" if torch.cuda.is_available() else \"cpu\")\n",
    "# model.to(device)\n",
    "model.cuda()"
   ]
  },
  {
   "cell_type": "code",
   "execution_count": 43,
   "id": "c7569fec",
   "metadata": {
    "execution": {
     "iopub.execute_input": "2025-02-22T06:47:13.658995Z",
     "iopub.status.busy": "2025-02-22T06:47:13.658687Z",
     "iopub.status.idle": "2025-02-22T06:47:13.665450Z",
     "shell.execute_reply": "2025-02-22T06:47:13.664732Z"
    },
    "papermill": {
     "duration": 0.023037,
     "end_time": "2025-02-22T06:47:13.666763",
     "exception": false,
     "start_time": "2025-02-22T06:47:13.643726",
     "status": "completed"
    },
    "tags": []
   },
   "outputs": [
    {
     "name": "stdout",
     "output_type": "stream",
     "text": [
      "Approximate Model Size in Memory: 1.03 GB\n"
     ]
    }
   ],
   "source": [
    "# Calculate the total number of trainable parameters\n",
    "trainable_params = sum(p.numel() for p in model.parameters() if p.requires_grad)\n",
    "\n",
    "# Each parameter takes 4 bytes (float32)\n",
    "param_size_in_bytes = trainable_params * 4\n",
    "\n",
    "# Convert to GB\n",
    "param_size_in_gb = param_size_in_bytes / (1024**3)\n",
    "print(f\"Approximate Model Size in Memory: {param_size_in_gb:.2f} GB\")"
   ]
  },
  {
   "cell_type": "code",
   "execution_count": 44,
   "id": "153f1537",
   "metadata": {
    "execution": {
     "iopub.execute_input": "2025-02-22T06:47:13.695904Z",
     "iopub.status.busy": "2025-02-22T06:47:13.695653Z",
     "iopub.status.idle": "2025-02-22T06:47:13.699425Z",
     "shell.execute_reply": "2025-02-22T06:47:13.698734Z"
    },
    "papermill": {
     "duration": 0.019645,
     "end_time": "2025-02-22T06:47:13.700583",
     "exception": false,
     "start_time": "2025-02-22T06:47:13.680938",
     "status": "completed"
    },
    "tags": []
   },
   "outputs": [],
   "source": [
    "# import torch\n",
    "# import torch.nn as nn\n",
    "# from transformers import  BertConfig,AutoModel\n",
    "\n",
    "# class CustomEncoderLayer(nn.Module):\n",
    "#     def __init__(self, hidden_size, num_attention_heads, dropout_rate=0.1):\n",
    "#         super(CustomEncoderLayer, self).__init__()\n",
    "#         self.self_attention = nn.MultiheadAttention(hidden_size, num_attention_heads, dropout=dropout_rate)\n",
    "#         self.cross_attention = nn.MultiheadAttention(hidden_size, num_attention_heads, dropout=dropout_rate)\n",
    "#         self.feed_forward = nn.Sequential(\n",
    "#             nn.Linear(hidden_size, hidden_size * 4),\n",
    "#             nn.ReLU(),\n",
    "#             nn.Linear(hidden_size * 4, hidden_size)\n",
    "#         )\n",
    "#         self.layer_norm1 = nn.LayerNorm(hidden_size)\n",
    "#         self.layer_norm2 = nn.LayerNorm(hidden_size)\n",
    "#         self.layer_norm3 = nn.LayerNorm(hidden_size)\n",
    "#         self.dropout = nn.Dropout(dropout_rate)\n",
    "\n",
    "#     def forward(self, x, y):\n",
    "#         # Self-attention on x\n",
    "#         e=x\n",
    "#         self_attn_output, _ = self.self_attention(x, x, x)\n",
    "#         x = self.layer_norm1(e + self.dropout(self_attn_output))\n",
    "        \n",
    "#         # Cross-attention from x to y\n",
    "#         cross_attn_output, cross_attn_weights = self.cross_attention(x, y, y)\n",
    "#         x = self.layer_norm2(e + self.dropout(cross_attn_output))\n",
    "        \n",
    "#         # Feed forward\n",
    "#         ff_output = self.feed_forward(x)\n",
    "#         x = self.layer_norm3(e + self.dropout(ff_output))\n",
    "        \n",
    "#         return x, cross_attn_weights\n",
    "\n",
    "# class CustomDualBERTModel(nn.Module):\n",
    "#     def __init__(self, num_layers=3, hidden_size=768, num_attention_heads=8, dropout_rate=0.1):\n",
    "#         super(CustomDualBERTModel, self).__init__()\n",
    "        \n",
    "#         # Two BERT models: one for each input\n",
    "#         self.bert1 = AutoModel.from_pretrained('bert-base-uncased')\n",
    "#         self.bert2 = AutoModel.from_pretrained('bert-base-uncased')\n",
    "        \n",
    "#         self.encoder_layers = nn.ModuleList([\n",
    "#             CustomEncoderLayer(hidden_size, num_attention_heads, dropout_rate)\n",
    "#             for _ in range(num_layers)\n",
    "#         ])\n",
    "        \n",
    "#         self.fc = nn.Linear(hidden_size * 2, 2)\n",
    "\n",
    "#     def forward(self, input_ids1, attention_mask1, input_ids2, attention_mask2):\n",
    "#         # Get BERT embeddings from two different models\n",
    "#         output1 = self.bert1(input_ids=input_ids1, attention_mask=attention_mask1).last_hidden_state\n",
    "#         output2 = self.bert2(input_ids=input_ids2, attention_mask=attention_mask2).last_hidden_state\n",
    "        \n",
    "#         # Create attention masks\n",
    "#         x_mask = ~attention_mask1.bool()\n",
    "#         y_mask = ~attention_mask2.bool()\n",
    "        \n",
    "#         # Apply custom encoder layers (self-attention and cross-attention)\n",
    "#         for layer in self.encoder_layers:\n",
    "#             output1, _ = layer(output1, output2)\n",
    "#             output2, cross_attn_weights = layer(output2, output1)\n",
    "#         # Pool the outputs from both BERTs\n",
    "#         pooled_output1 = torch.mean(output1, dim=1)\n",
    "#         pooled_output2 = torch.mean(output2, dim=1)\n",
    "        \n",
    "#         # Combine and classify\n",
    "#         combined = torch.cat((pooled_output1, pooled_output2), dim=1)\n",
    "#         return self.fc(combined)\n"
   ]
  },
  {
   "cell_type": "code",
   "execution_count": 45,
   "id": "c89dfd6a",
   "metadata": {
    "execution": {
     "iopub.execute_input": "2025-02-22T06:47:13.729718Z",
     "iopub.status.busy": "2025-02-22T06:47:13.729455Z",
     "iopub.status.idle": "2025-02-22T06:47:13.734407Z",
     "shell.execute_reply": "2025-02-22T06:47:13.733734Z"
    },
    "papermill": {
     "duration": 0.020796,
     "end_time": "2025-02-22T06:47:13.735516",
     "exception": false,
     "start_time": "2025-02-22T06:47:13.714720",
     "status": "completed"
    },
    "tags": []
   },
   "outputs": [],
   "source": [
    "import torch\n",
    "import torch.nn as nn\n",
    "from torch.utils.data import DataLoader\n",
    "from transformers import BertTokenizer, AdamW,AutoModel,AutoTokenizer\n",
    "from tqdm import tqdm  # Import tqdm for progress bars\n",
    "\n",
    "# Hyperparameters\n",
    "MAX_LEN = 128\n",
    "BATCH_SIZE = 16\n",
    "EPOCHS = 3\n",
    "LEARNING_RATE = 2e-5\n",
    "\n",
    "# tokenizer = AutoTokenizer.from_pretrained(model_checkpoint)\n",
    "\n",
    "# Create data loaders\n",
    "train_dataset = MultiFeatureDataset(train_df, tokenizer, MAX_LEN)\n",
    "val_dataset = MultiFeatureDataset(eval_df, tokenizer, MAX_LEN)\n",
    "\n",
    "train_loader = DataLoader(train_dataset, batch_size=BATCH_SIZE, shuffle=True)\n",
    "val_loader = DataLoader(val_dataset, batch_size=BATCH_SIZE)"
   ]
  },
  {
   "cell_type": "code",
   "execution_count": 46,
   "id": "b971ab99",
   "metadata": {
    "execution": {
     "iopub.execute_input": "2025-02-22T06:47:13.764698Z",
     "iopub.status.busy": "2025-02-22T06:47:13.764447Z",
     "iopub.status.idle": "2025-02-22T06:47:13.779756Z",
     "shell.execute_reply": "2025-02-22T06:47:13.778790Z"
    },
    "papermill": {
     "duration": 0.031517,
     "end_time": "2025-02-22T06:47:13.781077",
     "exception": false,
     "start_time": "2025-02-22T06:47:13.749560",
     "status": "completed"
    },
    "tags": []
   },
   "outputs": [
    {
     "name": "stderr",
     "output_type": "stream",
     "text": [
      "/usr/local/lib/python3.10/dist-packages/transformers/optimization.py:591: FutureWarning: This implementation of AdamW is deprecated and will be removed in a future version. Use the PyTorch implementation torch.optim.AdamW instead, or set `no_deprecation_warning=True` to disable this warning\n",
      "  warnings.warn(\n"
     ]
    }
   ],
   "source": [
    "# Initialize the model\n",
    "\n",
    "# Usage\n",
    "# model = CustomDualBERTModel()\n",
    "#model.load_state_dict(torch.load('dual_bert_classifier.pth'))\n",
    "\n",
    "\n",
    "# Optimizer with weight decay\n",
    "from transformers import AdamW, get_linear_schedule_with_warmup\n",
    "\n",
    "\n",
    "device = torch.device('cuda' if torch.cuda.is_available() else 'cpu')\n",
    "model = model.to(device)\n",
    "\n",
    "optimizer = AdamW(model.parameters(), lr=LEARNING_RATE, weight_decay=0.01)"
   ]
  },
  {
   "cell_type": "code",
   "execution_count": 47,
   "id": "3af0f7bf",
   "metadata": {
    "execution": {
     "iopub.execute_input": "2025-02-22T06:47:13.810609Z",
     "iopub.status.busy": "2025-02-22T06:47:13.810312Z",
     "iopub.status.idle": "2025-02-22T06:47:13.815030Z",
     "shell.execute_reply": "2025-02-22T06:47:13.814218Z"
    },
    "papermill": {
     "duration": 0.020794,
     "end_time": "2025-02-22T06:47:13.816296",
     "exception": false,
     "start_time": "2025-02-22T06:47:13.795502",
     "status": "completed"
    },
    "tags": []
   },
   "outputs": [
    {
     "data": {
      "text/plain": [
       "AdamW (\n",
       "Parameter Group 0\n",
       "    betas: (0.9, 0.999)\n",
       "    correct_bias: True\n",
       "    eps: 1e-06\n",
       "    lr: 2e-05\n",
       "    weight_decay: 0.01\n",
       ")"
      ]
     },
     "execution_count": 47,
     "metadata": {},
     "output_type": "execute_result"
    }
   ],
   "source": [
    "optimizer"
   ]
  },
  {
   "cell_type": "code",
   "execution_count": 48,
   "id": "0066cd5f",
   "metadata": {
    "execution": {
     "iopub.execute_input": "2025-02-22T06:47:13.845586Z",
     "iopub.status.busy": "2025-02-22T06:47:13.845307Z",
     "iopub.status.idle": "2025-02-22T06:47:14.246510Z",
     "shell.execute_reply": "2025-02-22T06:47:14.245701Z"
    },
    "papermill": {
     "duration": 0.41747,
     "end_time": "2025-02-22T06:47:14.247943",
     "exception": false,
     "start_time": "2025-02-22T06:47:13.830473",
     "status": "completed"
    },
    "tags": []
   },
   "outputs": [],
   "source": [
    "import gc\n",
    "import torch\n",
    "\n",
    "# Delete any unnecessary objects, e.g., big tensors or models you no longer need\n",
    "# del mlm_model  \n",
    "# del model\n",
    "\n",
    "# Run garbage collector\n",
    "gc.collect()\n",
    "\n",
    "# If you’re using PyTorch, clear GPU cache\n",
    "torch.cuda.empty_cache()"
   ]
  },
  {
   "cell_type": "code",
   "execution_count": 49,
   "id": "aaf269e4",
   "metadata": {
    "execution": {
     "iopub.execute_input": "2025-02-22T06:47:14.278593Z",
     "iopub.status.busy": "2025-02-22T06:47:14.278305Z",
     "iopub.status.idle": "2025-02-22T06:47:14.281163Z",
     "shell.execute_reply": "2025-02-22T06:47:14.280555Z"
    },
    "papermill": {
     "duration": 0.019353,
     "end_time": "2025-02-22T06:47:14.282394",
     "exception": false,
     "start_time": "2025-02-22T06:47:14.263041",
     "status": "completed"
    },
    "tags": []
   },
   "outputs": [],
   "source": [
    "# import os\n",
    "# os.environ[\"PYTORCH_CUDA_ALLOC_CONF\"] = \"expandable_segments:True\"\n",
    "\n",
    "# import torch\n",
    "# Now you can continue with your PyTorch code\n"
   ]
  },
  {
   "cell_type": "code",
   "execution_count": 50,
   "id": "bae56c10",
   "metadata": {
    "execution": {
     "iopub.execute_input": "2025-02-22T06:47:14.311844Z",
     "iopub.status.busy": "2025-02-22T06:47:14.311597Z",
     "iopub.status.idle": "2025-02-22T06:47:14.314679Z",
     "shell.execute_reply": "2025-02-22T06:47:14.314036Z"
    },
    "papermill": {
     "duration": 0.019248,
     "end_time": "2025-02-22T06:47:14.315893",
     "exception": false,
     "start_time": "2025-02-22T06:47:14.296645",
     "status": "completed"
    },
    "tags": []
   },
   "outputs": [],
   "source": [
    "# model"
   ]
  },
  {
   "cell_type": "code",
   "execution_count": 51,
   "id": "b09279d2",
   "metadata": {
    "execution": {
     "iopub.execute_input": "2025-02-22T06:47:14.345489Z",
     "iopub.status.busy": "2025-02-22T06:47:14.345157Z",
     "iopub.status.idle": "2025-02-22T06:47:14.349103Z",
     "shell.execute_reply": "2025-02-22T06:47:14.348510Z"
    },
    "papermill": {
     "duration": 0.019796,
     "end_time": "2025-02-22T06:47:14.350211",
     "exception": false,
     "start_time": "2025-02-22T06:47:14.330415",
     "status": "completed"
    },
    "tags": []
   },
   "outputs": [],
   "source": [
    "# Custom function to save the model\n",
    "def save_model(model, filepath, epoch, val_accuracy, best_val_accuracy):\n",
    "    \"\"\"\n",
    "    Save the model if the current validation accuracy is higher than the best seen so far.\n",
    "    \"\"\"\n",
    "    if val_accuracy > best_val_accuracy:\n",
    "        torch.save(model.state_dict(), filepath)\n",
    "        print(f\"Model saved at epoch {epoch+1} with validation accuracy: {val_accuracy:.2f}%\")\n",
    "        return val_accuracy  # Update best validation accuracy\n",
    "    return best_val_accuracy  # Keep the previous best validation accuracy\n",
    "\n",
    "# Training loop with model saving\n",
    "best_val_accuracy = 0.0  # Initialize the best validation accuracy\n",
    "model_filepath = 'dual_bert_classifier_best.pth'"
   ]
  },
  {
   "cell_type": "code",
   "execution_count": 52,
   "id": "5489f03e",
   "metadata": {
    "execution": {
     "iopub.execute_input": "2025-02-22T06:47:14.379609Z",
     "iopub.status.busy": "2025-02-22T06:47:14.379315Z",
     "iopub.status.idle": "2025-02-22T08:25:41.053352Z",
     "shell.execute_reply": "2025-02-22T08:25:41.052330Z"
    },
    "papermill": {
     "duration": 5906.690064,
     "end_time": "2025-02-22T08:25:41.054629",
     "exception": false,
     "start_time": "2025-02-22T06:47:14.364565",
     "status": "completed"
    },
    "tags": []
   },
   "outputs": [
    {
     "name": "stderr",
     "output_type": "stream",
     "text": [
      "                                                                                     \r"
     ]
    },
    {
     "name": "stdout",
     "output_type": "stream",
     "text": [
      "Epoch [1/3], Loss: 0.4845, Accuracy: 0.7734\n"
     ]
    },
    {
     "name": "stderr",
     "output_type": "stream",
     "text": [
      "                                                                     \r"
     ]
    },
    {
     "name": "stdout",
     "output_type": "stream",
     "text": [
      "Epoch 1/3, Validation Loss: 0.4488, Validation Accuracy: 79.76%\n",
      "Model saved at epoch 1 with validation accuracy: 79.76%\n"
     ]
    },
    {
     "name": "stderr",
     "output_type": "stream",
     "text": [
      "                                                                                     \r"
     ]
    },
    {
     "name": "stdout",
     "output_type": "stream",
     "text": [
      "Epoch [2/3], Loss: 0.3084, Accuracy: 0.8724\n"
     ]
    },
    {
     "name": "stderr",
     "output_type": "stream",
     "text": [
      "                                                                     \r"
     ]
    },
    {
     "name": "stdout",
     "output_type": "stream",
     "text": [
      "Epoch 2/3, Validation Loss: 0.4972, Validation Accuracy: 79.78%\n",
      "Model saved at epoch 2 with validation accuracy: 79.78%\n"
     ]
    },
    {
     "name": "stderr",
     "output_type": "stream",
     "text": [
      "                                                                                     \r"
     ]
    },
    {
     "name": "stdout",
     "output_type": "stream",
     "text": [
      "Epoch [3/3], Loss: 0.1472, Accuracy: 0.9445\n"
     ]
    },
    {
     "name": "stderr",
     "output_type": "stream",
     "text": [
      "                                                                     "
     ]
    },
    {
     "name": "stdout",
     "output_type": "stream",
     "text": [
      "Epoch 3/3, Validation Loss: 0.7329, Validation Accuracy: 75.94%\n"
     ]
    },
    {
     "name": "stderr",
     "output_type": "stream",
     "text": [
      "\r"
     ]
    }
   ],
   "source": [
    "# TRaining LOOP\n",
    "for epoch in range(EPOCHS):\n",
    "    model.train()\n",
    "    running_loss = 0.0\n",
    "    correct_train = 0\n",
    "    total_train = 0\n",
    "\n",
    "    # Initialize the tqdm progress bar\n",
    "    progress_bar = tqdm(train_loader, desc=f\"Training Epoch {epoch+1}\", leave=False)\n",
    "    \n",
    "    for batch_idx, batch in enumerate(progress_bar):\n",
    "        text_input_ids1 = batch['input_ids1'].to(device)\n",
    "        text_attention_mask1 = batch['attention_mask1'].to(device)\n",
    "        text_input_ids2 = batch['input_ids2'].to(device)\n",
    "        text_attention_mask2 = batch['attention_mask2'].to(device)\n",
    "        labels = batch['labels'].to(device)\n",
    "        \n",
    "        optimizer.zero_grad()\n",
    "        \n",
    "        # Forward pass\n",
    "        outputs = model(text_input_ids1, text_attention_mask1, text_input_ids2, text_attention_mask2)\n",
    "        \n",
    "        # Calculate loss\n",
    "        loss = nn.CrossEntropyLoss()(outputs, labels)\n",
    "        \n",
    "        # Backward pass and optimization\n",
    "        loss.backward()\n",
    "        optimizer.step()\n",
    "        \n",
    "        # Update running loss and accuracy\n",
    "        running_loss += loss.item()\n",
    "        _, predicted = torch.max(outputs.data, 1)\n",
    "        total_train += labels.size(0)\n",
    "        correct_train += (predicted == labels).sum().item()\n",
    "        \n",
    "        avg_loss = running_loss / (batch_idx + 1)\n",
    "\n",
    "        # Update the progress bar with the average loss\n",
    "        progress_bar.set_postfix(avg_loss=avg_loss)\n",
    "\n",
    "    # Optional: Print statistics at the end of each epoch\n",
    "    epoch_loss = running_loss / len(train_loader)\n",
    "    epoch_acc = correct_train / total_train\n",
    "    print(f\"Epoch [{epoch+1}/{EPOCHS}], Loss: {epoch_loss:.4f}, Accuracy: {epoch_acc:.4f}\")\n",
    "    \n",
    "    # Validation\n",
    "    model.eval()\n",
    "    val_loss = 0\n",
    "    correct_val = 0\n",
    "    total_val = 0\n",
    "    with torch.no_grad():\n",
    "        for batch in tqdm(val_loader, desc=f\"Validation Epoch {epoch+1}\", leave=False):\n",
    "            text_input_ids1 = batch['input_ids1'].to(device)\n",
    "            text_attention_mask1 = batch['attention_mask1'].to(device)\n",
    "            text_input_ids2 = batch['input_ids2'].to(device)\n",
    "            text_attention_mask2 = batch['attention_mask2'].to(device)\n",
    "            labels = batch['labels'].to(device)\n",
    "            \n",
    "            outputs = model(text_input_ids1, text_attention_mask1, text_input_ids2, text_attention_mask2)\n",
    "            val_loss += nn.CrossEntropyLoss()(outputs, labels).item()\n",
    "            _, predicted = torch.max(outputs.data, 1)\n",
    "            total_val += labels.size(0)\n",
    "            correct_val += (predicted == labels).sum().item()\n",
    "\n",
    "    val_accuracy = 100 * correct_val / total_val\n",
    "    print(f'Epoch {epoch+1}/{EPOCHS}, Validation Loss: {val_loss/len(val_loader):.4f}, Validation Accuracy: {val_accuracy:.2f}%')\n",
    "\n",
    "    # Save the model if validation accuracy improves\n",
    "    best_val_accuracy = save_model(model, model_filepath, epoch, val_accuracy, best_val_accuracy)"
   ]
  },
  {
   "cell_type": "code",
   "execution_count": 53,
   "id": "6406f857",
   "metadata": {
    "execution": {
     "iopub.execute_input": "2025-02-22T08:25:41.900687Z",
     "iopub.status.busy": "2025-02-22T08:25:41.900272Z",
     "iopub.status.idle": "2025-02-22T08:25:44.880869Z",
     "shell.execute_reply": "2025-02-22T08:25:44.879963Z"
    },
    "papermill": {
     "duration": 3.431922,
     "end_time": "2025-02-22T08:25:44.882106",
     "exception": false,
     "start_time": "2025-02-22T08:25:41.450184",
     "status": "completed"
    },
    "tags": []
   },
   "outputs": [
    {
     "name": "stderr",
     "output_type": "stream",
     "text": [
      "<ipython-input-53-699ca1464688>:9: FutureWarning: You are using `torch.load` with `weights_only=False` (the current default value), which uses the default pickle module implicitly. It is possible to construct malicious pickle data which will execute arbitrary code during unpickling (See https://github.com/pytorch/pytorch/blob/main/SECURITY.md#untrusted-models for more details). In a future release, the default value for `weights_only` will be flipped to `True`. This limits the functions that could be executed during unpickling. Arbitrary objects will no longer be allowed to be loaded via this mode unless they are explicitly allowlisted by the user via `torch.serialization.add_safe_globals`. We recommend you start setting `weights_only=True` for any use case where you don't have full control of the loaded file. Please open an issue on GitHub for any issues related to this experimental feature.\n",
      "  model.load_state_dict(torch.load(saved_model_path))\n"
     ]
    },
    {
     "name": "stdout",
     "output_type": "stream",
     "text": [
      "Custom model loaded successfully!\n"
     ]
    }
   ],
   "source": [
    "# Define the model checkpoint and path to the saved weights\n",
    "model_checkpoint = 'csebuetnlp/banglabert'\n",
    "saved_model_path = 'dual_bert_classifier_best.pth'\n",
    "\n",
    "# Recreate the model architecture\n",
    "model = CustomDualBanglaBERTModel(model_checkpoint=model_checkpoint)\n",
    "\n",
    "# Load the model weights from the saved file\n",
    "model.load_state_dict(torch.load(saved_model_path))\n",
    "\n",
    "# Send the model to the appropriate device\n",
    "device = torch.device(\"cuda\" if torch.cuda.is_available() else \"cpu\")\n",
    "model.to(device)\n",
    "\n",
    "print(\"Custom model loaded successfully!\")"
   ]
  },
  {
   "cell_type": "code",
   "execution_count": 54,
   "id": "5de0cdcb",
   "metadata": {
    "execution": {
     "iopub.execute_input": "2025-02-22T08:25:45.666328Z",
     "iopub.status.busy": "2025-02-22T08:25:45.665973Z",
     "iopub.status.idle": "2025-02-22T08:28:18.789053Z",
     "shell.execute_reply": "2025-02-22T08:28:18.788214Z"
    },
    "papermill": {
     "duration": 153.572832,
     "end_time": "2025-02-22T08:28:18.849783",
     "exception": false,
     "start_time": "2025-02-22T08:25:45.276951",
     "status": "completed"
    },
    "tags": []
   },
   "outputs": [
    {
     "name": "stderr",
     "output_type": "stream",
     "text": [
      "                                                                   \r"
     ]
    },
    {
     "name": "stdout",
     "output_type": "stream",
     "text": [
      "Class 0:\n",
      "  Precision: 0.7560\n",
      "  Recall:    0.8795\n",
      "  F1 Score:  0.8131\n",
      "Class 1:\n",
      "  Precision: 0.8559\n",
      "  Recall:    0.7161\n",
      "  F1 Score:  0.7798\n",
      "\n",
      "Average Precision: 0.8059\n",
      "Average Recall:    0.7978\n",
      "Average F1 Score:  0.7964\n",
      "Accuracy: 0.7978\n",
      "Class Distribution: {0: 2564, 1: 2564}\n",
      "Total Samples: 5128\n"
     ]
    },
    {
     "data": {
      "image/png": "[encoded data removed]",
      "text/plain": [
       "<Figure size 640x480 with 2 Axes>"
      ]
     },
     "metadata": {},
     "output_type": "display_data"
    }
   ],
   "source": [
    "\n",
    "from tqdm import tqdm\n",
    "\n",
    "def batch_predict(loader):\n",
    "    model.eval()  # Set the model to evaluation mode\n",
    "    predictions = []\n",
    "\n",
    "    with torch.no_grad():\n",
    "        for batch in tqdm(loader, desc=\"Batch Prediction\", leave=False):\n",
    "            text_input_ids1 = batch['input_ids1'].to(device)\n",
    "            text_attention_mask1 = batch['attention_mask1'].to(device)\n",
    "            text_input_ids2 = batch['input_ids2'].to(device)\n",
    "            text_attention_mask2 = batch['attention_mask2'].to(device)\n",
    "            labels = batch['labels'].to(device)\n",
    "            outputs = model(text_input_ids1, text_attention_mask1, text_input_ids2, text_attention_mask2)\n",
    "            _, predicted = torch.max(outputs.data, 1)\n",
    "            predictions.extend(predicted.cpu().numpy())\n",
    "\n",
    "    return predictions\n",
    "pred=batch_predict(val_loader)\n",
    "true=val_dataset.labels\n",
    "\n",
    "import matplotlib.pyplot as plt\n",
    "from sklearn.metrics import confusion_matrix, ConfusionMatrixDisplay, roc_curve, auc, accuracy_score\n",
    "import numpy as np\n",
    "from sklearn.metrics import precision_recall_fscore_support\n",
    "import numpy as np\n",
    "from sklearn.preprocessing import label_binarize\n",
    "\n",
    "\n",
    "# Generate predictions and true labels\n",
    "\n",
    "pred = np.array(pred)\n",
    "true_labels =np.array(true)\n",
    "\n",
    "\n",
    "\n",
    "# Calculate precision, recall, and F1 score for each class\n",
    "precision, recall, f1, _ = precision_recall_fscore_support(true_labels, pred, average=None)\n",
    "\n",
    "# Get the unique labels\n",
    "labels =np.array([0,1])\n",
    "\n",
    "# Print the precision, recall, and F1 score for each class\n",
    "for i, label in enumerate(labels):\n",
    "    print(f\"Class {label}:\")\n",
    "    print(f\"  Precision: {precision[i]:.4f}\")\n",
    "    print(f\"  Recall:    {recall[i]:.4f}\")\n",
    "    print(f\"  F1 Score:  {f1[i]:.4f}\")\n",
    "\n",
    "# Optionally, you can calculate the average scores\n",
    "avg_precision, avg_recall, avg_f1, _ = precision_recall_fscore_support(true_labels, pred, average='weighted')\n",
    "\n",
    "print(f\"\\nAverage Precision: {avg_precision:.4f}\")\n",
    "print(f\"Average Recall:    {avg_recall:.4f}\")\n",
    "print(f\"Average F1 Score:  {avg_f1:.4f}\")\n",
    "\n",
    "# Compute accuracy\n",
    "accuracy = accuracy_score(true_labels, pred)\n",
    "print(f'Accuracy: {accuracy:.4f}')\n",
    "\n",
    "# Print the number of samples for each class and total samples\n",
    "unique, counts = np.unique(true_labels, return_counts=True)\n",
    "class_distribution = dict(zip(unique, counts))\n",
    "total_samples = len(true_labels)\n",
    "print(f'Class Distribution: {class_distribution}')\n",
    "print(f'Total Samples: {total_samples}')\n",
    "\n",
    "# Compute confusion matrix\n",
    "cm = confusion_matrix(true_labels, pred)\n",
    "disp = ConfusionMatrixDisplay(confusion_matrix=cm, display_labels=labels)\n",
    "\n",
    "# Plot confusion matrix\n",
    "disp.plot(cmap=plt.cm.Blues)\n",
    "plt.title(\"Confusion Matrix\")\n",
    "plt.show()"
   ]
  },
  {
   "cell_type": "code",
   "execution_count": 55,
   "id": "9155173e",
   "metadata": {
    "execution": {
     "iopub.execute_input": "2025-02-22T08:28:19.691740Z",
     "iopub.status.busy": "2025-02-22T08:28:19.691439Z",
     "iopub.status.idle": "2025-02-22T08:28:19.699541Z",
     "shell.execute_reply": "2025-02-22T08:28:19.698687Z"
    },
    "papermill": {
     "duration": 0.442231,
     "end_time": "2025-02-22T08:28:19.700871",
     "exception": false,
     "start_time": "2025-02-22T08:28:19.258640",
     "status": "completed"
    },
    "tags": []
   },
   "outputs": [
    {
     "data": {
      "text/html": [
       "<div>\n",
       "<style scoped>\n",
       "    .dataframe tbody tr th:only-of-type {\n",
       "        vertical-align: middle;\n",
       "    }\n",
       "\n",
       "    .dataframe tbody tr th {\n",
       "        vertical-align: top;\n",
       "    }\n",
       "\n",
       "    .dataframe thead th {\n",
       "        text-align: right;\n",
       "    }\n",
       "</style>\n",
       "<table border=\"1\" class=\"dataframe\">\n",
       "  <thead>\n",
       "    <tr style=\"text-align: right;\">\n",
       "      <th></th>\n",
       "      <th>id</th>\n",
       "      <th>parent_comment</th>\n",
       "      <th>label</th>\n",
       "      <th>comment</th>\n",
       "    </tr>\n",
       "  </thead>\n",
       "  <tbody>\n",
       "    <tr>\n",
       "      <th>3524</th>\n",
       "      <td>7682</td>\n",
       "      <td>পরীমনির পেজের প্রফাইলটা দেখেন ও মানুষ না আর্জে...</td>\n",
       "      <td>1</td>\n",
       "      <td>উচিৎ থাকা লজ্জা ছি বইচে ঝর প্রশংসার আবার নিয়ে...</td>\n",
       "    </tr>\n",
       "    <tr>\n",
       "      <th>11178</th>\n",
       "      <td>27904</td>\n",
       "      <td>ঢপ এর চপ এমন ভাও খাচ্ছে যেনো বোকাচোদার সিরিয়াল</td>\n",
       "      <td>1</td>\n",
       "      <td>সিরিয়াল বোকাচোদার যেনো খাচ্ছে ভাও এমন চপ এর ঢপ</td>\n",
       "    </tr>\n",
       "    <tr>\n",
       "      <th>24525</th>\n",
       "      <td>25185</td>\n",
       "      <td>হেলমেট ছাড়া বেরোলে ঠিকই কেউ না কেউ বলবে ওদিকে...</td>\n",
       "      <td>0</td>\n",
       "      <td>ধরছে পুলিশ না যাবেন ওদিকে বলবে কেউ না কেউ ঠিকই...</td>\n",
       "    </tr>\n",
       "  </tbody>\n",
       "</table>\n",
       "</div>"
      ],
      "text/plain": [
       "          id                                     parent_comment  label  \\\n",
       "3524    7682  পরীমনির পেজের প্রফাইলটা দেখেন ও মানুষ না আর্জে...      1   \n",
       "11178  27904    ঢপ এর চপ এমন ভাও খাচ্ছে যেনো বোকাচোদার সিরিয়াল      1   \n",
       "24525  25185  হেলমেট ছাড়া বেরোলে ঠিকই কেউ না কেউ বলবে ওদিকে...      0   \n",
       "\n",
       "                                                 comment  \n",
       "3524   উচিৎ থাকা লজ্জা ছি বইচে ঝর প্রশংসার আবার নিয়ে...  \n",
       "11178    সিরিয়াল বোকাচোদার যেনো খাচ্ছে ভাও এমন চপ এর ঢপ  \n",
       "24525  ধরছে পুলিশ না যাবেন ওদিকে বলবে কেউ না কেউ ঠিকই...  "
      ]
     },
     "execution_count": 55,
     "metadata": {},
     "output_type": "execute_result"
    }
   ],
   "source": [
    "eval_df.head(3)"
   ]
  },
  {
   "cell_type": "code",
   "execution_count": 56,
   "id": "1276304a",
   "metadata": {
    "execution": {
     "iopub.execute_input": "2025-02-22T08:28:20.558841Z",
     "iopub.status.busy": "2025-02-22T08:28:20.558553Z",
     "iopub.status.idle": "2025-02-22T08:28:20.561659Z",
     "shell.execute_reply": "2025-02-22T08:28:20.560964Z"
    },
    "papermill": {
     "duration": 0.407166,
     "end_time": "2025-02-22T08:28:20.562884",
     "exception": false,
     "start_time": "2025-02-22T08:28:20.155718",
     "status": "completed"
    },
    "tags": []
   },
   "outputs": [],
   "source": [
    "# def preprocess_function(context,text):\n",
    "#     parent_encoding = tokenizer(context, padding=\"max_length\", truncation=True, max_length=128)\n",
    "#     text_encoding = tokenizer(context, padding=\"max_length\", truncation=True, max_length=128)\n",
    "    \n",
    "#     return {\n",
    "#         'input_ids1': parent_encoding['input_ids'],\n",
    "#         'attention_mask1': parent_encoding['attention_mask'],\n",
    "#         'input_ids2': text_encoding['input_ids'],\n",
    "#         'attention_mask2': text_encoding['attention_mask'],\n",
    "#     }"
   ]
  },
  {
   "cell_type": "code",
   "execution_count": 57,
   "id": "64903e34",
   "metadata": {
    "execution": {
     "iopub.execute_input": "2025-02-22T08:28:21.429977Z",
     "iopub.status.busy": "2025-02-22T08:28:21.429684Z",
     "iopub.status.idle": "2025-02-22T08:28:21.432881Z",
     "shell.execute_reply": "2025-02-22T08:28:21.432177Z"
    },
    "papermill": {
     "duration": 0.463902,
     "end_time": "2025-02-22T08:28:21.434091",
     "exception": false,
     "start_time": "2025-02-22T08:28:20.970189",
     "status": "completed"
    },
    "tags": []
   },
   "outputs": [],
   "source": [
    "#batch=preprocess_function(data2.iloc[1011]['parent_comment'],data2.iloc[1011]['comment'])"
   ]
  },
  {
   "cell_type": "code",
   "execution_count": null,
   "id": "49279ea3",
   "metadata": {
    "papermill": {
     "duration": 0.409182,
     "end_time": "2025-02-22T08:28:22.254147",
     "exception": false,
     "start_time": "2025-02-22T08:28:21.844965",
     "status": "completed"
    },
    "tags": []
   },
   "outputs": [],
   "source": []
  }
 ],
 "metadata": {
  "kaggle": {
   "accelerator": "nvidiaTeslaT4",
   "dataSources": [
    {
     "datasetId": 113003,
     "sourceId": 269740,
     "sourceType": "datasetVersion"
    },
    {
     "datasetId": 32526,
     "sourceId": 4243451,
     "sourceType": "datasetVersion"
    },
    {
     "datasetId": 5668978,
     "sourceId": 9601762,
     "sourceType": "datasetVersion"
    },
    {
     "datasetId": 4892370,
     "sourceId": 10280684,
     "sourceType": "datasetVersion"
    }
   ],
   "dockerImageVersionId": 30823,
   "isGpuEnabled": true,
   "isInternetEnabled": true,
   "language": "python",
   "sourceType": "notebook"
  },
  "kernelspec": {
   "display_name": "Python 3",
   "language": "python",
   "name": "python3"
  },
  "language_info": {
   "codemirror_mode": {
    "name": "ipython",
    "version": 3
   },
   "file_extension": ".py",
   "mimetype": "text/x-python",
   "name": "python",
   "nbconvert_exporter": "python",
   "pygments_lexer": "ipython3",
   "version": "3.10.12"
  },
  "papermill": {
   "default_parameters": {},
   "duration": 7632.75771,
   "end_time": "2025-02-22T08:28:25.794895",
   "environment_variables": {},
   "exception": null,
   "input_path": "__notebook__.ipynb",
   "output_path": "__notebook__.ipynb",
   "parameters": {},
   "start_time": "2025-02-22T06:21:13.037185",
   "version": "2.6.0"
  },
  "widgets": {
   "application/vnd.jupyter.widget-state+json": {
    "state": {
     "1871f0bc129b42c0ab7cb1f7b3186c53": {
      "model_module": "@jupyter-widgets/base",
      "model_module_version": "2.0.0",
      "model_name": "LayoutModel",
      "state": {
       "_model_module": "@jupyter-widgets/base",
       "_model_module_version": "2.0.0",
       "_model_name": "LayoutModel",
       "_view_count": null,
       "_view_module": "@jupyter-widgets/base",
       "_view_module_version": "2.0.0",
       "_view_name": "LayoutView",
       "align_content": null,
       "align_items": null,
       "align_self": null,
       "border_bottom": null,
       "border_left": null,
       "border_right": null,
       "border_top": null,
       "bottom": null,
       "display": null,
       "flex": null,
       "flex_flow": null,
       "grid_area": null,
       "grid_auto_columns": null,
       "grid_auto_flow": null,
       "grid_auto_rows": null,
       "grid_column": null,
       "grid_gap": null,
       "grid_row": null,
       "grid_template_areas": null,
       "grid_template_columns": null,
       "grid_template_rows": null,
       "height": null,
       "justify_content": null,
       "justify_items": null,
       "left": null,
       "margin": null,
       "max_height": null,
       "max_width": null,
       "min_height": null,
       "min_width": null,
       "object_fit": null,
       "object_position": null,
       "order": null,
       "overflow": null,
       "padding": null,
       "right": null,
       "top": null,
       "visibility": null,
       "width": null
      }
     },
     "1b69b0e3af9442a6aa68cffc239329fa": {
      "model_module": "@jupyter-widgets/controls",
      "model_module_version": "2.0.0",
      "model_name": "HBoxModel",
      "state": {
       "_dom_classes": [],
       "_model_module": "@jupyter-widgets/controls",
       "_model_module_version": "2.0.0",
       "_model_name": "HBoxModel",
       "_view_count": null,
       "_view_module": "@jupyter-widgets/controls",
       "_view_module_version": "2.0.0",
       "_view_name": "HBoxView",
       "box_style": "",
       "children": [
        "IPY_MODEL_805ffb9b5e884d9cb65bb3946fe76f08",
        "IPY_MODEL_3f677d92b0dd414fb3ea2a1e77cffcb7",
        "IPY_MODEL_e89df2ca020c4f17830160dd30d5bfec"
       ],
       "layout": "IPY_MODEL_e8deec283b214763a971c7e28e11b913",
       "tabbable": null,
       "tooltip": null
      }
     },
     "265acb694a024a03aa0dbf19918a5249": {
      "model_module": "@jupyter-widgets/base",
      "model_module_version": "2.0.0",
      "model_name": "LayoutModel",
      "state": {
       "_model_module": "@jupyter-widgets/base",
       "_model_module_version": "2.0.0",
       "_model_name": "LayoutModel",
       "_view_count": null,
       "_view_module": "@jupyter-widgets/base",
       "_view_module_version": "2.0.0",
       "_view_name": "LayoutView",
       "align_content": null,
       "align_items": null,
       "align_self": null,
       "border_bottom": null,
       "border_left": null,
       "border_right": null,
       "border_top": null,
       "bottom": null,
       "display": null,
       "flex": null,
       "flex_flow": null,
       "grid_area": null,
       "grid_auto_columns": null,
       "grid_auto_flow": null,
       "grid_auto_rows": null,
       "grid_column": null,
       "grid_gap": null,
       "grid_row": null,
       "grid_template_areas": null,
       "grid_template_columns": null,
       "grid_template_rows": null,
       "height": null,
       "justify_content": null,
       "justify_items": null,
       "left": null,
       "margin": null,
       "max_height": null,
       "max_width": null,
       "min_height": null,
       "min_width": null,
       "object_fit": null,
       "object_position": null,
       "order": null,
       "overflow": null,
       "padding": null,
       "right": null,
       "top": null,
       "visibility": null,
       "width": null
      }
     },
     "29140bf827c7478595b3b7f05a6efc14": {
      "model_module": "@jupyter-widgets/controls",
      "model_module_version": "2.0.0",
      "model_name": "HTMLStyleModel",
      "state": {
       "_model_module": "@jupyter-widgets/controls",
       "_model_module_version": "2.0.0",
       "_model_name": "HTMLStyleModel",
       "_view_count": null,
       "_view_module": "@jupyter-widgets/base",
       "_view_module_version": "2.0.0",
       "_view_name": "StyleView",
       "background": null,
       "description_width": "",
       "font_size": null,
       "text_color": null
      }
     },
     "2bf9477dc72f41e897b53dfe4af165f8": {
      "model_module": "@jupyter-widgets/controls",
      "model_module_version": "2.0.0",
      "model_name": "HTMLStyleModel",
      "state": {
       "_model_module": "@jupyter-widgets/controls",
       "_model_module_version": "2.0.0",
       "_model_name": "HTMLStyleModel",
       "_view_count": null,
       "_view_module": "@jupyter-widgets/base",
       "_view_module_version": "2.0.0",
       "_view_name": "StyleView",
       "background": null,
       "description_width": "",
       "font_size": null,
       "text_color": null
      }
     },
     "39041b810e454ae794adbb52ed99cdad": {
      "model_module": "@jupyter-widgets/controls",
      "model_module_version": "2.0.0",
      "model_name": "HTMLModel",
      "state": {
       "_dom_classes": [],
       "_model_module": "@jupyter-widgets/controls",
       "_model_module_version": "2.0.0",
       "_model_name": "HTMLModel",
       "_view_count": null,
       "_view_module": "@jupyter-widgets/controls",
       "_view_module_version": "2.0.0",
       "_view_name": "HTMLView",
       "description": "",
       "description_allow_html": false,
       "layout": "IPY_MODEL_f60472a2ced14a8cad5b3b3ff5f4d08e",
       "placeholder": "​",
       "style": "IPY_MODEL_6e97e3732858416d92510f3f0384ded2",
       "tabbable": null,
       "tooltip": null,
       "value": "special_tokens_map.json: 100%"
      }
     },
     "3b0898d2c4584f1682e8907f8e741d9d": {
      "model_module": "@jupyter-widgets/base",
      "model_module_version": "2.0.0",
      "model_name": "LayoutModel",
      "state": {
       "_model_module": "@jupyter-widgets/base",
       "_model_module_version": "2.0.0",
       "_model_name": "LayoutModel",
       "_view_count": null,
       "_view_module": "@jupyter-widgets/base",
       "_view_module_version": "2.0.0",
       "_view_name": "LayoutView",
       "align_content": null,
       "align_items": null,
       "align_self": null,
       "border_bottom": null,
       "border_left": null,
       "border_right": null,
       "border_top": null,
       "bottom": null,
       "display": null,
       "flex": null,
       "flex_flow": null,
       "grid_area": null,
       "grid_auto_columns": null,
       "grid_auto_flow": null,
       "grid_auto_rows": null,
       "grid_column": null,
       "grid_gap": null,
       "grid_row": null,
       "grid_template_areas": null,
       "grid_template_columns": null,
       "grid_template_rows": null,
       "height": null,
       "justify_content": null,
       "justify_items": null,
       "left": null,
       "margin": null,
       "max_height": null,
       "max_width": null,
       "min_height": null,
       "min_width": null,
       "object_fit": null,
       "object_position": null,
       "order": null,
       "overflow": null,
       "padding": null,
       "right": null,
       "top": null,
       "visibility": null,
       "width": null
      }
     },
     "3f677d92b0dd414fb3ea2a1e77cffcb7": {
      "model_module": "@jupyter-widgets/controls",
      "model_module_version": "2.0.0",
      "model_name": "FloatProgressModel",
      "state": {
       "_dom_classes": [],
       "_model_module": "@jupyter-widgets/controls",
       "_model_module_version": "2.0.0",
       "_model_name": "FloatProgressModel",
       "_view_count": null,
       "_view_module": "@jupyter-widgets/controls",
       "_view_module_version": "2.0.0",
       "_view_name": "ProgressView",
       "bar_style": "success",
       "description": "",
       "description_allow_html": false,
       "layout": "IPY_MODEL_77376330dd6c4b0fb576e56daed96658",
       "max": 119.0,
       "min": 0.0,
       "orientation": "horizontal",
       "style": "IPY_MODEL_415513431aa04ff2b53af81c5fe4d92b",
       "tabbable": null,
       "tooltip": null,
       "value": 119.0
      }
     },
     "41428013708042c7ac1cdbf4985df9bb": {
      "model_module": "@jupyter-widgets/controls",
      "model_module_version": "2.0.0",
      "model_name": "HTMLStyleModel",
      "state": {
       "_model_module": "@jupyter-widgets/controls",
       "_model_module_version": "2.0.0",
       "_model_name": "HTMLStyleModel",
       "_view_count": null,
       "_view_module": "@jupyter-widgets/base",
       "_view_module_version": "2.0.0",
       "_view_name": "StyleView",
       "background": null,
       "description_width": "",
       "font_size": null,
       "text_color": null
      }
     },
     "415513431aa04ff2b53af81c5fe4d92b": {
      "model_module": "@jupyter-widgets/controls",
      "model_module_version": "2.0.0",
      "model_name": "ProgressStyleModel",
      "state": {
       "_model_module": "@jupyter-widgets/controls",
       "_model_module_version": "2.0.0",
       "_model_name": "ProgressStyleModel",
       "_view_count": null,
       "_view_module": "@jupyter-widgets/base",
       "_view_module_version": "2.0.0",
       "_view_name": "StyleView",
       "bar_color": null,
       "description_width": ""
      }
     },
     "464cc20efc39461bbeddb608501b238e": {
      "model_module": "@jupyter-widgets/controls",
      "model_module_version": "2.0.0",
      "model_name": "HTMLModel",
      "state": {
       "_dom_classes": [],
       "_model_module": "@jupyter-widgets/controls",
       "_model_module_version": "2.0.0",
       "_model_name": "HTMLModel",
       "_view_count": null,
       "_view_module": "@jupyter-widgets/controls",
       "_view_module_version": "2.0.0",
       "_view_name": "HTMLView",
       "description": "",
       "description_allow_html": false,
       "layout": "IPY_MODEL_e7b4df8df96f4d5bb589c3e61fce3321",
       "placeholder": "​",
       "style": "IPY_MODEL_5092d89f07854c2787fbb7c5b5c240dc",
       "tabbable": null,
       "tooltip": null,
       "value": " 112/112 [00:00&lt;00:00, 11.6kB/s]"
      }
     },
     "46faad9ee5aa47a4a7f9926a81cde948": {
      "model_module": "@jupyter-widgets/base",
      "model_module_version": "2.0.0",
      "model_name": "LayoutModel",
      "state": {
       "_model_module": "@jupyter-widgets/base",
       "_model_module_version": "2.0.0",
       "_model_name": "LayoutModel",
       "_view_count": null,
       "_view_module": "@jupyter-widgets/base",
       "_view_module_version": "2.0.0",
       "_view_name": "LayoutView",
       "align_content": null,
       "align_items": null,
       "align_self": null,
       "border_bottom": null,
       "border_left": null,
       "border_right": null,
       "border_top": null,
       "bottom": null,
       "display": null,
       "flex": null,
       "flex_flow": null,
       "grid_area": null,
       "grid_auto_columns": null,
       "grid_auto_flow": null,
       "grid_auto_rows": null,
       "grid_column": null,
       "grid_gap": null,
       "grid_row": null,
       "grid_template_areas": null,
       "grid_template_columns": null,
       "grid_template_rows": null,
       "height": null,
       "justify_content": null,
       "justify_items": null,
       "left": null,
       "margin": null,
       "max_height": null,
       "max_width": null,
       "min_height": null,
       "min_width": null,
       "object_fit": null,
       "object_position": null,
       "order": null,
       "overflow": null,
       "padding": null,
       "right": null,
       "top": null,
       "visibility": null,
       "width": null
      }
     },
     "4b2016fcfdba4cc7bfd24078074f2f1c": {
      "model_module": "@jupyter-widgets/base",
      "model_module_version": "2.0.0",
      "model_name": "LayoutModel",
      "state": {
       "_model_module": "@jupyter-widgets/base",
       "_model_module_version": "2.0.0",
       "_model_name": "LayoutModel",
       "_view_count": null,
       "_view_module": "@jupyter-widgets/base",
       "_view_module_version": "2.0.0",
       "_view_name": "LayoutView",
       "align_content": null,
       "align_items": null,
       "align_self": null,
       "border_bottom": null,
       "border_left": null,
       "border_right": null,
       "border_top": null,
       "bottom": null,
       "display": null,
       "flex": null,
       "flex_flow": null,
       "grid_area": null,
       "grid_auto_columns": null,
       "grid_auto_flow": null,
       "grid_auto_rows": null,
       "grid_column": null,
       "grid_gap": null,
       "grid_row": null,
       "grid_template_areas": null,
       "grid_template_columns": null,
       "grid_template_rows": null,
       "height": null,
       "justify_content": null,
       "justify_items": null,
       "left": null,
       "margin": null,
       "max_height": null,
       "max_width": null,
       "min_height": null,
       "min_width": null,
       "object_fit": null,
       "object_position": null,
       "order": null,
       "overflow": null,
       "padding": null,
       "right": null,
       "top": null,
       "visibility": null,
       "width": null
      }
     },
     "4e26d433d61f4878b556f2c003aaecda": {
      "model_module": "@jupyter-widgets/controls",
      "model_module_version": "2.0.0",
      "model_name": "FloatProgressModel",
      "state": {
       "_dom_classes": [],
       "_model_module": "@jupyter-widgets/controls",
       "_model_module_version": "2.0.0",
       "_model_name": "FloatProgressModel",
       "_view_count": null,
       "_view_module": "@jupyter-widgets/controls",
       "_view_module_version": "2.0.0",
       "_view_name": "ProgressView",
       "bar_style": "success",
       "description": "",
       "description_allow_html": false,
       "layout": "IPY_MODEL_8e2be0445f324ccd9ae9aed890615175",
       "max": 442560329.0,
       "min": 0.0,
       "orientation": "horizontal",
       "style": "IPY_MODEL_e463dd33439941b3b9510a16be519334",
       "tabbable": null,
       "tooltip": null,
       "value": 442560329.0
      }
     },
     "5092d89f07854c2787fbb7c5b5c240dc": {
      "model_module": "@jupyter-widgets/controls",
      "model_module_version": "2.0.0",
      "model_name": "HTMLStyleModel",
      "state": {
       "_model_module": "@jupyter-widgets/controls",
       "_model_module_version": "2.0.0",
       "_model_name": "HTMLStyleModel",
       "_view_count": null,
       "_view_module": "@jupyter-widgets/base",
       "_view_module_version": "2.0.0",
       "_view_name": "StyleView",
       "background": null,
       "description_width": "",
       "font_size": null,
       "text_color": null
      }
     },
     "50e232a33ed845a295149bc29d9a52b3": {
      "model_module": "@jupyter-widgets/base",
      "model_module_version": "2.0.0",
      "model_name": "LayoutModel",
      "state": {
       "_model_module": "@jupyter-widgets/base",
       "_model_module_version": "2.0.0",
       "_model_name": "LayoutModel",
       "_view_count": null,
       "_view_module": "@jupyter-widgets/base",
       "_view_module_version": "2.0.0",
       "_view_name": "LayoutView",
       "align_content": null,
       "align_items": null,
       "align_self": null,
       "border_bottom": null,
       "border_left": null,
       "border_right": null,
       "border_top": null,
       "bottom": null,
       "display": null,
       "flex": null,
       "flex_flow": null,
       "grid_area": null,
       "grid_auto_columns": null,
       "grid_auto_flow": null,
       "grid_auto_rows": null,
       "grid_column": null,
       "grid_gap": null,
       "grid_row": null,
       "grid_template_areas": null,
       "grid_template_columns": null,
       "grid_template_rows": null,
       "height": null,
       "justify_content": null,
       "justify_items": null,
       "left": null,
       "margin": null,
       "max_height": null,
       "max_width": null,
       "min_height": null,
       "min_width": null,
       "object_fit": null,
       "object_position": null,
       "order": null,
       "overflow": null,
       "padding": null,
       "right": null,
       "top": null,
       "visibility": null,
       "width": null
      }
     },
     "536e39ab15aa40b8a3ffcb4349d6e16f": {
      "model_module": "@jupyter-widgets/controls",
      "model_module_version": "2.0.0",
      "model_name": "ProgressStyleModel",
      "state": {
       "_model_module": "@jupyter-widgets/controls",
       "_model_module_version": "2.0.0",
       "_model_name": "ProgressStyleModel",
       "_view_count": null,
       "_view_module": "@jupyter-widgets/base",
       "_view_module_version": "2.0.0",
       "_view_name": "StyleView",
       "bar_color": null,
       "description_width": ""
      }
     },
     "5be95af131a94b8b85275e8977989600": {
      "model_module": "@jupyter-widgets/controls",
      "model_module_version": "2.0.0",
      "model_name": "HTMLStyleModel",
      "state": {
       "_model_module": "@jupyter-widgets/controls",
       "_model_module_version": "2.0.0",
       "_model_name": "HTMLStyleModel",
       "_view_count": null,
       "_view_module": "@jupyter-widgets/base",
       "_view_module_version": "2.0.0",
       "_view_name": "StyleView",
       "background": null,
       "description_width": "",
       "font_size": null,
       "text_color": null
      }
     },
     "5d6c2a519b184af2ab51598477a3d889": {
      "model_module": "@jupyter-widgets/controls",
      "model_module_version": "2.0.0",
      "model_name": "HTMLModel",
      "state": {
       "_dom_classes": [],
       "_model_module": "@jupyter-widgets/controls",
       "_model_module_version": "2.0.0",
       "_model_name": "HTMLModel",
       "_view_count": null,
       "_view_module": "@jupyter-widgets/controls",
       "_view_module_version": "2.0.0",
       "_view_name": "HTMLView",
       "description": "",
       "description_allow_html": false,
       "layout": "IPY_MODEL_cbc5232c3ff347159b138e3aa7f6ea19",
       "placeholder": "​",
       "style": "IPY_MODEL_8e9c500a0ae446e0b80c8f9c32221863",
       "tabbable": null,
       "tooltip": null,
       "value": " 25636/25636 [00:02&lt;00:00, 12026.21 examples/s]"
      }
     },
     "60cb9cdf317348418f2453495fb1a7cf": {
      "model_module": "@jupyter-widgets/base",
      "model_module_version": "2.0.0",
      "model_name": "LayoutModel",
      "state": {
       "_model_module": "@jupyter-widgets/base",
       "_model_module_version": "2.0.0",
       "_model_name": "LayoutModel",
       "_view_count": null,
       "_view_module": "@jupyter-widgets/base",
       "_view_module_version": "2.0.0",
       "_view_name": "LayoutView",
       "align_content": null,
       "align_items": null,
       "align_self": null,
       "border_bottom": null,
       "border_left": null,
       "border_right": null,
       "border_top": null,
       "bottom": null,
       "display": null,
       "flex": null,
       "flex_flow": null,
       "grid_area": null,
       "grid_auto_columns": null,
       "grid_auto_flow": null,
       "grid_auto_rows": null,
       "grid_column": null,
       "grid_gap": null,
       "grid_row": null,
       "grid_template_areas": null,
       "grid_template_columns": null,
       "grid_template_rows": null,
       "height": null,
       "justify_content": null,
       "justify_items": null,
       "left": null,
       "margin": null,
       "max_height": null,
       "max_width": null,
       "min_height": null,
       "min_width": null,
       "object_fit": null,
       "object_position": null,
       "order": null,
       "overflow": null,
       "padding": null,
       "right": null,
       "top": null,
       "visibility": null,
       "width": null
      }
     },
     "6325e60a1fe243bb8c22882c537923f8": {
      "model_module": "@jupyter-widgets/base",
      "model_module_version": "2.0.0",
      "model_name": "LayoutModel",
      "state": {
       "_model_module": "@jupyter-widgets/base",
       "_model_module_version": "2.0.0",
       "_model_name": "LayoutModel",
       "_view_count": null,
       "_view_module": "@jupyter-widgets/base",
       "_view_module_version": "2.0.0",
       "_view_name": "LayoutView",
       "align_content": null,
       "align_items": null,
       "align_self": null,
       "border_bottom": null,
       "border_left": null,
       "border_right": null,
       "border_top": null,
       "bottom": null,
       "display": null,
       "flex": null,
       "flex_flow": null,
       "grid_area": null,
       "grid_auto_columns": null,
       "grid_auto_flow": null,
       "grid_auto_rows": null,
       "grid_column": null,
       "grid_gap": null,
       "grid_row": null,
       "grid_template_areas": null,
       "grid_template_columns": null,
       "grid_template_rows": null,
       "height": null,
       "justify_content": null,
       "justify_items": null,
       "left": null,
       "margin": null,
       "max_height": null,
       "max_width": null,
       "min_height": null,
       "min_width": null,
       "object_fit": null,
       "object_position": null,
       "order": null,
       "overflow": null,
       "padding": null,
       "right": null,
       "top": null,
       "visibility": null,
       "width": null
      }
     },
     "63a6159a75414a228d7694578b13e2ff": {
      "model_module": "@jupyter-widgets/base",
      "model_module_version": "2.0.0",
      "model_name": "LayoutModel",
      "state": {
       "_model_module": "@jupyter-widgets/base",
       "_model_module_version": "2.0.0",
       "_model_name": "LayoutModel",
       "_view_count": null,
       "_view_module": "@jupyter-widgets/base",
       "_view_module_version": "2.0.0",
       "_view_name": "LayoutView",
       "align_content": null,
       "align_items": null,
       "align_self": null,
       "border_bottom": null,
       "border_left": null,
       "border_right": null,
       "border_top": null,
       "bottom": null,
       "display": null,
       "flex": null,
       "flex_flow": null,
       "grid_area": null,
       "grid_auto_columns": null,
       "grid_auto_flow": null,
       "grid_auto_rows": null,
       "grid_column": null,
       "grid_gap": null,
       "grid_row": null,
       "grid_template_areas": null,
       "grid_template_columns": null,
       "grid_template_rows": null,
       "height": null,
       "justify_content": null,
       "justify_items": null,
       "left": null,
       "margin": null,
       "max_height": null,
       "max_width": null,
       "min_height": null,
       "min_width": null,
       "object_fit": null,
       "object_position": null,
       "order": null,
       "overflow": null,
       "padding": null,
       "right": null,
       "top": null,
       "visibility": null,
       "width": null
      }
     },
     "6baae049549f469f8986f56f3fc2dd54": {
      "model_module": "@jupyter-widgets/controls",
      "model_module_version": "2.0.0",
      "model_name": "HBoxModel",
      "state": {
       "_dom_classes": [],
       "_model_module": "@jupyter-widgets/controls",
       "_model_module_version": "2.0.0",
       "_model_name": "HBoxModel",
       "_view_count": null,
       "_view_module": "@jupyter-widgets/controls",
       "_view_module_version": "2.0.0",
       "_view_name": "HBoxView",
       "box_style": "",
       "children": [
        "IPY_MODEL_39041b810e454ae794adbb52ed99cdad",
        "IPY_MODEL_9d2f729f08164650aae55c9b25e48923",
        "IPY_MODEL_464cc20efc39461bbeddb608501b238e"
       ],
       "layout": "IPY_MODEL_50e232a33ed845a295149bc29d9a52b3",
       "tabbable": null,
       "tooltip": null
      }
     },
     "6bb9b364531444498e1d25bb2bf1ca73": {
      "model_module": "@jupyter-widgets/controls",
      "model_module_version": "2.0.0",
      "model_name": "ProgressStyleModel",
      "state": {
       "_model_module": "@jupyter-widgets/controls",
       "_model_module_version": "2.0.0",
       "_model_name": "ProgressStyleModel",
       "_view_count": null,
       "_view_module": "@jupyter-widgets/base",
       "_view_module_version": "2.0.0",
       "_view_name": "StyleView",
       "bar_color": null,
       "description_width": ""
      }
     },
     "6e97e3732858416d92510f3f0384ded2": {
      "model_module": "@jupyter-widgets/controls",
      "model_module_version": "2.0.0",
      "model_name": "HTMLStyleModel",
      "state": {
       "_model_module": "@jupyter-widgets/controls",
       "_model_module_version": "2.0.0",
       "_model_name": "HTMLStyleModel",
       "_view_count": null,
       "_view_module": "@jupyter-widgets/base",
       "_view_module_version": "2.0.0",
       "_view_name": "StyleView",
       "background": null,
       "description_width": "",
       "font_size": null,
       "text_color": null
      }
     },
     "7039d1b5a6f5429c9e0d627bb5ed1f51": {
      "model_module": "@jupyter-widgets/base",
      "model_module_version": "2.0.0",
      "model_name": "LayoutModel",
      "state": {
       "_model_module": "@jupyter-widgets/base",
       "_model_module_version": "2.0.0",
       "_model_name": "LayoutModel",
       "_view_count": null,
       "_view_module": "@jupyter-widgets/base",
       "_view_module_version": "2.0.0",
       "_view_name": "LayoutView",
       "align_content": null,
       "align_items": null,
       "align_self": null,
       "border_bottom": null,
       "border_left": null,
       "border_right": null,
       "border_top": null,
       "bottom": null,
       "display": null,
       "flex": null,
       "flex_flow": null,
       "grid_area": null,
       "grid_auto_columns": null,
       "grid_auto_flow": null,
       "grid_auto_rows": null,
       "grid_column": null,
       "grid_gap": null,
       "grid_row": null,
       "grid_template_areas": null,
       "grid_template_columns": null,
       "grid_template_rows": null,
       "height": null,
       "justify_content": null,
       "justify_items": null,
       "left": null,
       "margin": null,
       "max_height": null,
       "max_width": null,
       "min_height": null,
       "min_width": null,
       "object_fit": null,
       "object_position": null,
       "order": null,
       "overflow": null,
       "padding": null,
       "right": null,
       "top": null,
       "visibility": null,
       "width": null
      }
     },
     "7604811411bd4c049ffcf6084c2eaab7": {
      "model_module": "@jupyter-widgets/base",
      "model_module_version": "2.0.0",
      "model_name": "LayoutModel",
      "state": {
       "_model_module": "@jupyter-widgets/base",
       "_model_module_version": "2.0.0",
       "_model_name": "LayoutModel",
       "_view_count": null,
       "_view_module": "@jupyter-widgets/base",
       "_view_module_version": "2.0.0",
       "_view_name": "LayoutView",
       "align_content": null,
       "align_items": null,
       "align_self": null,
       "border_bottom": null,
       "border_left": null,
       "border_right": null,
       "border_top": null,
       "bottom": null,
       "display": null,
       "flex": null,
       "flex_flow": null,
       "grid_area": null,
       "grid_auto_columns": null,
       "grid_auto_flow": null,
       "grid_auto_rows": null,
       "grid_column": null,
       "grid_gap": null,
       "grid_row": null,
       "grid_template_areas": null,
       "grid_template_columns": null,
       "grid_template_rows": null,
       "height": null,
       "justify_content": null,
       "justify_items": null,
       "left": null,
       "margin": null,
       "max_height": null,
       "max_width": null,
       "min_height": null,
       "min_width": null,
       "object_fit": null,
       "object_position": null,
       "order": null,
       "overflow": null,
       "padding": null,
       "right": null,
       "top": null,
       "visibility": null,
       "width": null
      }
     },
     "77376330dd6c4b0fb576e56daed96658": {
      "model_module": "@jupyter-widgets/base",
      "model_module_version": "2.0.0",
      "model_name": "LayoutModel",
      "state": {
       "_model_module": "@jupyter-widgets/base",
       "_model_module_version": "2.0.0",
       "_model_name": "LayoutModel",
       "_view_count": null,
       "_view_module": "@jupyter-widgets/base",
       "_view_module_version": "2.0.0",
       "_view_name": "LayoutView",
       "align_content": null,
       "align_items": null,
       "align_self": null,
       "border_bottom": null,
       "border_left": null,
       "border_right": null,
       "border_top": null,
       "bottom": null,
       "display": null,
       "flex": null,
       "flex_flow": null,
       "grid_area": null,
       "grid_auto_columns": null,
       "grid_auto_flow": null,
       "grid_auto_rows": null,
       "grid_column": null,
       "grid_gap": null,
       "grid_row": null,
       "grid_template_areas": null,
       "grid_template_columns": null,
       "grid_template_rows": null,
       "height": null,
       "justify_content": null,
       "justify_items": null,
       "left": null,
       "margin": null,
       "max_height": null,
       "max_width": null,
       "min_height": null,
       "min_width": null,
       "object_fit": null,
       "object_position": null,
       "order": null,
       "overflow": null,
       "padding": null,
       "right": null,
       "top": null,
       "visibility": null,
       "width": null
      }
     },
     "7bd01882aec0463cad26a06646109d80": {
      "model_module": "@jupyter-widgets/controls",
      "model_module_version": "2.0.0",
      "model_name": "HTMLStyleModel",
      "state": {
       "_model_module": "@jupyter-widgets/controls",
       "_model_module_version": "2.0.0",
       "_model_name": "HTMLStyleModel",
       "_view_count": null,
       "_view_module": "@jupyter-widgets/base",
       "_view_module_version": "2.0.0",
       "_view_name": "StyleView",
       "background": null,
       "description_width": "",
       "font_size": null,
       "text_color": null
      }
     },
     "7e2df0c338a44e26b1c48e14125e3b75": {
      "model_module": "@jupyter-widgets/controls",
      "model_module_version": "2.0.0",
      "model_name": "ProgressStyleModel",
      "state": {
       "_model_module": "@jupyter-widgets/controls",
       "_model_module_version": "2.0.0",
       "_model_name": "ProgressStyleModel",
       "_view_count": null,
       "_view_module": "@jupyter-widgets/base",
       "_view_module_version": "2.0.0",
       "_view_name": "StyleView",
       "bar_color": null,
       "description_width": ""
      }
     },
     "805ffb9b5e884d9cb65bb3946fe76f08": {
      "model_module": "@jupyter-widgets/controls",
      "model_module_version": "2.0.0",
      "model_name": "HTMLModel",
      "state": {
       "_dom_classes": [],
       "_model_module": "@jupyter-widgets/controls",
       "_model_module_version": "2.0.0",
       "_model_name": "HTMLModel",
       "_view_count": null,
       "_view_module": "@jupyter-widgets/controls",
       "_view_module_version": "2.0.0",
       "_view_name": "HTMLView",
       "description": "",
       "description_allow_html": false,
       "layout": "IPY_MODEL_bc5821e9e4094605ac6c2f05481e16d6",
       "placeholder": "​",
       "style": "IPY_MODEL_9ba8f0d8e7364ddebc6302f0bd7f2538",
       "tabbable": null,
       "tooltip": null,
       "value": "tokenizer_config.json: 100%"
      }
     },
     "82e67a2f203b47cc9e26c8eff4bcd80a": {
      "model_module": "@jupyter-widgets/controls",
      "model_module_version": "2.0.0",
      "model_name": "HBoxModel",
      "state": {
       "_dom_classes": [],
       "_model_module": "@jupyter-widgets/controls",
       "_model_module_version": "2.0.0",
       "_model_name": "HBoxModel",
       "_view_count": null,
       "_view_module": "@jupyter-widgets/controls",
       "_view_module_version": "2.0.0",
       "_view_name": "HBoxView",
       "box_style": "",
       "children": [
        "IPY_MODEL_9b4be796b6c5400dab2cd518491311f1",
        "IPY_MODEL_fd07b4e7852b4096ad4ab8df681835f0",
        "IPY_MODEL_5d6c2a519b184af2ab51598477a3d889"
       ],
       "layout": "IPY_MODEL_63a6159a75414a228d7694578b13e2ff",
       "tabbable": null,
       "tooltip": null
      }
     },
     "8765d2614b474a65be552b8ef9736f49": {
      "model_module": "@jupyter-widgets/controls",
      "model_module_version": "2.0.0",
      "model_name": "HTMLModel",
      "state": {
       "_dom_classes": [],
       "_model_module": "@jupyter-widgets/controls",
       "_model_module_version": "2.0.0",
       "_model_name": "HTMLModel",
       "_view_count": null,
       "_view_module": "@jupyter-widgets/controls",
       "_view_module_version": "2.0.0",
       "_view_name": "HTMLView",
       "description": "",
       "description_allow_html": false,
       "layout": "IPY_MODEL_f483f4eda45a4d2f98cf52199e8fea96",
       "placeholder": "​",
       "style": "IPY_MODEL_2bf9477dc72f41e897b53dfe4af165f8",
       "tabbable": null,
       "tooltip": null,
       "value": "config.json: 100%"
      }
     },
     "8c4c4b8555b945eb93a6a9828129c9ae": {
      "model_module": "@jupyter-widgets/controls",
      "model_module_version": "2.0.0",
      "model_name": "HBoxModel",
      "state": {
       "_dom_classes": [],
       "_model_module": "@jupyter-widgets/controls",
       "_model_module_version": "2.0.0",
       "_model_name": "HBoxModel",
       "_view_count": null,
       "_view_module": "@jupyter-widgets/controls",
       "_view_module_version": "2.0.0",
       "_view_name": "HBoxView",
       "box_style": "",
       "children": [
        "IPY_MODEL_8765d2614b474a65be552b8ef9736f49",
        "IPY_MODEL_fad78ff4d7ca4ef8882b26b214b3c3e4",
        "IPY_MODEL_bb92ee693e704b03802f35215fd0a1b5"
       ],
       "layout": "IPY_MODEL_c447305a236444c4858f182157601608",
       "tabbable": null,
       "tooltip": null
      }
     },
     "8e2be0445f324ccd9ae9aed890615175": {
      "model_module": "@jupyter-widgets/base",
      "model_module_version": "2.0.0",
      "model_name": "LayoutModel",
      "state": {
       "_model_module": "@jupyter-widgets/base",
       "_model_module_version": "2.0.0",
       "_model_name": "LayoutModel",
       "_view_count": null,
       "_view_module": "@jupyter-widgets/base",
       "_view_module_version": "2.0.0",
       "_view_name": "LayoutView",
       "align_content": null,
       "align_items": null,
       "align_self": null,
       "border_bottom": null,
       "border_left": null,
       "border_right": null,
       "border_top": null,
       "bottom": null,
       "display": null,
       "flex": null,
       "flex_flow": null,
       "grid_area": null,
       "grid_auto_columns": null,
       "grid_auto_flow": null,
       "grid_auto_rows": null,
       "grid_column": null,
       "grid_gap": null,
       "grid_row": null,
       "grid_template_areas": null,
       "grid_template_columns": null,
       "grid_template_rows": null,
       "height": null,
       "justify_content": null,
       "justify_items": null,
       "left": null,
       "margin": null,
       "max_height": null,
       "max_width": null,
       "min_height": null,
       "min_width": null,
       "object_fit": null,
       "object_position": null,
       "order": null,
       "overflow": null,
       "padding": null,
       "right": null,
       "top": null,
       "visibility": null,
       "width": null
      }
     },
     "8e9c500a0ae446e0b80c8f9c32221863": {
      "model_module": "@jupyter-widgets/controls",
      "model_module_version": "2.0.0",
      "model_name": "HTMLStyleModel",
      "state": {
       "_model_module": "@jupyter-widgets/controls",
       "_model_module_version": "2.0.0",
       "_model_name": "HTMLStyleModel",
       "_view_count": null,
       "_view_module": "@jupyter-widgets/base",
       "_view_module_version": "2.0.0",
       "_view_name": "StyleView",
       "background": null,
       "description_width": "",
       "font_size": null,
       "text_color": null
      }
     },
     "936bb423a47640d6a0fa5598b69875da": {
      "model_module": "@jupyter-widgets/controls",
      "model_module_version": "2.0.0",
      "model_name": "ProgressStyleModel",
      "state": {
       "_model_module": "@jupyter-widgets/controls",
       "_model_module_version": "2.0.0",
       "_model_name": "ProgressStyleModel",
       "_view_count": null,
       "_view_module": "@jupyter-widgets/base",
       "_view_module_version": "2.0.0",
       "_view_name": "StyleView",
       "bar_color": null,
       "description_width": ""
      }
     },
     "949a7a2a80c64638981ecce627fd932f": {
      "model_module": "@jupyter-widgets/controls",
      "model_module_version": "2.0.0",
      "model_name": "HTMLStyleModel",
      "state": {
       "_model_module": "@jupyter-widgets/controls",
       "_model_module_version": "2.0.0",
       "_model_name": "HTMLStyleModel",
       "_view_count": null,
       "_view_module": "@jupyter-widgets/base",
       "_view_module_version": "2.0.0",
       "_view_name": "StyleView",
       "background": null,
       "description_width": "",
       "font_size": null,
       "text_color": null
      }
     },
     "9b4be796b6c5400dab2cd518491311f1": {
      "model_module": "@jupyter-widgets/controls",
      "model_module_version": "2.0.0",
      "model_name": "HTMLModel",
      "state": {
       "_dom_classes": [],
       "_model_module": "@jupyter-widgets/controls",
       "_model_module_version": "2.0.0",
       "_model_name": "HTMLModel",
       "_view_count": null,
       "_view_module": "@jupyter-widgets/controls",
       "_view_module_version": "2.0.0",
       "_view_name": "HTMLView",
       "description": "",
       "description_allow_html": false,
       "layout": "IPY_MODEL_3b0898d2c4584f1682e8907f8e741d9d",
       "placeholder": "​",
       "style": "IPY_MODEL_5be95af131a94b8b85275e8977989600",
       "tabbable": null,
       "tooltip": null,
       "value": "Map: 100%"
      }
     },
     "9ba8f0d8e7364ddebc6302f0bd7f2538": {
      "model_module": "@jupyter-widgets/controls",
      "model_module_version": "2.0.0",
      "model_name": "HTMLStyleModel",
      "state": {
       "_model_module": "@jupyter-widgets/controls",
       "_model_module_version": "2.0.0",
       "_model_name": "HTMLStyleModel",
       "_view_count": null,
       "_view_module": "@jupyter-widgets/base",
       "_view_module_version": "2.0.0",
       "_view_name": "StyleView",
       "background": null,
       "description_width": "",
       "font_size": null,
       "text_color": null
      }
     },
     "9d2f729f08164650aae55c9b25e48923": {
      "model_module": "@jupyter-widgets/controls",
      "model_module_version": "2.0.0",
      "model_name": "FloatProgressModel",
      "state": {
       "_dom_classes": [],
       "_model_module": "@jupyter-widgets/controls",
       "_model_module_version": "2.0.0",
       "_model_name": "FloatProgressModel",
       "_view_count": null,
       "_view_module": "@jupyter-widgets/controls",
       "_view_module_version": "2.0.0",
       "_view_name": "ProgressView",
       "bar_style": "success",
       "description": "",
       "description_allow_html": false,
       "layout": "IPY_MODEL_dbe8d9f1180445bfaf12a13d9509f0de",
       "max": 112.0,
       "min": 0.0,
       "orientation": "horizontal",
       "style": "IPY_MODEL_936bb423a47640d6a0fa5598b69875da",
       "tabbable": null,
       "tooltip": null,
       "value": 112.0
      }
     },
     "9d60af1c22bc4ab3815be796b0e1f3d5": {
      "model_module": "@jupyter-widgets/controls",
      "model_module_version": "2.0.0",
      "model_name": "HTMLModel",
      "state": {
       "_dom_classes": [],
       "_model_module": "@jupyter-widgets/controls",
       "_model_module_version": "2.0.0",
       "_model_name": "HTMLModel",
       "_view_count": null,
       "_view_module": "@jupyter-widgets/controls",
       "_view_module_version": "2.0.0",
       "_view_name": "HTMLView",
       "description": "",
       "description_allow_html": false,
       "layout": "IPY_MODEL_265acb694a024a03aa0dbf19918a5249",
       "placeholder": "​",
       "style": "IPY_MODEL_41428013708042c7ac1cdbf4985df9bb",
       "tabbable": null,
       "tooltip": null,
       "value": " 443M/443M [00:01&lt;00:00, 232MB/s]"
      }
     },
     "aaf5a3c7efaa4a239b9c3a00bd6f6674": {
      "model_module": "@jupyter-widgets/controls",
      "model_module_version": "2.0.0",
      "model_name": "HTMLStyleModel",
      "state": {
       "_model_module": "@jupyter-widgets/controls",
       "_model_module_version": "2.0.0",
       "_model_name": "HTMLStyleModel",
       "_view_count": null,
       "_view_module": "@jupyter-widgets/base",
       "_view_module_version": "2.0.0",
       "_view_name": "StyleView",
       "background": null,
       "description_width": "",
       "font_size": null,
       "text_color": null
      }
     },
     "b05136fc1e3f4af4ac1ae7330f672ae9": {
      "model_module": "@jupyter-widgets/controls",
      "model_module_version": "2.0.0",
      "model_name": "HBoxModel",
      "state": {
       "_dom_classes": [],
       "_model_module": "@jupyter-widgets/controls",
       "_model_module_version": "2.0.0",
       "_model_name": "HBoxModel",
       "_view_count": null,
       "_view_module": "@jupyter-widgets/controls",
       "_view_module_version": "2.0.0",
       "_view_name": "HBoxView",
       "box_style": "",
       "children": [
        "IPY_MODEL_f05521a34a57440ba26f4448832ab845",
        "IPY_MODEL_e7af4d5b55c1428497d3c77c72b275ef",
        "IPY_MODEL_ba2df3a1b2874035828c85065e0acf4c"
       ],
       "layout": "IPY_MODEL_4b2016fcfdba4cc7bfd24078074f2f1c",
       "tabbable": null,
       "tooltip": null
      }
     },
     "ba2df3a1b2874035828c85065e0acf4c": {
      "model_module": "@jupyter-widgets/controls",
      "model_module_version": "2.0.0",
      "model_name": "HTMLModel",
      "state": {
       "_dom_classes": [],
       "_model_module": "@jupyter-widgets/controls",
       "_model_module_version": "2.0.0",
       "_model_name": "HTMLModel",
       "_view_count": null,
       "_view_module": "@jupyter-widgets/controls",
       "_view_module_version": "2.0.0",
       "_view_name": "HTMLView",
       "description": "",
       "description_allow_html": false,
       "layout": "IPY_MODEL_be449d7739294b6aaed13204875b097e",
       "placeholder": "​",
       "style": "IPY_MODEL_949a7a2a80c64638981ecce627fd932f",
       "tabbable": null,
       "tooltip": null,
       "value": " 528k/528k [00:00&lt;00:00, 3.07MB/s]"
      }
     },
     "bb92ee693e704b03802f35215fd0a1b5": {
      "model_module": "@jupyter-widgets/controls",
      "model_module_version": "2.0.0",
      "model_name": "HTMLModel",
      "state": {
       "_dom_classes": [],
       "_model_module": "@jupyter-widgets/controls",
       "_model_module_version": "2.0.0",
       "_model_name": "HTMLModel",
       "_view_count": null,
       "_view_module": "@jupyter-widgets/controls",
       "_view_module_version": "2.0.0",
       "_view_name": "HTMLView",
       "description": "",
       "description_allow_html": false,
       "layout": "IPY_MODEL_7039d1b5a6f5429c9e0d627bb5ed1f51",
       "placeholder": "​",
       "style": "IPY_MODEL_29140bf827c7478595b3b7f05a6efc14",
       "tabbable": null,
       "tooltip": null,
       "value": " 586/586 [00:00&lt;00:00, 65.3kB/s]"
      }
     },
     "bc5821e9e4094605ac6c2f05481e16d6": {
      "model_module": "@jupyter-widgets/base",
      "model_module_version": "2.0.0",
      "model_name": "LayoutModel",
      "state": {
       "_model_module": "@jupyter-widgets/base",
       "_model_module_version": "2.0.0",
       "_model_name": "LayoutModel",
       "_view_count": null,
       "_view_module": "@jupyter-widgets/base",
       "_view_module_version": "2.0.0",
       "_view_name": "LayoutView",
       "align_content": null,
       "align_items": null,
       "align_self": null,
       "border_bottom": null,
       "border_left": null,
       "border_right": null,
       "border_top": null,
       "bottom": null,
       "display": null,
       "flex": null,
       "flex_flow": null,
       "grid_area": null,
       "grid_auto_columns": null,
       "grid_auto_flow": null,
       "grid_auto_rows": null,
       "grid_column": null,
       "grid_gap": null,
       "grid_row": null,
       "grid_template_areas": null,
       "grid_template_columns": null,
       "grid_template_rows": null,
       "height": null,
       "justify_content": null,
       "justify_items": null,
       "left": null,
       "margin": null,
       "max_height": null,
       "max_width": null,
       "min_height": null,
       "min_width": null,
       "object_fit": null,
       "object_position": null,
       "order": null,
       "overflow": null,
       "padding": null,
       "right": null,
       "top": null,
       "visibility": null,
       "width": null
      }
     },
     "be449d7739294b6aaed13204875b097e": {
      "model_module": "@jupyter-widgets/base",
      "model_module_version": "2.0.0",
      "model_name": "LayoutModel",
      "state": {
       "_model_module": "@jupyter-widgets/base",
       "_model_module_version": "2.0.0",
       "_model_name": "LayoutModel",
       "_view_count": null,
       "_view_module": "@jupyter-widgets/base",
       "_view_module_version": "2.0.0",
       "_view_name": "LayoutView",
       "align_content": null,
       "align_items": null,
       "align_self": null,
       "border_bottom": null,
       "border_left": null,
       "border_right": null,
       "border_top": null,
       "bottom": null,
       "display": null,
       "flex": null,
       "flex_flow": null,
       "grid_area": null,
       "grid_auto_columns": null,
       "grid_auto_flow": null,
       "grid_auto_rows": null,
       "grid_column": null,
       "grid_gap": null,
       "grid_row": null,
       "grid_template_areas": null,
       "grid_template_columns": null,
       "grid_template_rows": null,
       "height": null,
       "justify_content": null,
       "justify_items": null,
       "left": null,
       "margin": null,
       "max_height": null,
       "max_width": null,
       "min_height": null,
       "min_width": null,
       "object_fit": null,
       "object_position": null,
       "order": null,
       "overflow": null,
       "padding": null,
       "right": null,
       "top": null,
       "visibility": null,
       "width": null
      }
     },
     "c0a02987144547a99a4dbe4e2bbe2b7d": {
      "model_module": "@jupyter-widgets/controls",
      "model_module_version": "2.0.0",
      "model_name": "HBoxModel",
      "state": {
       "_dom_classes": [],
       "_model_module": "@jupyter-widgets/controls",
       "_model_module_version": "2.0.0",
       "_model_name": "HBoxModel",
       "_view_count": null,
       "_view_module": "@jupyter-widgets/controls",
       "_view_module_version": "2.0.0",
       "_view_name": "HBoxView",
       "box_style": "",
       "children": [
        "IPY_MODEL_ea2ae9021cd3430a8e4afa89850acb2e",
        "IPY_MODEL_4e26d433d61f4878b556f2c003aaecda",
        "IPY_MODEL_9d60af1c22bc4ab3815be796b0e1f3d5"
       ],
       "layout": "IPY_MODEL_fdd7472834284e20b30c49181f2ab195",
       "tabbable": null,
       "tooltip": null
      }
     },
     "c447305a236444c4858f182157601608": {
      "model_module": "@jupyter-widgets/base",
      "model_module_version": "2.0.0",
      "model_name": "LayoutModel",
      "state": {
       "_model_module": "@jupyter-widgets/base",
       "_model_module_version": "2.0.0",
       "_model_name": "LayoutModel",
       "_view_count": null,
       "_view_module": "@jupyter-widgets/base",
       "_view_module_version": "2.0.0",
       "_view_name": "LayoutView",
       "align_content": null,
       "align_items": null,
       "align_self": null,
       "border_bottom": null,
       "border_left": null,
       "border_right": null,
       "border_top": null,
       "bottom": null,
       "display": null,
       "flex": null,
       "flex_flow": null,
       "grid_area": null,
       "grid_auto_columns": null,
       "grid_auto_flow": null,
       "grid_auto_rows": null,
       "grid_column": null,
       "grid_gap": null,
       "grid_row": null,
       "grid_template_areas": null,
       "grid_template_columns": null,
       "grid_template_rows": null,
       "height": null,
       "justify_content": null,
       "justify_items": null,
       "left": null,
       "margin": null,
       "max_height": null,
       "max_width": null,
       "min_height": null,
       "min_width": null,
       "object_fit": null,
       "object_position": null,
       "order": null,
       "overflow": null,
       "padding": null,
       "right": null,
       "top": null,
       "visibility": null,
       "width": null
      }
     },
     "cbc5232c3ff347159b138e3aa7f6ea19": {
      "model_module": "@jupyter-widgets/base",
      "model_module_version": "2.0.0",
      "model_name": "LayoutModel",
      "state": {
       "_model_module": "@jupyter-widgets/base",
       "_model_module_version": "2.0.0",
       "_model_name": "LayoutModel",
       "_view_count": null,
       "_view_module": "@jupyter-widgets/base",
       "_view_module_version": "2.0.0",
       "_view_name": "LayoutView",
       "align_content": null,
       "align_items": null,
       "align_self": null,
       "border_bottom": null,
       "border_left": null,
       "border_right": null,
       "border_top": null,
       "bottom": null,
       "display": null,
       "flex": null,
       "flex_flow": null,
       "grid_area": null,
       "grid_auto_columns": null,
       "grid_auto_flow": null,
       "grid_auto_rows": null,
       "grid_column": null,
       "grid_gap": null,
       "grid_row": null,
       "grid_template_areas": null,
       "grid_template_columns": null,
       "grid_template_rows": null,
       "height": null,
       "justify_content": null,
       "justify_items": null,
       "left": null,
       "margin": null,
       "max_height": null,
       "max_width": null,
       "min_height": null,
       "min_width": null,
       "object_fit": null,
       "object_position": null,
       "order": null,
       "overflow": null,
       "padding": null,
       "right": null,
       "top": null,
       "visibility": null,
       "width": null
      }
     },
     "d44db9cf3e0a44a2afa74e884bf7b290": {
      "model_module": "@jupyter-widgets/base",
      "model_module_version": "2.0.0",
      "model_name": "LayoutModel",
      "state": {
       "_model_module": "@jupyter-widgets/base",
       "_model_module_version": "2.0.0",
       "_model_name": "LayoutModel",
       "_view_count": null,
       "_view_module": "@jupyter-widgets/base",
       "_view_module_version": "2.0.0",
       "_view_name": "LayoutView",
       "align_content": null,
       "align_items": null,
       "align_self": null,
       "border_bottom": null,
       "border_left": null,
       "border_right": null,
       "border_top": null,
       "bottom": null,
       "display": null,
       "flex": null,
       "flex_flow": null,
       "grid_area": null,
       "grid_auto_columns": null,
       "grid_auto_flow": null,
       "grid_auto_rows": null,
       "grid_column": null,
       "grid_gap": null,
       "grid_row": null,
       "grid_template_areas": null,
       "grid_template_columns": null,
       "grid_template_rows": null,
       "height": null,
       "justify_content": null,
       "justify_items": null,
       "left": null,
       "margin": null,
       "max_height": null,
       "max_width": null,
       "min_height": null,
       "min_width": null,
       "object_fit": null,
       "object_position": null,
       "order": null,
       "overflow": null,
       "padding": null,
       "right": null,
       "top": null,
       "visibility": null,
       "width": null
      }
     },
     "dbe8d9f1180445bfaf12a13d9509f0de": {
      "model_module": "@jupyter-widgets/base",
      "model_module_version": "2.0.0",
      "model_name": "LayoutModel",
      "state": {
       "_model_module": "@jupyter-widgets/base",
       "_model_module_version": "2.0.0",
       "_model_name": "LayoutModel",
       "_view_count": null,
       "_view_module": "@jupyter-widgets/base",
       "_view_module_version": "2.0.0",
       "_view_name": "LayoutView",
       "align_content": null,
       "align_items": null,
       "align_self": null,
       "border_bottom": null,
       "border_left": null,
       "border_right": null,
       "border_top": null,
       "bottom": null,
       "display": null,
       "flex": null,
       "flex_flow": null,
       "grid_area": null,
       "grid_auto_columns": null,
       "grid_auto_flow": null,
       "grid_auto_rows": null,
       "grid_column": null,
       "grid_gap": null,
       "grid_row": null,
       "grid_template_areas": null,
       "grid_template_columns": null,
       "grid_template_rows": null,
       "height": null,
       "justify_content": null,
       "justify_items": null,
       "left": null,
       "margin": null,
       "max_height": null,
       "max_width": null,
       "min_height": null,
       "min_width": null,
       "object_fit": null,
       "object_position": null,
       "order": null,
       "overflow": null,
       "padding": null,
       "right": null,
       "top": null,
       "visibility": null,
       "width": null
      }
     },
     "e016d0f54ebb4d34857ddfdd7d53ae8a": {
      "model_module": "@jupyter-widgets/controls",
      "model_module_version": "2.0.0",
      "model_name": "HTMLStyleModel",
      "state": {
       "_model_module": "@jupyter-widgets/controls",
       "_model_module_version": "2.0.0",
       "_model_name": "HTMLStyleModel",
       "_view_count": null,
       "_view_module": "@jupyter-widgets/base",
       "_view_module_version": "2.0.0",
       "_view_name": "StyleView",
       "background": null,
       "description_width": "",
       "font_size": null,
       "text_color": null
      }
     },
     "e463dd33439941b3b9510a16be519334": {
      "model_module": "@jupyter-widgets/controls",
      "model_module_version": "2.0.0",
      "model_name": "ProgressStyleModel",
      "state": {
       "_model_module": "@jupyter-widgets/controls",
       "_model_module_version": "2.0.0",
       "_model_name": "ProgressStyleModel",
       "_view_count": null,
       "_view_module": "@jupyter-widgets/base",
       "_view_module_version": "2.0.0",
       "_view_name": "StyleView",
       "bar_color": null,
       "description_width": ""
      }
     },
     "e7af4d5b55c1428497d3c77c72b275ef": {
      "model_module": "@jupyter-widgets/controls",
      "model_module_version": "2.0.0",
      "model_name": "FloatProgressModel",
      "state": {
       "_dom_classes": [],
       "_model_module": "@jupyter-widgets/controls",
       "_model_module_version": "2.0.0",
       "_model_name": "FloatProgressModel",
       "_view_count": null,
       "_view_module": "@jupyter-widgets/controls",
       "_view_module_version": "2.0.0",
       "_view_name": "ProgressView",
       "bar_style": "success",
       "description": "",
       "description_allow_html": false,
       "layout": "IPY_MODEL_46faad9ee5aa47a4a7f9926a81cde948",
       "max": 528316.0,
       "min": 0.0,
       "orientation": "horizontal",
       "style": "IPY_MODEL_7e2df0c338a44e26b1c48e14125e3b75",
       "tabbable": null,
       "tooltip": null,
       "value": 528316.0
      }
     },
     "e7b4df8df96f4d5bb589c3e61fce3321": {
      "model_module": "@jupyter-widgets/base",
      "model_module_version": "2.0.0",
      "model_name": "LayoutModel",
      "state": {
       "_model_module": "@jupyter-widgets/base",
       "_model_module_version": "2.0.0",
       "_model_name": "LayoutModel",
       "_view_count": null,
       "_view_module": "@jupyter-widgets/base",
       "_view_module_version": "2.0.0",
       "_view_name": "LayoutView",
       "align_content": null,
       "align_items": null,
       "align_self": null,
       "border_bottom": null,
       "border_left": null,
       "border_right": null,
       "border_top": null,
       "bottom": null,
       "display": null,
       "flex": null,
       "flex_flow": null,
       "grid_area": null,
       "grid_auto_columns": null,
       "grid_auto_flow": null,
       "grid_auto_rows": null,
       "grid_column": null,
       "grid_gap": null,
       "grid_row": null,
       "grid_template_areas": null,
       "grid_template_columns": null,
       "grid_template_rows": null,
       "height": null,
       "justify_content": null,
       "justify_items": null,
       "left": null,
       "margin": null,
       "max_height": null,
       "max_width": null,
       "min_height": null,
       "min_width": null,
       "object_fit": null,
       "object_position": null,
       "order": null,
       "overflow": null,
       "padding": null,
       "right": null,
       "top": null,
       "visibility": null,
       "width": null
      }
     },
     "e89df2ca020c4f17830160dd30d5bfec": {
      "model_module": "@jupyter-widgets/controls",
      "model_module_version": "2.0.0",
      "model_name": "HTMLModel",
      "state": {
       "_dom_classes": [],
       "_model_module": "@jupyter-widgets/controls",
       "_model_module_version": "2.0.0",
       "_model_name": "HTMLModel",
       "_view_count": null,
       "_view_module": "@jupyter-widgets/controls",
       "_view_module_version": "2.0.0",
       "_view_name": "HTMLView",
       "description": "",
       "description_allow_html": false,
       "layout": "IPY_MODEL_7604811411bd4c049ffcf6084c2eaab7",
       "placeholder": "​",
       "style": "IPY_MODEL_e016d0f54ebb4d34857ddfdd7d53ae8a",
       "tabbable": null,
       "tooltip": null,
       "value": " 119/119 [00:00&lt;00:00, 11.8kB/s]"
      }
     },
     "e8deec283b214763a971c7e28e11b913": {
      "model_module": "@jupyter-widgets/base",
      "model_module_version": "2.0.0",
      "model_name": "LayoutModel",
      "state": {
       "_model_module": "@jupyter-widgets/base",
       "_model_module_version": "2.0.0",
       "_model_name": "LayoutModel",
       "_view_count": null,
       "_view_module": "@jupyter-widgets/base",
       "_view_module_version": "2.0.0",
       "_view_name": "LayoutView",
       "align_content": null,
       "align_items": null,
       "align_self": null,
       "border_bottom": null,
       "border_left": null,
       "border_right": null,
       "border_top": null,
       "bottom": null,
       "display": null,
       "flex": null,
       "flex_flow": null,
       "grid_area": null,
       "grid_auto_columns": null,
       "grid_auto_flow": null,
       "grid_auto_rows": null,
       "grid_column": null,
       "grid_gap": null,
       "grid_row": null,
       "grid_template_areas": null,
       "grid_template_columns": null,
       "grid_template_rows": null,
       "height": null,
       "justify_content": null,
       "justify_items": null,
       "left": null,
       "margin": null,
       "max_height": null,
       "max_width": null,
       "min_height": null,
       "min_width": null,
       "object_fit": null,
       "object_position": null,
       "order": null,
       "overflow": null,
       "padding": null,
       "right": null,
       "top": null,
       "visibility": null,
       "width": null
      }
     },
     "ea2ae9021cd3430a8e4afa89850acb2e": {
      "model_module": "@jupyter-widgets/controls",
      "model_module_version": "2.0.0",
      "model_name": "HTMLModel",
      "state": {
       "_dom_classes": [],
       "_model_module": "@jupyter-widgets/controls",
       "_model_module_version": "2.0.0",
       "_model_name": "HTMLModel",
       "_view_count": null,
       "_view_module": "@jupyter-widgets/controls",
       "_view_module_version": "2.0.0",
       "_view_name": "HTMLView",
       "description": "",
       "description_allow_html": false,
       "layout": "IPY_MODEL_1871f0bc129b42c0ab7cb1f7b3186c53",
       "placeholder": "​",
       "style": "IPY_MODEL_aaf5a3c7efaa4a239b9c3a00bd6f6674",
       "tabbable": null,
       "tooltip": null,
       "value": "pytorch_model.bin: 100%"
      }
     },
     "f05521a34a57440ba26f4448832ab845": {
      "model_module": "@jupyter-widgets/controls",
      "model_module_version": "2.0.0",
      "model_name": "HTMLModel",
      "state": {
       "_dom_classes": [],
       "_model_module": "@jupyter-widgets/controls",
       "_model_module_version": "2.0.0",
       "_model_name": "HTMLModel",
       "_view_count": null,
       "_view_module": "@jupyter-widgets/controls",
       "_view_module_version": "2.0.0",
       "_view_name": "HTMLView",
       "description": "",
       "description_allow_html": false,
       "layout": "IPY_MODEL_6325e60a1fe243bb8c22882c537923f8",
       "placeholder": "​",
       "style": "IPY_MODEL_7bd01882aec0463cad26a06646109d80",
       "tabbable": null,
       "tooltip": null,
       "value": "vocab.txt: 100%"
      }
     },
     "f483f4eda45a4d2f98cf52199e8fea96": {
      "model_module": "@jupyter-widgets/base",
      "model_module_version": "2.0.0",
      "model_name": "LayoutModel",
      "state": {
       "_model_module": "@jupyter-widgets/base",
       "_model_module_version": "2.0.0",
       "_model_name": "LayoutModel",
       "_view_count": null,
       "_view_module": "@jupyter-widgets/base",
       "_view_module_version": "2.0.0",
       "_view_name": "LayoutView",
       "align_content": null,
       "align_items": null,
       "align_self": null,
       "border_bottom": null,
       "border_left": null,
       "border_right": null,
       "border_top": null,
       "bottom": null,
       "display": null,
       "flex": null,
       "flex_flow": null,
       "grid_area": null,
       "grid_auto_columns": null,
       "grid_auto_flow": null,
       "grid_auto_rows": null,
       "grid_column": null,
       "grid_gap": null,
       "grid_row": null,
       "grid_template_areas": null,
       "grid_template_columns": null,
       "grid_template_rows": null,
       "height": null,
       "justify_content": null,
       "justify_items": null,
       "left": null,
       "margin": null,
       "max_height": null,
       "max_width": null,
       "min_height": null,
       "min_width": null,
       "object_fit": null,
       "object_position": null,
       "order": null,
       "overflow": null,
       "padding": null,
       "right": null,
       "top": null,
       "visibility": null,
       "width": null
      }
     },
     "f60472a2ced14a8cad5b3b3ff5f4d08e": {
      "model_module": "@jupyter-widgets/base",
      "model_module_version": "2.0.0",
      "model_name": "LayoutModel",
      "state": {
       "_model_module": "@jupyter-widgets/base",
       "_model_module_version": "2.0.0",
       "_model_name": "LayoutModel",
       "_view_count": null,
       "_view_module": "@jupyter-widgets/base",
       "_view_module_version": "2.0.0",
       "_view_name": "LayoutView",
       "align_content": null,
       "align_items": null,
       "align_self": null,
       "border_bottom": null,
       "border_left": null,
       "border_right": null,
       "border_top": null,
       "bottom": null,
       "display": null,
       "flex": null,
       "flex_flow": null,
       "grid_area": null,
       "grid_auto_columns": null,
       "grid_auto_flow": null,
       "grid_auto_rows": null,
       "grid_column": null,
       "grid_gap": null,
       "grid_row": null,
       "grid_template_areas": null,
       "grid_template_columns": null,
       "grid_template_rows": null,
       "height": null,
       "justify_content": null,
       "justify_items": null,
       "left": null,
       "margin": null,
       "max_height": null,
       "max_width": null,
       "min_height": null,
       "min_width": null,
       "object_fit": null,
       "object_position": null,
       "order": null,
       "overflow": null,
       "padding": null,
       "right": null,
       "top": null,
       "visibility": null,
       "width": null
      }
     },
     "fad78ff4d7ca4ef8882b26b214b3c3e4": {
      "model_module": "@jupyter-widgets/controls",
      "model_module_version": "2.0.0",
      "model_name": "FloatProgressModel",
      "state": {
       "_dom_classes": [],
       "_model_module": "@jupyter-widgets/controls",
       "_model_module_version": "2.0.0",
       "_model_name": "FloatProgressModel",
       "_view_count": null,
       "_view_module": "@jupyter-widgets/controls",
       "_view_module_version": "2.0.0",
       "_view_name": "ProgressView",
       "bar_style": "success",
       "description": "",
       "description_allow_html": false,
       "layout": "IPY_MODEL_60cb9cdf317348418f2453495fb1a7cf",
       "max": 586.0,
       "min": 0.0,
       "orientation": "horizontal",
       "style": "IPY_MODEL_536e39ab15aa40b8a3ffcb4349d6e16f",
       "tabbable": null,
       "tooltip": null,
       "value": 586.0
      }
     },
     "fd07b4e7852b4096ad4ab8df681835f0": {
      "model_module": "@jupyter-widgets/controls",
      "model_module_version": "2.0.0",
      "model_name": "FloatProgressModel",
      "state": {
       "_dom_classes": [],
       "_model_module": "@jupyter-widgets/controls",
       "_model_module_version": "2.0.0",
       "_model_name": "FloatProgressModel",
       "_view_count": null,
       "_view_module": "@jupyter-widgets/controls",
       "_view_module_version": "2.0.0",
       "_view_name": "ProgressView",
       "bar_style": "success",
       "description": "",
       "description_allow_html": false,
       "layout": "IPY_MODEL_d44db9cf3e0a44a2afa74e884bf7b290",
       "max": 25636.0,
       "min": 0.0,
       "orientation": "horizontal",
       "style": "IPY_MODEL_6bb9b364531444498e1d25bb2bf1ca73",
       "tabbable": null,
       "tooltip": null,
       "value": 25636.0
      }
     },
     "fdd7472834284e20b30c49181f2ab195": {
      "model_module": "@jupyter-widgets/base",
      "model_module_version": "2.0.0",
      "model_name": "LayoutModel",
      "state": {
       "_model_module": "@jupyter-widgets/base",
       "_model_module_version": "2.0.0",
       "_model_name": "LayoutModel",
       "_view_count": null,
       "_view_module": "@jupyter-widgets/base",
       "_view_module_version": "2.0.0",
       "_view_name": "LayoutView",
       "align_content": null,
       "align_items": null,
       "align_self": null,
       "border_bottom": null,
       "border_left": null,
       "border_right": null,
       "border_top": null,
       "bottom": null,
       "display": null,
       "flex": null,
       "flex_flow": null,
       "grid_area": null,
       "grid_auto_columns": null,
       "grid_auto_flow": null,
       "grid_auto_rows": null,
       "grid_column": null,
       "grid_gap": null,
       "grid_row": null,
       "grid_template_areas": null,
       "grid_template_columns": null,
       "grid_template_rows": null,
       "height": null,
       "justify_content": null,
       "justify_items": null,
       "left": null,
       "margin": null,
       "max_height": null,
       "max_width": null,
       "min_height": null,
       "min_width": null,
       "object_fit": null,
       "object_position": null,
       "order": null,
       "overflow": null,
       "padding": null,
       "right": null,
       "top": null,
       "visibility": null,
       "width": null
      }
     }
    },
    "version_major": 2,
    "version_minor": 0
   }
  }
 },
 "nbformat": 4,
 "nbformat_minor": 5
}
