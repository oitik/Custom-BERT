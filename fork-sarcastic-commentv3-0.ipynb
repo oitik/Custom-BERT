{
 "cells": [
  {
   "cell_type": "code",
   "execution_count": 1,
   "id": "49e51829",
   "metadata": {
    "_cell_guid": "b1076dfc-b9ad-4769-8c92-a6c4dae69d19",
    "_uuid": "8f2839f25d086af736a60e9eeb907d3b93b6e0e5",
    "execution": {
     "iopub.execute_input": "2025-02-27T10:48:33.041752Z",
     "iopub.status.busy": "2025-02-27T10:48:33.041390Z",
     "iopub.status.idle": "2025-02-27T10:48:33.846012Z",
     "shell.execute_reply": "2025-02-27T10:48:33.844864Z"
    },
    "papermill": {
     "duration": 0.821935,
     "end_time": "2025-02-27T10:48:33.847922",
     "exception": false,
     "start_time": "2025-02-27T10:48:33.025987",
     "status": "completed"
    },
    "tags": []
   },
   "outputs": [],
   "source": [
    "# This Python 3 environment comes with many helpful analytics libraries installed\n",
    "# It is defined by the kaggle/python Docker image: https://github.com/kaggle/docker-python\n",
    "# For example, here's several helpful packages to load\n",
    "\n",
    "import numpy as np # linear algebra\n",
    "import pandas as pd # data processing, CSV file I/O (e.g. pd.read_csv)\n",
    "\n",
    "# Input data files are available in the read-only \"../input/\" directory\n",
    "# For example, running this (by clicking run or pressing Shift+Enter) will list all files under the input directory\n",
    "\n",
    "import os\n",
    "# for dirname, _, filenames in os.walk('/kaggle/input'):\n",
    "#     for filename in filenames:\n",
    "#         print(os.path.join(dirname, filename))\n",
    "\n",
    "# # You can write up to 20GB to the current directory (/kaggle/working/) that gets preserved as output when you create a version using \"Save & Run All\" \n",
    "# # You can also write temporary files to /kaggle/temp/, but they won't be saved outside of the current session"
   ]
  },
  {
   "cell_type": "code",
   "execution_count": 2,
   "id": "c820d5c8",
   "metadata": {
    "execution": {
     "iopub.execute_input": "2025-02-27T10:48:33.874520Z",
     "iopub.status.busy": "2025-02-27T10:48:33.873993Z",
     "iopub.status.idle": "2025-02-27T10:48:34.058181Z",
     "shell.execute_reply": "2025-02-27T10:48:34.057027Z"
    },
    "papermill": {
     "duration": 0.199307,
     "end_time": "2025-02-27T10:48:34.060162",
     "exception": false,
     "start_time": "2025-02-27T10:48:33.860855",
     "status": "completed"
    },
    "tags": []
   },
   "outputs": [
    {
     "name": "stdout",
     "output_type": "stream",
     "text": [
      "Thu Feb 27 10:48:33 2025       \r\n",
      "+-----------------------------------------------------------------------------------------+\r\n",
      "| NVIDIA-SMI 560.35.03              Driver Version: 560.35.03      CUDA Version: 12.6     |\r\n",
      "|-----------------------------------------+------------------------+----------------------+\r\n",
      "| GPU  Name                 Persistence-M | Bus-Id          Disp.A | Volatile Uncorr. ECC |\r\n",
      "| Fan  Temp   Perf          Pwr:Usage/Cap |           Memory-Usage | GPU-Util  Compute M. |\r\n",
      "|                                         |                        |               MIG M. |\r\n",
      "|=========================================+========================+======================|\r\n",
      "|   0  Tesla P100-PCIE-16GB           Off |   00000000:00:04.0 Off |                    0 |\r\n",
      "| N/A   37C    P0             26W /  250W |       0MiB /  16384MiB |      0%      Default |\r\n",
      "|                                         |                        |                  N/A |\r\n",
      "+-----------------------------------------+------------------------+----------------------+\r\n",
      "                                                                                         \r\n",
      "+-----------------------------------------------------------------------------------------+\r\n",
      "| Processes:                                                                              |\r\n",
      "|  GPU   GI   CI        PID   Type   Process name                              GPU Memory |\r\n",
      "|        ID   ID                                                               Usage      |\r\n",
      "|=========================================================================================|\r\n",
      "|  No running processes found                                                             |\r\n",
      "+-----------------------------------------------------------------------------------------+\r\n"
     ]
    }
   ],
   "source": [
    "!nvidia-smi"
   ]
  },
  {
   "cell_type": "markdown",
   "id": "8d4cd96e",
   "metadata": {
    "papermill": {
     "duration": 0.013492,
     "end_time": "2025-02-27T10:48:34.086633",
     "exception": false,
     "start_time": "2025-02-27T10:48:34.073141",
     "status": "completed"
    },
    "tags": []
   },
   "source": [
    "## Import the Dataset"
   ]
  },
  {
   "cell_type": "code",
   "execution_count": 3,
   "id": "1f5c4fea",
   "metadata": {
    "execution": {
     "iopub.execute_input": "2025-02-27T10:48:34.113727Z",
     "iopub.status.busy": "2025-02-27T10:48:34.113275Z",
     "iopub.status.idle": "2025-02-27T10:48:36.872386Z",
     "shell.execute_reply": "2025-02-27T10:48:36.871357Z"
    },
    "papermill": {
     "duration": 2.774279,
     "end_time": "2025-02-27T10:48:36.874047",
     "exception": false,
     "start_time": "2025-02-27T10:48:34.099768",
     "status": "completed"
    },
    "tags": []
   },
   "outputs": [
    {
     "data": {
      "text/html": [
       "<div>\n",
       "<style scoped>\n",
       "    .dataframe tbody tr th:only-of-type {\n",
       "        vertical-align: middle;\n",
       "    }\n",
       "\n",
       "    .dataframe tbody tr th {\n",
       "        vertical-align: top;\n",
       "    }\n",
       "\n",
       "    .dataframe thead th {\n",
       "        text-align: right;\n",
       "    }\n",
       "</style>\n",
       "<table border=\"1\" class=\"dataframe\">\n",
       "  <thead>\n",
       "    <tr style=\"text-align: right;\">\n",
       "      <th></th>\n",
       "      <th>id</th>\n",
       "      <th>Text</th>\n",
       "      <th>Polarity</th>\n",
       "    </tr>\n",
       "  </thead>\n",
       "  <tbody>\n",
       "    <tr>\n",
       "      <th>0</th>\n",
       "      <td>0</td>\n",
       "      <td>শুধু মাত্র এই পোস্টে কমেন্ট করার জন্য বাড়ির এ...</td>\n",
       "      <td>1</td>\n",
       "    </tr>\n",
       "    <tr>\n",
       "      <th>1</th>\n",
       "      <td>2</td>\n",
       "      <td>সাথে আছে বুক ভরা চুল ।</td>\n",
       "      <td>1</td>\n",
       "    </tr>\n",
       "    <tr>\n",
       "      <th>2</th>\n",
       "      <td>4</td>\n",
       "      <td>ভাই মিথ্যা কথা বইলেন না আপনি ভিপিএন ইউজ করে পো...</td>\n",
       "      <td>1</td>\n",
       "    </tr>\n",
       "  </tbody>\n",
       "</table>\n",
       "</div>"
      ],
      "text/plain": [
       "   id                                               Text  Polarity\n",
       "0   0  শুধু মাত্র এই পোস্টে কমেন্ট করার জন্য বাড়ির এ...         1\n",
       "1   2                             সাথে আছে বুক ভরা চুল ।         1\n",
       "2   4  ভাই মিথ্যা কথা বইলেন না আপনি ভিপিএন ইউজ করে পো...         1"
      ]
     },
     "execution_count": 3,
     "metadata": {},
     "output_type": "execute_result"
    }
   ],
   "source": [
    "df = pd.read_excel('/kaggle/input/sarcasm/Ben-Sarc_ Bengali Sarcasm Detection Corpus.xlsx')\n",
    "\n",
    "df.head(3)"
   ]
  },
  {
   "cell_type": "code",
   "execution_count": 4,
   "id": "a53c145d",
   "metadata": {
    "execution": {
     "iopub.execute_input": "2025-02-27T10:48:36.901307Z",
     "iopub.status.busy": "2025-02-27T10:48:36.900795Z",
     "iopub.status.idle": "2025-02-27T10:48:36.913221Z",
     "shell.execute_reply": "2025-02-27T10:48:36.912088Z"
    },
    "papermill": {
     "duration": 0.027975,
     "end_time": "2025-02-27T10:48:36.914995",
     "exception": false,
     "start_time": "2025-02-27T10:48:36.887020",
     "status": "completed"
    },
    "tags": []
   },
   "outputs": [
    {
     "data": {
      "text/html": [
       "<div>\n",
       "<style scoped>\n",
       "    .dataframe tbody tr th:only-of-type {\n",
       "        vertical-align: middle;\n",
       "    }\n",
       "\n",
       "    .dataframe tbody tr th {\n",
       "        vertical-align: top;\n",
       "    }\n",
       "\n",
       "    .dataframe thead th {\n",
       "        text-align: right;\n",
       "    }\n",
       "</style>\n",
       "<table border=\"1\" class=\"dataframe\">\n",
       "  <thead>\n",
       "    <tr style=\"text-align: right;\">\n",
       "      <th></th>\n",
       "      <th>id</th>\n",
       "      <th>text</th>\n",
       "      <th>label</th>\n",
       "    </tr>\n",
       "  </thead>\n",
       "  <tbody>\n",
       "    <tr>\n",
       "      <th>0</th>\n",
       "      <td>0</td>\n",
       "      <td>শুধু মাত্র এই পোস্টে কমেন্ট করার জন্য বাড়ির এ...</td>\n",
       "      <td>1</td>\n",
       "    </tr>\n",
       "    <tr>\n",
       "      <th>1</th>\n",
       "      <td>2</td>\n",
       "      <td>সাথে আছে বুক ভরা চুল ।</td>\n",
       "      <td>1</td>\n",
       "    </tr>\n",
       "    <tr>\n",
       "      <th>2</th>\n",
       "      <td>4</td>\n",
       "      <td>ভাই মিথ্যা কথা বইলেন না আপনি ভিপিএন ইউজ করে পো...</td>\n",
       "      <td>1</td>\n",
       "    </tr>\n",
       "  </tbody>\n",
       "</table>\n",
       "</div>"
      ],
      "text/plain": [
       "   id                                               text  label\n",
       "0   0  শুধু মাত্র এই পোস্টে কমেন্ট করার জন্য বাড়ির এ...      1\n",
       "1   2                             সাথে আছে বুক ভরা চুল ।      1\n",
       "2   4  ভাই মিথ্যা কথা বইলেন না আপনি ভিপিএন ইউজ করে পো...      1"
      ]
     },
     "execution_count": 4,
     "metadata": {},
     "output_type": "execute_result"
    }
   ],
   "source": [
    "df.rename(columns={\"Text\": \"text\"}, inplace=True)\n",
    "df.rename(columns={\"Polarity\": \"label\"}, inplace=True)\n",
    "\n",
    "df.head(3)"
   ]
  },
  {
   "cell_type": "markdown",
   "id": "ec27a304",
   "metadata": {
    "papermill": {
     "duration": 0.012421,
     "end_time": "2025-02-27T10:48:36.940907",
     "exception": false,
     "start_time": "2025-02-27T10:48:36.928486",
     "status": "completed"
    },
    "tags": []
   },
   "source": [
    "## Apply Normalizer"
   ]
  },
  {
   "cell_type": "code",
   "execution_count": 5,
   "id": "fe9195d1",
   "metadata": {
    "execution": {
     "iopub.execute_input": "2025-02-27T10:48:36.967773Z",
     "iopub.status.busy": "2025-02-27T10:48:36.967408Z",
     "iopub.status.idle": "2025-02-27T10:48:49.526032Z",
     "shell.execute_reply": "2025-02-27T10:48:49.524556Z"
    },
    "papermill": {
     "duration": 12.574393,
     "end_time": "2025-02-27T10:48:49.527932",
     "exception": false,
     "start_time": "2025-02-27T10:48:36.953539",
     "status": "completed"
    },
    "tags": []
   },
   "outputs": [
    {
     "name": "stdout",
     "output_type": "stream",
     "text": [
      "Collecting git+https://github.com/csebuetnlp/normalizer\r\n",
      "  Cloning https://github.com/csebuetnlp/normalizer to /tmp/pip-req-build-vh2_e0s4\r\n",
      "  Running command git clone --filter=blob:none --quiet https://github.com/csebuetnlp/normalizer /tmp/pip-req-build-vh2_e0s4\r\n",
      "  Resolved https://github.com/csebuetnlp/normalizer to commit d405944dde5ceeacb7c2fd3245ae2a9dea5f35c9\r\n",
      "  Preparing metadata (setup.py) ... \u001b[?25l\u001b[?25hdone\r\n",
      "Requirement already satisfied: regex in /usr/local/lib/python3.10/dist-packages (from normalizer==0.0.1) (2024.9.11)\r\n",
      "Collecting emoji==1.4.2 (from normalizer==0.0.1)\r\n",
      "  Downloading emoji-1.4.2.tar.gz (184 kB)\r\n",
      "\u001b[2K     \u001b[90m━━━━━━━━━━━━━━━━━━━━━━━━━━━━━━━━━━━━━━━━\u001b[0m \u001b[32m185.0/185.0 kB\u001b[0m \u001b[31m4.4 MB/s\u001b[0m eta \u001b[36m0:00:00\u001b[0m\r\n",
      "\u001b[?25h  Preparing metadata (setup.py) ... \u001b[?25l\u001b[?25hdone\r\n",
      "Collecting ftfy==6.0.3 (from normalizer==0.0.1)\r\n",
      "  Downloading ftfy-6.0.3.tar.gz (64 kB)\r\n",
      "\u001b[2K     \u001b[90m━━━━━━━━━━━━━━━━━━━━━━━━━━━━━━━━━━━━━━━━\u001b[0m \u001b[32m64.2/64.2 kB\u001b[0m \u001b[31m4.0 MB/s\u001b[0m eta \u001b[36m0:00:00\u001b[0m\r\n",
      "\u001b[?25h  Preparing metadata (setup.py) ... \u001b[?25l\u001b[?25hdone\r\n",
      "Requirement already satisfied: wcwidth in /usr/local/lib/python3.10/dist-packages (from ftfy==6.0.3->normalizer==0.0.1) (0.2.13)\r\n",
      "Building wheels for collected packages: normalizer, emoji, ftfy\r\n",
      "  Building wheel for normalizer (setup.py) ... \u001b[?25l\u001b[?25hdone\r\n",
      "  Created wheel for normalizer: filename=normalizer-0.0.1-py3-none-any.whl size=6860 sha256=2318f6d36d5e3cf8325f1929c2fe6db6352fd43d7f640ed1ed08d5d2f6049151\r\n",
      "  Stored in directory: /tmp/pip-ephem-wheel-cache-es13bqr4/wheels/2e/79/9c/cd96d490298305d51d2da11484bb2c25fd1f759a6906708282\r\n",
      "  Building wheel for emoji (setup.py) ... \u001b[?25l\u001b[?25hdone\r\n",
      "  Created wheel for emoji: filename=emoji-1.4.2-py3-none-any.whl size=186456 sha256=b08ed016e6e507b8cc4b6a51de0acdac3ce2f60098a7ca0c00dfd59a8d175725\r\n",
      "  Stored in directory: /root/.cache/pip/wheels/10/f0/fd/4813b1177405693e8da9cdea839f0fb64fde161380e058c827\r\n",
      "  Building wheel for ftfy (setup.py) ... \u001b[?25l\u001b[?25hdone\r\n",
      "  Created wheel for ftfy: filename=ftfy-6.0.3-py3-none-any.whl size=41930 sha256=3f83acfef65378aeacb419c8686cecb72db147acff54860fcfa42b82d61fff97\r\n",
      "  Stored in directory: /root/.cache/pip/wheels/92/8e/16/c1e4d4d65685d71085e4e27b44d6ed880b0559474c9ee4ff66\r\n",
      "Successfully built normalizer emoji ftfy\r\n",
      "Installing collected packages: emoji, ftfy, normalizer\r\n",
      "  Attempting uninstall: emoji\r\n",
      "    Found existing installation: emoji 2.14.0\r\n",
      "    Uninstalling emoji-2.14.0:\r\n",
      "      Successfully uninstalled emoji-2.14.0\r\n",
      "Successfully installed emoji-1.4.2 ftfy-6.0.3 normalizer-0.0.1\r\n",
      "Note: you may need to restart the kernel to use updated packages.\n"
     ]
    }
   ],
   "source": [
    "pip install git+https://github.com/csebuetnlp/normalizer"
   ]
  },
  {
   "cell_type": "code",
   "execution_count": 6,
   "id": "e41d13da",
   "metadata": {
    "execution": {
     "iopub.execute_input": "2025-02-27T10:48:49.558081Z",
     "iopub.status.busy": "2025-02-27T10:48:49.557726Z",
     "iopub.status.idle": "2025-02-27T10:48:54.746051Z",
     "shell.execute_reply": "2025-02-27T10:48:54.744924Z"
    },
    "papermill": {
     "duration": 5.205344,
     "end_time": "2025-02-27T10:48:54.747812",
     "exception": false,
     "start_time": "2025-02-27T10:48:49.542468",
     "status": "completed"
    },
    "tags": []
   },
   "outputs": [
    {
     "name": "stderr",
     "output_type": "stream",
     "text": [
      "100%|██████████| 25636/25636 [00:05<00:00, 5106.44it/s]\n"
     ]
    }
   ],
   "source": [
    "from normalizer import normalize \n",
    "from tqdm import tqdm\n",
    "\n",
    "tqdm.pandas()\n",
    "df['text'] = df['text'].progress_apply(normalize)"
   ]
  },
  {
   "cell_type": "code",
   "execution_count": 7,
   "id": "c9416962",
   "metadata": {
    "execution": {
     "iopub.execute_input": "2025-02-27T10:48:54.782654Z",
     "iopub.status.busy": "2025-02-27T10:48:54.782216Z",
     "iopub.status.idle": "2025-02-27T10:48:54.877480Z",
     "shell.execute_reply": "2025-02-27T10:48:54.876364Z"
    },
    "papermill": {
     "duration": 0.115014,
     "end_time": "2025-02-27T10:48:54.879140",
     "exception": false,
     "start_time": "2025-02-27T10:48:54.764126",
     "status": "completed"
    },
    "tags": []
   },
   "outputs": [
    {
     "name": "stderr",
     "output_type": "stream",
     "text": [
      "100%|██████████| 25636/25636 [00:00<00:00, 299673.30it/s]\n"
     ]
    }
   ],
   "source": [
    "df['rtext'] = df['text'].progress_apply(lambda x: ' '.join(x.split()[::-1]))"
   ]
  },
  {
   "cell_type": "code",
   "execution_count": 8,
   "id": "9d9ad8cb",
   "metadata": {
    "execution": {
     "iopub.execute_input": "2025-02-27T10:48:54.914780Z",
     "iopub.status.busy": "2025-02-27T10:48:54.914368Z",
     "iopub.status.idle": "2025-02-27T10:48:54.920840Z",
     "shell.execute_reply": "2025-02-27T10:48:54.919893Z"
    },
    "papermill": {
     "duration": 0.026188,
     "end_time": "2025-02-27T10:48:54.922476",
     "exception": false,
     "start_time": "2025-02-27T10:48:54.896288",
     "status": "completed"
    },
    "tags": []
   },
   "outputs": [
    {
     "data": {
      "text/plain": [
       "('ভাই মিথ্যা কথা বইলেন না আপনি ভিপিএন ইউজ করে পোস্ট দিয়েছেন এবং আপনি রঙিন দুনিয়া দেখছেন না । কারণ আপনার ফ্রেম রঙিন হলেও গ্লাসটা কিন্তু কালো । আমি কিন্তু রঙিন দুনিয়ার একজন রঙমিস্ত্রি তাই বিষয়টি এড়িয়ে যেতে পারলাম না ।',\n",
       " 1)"
      ]
     },
     "execution_count": 8,
     "metadata": {},
     "output_type": "execute_result"
    }
   ],
   "source": [
    "ri = 2\n",
    "df['text'][ri], df['label'][ri]"
   ]
  },
  {
   "cell_type": "code",
   "execution_count": 9,
   "id": "12569e6f",
   "metadata": {
    "execution": {
     "iopub.execute_input": "2025-02-27T10:48:54.956768Z",
     "iopub.status.busy": "2025-02-27T10:48:54.956429Z",
     "iopub.status.idle": "2025-02-27T10:48:54.968802Z",
     "shell.execute_reply": "2025-02-27T10:48:54.967820Z"
    },
    "papermill": {
     "duration": 0.031268,
     "end_time": "2025-02-27T10:48:54.970402",
     "exception": false,
     "start_time": "2025-02-27T10:48:54.939134",
     "status": "completed"
    },
    "tags": []
   },
   "outputs": [
    {
     "data": {
      "text/plain": [
       "label\n",
       "1    12818\n",
       "0    12818\n",
       "Name: count, dtype: int64"
      ]
     },
     "execution_count": 9,
     "metadata": {},
     "output_type": "execute_result"
    }
   ],
   "source": [
    "df.label.value_counts()"
   ]
  },
  {
   "cell_type": "code",
   "execution_count": 10,
   "id": "6380d9b7",
   "metadata": {
    "execution": {
     "iopub.execute_input": "2025-02-27T10:48:55.007164Z",
     "iopub.status.busy": "2025-02-27T10:48:55.006844Z",
     "iopub.status.idle": "2025-02-27T10:48:55.012185Z",
     "shell.execute_reply": "2025-02-27T10:48:55.011333Z"
    },
    "papermill": {
     "duration": 0.024929,
     "end_time": "2025-02-27T10:48:55.013804",
     "exception": false,
     "start_time": "2025-02-27T10:48:54.988875",
     "status": "completed"
    },
    "tags": []
   },
   "outputs": [
    {
     "data": {
      "text/plain": [
       "(25636, 4)"
      ]
     },
     "execution_count": 10,
     "metadata": {},
     "output_type": "execute_result"
    }
   ],
   "source": [
    "df.shape"
   ]
  },
  {
   "cell_type": "code",
   "execution_count": 11,
   "id": "3269f504",
   "metadata": {
    "execution": {
     "iopub.execute_input": "2025-02-27T10:48:55.049137Z",
     "iopub.status.busy": "2025-02-27T10:48:55.048770Z",
     "iopub.status.idle": "2025-02-27T10:48:56.344330Z",
     "shell.execute_reply": "2025-02-27T10:48:56.343059Z"
    },
    "papermill": {
     "duration": 1.315768,
     "end_time": "2025-02-27T10:48:56.346905",
     "exception": false,
     "start_time": "2025-02-27T10:48:55.031137",
     "status": "completed"
    },
    "tags": []
   },
   "outputs": [],
   "source": [
    "from sklearn.model_selection import train_test_split\n",
    "\n",
    "# Assume 'df' is your DataFrame and 'label_column' is the column you want to stratify on\n",
    "# df, _ = train_test_split(df, train_size=1000, stratify=df['label'], random_state=42)"
   ]
  },
  {
   "cell_type": "code",
   "execution_count": 12,
   "id": "da36248d",
   "metadata": {
    "execution": {
     "iopub.execute_input": "2025-02-27T10:48:56.396373Z",
     "iopub.status.busy": "2025-02-27T10:48:56.395822Z",
     "iopub.status.idle": "2025-02-27T10:48:56.407369Z",
     "shell.execute_reply": "2025-02-27T10:48:56.406023Z"
    },
    "papermill": {
     "duration": 0.039787,
     "end_time": "2025-02-27T10:48:56.409023",
     "exception": false,
     "start_time": "2025-02-27T10:48:56.369236",
     "status": "completed"
    },
    "tags": []
   },
   "outputs": [
    {
     "name": "stdout",
     "output_type": "stream",
     "text": [
      "(25636, 4)\n"
     ]
    },
    {
     "data": {
      "text/html": [
       "<div>\n",
       "<style scoped>\n",
       "    .dataframe tbody tr th:only-of-type {\n",
       "        vertical-align: middle;\n",
       "    }\n",
       "\n",
       "    .dataframe tbody tr th {\n",
       "        vertical-align: top;\n",
       "    }\n",
       "\n",
       "    .dataframe thead th {\n",
       "        text-align: right;\n",
       "    }\n",
       "</style>\n",
       "<table border=\"1\" class=\"dataframe\">\n",
       "  <thead>\n",
       "    <tr style=\"text-align: right;\">\n",
       "      <th></th>\n",
       "      <th>id</th>\n",
       "      <th>text</th>\n",
       "      <th>label</th>\n",
       "      <th>rtext</th>\n",
       "    </tr>\n",
       "  </thead>\n",
       "  <tbody>\n",
       "    <tr>\n",
       "      <th>0</th>\n",
       "      <td>0</td>\n",
       "      <td>শুধু মাত্র এই পোস্টে কমেন্ট করার জন্য বাড়ির এ...</td>\n",
       "      <td>1</td>\n",
       "      <td>ছিলাম বসে কিনে বি এম করে বিক্রি ঘোড়া পাড়া ডি...</td>\n",
       "    </tr>\n",
       "    <tr>\n",
       "      <th>1</th>\n",
       "      <td>2</td>\n",
       "      <td>সাথে আছে বুক ভরা চুল ।</td>\n",
       "      <td>1</td>\n",
       "      <td>। চুল ভরা বুক আছে সাথে</td>\n",
       "    </tr>\n",
       "    <tr>\n",
       "      <th>2</th>\n",
       "      <td>4</td>\n",
       "      <td>ভাই মিথ্যা কথা বইলেন না আপনি ভিপিএন ইউজ করে পো...</td>\n",
       "      <td>1</td>\n",
       "      <td>। না পারলাম যেতে এড়িয়ে বিষয়টি তাই রঙমিস্ত্র...</td>\n",
       "    </tr>\n",
       "  </tbody>\n",
       "</table>\n",
       "</div>"
      ],
      "text/plain": [
       "   id                                               text  label  \\\n",
       "0   0  শুধু মাত্র এই পোস্টে কমেন্ট করার জন্য বাড়ির এ...      1   \n",
       "1   2                             সাথে আছে বুক ভরা চুল ।      1   \n",
       "2   4  ভাই মিথ্যা কথা বইলেন না আপনি ভিপিএন ইউজ করে পো...      1   \n",
       "\n",
       "                                               rtext  \n",
       "0  ছিলাম বসে কিনে বি এম করে বিক্রি ঘোড়া পাড়া ডি...  \n",
       "1                             । চুল ভরা বুক আছে সাথে  \n",
       "2  । না পারলাম যেতে এড়িয়ে বিষয়টি তাই রঙমিস্ত্র...  "
      ]
     },
     "execution_count": 12,
     "metadata": {},
     "output_type": "execute_result"
    }
   ],
   "source": [
    "print(df.shape)\n",
    "df.head(3)"
   ]
  },
  {
   "cell_type": "markdown",
   "id": "9c046677",
   "metadata": {
    "papermill": {
     "duration": 0.017068,
     "end_time": "2025-02-27T10:48:56.444209",
     "exception": false,
     "start_time": "2025-02-27T10:48:56.427141",
     "status": "completed"
    },
    "tags": []
   },
   "source": [
    "## Training On MLM"
   ]
  },
  {
   "cell_type": "code",
   "execution_count": 13,
   "id": "1eca745b",
   "metadata": {
    "execution": {
     "iopub.execute_input": "2025-02-27T10:48:56.479970Z",
     "iopub.status.busy": "2025-02-27T10:48:56.479596Z",
     "iopub.status.idle": "2025-02-27T10:48:56.486911Z",
     "shell.execute_reply": "2025-02-27T10:48:56.486035Z"
    },
    "papermill": {
     "duration": 0.026673,
     "end_time": "2025-02-27T10:48:56.488219",
     "exception": false,
     "start_time": "2025-02-27T10:48:56.461546",
     "status": "completed"
    },
    "tags": []
   },
   "outputs": [
    {
     "name": "stdout",
     "output_type": "stream",
     "text": [
      "25636\n",
      "25636\n"
     ]
    }
   ],
   "source": [
    "sentences = df.text.values.tolist()\n",
    "\n",
    "labels = df.label.values.tolist()\n",
    "\n",
    "print(len(sentences))\n",
    "\n",
    "print(len(labels))"
   ]
  },
  {
   "cell_type": "code",
   "execution_count": 14,
   "id": "3a8ac54e",
   "metadata": {
    "execution": {
     "iopub.execute_input": "2025-02-27T10:48:56.525665Z",
     "iopub.status.busy": "2025-02-27T10:48:56.525299Z",
     "iopub.status.idle": "2025-02-27T10:48:56.530970Z",
     "shell.execute_reply": "2025-02-27T10:48:56.530063Z"
    },
    "papermill": {
     "duration": 0.026481,
     "end_time": "2025-02-27T10:48:56.532639",
     "exception": false,
     "start_time": "2025-02-27T10:48:56.506158",
     "status": "completed"
    },
    "tags": []
   },
   "outputs": [
    {
     "data": {
      "text/plain": [
       "'শুধু মাত্র এই পোস্টে কমেন্ট করার জন্য বাড়ির এক মাত্র ডিম পাড়া ঘোড়া বিক্রি করে এম বি কিনে বসে ছিলাম'"
      ]
     },
     "execution_count": 14,
     "metadata": {},
     "output_type": "execute_result"
    }
   ],
   "source": [
    "sentences[0]"
   ]
  },
  {
   "cell_type": "code",
   "execution_count": 15,
   "id": "f233a740",
   "metadata": {
    "execution": {
     "iopub.execute_input": "2025-02-27T10:48:56.570371Z",
     "iopub.status.busy": "2025-02-27T10:48:56.569971Z",
     "iopub.status.idle": "2025-02-27T10:48:56.573898Z",
     "shell.execute_reply": "2025-02-27T10:48:56.572951Z"
    },
    "papermill": {
     "duration": 0.024791,
     "end_time": "2025-02-27T10:48:56.575496",
     "exception": false,
     "start_time": "2025-02-27T10:48:56.550705",
     "status": "completed"
    },
    "tags": []
   },
   "outputs": [],
   "source": [
    "# Specify the model path\n",
    "\n",
    "model_path = \"csebuetnlp/banglabert_large\"\n",
    "# model_path = \"csebuetnlp/banglabert\""
   ]
  },
  {
   "cell_type": "code",
   "execution_count": 16,
   "id": "3563f217",
   "metadata": {
    "execution": {
     "iopub.execute_input": "2025-02-27T10:48:56.613278Z",
     "iopub.status.busy": "2025-02-27T10:48:56.612876Z",
     "iopub.status.idle": "2025-02-27T10:48:56.620087Z",
     "shell.execute_reply": "2025-02-27T10:48:56.618878Z"
    },
    "papermill": {
     "duration": 0.028196,
     "end_time": "2025-02-27T10:48:56.621715",
     "exception": false,
     "start_time": "2025-02-27T10:48:56.593519",
     "status": "completed"
    },
    "tags": []
   },
   "outputs": [],
   "source": [
    "# import os\n",
    "# os.environ[\"WANDB_DISABLED\"] = \"true\"\n",
    "# os.environ[\"WANDB_MODE\"] = \"disabled\"\n",
    "# os.environ[\"WANDB_SILENT\"] = \"true\"\n",
    "# os.environ[\"PYTORCH_CUDA_ALLOC_CONF\"] = \"expandable_segments:True\"\n",
    "\n",
    "# from transformers import (\n",
    "#     AutoModelForMaskedLM,\n",
    "#     AutoTokenizer,\n",
    "#     DataCollatorForLanguageModeling,\n",
    "#     Trainer,\n",
    "#     TrainingArguments\n",
    "# )\n",
    "\n",
    "# import torch\n",
    "# from datasets import Dataset\n",
    "# import gc\n",
    "\n",
    "# model_path = \"csebuetnlp/banglabert_large\"\n",
    "\n",
    "# # Dataset\n",
    "# dataset = Dataset.from_dict({\"text\": sentences[:500]})\n",
    "\n",
    "# # Tokenizer\n",
    "# tokenizer = AutoTokenizer.from_pretrained(model_path)\n",
    "\n",
    "# def tokenize_function(examples):\n",
    "#     return tokenizer(\n",
    "#         examples[\"text\"],\n",
    "#         padding=\"max_length\",\n",
    "#         truncation=True,\n",
    "#         max_length=32,  # Reduced\n",
    "#         return_special_tokens_mask=True\n",
    "#     )\n",
    "\n",
    "# tokenized_dataset = dataset.map(\n",
    "#     tokenize_function,\n",
    "#     batched=True,\n",
    "#     remove_columns=dataset.column_names\n",
    "# )\n",
    "\n",
    "# # Model and Data Collator\n",
    "# mlm_model = AutoModelForMaskedLM.from_pretrained(model_path)\n",
    "# data_collator = DataCollatorForLanguageModeling(\n",
    "#     tokenizer=tokenizer,\n",
    "#     mlm=True,\n",
    "#     mlm_probability=0.15\n",
    "# )\n",
    "\n",
    "# Epochs = 2\n",
    "\n",
    "# # Training Arguments\n",
    "# training_args = TrainingArguments(\n",
    "#     output_dir=\"./mlm_pretrained_model\",\n",
    "#     report_to=[],\n",
    "#     num_train_epochs=Epochs,  # Define Epochs earlier\n",
    "#     per_device_train_batch_size=8,  # Reduced\n",
    "#     gradient_accumulation_steps=2,\n",
    "#     save_strategy=\"no\",\n",
    "#     logging_strategy=\"epoch\",\n",
    "#     learning_rate=5e-5,\n",
    "#     weight_decay=0.01,\n",
    "#     fp16=True,  # Mixed precision\n",
    "# )\n",
    "\n",
    "# # Trainer\n",
    "# trainer = Trainer(\n",
    "#     model=mlm_model,\n",
    "#     args=training_args,\n",
    "#     train_dataset=tokenized_dataset,\n",
    "#     data_collator=data_collator,\n",
    "# )\n",
    "\n",
    "# # Train and Save\n",
    "# trainer.train()\n",
    "# trainer.save_model(\"./mlm_pretrained_model\")\n",
    "\n",
    "# # Clear memory\n",
    "# del mlm_model, trainer, tokenized_dataset, data_collator\n",
    "# gc.collect()\n",
    "# torch.cuda.empty_cache()\n",
    "\n",
    "# # Now proceed to your main BERT training code"
   ]
  },
  {
   "cell_type": "code",
   "execution_count": 17,
   "id": "84e2ca96",
   "metadata": {
    "execution": {
     "iopub.execute_input": "2025-02-27T10:48:56.658537Z",
     "iopub.status.busy": "2025-02-27T10:48:56.658108Z",
     "iopub.status.idle": "2025-02-27T10:49:12.220664Z",
     "shell.execute_reply": "2025-02-27T10:49:12.219629Z"
    },
    "papermill": {
     "duration": 15.583052,
     "end_time": "2025-02-27T10:49:12.222686",
     "exception": false,
     "start_time": "2025-02-27T10:48:56.639634",
     "status": "completed"
    },
    "tags": []
   },
   "outputs": [],
   "source": [
    "# First, disable wandb\n",
    "\n",
    "import os\n",
    "os.environ[\"WANDB_DISABLED\"] = \"true\"\n",
    "os.environ[\"WANDB_MODE\"] = \"disabled\"\n",
    "os.environ[\"WANDB_SILENT\"] = \"true\"\n",
    "os.environ[\"PYTORCH_CUDA_ALLOC_CONF\"] = \"expandable_segments:True\"\n",
    "\n",
    "# Import required libraries\n",
    "from transformers import (\n",
    "    AutoModelForMaskedLM,\n",
    "    AutoTokenizer,\n",
    "    DataCollatorForLanguageModeling,\n",
    "    Trainer,\n",
    "    TrainingArguments\n",
    ")"
   ]
  },
  {
   "cell_type": "code",
   "execution_count": 18,
   "id": "c7664e41",
   "metadata": {
    "execution": {
     "iopub.execute_input": "2025-02-27T10:49:12.259140Z",
     "iopub.status.busy": "2025-02-27T10:49:12.258384Z",
     "iopub.status.idle": "2025-02-27T10:49:13.189417Z",
     "shell.execute_reply": "2025-02-27T10:49:13.188265Z"
    },
    "papermill": {
     "duration": 0.951024,
     "end_time": "2025-02-27T10:49:13.191209",
     "exception": false,
     "start_time": "2025-02-27T10:49:12.240185",
     "status": "completed"
    },
    "tags": []
   },
   "outputs": [
    {
     "data": {
      "application/vnd.jupyter.widget-view+json": {
       "model_id": "af7685d95f9b4cb6aaa63b83ad053ee9",
       "version_major": 2,
       "version_minor": 0
      },
      "text/plain": [
       "tokenizer_config.json:   0%|          | 0.00/119 [00:00<?, ?B/s]"
      ]
     },
     "metadata": {},
     "output_type": "display_data"
    },
    {
     "data": {
      "application/vnd.jupyter.widget-view+json": {
       "model_id": "eee6bd9d93db4be4b4c0ab62109270a1",
       "version_major": 2,
       "version_minor": 0
      },
      "text/plain": [
       "config.json:   0%|          | 0.00/880 [00:00<?, ?B/s]"
      ]
     },
     "metadata": {},
     "output_type": "display_data"
    },
    {
     "data": {
      "application/vnd.jupyter.widget-view+json": {
       "model_id": "91f303e51e0642229889ecbe30506167",
       "version_major": 2,
       "version_minor": 0
      },
      "text/plain": [
       "vocab.txt:   0%|          | 0.00/528k [00:00<?, ?B/s]"
      ]
     },
     "metadata": {},
     "output_type": "display_data"
    },
    {
     "data": {
      "application/vnd.jupyter.widget-view+json": {
       "model_id": "a861a546e6c74d3f9d3e4e2c9a956c3e",
       "version_major": 2,
       "version_minor": 0
      },
      "text/plain": [
       "special_tokens_map.json:   0%|          | 0.00/112 [00:00<?, ?B/s]"
      ]
     },
     "metadata": {},
     "output_type": "display_data"
    },
    {
     "name": "stderr",
     "output_type": "stream",
     "text": [
      "/usr/local/lib/python3.10/dist-packages/transformers/tokenization_utils_base.py:1601: FutureWarning: `clean_up_tokenization_spaces` was not set. It will be set to `True` by default. This behavior will be depracted in transformers v4.45, and will be then set to `False` by default. For more details check this issue: https://github.com/huggingface/transformers/issues/31884\n",
      "  warnings.warn(\n"
     ]
    }
   ],
   "source": [
    "import torch\n",
    "from datasets import Dataset\n",
    "\n",
    "# Prepare your text data\n",
    "# your_unlabeled_texts = df.parent_comm.values.tolist()\n",
    "\n",
    "# Create dataset\n",
    "# dataset = Dataset.from_dict({\"text\": sentences[:500]})\n",
    "dataset = Dataset.from_dict({\"text\": sentences})\n",
    "\n",
    "\n",
    "# Load tokenizer\n",
    "tokenizer = AutoTokenizer.from_pretrained(model_path)\n",
    "\n",
    "# Tokenize function\n",
    "def tokenize_function(examples):\n",
    "    return tokenizer(\n",
    "        examples[\"text\"],\n",
    "        padding=\"max_length\",\n",
    "        truncation=True,\n",
    "        max_length=64,\n",
    "        return_special_tokens_mask=True\n",
    ")"
   ]
  },
  {
   "cell_type": "code",
   "execution_count": 19,
   "id": "1cc6e4e0",
   "metadata": {
    "execution": {
     "iopub.execute_input": "2025-02-27T10:49:13.227849Z",
     "iopub.status.busy": "2025-02-27T10:49:13.227510Z",
     "iopub.status.idle": "2025-02-27T10:49:13.237769Z",
     "shell.execute_reply": "2025-02-27T10:49:13.236704Z"
    },
    "papermill": {
     "duration": 0.030352,
     "end_time": "2025-02-27T10:49:13.239514",
     "exception": false,
     "start_time": "2025-02-27T10:49:13.209162",
     "status": "completed"
    },
    "tags": []
   },
   "outputs": [
    {
     "name": "stdout",
     "output_type": "stream",
     "text": [
      " Original:  শুধু মাত্র এই পোস্টে কমেন্ট করার জন্য বাড়ির এক মাত্র ডিম পাড়া ঘোড়া বিক্রি করে এম বি কিনে বসে ছিলাম\n",
      "Tokenized:  ['শুধু', 'মাত্র', 'এই', 'পোস্টে', 'কমেন্ট', 'করার', 'জন্য', 'বাড়ির', 'এক', 'মাত্র', 'ডিম', 'পাড়া', 'ঘোড়া', 'বিক্রি', 'করে', 'এম', 'বি', 'কিনে', 'বসে', 'ছিলাম']\n",
      "Token IDs:  [1289, 1768, 830, 12098, 8764, 1121, 900, 2095, 788, 1768, 5270, 9224, 8046, 3149, 792, 1611, 797, 3597, 1346, 3285]\n"
     ]
    }
   ],
   "source": [
    "# Print the original sentence.\n",
    "print(' Original: ', sentences[0])\n",
    "\n",
    "# Print the sentence split into tokens.\n",
    "print('Tokenized: ', tokenizer.tokenize(sentences[0]))\n",
    "\n",
    "# Print the sentence mapped to token ids.\n",
    "print('Token IDs: ', tokenizer.convert_tokens_to_ids(tokenizer.tokenize(sentences[0])))"
   ]
  },
  {
   "cell_type": "code",
   "execution_count": 20,
   "id": "575f5cda",
   "metadata": {
    "execution": {
     "iopub.execute_input": "2025-02-27T10:49:13.276536Z",
     "iopub.status.busy": "2025-02-27T10:49:13.276152Z",
     "iopub.status.idle": "2025-02-27T10:49:15.935708Z",
     "shell.execute_reply": "2025-02-27T10:49:15.934597Z"
    },
    "papermill": {
     "duration": 2.680073,
     "end_time": "2025-02-27T10:49:15.937385",
     "exception": false,
     "start_time": "2025-02-27T10:49:13.257312",
     "status": "completed"
    },
    "tags": []
   },
   "outputs": [
    {
     "data": {
      "application/vnd.jupyter.widget-view+json": {
       "model_id": "121c75b78d084082ae08ac20ffbf2b95",
       "version_major": 2,
       "version_minor": 0
      },
      "text/plain": [
       "Map:   0%|          | 0/25636 [00:00<?, ? examples/s]"
      ]
     },
     "metadata": {},
     "output_type": "display_data"
    }
   ],
   "source": [
    "# Tokenize dataset\n",
    "tokenized_dataset = dataset.map(\n",
    "    tokenize_function,\n",
    "    batched=True,\n",
    "    remove_columns=dataset.column_names\n",
    ")"
   ]
  },
  {
   "cell_type": "markdown",
   "id": "ebc40f02",
   "metadata": {
    "papermill": {
     "duration": 0.017945,
     "end_time": "2025-02-27T10:49:15.975964",
     "exception": false,
     "start_time": "2025-02-27T10:49:15.958019",
     "status": "completed"
    },
    "tags": []
   },
   "source": [
    "## Load MLM Model"
   ]
  },
  {
   "cell_type": "code",
   "execution_count": 21,
   "id": "63f53e84",
   "metadata": {
    "execution": {
     "iopub.execute_input": "2025-02-27T10:49:16.013699Z",
     "iopub.status.busy": "2025-02-27T10:49:16.013290Z",
     "iopub.status.idle": "2025-02-27T10:49:16.018499Z",
     "shell.execute_reply": "2025-02-27T10:49:16.017394Z"
    },
    "papermill": {
     "duration": 0.026186,
     "end_time": "2025-02-27T10:49:16.020283",
     "exception": false,
     "start_time": "2025-02-27T10:49:15.994097",
     "status": "completed"
    },
    "tags": []
   },
   "outputs": [
    {
     "name": "stdout",
     "output_type": "stream",
     "text": [
      "csebuetnlp/banglabert_large\n"
     ]
    }
   ],
   "source": [
    "print(model_path)"
   ]
  },
  {
   "cell_type": "code",
   "execution_count": 22,
   "id": "67ddef14",
   "metadata": {
    "execution": {
     "iopub.execute_input": "2025-02-27T10:49:16.058905Z",
     "iopub.status.busy": "2025-02-27T10:49:16.058522Z",
     "iopub.status.idle": "2025-02-27T10:49:23.365567Z",
     "shell.execute_reply": "2025-02-27T10:49:23.363969Z"
    },
    "papermill": {
     "duration": 7.33164,
     "end_time": "2025-02-27T10:49:23.370615",
     "exception": false,
     "start_time": "2025-02-27T10:49:16.038975",
     "status": "completed"
    },
    "tags": []
   },
   "outputs": [
    {
     "data": {
      "application/vnd.jupyter.widget-view+json": {
       "model_id": "6e6defbec0cd4b0c89bf846ff0036db1",
       "version_major": 2,
       "version_minor": 0
      },
      "text/plain": [
       "pytorch_model.bin:   0%|          | 0.00/1.35G [00:00<?, ?B/s]"
      ]
     },
     "metadata": {},
     "output_type": "display_data"
    },
    {
     "name": "stderr",
     "output_type": "stream",
     "text": [
      "Some weights of ElectraForMaskedLM were not initialized from the model checkpoint at csebuetnlp/banglabert_large and are newly initialized: ['generator_lm_head.bias', 'generator_predictions.LayerNorm.bias', 'generator_predictions.LayerNorm.weight', 'generator_predictions.dense.bias', 'generator_predictions.dense.weight']\n",
      "You should probably TRAIN this model on a down-stream task to be able to use it for predictions and inference.\n"
     ]
    }
   ],
   "source": [
    "# Load model for MLM\n",
    "mlm_model = AutoModelForMaskedLM.from_pretrained(model_path)\n",
    "# Create data collator\n",
    "data_collator = DataCollatorForLanguageModeling(\n",
    "    tokenizer=tokenizer,\n",
    "    mlm=True,\n",
    "    mlm_probability=0.15\n",
    ")\n",
    "\n",
    "# mlm_model"
   ]
  },
  {
   "cell_type": "code",
   "execution_count": 23,
   "id": "e72d023d",
   "metadata": {
    "execution": {
     "iopub.execute_input": "2025-02-27T10:49:23.452013Z",
     "iopub.status.busy": "2025-02-27T10:49:23.451457Z",
     "iopub.status.idle": "2025-02-27T10:49:23.673763Z",
     "shell.execute_reply": "2025-02-27T10:49:23.672332Z"
    },
    "papermill": {
     "duration": 0.262642,
     "end_time": "2025-02-27T10:49:23.677296",
     "exception": false,
     "start_time": "2025-02-27T10:49:23.414654",
     "status": "completed"
    },
    "tags": []
   },
   "outputs": [
    {
     "name": "stderr",
     "output_type": "stream",
     "text": [
      "/usr/lib/python3.10/pty.py:89: RuntimeWarning: os.fork() was called. os.fork() is incompatible with multithreaded code, and JAX is multithreaded, so this will likely lead to a deadlock.\n",
      "  pid, fd = os.forkpty()\n"
     ]
    },
    {
     "name": "stdout",
     "output_type": "stream",
     "text": [
      "Thu Feb 27 10:49:23 2025       \r\n",
      "+-----------------------------------------------------------------------------------------+\r\n",
      "| NVIDIA-SMI 560.35.03              Driver Version: 560.35.03      CUDA Version: 12.6     |\r\n",
      "|-----------------------------------------+------------------------+----------------------+\r\n",
      "| GPU  Name                 Persistence-M | Bus-Id          Disp.A | Volatile Uncorr. ECC |\r\n",
      "| Fan  Temp   Perf          Pwr:Usage/Cap |           Memory-Usage | GPU-Util  Compute M. |\r\n",
      "|                                         |                        |               MIG M. |\r\n",
      "|=========================================+========================+======================|\r\n",
      "|   0  Tesla P100-PCIE-16GB           Off |   00000000:00:04.0 Off |                    0 |\r\n",
      "| N/A   37C    P0             26W /  250W |       0MiB /  16384MiB |      0%      Default |\r\n",
      "|                                         |                        |                  N/A |\r\n",
      "+-----------------------------------------+------------------------+----------------------+\r\n",
      "                                                                                         \r\n",
      "+-----------------------------------------------------------------------------------------+\r\n",
      "| Processes:                                                                              |\r\n",
      "|  GPU   GI   CI        PID   Type   Process name                              GPU Memory |\r\n",
      "|        ID   ID                                                               Usage      |\r\n",
      "|=========================================================================================|\r\n",
      "|  No running processes found                                                             |\r\n",
      "+-----------------------------------------------------------------------------------------+\r\n"
     ]
    }
   ],
   "source": [
    "!nvidia-smi"
   ]
  },
  {
   "cell_type": "code",
   "execution_count": 24,
   "id": "c8c2c032",
   "metadata": {
    "execution": {
     "iopub.execute_input": "2025-02-27T10:49:23.737446Z",
     "iopub.status.busy": "2025-02-27T10:49:23.736930Z",
     "iopub.status.idle": "2025-02-27T10:49:23.745996Z",
     "shell.execute_reply": "2025-02-27T10:49:23.744983Z"
    },
    "papermill": {
     "duration": 0.045282,
     "end_time": "2025-02-27T10:49:23.748109",
     "exception": false,
     "start_time": "2025-02-27T10:49:23.702827",
     "status": "completed"
    },
    "tags": []
   },
   "outputs": [],
   "source": [
    "Epochs = 1"
   ]
  },
  {
   "cell_type": "code",
   "execution_count": 25,
   "id": "938f4580",
   "metadata": {
    "execution": {
     "iopub.execute_input": "2025-02-27T10:49:23.804528Z",
     "iopub.status.busy": "2025-02-27T10:49:23.804001Z",
     "iopub.status.idle": "2025-02-27T10:49:23.937601Z",
     "shell.execute_reply": "2025-02-27T10:49:23.936502Z"
    },
    "papermill": {
     "duration": 0.155867,
     "end_time": "2025-02-27T10:49:23.939559",
     "exception": false,
     "start_time": "2025-02-27T10:49:23.783692",
     "status": "completed"
    },
    "tags": []
   },
   "outputs": [],
   "source": [
    "# Setup training arguments without automatic saving.\n",
    "training_args = TrainingArguments(\n",
    "    output_dir=\"./mlm_pretrained_model\",  # still required for logs etc.\n",
    "    report_to=[],                         # Disable all integrations\n",
    "    num_train_epochs=Epochs,\n",
    "    per_device_train_batch_size=16,\n",
    "    save_strategy=\"no\",                   # Disable automatic saving\n",
    "    logging_strategy=\"epoch\",\n",
    "    learning_rate=5e-5,\n",
    "    weight_decay=0.01,\n",
    ")"
   ]
  },
  {
   "cell_type": "code",
   "execution_count": 26,
   "id": "e5908753",
   "metadata": {
    "execution": {
     "iopub.execute_input": "2025-02-27T10:49:23.985701Z",
     "iopub.status.busy": "2025-02-27T10:49:23.985291Z",
     "iopub.status.idle": "2025-02-27T10:49:24.723741Z",
     "shell.execute_reply": "2025-02-27T10:49:24.722553Z"
    },
    "papermill": {
     "duration": 0.766508,
     "end_time": "2025-02-27T10:49:24.725942",
     "exception": false,
     "start_time": "2025-02-27T10:49:23.959434",
     "status": "completed"
    },
    "tags": []
   },
   "outputs": [],
   "source": [
    "# Initialize trainer\n",
    "trainer = Trainer(\n",
    "    model=mlm_model,\n",
    "    args=training_args,\n",
    "    train_dataset=tokenized_dataset,\n",
    "    data_collator=data_collator,\n",
    ")"
   ]
  },
  {
   "cell_type": "code",
   "execution_count": 27,
   "id": "0c302202",
   "metadata": {
    "execution": {
     "iopub.execute_input": "2025-02-27T10:49:24.764813Z",
     "iopub.status.busy": "2025-02-27T10:49:24.764456Z",
     "iopub.status.idle": "2025-02-27T11:00:25.027111Z",
     "shell.execute_reply": "2025-02-27T11:00:25.026235Z"
    },
    "papermill": {
     "duration": 660.283799,
     "end_time": "2025-02-27T11:00:25.028733",
     "exception": false,
     "start_time": "2025-02-27T10:49:24.744934",
     "status": "completed"
    },
    "tags": []
   },
   "outputs": [
    {
     "data": {
      "text/html": [
       "\n",
       "    <div>\n",
       "      \n",
       "      <progress value='1603' max='1603' style='width:300px; height:20px; vertical-align: middle;'></progress>\n",
       "      [1603/1603 10:57, Epoch 1/1]\n",
       "    </div>\n",
       "    <table border=\"1\" class=\"dataframe\">\n",
       "  <thead>\n",
       " <tr style=\"text-align: left;\">\n",
       "      <th>Step</th>\n",
       "      <th>Training Loss</th>\n",
       "    </tr>\n",
       "  </thead>\n",
       "  <tbody>\n",
       "    <tr>\n",
       "      <td>1603</td>\n",
       "      <td>7.124400</td>\n",
       "    </tr>\n",
       "  </tbody>\n",
       "</table><p>"
      ],
      "text/plain": [
       "<IPython.core.display.HTML object>"
      ]
     },
     "metadata": {},
     "output_type": "display_data"
    },
    {
     "data": {
      "text/plain": [
       "TrainOutput(global_step=1603, training_loss=7.124393227542108, metrics={'train_runtime': 658.7646, 'train_samples_per_second': 38.915, 'train_steps_per_second': 2.433, 'total_flos': 2986689049264128.0, 'train_loss': 7.124393227542108, 'epoch': 1.0})"
      ]
     },
     "execution_count": 27,
     "metadata": {},
     "output_type": "execute_result"
    }
   ],
   "source": [
    "# Start Training\n",
    "trainer.train()"
   ]
  },
  {
   "cell_type": "code",
   "execution_count": 28,
   "id": "6055e7cc",
   "metadata": {
    "execution": {
     "iopub.execute_input": "2025-02-27T11:00:25.070412Z",
     "iopub.status.busy": "2025-02-27T11:00:25.070034Z",
     "iopub.status.idle": "2025-02-27T11:00:25.280044Z",
     "shell.execute_reply": "2025-02-27T11:00:25.278623Z"
    },
    "papermill": {
     "duration": 0.233399,
     "end_time": "2025-02-27T11:00:25.281859",
     "exception": false,
     "start_time": "2025-02-27T11:00:25.048460",
     "status": "completed"
    },
    "tags": []
   },
   "outputs": [
    {
     "name": "stdout",
     "output_type": "stream",
     "text": [
      "Thu Feb 27 11:00:25 2025       \r\n",
      "+-----------------------------------------------------------------------------------------+\r\n",
      "| NVIDIA-SMI 560.35.03              Driver Version: 560.35.03      CUDA Version: 12.6     |\r\n",
      "|-----------------------------------------+------------------------+----------------------+\r\n",
      "| GPU  Name                 Persistence-M | Bus-Id          Disp.A | Volatile Uncorr. ECC |\r\n",
      "| Fan  Temp   Perf          Pwr:Usage/Cap |           Memory-Usage | GPU-Util  Compute M. |\r\n",
      "|                                         |                        |               MIG M. |\r\n",
      "|=========================================+========================+======================|\r\n",
      "|   0  Tesla P100-PCIE-16GB           Off |   00000000:00:04.0 Off |                    0 |\r\n",
      "| N/A   71C    P0             50W /  250W |    7015MiB /  16384MiB |     91%      Default |\r\n",
      "|                                         |                        |                  N/A |\r\n",
      "+-----------------------------------------+------------------------+----------------------+\r\n",
      "                                                                                         \r\n",
      "+-----------------------------------------------------------------------------------------+\r\n",
      "| Processes:                                                                              |\r\n",
      "|  GPU   GI   CI        PID   Type   Process name                              GPU Memory |\r\n",
      "|        ID   ID                                                               Usage      |\r\n",
      "|=========================================================================================|\r\n",
      "+-----------------------------------------------------------------------------------------+\r\n"
     ]
    },
    {
     "name": "stderr",
     "output_type": "stream",
     "text": [
      "/usr/lib/python3.10/pty.py:89: RuntimeWarning: os.fork() was called. os.fork() is incompatible with multithreaded code, and JAX is multithreaded, so this will likely lead to a deadlock.\n",
      "  pid, fd = os.forkpty()\n"
     ]
    }
   ],
   "source": [
    "!nvidia-smi"
   ]
  },
  {
   "cell_type": "code",
   "execution_count": 29,
   "id": "0eb5805b",
   "metadata": {
    "execution": {
     "iopub.execute_input": "2025-02-27T11:00:25.321477Z",
     "iopub.status.busy": "2025-02-27T11:00:25.321051Z",
     "iopub.status.idle": "2025-02-27T11:00:28.730894Z",
     "shell.execute_reply": "2025-02-27T11:00:28.729979Z"
    },
    "papermill": {
     "duration": 3.431919,
     "end_time": "2025-02-27T11:00:28.732773",
     "exception": false,
     "start_time": "2025-02-27T11:00:25.300854",
     "status": "completed"
    },
    "tags": []
   },
   "outputs": [],
   "source": [
    "# Save the model\n",
    "\n",
    "import os\n",
    "import torch\n",
    "\n",
    "def save_model_contiguous(model, output_dir):\n",
    "    os.makedirs(output_dir, exist_ok=True)\n",
    "    state_dict = model.state_dict()\n",
    "    contiguous_state_dict = {k: v.contiguous() for k, v in state_dict.items()}\n",
    "    torch.save(contiguous_state_dict, os.path.join(output_dir, \"pytorch_model.bin\"))\n",
    "    # If your model has a configuration saved, also save it:\n",
    "    if hasattr(model, \"config\"):\n",
    "        model.config.save_pretrained(output_dir)\n",
    "    print(f\"Model saved to {output_dir} (all tensors are now contiguous)\")\n",
    "\n",
    "# Example usage:\n",
    "# output_dir = \"./mlm_pretrained_model\"\n",
    "# save_model_contiguous(mlm_model, output_dir)\n",
    "\n",
    "\n",
    "trainer.save_model(\"./mlm_pretrained_model\")"
   ]
  },
  {
   "cell_type": "code",
   "execution_count": 30,
   "id": "b4ea132f",
   "metadata": {
    "execution": {
     "iopub.execute_input": "2025-02-27T11:00:28.774041Z",
     "iopub.status.busy": "2025-02-27T11:00:28.773650Z",
     "iopub.status.idle": "2025-02-27T11:00:29.474520Z",
     "shell.execute_reply": "2025-02-27T11:00:29.473331Z"
    },
    "papermill": {
     "duration": 0.72341,
     "end_time": "2025-02-27T11:00:29.476167",
     "exception": false,
     "start_time": "2025-02-27T11:00:28.752757",
     "status": "completed"
    },
    "tags": []
   },
   "outputs": [
    {
     "name": "stdout",
     "output_type": "stream",
     "text": [
      "Before cleanup - Allocated: 3869.36 GiB, Reserved: 6710.00 GiB\n",
      "After cleanup - Allocated: 16.25 GiB, Reserved: 40.00 GiB\n"
     ]
    }
   ],
   "source": [
    "# Check memory before cleanup\n",
    "def print_gpu_memory(step=\"\"):\n",
    "    allocated = torch.cuda.memory_allocated() / 1024**2  # GiB\n",
    "    reserved = torch.cuda.memory_reserved() / 1024**2    # GiB\n",
    "    print(f\"{step} - Allocated: {allocated:.2f} GiB, Reserved: {reserved:.2f} GiB\")\n",
    "\n",
    "print_gpu_memory(\"Before cleanup\")\n",
    "\n",
    "# Clear memory\n",
    "del mlm_model\n",
    "del trainer\n",
    "del tokenized_dataset\n",
    "del data_collator\n",
    "import gc\n",
    "gc.collect()\n",
    "torch.cuda.empty_cache()\n",
    "\n",
    "print_gpu_memory(\"After cleanup\")\n",
    "\n",
    "# Now run your main training code\n",
    "# [Insert your main training code here]\n",
    "# print_gpu_memory(\"Before main training\")"
   ]
  },
  {
   "cell_type": "code",
   "execution_count": 31,
   "id": "719b00ba",
   "metadata": {
    "execution": {
     "iopub.execute_input": "2025-02-27T11:00:29.524570Z",
     "iopub.status.busy": "2025-02-27T11:00:29.524107Z",
     "iopub.status.idle": "2025-02-27T11:00:29.745930Z",
     "shell.execute_reply": "2025-02-27T11:00:29.744571Z"
    },
    "papermill": {
     "duration": 0.252327,
     "end_time": "2025-02-27T11:00:29.748072",
     "exception": false,
     "start_time": "2025-02-27T11:00:29.495745",
     "status": "completed"
    },
    "tags": []
   },
   "outputs": [
    {
     "name": "stdout",
     "output_type": "stream",
     "text": [
      "Thu Feb 27 11:00:29 2025       \r\n",
      "+-----------------------------------------------------------------------------------------+\r\n",
      "| NVIDIA-SMI 560.35.03              Driver Version: 560.35.03      CUDA Version: 12.6     |\r\n",
      "|-----------------------------------------+------------------------+----------------------+\r\n",
      "| GPU  Name                 Persistence-M | Bus-Id          Disp.A | Volatile Uncorr. ECC |\r\n",
      "| Fan  Temp   Perf          Pwr:Usage/Cap |           Memory-Usage | GPU-Util  Compute M. |\r\n",
      "|                                         |                        |               MIG M. |\r\n",
      "|=========================================+========================+======================|\r\n",
      "|   0  Tesla P100-PCIE-16GB           Off |   00000000:00:04.0 Off |                    0 |\r\n",
      "| N/A   66C    P0             45W /  250W |     345MiB /  16384MiB |     66%      Default |\r\n",
      "|                                         |                        |                  N/A |\r\n",
      "+-----------------------------------------+------------------------+----------------------+\r\n",
      "                                                                                         \r\n",
      "+-----------------------------------------------------------------------------------------+\r\n",
      "| Processes:                                                                              |\r\n",
      "|  GPU   GI   CI        PID   Type   Process name                              GPU Memory |\r\n",
      "|        ID   ID                                                               Usage      |\r\n",
      "|=========================================================================================|\r\n",
      "+-----------------------------------------------------------------------------------------+\r\n"
     ]
    }
   ],
   "source": [
    "!nvidia-smi"
   ]
  },
  {
   "cell_type": "code",
   "execution_count": 32,
   "id": "f8febba5",
   "metadata": {
    "execution": {
     "iopub.execute_input": "2025-02-27T11:00:29.790844Z",
     "iopub.status.busy": "2025-02-27T11:00:29.790448Z",
     "iopub.status.idle": "2025-02-27T11:00:29.797869Z",
     "shell.execute_reply": "2025-02-27T11:00:29.796649Z"
    },
    "papermill": {
     "duration": 0.031218,
     "end_time": "2025-02-27T11:00:29.799612",
     "exception": false,
     "start_time": "2025-02-27T11:00:29.768394",
     "status": "completed"
    },
    "tags": []
   },
   "outputs": [
    {
     "name": "stdout",
     "output_type": "stream",
     "text": [
      "|===========================================================================|\n",
      "|                  PyTorch CUDA memory summary, device ID 0                 |\n",
      "|---------------------------------------------------------------------------|\n",
      "|            CUDA OOMs: 0            |        cudaMalloc retries: 0         |\n",
      "|===========================================================================|\n",
      "|        Metric         | Cur Usage  | Peak Usage | Tot Alloc  | Tot Freed  |\n",
      "|---------------------------------------------------------------------------|\n",
      "| Allocated memory      |  16640 KiB |   6436 MiB |  17158 GiB |  17158 GiB |\n",
      "|       from large pool |  16640 KiB |   6431 MiB |  16806 GiB |  16806 GiB |\n",
      "|       from small pool |      0 KiB |    268 MiB |    351 GiB |    351 GiB |\n",
      "|---------------------------------------------------------------------------|\n",
      "| Active memory         |  16640 KiB |   6436 MiB |  17158 GiB |  17158 GiB |\n",
      "|       from large pool |  16640 KiB |   6431 MiB |  16806 GiB |  16806 GiB |\n",
      "|       from small pool |      0 KiB |    268 MiB |    351 GiB |    351 GiB |\n",
      "|---------------------------------------------------------------------------|\n",
      "| Requested memory      |  16640 KiB |   6436 MiB |  17157 GiB |  17157 GiB |\n",
      "|       from large pool |  16640 KiB |   6431 MiB |  16806 GiB |  16806 GiB |\n",
      "|       from small pool |      0 KiB |    268 MiB |    350 GiB |    350 GiB |\n",
      "|---------------------------------------------------------------------------|\n",
      "| GPU reserved memory   |  40960 KiB |   6710 MiB |   6710 MiB |   6670 MiB |\n",
      "|       from large pool |  40960 KiB |   6440 MiB |   6440 MiB |   6400 MiB |\n",
      "|       from small pool |      0 KiB |    270 MiB |    270 MiB |    270 MiB |\n",
      "|---------------------------------------------------------------------------|\n",
      "| Non-releasable memory |      0 B   |      0 B   |      0 B   |      0 B   |\n",
      "|       from large pool |      0 B   |      0 B   |      0 B   |      0 B   |\n",
      "|       from small pool |      0 B   |      0 B   |      0 B   |      0 B   |\n",
      "|---------------------------------------------------------------------------|\n",
      "| Allocations           |       2    |    1985    |    4716 K  |    4716 K  |\n",
      "|       from large pool |       2    |     740    |    2506 K  |    2506 K  |\n",
      "|       from small pool |       0    |    1395    |    2210 K  |    2210 K  |\n",
      "|---------------------------------------------------------------------------|\n",
      "| Active allocs         |       2    |    1985    |    4716 K  |    4716 K  |\n",
      "|       from large pool |       2    |     740    |    2506 K  |    2506 K  |\n",
      "|       from small pool |       0    |    1395    |    2210 K  |    2210 K  |\n",
      "|---------------------------------------------------------------------------|\n",
      "| GPU reserved segments |       0    |       0    |       0    |       0    |\n",
      "|       from large pool |       0    |       0    |       0    |       0    |\n",
      "|       from small pool |       0    |       0    |       0    |       0    |\n",
      "|---------------------------------------------------------------------------|\n",
      "| Non-releasable allocs |       0    |       0    |       0    |       0    |\n",
      "|       from large pool |       0    |       0    |       0    |       0    |\n",
      "|       from small pool |       0    |       0    |       0    |       0    |\n",
      "|---------------------------------------------------------------------------|\n",
      "| Oversize allocations  |       0    |       0    |       0    |       0    |\n",
      "|---------------------------------------------------------------------------|\n",
      "| Oversize GPU segments |       0    |       0    |       0    |       0    |\n",
      "|===========================================================================|\n",
      "\n"
     ]
    }
   ],
   "source": [
    "print(torch.cuda.memory_summary())"
   ]
  },
  {
   "cell_type": "code",
   "execution_count": 33,
   "id": "0f263604",
   "metadata": {
    "execution": {
     "iopub.execute_input": "2025-02-27T11:00:29.849122Z",
     "iopub.status.busy": "2025-02-27T11:00:29.848781Z",
     "iopub.status.idle": "2025-02-27T11:00:29.853389Z",
     "shell.execute_reply": "2025-02-27T11:00:29.852241Z"
    },
    "papermill": {
     "duration": 0.027654,
     "end_time": "2025-02-27T11:00:29.855078",
     "exception": false,
     "start_time": "2025-02-27T11:00:29.827424",
     "status": "completed"
    },
    "tags": []
   },
   "outputs": [],
   "source": [
    "# from transformers import AutoModelForSequenceClassification, AutoTokenizer\n",
    "\n",
    "# # Now you can load this for classification\n",
    "# model = AutoModelForSequenceClassification.from_pretrained(\n",
    "#     \"./mlm_pretrained_model\",\n",
    "#     num_labels=2,\n",
    "#     output_attentions=False,\n",
    "#     output_hidden_states=False,\n",
    "# )\n",
    "\n",
    "new_model_path = \"/kaggle/working/mlm_pretrained_model\""
   ]
  },
  {
   "cell_type": "code",
   "execution_count": 34,
   "id": "879f95e8",
   "metadata": {
    "execution": {
     "iopub.execute_input": "2025-02-27T11:00:29.896152Z",
     "iopub.status.busy": "2025-02-27T11:00:29.895803Z",
     "iopub.status.idle": "2025-02-27T11:00:29.899988Z",
     "shell.execute_reply": "2025-02-27T11:00:29.898881Z"
    },
    "papermill": {
     "duration": 0.026594,
     "end_time": "2025-02-27T11:00:29.901703",
     "exception": false,
     "start_time": "2025-02-27T11:00:29.875109",
     "status": "completed"
    },
    "tags": []
   },
   "outputs": [],
   "source": [
    "# import pandas as pd\n",
    "# import json\n",
    "\n",
    "# # Read the JSONL file\n",
    "# data_train = []\n",
    "# with open('/kaggle/input/sarcasm/sarcasm_detection_shared_task_reddit_training.jsonl', 'r') as f:\n",
    "#     for line in f:\n",
    "#         # Parse each line as JSON and append to list\n",
    "#         data_train.append(json.loads(line))\n",
    "# data_twitter_df = pd.DataFrame(data_train)\n",
    "# # Convert list of dictionaries to Data"
   ]
  },
  {
   "cell_type": "code",
   "execution_count": 35,
   "id": "e137da50",
   "metadata": {
    "execution": {
     "iopub.execute_input": "2025-02-27T11:00:29.943448Z",
     "iopub.status.busy": "2025-02-27T11:00:29.942936Z",
     "iopub.status.idle": "2025-02-27T11:00:29.947388Z",
     "shell.execute_reply": "2025-02-27T11:00:29.946327Z"
    },
    "papermill": {
     "duration": 0.026976,
     "end_time": "2025-02-27T11:00:29.948988",
     "exception": false,
     "start_time": "2025-02-27T11:00:29.922012",
     "status": "completed"
    },
    "tags": []
   },
   "outputs": [],
   "source": [
    "# data_twitter_df['label']=data_twitter_df['label'].map({'SARCASM':0,'NOT_SARCASM':1})\n",
    "# data_twitter_df=data_twitter_df.rename(columns={'context':'parent_comment','response':'comment'})"
   ]
  },
  {
   "cell_type": "code",
   "execution_count": 36,
   "id": "af7457f0",
   "metadata": {
    "execution": {
     "iopub.execute_input": "2025-02-27T11:00:29.990296Z",
     "iopub.status.busy": "2025-02-27T11:00:29.989772Z",
     "iopub.status.idle": "2025-02-27T11:00:29.994496Z",
     "shell.execute_reply": "2025-02-27T11:00:29.993354Z"
    },
    "papermill": {
     "duration": 0.027344,
     "end_time": "2025-02-27T11:00:29.996223",
     "exception": false,
     "start_time": "2025-02-27T11:00:29.968879",
     "status": "completed"
    },
    "tags": []
   },
   "outputs": [],
   "source": [
    "# data_twitter_df.head(3)"
   ]
  },
  {
   "cell_type": "code",
   "execution_count": 37,
   "id": "69e7a079",
   "metadata": {
    "execution": {
     "iopub.execute_input": "2025-02-27T11:00:30.050717Z",
     "iopub.status.busy": "2025-02-27T11:00:30.050270Z",
     "iopub.status.idle": "2025-02-27T11:00:30.054986Z",
     "shell.execute_reply": "2025-02-27T11:00:30.053703Z"
    },
    "papermill": {
     "duration": 0.034848,
     "end_time": "2025-02-27T11:00:30.057876",
     "exception": false,
     "start_time": "2025-02-27T11:00:30.023028",
     "status": "completed"
    },
    "tags": []
   },
   "outputs": [],
   "source": [
    "# data_twitter_df['comment']=data_twitter_df['comment'].astype(str)\n",
    "# data_twitter_df['parent_comment']=data_twitter_df['parent_comment'].astype(str)"
   ]
  },
  {
   "cell_type": "code",
   "execution_count": 38,
   "id": "a68becf0",
   "metadata": {
    "execution": {
     "iopub.execute_input": "2025-02-27T11:00:30.106132Z",
     "iopub.status.busy": "2025-02-27T11:00:30.105745Z",
     "iopub.status.idle": "2025-02-27T11:00:30.115457Z",
     "shell.execute_reply": "2025-02-27T11:00:30.114241Z"
    },
    "papermill": {
     "duration": 0.034154,
     "end_time": "2025-02-27T11:00:30.117375",
     "exception": false,
     "start_time": "2025-02-27T11:00:30.083221",
     "status": "completed"
    },
    "tags": []
   },
   "outputs": [],
   "source": [
    "import torch\n",
    "from torch.utils.data import Dataset\n",
    "\n",
    "class MultiFeatureDataset(Dataset):\n",
    "    def __init__(self, dataframe, tokenizer, max_len):\n",
    "        self.tokenizer = tokenizer\n",
    "        self.data = dataframe\n",
    "        self.comment = dataframe['comment']\n",
    "        self.parent=dataframe['parent_comment']\n",
    "        self.labels = dataframe.label\n",
    "        self.max_len = max_len\n",
    "\n",
    "    def __len__(self):\n",
    "        return len(self.data)\n",
    "    \n",
    "    def __getitem__(self, index):\n",
    "        if index >= len(self.data):\n",
    "            raise IndexError(f\"Index {index} out of range\")\n",
    "        comment = str(self.comment.iloc[index])\n",
    "        parent = str(self.parent.iloc[index])\n",
    "        label = self.labels.iloc[index]\n",
    "\n",
    "\n",
    " \n",
    "        comment_encoding = self.tokenizer.encode_plus(\n",
    "            comment,\n",
    "            add_special_tokens=True,\n",
    "            max_length=self.max_len,\n",
    "            return_token_type_ids=False,\n",
    "            padding='max_length',\n",
    "            truncation=True,\n",
    "            return_attention_mask=True,\n",
    "            return_tensors='pt',\n",
    "        )\n",
    "\n",
    "        parent_encoding = self.tokenizer.encode_plus(\n",
    "            parent,\n",
    "            add_special_tokens=True,\n",
    "            max_length=self.max_len,\n",
    "            return_token_type_ids=False,\n",
    "            padding='max_length',\n",
    "            truncation=True,\n",
    "            return_attention_mask=True,\n",
    "            return_tensors='pt',\n",
    "        )\n",
    "\n",
    "        return {\n",
    "        'input_ids1': parent_encoding['input_ids'].flatten(),\n",
    "        'attention_mask1': parent_encoding['attention_mask'].flatten(),\n",
    "        'input_ids2': comment_encoding['input_ids'].flatten(),\n",
    "        'attention_mask2': comment_encoding['attention_mask'].flatten(),\n",
    "        'labels': torch.tensor(label, dtype=torch.long)\n",
    "    }"
   ]
  },
  {
   "cell_type": "code",
   "execution_count": 39,
   "id": "f5601986",
   "metadata": {
    "execution": {
     "iopub.execute_input": "2025-02-27T11:00:30.165016Z",
     "iopub.status.busy": "2025-02-27T11:00:30.164654Z",
     "iopub.status.idle": "2025-02-27T11:00:30.168695Z",
     "shell.execute_reply": "2025-02-27T11:00:30.167637Z"
    },
    "papermill": {
     "duration": 0.026463,
     "end_time": "2025-02-27T11:00:30.170396",
     "exception": false,
     "start_time": "2025-02-27T11:00:30.143933",
     "status": "completed"
    },
    "tags": []
   },
   "outputs": [],
   "source": [
    "# print(data_twitter_df.shape)\n",
    "# data_twitter_df.head(3)"
   ]
  },
  {
   "cell_type": "code",
   "execution_count": 40,
   "id": "6528062d",
   "metadata": {
    "execution": {
     "iopub.execute_input": "2025-02-27T11:00:30.212341Z",
     "iopub.status.busy": "2025-02-27T11:00:30.211849Z",
     "iopub.status.idle": "2025-02-27T11:00:30.228773Z",
     "shell.execute_reply": "2025-02-27T11:00:30.227601Z"
    },
    "papermill": {
     "duration": 0.040363,
     "end_time": "2025-02-27T11:00:30.230859",
     "exception": false,
     "start_time": "2025-02-27T11:00:30.190496",
     "status": "completed"
    },
    "tags": []
   },
   "outputs": [
    {
     "data": {
      "text/html": [
       "<div>\n",
       "<style scoped>\n",
       "    .dataframe tbody tr th:only-of-type {\n",
       "        vertical-align: middle;\n",
       "    }\n",
       "\n",
       "    .dataframe tbody tr th {\n",
       "        vertical-align: top;\n",
       "    }\n",
       "\n",
       "    .dataframe thead th {\n",
       "        text-align: right;\n",
       "    }\n",
       "</style>\n",
       "<table border=\"1\" class=\"dataframe\">\n",
       "  <thead>\n",
       "    <tr style=\"text-align: right;\">\n",
       "      <th></th>\n",
       "      <th>id</th>\n",
       "      <th>parent_comment</th>\n",
       "      <th>label</th>\n",
       "      <th>comment</th>\n",
       "    </tr>\n",
       "  </thead>\n",
       "  <tbody>\n",
       "    <tr>\n",
       "      <th>0</th>\n",
       "      <td>0</td>\n",
       "      <td>শুধু মাত্র এই পোস্টে কমেন্ট করার জন্য বাড়ির এ...</td>\n",
       "      <td>1</td>\n",
       "      <td>ছিলাম বসে কিনে বি এম করে বিক্রি ঘোড়া পাড়া ডি...</td>\n",
       "    </tr>\n",
       "    <tr>\n",
       "      <th>1</th>\n",
       "      <td>2</td>\n",
       "      <td>সাথে আছে বুক ভরা চুল ।</td>\n",
       "      <td>1</td>\n",
       "      <td>। চুল ভরা বুক আছে সাথে</td>\n",
       "    </tr>\n",
       "    <tr>\n",
       "      <th>2</th>\n",
       "      <td>4</td>\n",
       "      <td>ভাই মিথ্যা কথা বইলেন না আপনি ভিপিএন ইউজ করে পো...</td>\n",
       "      <td>1</td>\n",
       "      <td>। না পারলাম যেতে এড়িয়ে বিষয়টি তাই রঙমিস্ত্র...</td>\n",
       "    </tr>\n",
       "  </tbody>\n",
       "</table>\n",
       "</div>"
      ],
      "text/plain": [
       "   id                                     parent_comment  label  \\\n",
       "0   0  শুধু মাত্র এই পোস্টে কমেন্ট করার জন্য বাড়ির এ...      1   \n",
       "1   2                             সাথে আছে বুক ভরা চুল ।      1   \n",
       "2   4  ভাই মিথ্যা কথা বইলেন না আপনি ভিপিএন ইউজ করে পো...      1   \n",
       "\n",
       "                                             comment  \n",
       "0  ছিলাম বসে কিনে বি এম করে বিক্রি ঘোড়া পাড়া ডি...  \n",
       "1                             । চুল ভরা বুক আছে সাথে  \n",
       "2  । না পারলাম যেতে এড়িয়ে বিষয়টি তাই রঙমিস্ত্র...  "
      ]
     },
     "execution_count": 40,
     "metadata": {},
     "output_type": "execute_result"
    }
   ],
   "source": [
    "# df.rename(columns={\"Polarity\": \"label\"}, inplace=True)\n",
    "df.rename(columns={\"text\": \"parent_comment\"}, inplace=True)\n",
    "df.rename(columns={\"rtext\": \"comment\"}, inplace=True)\n",
    "\n",
    "df.head(3)"
   ]
  },
  {
   "cell_type": "code",
   "execution_count": 41,
   "id": "201b153a",
   "metadata": {
    "execution": {
     "iopub.execute_input": "2025-02-27T11:00:30.279329Z",
     "iopub.status.busy": "2025-02-27T11:00:30.278834Z",
     "iopub.status.idle": "2025-02-27T11:00:30.296639Z",
     "shell.execute_reply": "2025-02-27T11:00:30.295458Z"
    },
    "papermill": {
     "duration": 0.041226,
     "end_time": "2025-02-27T11:00:30.298697",
     "exception": false,
     "start_time": "2025-02-27T11:00:30.257471",
     "status": "completed"
    },
    "tags": []
   },
   "outputs": [],
   "source": [
    "data_twitter_df = df.copy()"
   ]
  },
  {
   "cell_type": "code",
   "execution_count": 42,
   "id": "46405373",
   "metadata": {
    "execution": {
     "iopub.execute_input": "2025-02-27T11:00:30.340328Z",
     "iopub.status.busy": "2025-02-27T11:00:30.339945Z",
     "iopub.status.idle": "2025-02-27T11:00:30.350512Z",
     "shell.execute_reply": "2025-02-27T11:00:30.349422Z"
    },
    "papermill": {
     "duration": 0.033627,
     "end_time": "2025-02-27T11:00:30.352213",
     "exception": false,
     "start_time": "2025-02-27T11:00:30.318586",
     "status": "completed"
    },
    "tags": []
   },
   "outputs": [],
   "source": [
    "n_samples = 1000  # Change this as needed\n",
    "\n",
    "sampled_df = data_twitter_df.sample(n=n_samples, random_state=42) if len(data_twitter_df) > n_samples else data_twitter_df"
   ]
  },
  {
   "cell_type": "code",
   "execution_count": 43,
   "id": "72ff5534",
   "metadata": {
    "execution": {
     "iopub.execute_input": "2025-02-27T11:00:30.394042Z",
     "iopub.status.busy": "2025-02-27T11:00:30.393533Z",
     "iopub.status.idle": "2025-02-27T11:00:30.415096Z",
     "shell.execute_reply": "2025-02-27T11:00:30.413822Z"
    },
    "papermill": {
     "duration": 0.04455,
     "end_time": "2025-02-27T11:00:30.417018",
     "exception": false,
     "start_time": "2025-02-27T11:00:30.372468",
     "status": "completed"
    },
    "tags": []
   },
   "outputs": [
    {
     "name": "stdout",
     "output_type": "stream",
     "text": [
      "20508 5128\n"
     ]
    }
   ],
   "source": [
    "from sklearn.model_selection import train_test_split\n",
    "\n",
    "train_df, eval_df = train_test_split(data_twitter_df, test_size=0.2, random_state=42, stratify=data_twitter_df['label'])\n",
    "\n",
    "print(len(train_df), len(eval_df))"
   ]
  },
  {
   "cell_type": "code",
   "execution_count": 44,
   "id": "60852bc0",
   "metadata": {
    "execution": {
     "iopub.execute_input": "2025-02-27T11:00:30.461074Z",
     "iopub.status.busy": "2025-02-27T11:00:30.460588Z",
     "iopub.status.idle": "2025-02-27T11:00:30.473554Z",
     "shell.execute_reply": "2025-02-27T11:00:30.472471Z"
    },
    "papermill": {
     "duration": 0.035808,
     "end_time": "2025-02-27T11:00:30.475291",
     "exception": false,
     "start_time": "2025-02-27T11:00:30.439483",
     "status": "completed"
    },
    "tags": []
   },
   "outputs": [
    {
     "data": {
      "text/html": [
       "<div>\n",
       "<style scoped>\n",
       "    .dataframe tbody tr th:only-of-type {\n",
       "        vertical-align: middle;\n",
       "    }\n",
       "\n",
       "    .dataframe tbody tr th {\n",
       "        vertical-align: top;\n",
       "    }\n",
       "\n",
       "    .dataframe thead th {\n",
       "        text-align: right;\n",
       "    }\n",
       "</style>\n",
       "<table border=\"1\" class=\"dataframe\">\n",
       "  <thead>\n",
       "    <tr style=\"text-align: right;\">\n",
       "      <th></th>\n",
       "      <th>id</th>\n",
       "      <th>parent_comment</th>\n",
       "      <th>label</th>\n",
       "      <th>comment</th>\n",
       "    </tr>\n",
       "  </thead>\n",
       "  <tbody>\n",
       "    <tr>\n",
       "      <th>24108</th>\n",
       "      <td>24487</td>\n",
       "      <td>আমার ভাই এবং বাবাকে নিয়ে নােয়াখালী সদর থানায...</td>\n",
       "      <td>0</td>\n",
       "      <td>। পারেনি দিতে সন্ধান কোন আমাকে তারা চাইলে সন্ধ...</td>\n",
       "    </tr>\n",
       "    <tr>\n",
       "      <th>16703</th>\n",
       "      <td>11100</td>\n",
       "      <td>যদি ডট বল করাতে চাও তবে আমাকে ডাকো সুনীল নারিন...</td>\n",
       "      <td>0</td>\n",
       "      <td>। পানি বোতল এক ভিতর মরুভুমির । ছেলে সোনার আমাদ...</td>\n",
       "    </tr>\n",
       "    <tr>\n",
       "      <th>9138</th>\n",
       "      <td>22963</td>\n",
       "      <td>কেউ অক্সিজেন না পেয়ে মরে আর কেউ বিয়ে করে মরে ।</td>\n",
       "      <td>1</td>\n",
       "      <td>। মরে করে বিয়ে কেউ আর মরে পেয়ে না অক্সিজেন কেউ</td>\n",
       "    </tr>\n",
       "  </tbody>\n",
       "</table>\n",
       "</div>"
      ],
      "text/plain": [
       "          id                                     parent_comment  label  \\\n",
       "24108  24487  আমার ভাই এবং বাবাকে নিয়ে নােয়াখালী সদর থানায...      0   \n",
       "16703  11100  যদি ডট বল করাতে চাও তবে আমাকে ডাকো সুনীল নারিন...      0   \n",
       "9138   22963   কেউ অক্সিজেন না পেয়ে মরে আর কেউ বিয়ে করে মরে ।      1   \n",
       "\n",
       "                                                 comment  \n",
       "24108  । পারেনি দিতে সন্ধান কোন আমাকে তারা চাইলে সন্ধ...  \n",
       "16703  । পানি বোতল এক ভিতর মরুভুমির । ছেলে সোনার আমাদ...  \n",
       "9138    । মরে করে বিয়ে কেউ আর মরে পেয়ে না অক্সিজেন কেউ  "
      ]
     },
     "execution_count": 44,
     "metadata": {},
     "output_type": "execute_result"
    }
   ],
   "source": [
    "train_df.head(3)"
   ]
  },
  {
   "cell_type": "code",
   "execution_count": 45,
   "id": "f4ec3982",
   "metadata": {
    "execution": {
     "iopub.execute_input": "2025-02-27T11:00:30.517713Z",
     "iopub.status.busy": "2025-02-27T11:00:30.517190Z",
     "iopub.status.idle": "2025-02-27T11:00:30.527213Z",
     "shell.execute_reply": "2025-02-27T11:00:30.526134Z"
    },
    "papermill": {
     "duration": 0.033252,
     "end_time": "2025-02-27T11:00:30.528917",
     "exception": false,
     "start_time": "2025-02-27T11:00:30.495665",
     "status": "completed"
    },
    "tags": []
   },
   "outputs": [
    {
     "data": {
      "text/plain": [
       "label\n",
       "0    10254\n",
       "1    10254\n",
       "Name: count, dtype: int64"
      ]
     },
     "execution_count": 45,
     "metadata": {},
     "output_type": "execute_result"
    }
   ],
   "source": [
    "train_df.label.value_counts()"
   ]
  },
  {
   "cell_type": "code",
   "execution_count": 46,
   "id": "fa35bdb4",
   "metadata": {
    "execution": {
     "iopub.execute_input": "2025-02-27T11:00:30.572279Z",
     "iopub.status.busy": "2025-02-27T11:00:30.571780Z",
     "iopub.status.idle": "2025-02-27T11:00:30.580445Z",
     "shell.execute_reply": "2025-02-27T11:00:30.579398Z"
    },
    "papermill": {
     "duration": 0.032544,
     "end_time": "2025-02-27T11:00:30.582058",
     "exception": false,
     "start_time": "2025-02-27T11:00:30.549514",
     "status": "completed"
    },
    "tags": []
   },
   "outputs": [
    {
     "data": {
      "text/plain": [
       "label\n",
       "1    2564\n",
       "0    2564\n",
       "Name: count, dtype: int64"
      ]
     },
     "execution_count": 46,
     "metadata": {},
     "output_type": "execute_result"
    }
   ],
   "source": [
    "eval_df.label.value_counts()"
   ]
  },
  {
   "cell_type": "code",
   "execution_count": 47,
   "id": "518baefd",
   "metadata": {
    "execution": {
     "iopub.execute_input": "2025-02-27T11:00:30.625208Z",
     "iopub.status.busy": "2025-02-27T11:00:30.624838Z",
     "iopub.status.idle": "2025-02-27T11:00:30.628883Z",
     "shell.execute_reply": "2025-02-27T11:00:30.627845Z"
    },
    "papermill": {
     "duration": 0.027584,
     "end_time": "2025-02-27T11:00:30.630617",
     "exception": false,
     "start_time": "2025-02-27T11:00:30.603033",
     "status": "completed"
    },
    "tags": []
   },
   "outputs": [],
   "source": [
    "# mlm_model.config.hidden_size"
   ]
  },
  {
   "cell_type": "code",
   "execution_count": 48,
   "id": "8259bd71",
   "metadata": {
    "execution": {
     "iopub.execute_input": "2025-02-27T11:00:30.674168Z",
     "iopub.status.busy": "2025-02-27T11:00:30.673670Z",
     "iopub.status.idle": "2025-02-27T11:00:30.694510Z",
     "shell.execute_reply": "2025-02-27T11:00:30.693499Z"
    },
    "papermill": {
     "duration": 0.044635,
     "end_time": "2025-02-27T11:00:30.696271",
     "exception": false,
     "start_time": "2025-02-27T11:00:30.651636",
     "status": "completed"
    },
    "tags": []
   },
   "outputs": [],
   "source": [
    "from transformers import AutoConfig, AutoModel, AutoTokenizer, logging\n",
    "import torch\n",
    "import torch.nn as nn\n",
    "\n",
    "# Suppress unnecessary warnings\n",
    "logging.set_verbosity_error()\n",
    "\n",
    "class CustomEncoderLayer(nn.Module):\n",
    "    def __init__(self, hidden_size, num_attention_heads, dropout_rate=0.3):\n",
    "        super(CustomEncoderLayer, self).__init__()\n",
    "        self.self_attention = nn.MultiheadAttention(hidden_size, num_attention_heads, dropout=dropout_rate)\n",
    "        self.cross_attention = nn.MultiheadAttention(hidden_size, num_attention_heads, dropout=dropout_rate)\n",
    "        self.feed_forward = nn.Sequential(\n",
    "            nn.Linear(hidden_size, hidden_size * 4),\n",
    "            nn.ReLU(),\n",
    "            nn.Linear(hidden_size * 4, hidden_size)\n",
    "        )\n",
    "        self.layer_norm1 = nn.LayerNorm(hidden_size)\n",
    "        self.layer_norm2 = nn.LayerNorm(hidden_size)\n",
    "        self.layer_norm3 = nn.LayerNorm(hidden_size)\n",
    "        self.dropout = nn.Dropout(dropout_rate)\n",
    "\n",
    "    def forward(self, x, y, x_mask, y_mask):\n",
    "        # Self-attention on x\n",
    "        temp1 = x\n",
    "        self_attn_output, _ = self.self_attention(x, x, x)\n",
    "        x = self.layer_norm1(temp1 + self.dropout(self_attn_output))\n",
    "        \n",
    "        # Cross-attention from x to y\n",
    "        cross_attn_output, cross_attn_weights = self.cross_attention(x, y, y)\n",
    "        x = self.layer_norm2(temp1 + self.dropout(cross_attn_output))\n",
    "        \n",
    "        # Feed forward\n",
    "        ff_output = self.feed_forward(x)\n",
    "        x = self.layer_norm3(temp1 + self.dropout(ff_output))\n",
    "        \n",
    "        return x, cross_attn_weights\n",
    "\n",
    "class CustomDualBanglaBERTModel(nn.Module):\n",
    "    def __init__(self, model_checkpoint, num_layers=6, hidden_size=1024, num_attention_heads=8, dropout_rate=0.1):\n",
    "        super(CustomDualBanglaBERTModel, self).__init__()\n",
    "        \n",
    "        # Load BanglaBERT Electra-based models\n",
    "        self.bert1 = AutoModel.from_pretrained(model_checkpoint)\n",
    "        self.bert2 = AutoModel.from_pretrained(model_checkpoint)\n",
    "        \n",
    "        # Custom encoder layers\n",
    "        self.encoder_layers = nn.ModuleList([\n",
    "            CustomEncoderLayer(hidden_size, num_attention_heads, dropout_rate)\n",
    "            for _ in range(num_layers)\n",
    "        ])\n",
    "        \n",
    "        # Classification head\n",
    "        self.fc = nn.Linear(hidden_size * 2, 2)\n",
    "\n",
    "    def forward(self, input_ids1, attention_mask1, input_ids2, attention_mask2):\n",
    "        # Get embeddings from two BERT models\n",
    "        output1 = self.bert1(input_ids=input_ids1, attention_mask=attention_mask1).last_hidden_state\n",
    "        output2 = self.bert2(input_ids=input_ids2, attention_mask=attention_mask2).last_hidden_state\n",
    "        \n",
    "        # Attention masks for padding tokens\n",
    "        x_mask = ~attention_mask1.bool()\n",
    "        y_mask = ~attention_mask2.bool()\n",
    "        \n",
    "        # Apply encoder layers\n",
    "        for layer in self.encoder_layers:\n",
    "            output1, _ = layer(output1, output2, x_mask, y_mask)\n",
    "            output2, cross_attn_weights = layer(output2, output1, y_mask, x_mask)\n",
    "        \n",
    "        # Pool the outputs from both models\n",
    "        pooled_output1 = torch.mean(output1, dim=1)\n",
    "        pooled_output2 = torch.mean(output2, dim=1)\n",
    "        \n",
    "        # Combine and classify\n",
    "        combined = torch.cat((pooled_output1, pooled_output2), dim=1)\n",
    "        return self.fc(combined)"
   ]
  },
  {
   "cell_type": "code",
   "execution_count": 49,
   "id": "15d50fe0",
   "metadata": {
    "execution": {
     "iopub.execute_input": "2025-02-27T11:00:30.738639Z",
     "iopub.status.busy": "2025-02-27T11:00:30.738229Z",
     "iopub.status.idle": "2025-02-27T11:00:30.744337Z",
     "shell.execute_reply": "2025-02-27T11:00:30.743266Z"
    },
    "papermill": {
     "duration": 0.029299,
     "end_time": "2025-02-27T11:00:30.746221",
     "exception": false,
     "start_time": "2025-02-27T11:00:30.716922",
     "status": "completed"
    },
    "tags": []
   },
   "outputs": [
    {
     "data": {
      "text/plain": [
       "'/kaggle/working/mlm_pretrained_model'"
      ]
     },
     "execution_count": 49,
     "metadata": {},
     "output_type": "execute_result"
    }
   ],
   "source": [
    "new_model_path "
   ]
  },
  {
   "cell_type": "code",
   "execution_count": 50,
   "id": "7d49e374",
   "metadata": {
    "execution": {
     "iopub.execute_input": "2025-02-27T11:00:30.795749Z",
     "iopub.status.busy": "2025-02-27T11:00:30.795236Z",
     "iopub.status.idle": "2025-02-27T11:00:33.571745Z",
     "shell.execute_reply": "2025-02-27T11:00:33.570712Z"
    },
    "papermill": {
     "duration": 2.799752,
     "end_time": "2025-02-27T11:00:33.573338",
     "exception": false,
     "start_time": "2025-02-27T11:00:30.773586",
     "status": "completed"
    },
    "tags": []
   },
   "outputs": [
    {
     "data": {
      "text/plain": [
       "CustomDualBanglaBERTModel(\n",
       "  (bert1): ElectraModel(\n",
       "    (embeddings): ElectraEmbeddings(\n",
       "      (word_embeddings): Embedding(32000, 1024, padding_idx=0)\n",
       "      (position_embeddings): Embedding(512, 1024)\n",
       "      (token_type_embeddings): Embedding(2, 1024)\n",
       "      (LayerNorm): LayerNorm((1024,), eps=1e-12, elementwise_affine=True)\n",
       "      (dropout): Dropout(p=0.1, inplace=False)\n",
       "    )\n",
       "    (encoder): ElectraEncoder(\n",
       "      (layer): ModuleList(\n",
       "        (0-23): 24 x ElectraLayer(\n",
       "          (attention): ElectraAttention(\n",
       "            (self): ElectraSelfAttention(\n",
       "              (query): Linear(in_features=1024, out_features=1024, bias=True)\n",
       "              (key): Linear(in_features=1024, out_features=1024, bias=True)\n",
       "              (value): Linear(in_features=1024, out_features=1024, bias=True)\n",
       "              (dropout): Dropout(p=0.1, inplace=False)\n",
       "            )\n",
       "            (output): ElectraSelfOutput(\n",
       "              (dense): Linear(in_features=1024, out_features=1024, bias=True)\n",
       "              (LayerNorm): LayerNorm((1024,), eps=1e-12, elementwise_affine=True)\n",
       "              (dropout): Dropout(p=0.1, inplace=False)\n",
       "            )\n",
       "          )\n",
       "          (intermediate): ElectraIntermediate(\n",
       "            (dense): Linear(in_features=1024, out_features=4096, bias=True)\n",
       "            (intermediate_act_fn): GELUActivation()\n",
       "          )\n",
       "          (output): ElectraOutput(\n",
       "            (dense): Linear(in_features=4096, out_features=1024, bias=True)\n",
       "            (LayerNorm): LayerNorm((1024,), eps=1e-12, elementwise_affine=True)\n",
       "            (dropout): Dropout(p=0.1, inplace=False)\n",
       "          )\n",
       "        )\n",
       "      )\n",
       "    )\n",
       "  )\n",
       "  (bert2): ElectraModel(\n",
       "    (embeddings): ElectraEmbeddings(\n",
       "      (word_embeddings): Embedding(32000, 1024, padding_idx=0)\n",
       "      (position_embeddings): Embedding(512, 1024)\n",
       "      (token_type_embeddings): Embedding(2, 1024)\n",
       "      (LayerNorm): LayerNorm((1024,), eps=1e-12, elementwise_affine=True)\n",
       "      (dropout): Dropout(p=0.1, inplace=False)\n",
       "    )\n",
       "    (encoder): ElectraEncoder(\n",
       "      (layer): ModuleList(\n",
       "        (0-23): 24 x ElectraLayer(\n",
       "          (attention): ElectraAttention(\n",
       "            (self): ElectraSelfAttention(\n",
       "              (query): Linear(in_features=1024, out_features=1024, bias=True)\n",
       "              (key): Linear(in_features=1024, out_features=1024, bias=True)\n",
       "              (value): Linear(in_features=1024, out_features=1024, bias=True)\n",
       "              (dropout): Dropout(p=0.1, inplace=False)\n",
       "            )\n",
       "            (output): ElectraSelfOutput(\n",
       "              (dense): Linear(in_features=1024, out_features=1024, bias=True)\n",
       "              (LayerNorm): LayerNorm((1024,), eps=1e-12, elementwise_affine=True)\n",
       "              (dropout): Dropout(p=0.1, inplace=False)\n",
       "            )\n",
       "          )\n",
       "          (intermediate): ElectraIntermediate(\n",
       "            (dense): Linear(in_features=1024, out_features=4096, bias=True)\n",
       "            (intermediate_act_fn): GELUActivation()\n",
       "          )\n",
       "          (output): ElectraOutput(\n",
       "            (dense): Linear(in_features=4096, out_features=1024, bias=True)\n",
       "            (LayerNorm): LayerNorm((1024,), eps=1e-12, elementwise_affine=True)\n",
       "            (dropout): Dropout(p=0.1, inplace=False)\n",
       "          )\n",
       "        )\n",
       "      )\n",
       "    )\n",
       "  )\n",
       "  (encoder_layers): ModuleList(\n",
       "    (0-5): 6 x CustomEncoderLayer(\n",
       "      (self_attention): MultiheadAttention(\n",
       "        (out_proj): NonDynamicallyQuantizableLinear(in_features=1024, out_features=1024, bias=True)\n",
       "      )\n",
       "      (cross_attention): MultiheadAttention(\n",
       "        (out_proj): NonDynamicallyQuantizableLinear(in_features=1024, out_features=1024, bias=True)\n",
       "      )\n",
       "      (feed_forward): Sequential(\n",
       "        (0): Linear(in_features=1024, out_features=4096, bias=True)\n",
       "        (1): ReLU()\n",
       "        (2): Linear(in_features=4096, out_features=1024, bias=True)\n",
       "      )\n",
       "      (layer_norm1): LayerNorm((1024,), eps=1e-05, elementwise_affine=True)\n",
       "      (layer_norm2): LayerNorm((1024,), eps=1e-05, elementwise_affine=True)\n",
       "      (layer_norm3): LayerNorm((1024,), eps=1e-05, elementwise_affine=True)\n",
       "      (dropout): Dropout(p=0.1, inplace=False)\n",
       "    )\n",
       "  )\n",
       "  (fc): Linear(in_features=2048, out_features=2, bias=True)\n",
       ")"
      ]
     },
     "execution_count": 50,
     "metadata": {},
     "output_type": "execute_result"
    }
   ],
   "source": [
    "# Example usage\n",
    "# model_checkpoint = 'csebuetnlp/banglabert'\n",
    "model_checkpoint = \"/kaggle/working/mlm_pretrained_model\"\n",
    "# model_checkpoint = new_model_path\n",
    "\n",
    "model = CustomDualBanglaBERTModel(model_checkpoint=model_checkpoint)\n",
    "\n",
    "# Move the model to GPU if available\n",
    "device = torch.device(\"cuda\" if torch.cuda.is_available() else \"cpu\")\n",
    "# model.to(device)\n",
    "model.cuda()"
   ]
  },
  {
   "cell_type": "code",
   "execution_count": 51,
   "id": "691655df",
   "metadata": {
    "execution": {
     "iopub.execute_input": "2025-02-27T11:00:33.615613Z",
     "iopub.status.busy": "2025-02-27T11:00:33.615248Z",
     "iopub.status.idle": "2025-02-27T11:00:33.624595Z",
     "shell.execute_reply": "2025-02-27T11:00:33.623368Z"
    },
    "papermill": {
     "duration": 0.032166,
     "end_time": "2025-02-27T11:00:33.626101",
     "exception": false,
     "start_time": "2025-02-27T11:00:33.593935",
     "status": "completed"
    },
    "tags": []
   },
   "outputs": [
    {
     "name": "stdout",
     "output_type": "stream",
     "text": [
      "Approximate Model Size in Memory: 2.88 GB\n"
     ]
    }
   ],
   "source": [
    "# Calculate the total number of trainable parameters\n",
    "trainable_params = sum(p.numel() for p in model.parameters() if p.requires_grad)\n",
    "\n",
    "# Each parameter takes 4 bytes (float32)\n",
    "param_size_in_bytes = trainable_params * 4\n",
    "\n",
    "# Convert to GB\n",
    "param_size_in_gb = param_size_in_bytes / (1024**3)\n",
    "print(f\"Approximate Model Size in Memory: {param_size_in_gb:.2f} GB\")"
   ]
  },
  {
   "cell_type": "code",
   "execution_count": 52,
   "id": "da365a41",
   "metadata": {
    "execution": {
     "iopub.execute_input": "2025-02-27T11:00:33.670432Z",
     "iopub.status.busy": "2025-02-27T11:00:33.670032Z",
     "iopub.status.idle": "2025-02-27T11:00:33.674549Z",
     "shell.execute_reply": "2025-02-27T11:00:33.673603Z"
    },
    "papermill": {
     "duration": 0.029206,
     "end_time": "2025-02-27T11:00:33.676139",
     "exception": false,
     "start_time": "2025-02-27T11:00:33.646933",
     "status": "completed"
    },
    "tags": []
   },
   "outputs": [],
   "source": [
    "# import torch\n",
    "# import torch.nn as nn\n",
    "# from transformers import  BertConfig,AutoModel\n",
    "\n",
    "# class CustomEncoderLayer(nn.Module):\n",
    "#     def __init__(self, hidden_size, num_attention_heads, dropout_rate=0.1):\n",
    "#         super(CustomEncoderLayer, self).__init__()\n",
    "#         self.self_attention = nn.MultiheadAttention(hidden_size, num_attention_heads, dropout=dropout_rate)\n",
    "#         self.cross_attention = nn.MultiheadAttention(hidden_size, num_attention_heads, dropout=dropout_rate)\n",
    "#         self.feed_forward = nn.Sequential(\n",
    "#             nn.Linear(hidden_size, hidden_size * 4),\n",
    "#             nn.ReLU(),\n",
    "#             nn.Linear(hidden_size * 4, hidden_size)\n",
    "#         )\n",
    "#         self.layer_norm1 = nn.LayerNorm(hidden_size)\n",
    "#         self.layer_norm2 = nn.LayerNorm(hidden_size)\n",
    "#         self.layer_norm3 = nn.LayerNorm(hidden_size)\n",
    "#         self.dropout = nn.Dropout(dropout_rate)\n",
    "\n",
    "#     def forward(self, x, y):\n",
    "#         # Self-attention on x\n",
    "#         e=x\n",
    "#         self_attn_output, _ = self.self_attention(x, x, x)\n",
    "#         x = self.layer_norm1(e + self.dropout(self_attn_output))\n",
    "        \n",
    "#         # Cross-attention from x to y\n",
    "#         cross_attn_output, cross_attn_weights = self.cross_attention(x, y, y)\n",
    "#         x = self.layer_norm2(e + self.dropout(cross_attn_output))\n",
    "        \n",
    "#         # Feed forward\n",
    "#         ff_output = self.feed_forward(x)\n",
    "#         x = self.layer_norm3(e + self.dropout(ff_output))\n",
    "        \n",
    "#         return x, cross_attn_weights\n",
    "\n",
    "# class CustomDualBERTModel(nn.Module):\n",
    "#     def __init__(self, num_layers=3, hidden_size=768, num_attention_heads=8, dropout_rate=0.1):\n",
    "#         super(CustomDualBERTModel, self).__init__()\n",
    "        \n",
    "#         # Two BERT models: one for each input\n",
    "#         self.bert1 = AutoModel.from_pretrained('bert-base-uncased')\n",
    "#         self.bert2 = AutoModel.from_pretrained('bert-base-uncased')\n",
    "        \n",
    "#         self.encoder_layers = nn.ModuleList([\n",
    "#             CustomEncoderLayer(hidden_size, num_attention_heads, dropout_rate)\n",
    "#             for _ in range(num_layers)\n",
    "#         ])\n",
    "        \n",
    "#         self.fc = nn.Linear(hidden_size * 2, 2)\n",
    "\n",
    "#     def forward(self, input_ids1, attention_mask1, input_ids2, attention_mask2):\n",
    "#         # Get BERT embeddings from two different models\n",
    "#         output1 = self.bert1(input_ids=input_ids1, attention_mask=attention_mask1).last_hidden_state\n",
    "#         output2 = self.bert2(input_ids=input_ids2, attention_mask=attention_mask2).last_hidden_state\n",
    "        \n",
    "#         # Create attention masks\n",
    "#         x_mask = ~attention_mask1.bool()\n",
    "#         y_mask = ~attention_mask2.bool()\n",
    "        \n",
    "#         # Apply custom encoder layers (self-attention and cross-attention)\n",
    "#         for layer in self.encoder_layers:\n",
    "#             output1, _ = layer(output1, output2)\n",
    "#             output2, cross_attn_weights = layer(output2, output1)\n",
    "#         # Pool the outputs from both BERTs\n",
    "#         pooled_output1 = torch.mean(output1, dim=1)\n",
    "#         pooled_output2 = torch.mean(output2, dim=1)\n",
    "        \n",
    "#         # Combine and classify\n",
    "#         combined = torch.cat((pooled_output1, pooled_output2), dim=1)\n",
    "#         return self.fc(combined)\n"
   ]
  },
  {
   "cell_type": "code",
   "execution_count": 53,
   "id": "36c85826",
   "metadata": {
    "execution": {
     "iopub.execute_input": "2025-02-27T11:00:33.717942Z",
     "iopub.status.busy": "2025-02-27T11:00:33.717602Z",
     "iopub.status.idle": "2025-02-27T11:00:33.928878Z",
     "shell.execute_reply": "2025-02-27T11:00:33.927456Z"
    },
    "papermill": {
     "duration": 0.233947,
     "end_time": "2025-02-27T11:00:33.930689",
     "exception": false,
     "start_time": "2025-02-27T11:00:33.696742",
     "status": "completed"
    },
    "tags": []
   },
   "outputs": [
    {
     "name": "stdout",
     "output_type": "stream",
     "text": [
      "Thu Feb 27 11:00:33 2025       \r\n",
      "+-----------------------------------------------------------------------------------------+\r\n",
      "| NVIDIA-SMI 560.35.03              Driver Version: 560.35.03      CUDA Version: 12.6     |\r\n",
      "|-----------------------------------------+------------------------+----------------------+\r\n",
      "| GPU  Name                 Persistence-M | Bus-Id          Disp.A | Volatile Uncorr. ECC |\r\n",
      "| Fan  Temp   Perf          Pwr:Usage/Cap |           Memory-Usage | GPU-Util  Compute M. |\r\n",
      "|                                         |                        |               MIG M. |\r\n",
      "|=========================================+========================+======================|\r\n",
      "|   0  Tesla P100-PCIE-16GB           Off |   00000000:00:04.0 Off |                    0 |\r\n",
      "| N/A   65C    P0             45W /  250W |    3289MiB /  16384MiB |      4%      Default |\r\n",
      "|                                         |                        |                  N/A |\r\n",
      "+-----------------------------------------+------------------------+----------------------+\r\n",
      "                                                                                         \r\n",
      "+-----------------------------------------------------------------------------------------+\r\n",
      "| Processes:                                                                              |\r\n",
      "|  GPU   GI   CI        PID   Type   Process name                              GPU Memory |\r\n",
      "|        ID   ID                                                               Usage      |\r\n",
      "|=========================================================================================|\r\n",
      "+-----------------------------------------------------------------------------------------+\r\n"
     ]
    },
    {
     "name": "stderr",
     "output_type": "stream",
     "text": [
      "/usr/lib/python3.10/pty.py:89: RuntimeWarning: os.fork() was called. os.fork() is incompatible with multithreaded code, and JAX is multithreaded, so this will likely lead to a deadlock.\n",
      "  pid, fd = os.forkpty()\n"
     ]
    }
   ],
   "source": [
    "!nvidia-smi"
   ]
  },
  {
   "cell_type": "code",
   "execution_count": 54,
   "id": "6127654b",
   "metadata": {
    "execution": {
     "iopub.execute_input": "2025-02-27T11:00:33.973450Z",
     "iopub.status.busy": "2025-02-27T11:00:33.973023Z",
     "iopub.status.idle": "2025-02-27T11:00:33.981180Z",
     "shell.execute_reply": "2025-02-27T11:00:33.980271Z"
    },
    "papermill": {
     "duration": 0.031451,
     "end_time": "2025-02-27T11:00:33.982827",
     "exception": false,
     "start_time": "2025-02-27T11:00:33.951376",
     "status": "completed"
    },
    "tags": []
   },
   "outputs": [],
   "source": [
    "import torch\n",
    "import torch.nn as nn\n",
    "from torch.utils.data import DataLoader\n",
    "from transformers import BertTokenizer, AdamW,AutoModel,AutoTokenizer\n",
    "from tqdm import tqdm  # Import tqdm for progress bars\n",
    "\n",
    "# Hyperparameters\n",
    "MAX_LEN = 128\n",
    "BATCH_SIZE = 2\n",
    "EPOCHS = 1\n",
    "LEARNING_RATE = 2e-5\n",
    "\n",
    "# tokenizer = AutoTokenizer.from_pretrained(model_path)\n",
    "\n",
    "# Create data loaders\n",
    "train_dataset = MultiFeatureDataset(train_df, tokenizer, MAX_LEN)\n",
    "val_dataset = MultiFeatureDataset(eval_df, tokenizer, MAX_LEN)\n",
    "\n",
    "train_loader = DataLoader(train_dataset, batch_size=BATCH_SIZE, shuffle=True)\n",
    "val_loader = DataLoader(val_dataset, batch_size=BATCH_SIZE)"
   ]
  },
  {
   "cell_type": "code",
   "execution_count": 55,
   "id": "5244de68",
   "metadata": {
    "execution": {
     "iopub.execute_input": "2025-02-27T11:00:34.025356Z",
     "iopub.status.busy": "2025-02-27T11:00:34.024956Z",
     "iopub.status.idle": "2025-02-27T11:00:34.040055Z",
     "shell.execute_reply": "2025-02-27T11:00:34.038915Z"
    },
    "papermill": {
     "duration": 0.038796,
     "end_time": "2025-02-27T11:00:34.041762",
     "exception": false,
     "start_time": "2025-02-27T11:00:34.002966",
     "status": "completed"
    },
    "tags": []
   },
   "outputs": [
    {
     "name": "stderr",
     "output_type": "stream",
     "text": [
      "/usr/local/lib/python3.10/dist-packages/transformers/optimization.py:591: FutureWarning: This implementation of AdamW is deprecated and will be removed in a future version. Use the PyTorch implementation torch.optim.AdamW instead, or set `no_deprecation_warning=True` to disable this warning\n",
      "  warnings.warn(\n"
     ]
    }
   ],
   "source": [
    "# Initialize the model\n",
    "\n",
    "# Usage\n",
    "# model = CustomDualBERTModel()\n",
    "#model.load_state_dict(torch.load('dual_bert_classifier.pth'))\n",
    "\n",
    "\n",
    "# Optimizer with weight decay\n",
    "from transformers import AdamW, get_linear_schedule_with_warmup\n",
    "\n",
    "\n",
    "# device = torch.device('cuda' if torch.cuda.is_available() else 'cpu')\n",
    "# model = model.to(device)\n",
    "\n",
    "optimizer = AdamW(model.parameters(), lr=LEARNING_RATE, weight_decay=0.01)"
   ]
  },
  {
   "cell_type": "code",
   "execution_count": 56,
   "id": "6b882965",
   "metadata": {
    "execution": {
     "iopub.execute_input": "2025-02-27T11:00:34.084581Z",
     "iopub.status.busy": "2025-02-27T11:00:34.084215Z",
     "iopub.status.idle": "2025-02-27T11:00:34.089865Z",
     "shell.execute_reply": "2025-02-27T11:00:34.089070Z"
    },
    "papermill": {
     "duration": 0.028438,
     "end_time": "2025-02-27T11:00:34.091220",
     "exception": false,
     "start_time": "2025-02-27T11:00:34.062782",
     "status": "completed"
    },
    "tags": []
   },
   "outputs": [
    {
     "data": {
      "text/plain": [
       "AdamW (\n",
       "Parameter Group 0\n",
       "    betas: (0.9, 0.999)\n",
       "    correct_bias: True\n",
       "    eps: 1e-06\n",
       "    lr: 2e-05\n",
       "    weight_decay: 0.01\n",
       ")"
      ]
     },
     "execution_count": 56,
     "metadata": {},
     "output_type": "execute_result"
    }
   ],
   "source": [
    "optimizer"
   ]
  },
  {
   "cell_type": "code",
   "execution_count": 57,
   "id": "a4a52571",
   "metadata": {
    "execution": {
     "iopub.execute_input": "2025-02-27T11:00:34.133158Z",
     "iopub.status.busy": "2025-02-27T11:00:34.132822Z",
     "iopub.status.idle": "2025-02-27T11:00:34.136659Z",
     "shell.execute_reply": "2025-02-27T11:00:34.135617Z"
    },
    "papermill": {
     "duration": 0.026844,
     "end_time": "2025-02-27T11:00:34.138337",
     "exception": false,
     "start_time": "2025-02-27T11:00:34.111493",
     "status": "completed"
    },
    "tags": []
   },
   "outputs": [],
   "source": [
    "# mlm_model"
   ]
  },
  {
   "cell_type": "code",
   "execution_count": 58,
   "id": "93ea08aa",
   "metadata": {
    "execution": {
     "iopub.execute_input": "2025-02-27T11:00:34.180628Z",
     "iopub.status.busy": "2025-02-27T11:00:34.180207Z",
     "iopub.status.idle": "2025-02-27T11:00:34.582118Z",
     "shell.execute_reply": "2025-02-27T11:00:34.580977Z"
    },
    "papermill": {
     "duration": 0.425162,
     "end_time": "2025-02-27T11:00:34.583947",
     "exception": false,
     "start_time": "2025-02-27T11:00:34.158785",
     "status": "completed"
    },
    "tags": []
   },
   "outputs": [],
   "source": [
    "import gc\n",
    "import torch\n",
    "\n",
    "# Delete any unnecessary objects, e.g., big tensors or models you no longer need\n",
    "# del mlm_model  \n",
    "# del model\n",
    "\n",
    "# Run garbage collector\n",
    "gc.collect()\n",
    "\n",
    "# If you’re using PyTorch, clear GPU cache\n",
    "torch.cuda.empty_cache()"
   ]
  },
  {
   "cell_type": "code",
   "execution_count": 59,
   "id": "82c01b24",
   "metadata": {
    "execution": {
     "iopub.execute_input": "2025-02-27T11:00:34.626578Z",
     "iopub.status.busy": "2025-02-27T11:00:34.626202Z",
     "iopub.status.idle": "2025-02-27T11:00:34.630053Z",
     "shell.execute_reply": "2025-02-27T11:00:34.629040Z"
    },
    "papermill": {
     "duration": 0.026794,
     "end_time": "2025-02-27T11:00:34.631577",
     "exception": false,
     "start_time": "2025-02-27T11:00:34.604783",
     "status": "completed"
    },
    "tags": []
   },
   "outputs": [],
   "source": [
    "# import os\n",
    "# os.environ[\"PYTORCH_CUDA_ALLOC_CONF\"] = \"expandable_segments:True\"\n",
    "\n",
    "# import torch\n",
    "# Now you can continue with your PyTorch code\n"
   ]
  },
  {
   "cell_type": "code",
   "execution_count": 60,
   "id": "2fc995dd",
   "metadata": {
    "execution": {
     "iopub.execute_input": "2025-02-27T11:00:34.674808Z",
     "iopub.status.busy": "2025-02-27T11:00:34.674462Z",
     "iopub.status.idle": "2025-02-27T11:00:34.678094Z",
     "shell.execute_reply": "2025-02-27T11:00:34.677124Z"
    },
    "papermill": {
     "duration": 0.027531,
     "end_time": "2025-02-27T11:00:34.679660",
     "exception": false,
     "start_time": "2025-02-27T11:00:34.652129",
     "status": "completed"
    },
    "tags": []
   },
   "outputs": [],
   "source": [
    "# model"
   ]
  },
  {
   "cell_type": "code",
   "execution_count": 61,
   "id": "50c3e5fc",
   "metadata": {
    "execution": {
     "iopub.execute_input": "2025-02-27T11:00:34.723591Z",
     "iopub.status.busy": "2025-02-27T11:00:34.723193Z",
     "iopub.status.idle": "2025-02-27T11:00:34.933795Z",
     "shell.execute_reply": "2025-02-27T11:00:34.932588Z"
    },
    "papermill": {
     "duration": 0.234383,
     "end_time": "2025-02-27T11:00:34.935591",
     "exception": false,
     "start_time": "2025-02-27T11:00:34.701208",
     "status": "completed"
    },
    "tags": []
   },
   "outputs": [
    {
     "name": "stdout",
     "output_type": "stream",
     "text": [
      "Thu Feb 27 11:00:34 2025       \r\n",
      "+-----------------------------------------------------------------------------------------+\r\n",
      "| NVIDIA-SMI 560.35.03              Driver Version: 560.35.03      CUDA Version: 12.6     |\r\n",
      "|-----------------------------------------+------------------------+----------------------+\r\n",
      "| GPU  Name                 Persistence-M | Bus-Id          Disp.A | Volatile Uncorr. ECC |\r\n",
      "| Fan  Temp   Perf          Pwr:Usage/Cap |           Memory-Usage | GPU-Util  Compute M. |\r\n",
      "|                                         |                        |               MIG M. |\r\n",
      "|=========================================+========================+======================|\r\n",
      "|   0  Tesla P100-PCIE-16GB           Off |   00000000:00:04.0 Off |                    0 |\r\n",
      "| N/A   64C    P0             45W /  250W |    3289MiB /  16384MiB |      0%      Default |\r\n",
      "|                                         |                        |                  N/A |\r\n",
      "+-----------------------------------------+------------------------+----------------------+\r\n",
      "                                                                                         \r\n",
      "+-----------------------------------------------------------------------------------------+\r\n",
      "| Processes:                                                                              |\r\n",
      "|  GPU   GI   CI        PID   Type   Process name                              GPU Memory |\r\n",
      "|        ID   ID                                                               Usage      |\r\n",
      "|=========================================================================================|\r\n",
      "+-----------------------------------------------------------------------------------------+\r\n"
     ]
    }
   ],
   "source": [
    "!nvidia-smi"
   ]
  },
  {
   "cell_type": "code",
   "execution_count": 62,
   "id": "8380aa84",
   "metadata": {
    "execution": {
     "iopub.execute_input": "2025-02-27T11:00:34.979133Z",
     "iopub.status.busy": "2025-02-27T11:00:34.978742Z",
     "iopub.status.idle": "2025-02-27T11:00:34.984773Z",
     "shell.execute_reply": "2025-02-27T11:00:34.983773Z"
    },
    "papermill": {
     "duration": 0.029978,
     "end_time": "2025-02-27T11:00:34.986467",
     "exception": false,
     "start_time": "2025-02-27T11:00:34.956489",
     "status": "completed"
    },
    "tags": []
   },
   "outputs": [],
   "source": [
    "# Custom function to save the model\n",
    "def save_model(model, filepath, epoch, val_accuracy, best_val_accuracy):\n",
    "    \"\"\"\n",
    "    Save the model if the current validation accuracy is higher than the best seen so far.\n",
    "    \"\"\"\n",
    "    if val_accuracy > best_val_accuracy:\n",
    "        torch.save(model.state_dict(), filepath)\n",
    "        print(f\"Model saved at epoch {epoch+1} with validation accuracy: {val_accuracy:.2f}%\")\n",
    "        return val_accuracy  # Update best validation accuracy\n",
    "    return best_val_accuracy  # Keep the previous best validation accuracy\n",
    "\n",
    "# Training loop with model saving\n",
    "best_val_accuracy = 0.0  # Initialize the best validation accuracy\n",
    "model_filepath = 'dual_bert_classifier_best.pth'"
   ]
  },
  {
   "cell_type": "code",
   "execution_count": 63,
   "id": "39c60751",
   "metadata": {
    "execution": {
     "iopub.execute_input": "2025-02-27T11:00:35.030227Z",
     "iopub.status.busy": "2025-02-27T11:00:35.029889Z",
     "iopub.status.idle": "2025-02-27T12:12:36.539688Z",
     "shell.execute_reply": "2025-02-27T12:12:36.538215Z"
    },
    "papermill": {
     "duration": 4321.533963,
     "end_time": "2025-02-27T12:12:36.541656",
     "exception": false,
     "start_time": "2025-02-27T11:00:35.007693",
     "status": "completed"
    },
    "tags": []
   },
   "outputs": [
    {
     "name": "stderr",
     "output_type": "stream",
     "text": [
      "                                                                                         \r"
     ]
    },
    {
     "name": "stdout",
     "output_type": "stream",
     "text": [
      "Epoch [1/1], Loss: 0.5620, Accuracy: 0.7186\n"
     ]
    },
    {
     "name": "stderr",
     "output_type": "stream",
     "text": [
      "                                                                       \r"
     ]
    },
    {
     "name": "stdout",
     "output_type": "stream",
     "text": [
      "Epoch 1/1, Validation Loss: 0.5041, Validation Accuracy: 76.40%\n",
      "Model saved at epoch 1 with validation accuracy: 76.40%\n"
     ]
    }
   ],
   "source": [
    "# TRaining LOOP\n",
    "for epoch in range(EPOCHS):\n",
    "    model.train()\n",
    "    running_loss = 0.0\n",
    "    correct_train = 0\n",
    "    total_train = 0\n",
    "\n",
    "    # Initialize the tqdm progress bar\n",
    "    progress_bar = tqdm(train_loader, desc=f\"Training Epoch {epoch+1}\", leave=False)\n",
    "    \n",
    "    for batch_idx, batch in enumerate(progress_bar):\n",
    "        text_input_ids1 = batch['input_ids1'].to(device)\n",
    "        text_attention_mask1 = batch['attention_mask1'].to(device)\n",
    "        text_input_ids2 = batch['input_ids2'].to(device)\n",
    "        text_attention_mask2 = batch['attention_mask2'].to(device)\n",
    "        labels = batch['labels'].to(device)\n",
    "        \n",
    "        optimizer.zero_grad()\n",
    "        \n",
    "        # Forward pass\n",
    "        outputs = model(text_input_ids1, text_attention_mask1, text_input_ids2, text_attention_mask2)\n",
    "        \n",
    "        # Calculate loss\n",
    "        loss = nn.CrossEntropyLoss()(outputs, labels)\n",
    "        \n",
    "        # Backward pass and optimization\n",
    "        loss.backward()\n",
    "        optimizer.step()\n",
    "        \n",
    "        # Update running loss and accuracy\n",
    "        running_loss += loss.item()\n",
    "        _, predicted = torch.max(outputs.data, 1)\n",
    "        total_train += labels.size(0)\n",
    "        correct_train += (predicted == labels).sum().item()\n",
    "        \n",
    "        avg_loss = running_loss / (batch_idx + 1)\n",
    "\n",
    "        # Update the progress bar with the average loss\n",
    "        progress_bar.set_postfix(avg_loss=avg_loss)\n",
    "\n",
    "    # Optional: Print statistics at the end of each epoch\n",
    "    epoch_loss = running_loss / len(train_loader)\n",
    "    epoch_acc = correct_train / total_train\n",
    "    print(f\"Epoch [{epoch+1}/{EPOCHS}], Loss: {epoch_loss:.4f}, Accuracy: {epoch_acc:.4f}\")\n",
    "    \n",
    "    # Validation\n",
    "    model.eval()\n",
    "    val_loss = 0\n",
    "    correct_val = 0\n",
    "    total_val = 0\n",
    "    with torch.no_grad():\n",
    "        for batch in tqdm(val_loader, desc=f\"Validation Epoch {epoch+1}\", leave=False):\n",
    "            text_input_ids1 = batch['input_ids1'].to(device)\n",
    "            text_attention_mask1 = batch['attention_mask1'].to(device)\n",
    "            text_input_ids2 = batch['input_ids2'].to(device)\n",
    "            text_attention_mask2 = batch['attention_mask2'].to(device)\n",
    "            labels = batch['labels'].to(device)\n",
    "            \n",
    "            outputs = model(text_input_ids1, text_attention_mask1, text_input_ids2, text_attention_mask2)\n",
    "            val_loss += nn.CrossEntropyLoss()(outputs, labels).item()\n",
    "            _, predicted = torch.max(outputs.data, 1)\n",
    "            total_val += labels.size(0)\n",
    "            correct_val += (predicted == labels).sum().item()\n",
    "\n",
    "    val_accuracy = 100 * correct_val / total_val\n",
    "    print(f'Epoch {epoch+1}/{EPOCHS}, Validation Loss: {val_loss/len(val_loader):.4f}, Validation Accuracy: {val_accuracy:.2f}%')\n",
    "\n",
    "    # Save the model if validation accuracy improves\n",
    "    best_val_accuracy = save_model(model, model_filepath, epoch, val_accuracy, best_val_accuracy)"
   ]
  },
  {
   "cell_type": "code",
   "execution_count": 64,
   "id": "f9c77b11",
   "metadata": {
    "execution": {
     "iopub.execute_input": "2025-02-27T12:12:39.288401Z",
     "iopub.status.busy": "2025-02-27T12:12:39.288011Z",
     "iopub.status.idle": "2025-02-27T12:12:47.878634Z",
     "shell.execute_reply": "2025-02-27T12:12:47.877507Z"
    },
    "papermill": {
     "duration": 9.929094,
     "end_time": "2025-02-27T12:12:47.880192",
     "exception": false,
     "start_time": "2025-02-27T12:12:37.951098",
     "status": "completed"
    },
    "tags": []
   },
   "outputs": [
    {
     "name": "stderr",
     "output_type": "stream",
     "text": [
      "<ipython-input-64-7872ffada0ea>:12: FutureWarning: You are using `torch.load` with `weights_only=False` (the current default value), which uses the default pickle module implicitly. It is possible to construct malicious pickle data which will execute arbitrary code during unpickling (See https://github.com/pytorch/pytorch/blob/main/SECURITY.md#untrusted-models for more details). In a future release, the default value for `weights_only` will be flipped to `True`. This limits the functions that could be executed during unpickling. Arbitrary objects will no longer be allowed to be loaded via this mode unless they are explicitly allowlisted by the user via `torch.serialization.add_safe_globals`. We recommend you start setting `weights_only=True` for any use case where you don't have full control of the loaded file. Please open an issue on GitHub for any issues related to this experimental feature.\n",
      "  model.load_state_dict(torch.load(saved_model_path))\n"
     ]
    },
    {
     "name": "stdout",
     "output_type": "stream",
     "text": [
      "Custom model loaded successfully!\n"
     ]
    }
   ],
   "source": [
    "# Define the model checkpoint and path to the saved weights\n",
    "# model_checkpoint = 'csebuetnlp/banglabert'\n",
    "\n",
    "\n",
    "saved_model_path = 'dual_bert_classifier_best.pth'\n",
    "\n",
    "\n",
    "# Recreate the model architecture\n",
    "model = CustomDualBanglaBERTModel(model_checkpoint=model_checkpoint)\n",
    "\n",
    "# Load the model weights from the saved file\n",
    "model.load_state_dict(torch.load(saved_model_path))\n",
    "\n",
    "# Send the model to the appropriate device\n",
    "device = torch.device(\"cuda\" if torch.cuda.is_available() else \"cpu\")\n",
    "model.to(device)\n",
    "\n",
    "print(\"Custom model loaded successfully!\")"
   ]
  },
  {
   "cell_type": "code",
   "execution_count": 65,
   "id": "a8b4df03",
   "metadata": {
    "execution": {
     "iopub.execute_input": "2025-02-27T12:12:50.650752Z",
     "iopub.status.busy": "2025-02-27T12:12:50.650355Z",
     "iopub.status.idle": "2025-02-27T12:17:08.920012Z",
     "shell.execute_reply": "2025-02-27T12:17:08.918979Z"
    },
    "papermill": {
     "duration": 259.651743,
     "end_time": "2025-02-27T12:17:08.921859",
     "exception": false,
     "start_time": "2025-02-27T12:12:49.270116",
     "status": "completed"
    },
    "tags": []
   },
   "outputs": [
    {
     "name": "stderr",
     "output_type": "stream",
     "text": [
      "                                                                     \r"
     ]
    },
    {
     "name": "stdout",
     "output_type": "stream",
     "text": [
      "Class 0:\n",
      "  Precision: 0.7227\n",
      "  Recall:    0.8569\n",
      "  F1 Score:  0.7841\n",
      "Class 1:\n",
      "  Precision: 0.8242\n",
      "  Recall:    0.6712\n",
      "  F1 Score:  0.7399\n",
      "\n",
      "Average Precision: 0.7735\n",
      "Average Recall:    0.7640\n",
      "Average F1 Score:  0.7620\n",
      "Accuracy: 0.7640\n",
      "Class Distribution: {0: 2564, 1: 2564}\n",
      "Total Samples: 5128\n"
     ]
    },
    {
     "data": {
      "image/png": "[encoded data removed]",
      "text/plain": [
       "<Figure size 640x480 with 2 Axes>"
      ]
     },
     "metadata": {},
     "output_type": "display_data"
    }
   ],
   "source": [
    "\n",
    "from tqdm import tqdm\n",
    "\n",
    "def batch_predict(loader):\n",
    "    model.eval()  # Set the model to evaluation mode\n",
    "    predictions = []\n",
    "\n",
    "    with torch.no_grad():\n",
    "        for batch in tqdm(loader, desc=\"Batch Prediction\", leave=False):\n",
    "            text_input_ids1 = batch['input_ids1'].to(device)\n",
    "            text_attention_mask1 = batch['attention_mask1'].to(device)\n",
    "            text_input_ids2 = batch['input_ids2'].to(device)\n",
    "            text_attention_mask2 = batch['attention_mask2'].to(device)\n",
    "            labels = batch['labels'].to(device)\n",
    "            outputs = model(text_input_ids1, text_attention_mask1, text_input_ids2, text_attention_mask2)\n",
    "            _, predicted = torch.max(outputs.data, 1)\n",
    "            predictions.extend(predicted.cpu().numpy())\n",
    "\n",
    "    return predictions\n",
    "pred=batch_predict(val_loader)\n",
    "true=val_dataset.labels\n",
    "\n",
    "import matplotlib.pyplot as plt\n",
    "from sklearn.metrics import confusion_matrix, ConfusionMatrixDisplay, roc_curve, auc, accuracy_score\n",
    "import numpy as np\n",
    "from sklearn.metrics import precision_recall_fscore_support\n",
    "import numpy as np\n",
    "from sklearn.preprocessing import label_binarize\n",
    "\n",
    "\n",
    "# Generate predictions and true labels\n",
    "\n",
    "pred = np.array(pred)\n",
    "true_labels =np.array(true)\n",
    "\n",
    "\n",
    "\n",
    "# Calculate precision, recall, and F1 score for each class\n",
    "precision, recall, f1, _ = precision_recall_fscore_support(true_labels, pred, average=None)\n",
    "\n",
    "# Get the unique labels\n",
    "labels =np.array([0,1])\n",
    "\n",
    "# Print the precision, recall, and F1 score for each class\n",
    "for i, label in enumerate(labels):\n",
    "    print(f\"Class {label}:\")\n",
    "    print(f\"  Precision: {precision[i]:.4f}\")\n",
    "    print(f\"  Recall:    {recall[i]:.4f}\")\n",
    "    print(f\"  F1 Score:  {f1[i]:.4f}\")\n",
    "\n",
    "# Optionally, you can calculate the average scores\n",
    "avg_precision, avg_recall, avg_f1, _ = precision_recall_fscore_support(true_labels, pred, average='weighted')\n",
    "\n",
    "print(f\"\\nAverage Precision: {avg_precision:.4f}\")\n",
    "print(f\"Average Recall:    {avg_recall:.4f}\")\n",
    "print(f\"Average F1 Score:  {avg_f1:.4f}\")\n",
    "\n",
    "# Compute accuracy\n",
    "accuracy = accuracy_score(true_labels, pred)\n",
    "print(f'Accuracy: {accuracy:.4f}')\n",
    "\n",
    "# Print the number of samples for each class and total samples\n",
    "unique, counts = np.unique(true_labels, return_counts=True)\n",
    "class_distribution = dict(zip(unique, counts))\n",
    "total_samples = len(true_labels)\n",
    "print(f'Class Distribution: {class_distribution}')\n",
    "print(f'Total Samples: {total_samples}')\n",
    "\n",
    "# Compute confusion matrix\n",
    "cm = confusion_matrix(true_labels, pred)\n",
    "disp = ConfusionMatrixDisplay(confusion_matrix=cm, display_labels=labels)\n",
    "\n",
    "# Plot confusion matrix\n",
    "disp.plot(cmap=plt.cm.Blues)\n",
    "plt.title(\"Confusion Matrix\")\n",
    "plt.show()"
   ]
  },
  {
   "cell_type": "code",
   "execution_count": 66,
   "id": "62375511",
   "metadata": {
    "execution": {
     "iopub.execute_input": "2025-02-27T12:17:11.834351Z",
     "iopub.status.busy": "2025-02-27T12:17:11.833979Z",
     "iopub.status.idle": "2025-02-27T12:17:11.843816Z",
     "shell.execute_reply": "2025-02-27T12:17:11.842962Z"
    },
    "papermill": {
     "duration": 1.467756,
     "end_time": "2025-02-27T12:17:11.845366",
     "exception": false,
     "start_time": "2025-02-27T12:17:10.377610",
     "status": "completed"
    },
    "tags": []
   },
   "outputs": [
    {
     "data": {
      "text/html": [
       "<div>\n",
       "<style scoped>\n",
       "    .dataframe tbody tr th:only-of-type {\n",
       "        vertical-align: middle;\n",
       "    }\n",
       "\n",
       "    .dataframe tbody tr th {\n",
       "        vertical-align: top;\n",
       "    }\n",
       "\n",
       "    .dataframe thead th {\n",
       "        text-align: right;\n",
       "    }\n",
       "</style>\n",
       "<table border=\"1\" class=\"dataframe\">\n",
       "  <thead>\n",
       "    <tr style=\"text-align: right;\">\n",
       "      <th></th>\n",
       "      <th>id</th>\n",
       "      <th>parent_comment</th>\n",
       "      <th>label</th>\n",
       "      <th>comment</th>\n",
       "    </tr>\n",
       "  </thead>\n",
       "  <tbody>\n",
       "    <tr>\n",
       "      <th>3524</th>\n",
       "      <td>7682</td>\n",
       "      <td>পরীমনির পেজের প্রফাইলটা দেখেন ও মানুষ না আর্জে...</td>\n",
       "      <td>1</td>\n",
       "      <td>উচিৎ থাকা লজ্জা ছি বইচে ঝর প্রশংসার আবার নিয়ে...</td>\n",
       "    </tr>\n",
       "    <tr>\n",
       "      <th>11178</th>\n",
       "      <td>27904</td>\n",
       "      <td>ঢপ এর চপ এমন ভাও খাচ্ছে যেনো বোকাচোদার সিরিয়াল</td>\n",
       "      <td>1</td>\n",
       "      <td>সিরিয়াল বোকাচোদার যেনো খাচ্ছে ভাও এমন চপ এর ঢপ</td>\n",
       "    </tr>\n",
       "    <tr>\n",
       "      <th>24525</th>\n",
       "      <td>25185</td>\n",
       "      <td>হেলমেট ছাড়া বেরোলে ঠিকই কেউ না কেউ বলবে ওদিকে...</td>\n",
       "      <td>0</td>\n",
       "      <td>ধরছে পুলিশ না যাবেন ওদিকে বলবে কেউ না কেউ ঠিকই...</td>\n",
       "    </tr>\n",
       "  </tbody>\n",
       "</table>\n",
       "</div>"
      ],
      "text/plain": [
       "          id                                     parent_comment  label  \\\n",
       "3524    7682  পরীমনির পেজের প্রফাইলটা দেখেন ও মানুষ না আর্জে...      1   \n",
       "11178  27904    ঢপ এর চপ এমন ভাও খাচ্ছে যেনো বোকাচোদার সিরিয়াল      1   \n",
       "24525  25185  হেলমেট ছাড়া বেরোলে ঠিকই কেউ না কেউ বলবে ওদিকে...      0   \n",
       "\n",
       "                                                 comment  \n",
       "3524   উচিৎ থাকা লজ্জা ছি বইচে ঝর প্রশংসার আবার নিয়ে...  \n",
       "11178    সিরিয়াল বোকাচোদার যেনো খাচ্ছে ভাও এমন চপ এর ঢপ  \n",
       "24525  ধরছে পুলিশ না যাবেন ওদিকে বলবে কেউ না কেউ ঠিকই...  "
      ]
     },
     "execution_count": 66,
     "metadata": {},
     "output_type": "execute_result"
    }
   ],
   "source": [
    "eval_df.head(3)"
   ]
  },
  {
   "cell_type": "code",
   "execution_count": 67,
   "id": "91d54165",
   "metadata": {
    "execution": {
     "iopub.execute_input": "2025-02-27T12:17:14.749293Z",
     "iopub.status.busy": "2025-02-27T12:17:14.748938Z",
     "iopub.status.idle": "2025-02-27T12:17:14.752675Z",
     "shell.execute_reply": "2025-02-27T12:17:14.751788Z"
    },
    "papermill": {
     "duration": 1.465599,
     "end_time": "2025-02-27T12:17:14.754095",
     "exception": false,
     "start_time": "2025-02-27T12:17:13.288496",
     "status": "completed"
    },
    "tags": []
   },
   "outputs": [],
   "source": [
    "# def preprocess_function(context,text):\n",
    "#     parent_encoding = tokenizer(context, padding=\"max_length\", truncation=True, max_length=128)\n",
    "#     text_encoding = tokenizer(context, padding=\"max_length\", truncation=True, max_length=128)\n",
    "    \n",
    "#     return {\n",
    "#         'input_ids1': parent_encoding['input_ids'],\n",
    "#         'attention_mask1': parent_encoding['attention_mask'],\n",
    "#         'input_ids2': text_encoding['input_ids'],\n",
    "#         'attention_mask2': text_encoding['attention_mask'],\n",
    "#     }"
   ]
  },
  {
   "cell_type": "code",
   "execution_count": 68,
   "id": "c123695f",
   "metadata": {
    "execution": {
     "iopub.execute_input": "2025-02-27T12:17:17.711795Z",
     "iopub.status.busy": "2025-02-27T12:17:17.711452Z",
     "iopub.status.idle": "2025-02-27T12:17:17.715316Z",
     "shell.execute_reply": "2025-02-27T12:17:17.714462Z"
    },
    "papermill": {
     "duration": 1.459254,
     "end_time": "2025-02-27T12:17:17.716870",
     "exception": false,
     "start_time": "2025-02-27T12:17:16.257616",
     "status": "completed"
    },
    "tags": []
   },
   "outputs": [],
   "source": [
    "#batch=preprocess_function(data2.iloc[1011]['parent_comment'],data2.iloc[1011]['comment'])"
   ]
  },
  {
   "cell_type": "code",
   "execution_count": null,
   "id": "007bb88d",
   "metadata": {
    "papermill": {
     "duration": 1.446872,
     "end_time": "2025-02-27T12:17:20.666764",
     "exception": false,
     "start_time": "2025-02-27T12:17:19.219892",
     "status": "completed"
    },
    "tags": []
   },
   "outputs": [],
   "source": []
  }
 ],
 "metadata": {
  "kaggle": {
   "accelerator": "gpu",
   "dataSources": [
    {
     "datasetId": 113003,
     "sourceId": 269740,
     "sourceType": "datasetVersion"
    },
    {
     "datasetId": 32526,
     "sourceId": 4243451,
     "sourceType": "datasetVersion"
    },
    {
     "datasetId": 5668978,
     "sourceId": 9601762,
     "sourceType": "datasetVersion"
    },
    {
     "datasetId": 4892370,
     "sourceId": 10280684,
     "sourceType": "datasetVersion"
    }
   ],
   "dockerImageVersionId": 30823,
   "isGpuEnabled": true,
   "isInternetEnabled": true,
   "language": "python",
   "sourceType": "notebook"
  },
  "kernelspec": {
   "display_name": "Python 3",
   "language": "python",
   "name": "python3"
  },
  "language_info": {
   "codemirror_mode": {
    "name": "ipython",
    "version": 3
   },
   "file_extension": ".py",
   "mimetype": "text/x-python",
   "name": "python",
   "nbconvert_exporter": "python",
   "pygments_lexer": "ipython3",
   "version": "3.10.12"
  },
  "papermill": {
   "default_parameters": {},
   "duration": 5335.425356,
   "end_time": "2025-02-27T12:17:25.748726",
   "environment_variables": {},
   "exception": null,
   "input_path": "__notebook__.ipynb",
   "output_path": "__notebook__.ipynb",
   "parameters": {},
   "start_time": "2025-02-27T10:48:30.323370",
   "version": "2.6.0"
  },
  "widgets": {
   "application/vnd.jupyter.widget-state+json": {
    "state": {
     "027c9fe776aa4a388f6691611caccb0e": {
      "model_module": "@jupyter-widgets/base",
      "model_module_version": "2.0.0",
      "model_name": "LayoutModel",
      "state": {
       "_model_module": "@jupyter-widgets/base",
       "_model_module_version": "2.0.0",
       "_model_name": "LayoutModel",
       "_view_count": null,
       "_view_module": "@jupyter-widgets/base",
       "_view_module_version": "2.0.0",
       "_view_name": "LayoutView",
       "align_content": null,
       "align_items": null,
       "align_self": null,
       "border_bottom": null,
       "border_left": null,
       "border_right": null,
       "border_top": null,
       "bottom": null,
       "display": null,
       "flex": null,
       "flex_flow": null,
       "grid_area": null,
       "grid_auto_columns": null,
       "grid_auto_flow": null,
       "grid_auto_rows": null,
       "grid_column": null,
       "grid_gap": null,
       "grid_row": null,
       "grid_template_areas": null,
       "grid_template_columns": null,
       "grid_template_rows": null,
       "height": null,
       "justify_content": null,
       "justify_items": null,
       "left": null,
       "margin": null,
       "max_height": null,
       "max_width": null,
       "min_height": null,
       "min_width": null,
       "object_fit": null,
       "object_position": null,
       "order": null,
       "overflow": null,
       "padding": null,
       "right": null,
       "top": null,
       "visibility": null,
       "width": null
      }
     },
     "0aa9dcac7b99424494c58287a27426df": {
      "model_module": "@jupyter-widgets/controls",
      "model_module_version": "2.0.0",
      "model_name": "HTMLModel",
      "state": {
       "_dom_classes": [],
       "_model_module": "@jupyter-widgets/controls",
       "_model_module_version": "2.0.0",
       "_model_name": "HTMLModel",
       "_view_count": null,
       "_view_module": "@jupyter-widgets/controls",
       "_view_module_version": "2.0.0",
       "_view_name": "HTMLView",
       "description": "",
       "description_allow_html": false,
       "layout": "IPY_MODEL_b16095d3f42245aeb8fea11677899f1f",
       "placeholder": "​",
       "style": "IPY_MODEL_92921b2f6b4e4d8f8cf63452e4af14c8",
       "tabbable": null,
       "tooltip": null,
       "value": " 880/880 [00:00&lt;00:00, 75.4kB/s]"
      }
     },
     "121c75b78d084082ae08ac20ffbf2b95": {
      "model_module": "@jupyter-widgets/controls",
      "model_module_version": "2.0.0",
      "model_name": "HBoxModel",
      "state": {
       "_dom_classes": [],
       "_model_module": "@jupyter-widgets/controls",
       "_model_module_version": "2.0.0",
       "_model_name": "HBoxModel",
       "_view_count": null,
       "_view_module": "@jupyter-widgets/controls",
       "_view_module_version": "2.0.0",
       "_view_name": "HBoxView",
       "box_style": "",
       "children": [
        "IPY_MODEL_338254baa18f4ca9a1845efd8a939f94",
        "IPY_MODEL_16222a22da0f4ff5aedb722c948c0ef4",
        "IPY_MODEL_d07035208c3c46a3bc0ed7ec1db9fa3d"
       ],
       "layout": "IPY_MODEL_48de2e99722f4103ad2ab136b98a52f7",
       "tabbable": null,
       "tooltip": null
      }
     },
     "152c38ef99874b46b2f6adf1531114ac": {
      "model_module": "@jupyter-widgets/base",
      "model_module_version": "2.0.0",
      "model_name": "LayoutModel",
      "state": {
       "_model_module": "@jupyter-widgets/base",
       "_model_module_version": "2.0.0",
       "_model_name": "LayoutModel",
       "_view_count": null,
       "_view_module": "@jupyter-widgets/base",
       "_view_module_version": "2.0.0",
       "_view_name": "LayoutView",
       "align_content": null,
       "align_items": null,
       "align_self": null,
       "border_bottom": null,
       "border_left": null,
       "border_right": null,
       "border_top": null,
       "bottom": null,
       "display": null,
       "flex": null,
       "flex_flow": null,
       "grid_area": null,
       "grid_auto_columns": null,
       "grid_auto_flow": null,
       "grid_auto_rows": null,
       "grid_column": null,
       "grid_gap": null,
       "grid_row": null,
       "grid_template_areas": null,
       "grid_template_columns": null,
       "grid_template_rows": null,
       "height": null,
       "justify_content": null,
       "justify_items": null,
       "left": null,
       "margin": null,
       "max_height": null,
       "max_width": null,
       "min_height": null,
       "min_width": null,
       "object_fit": null,
       "object_position": null,
       "order": null,
       "overflow": null,
       "padding": null,
       "right": null,
       "top": null,
       "visibility": null,
       "width": null
      }
     },
     "16222a22da0f4ff5aedb722c948c0ef4": {
      "model_module": "@jupyter-widgets/controls",
      "model_module_version": "2.0.0",
      "model_name": "FloatProgressModel",
      "state": {
       "_dom_classes": [],
       "_model_module": "@jupyter-widgets/controls",
       "_model_module_version": "2.0.0",
       "_model_name": "FloatProgressModel",
       "_view_count": null,
       "_view_module": "@jupyter-widgets/controls",
       "_view_module_version": "2.0.0",
       "_view_name": "ProgressView",
       "bar_style": "success",
       "description": "",
       "description_allow_html": false,
       "layout": "IPY_MODEL_95b92a1b62124069a9510a2d7e89d59e",
       "max": 25636.0,
       "min": 0.0,
       "orientation": "horizontal",
       "style": "IPY_MODEL_871ccee4605c4be3a95d128910f30985",
       "tabbable": null,
       "tooltip": null,
       "value": 25636.0
      }
     },
     "1a348e8418f746b68d8db3f7033aa9ae": {
      "model_module": "@jupyter-widgets/controls",
      "model_module_version": "2.0.0",
      "model_name": "HTMLStyleModel",
      "state": {
       "_model_module": "@jupyter-widgets/controls",
       "_model_module_version": "2.0.0",
       "_model_name": "HTMLStyleModel",
       "_view_count": null,
       "_view_module": "@jupyter-widgets/base",
       "_view_module_version": "2.0.0",
       "_view_name": "StyleView",
       "background": null,
       "description_width": "",
       "font_size": null,
       "text_color": null
      }
     },
     "2172cb5ce16444dea998c9b697067d81": {
      "model_module": "@jupyter-widgets/base",
      "model_module_version": "2.0.0",
      "model_name": "LayoutModel",
      "state": {
       "_model_module": "@jupyter-widgets/base",
       "_model_module_version": "2.0.0",
       "_model_name": "LayoutModel",
       "_view_count": null,
       "_view_module": "@jupyter-widgets/base",
       "_view_module_version": "2.0.0",
       "_view_name": "LayoutView",
       "align_content": null,
       "align_items": null,
       "align_self": null,
       "border_bottom": null,
       "border_left": null,
       "border_right": null,
       "border_top": null,
       "bottom": null,
       "display": null,
       "flex": null,
       "flex_flow": null,
       "grid_area": null,
       "grid_auto_columns": null,
       "grid_auto_flow": null,
       "grid_auto_rows": null,
       "grid_column": null,
       "grid_gap": null,
       "grid_row": null,
       "grid_template_areas": null,
       "grid_template_columns": null,
       "grid_template_rows": null,
       "height": null,
       "justify_content": null,
       "justify_items": null,
       "left": null,
       "margin": null,
       "max_height": null,
       "max_width": null,
       "min_height": null,
       "min_width": null,
       "object_fit": null,
       "object_position": null,
       "order": null,
       "overflow": null,
       "padding": null,
       "right": null,
       "top": null,
       "visibility": null,
       "width": null
      }
     },
     "28c5799cc88a4eff95da3f89b80f5345": {
      "model_module": "@jupyter-widgets/base",
      "model_module_version": "2.0.0",
      "model_name": "LayoutModel",
      "state": {
       "_model_module": "@jupyter-widgets/base",
       "_model_module_version": "2.0.0",
       "_model_name": "LayoutModel",
       "_view_count": null,
       "_view_module": "@jupyter-widgets/base",
       "_view_module_version": "2.0.0",
       "_view_name": "LayoutView",
       "align_content": null,
       "align_items": null,
       "align_self": null,
       "border_bottom": null,
       "border_left": null,
       "border_right": null,
       "border_top": null,
       "bottom": null,
       "display": null,
       "flex": null,
       "flex_flow": null,
       "grid_area": null,
       "grid_auto_columns": null,
       "grid_auto_flow": null,
       "grid_auto_rows": null,
       "grid_column": null,
       "grid_gap": null,
       "grid_row": null,
       "grid_template_areas": null,
       "grid_template_columns": null,
       "grid_template_rows": null,
       "height": null,
       "justify_content": null,
       "justify_items": null,
       "left": null,
       "margin": null,
       "max_height": null,
       "max_width": null,
       "min_height": null,
       "min_width": null,
       "object_fit": null,
       "object_position": null,
       "order": null,
       "overflow": null,
       "padding": null,
       "right": null,
       "top": null,
       "visibility": null,
       "width": null
      }
     },
     "2df7eb888bfd40e4bc72ce3771d1e660": {
      "model_module": "@jupyter-widgets/controls",
      "model_module_version": "2.0.0",
      "model_name": "HTMLStyleModel",
      "state": {
       "_model_module": "@jupyter-widgets/controls",
       "_model_module_version": "2.0.0",
       "_model_name": "HTMLStyleModel",
       "_view_count": null,
       "_view_module": "@jupyter-widgets/base",
       "_view_module_version": "2.0.0",
       "_view_name": "StyleView",
       "background": null,
       "description_width": "",
       "font_size": null,
       "text_color": null
      }
     },
     "2ef1078d1cd34872832aad156d62c140": {
      "model_module": "@jupyter-widgets/controls",
      "model_module_version": "2.0.0",
      "model_name": "FloatProgressModel",
      "state": {
       "_dom_classes": [],
       "_model_module": "@jupyter-widgets/controls",
       "_model_module_version": "2.0.0",
       "_model_name": "FloatProgressModel",
       "_view_count": null,
       "_view_module": "@jupyter-widgets/controls",
       "_view_module_version": "2.0.0",
       "_view_name": "ProgressView",
       "bar_style": "success",
       "description": "",
       "description_allow_html": false,
       "layout": "IPY_MODEL_431f73769bc14b7f95ccc8cc3d34a66e",
       "max": 528316.0,
       "min": 0.0,
       "orientation": "horizontal",
       "style": "IPY_MODEL_f78c7cc602ac48c3a056f36814800bf4",
       "tabbable": null,
       "tooltip": null,
       "value": 528316.0
      }
     },
     "2f907e2f9018491da7ba08c03cfa5bb1": {
      "model_module": "@jupyter-widgets/controls",
      "model_module_version": "2.0.0",
      "model_name": "HTMLStyleModel",
      "state": {
       "_model_module": "@jupyter-widgets/controls",
       "_model_module_version": "2.0.0",
       "_model_name": "HTMLStyleModel",
       "_view_count": null,
       "_view_module": "@jupyter-widgets/base",
       "_view_module_version": "2.0.0",
       "_view_name": "StyleView",
       "background": null,
       "description_width": "",
       "font_size": null,
       "text_color": null
      }
     },
     "338254baa18f4ca9a1845efd8a939f94": {
      "model_module": "@jupyter-widgets/controls",
      "model_module_version": "2.0.0",
      "model_name": "HTMLModel",
      "state": {
       "_dom_classes": [],
       "_model_module": "@jupyter-widgets/controls",
       "_model_module_version": "2.0.0",
       "_model_name": "HTMLModel",
       "_view_count": null,
       "_view_module": "@jupyter-widgets/controls",
       "_view_module_version": "2.0.0",
       "_view_name": "HTMLView",
       "description": "",
       "description_allow_html": false,
       "layout": "IPY_MODEL_f103ee122d50477f8b1c5fc6707df744",
       "placeholder": "​",
       "style": "IPY_MODEL_1a348e8418f746b68d8db3f7033aa9ae",
       "tabbable": null,
       "tooltip": null,
       "value": "Map: 100%"
      }
     },
     "36a9cedfd622446b8bf0ea15179a5f3c": {
      "model_module": "@jupyter-widgets/base",
      "model_module_version": "2.0.0",
      "model_name": "LayoutModel",
      "state": {
       "_model_module": "@jupyter-widgets/base",
       "_model_module_version": "2.0.0",
       "_model_name": "LayoutModel",
       "_view_count": null,
       "_view_module": "@jupyter-widgets/base",
       "_view_module_version": "2.0.0",
       "_view_name": "LayoutView",
       "align_content": null,
       "align_items": null,
       "align_self": null,
       "border_bottom": null,
       "border_left": null,
       "border_right": null,
       "border_top": null,
       "bottom": null,
       "display": null,
       "flex": null,
       "flex_flow": null,
       "grid_area": null,
       "grid_auto_columns": null,
       "grid_auto_flow": null,
       "grid_auto_rows": null,
       "grid_column": null,
       "grid_gap": null,
       "grid_row": null,
       "grid_template_areas": null,
       "grid_template_columns": null,
       "grid_template_rows": null,
       "height": null,
       "justify_content": null,
       "justify_items": null,
       "left": null,
       "margin": null,
       "max_height": null,
       "max_width": null,
       "min_height": null,
       "min_width": null,
       "object_fit": null,
       "object_position": null,
       "order": null,
       "overflow": null,
       "padding": null,
       "right": null,
       "top": null,
       "visibility": null,
       "width": null
      }
     },
     "385affe285d1445da75fdca2671a8c8c": {
      "model_module": "@jupyter-widgets/base",
      "model_module_version": "2.0.0",
      "model_name": "LayoutModel",
      "state": {
       "_model_module": "@jupyter-widgets/base",
       "_model_module_version": "2.0.0",
       "_model_name": "LayoutModel",
       "_view_count": null,
       "_view_module": "@jupyter-widgets/base",
       "_view_module_version": "2.0.0",
       "_view_name": "LayoutView",
       "align_content": null,
       "align_items": null,
       "align_self": null,
       "border_bottom": null,
       "border_left": null,
       "border_right": null,
       "border_top": null,
       "bottom": null,
       "display": null,
       "flex": null,
       "flex_flow": null,
       "grid_area": null,
       "grid_auto_columns": null,
       "grid_auto_flow": null,
       "grid_auto_rows": null,
       "grid_column": null,
       "grid_gap": null,
       "grid_row": null,
       "grid_template_areas": null,
       "grid_template_columns": null,
       "grid_template_rows": null,
       "height": null,
       "justify_content": null,
       "justify_items": null,
       "left": null,
       "margin": null,
       "max_height": null,
       "max_width": null,
       "min_height": null,
       "min_width": null,
       "object_fit": null,
       "object_position": null,
       "order": null,
       "overflow": null,
       "padding": null,
       "right": null,
       "top": null,
       "visibility": null,
       "width": null
      }
     },
     "38b17e2ce62f420e8ec0d4a52583e8a4": {
      "model_module": "@jupyter-widgets/controls",
      "model_module_version": "2.0.0",
      "model_name": "HTMLModel",
      "state": {
       "_dom_classes": [],
       "_model_module": "@jupyter-widgets/controls",
       "_model_module_version": "2.0.0",
       "_model_name": "HTMLModel",
       "_view_count": null,
       "_view_module": "@jupyter-widgets/controls",
       "_view_module_version": "2.0.0",
       "_view_name": "HTMLView",
       "description": "",
       "description_allow_html": false,
       "layout": "IPY_MODEL_a599b12b65d34cf1a8032d84944fc558",
       "placeholder": "​",
       "style": "IPY_MODEL_8fadc11c20a44029b9217fa9f1cacfc1",
       "tabbable": null,
       "tooltip": null,
       "value": " 119/119 [00:00&lt;00:00, 9.70kB/s]"
      }
     },
     "431f73769bc14b7f95ccc8cc3d34a66e": {
      "model_module": "@jupyter-widgets/base",
      "model_module_version": "2.0.0",
      "model_name": "LayoutModel",
      "state": {
       "_model_module": "@jupyter-widgets/base",
       "_model_module_version": "2.0.0",
       "_model_name": "LayoutModel",
       "_view_count": null,
       "_view_module": "@jupyter-widgets/base",
       "_view_module_version": "2.0.0",
       "_view_name": "LayoutView",
       "align_content": null,
       "align_items": null,
       "align_self": null,
       "border_bottom": null,
       "border_left": null,
       "border_right": null,
       "border_top": null,
       "bottom": null,
       "display": null,
       "flex": null,
       "flex_flow": null,
       "grid_area": null,
       "grid_auto_columns": null,
       "grid_auto_flow": null,
       "grid_auto_rows": null,
       "grid_column": null,
       "grid_gap": null,
       "grid_row": null,
       "grid_template_areas": null,
       "grid_template_columns": null,
       "grid_template_rows": null,
       "height": null,
       "justify_content": null,
       "justify_items": null,
       "left": null,
       "margin": null,
       "max_height": null,
       "max_width": null,
       "min_height": null,
       "min_width": null,
       "object_fit": null,
       "object_position": null,
       "order": null,
       "overflow": null,
       "padding": null,
       "right": null,
       "top": null,
       "visibility": null,
       "width": null
      }
     },
     "48de2e99722f4103ad2ab136b98a52f7": {
      "model_module": "@jupyter-widgets/base",
      "model_module_version": "2.0.0",
      "model_name": "LayoutModel",
      "state": {
       "_model_module": "@jupyter-widgets/base",
       "_model_module_version": "2.0.0",
       "_model_name": "LayoutModel",
       "_view_count": null,
       "_view_module": "@jupyter-widgets/base",
       "_view_module_version": "2.0.0",
       "_view_name": "LayoutView",
       "align_content": null,
       "align_items": null,
       "align_self": null,
       "border_bottom": null,
       "border_left": null,
       "border_right": null,
       "border_top": null,
       "bottom": null,
       "display": null,
       "flex": null,
       "flex_flow": null,
       "grid_area": null,
       "grid_auto_columns": null,
       "grid_auto_flow": null,
       "grid_auto_rows": null,
       "grid_column": null,
       "grid_gap": null,
       "grid_row": null,
       "grid_template_areas": null,
       "grid_template_columns": null,
       "grid_template_rows": null,
       "height": null,
       "justify_content": null,
       "justify_items": null,
       "left": null,
       "margin": null,
       "max_height": null,
       "max_width": null,
       "min_height": null,
       "min_width": null,
       "object_fit": null,
       "object_position": null,
       "order": null,
       "overflow": null,
       "padding": null,
       "right": null,
       "top": null,
       "visibility": null,
       "width": null
      }
     },
     "586828e813da4beabcc67992fb7d8e64": {
      "model_module": "@jupyter-widgets/base",
      "model_module_version": "2.0.0",
      "model_name": "LayoutModel",
      "state": {
       "_model_module": "@jupyter-widgets/base",
       "_model_module_version": "2.0.0",
       "_model_name": "LayoutModel",
       "_view_count": null,
       "_view_module": "@jupyter-widgets/base",
       "_view_module_version": "2.0.0",
       "_view_name": "LayoutView",
       "align_content": null,
       "align_items": null,
       "align_self": null,
       "border_bottom": null,
       "border_left": null,
       "border_right": null,
       "border_top": null,
       "bottom": null,
       "display": null,
       "flex": null,
       "flex_flow": null,
       "grid_area": null,
       "grid_auto_columns": null,
       "grid_auto_flow": null,
       "grid_auto_rows": null,
       "grid_column": null,
       "grid_gap": null,
       "grid_row": null,
       "grid_template_areas": null,
       "grid_template_columns": null,
       "grid_template_rows": null,
       "height": null,
       "justify_content": null,
       "justify_items": null,
       "left": null,
       "margin": null,
       "max_height": null,
       "max_width": null,
       "min_height": null,
       "min_width": null,
       "object_fit": null,
       "object_position": null,
       "order": null,
       "overflow": null,
       "padding": null,
       "right": null,
       "top": null,
       "visibility": null,
       "width": null
      }
     },
     "6a2b5dbb85de4c50a52fbafab0248b7f": {
      "model_module": "@jupyter-widgets/controls",
      "model_module_version": "2.0.0",
      "model_name": "HTMLModel",
      "state": {
       "_dom_classes": [],
       "_model_module": "@jupyter-widgets/controls",
       "_model_module_version": "2.0.0",
       "_model_name": "HTMLModel",
       "_view_count": null,
       "_view_module": "@jupyter-widgets/controls",
       "_view_module_version": "2.0.0",
       "_view_name": "HTMLView",
       "description": "",
       "description_allow_html": false,
       "layout": "IPY_MODEL_152c38ef99874b46b2f6adf1531114ac",
       "placeholder": "​",
       "style": "IPY_MODEL_2df7eb888bfd40e4bc72ce3771d1e660",
       "tabbable": null,
       "tooltip": null,
       "value": "tokenizer_config.json: 100%"
      }
     },
     "6af85afcbc9a4f8abf7ffb3c50c2c61c": {
      "model_module": "@jupyter-widgets/controls",
      "model_module_version": "2.0.0",
      "model_name": "HTMLModel",
      "state": {
       "_dom_classes": [],
       "_model_module": "@jupyter-widgets/controls",
       "_model_module_version": "2.0.0",
       "_model_name": "HTMLModel",
       "_view_count": null,
       "_view_module": "@jupyter-widgets/controls",
       "_view_module_version": "2.0.0",
       "_view_name": "HTMLView",
       "description": "",
       "description_allow_html": false,
       "layout": "IPY_MODEL_93067f0b64a4425ca5d2d051e4dea595",
       "placeholder": "​",
       "style": "IPY_MODEL_935ce770c0ba4081b65b8fa7d827ed5c",
       "tabbable": null,
       "tooltip": null,
       "value": " 528k/528k [00:00&lt;00:00, 8.80MB/s]"
      }
     },
     "6e6defbec0cd4b0c89bf846ff0036db1": {
      "model_module": "@jupyter-widgets/controls",
      "model_module_version": "2.0.0",
      "model_name": "HBoxModel",
      "state": {
       "_dom_classes": [],
       "_model_module": "@jupyter-widgets/controls",
       "_model_module_version": "2.0.0",
       "_model_name": "HBoxModel",
       "_view_count": null,
       "_view_module": "@jupyter-widgets/controls",
       "_view_module_version": "2.0.0",
       "_view_name": "HBoxView",
       "box_style": "",
       "children": [
        "IPY_MODEL_cce192b3221048458f0cd17ded0f3fea",
        "IPY_MODEL_853bf1a7086e4ff0b0a797bc8a9ae67a",
        "IPY_MODEL_b54fa017822340a185a73f2bd106805b"
       ],
       "layout": "IPY_MODEL_d88d622783eb48468188b5e93796c6a1",
       "tabbable": null,
       "tooltip": null
      }
     },
     "70e31fd0fff8429db2da2877ef74ab5f": {
      "model_module": "@jupyter-widgets/base",
      "model_module_version": "2.0.0",
      "model_name": "LayoutModel",
      "state": {
       "_model_module": "@jupyter-widgets/base",
       "_model_module_version": "2.0.0",
       "_model_name": "LayoutModel",
       "_view_count": null,
       "_view_module": "@jupyter-widgets/base",
       "_view_module_version": "2.0.0",
       "_view_name": "LayoutView",
       "align_content": null,
       "align_items": null,
       "align_self": null,
       "border_bottom": null,
       "border_left": null,
       "border_right": null,
       "border_top": null,
       "bottom": null,
       "display": null,
       "flex": null,
       "flex_flow": null,
       "grid_area": null,
       "grid_auto_columns": null,
       "grid_auto_flow": null,
       "grid_auto_rows": null,
       "grid_column": null,
       "grid_gap": null,
       "grid_row": null,
       "grid_template_areas": null,
       "grid_template_columns": null,
       "grid_template_rows": null,
       "height": null,
       "justify_content": null,
       "justify_items": null,
       "left": null,
       "margin": null,
       "max_height": null,
       "max_width": null,
       "min_height": null,
       "min_width": null,
       "object_fit": null,
       "object_position": null,
       "order": null,
       "overflow": null,
       "padding": null,
       "right": null,
       "top": null,
       "visibility": null,
       "width": null
      }
     },
     "7406ec20ca2c4634a501a6c188a0930d": {
      "model_module": "@jupyter-widgets/controls",
      "model_module_version": "2.0.0",
      "model_name": "HTMLModel",
      "state": {
       "_dom_classes": [],
       "_model_module": "@jupyter-widgets/controls",
       "_model_module_version": "2.0.0",
       "_model_name": "HTMLModel",
       "_view_count": null,
       "_view_module": "@jupyter-widgets/controls",
       "_view_module_version": "2.0.0",
       "_view_name": "HTMLView",
       "description": "",
       "description_allow_html": false,
       "layout": "IPY_MODEL_36a9cedfd622446b8bf0ea15179a5f3c",
       "placeholder": "​",
       "style": "IPY_MODEL_9d454cde364548e69177d6d3542db67a",
       "tabbable": null,
       "tooltip": null,
       "value": " 112/112 [00:00&lt;00:00, 10.2kB/s]"
      }
     },
     "7900a7d5ddcc43c0a087dc921dfcfbf8": {
      "model_module": "@jupyter-widgets/controls",
      "model_module_version": "2.0.0",
      "model_name": "FloatProgressModel",
      "state": {
       "_dom_classes": [],
       "_model_module": "@jupyter-widgets/controls",
       "_model_module_version": "2.0.0",
       "_model_name": "FloatProgressModel",
       "_view_count": null,
       "_view_module": "@jupyter-widgets/controls",
       "_view_module_version": "2.0.0",
       "_view_name": "ProgressView",
       "bar_style": "success",
       "description": "",
       "description_allow_html": false,
       "layout": "IPY_MODEL_385affe285d1445da75fdca2671a8c8c",
       "max": 880.0,
       "min": 0.0,
       "orientation": "horizontal",
       "style": "IPY_MODEL_80729024555b468dbe04ff7c10a157e2",
       "tabbable": null,
       "tooltip": null,
       "value": 880.0
      }
     },
     "793fa9eb70a643bdb45a093661255689": {
      "model_module": "@jupyter-widgets/base",
      "model_module_version": "2.0.0",
      "model_name": "LayoutModel",
      "state": {
       "_model_module": "@jupyter-widgets/base",
       "_model_module_version": "2.0.0",
       "_model_name": "LayoutModel",
       "_view_count": null,
       "_view_module": "@jupyter-widgets/base",
       "_view_module_version": "2.0.0",
       "_view_name": "LayoutView",
       "align_content": null,
       "align_items": null,
       "align_self": null,
       "border_bottom": null,
       "border_left": null,
       "border_right": null,
       "border_top": null,
       "bottom": null,
       "display": null,
       "flex": null,
       "flex_flow": null,
       "grid_area": null,
       "grid_auto_columns": null,
       "grid_auto_flow": null,
       "grid_auto_rows": null,
       "grid_column": null,
       "grid_gap": null,
       "grid_row": null,
       "grid_template_areas": null,
       "grid_template_columns": null,
       "grid_template_rows": null,
       "height": null,
       "justify_content": null,
       "justify_items": null,
       "left": null,
       "margin": null,
       "max_height": null,
       "max_width": null,
       "min_height": null,
       "min_width": null,
       "object_fit": null,
       "object_position": null,
       "order": null,
       "overflow": null,
       "padding": null,
       "right": null,
       "top": null,
       "visibility": null,
       "width": null
      }
     },
     "7adaa506252e423daeac9d921724d337": {
      "model_module": "@jupyter-widgets/controls",
      "model_module_version": "2.0.0",
      "model_name": "HTMLModel",
      "state": {
       "_dom_classes": [],
       "_model_module": "@jupyter-widgets/controls",
       "_model_module_version": "2.0.0",
       "_model_name": "HTMLModel",
       "_view_count": null,
       "_view_module": "@jupyter-widgets/controls",
       "_view_module_version": "2.0.0",
       "_view_name": "HTMLView",
       "description": "",
       "description_allow_html": false,
       "layout": "IPY_MODEL_d841fea9b63a40adb5bad8a8e16e4bf4",
       "placeholder": "​",
       "style": "IPY_MODEL_860539fd3a7343968be11744ebfa7241",
       "tabbable": null,
       "tooltip": null,
       "value": "config.json: 100%"
      }
     },
     "80729024555b468dbe04ff7c10a157e2": {
      "model_module": "@jupyter-widgets/controls",
      "model_module_version": "2.0.0",
      "model_name": "ProgressStyleModel",
      "state": {
       "_model_module": "@jupyter-widgets/controls",
       "_model_module_version": "2.0.0",
       "_model_name": "ProgressStyleModel",
       "_view_count": null,
       "_view_module": "@jupyter-widgets/base",
       "_view_module_version": "2.0.0",
       "_view_name": "StyleView",
       "bar_color": null,
       "description_width": ""
      }
     },
     "853bf1a7086e4ff0b0a797bc8a9ae67a": {
      "model_module": "@jupyter-widgets/controls",
      "model_module_version": "2.0.0",
      "model_name": "FloatProgressModel",
      "state": {
       "_dom_classes": [],
       "_model_module": "@jupyter-widgets/controls",
       "_model_module_version": "2.0.0",
       "_model_name": "FloatProgressModel",
       "_view_count": null,
       "_view_module": "@jupyter-widgets/controls",
       "_view_module_version": "2.0.0",
       "_view_name": "ProgressView",
       "bar_style": "success",
       "description": "",
       "description_allow_html": false,
       "layout": "IPY_MODEL_dde2501f5dba4ade9dd943939031416d",
       "max": 1346790431.0,
       "min": 0.0,
       "orientation": "horizontal",
       "style": "IPY_MODEL_fd726a1a80f64cad8743755f38c79504",
       "tabbable": null,
       "tooltip": null,
       "value": 1346790431.0
      }
     },
     "860539fd3a7343968be11744ebfa7241": {
      "model_module": "@jupyter-widgets/controls",
      "model_module_version": "2.0.0",
      "model_name": "HTMLStyleModel",
      "state": {
       "_model_module": "@jupyter-widgets/controls",
       "_model_module_version": "2.0.0",
       "_model_name": "HTMLStyleModel",
       "_view_count": null,
       "_view_module": "@jupyter-widgets/base",
       "_view_module_version": "2.0.0",
       "_view_name": "StyleView",
       "background": null,
       "description_width": "",
       "font_size": null,
       "text_color": null
      }
     },
     "871ccee4605c4be3a95d128910f30985": {
      "model_module": "@jupyter-widgets/controls",
      "model_module_version": "2.0.0",
      "model_name": "ProgressStyleModel",
      "state": {
       "_model_module": "@jupyter-widgets/controls",
       "_model_module_version": "2.0.0",
       "_model_name": "ProgressStyleModel",
       "_view_count": null,
       "_view_module": "@jupyter-widgets/base",
       "_view_module_version": "2.0.0",
       "_view_name": "StyleView",
       "bar_color": null,
       "description_width": ""
      }
     },
     "8f25e8a1b36a47df8a2e6fde15dfa0bc": {
      "model_module": "@jupyter-widgets/base",
      "model_module_version": "2.0.0",
      "model_name": "LayoutModel",
      "state": {
       "_model_module": "@jupyter-widgets/base",
       "_model_module_version": "2.0.0",
       "_model_name": "LayoutModel",
       "_view_count": null,
       "_view_module": "@jupyter-widgets/base",
       "_view_module_version": "2.0.0",
       "_view_name": "LayoutView",
       "align_content": null,
       "align_items": null,
       "align_self": null,
       "border_bottom": null,
       "border_left": null,
       "border_right": null,
       "border_top": null,
       "bottom": null,
       "display": null,
       "flex": null,
       "flex_flow": null,
       "grid_area": null,
       "grid_auto_columns": null,
       "grid_auto_flow": null,
       "grid_auto_rows": null,
       "grid_column": null,
       "grid_gap": null,
       "grid_row": null,
       "grid_template_areas": null,
       "grid_template_columns": null,
       "grid_template_rows": null,
       "height": null,
       "justify_content": null,
       "justify_items": null,
       "left": null,
       "margin": null,
       "max_height": null,
       "max_width": null,
       "min_height": null,
       "min_width": null,
       "object_fit": null,
       "object_position": null,
       "order": null,
       "overflow": null,
       "padding": null,
       "right": null,
       "top": null,
       "visibility": null,
       "width": null
      }
     },
     "8fadc11c20a44029b9217fa9f1cacfc1": {
      "model_module": "@jupyter-widgets/controls",
      "model_module_version": "2.0.0",
      "model_name": "HTMLStyleModel",
      "state": {
       "_model_module": "@jupyter-widgets/controls",
       "_model_module_version": "2.0.0",
       "_model_name": "HTMLStyleModel",
       "_view_count": null,
       "_view_module": "@jupyter-widgets/base",
       "_view_module_version": "2.0.0",
       "_view_name": "StyleView",
       "background": null,
       "description_width": "",
       "font_size": null,
       "text_color": null
      }
     },
     "90224a955c7540869f6c7ea9beb69d71": {
      "model_module": "@jupyter-widgets/base",
      "model_module_version": "2.0.0",
      "model_name": "LayoutModel",
      "state": {
       "_model_module": "@jupyter-widgets/base",
       "_model_module_version": "2.0.0",
       "_model_name": "LayoutModel",
       "_view_count": null,
       "_view_module": "@jupyter-widgets/base",
       "_view_module_version": "2.0.0",
       "_view_name": "LayoutView",
       "align_content": null,
       "align_items": null,
       "align_self": null,
       "border_bottom": null,
       "border_left": null,
       "border_right": null,
       "border_top": null,
       "bottom": null,
       "display": null,
       "flex": null,
       "flex_flow": null,
       "grid_area": null,
       "grid_auto_columns": null,
       "grid_auto_flow": null,
       "grid_auto_rows": null,
       "grid_column": null,
       "grid_gap": null,
       "grid_row": null,
       "grid_template_areas": null,
       "grid_template_columns": null,
       "grid_template_rows": null,
       "height": null,
       "justify_content": null,
       "justify_items": null,
       "left": null,
       "margin": null,
       "max_height": null,
       "max_width": null,
       "min_height": null,
       "min_width": null,
       "object_fit": null,
       "object_position": null,
       "order": null,
       "overflow": null,
       "padding": null,
       "right": null,
       "top": null,
       "visibility": null,
       "width": null
      }
     },
     "91f303e51e0642229889ecbe30506167": {
      "model_module": "@jupyter-widgets/controls",
      "model_module_version": "2.0.0",
      "model_name": "HBoxModel",
      "state": {
       "_dom_classes": [],
       "_model_module": "@jupyter-widgets/controls",
       "_model_module_version": "2.0.0",
       "_model_name": "HBoxModel",
       "_view_count": null,
       "_view_module": "@jupyter-widgets/controls",
       "_view_module_version": "2.0.0",
       "_view_name": "HBoxView",
       "box_style": "",
       "children": [
        "IPY_MODEL_b289709c2f824fb9b52adfcabbfc9eec",
        "IPY_MODEL_2ef1078d1cd34872832aad156d62c140",
        "IPY_MODEL_6af85afcbc9a4f8abf7ffb3c50c2c61c"
       ],
       "layout": "IPY_MODEL_b495a2015ada49a386d71848b6170dd9",
       "tabbable": null,
       "tooltip": null
      }
     },
     "92921b2f6b4e4d8f8cf63452e4af14c8": {
      "model_module": "@jupyter-widgets/controls",
      "model_module_version": "2.0.0",
      "model_name": "HTMLStyleModel",
      "state": {
       "_model_module": "@jupyter-widgets/controls",
       "_model_module_version": "2.0.0",
       "_model_name": "HTMLStyleModel",
       "_view_count": null,
       "_view_module": "@jupyter-widgets/base",
       "_view_module_version": "2.0.0",
       "_view_name": "StyleView",
       "background": null,
       "description_width": "",
       "font_size": null,
       "text_color": null
      }
     },
     "93067f0b64a4425ca5d2d051e4dea595": {
      "model_module": "@jupyter-widgets/base",
      "model_module_version": "2.0.0",
      "model_name": "LayoutModel",
      "state": {
       "_model_module": "@jupyter-widgets/base",
       "_model_module_version": "2.0.0",
       "_model_name": "LayoutModel",
       "_view_count": null,
       "_view_module": "@jupyter-widgets/base",
       "_view_module_version": "2.0.0",
       "_view_name": "LayoutView",
       "align_content": null,
       "align_items": null,
       "align_self": null,
       "border_bottom": null,
       "border_left": null,
       "border_right": null,
       "border_top": null,
       "bottom": null,
       "display": null,
       "flex": null,
       "flex_flow": null,
       "grid_area": null,
       "grid_auto_columns": null,
       "grid_auto_flow": null,
       "grid_auto_rows": null,
       "grid_column": null,
       "grid_gap": null,
       "grid_row": null,
       "grid_template_areas": null,
       "grid_template_columns": null,
       "grid_template_rows": null,
       "height": null,
       "justify_content": null,
       "justify_items": null,
       "left": null,
       "margin": null,
       "max_height": null,
       "max_width": null,
       "min_height": null,
       "min_width": null,
       "object_fit": null,
       "object_position": null,
       "order": null,
       "overflow": null,
       "padding": null,
       "right": null,
       "top": null,
       "visibility": null,
       "width": null
      }
     },
     "935ce770c0ba4081b65b8fa7d827ed5c": {
      "model_module": "@jupyter-widgets/controls",
      "model_module_version": "2.0.0",
      "model_name": "HTMLStyleModel",
      "state": {
       "_model_module": "@jupyter-widgets/controls",
       "_model_module_version": "2.0.0",
       "_model_name": "HTMLStyleModel",
       "_view_count": null,
       "_view_module": "@jupyter-widgets/base",
       "_view_module_version": "2.0.0",
       "_view_name": "StyleView",
       "background": null,
       "description_width": "",
       "font_size": null,
       "text_color": null
      }
     },
     "95b92a1b62124069a9510a2d7e89d59e": {
      "model_module": "@jupyter-widgets/base",
      "model_module_version": "2.0.0",
      "model_name": "LayoutModel",
      "state": {
       "_model_module": "@jupyter-widgets/base",
       "_model_module_version": "2.0.0",
       "_model_name": "LayoutModel",
       "_view_count": null,
       "_view_module": "@jupyter-widgets/base",
       "_view_module_version": "2.0.0",
       "_view_name": "LayoutView",
       "align_content": null,
       "align_items": null,
       "align_self": null,
       "border_bottom": null,
       "border_left": null,
       "border_right": null,
       "border_top": null,
       "bottom": null,
       "display": null,
       "flex": null,
       "flex_flow": null,
       "grid_area": null,
       "grid_auto_columns": null,
       "grid_auto_flow": null,
       "grid_auto_rows": null,
       "grid_column": null,
       "grid_gap": null,
       "grid_row": null,
       "grid_template_areas": null,
       "grid_template_columns": null,
       "grid_template_rows": null,
       "height": null,
       "justify_content": null,
       "justify_items": null,
       "left": null,
       "margin": null,
       "max_height": null,
       "max_width": null,
       "min_height": null,
       "min_width": null,
       "object_fit": null,
       "object_position": null,
       "order": null,
       "overflow": null,
       "padding": null,
       "right": null,
       "top": null,
       "visibility": null,
       "width": null
      }
     },
     "9d454cde364548e69177d6d3542db67a": {
      "model_module": "@jupyter-widgets/controls",
      "model_module_version": "2.0.0",
      "model_name": "HTMLStyleModel",
      "state": {
       "_model_module": "@jupyter-widgets/controls",
       "_model_module_version": "2.0.0",
       "_model_name": "HTMLStyleModel",
       "_view_count": null,
       "_view_module": "@jupyter-widgets/base",
       "_view_module_version": "2.0.0",
       "_view_name": "StyleView",
       "background": null,
       "description_width": "",
       "font_size": null,
       "text_color": null
      }
     },
     "a0b96e7b7f7847b8b74343ad48593dbb": {
      "model_module": "@jupyter-widgets/controls",
      "model_module_version": "2.0.0",
      "model_name": "HTMLModel",
      "state": {
       "_dom_classes": [],
       "_model_module": "@jupyter-widgets/controls",
       "_model_module_version": "2.0.0",
       "_model_name": "HTMLModel",
       "_view_count": null,
       "_view_module": "@jupyter-widgets/controls",
       "_view_module_version": "2.0.0",
       "_view_name": "HTMLView",
       "description": "",
       "description_allow_html": false,
       "layout": "IPY_MODEL_70e31fd0fff8429db2da2877ef74ab5f",
       "placeholder": "​",
       "style": "IPY_MODEL_f3b85435bc0845eaa1c311fea6eda01a",
       "tabbable": null,
       "tooltip": null,
       "value": "special_tokens_map.json: 100%"
      }
     },
     "a2aaaf790d484f329f3b2ca728509cc3": {
      "model_module": "@jupyter-widgets/controls",
      "model_module_version": "2.0.0",
      "model_name": "HTMLStyleModel",
      "state": {
       "_model_module": "@jupyter-widgets/controls",
       "_model_module_version": "2.0.0",
       "_model_name": "HTMLStyleModel",
       "_view_count": null,
       "_view_module": "@jupyter-widgets/base",
       "_view_module_version": "2.0.0",
       "_view_name": "StyleView",
       "background": null,
       "description_width": "",
       "font_size": null,
       "text_color": null
      }
     },
     "a599b12b65d34cf1a8032d84944fc558": {
      "model_module": "@jupyter-widgets/base",
      "model_module_version": "2.0.0",
      "model_name": "LayoutModel",
      "state": {
       "_model_module": "@jupyter-widgets/base",
       "_model_module_version": "2.0.0",
       "_model_name": "LayoutModel",
       "_view_count": null,
       "_view_module": "@jupyter-widgets/base",
       "_view_module_version": "2.0.0",
       "_view_name": "LayoutView",
       "align_content": null,
       "align_items": null,
       "align_self": null,
       "border_bottom": null,
       "border_left": null,
       "border_right": null,
       "border_top": null,
       "bottom": null,
       "display": null,
       "flex": null,
       "flex_flow": null,
       "grid_area": null,
       "grid_auto_columns": null,
       "grid_auto_flow": null,
       "grid_auto_rows": null,
       "grid_column": null,
       "grid_gap": null,
       "grid_row": null,
       "grid_template_areas": null,
       "grid_template_columns": null,
       "grid_template_rows": null,
       "height": null,
       "justify_content": null,
       "justify_items": null,
       "left": null,
       "margin": null,
       "max_height": null,
       "max_width": null,
       "min_height": null,
       "min_width": null,
       "object_fit": null,
       "object_position": null,
       "order": null,
       "overflow": null,
       "padding": null,
       "right": null,
       "top": null,
       "visibility": null,
       "width": null
      }
     },
     "a861a546e6c74d3f9d3e4e2c9a956c3e": {
      "model_module": "@jupyter-widgets/controls",
      "model_module_version": "2.0.0",
      "model_name": "HBoxModel",
      "state": {
       "_dom_classes": [],
       "_model_module": "@jupyter-widgets/controls",
       "_model_module_version": "2.0.0",
       "_model_name": "HBoxModel",
       "_view_count": null,
       "_view_module": "@jupyter-widgets/controls",
       "_view_module_version": "2.0.0",
       "_view_name": "HBoxView",
       "box_style": "",
       "children": [
        "IPY_MODEL_a0b96e7b7f7847b8b74343ad48593dbb",
        "IPY_MODEL_eed0ec47514843cebd70c07621a4ccf2",
        "IPY_MODEL_7406ec20ca2c4634a501a6c188a0930d"
       ],
       "layout": "IPY_MODEL_793fa9eb70a643bdb45a093661255689",
       "tabbable": null,
       "tooltip": null
      }
     },
     "af7685d95f9b4cb6aaa63b83ad053ee9": {
      "model_module": "@jupyter-widgets/controls",
      "model_module_version": "2.0.0",
      "model_name": "HBoxModel",
      "state": {
       "_dom_classes": [],
       "_model_module": "@jupyter-widgets/controls",
       "_model_module_version": "2.0.0",
       "_model_name": "HBoxModel",
       "_view_count": null,
       "_view_module": "@jupyter-widgets/controls",
       "_view_module_version": "2.0.0",
       "_view_name": "HBoxView",
       "box_style": "",
       "children": [
        "IPY_MODEL_6a2b5dbb85de4c50a52fbafab0248b7f",
        "IPY_MODEL_dba44f7f90ff44a7a169cba4edd841ce",
        "IPY_MODEL_38b17e2ce62f420e8ec0d4a52583e8a4"
       ],
       "layout": "IPY_MODEL_586828e813da4beabcc67992fb7d8e64",
       "tabbable": null,
       "tooltip": null
      }
     },
     "b16095d3f42245aeb8fea11677899f1f": {
      "model_module": "@jupyter-widgets/base",
      "model_module_version": "2.0.0",
      "model_name": "LayoutModel",
      "state": {
       "_model_module": "@jupyter-widgets/base",
       "_model_module_version": "2.0.0",
       "_model_name": "LayoutModel",
       "_view_count": null,
       "_view_module": "@jupyter-widgets/base",
       "_view_module_version": "2.0.0",
       "_view_name": "LayoutView",
       "align_content": null,
       "align_items": null,
       "align_self": null,
       "border_bottom": null,
       "border_left": null,
       "border_right": null,
       "border_top": null,
       "bottom": null,
       "display": null,
       "flex": null,
       "flex_flow": null,
       "grid_area": null,
       "grid_auto_columns": null,
       "grid_auto_flow": null,
       "grid_auto_rows": null,
       "grid_column": null,
       "grid_gap": null,
       "grid_row": null,
       "grid_template_areas": null,
       "grid_template_columns": null,
       "grid_template_rows": null,
       "height": null,
       "justify_content": null,
       "justify_items": null,
       "left": null,
       "margin": null,
       "max_height": null,
       "max_width": null,
       "min_height": null,
       "min_width": null,
       "object_fit": null,
       "object_position": null,
       "order": null,
       "overflow": null,
       "padding": null,
       "right": null,
       "top": null,
       "visibility": null,
       "width": null
      }
     },
     "b289709c2f824fb9b52adfcabbfc9eec": {
      "model_module": "@jupyter-widgets/controls",
      "model_module_version": "2.0.0",
      "model_name": "HTMLModel",
      "state": {
       "_dom_classes": [],
       "_model_module": "@jupyter-widgets/controls",
       "_model_module_version": "2.0.0",
       "_model_name": "HTMLModel",
       "_view_count": null,
       "_view_module": "@jupyter-widgets/controls",
       "_view_module_version": "2.0.0",
       "_view_name": "HTMLView",
       "description": "",
       "description_allow_html": false,
       "layout": "IPY_MODEL_fc717da2cfc6442b998e7639722fee15",
       "placeholder": "​",
       "style": "IPY_MODEL_b70f2a1c1c1442c0bc1b9c28ff8b9ac1",
       "tabbable": null,
       "tooltip": null,
       "value": "vocab.txt: 100%"
      }
     },
     "b495a2015ada49a386d71848b6170dd9": {
      "model_module": "@jupyter-widgets/base",
      "model_module_version": "2.0.0",
      "model_name": "LayoutModel",
      "state": {
       "_model_module": "@jupyter-widgets/base",
       "_model_module_version": "2.0.0",
       "_model_name": "LayoutModel",
       "_view_count": null,
       "_view_module": "@jupyter-widgets/base",
       "_view_module_version": "2.0.0",
       "_view_name": "LayoutView",
       "align_content": null,
       "align_items": null,
       "align_self": null,
       "border_bottom": null,
       "border_left": null,
       "border_right": null,
       "border_top": null,
       "bottom": null,
       "display": null,
       "flex": null,
       "flex_flow": null,
       "grid_area": null,
       "grid_auto_columns": null,
       "grid_auto_flow": null,
       "grid_auto_rows": null,
       "grid_column": null,
       "grid_gap": null,
       "grid_row": null,
       "grid_template_areas": null,
       "grid_template_columns": null,
       "grid_template_rows": null,
       "height": null,
       "justify_content": null,
       "justify_items": null,
       "left": null,
       "margin": null,
       "max_height": null,
       "max_width": null,
       "min_height": null,
       "min_width": null,
       "object_fit": null,
       "object_position": null,
       "order": null,
       "overflow": null,
       "padding": null,
       "right": null,
       "top": null,
       "visibility": null,
       "width": null
      }
     },
     "b54fa017822340a185a73f2bd106805b": {
      "model_module": "@jupyter-widgets/controls",
      "model_module_version": "2.0.0",
      "model_name": "HTMLModel",
      "state": {
       "_dom_classes": [],
       "_model_module": "@jupyter-widgets/controls",
       "_model_module_version": "2.0.0",
       "_model_name": "HTMLModel",
       "_view_count": null,
       "_view_module": "@jupyter-widgets/controls",
       "_view_module_version": "2.0.0",
       "_view_name": "HTMLView",
       "description": "",
       "description_allow_html": false,
       "layout": "IPY_MODEL_d8dd6050502d4d90a5e1e5eaa3ba6104",
       "placeholder": "​",
       "style": "IPY_MODEL_a2aaaf790d484f329f3b2ca728509cc3",
       "tabbable": null,
       "tooltip": null,
       "value": " 1.35G/1.35G [00:05&lt;00:00, 201MB/s]"
      }
     },
     "b70f2a1c1c1442c0bc1b9c28ff8b9ac1": {
      "model_module": "@jupyter-widgets/controls",
      "model_module_version": "2.0.0",
      "model_name": "HTMLStyleModel",
      "state": {
       "_model_module": "@jupyter-widgets/controls",
       "_model_module_version": "2.0.0",
       "_model_name": "HTMLStyleModel",
       "_view_count": null,
       "_view_module": "@jupyter-widgets/base",
       "_view_module_version": "2.0.0",
       "_view_name": "StyleView",
       "background": null,
       "description_width": "",
       "font_size": null,
       "text_color": null
      }
     },
     "cce192b3221048458f0cd17ded0f3fea": {
      "model_module": "@jupyter-widgets/controls",
      "model_module_version": "2.0.0",
      "model_name": "HTMLModel",
      "state": {
       "_dom_classes": [],
       "_model_module": "@jupyter-widgets/controls",
       "_model_module_version": "2.0.0",
       "_model_name": "HTMLModel",
       "_view_count": null,
       "_view_module": "@jupyter-widgets/controls",
       "_view_module_version": "2.0.0",
       "_view_name": "HTMLView",
       "description": "",
       "description_allow_html": false,
       "layout": "IPY_MODEL_027c9fe776aa4a388f6691611caccb0e",
       "placeholder": "​",
       "style": "IPY_MODEL_d4790996519f49689cf08a36131f1229",
       "tabbable": null,
       "tooltip": null,
       "value": "pytorch_model.bin: 100%"
      }
     },
     "d07035208c3c46a3bc0ed7ec1db9fa3d": {
      "model_module": "@jupyter-widgets/controls",
      "model_module_version": "2.0.0",
      "model_name": "HTMLModel",
      "state": {
       "_dom_classes": [],
       "_model_module": "@jupyter-widgets/controls",
       "_model_module_version": "2.0.0",
       "_model_name": "HTMLModel",
       "_view_count": null,
       "_view_module": "@jupyter-widgets/controls",
       "_view_module_version": "2.0.0",
       "_view_name": "HTMLView",
       "description": "",
       "description_allow_html": false,
       "layout": "IPY_MODEL_90224a955c7540869f6c7ea9beb69d71",
       "placeholder": "​",
       "style": "IPY_MODEL_2f907e2f9018491da7ba08c03cfa5bb1",
       "tabbable": null,
       "tooltip": null,
       "value": " 25636/25636 [00:02&lt;00:00, 9965.87 examples/s]"
      }
     },
     "d4790996519f49689cf08a36131f1229": {
      "model_module": "@jupyter-widgets/controls",
      "model_module_version": "2.0.0",
      "model_name": "HTMLStyleModel",
      "state": {
       "_model_module": "@jupyter-widgets/controls",
       "_model_module_version": "2.0.0",
       "_model_name": "HTMLStyleModel",
       "_view_count": null,
       "_view_module": "@jupyter-widgets/base",
       "_view_module_version": "2.0.0",
       "_view_name": "StyleView",
       "background": null,
       "description_width": "",
       "font_size": null,
       "text_color": null
      }
     },
     "d841fea9b63a40adb5bad8a8e16e4bf4": {
      "model_module": "@jupyter-widgets/base",
      "model_module_version": "2.0.0",
      "model_name": "LayoutModel",
      "state": {
       "_model_module": "@jupyter-widgets/base",
       "_model_module_version": "2.0.0",
       "_model_name": "LayoutModel",
       "_view_count": null,
       "_view_module": "@jupyter-widgets/base",
       "_view_module_version": "2.0.0",
       "_view_name": "LayoutView",
       "align_content": null,
       "align_items": null,
       "align_self": null,
       "border_bottom": null,
       "border_left": null,
       "border_right": null,
       "border_top": null,
       "bottom": null,
       "display": null,
       "flex": null,
       "flex_flow": null,
       "grid_area": null,
       "grid_auto_columns": null,
       "grid_auto_flow": null,
       "grid_auto_rows": null,
       "grid_column": null,
       "grid_gap": null,
       "grid_row": null,
       "grid_template_areas": null,
       "grid_template_columns": null,
       "grid_template_rows": null,
       "height": null,
       "justify_content": null,
       "justify_items": null,
       "left": null,
       "margin": null,
       "max_height": null,
       "max_width": null,
       "min_height": null,
       "min_width": null,
       "object_fit": null,
       "object_position": null,
       "order": null,
       "overflow": null,
       "padding": null,
       "right": null,
       "top": null,
       "visibility": null,
       "width": null
      }
     },
     "d88d622783eb48468188b5e93796c6a1": {
      "model_module": "@jupyter-widgets/base",
      "model_module_version": "2.0.0",
      "model_name": "LayoutModel",
      "state": {
       "_model_module": "@jupyter-widgets/base",
       "_model_module_version": "2.0.0",
       "_model_name": "LayoutModel",
       "_view_count": null,
       "_view_module": "@jupyter-widgets/base",
       "_view_module_version": "2.0.0",
       "_view_name": "LayoutView",
       "align_content": null,
       "align_items": null,
       "align_self": null,
       "border_bottom": null,
       "border_left": null,
       "border_right": null,
       "border_top": null,
       "bottom": null,
       "display": null,
       "flex": null,
       "flex_flow": null,
       "grid_area": null,
       "grid_auto_columns": null,
       "grid_auto_flow": null,
       "grid_auto_rows": null,
       "grid_column": null,
       "grid_gap": null,
       "grid_row": null,
       "grid_template_areas": null,
       "grid_template_columns": null,
       "grid_template_rows": null,
       "height": null,
       "justify_content": null,
       "justify_items": null,
       "left": null,
       "margin": null,
       "max_height": null,
       "max_width": null,
       "min_height": null,
       "min_width": null,
       "object_fit": null,
       "object_position": null,
       "order": null,
       "overflow": null,
       "padding": null,
       "right": null,
       "top": null,
       "visibility": null,
       "width": null
      }
     },
     "d8dd6050502d4d90a5e1e5eaa3ba6104": {
      "model_module": "@jupyter-widgets/base",
      "model_module_version": "2.0.0",
      "model_name": "LayoutModel",
      "state": {
       "_model_module": "@jupyter-widgets/base",
       "_model_module_version": "2.0.0",
       "_model_name": "LayoutModel",
       "_view_count": null,
       "_view_module": "@jupyter-widgets/base",
       "_view_module_version": "2.0.0",
       "_view_name": "LayoutView",
       "align_content": null,
       "align_items": null,
       "align_self": null,
       "border_bottom": null,
       "border_left": null,
       "border_right": null,
       "border_top": null,
       "bottom": null,
       "display": null,
       "flex": null,
       "flex_flow": null,
       "grid_area": null,
       "grid_auto_columns": null,
       "grid_auto_flow": null,
       "grid_auto_rows": null,
       "grid_column": null,
       "grid_gap": null,
       "grid_row": null,
       "grid_template_areas": null,
       "grid_template_columns": null,
       "grid_template_rows": null,
       "height": null,
       "justify_content": null,
       "justify_items": null,
       "left": null,
       "margin": null,
       "max_height": null,
       "max_width": null,
       "min_height": null,
       "min_width": null,
       "object_fit": null,
       "object_position": null,
       "order": null,
       "overflow": null,
       "padding": null,
       "right": null,
       "top": null,
       "visibility": null,
       "width": null
      }
     },
     "dac7b0519ea349d284b8ab2eab391d0a": {
      "model_module": "@jupyter-widgets/controls",
      "model_module_version": "2.0.0",
      "model_name": "ProgressStyleModel",
      "state": {
       "_model_module": "@jupyter-widgets/controls",
       "_model_module_version": "2.0.0",
       "_model_name": "ProgressStyleModel",
       "_view_count": null,
       "_view_module": "@jupyter-widgets/base",
       "_view_module_version": "2.0.0",
       "_view_name": "StyleView",
       "bar_color": null,
       "description_width": ""
      }
     },
     "dba44f7f90ff44a7a169cba4edd841ce": {
      "model_module": "@jupyter-widgets/controls",
      "model_module_version": "2.0.0",
      "model_name": "FloatProgressModel",
      "state": {
       "_dom_classes": [],
       "_model_module": "@jupyter-widgets/controls",
       "_model_module_version": "2.0.0",
       "_model_name": "FloatProgressModel",
       "_view_count": null,
       "_view_module": "@jupyter-widgets/controls",
       "_view_module_version": "2.0.0",
       "_view_name": "ProgressView",
       "bar_style": "success",
       "description": "",
       "description_allow_html": false,
       "layout": "IPY_MODEL_8f25e8a1b36a47df8a2e6fde15dfa0bc",
       "max": 119.0,
       "min": 0.0,
       "orientation": "horizontal",
       "style": "IPY_MODEL_dd01db16ebf14728a36fc8d4b835268c",
       "tabbable": null,
       "tooltip": null,
       "value": 119.0
      }
     },
     "dd01db16ebf14728a36fc8d4b835268c": {
      "model_module": "@jupyter-widgets/controls",
      "model_module_version": "2.0.0",
      "model_name": "ProgressStyleModel",
      "state": {
       "_model_module": "@jupyter-widgets/controls",
       "_model_module_version": "2.0.0",
       "_model_name": "ProgressStyleModel",
       "_view_count": null,
       "_view_module": "@jupyter-widgets/base",
       "_view_module_version": "2.0.0",
       "_view_name": "StyleView",
       "bar_color": null,
       "description_width": ""
      }
     },
     "dde2501f5dba4ade9dd943939031416d": {
      "model_module": "@jupyter-widgets/base",
      "model_module_version": "2.0.0",
      "model_name": "LayoutModel",
      "state": {
       "_model_module": "@jupyter-widgets/base",
       "_model_module_version": "2.0.0",
       "_model_name": "LayoutModel",
       "_view_count": null,
       "_view_module": "@jupyter-widgets/base",
       "_view_module_version": "2.0.0",
       "_view_name": "LayoutView",
       "align_content": null,
       "align_items": null,
       "align_self": null,
       "border_bottom": null,
       "border_left": null,
       "border_right": null,
       "border_top": null,
       "bottom": null,
       "display": null,
       "flex": null,
       "flex_flow": null,
       "grid_area": null,
       "grid_auto_columns": null,
       "grid_auto_flow": null,
       "grid_auto_rows": null,
       "grid_column": null,
       "grid_gap": null,
       "grid_row": null,
       "grid_template_areas": null,
       "grid_template_columns": null,
       "grid_template_rows": null,
       "height": null,
       "justify_content": null,
       "justify_items": null,
       "left": null,
       "margin": null,
       "max_height": null,
       "max_width": null,
       "min_height": null,
       "min_width": null,
       "object_fit": null,
       "object_position": null,
       "order": null,
       "overflow": null,
       "padding": null,
       "right": null,
       "top": null,
       "visibility": null,
       "width": null
      }
     },
     "eed0ec47514843cebd70c07621a4ccf2": {
      "model_module": "@jupyter-widgets/controls",
      "model_module_version": "2.0.0",
      "model_name": "FloatProgressModel",
      "state": {
       "_dom_classes": [],
       "_model_module": "@jupyter-widgets/controls",
       "_model_module_version": "2.0.0",
       "_model_name": "FloatProgressModel",
       "_view_count": null,
       "_view_module": "@jupyter-widgets/controls",
       "_view_module_version": "2.0.0",
       "_view_name": "ProgressView",
       "bar_style": "success",
       "description": "",
       "description_allow_html": false,
       "layout": "IPY_MODEL_28c5799cc88a4eff95da3f89b80f5345",
       "max": 112.0,
       "min": 0.0,
       "orientation": "horizontal",
       "style": "IPY_MODEL_dac7b0519ea349d284b8ab2eab391d0a",
       "tabbable": null,
       "tooltip": null,
       "value": 112.0
      }
     },
     "eee6bd9d93db4be4b4c0ab62109270a1": {
      "model_module": "@jupyter-widgets/controls",
      "model_module_version": "2.0.0",
      "model_name": "HBoxModel",
      "state": {
       "_dom_classes": [],
       "_model_module": "@jupyter-widgets/controls",
       "_model_module_version": "2.0.0",
       "_model_name": "HBoxModel",
       "_view_count": null,
       "_view_module": "@jupyter-widgets/controls",
       "_view_module_version": "2.0.0",
       "_view_name": "HBoxView",
       "box_style": "",
       "children": [
        "IPY_MODEL_7adaa506252e423daeac9d921724d337",
        "IPY_MODEL_7900a7d5ddcc43c0a087dc921dfcfbf8",
        "IPY_MODEL_0aa9dcac7b99424494c58287a27426df"
       ],
       "layout": "IPY_MODEL_2172cb5ce16444dea998c9b697067d81",
       "tabbable": null,
       "tooltip": null
      }
     },
     "f103ee122d50477f8b1c5fc6707df744": {
      "model_module": "@jupyter-widgets/base",
      "model_module_version": "2.0.0",
      "model_name": "LayoutModel",
      "state": {
       "_model_module": "@jupyter-widgets/base",
       "_model_module_version": "2.0.0",
       "_model_name": "LayoutModel",
       "_view_count": null,
       "_view_module": "@jupyter-widgets/base",
       "_view_module_version": "2.0.0",
       "_view_name": "LayoutView",
       "align_content": null,
       "align_items": null,
       "align_self": null,
       "border_bottom": null,
       "border_left": null,
       "border_right": null,
       "border_top": null,
       "bottom": null,
       "display": null,
       "flex": null,
       "flex_flow": null,
       "grid_area": null,
       "grid_auto_columns": null,
       "grid_auto_flow": null,
       "grid_auto_rows": null,
       "grid_column": null,
       "grid_gap": null,
       "grid_row": null,
       "grid_template_areas": null,
       "grid_template_columns": null,
       "grid_template_rows": null,
       "height": null,
       "justify_content": null,
       "justify_items": null,
       "left": null,
       "margin": null,
       "max_height": null,
       "max_width": null,
       "min_height": null,
       "min_width": null,
       "object_fit": null,
       "object_position": null,
       "order": null,
       "overflow": null,
       "padding": null,
       "right": null,
       "top": null,
       "visibility": null,
       "width": null
      }
     },
     "f3b85435bc0845eaa1c311fea6eda01a": {
      "model_module": "@jupyter-widgets/controls",
      "model_module_version": "2.0.0",
      "model_name": "HTMLStyleModel",
      "state": {
       "_model_module": "@jupyter-widgets/controls",
       "_model_module_version": "2.0.0",
       "_model_name": "HTMLStyleModel",
       "_view_count": null,
       "_view_module": "@jupyter-widgets/base",
       "_view_module_version": "2.0.0",
       "_view_name": "StyleView",
       "background": null,
       "description_width": "",
       "font_size": null,
       "text_color": null
      }
     },
     "f78c7cc602ac48c3a056f36814800bf4": {
      "model_module": "@jupyter-widgets/controls",
      "model_module_version": "2.0.0",
      "model_name": "ProgressStyleModel",
      "state": {
       "_model_module": "@jupyter-widgets/controls",
       "_model_module_version": "2.0.0",
       "_model_name": "ProgressStyleModel",
       "_view_count": null,
       "_view_module": "@jupyter-widgets/base",
       "_view_module_version": "2.0.0",
       "_view_name": "StyleView",
       "bar_color": null,
       "description_width": ""
      }
     },
     "fc717da2cfc6442b998e7639722fee15": {
      "model_module": "@jupyter-widgets/base",
      "model_module_version": "2.0.0",
      "model_name": "LayoutModel",
      "state": {
       "_model_module": "@jupyter-widgets/base",
       "_model_module_version": "2.0.0",
       "_model_name": "LayoutModel",
       "_view_count": null,
       "_view_module": "@jupyter-widgets/base",
       "_view_module_version": "2.0.0",
       "_view_name": "LayoutView",
       "align_content": null,
       "align_items": null,
       "align_self": null,
       "border_bottom": null,
       "border_left": null,
       "border_right": null,
       "border_top": null,
       "bottom": null,
       "display": null,
       "flex": null,
       "flex_flow": null,
       "grid_area": null,
       "grid_auto_columns": null,
       "grid_auto_flow": null,
       "grid_auto_rows": null,
       "grid_column": null,
       "grid_gap": null,
       "grid_row": null,
       "grid_template_areas": null,
       "grid_template_columns": null,
       "grid_template_rows": null,
       "height": null,
       "justify_content": null,
       "justify_items": null,
       "left": null,
       "margin": null,
       "max_height": null,
       "max_width": null,
       "min_height": null,
       "min_width": null,
       "object_fit": null,
       "object_position": null,
       "order": null,
       "overflow": null,
       "padding": null,
       "right": null,
       "top": null,
       "visibility": null,
       "width": null
      }
     },
     "fd726a1a80f64cad8743755f38c79504": {
      "model_module": "@jupyter-widgets/controls",
      "model_module_version": "2.0.0",
      "model_name": "ProgressStyleModel",
      "state": {
       "_model_module": "@jupyter-widgets/controls",
       "_model_module_version": "2.0.0",
       "_model_name": "ProgressStyleModel",
       "_view_count": null,
       "_view_module": "@jupyter-widgets/base",
       "_view_module_version": "2.0.0",
       "_view_name": "StyleView",
       "bar_color": null,
       "description_width": ""
      }
     }
    },
    "version_major": 2,
    "version_minor": 0
   }
  }
 },
 "nbformat": 4,
 "nbformat_minor": 5
}
