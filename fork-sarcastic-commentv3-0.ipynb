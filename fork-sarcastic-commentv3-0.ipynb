{
 "cells": [
  {
   "cell_type": "code",
   "execution_count": 1,
   "id": "a79988a6",
   "metadata": {
    "_cell_guid": "b1076dfc-b9ad-4769-8c92-a6c4dae69d19",
    "_uuid": "8f2839f25d086af736a60e9eeb907d3b93b6e0e5",
    "execution": {
     "iopub.execute_input": "2025-02-22T12:51:52.738770Z",
     "iopub.status.busy": "2025-02-22T12:51:52.738522Z",
     "iopub.status.idle": "2025-02-22T12:51:53.907620Z",
     "shell.execute_reply": "2025-02-22T12:51:53.906887Z"
    },
    "papermill": {
     "duration": 1.183378,
     "end_time": "2025-02-22T12:51:53.909368",
     "exception": false,
     "start_time": "2025-02-22T12:51:52.725990",
     "status": "completed"
    },
    "tags": []
   },
   "outputs": [],
   "source": [
    "# This Python 3 environment comes with many helpful analytics libraries installed\n",
    "# It is defined by the kaggle/python Docker image: https://github.com/kaggle/docker-python\n",
    "# For example, here's several helpful packages to load\n",
    "\n",
    "import numpy as np # linear algebra\n",
    "import pandas as pd # data processing, CSV file I/O (e.g. pd.read_csv)\n",
    "\n",
    "# Input data files are available in the read-only \"../input/\" directory\n",
    "# For example, running this (by clicking run or pressing Shift+Enter) will list all files under the input directory\n",
    "\n",
    "import os\n",
    "# for dirname, _, filenames in os.walk('/kaggle/input'):\n",
    "#     for filename in filenames:\n",
    "#         print(os.path.join(dirname, filename))\n",
    "\n",
    "# # You can write up to 20GB to the current directory (/kaggle/working/) that gets preserved as output when you create a version using \"Save & Run All\" \n",
    "# # You can also write temporary files to /kaggle/temp/, but they won't be saved outside of the current session"
   ]
  },
  {
   "cell_type": "markdown",
   "id": "8d2032e0",
   "metadata": {
    "papermill": {
     "duration": 0.012722,
     "end_time": "2025-02-22T12:51:53.933031",
     "exception": false,
     "start_time": "2025-02-22T12:51:53.920309",
     "status": "completed"
    },
    "tags": []
   },
   "source": [
    "## Import the Dataset"
   ]
  },
  {
   "cell_type": "code",
   "execution_count": 2,
   "id": "c0d93824",
   "metadata": {
    "execution": {
     "iopub.execute_input": "2025-02-22T12:51:53.959961Z",
     "iopub.status.busy": "2025-02-22T12:51:53.959378Z",
     "iopub.status.idle": "2025-02-22T12:51:56.550750Z",
     "shell.execute_reply": "2025-02-22T12:51:56.549919Z"
    },
    "papermill": {
     "duration": 2.605761,
     "end_time": "2025-02-22T12:51:56.552391",
     "exception": false,
     "start_time": "2025-02-22T12:51:53.946630",
     "status": "completed"
    },
    "tags": []
   },
   "outputs": [
    {
     "data": {
      "text/html": [
       "<div>\n",
       "<style scoped>\n",
       "    .dataframe tbody tr th:only-of-type {\n",
       "        vertical-align: middle;\n",
       "    }\n",
       "\n",
       "    .dataframe tbody tr th {\n",
       "        vertical-align: top;\n",
       "    }\n",
       "\n",
       "    .dataframe thead th {\n",
       "        text-align: right;\n",
       "    }\n",
       "</style>\n",
       "<table border=\"1\" class=\"dataframe\">\n",
       "  <thead>\n",
       "    <tr style=\"text-align: right;\">\n",
       "      <th></th>\n",
       "      <th>id</th>\n",
       "      <th>Text</th>\n",
       "      <th>Polarity</th>\n",
       "    </tr>\n",
       "  </thead>\n",
       "  <tbody>\n",
       "    <tr>\n",
       "      <th>0</th>\n",
       "      <td>0</td>\n",
       "      <td>শুধু মাত্র এই পোস্টে কমেন্ট করার জন্য বাড়ির এ...</td>\n",
       "      <td>1</td>\n",
       "    </tr>\n",
       "    <tr>\n",
       "      <th>1</th>\n",
       "      <td>2</td>\n",
       "      <td>সাথে আছে বুক ভরা চুল ।</td>\n",
       "      <td>1</td>\n",
       "    </tr>\n",
       "    <tr>\n",
       "      <th>2</th>\n",
       "      <td>4</td>\n",
       "      <td>ভাই মিথ্যা কথা বইলেন না আপনি ভিপিএন ইউজ করে পো...</td>\n",
       "      <td>1</td>\n",
       "    </tr>\n",
       "  </tbody>\n",
       "</table>\n",
       "</div>"
      ],
      "text/plain": [
       "   id                                               Text  Polarity\n",
       "0   0  শুধু মাত্র এই পোস্টে কমেন্ট করার জন্য বাড়ির এ...         1\n",
       "1   2                             সাথে আছে বুক ভরা চুল ।         1\n",
       "2   4  ভাই মিথ্যা কথা বইলেন না আপনি ভিপিএন ইউজ করে পো...         1"
      ]
     },
     "execution_count": 2,
     "metadata": {},
     "output_type": "execute_result"
    }
   ],
   "source": [
    "df = pd.read_excel('/kaggle/input/sarcasm/Ben-Sarc_ Bengali Sarcasm Detection Corpus.xlsx')\n",
    "\n",
    "df.head(3)"
   ]
  },
  {
   "cell_type": "code",
   "execution_count": 3,
   "id": "42db34b2",
   "metadata": {
    "execution": {
     "iopub.execute_input": "2025-02-22T12:51:56.574038Z",
     "iopub.status.busy": "2025-02-22T12:51:56.573644Z",
     "iopub.status.idle": "2025-02-22T12:51:56.585733Z",
     "shell.execute_reply": "2025-02-22T12:51:56.584870Z"
    },
    "papermill": {
     "duration": 0.023748,
     "end_time": "2025-02-22T12:51:56.587129",
     "exception": false,
     "start_time": "2025-02-22T12:51:56.563381",
     "status": "completed"
    },
    "tags": []
   },
   "outputs": [
    {
     "data": {
      "text/html": [
       "<div>\n",
       "<style scoped>\n",
       "    .dataframe tbody tr th:only-of-type {\n",
       "        vertical-align: middle;\n",
       "    }\n",
       "\n",
       "    .dataframe tbody tr th {\n",
       "        vertical-align: top;\n",
       "    }\n",
       "\n",
       "    .dataframe thead th {\n",
       "        text-align: right;\n",
       "    }\n",
       "</style>\n",
       "<table border=\"1\" class=\"dataframe\">\n",
       "  <thead>\n",
       "    <tr style=\"text-align: right;\">\n",
       "      <th></th>\n",
       "      <th>id</th>\n",
       "      <th>text</th>\n",
       "      <th>label</th>\n",
       "    </tr>\n",
       "  </thead>\n",
       "  <tbody>\n",
       "    <tr>\n",
       "      <th>0</th>\n",
       "      <td>0</td>\n",
       "      <td>শুধু মাত্র এই পোস্টে কমেন্ট করার জন্য বাড়ির এ...</td>\n",
       "      <td>1</td>\n",
       "    </tr>\n",
       "    <tr>\n",
       "      <th>1</th>\n",
       "      <td>2</td>\n",
       "      <td>সাথে আছে বুক ভরা চুল ।</td>\n",
       "      <td>1</td>\n",
       "    </tr>\n",
       "    <tr>\n",
       "      <th>2</th>\n",
       "      <td>4</td>\n",
       "      <td>ভাই মিথ্যা কথা বইলেন না আপনি ভিপিএন ইউজ করে পো...</td>\n",
       "      <td>1</td>\n",
       "    </tr>\n",
       "  </tbody>\n",
       "</table>\n",
       "</div>"
      ],
      "text/plain": [
       "   id                                               text  label\n",
       "0   0  শুধু মাত্র এই পোস্টে কমেন্ট করার জন্য বাড়ির এ...      1\n",
       "1   2                             সাথে আছে বুক ভরা চুল ।      1\n",
       "2   4  ভাই মিথ্যা কথা বইলেন না আপনি ভিপিএন ইউজ করে পো...      1"
      ]
     },
     "execution_count": 3,
     "metadata": {},
     "output_type": "execute_result"
    }
   ],
   "source": [
    "df.rename(columns={\"Text\": \"text\"}, inplace=True)\n",
    "df.rename(columns={\"Polarity\": \"label\"}, inplace=True)\n",
    "\n",
    "df.head(3)"
   ]
  },
  {
   "cell_type": "markdown",
   "id": "12f52baa",
   "metadata": {
    "papermill": {
     "duration": 0.009697,
     "end_time": "2025-02-22T12:51:56.607666",
     "exception": false,
     "start_time": "2025-02-22T12:51:56.597969",
     "status": "completed"
    },
    "tags": []
   },
   "source": [
    "## Apply Normalizer"
   ]
  },
  {
   "cell_type": "code",
   "execution_count": 4,
   "id": "c475ff5a",
   "metadata": {
    "execution": {
     "iopub.execute_input": "2025-02-22T12:51:56.627781Z",
     "iopub.status.busy": "2025-02-22T12:51:56.627506Z",
     "iopub.status.idle": "2025-02-22T12:52:09.182346Z",
     "shell.execute_reply": "2025-02-22T12:52:09.181298Z"
    },
    "papermill": {
     "duration": 12.566427,
     "end_time": "2025-02-22T12:52:09.183668",
     "exception": false,
     "start_time": "2025-02-22T12:51:56.617241",
     "status": "completed"
    },
    "tags": []
   },
   "outputs": [
    {
     "name": "stdout",
     "output_type": "stream",
     "text": [
      "Collecting git+https://github.com/csebuetnlp/normalizer\r\n",
      "  Cloning https://github.com/csebuetnlp/normalizer to /tmp/pip-req-build-2sh2k46w\r\n",
      "  Running command git clone --filter=blob:none --quiet https://github.com/csebuetnlp/normalizer /tmp/pip-req-build-2sh2k46w\r\n",
      "  Resolved https://github.com/csebuetnlp/normalizer to commit d405944dde5ceeacb7c2fd3245ae2a9dea5f35c9\r\n",
      "  Preparing metadata (setup.py) ... \u001b[?25l\u001b[?25hdone\r\n",
      "Requirement already satisfied: regex in /usr/local/lib/python3.10/dist-packages (from normalizer==0.0.1) (2024.9.11)\r\n",
      "Collecting emoji==1.4.2 (from normalizer==0.0.1)\r\n",
      "  Downloading emoji-1.4.2.tar.gz (184 kB)\r\n",
      "\u001b[2K     \u001b[90m━━━━━━━━━━━━━━━━━━━━━━━━━━━━━━━━━━━━━━━━\u001b[0m \u001b[32m185.0/185.0 kB\u001b[0m \u001b[31m4.0 MB/s\u001b[0m eta \u001b[36m0:00:00\u001b[0m\r\n",
      "\u001b[?25h  Preparing metadata (setup.py) ... \u001b[?25l\u001b[?25hdone\r\n",
      "Collecting ftfy==6.0.3 (from normalizer==0.0.1)\r\n",
      "  Downloading ftfy-6.0.3.tar.gz (64 kB)\r\n",
      "\u001b[2K     \u001b[90m━━━━━━━━━━━━━━━━━━━━━━━━━━━━━━━━━━━━━━━━\u001b[0m \u001b[32m64.2/64.2 kB\u001b[0m \u001b[31m3.2 MB/s\u001b[0m eta \u001b[36m0:00:00\u001b[0m\r\n",
      "\u001b[?25h  Preparing metadata (setup.py) ... \u001b[?25l\u001b[?25hdone\r\n",
      "Requirement already satisfied: wcwidth in /usr/local/lib/python3.10/dist-packages (from ftfy==6.0.3->normalizer==0.0.1) (0.2.13)\r\n",
      "Building wheels for collected packages: normalizer, emoji, ftfy\r\n",
      "  Building wheel for normalizer (setup.py) ... \u001b[?25l\u001b[?25hdone\r\n",
      "  Created wheel for normalizer: filename=normalizer-0.0.1-py3-none-any.whl size=6860 sha256=365c82cfb0b1f5d05f4bb24cee89f561ea76430b44cc9a0f0bb578513b82ddea\r\n",
      "  Stored in directory: /tmp/pip-ephem-wheel-cache-qyzv10ft/wheels/2e/79/9c/cd96d490298305d51d2da11484bb2c25fd1f759a6906708282\r\n",
      "  Building wheel for emoji (setup.py) ... \u001b[?25l\u001b[?25hdone\r\n",
      "  Created wheel for emoji: filename=emoji-1.4.2-py3-none-any.whl size=186456 sha256=682dd65fe61e73e7c1cb90d6a66363c27715b96330f8f1123e21143ba4f9a56c\r\n",
      "  Stored in directory: /root/.cache/pip/wheels/10/f0/fd/4813b1177405693e8da9cdea839f0fb64fde161380e058c827\r\n",
      "  Building wheel for ftfy (setup.py) ... \u001b[?25l\u001b[?25hdone\r\n",
      "  Created wheel for ftfy: filename=ftfy-6.0.3-py3-none-any.whl size=41930 sha256=ff6e3f86d1b79da5d081372f6449603f8fd9cf7f482faa50c0f2329275a359cf\r\n",
      "  Stored in directory: /root/.cache/pip/wheels/92/8e/16/c1e4d4d65685d71085e4e27b44d6ed880b0559474c9ee4ff66\r\n",
      "Successfully built normalizer emoji ftfy\r\n",
      "Installing collected packages: emoji, ftfy, normalizer\r\n",
      "  Attempting uninstall: emoji\r\n",
      "    Found existing installation: emoji 2.14.0\r\n",
      "    Uninstalling emoji-2.14.0:\r\n",
      "      Successfully uninstalled emoji-2.14.0\r\n",
      "Successfully installed emoji-1.4.2 ftfy-6.0.3 normalizer-0.0.1\r\n",
      "Note: you may need to restart the kernel to use updated packages.\n"
     ]
    }
   ],
   "source": [
    "pip install git+https://github.com/csebuetnlp/normalizer"
   ]
  },
  {
   "cell_type": "code",
   "execution_count": 5,
   "id": "45f42bdf",
   "metadata": {
    "execution": {
     "iopub.execute_input": "2025-02-22T12:52:09.207847Z",
     "iopub.status.busy": "2025-02-22T12:52:09.207572Z",
     "iopub.status.idle": "2025-02-22T12:52:13.879490Z",
     "shell.execute_reply": "2025-02-22T12:52:13.878445Z"
    },
    "papermill": {
     "duration": 4.685579,
     "end_time": "2025-02-22T12:52:13.880936",
     "exception": false,
     "start_time": "2025-02-22T12:52:09.195357",
     "status": "completed"
    },
    "tags": []
   },
   "outputs": [
    {
     "name": "stderr",
     "output_type": "stream",
     "text": [
      "100%|██████████| 25636/25636 [00:04<00:00, 5710.69it/s]\n"
     ]
    }
   ],
   "source": [
    "from normalizer import normalize \n",
    "from tqdm import tqdm\n",
    "\n",
    "tqdm.pandas()\n",
    "df['text'] = df['text'].progress_apply(normalize)"
   ]
  },
  {
   "cell_type": "code",
   "execution_count": 6,
   "id": "1e939474",
   "metadata": {
    "execution": {
     "iopub.execute_input": "2025-02-22T12:52:13.909765Z",
     "iopub.status.busy": "2025-02-22T12:52:13.909516Z",
     "iopub.status.idle": "2025-02-22T12:52:13.996553Z",
     "shell.execute_reply": "2025-02-22T12:52:13.995637Z"
    },
    "papermill": {
     "duration": 0.102775,
     "end_time": "2025-02-22T12:52:13.997926",
     "exception": false,
     "start_time": "2025-02-22T12:52:13.895151",
     "status": "completed"
    },
    "tags": []
   },
   "outputs": [
    {
     "name": "stderr",
     "output_type": "stream",
     "text": [
      "100%|██████████| 25636/25636 [00:00<00:00, 324136.57it/s]\n"
     ]
    }
   ],
   "source": [
    "df['rtext'] = df['text'].progress_apply(lambda x: ' '.join(x.split()[::-1]))"
   ]
  },
  {
   "cell_type": "code",
   "execution_count": 7,
   "id": "9d65fad2",
   "metadata": {
    "execution": {
     "iopub.execute_input": "2025-02-22T12:52:14.026534Z",
     "iopub.status.busy": "2025-02-22T12:52:14.026293Z",
     "iopub.status.idle": "2025-02-22T12:52:14.031551Z",
     "shell.execute_reply": "2025-02-22T12:52:14.030829Z"
    },
    "papermill": {
     "duration": 0.020964,
     "end_time": "2025-02-22T12:52:14.032989",
     "exception": false,
     "start_time": "2025-02-22T12:52:14.012025",
     "status": "completed"
    },
    "tags": []
   },
   "outputs": [
    {
     "data": {
      "text/plain": [
       "('ভাই মিথ্যা কথা বইলেন না আপনি ভিপিএন ইউজ করে পোস্ট দিয়েছেন এবং আপনি রঙিন দুনিয়া দেখছেন না । কারণ আপনার ফ্রেম রঙিন হলেও গ্লাসটা কিন্তু কালো । আমি কিন্তু রঙিন দুনিয়ার একজন রঙমিস্ত্রি তাই বিষয়টি এড়িয়ে যেতে পারলাম না ।',\n",
       " 1)"
      ]
     },
     "execution_count": 7,
     "metadata": {},
     "output_type": "execute_result"
    }
   ],
   "source": [
    "ri = 2\n",
    "df['text'][ri], df['label'][ri]"
   ]
  },
  {
   "cell_type": "code",
   "execution_count": 8,
   "id": "4ebd72df",
   "metadata": {
    "execution": {
     "iopub.execute_input": "2025-02-22T12:52:14.062096Z",
     "iopub.status.busy": "2025-02-22T12:52:14.061821Z",
     "iopub.status.idle": "2025-02-22T12:52:14.073996Z",
     "shell.execute_reply": "2025-02-22T12:52:14.073135Z"
    },
    "papermill": {
     "duration": 0.028245,
     "end_time": "2025-02-22T12:52:14.075413",
     "exception": false,
     "start_time": "2025-02-22T12:52:14.047168",
     "status": "completed"
    },
    "tags": []
   },
   "outputs": [
    {
     "data": {
      "text/plain": [
       "label\n",
       "1    12818\n",
       "0    12818\n",
       "Name: count, dtype: int64"
      ]
     },
     "execution_count": 8,
     "metadata": {},
     "output_type": "execute_result"
    }
   ],
   "source": [
    "df.label.value_counts()"
   ]
  },
  {
   "cell_type": "code",
   "execution_count": 9,
   "id": "4cd6976b",
   "metadata": {
    "execution": {
     "iopub.execute_input": "2025-02-22T12:52:14.104004Z",
     "iopub.status.busy": "2025-02-22T12:52:14.103745Z",
     "iopub.status.idle": "2025-02-22T12:52:14.108282Z",
     "shell.execute_reply": "2025-02-22T12:52:14.107444Z"
    },
    "papermill": {
     "duration": 0.020101,
     "end_time": "2025-02-22T12:52:14.109591",
     "exception": false,
     "start_time": "2025-02-22T12:52:14.089490",
     "status": "completed"
    },
    "tags": []
   },
   "outputs": [
    {
     "data": {
      "text/plain": [
       "(25636, 4)"
      ]
     },
     "execution_count": 9,
     "metadata": {},
     "output_type": "execute_result"
    }
   ],
   "source": [
    "df.shape"
   ]
  },
  {
   "cell_type": "code",
   "execution_count": 10,
   "id": "21484c14",
   "metadata": {
    "execution": {
     "iopub.execute_input": "2025-02-22T12:52:14.137457Z",
     "iopub.status.busy": "2025-02-22T12:52:14.137220Z",
     "iopub.status.idle": "2025-02-22T12:52:16.064611Z",
     "shell.execute_reply": "2025-02-22T12:52:16.063571Z"
    },
    "papermill": {
     "duration": 1.943123,
     "end_time": "2025-02-22T12:52:16.066379",
     "exception": false,
     "start_time": "2025-02-22T12:52:14.123256",
     "status": "completed"
    },
    "tags": []
   },
   "outputs": [],
   "source": [
    "from sklearn.model_selection import train_test_split\n",
    "\n",
    "# Assume 'df' is your DataFrame and 'label_column' is the column you want to stratify on\n",
    "# df, _ = train_test_split(df, train_size=1000, stratify=df['label'], random_state=42)"
   ]
  },
  {
   "cell_type": "code",
   "execution_count": 11,
   "id": "9a787ba2",
   "metadata": {
    "execution": {
     "iopub.execute_input": "2025-02-22T12:52:16.097242Z",
     "iopub.status.busy": "2025-02-22T12:52:16.096777Z",
     "iopub.status.idle": "2025-02-22T12:52:16.106811Z",
     "shell.execute_reply": "2025-02-22T12:52:16.105789Z"
    },
    "papermill": {
     "duration": 0.026707,
     "end_time": "2025-02-22T12:52:16.108147",
     "exception": false,
     "start_time": "2025-02-22T12:52:16.081440",
     "status": "completed"
    },
    "tags": []
   },
   "outputs": [
    {
     "name": "stdout",
     "output_type": "stream",
     "text": [
      "(25636, 4)\n"
     ]
    },
    {
     "data": {
      "text/html": [
       "<div>\n",
       "<style scoped>\n",
       "    .dataframe tbody tr th:only-of-type {\n",
       "        vertical-align: middle;\n",
       "    }\n",
       "\n",
       "    .dataframe tbody tr th {\n",
       "        vertical-align: top;\n",
       "    }\n",
       "\n",
       "    .dataframe thead th {\n",
       "        text-align: right;\n",
       "    }\n",
       "</style>\n",
       "<table border=\"1\" class=\"dataframe\">\n",
       "  <thead>\n",
       "    <tr style=\"text-align: right;\">\n",
       "      <th></th>\n",
       "      <th>id</th>\n",
       "      <th>text</th>\n",
       "      <th>label</th>\n",
       "      <th>rtext</th>\n",
       "    </tr>\n",
       "  </thead>\n",
       "  <tbody>\n",
       "    <tr>\n",
       "      <th>0</th>\n",
       "      <td>0</td>\n",
       "      <td>শুধু মাত্র এই পোস্টে কমেন্ট করার জন্য বাড়ির এ...</td>\n",
       "      <td>1</td>\n",
       "      <td>ছিলাম বসে কিনে বি এম করে বিক্রি ঘোড়া পাড়া ডি...</td>\n",
       "    </tr>\n",
       "    <tr>\n",
       "      <th>1</th>\n",
       "      <td>2</td>\n",
       "      <td>সাথে আছে বুক ভরা চুল ।</td>\n",
       "      <td>1</td>\n",
       "      <td>। চুল ভরা বুক আছে সাথে</td>\n",
       "    </tr>\n",
       "    <tr>\n",
       "      <th>2</th>\n",
       "      <td>4</td>\n",
       "      <td>ভাই মিথ্যা কথা বইলেন না আপনি ভিপিএন ইউজ করে পো...</td>\n",
       "      <td>1</td>\n",
       "      <td>। না পারলাম যেতে এড়িয়ে বিষয়টি তাই রঙমিস্ত্র...</td>\n",
       "    </tr>\n",
       "  </tbody>\n",
       "</table>\n",
       "</div>"
      ],
      "text/plain": [
       "   id                                               text  label  \\\n",
       "0   0  শুধু মাত্র এই পোস্টে কমেন্ট করার জন্য বাড়ির এ...      1   \n",
       "1   2                             সাথে আছে বুক ভরা চুল ।      1   \n",
       "2   4  ভাই মিথ্যা কথা বইলেন না আপনি ভিপিএন ইউজ করে পো...      1   \n",
       "\n",
       "                                               rtext  \n",
       "0  ছিলাম বসে কিনে বি এম করে বিক্রি ঘোড়া পাড়া ডি...  \n",
       "1                             । চুল ভরা বুক আছে সাথে  \n",
       "2  । না পারলাম যেতে এড়িয়ে বিষয়টি তাই রঙমিস্ত্র...  "
      ]
     },
     "execution_count": 11,
     "metadata": {},
     "output_type": "execute_result"
    }
   ],
   "source": [
    "print(df.shape)\n",
    "df.head(3)"
   ]
  },
  {
   "cell_type": "markdown",
   "id": "bf9160fb",
   "metadata": {
    "papermill": {
     "duration": 0.013962,
     "end_time": "2025-02-22T12:52:16.136028",
     "exception": false,
     "start_time": "2025-02-22T12:52:16.122066",
     "status": "completed"
    },
    "tags": []
   },
   "source": [
    "## Training On MLM"
   ]
  },
  {
   "cell_type": "code",
   "execution_count": 12,
   "id": "290dab1d",
   "metadata": {
    "execution": {
     "iopub.execute_input": "2025-02-22T12:52:16.165513Z",
     "iopub.status.busy": "2025-02-22T12:52:16.165220Z",
     "iopub.status.idle": "2025-02-22T12:52:16.171549Z",
     "shell.execute_reply": "2025-02-22T12:52:16.170813Z"
    },
    "papermill": {
     "duration": 0.022671,
     "end_time": "2025-02-22T12:52:16.173035",
     "exception": false,
     "start_time": "2025-02-22T12:52:16.150364",
     "status": "completed"
    },
    "tags": []
   },
   "outputs": [
    {
     "name": "stdout",
     "output_type": "stream",
     "text": [
      "25636\n",
      "25636\n"
     ]
    }
   ],
   "source": [
    "sentences = df.text.values.tolist()\n",
    "\n",
    "labels = df.label.values.tolist()\n",
    "\n",
    "print(len(sentences))\n",
    "\n",
    "print(len(labels))"
   ]
  },
  {
   "cell_type": "code",
   "execution_count": 13,
   "id": "2e54b194",
   "metadata": {
    "execution": {
     "iopub.execute_input": "2025-02-22T12:52:16.202779Z",
     "iopub.status.busy": "2025-02-22T12:52:16.202542Z",
     "iopub.status.idle": "2025-02-22T12:52:16.207273Z",
     "shell.execute_reply": "2025-02-22T12:52:16.206554Z"
    },
    "papermill": {
     "duration": 0.021025,
     "end_time": "2025-02-22T12:52:16.208542",
     "exception": false,
     "start_time": "2025-02-22T12:52:16.187517",
     "status": "completed"
    },
    "tags": []
   },
   "outputs": [
    {
     "data": {
      "text/plain": [
       "'শুধু মাত্র এই পোস্টে কমেন্ট করার জন্য বাড়ির এক মাত্র ডিম পাড়া ঘোড়া বিক্রি করে এম বি কিনে বসে ছিলাম'"
      ]
     },
     "execution_count": 13,
     "metadata": {},
     "output_type": "execute_result"
    }
   ],
   "source": [
    "sentences[0]"
   ]
  },
  {
   "cell_type": "code",
   "execution_count": 14,
   "id": "1574ad4c",
   "metadata": {
    "execution": {
     "iopub.execute_input": "2025-02-22T12:52:16.237745Z",
     "iopub.status.busy": "2025-02-22T12:52:16.237510Z",
     "iopub.status.idle": "2025-02-22T12:52:16.240469Z",
     "shell.execute_reply": "2025-02-22T12:52:16.239817Z"
    },
    "papermill": {
     "duration": 0.018686,
     "end_time": "2025-02-22T12:52:16.241635",
     "exception": false,
     "start_time": "2025-02-22T12:52:16.222949",
     "status": "completed"
    },
    "tags": []
   },
   "outputs": [],
   "source": [
    "# Specify the model path\n",
    "\n",
    "model_path = \"csebuetnlp/banglabert_large\"\n",
    "# model_path = \"csebuetnlp/banglabert\""
   ]
  },
  {
   "cell_type": "code",
   "execution_count": 15,
   "id": "fc35440b",
   "metadata": {
    "execution": {
     "iopub.execute_input": "2025-02-22T12:52:16.271430Z",
     "iopub.status.busy": "2025-02-22T12:52:16.271171Z",
     "iopub.status.idle": "2025-02-22T12:52:16.276298Z",
     "shell.execute_reply": "2025-02-22T12:52:16.275370Z"
    },
    "papermill": {
     "duration": 0.021222,
     "end_time": "2025-02-22T12:52:16.277510",
     "exception": false,
     "start_time": "2025-02-22T12:52:16.256288",
     "status": "completed"
    },
    "tags": []
   },
   "outputs": [],
   "source": [
    "# import os\n",
    "# os.environ[\"WANDB_DISABLED\"] = \"true\"\n",
    "# os.environ[\"WANDB_MODE\"] = \"disabled\"\n",
    "# os.environ[\"WANDB_SILENT\"] = \"true\"\n",
    "# os.environ[\"PYTORCH_CUDA_ALLOC_CONF\"] = \"expandable_segments:True\"\n",
    "\n",
    "# from transformers import (\n",
    "#     AutoModelForMaskedLM,\n",
    "#     AutoTokenizer,\n",
    "#     DataCollatorForLanguageModeling,\n",
    "#     Trainer,\n",
    "#     TrainingArguments\n",
    "# )\n",
    "\n",
    "# import torch\n",
    "# from datasets import Dataset\n",
    "# import gc\n",
    "\n",
    "# model_path = \"csebuetnlp/banglabert_large\"\n",
    "\n",
    "# # Dataset\n",
    "# dataset = Dataset.from_dict({\"text\": sentences[:500]})\n",
    "\n",
    "# # Tokenizer\n",
    "# tokenizer = AutoTokenizer.from_pretrained(model_path)\n",
    "\n",
    "# def tokenize_function(examples):\n",
    "#     return tokenizer(\n",
    "#         examples[\"text\"],\n",
    "#         padding=\"max_length\",\n",
    "#         truncation=True,\n",
    "#         max_length=32,  # Reduced\n",
    "#         return_special_tokens_mask=True\n",
    "#     )\n",
    "\n",
    "# tokenized_dataset = dataset.map(\n",
    "#     tokenize_function,\n",
    "#     batched=True,\n",
    "#     remove_columns=dataset.column_names\n",
    "# )\n",
    "\n",
    "# # Model and Data Collator\n",
    "# mlm_model = AutoModelForMaskedLM.from_pretrained(model_path)\n",
    "# data_collator = DataCollatorForLanguageModeling(\n",
    "#     tokenizer=tokenizer,\n",
    "#     mlm=True,\n",
    "#     mlm_probability=0.15\n",
    "# )\n",
    "\n",
    "# Epochs = 2\n",
    "\n",
    "# # Training Arguments\n",
    "# training_args = TrainingArguments(\n",
    "#     output_dir=\"./mlm_pretrained_model\",\n",
    "#     report_to=[],\n",
    "#     num_train_epochs=Epochs,  # Define Epochs earlier\n",
    "#     per_device_train_batch_size=8,  # Reduced\n",
    "#     gradient_accumulation_steps=2,\n",
    "#     save_strategy=\"no\",\n",
    "#     logging_strategy=\"epoch\",\n",
    "#     learning_rate=5e-5,\n",
    "#     weight_decay=0.01,\n",
    "#     fp16=True,  # Mixed precision\n",
    "# )\n",
    "\n",
    "# # Trainer\n",
    "# trainer = Trainer(\n",
    "#     model=mlm_model,\n",
    "#     args=training_args,\n",
    "#     train_dataset=tokenized_dataset,\n",
    "#     data_collator=data_collator,\n",
    "# )\n",
    "\n",
    "# # Train and Save\n",
    "# trainer.train()\n",
    "# trainer.save_model(\"./mlm_pretrained_model\")\n",
    "\n",
    "# # Clear memory\n",
    "# del mlm_model, trainer, tokenized_dataset, data_collator\n",
    "# gc.collect()\n",
    "# torch.cuda.empty_cache()\n",
    "\n",
    "# # Now proceed to your main BERT training code"
   ]
  },
  {
   "cell_type": "code",
   "execution_count": 16,
   "id": "f0498c77",
   "metadata": {
    "execution": {
     "iopub.execute_input": "2025-02-22T12:52:16.306384Z",
     "iopub.status.busy": "2025-02-22T12:52:16.306146Z",
     "iopub.status.idle": "2025-02-22T12:52:38.781545Z",
     "shell.execute_reply": "2025-02-22T12:52:38.780737Z"
    },
    "papermill": {
     "duration": 22.491797,
     "end_time": "2025-02-22T12:52:38.783328",
     "exception": false,
     "start_time": "2025-02-22T12:52:16.291531",
     "status": "completed"
    },
    "tags": []
   },
   "outputs": [],
   "source": [
    "# First, disable wandb\n",
    "\n",
    "import os\n",
    "os.environ[\"WANDB_DISABLED\"] = \"true\"\n",
    "os.environ[\"WANDB_MODE\"] = \"disabled\"\n",
    "os.environ[\"WANDB_SILENT\"] = \"true\"\n",
    "os.environ[\"PYTORCH_CUDA_ALLOC_CONF\"] = \"expandable_segments:True\"\n",
    "\n",
    "# Import required libraries\n",
    "from transformers import (\n",
    "    AutoModelForMaskedLM,\n",
    "    AutoTokenizer,\n",
    "    DataCollatorForLanguageModeling,\n",
    "    Trainer,\n",
    "    TrainingArguments\n",
    ")"
   ]
  },
  {
   "cell_type": "code",
   "execution_count": 17,
   "id": "b5f4b88a",
   "metadata": {
    "execution": {
     "iopub.execute_input": "2025-02-22T12:52:38.812302Z",
     "iopub.status.busy": "2025-02-22T12:52:38.811757Z",
     "iopub.status.idle": "2025-02-22T12:52:39.722475Z",
     "shell.execute_reply": "2025-02-22T12:52:39.721426Z"
    },
    "papermill": {
     "duration": 0.926495,
     "end_time": "2025-02-22T12:52:39.723983",
     "exception": false,
     "start_time": "2025-02-22T12:52:38.797488",
     "status": "completed"
    },
    "tags": []
   },
   "outputs": [
    {
     "data": {
      "application/vnd.jupyter.widget-view+json": {
       "model_id": "60093464a7ff412a9d5c2524096db900",
       "version_major": 2,
       "version_minor": 0
      },
      "text/plain": [
       "tokenizer_config.json:   0%|          | 0.00/119 [00:00<?, ?B/s]"
      ]
     },
     "metadata": {},
     "output_type": "display_data"
    },
    {
     "data": {
      "application/vnd.jupyter.widget-view+json": {
       "model_id": "236a792facf44d8b9d40a9d4a45340f6",
       "version_major": 2,
       "version_minor": 0
      },
      "text/plain": [
       "config.json:   0%|          | 0.00/880 [00:00<?, ?B/s]"
      ]
     },
     "metadata": {},
     "output_type": "display_data"
    },
    {
     "data": {
      "application/vnd.jupyter.widget-view+json": {
       "model_id": "b29a687f0d224ce39460d08d8b380528",
       "version_major": 2,
       "version_minor": 0
      },
      "text/plain": [
       "vocab.txt:   0%|          | 0.00/528k [00:00<?, ?B/s]"
      ]
     },
     "metadata": {},
     "output_type": "display_data"
    },
    {
     "data": {
      "application/vnd.jupyter.widget-view+json": {
       "model_id": "02558ab6e612403f8c695fb47455d23b",
       "version_major": 2,
       "version_minor": 0
      },
      "text/plain": [
       "special_tokens_map.json:   0%|          | 0.00/112 [00:00<?, ?B/s]"
      ]
     },
     "metadata": {},
     "output_type": "display_data"
    },
    {
     "name": "stderr",
     "output_type": "stream",
     "text": [
      "/usr/local/lib/python3.10/dist-packages/transformers/tokenization_utils_base.py:1601: FutureWarning: `clean_up_tokenization_spaces` was not set. It will be set to `True` by default. This behavior will be depracted in transformers v4.45, and will be then set to `False` by default. For more details check this issue: https://github.com/huggingface/transformers/issues/31884\n",
      "  warnings.warn(\n"
     ]
    }
   ],
   "source": [
    "import torch\n",
    "from datasets import Dataset\n",
    "\n",
    "# Prepare your text data\n",
    "# your_unlabeled_texts = df.parent_comm.values.tolist()\n",
    "\n",
    "# Create dataset\n",
    "# dataset = Dataset.from_dict({\"text\": sentences[:500]})\n",
    "dataset = Dataset.from_dict({\"text\": sentences})\n",
    "\n",
    "\n",
    "# Load tokenizer\n",
    "tokenizer = AutoTokenizer.from_pretrained(model_path)\n",
    "\n",
    "# Tokenize function\n",
    "def tokenize_function(examples):\n",
    "    return tokenizer(\n",
    "        examples[\"text\"],\n",
    "        padding=\"max_length\",\n",
    "        truncation=True,\n",
    "        max_length=64,\n",
    "        return_special_tokens_mask=True\n",
    ")"
   ]
  },
  {
   "cell_type": "code",
   "execution_count": 18,
   "id": "c8ae10ea",
   "metadata": {
    "execution": {
     "iopub.execute_input": "2025-02-22T12:52:39.754457Z",
     "iopub.status.busy": "2025-02-22T12:52:39.754183Z",
     "iopub.status.idle": "2025-02-22T12:52:39.765312Z",
     "shell.execute_reply": "2025-02-22T12:52:39.764227Z"
    },
    "papermill": {
     "duration": 0.028056,
     "end_time": "2025-02-22T12:52:39.766707",
     "exception": false,
     "start_time": "2025-02-22T12:52:39.738651",
     "status": "completed"
    },
    "tags": []
   },
   "outputs": [
    {
     "name": "stdout",
     "output_type": "stream",
     "text": [
      " Original:  শুধু মাত্র এই পোস্টে কমেন্ট করার জন্য বাড়ির এক মাত্র ডিম পাড়া ঘোড়া বিক্রি করে এম বি কিনে বসে ছিলাম\n",
      "Tokenized:  ['শুধু', 'মাত্র', 'এই', 'পোস্টে', 'কমেন্ট', 'করার', 'জন্য', 'বাড়ির', 'এক', 'মাত্র', 'ডিম', 'পাড়া', 'ঘোড়া', 'বিক্রি', 'করে', 'এম', 'বি', 'কিনে', 'বসে', 'ছিলাম']\n",
      "Token IDs:  [1289, 1768, 830, 12098, 8764, 1121, 900, 2095, 788, 1768, 5270, 9224, 8046, 3149, 792, 1611, 797, 3597, 1346, 3285]\n"
     ]
    }
   ],
   "source": [
    "# Print the original sentence.\n",
    "print(' Original: ', sentences[0])\n",
    "\n",
    "# Print the sentence split into tokens.\n",
    "print('Tokenized: ', tokenizer.tokenize(sentences[0]))\n",
    "\n",
    "# Print the sentence mapped to token ids.\n",
    "print('Token IDs: ', tokenizer.convert_tokens_to_ids(tokenizer.tokenize(sentences[0])))"
   ]
  },
  {
   "cell_type": "code",
   "execution_count": 19,
   "id": "6659ac21",
   "metadata": {
    "execution": {
     "iopub.execute_input": "2025-02-22T12:52:39.796488Z",
     "iopub.status.busy": "2025-02-22T12:52:39.796253Z",
     "iopub.status.idle": "2025-02-22T12:52:42.188776Z",
     "shell.execute_reply": "2025-02-22T12:52:42.187774Z"
    },
    "papermill": {
     "duration": 2.40911,
     "end_time": "2025-02-22T12:52:42.190447",
     "exception": false,
     "start_time": "2025-02-22T12:52:39.781337",
     "status": "completed"
    },
    "tags": []
   },
   "outputs": [
    {
     "data": {
      "application/vnd.jupyter.widget-view+json": {
       "model_id": "021ada6efaca47ba9aeddfbab75b4c94",
       "version_major": 2,
       "version_minor": 0
      },
      "text/plain": [
       "Map:   0%|          | 0/25636 [00:00<?, ? examples/s]"
      ]
     },
     "metadata": {},
     "output_type": "display_data"
    }
   ],
   "source": [
    "# Tokenize dataset\n",
    "tokenized_dataset = dataset.map(\n",
    "    tokenize_function,\n",
    "    batched=True,\n",
    "    remove_columns=dataset.column_names\n",
    ")"
   ]
  },
  {
   "cell_type": "markdown",
   "id": "1693345e",
   "metadata": {
    "papermill": {
     "duration": 0.01454,
     "end_time": "2025-02-22T12:52:42.220471",
     "exception": false,
     "start_time": "2025-02-22T12:52:42.205931",
     "status": "completed"
    },
    "tags": []
   },
   "source": [
    "## Load MLM Model"
   ]
  },
  {
   "cell_type": "code",
   "execution_count": 20,
   "id": "6baed90c",
   "metadata": {
    "execution": {
     "iopub.execute_input": "2025-02-22T12:52:42.250713Z",
     "iopub.status.busy": "2025-02-22T12:52:42.250407Z",
     "iopub.status.idle": "2025-02-22T12:52:42.254812Z",
     "shell.execute_reply": "2025-02-22T12:52:42.253921Z"
    },
    "papermill": {
     "duration": 0.021113,
     "end_time": "2025-02-22T12:52:42.256311",
     "exception": false,
     "start_time": "2025-02-22T12:52:42.235198",
     "status": "completed"
    },
    "tags": []
   },
   "outputs": [
    {
     "name": "stdout",
     "output_type": "stream",
     "text": [
      "csebuetnlp/banglabert_large\n"
     ]
    }
   ],
   "source": [
    "print(model_path)"
   ]
  },
  {
   "cell_type": "code",
   "execution_count": 21,
   "id": "1c8c2464",
   "metadata": {
    "execution": {
     "iopub.execute_input": "2025-02-22T12:52:42.287730Z",
     "iopub.status.busy": "2025-02-22T12:52:42.287475Z",
     "iopub.status.idle": "2025-02-22T12:52:49.083710Z",
     "shell.execute_reply": "2025-02-22T12:52:49.082782Z"
    },
    "papermill": {
     "duration": 6.813735,
     "end_time": "2025-02-22T12:52:49.085284",
     "exception": false,
     "start_time": "2025-02-22T12:52:42.271549",
     "status": "completed"
    },
    "tags": []
   },
   "outputs": [
    {
     "data": {
      "application/vnd.jupyter.widget-view+json": {
       "model_id": "f5c44b845c3b4a268716e15e38fa095a",
       "version_major": 2,
       "version_minor": 0
      },
      "text/plain": [
       "pytorch_model.bin:   0%|          | 0.00/1.35G [00:00<?, ?B/s]"
      ]
     },
     "metadata": {},
     "output_type": "display_data"
    },
    {
     "name": "stderr",
     "output_type": "stream",
     "text": [
      "Some weights of ElectraForMaskedLM were not initialized from the model checkpoint at csebuetnlp/banglabert_large and are newly initialized: ['generator_lm_head.bias', 'generator_predictions.LayerNorm.bias', 'generator_predictions.LayerNorm.weight', 'generator_predictions.dense.bias', 'generator_predictions.dense.weight']\n",
      "You should probably TRAIN this model on a down-stream task to be able to use it for predictions and inference.\n"
     ]
    }
   ],
   "source": [
    "# Load model for MLM\n",
    "mlm_model = AutoModelForMaskedLM.from_pretrained(model_path)\n",
    "# Create data collator\n",
    "data_collator = DataCollatorForLanguageModeling(\n",
    "    tokenizer=tokenizer,\n",
    "    mlm=True,\n",
    "    mlm_probability=0.15\n",
    ")\n",
    "\n",
    "# mlm_model"
   ]
  },
  {
   "cell_type": "code",
   "execution_count": 22,
   "id": "a1ba97fb",
   "metadata": {
    "execution": {
     "iopub.execute_input": "2025-02-22T12:52:49.116009Z",
     "iopub.status.busy": "2025-02-22T12:52:49.115699Z",
     "iopub.status.idle": "2025-02-22T12:52:49.119158Z",
     "shell.execute_reply": "2025-02-22T12:52:49.118429Z"
    },
    "papermill": {
     "duration": 0.020292,
     "end_time": "2025-02-22T12:52:49.120512",
     "exception": false,
     "start_time": "2025-02-22T12:52:49.100220",
     "status": "completed"
    },
    "tags": []
   },
   "outputs": [],
   "source": [
    "Epochs = 5"
   ]
  },
  {
   "cell_type": "code",
   "execution_count": 23,
   "id": "7f996a0c",
   "metadata": {
    "execution": {
     "iopub.execute_input": "2025-02-22T12:52:49.151364Z",
     "iopub.status.busy": "2025-02-22T12:52:49.151146Z",
     "iopub.status.idle": "2025-02-22T12:52:49.309672Z",
     "shell.execute_reply": "2025-02-22T12:52:49.309004Z"
    },
    "papermill": {
     "duration": 0.175414,
     "end_time": "2025-02-22T12:52:49.311300",
     "exception": false,
     "start_time": "2025-02-22T12:52:49.135886",
     "status": "completed"
    },
    "tags": []
   },
   "outputs": [],
   "source": [
    "# Setup training arguments without automatic saving.\n",
    "training_args = TrainingArguments(\n",
    "    output_dir=\"./mlm_pretrained_model\",  # still required for logs etc.\n",
    "    report_to=[],                         # Disable all integrations\n",
    "    num_train_epochs=Epochs,\n",
    "    per_device_train_batch_size=16,\n",
    "    save_strategy=\"no\",                   # Disable automatic saving\n",
    "    logging_strategy=\"epoch\",\n",
    "    learning_rate=5e-5,\n",
    "    weight_decay=0.01,\n",
    ")"
   ]
  },
  {
   "cell_type": "code",
   "execution_count": 24,
   "id": "81888bd2",
   "metadata": {
    "execution": {
     "iopub.execute_input": "2025-02-22T12:52:49.342637Z",
     "iopub.status.busy": "2025-02-22T12:52:49.342353Z",
     "iopub.status.idle": "2025-02-22T12:52:50.055163Z",
     "shell.execute_reply": "2025-02-22T12:52:50.054355Z"
    },
    "papermill": {
     "duration": 0.730447,
     "end_time": "2025-02-22T12:52:50.056802",
     "exception": false,
     "start_time": "2025-02-22T12:52:49.326355",
     "status": "completed"
    },
    "tags": []
   },
   "outputs": [],
   "source": [
    "# Initialize trainer\n",
    "trainer = Trainer(\n",
    "    model=mlm_model,\n",
    "    args=training_args,\n",
    "    train_dataset=tokenized_dataset,\n",
    "    data_collator=data_collator,\n",
    ")"
   ]
  },
  {
   "cell_type": "code",
   "execution_count": 25,
   "id": "373091df",
   "metadata": {
    "execution": {
     "iopub.execute_input": "2025-02-22T12:52:50.087954Z",
     "iopub.status.busy": "2025-02-22T12:52:50.087689Z",
     "iopub.status.idle": "2025-02-22T14:01:24.838832Z",
     "shell.execute_reply": "2025-02-22T14:01:24.837476Z"
    },
    "papermill": {
     "duration": 4114.768381,
     "end_time": "2025-02-22T14:01:24.840870",
     "exception": false,
     "start_time": "2025-02-22T12:52:50.072489",
     "status": "completed"
    },
    "tags": []
   },
   "outputs": [
    {
     "name": "stderr",
     "output_type": "stream",
     "text": [
      "/usr/local/lib/python3.10/dist-packages/torch/nn/parallel/_functions.py:68: UserWarning: Was asked to gather along dimension 0, but all input tensors were scalars; will instead unsqueeze and return a vector.\n",
      "  warnings.warn('Was asked to gather along dimension 0, but all '\n"
     ]
    },
    {
     "data": {
      "text/html": [
       "\n",
       "    <div>\n",
       "      \n",
       "      <progress value='4010' max='4010' style='width:300px; height:20px; vertical-align: middle;'></progress>\n",
       "      [4010/4010 1:08:30, Epoch 5/5]\n",
       "    </div>\n",
       "    <table border=\"1\" class=\"dataframe\">\n",
       "  <thead>\n",
       " <tr style=\"text-align: left;\">\n",
       "      <th>Step</th>\n",
       "      <th>Training Loss</th>\n",
       "    </tr>\n",
       "  </thead>\n",
       "  <tbody>\n",
       "    <tr>\n",
       "      <td>802</td>\n",
       "      <td>7.327400</td>\n",
       "    </tr>\n",
       "    <tr>\n",
       "      <td>1604</td>\n",
       "      <td>6.118200</td>\n",
       "    </tr>\n",
       "    <tr>\n",
       "      <td>2406</td>\n",
       "      <td>5.628000</td>\n",
       "    </tr>\n",
       "    <tr>\n",
       "      <td>3208</td>\n",
       "      <td>5.306500</td>\n",
       "    </tr>\n",
       "    <tr>\n",
       "      <td>4010</td>\n",
       "      <td>5.087300</td>\n",
       "    </tr>\n",
       "  </tbody>\n",
       "</table><p>"
      ],
      "text/plain": [
       "<IPython.core.display.HTML object>"
      ]
     },
     "metadata": {},
     "output_type": "display_data"
    },
    {
     "data": {
      "text/plain": [
       "TrainOutput(global_step=4010, training_loss=5.893465981043485, metrics={'train_runtime': 4113.0983, 'train_samples_per_second': 31.164, 'train_steps_per_second': 0.975, 'total_flos': 1.493344524632064e+16, 'train_loss': 5.893465981043485, 'epoch': 5.0})"
      ]
     },
     "execution_count": 25,
     "metadata": {},
     "output_type": "execute_result"
    }
   ],
   "source": [
    "# Start Training\n",
    "trainer.train()"
   ]
  },
  {
   "cell_type": "code",
   "execution_count": 26,
   "id": "f38ff2a4",
   "metadata": {
    "execution": {
     "iopub.execute_input": "2025-02-22T14:01:24.873247Z",
     "iopub.status.busy": "2025-02-22T14:01:24.872830Z",
     "iopub.status.idle": "2025-02-22T14:01:28.018938Z",
     "shell.execute_reply": "2025-02-22T14:01:28.017893Z"
    },
    "papermill": {
     "duration": 3.16398,
     "end_time": "2025-02-22T14:01:28.020665",
     "exception": false,
     "start_time": "2025-02-22T14:01:24.856685",
     "status": "completed"
    },
    "tags": []
   },
   "outputs": [],
   "source": [
    "# Save the model\n",
    "\n",
    "import os\n",
    "import torch\n",
    "\n",
    "def save_model_contiguous(model, output_dir):\n",
    "    os.makedirs(output_dir, exist_ok=True)\n",
    "    state_dict = model.state_dict()\n",
    "    contiguous_state_dict = {k: v.contiguous() for k, v in state_dict.items()}\n",
    "    torch.save(contiguous_state_dict, os.path.join(output_dir, \"pytorch_model.bin\"))\n",
    "    # If your model has a configuration saved, also save it:\n",
    "    if hasattr(model, \"config\"):\n",
    "        model.config.save_pretrained(output_dir)\n",
    "    print(f\"Model saved to {output_dir} (all tensors are now contiguous)\")\n",
    "\n",
    "# Example usage:\n",
    "# output_dir = \"./mlm_pretrained_model\"\n",
    "# save_model_contiguous(mlm_model, output_dir)\n",
    "\n",
    "\n",
    "trainer.save_model(\"./mlm_pretrained_model\")"
   ]
  },
  {
   "cell_type": "code",
   "execution_count": 27,
   "id": "b9ef986e",
   "metadata": {
    "execution": {
     "iopub.execute_input": "2025-02-22T14:01:28.052431Z",
     "iopub.status.busy": "2025-02-22T14:01:28.052187Z",
     "iopub.status.idle": "2025-02-22T14:01:28.820383Z",
     "shell.execute_reply": "2025-02-22T14:01:28.819222Z"
    },
    "papermill": {
     "duration": 0.785322,
     "end_time": "2025-02-22T14:01:28.821927",
     "exception": false,
     "start_time": "2025-02-22T14:01:28.036605",
     "status": "completed"
    },
    "tags": []
   },
   "outputs": [
    {
     "name": "stdout",
     "output_type": "stream",
     "text": [
      "Before cleanup - Allocated: 3869.36 GiB, Reserved: 6758.00 GiB\n",
      "After cleanup - Allocated: 16.25 GiB, Reserved: 60.00 GiB\n"
     ]
    }
   ],
   "source": [
    "# Check memory before cleanup\n",
    "def print_gpu_memory(step=\"\"):\n",
    "    allocated = torch.cuda.memory_allocated() / 1024**2  # GiB\n",
    "    reserved = torch.cuda.memory_reserved() / 1024**2    # GiB\n",
    "    print(f\"{step} - Allocated: {allocated:.2f} GiB, Reserved: {reserved:.2f} GiB\")\n",
    "\n",
    "print_gpu_memory(\"Before cleanup\")\n",
    "\n",
    "# Clear memory\n",
    "del mlm_model\n",
    "del trainer\n",
    "del tokenized_dataset\n",
    "del data_collator\n",
    "import gc\n",
    "gc.collect()\n",
    "torch.cuda.empty_cache()\n",
    "\n",
    "print_gpu_memory(\"After cleanup\")\n",
    "\n",
    "# Now run your main training code\n",
    "# [Insert your main training code here]\n",
    "# print_gpu_memory(\"Before main training\")"
   ]
  },
  {
   "cell_type": "code",
   "execution_count": 28,
   "id": "68ee0a3c",
   "metadata": {
    "execution": {
     "iopub.execute_input": "2025-02-22T14:01:28.856623Z",
     "iopub.status.busy": "2025-02-22T14:01:28.856323Z",
     "iopub.status.idle": "2025-02-22T14:01:28.860469Z",
     "shell.execute_reply": "2025-02-22T14:01:28.859465Z"
    },
    "papermill": {
     "duration": 0.022787,
     "end_time": "2025-02-22T14:01:28.861821",
     "exception": false,
     "start_time": "2025-02-22T14:01:28.839034",
     "status": "completed"
    },
    "tags": []
   },
   "outputs": [],
   "source": [
    "# from transformers import AutoModelForSequenceClassification, AutoTokenizer\n",
    "\n",
    "# # Now you can load this for classification\n",
    "# model = AutoModelForSequenceClassification.from_pretrained(\n",
    "#     \"./mlm_pretrained_model\",\n",
    "#     num_labels=2,\n",
    "#     output_attentions=False,\n",
    "#     output_hidden_states=False,\n",
    "# )\n",
    "\n",
    "new_model_path = \"/kaggle/working/mlm_pretrained_model\""
   ]
  },
  {
   "cell_type": "code",
   "execution_count": 29,
   "id": "4fcd52f7",
   "metadata": {
    "execution": {
     "iopub.execute_input": "2025-02-22T14:01:28.895533Z",
     "iopub.status.busy": "2025-02-22T14:01:28.895277Z",
     "iopub.status.idle": "2025-02-22T14:01:28.898769Z",
     "shell.execute_reply": "2025-02-22T14:01:28.897830Z"
    },
    "papermill": {
     "duration": 0.021688,
     "end_time": "2025-02-22T14:01:28.900284",
     "exception": false,
     "start_time": "2025-02-22T14:01:28.878596",
     "status": "completed"
    },
    "tags": []
   },
   "outputs": [],
   "source": [
    "# import pandas as pd\n",
    "# import json\n",
    "\n",
    "# # Read the JSONL file\n",
    "# data_train = []\n",
    "# with open('/kaggle/input/sarcasm/sarcasm_detection_shared_task_reddit_training.jsonl', 'r') as f:\n",
    "#     for line in f:\n",
    "#         # Parse each line as JSON and append to list\n",
    "#         data_train.append(json.loads(line))\n",
    "# data_twitter_df = pd.DataFrame(data_train)\n",
    "# # Convert list of dictionaries to Data"
   ]
  },
  {
   "cell_type": "code",
   "execution_count": 30,
   "id": "6f076b6f",
   "metadata": {
    "execution": {
     "iopub.execute_input": "2025-02-22T14:01:28.931451Z",
     "iopub.status.busy": "2025-02-22T14:01:28.931230Z",
     "iopub.status.idle": "2025-02-22T14:01:28.934173Z",
     "shell.execute_reply": "2025-02-22T14:01:28.933501Z"
    },
    "papermill": {
     "duration": 0.019167,
     "end_time": "2025-02-22T14:01:28.935259",
     "exception": false,
     "start_time": "2025-02-22T14:01:28.916092",
     "status": "completed"
    },
    "tags": []
   },
   "outputs": [],
   "source": [
    "# data_twitter_df['label']=data_twitter_df['label'].map({'SARCASM':0,'NOT_SARCASM':1})\n",
    "# data_twitter_df=data_twitter_df.rename(columns={'context':'parent_comment','response':'comment'})"
   ]
  },
  {
   "cell_type": "code",
   "execution_count": 31,
   "id": "934611d4",
   "metadata": {
    "execution": {
     "iopub.execute_input": "2025-02-22T14:01:28.965949Z",
     "iopub.status.busy": "2025-02-22T14:01:28.965693Z",
     "iopub.status.idle": "2025-02-22T14:01:28.968593Z",
     "shell.execute_reply": "2025-02-22T14:01:28.967993Z"
    },
    "papermill": {
     "duration": 0.018945,
     "end_time": "2025-02-22T14:01:28.969759",
     "exception": false,
     "start_time": "2025-02-22T14:01:28.950814",
     "status": "completed"
    },
    "tags": []
   },
   "outputs": [],
   "source": [
    "# data_twitter_df.head(3)"
   ]
  },
  {
   "cell_type": "code",
   "execution_count": 32,
   "id": "c2f5d245",
   "metadata": {
    "execution": {
     "iopub.execute_input": "2025-02-22T14:01:28.999581Z",
     "iopub.status.busy": "2025-02-22T14:01:28.999381Z",
     "iopub.status.idle": "2025-02-22T14:01:29.002292Z",
     "shell.execute_reply": "2025-02-22T14:01:29.001620Z"
    },
    "papermill": {
     "duration": 0.019181,
     "end_time": "2025-02-22T14:01:29.003439",
     "exception": false,
     "start_time": "2025-02-22T14:01:28.984258",
     "status": "completed"
    },
    "tags": []
   },
   "outputs": [],
   "source": [
    "# data_twitter_df['comment']=data_twitter_df['comment'].astype(str)\n",
    "# data_twitter_df['parent_comment']=data_twitter_df['parent_comment'].astype(str)"
   ]
  },
  {
   "cell_type": "code",
   "execution_count": 33,
   "id": "466486e1",
   "metadata": {
    "execution": {
     "iopub.execute_input": "2025-02-22T14:01:29.033544Z",
     "iopub.status.busy": "2025-02-22T14:01:29.033320Z",
     "iopub.status.idle": "2025-02-22T14:01:29.040602Z",
     "shell.execute_reply": "2025-02-22T14:01:29.039674Z"
    },
    "papermill": {
     "duration": 0.023822,
     "end_time": "2025-02-22T14:01:29.041983",
     "exception": false,
     "start_time": "2025-02-22T14:01:29.018161",
     "status": "completed"
    },
    "tags": []
   },
   "outputs": [],
   "source": [
    "import torch\n",
    "from torch.utils.data import Dataset\n",
    "\n",
    "class MultiFeatureDataset(Dataset):\n",
    "    def __init__(self, dataframe, tokenizer, max_len):\n",
    "        self.tokenizer = tokenizer\n",
    "        self.data = dataframe\n",
    "        self.comment = dataframe['comment']\n",
    "        self.parent=dataframe['parent_comment']\n",
    "        self.labels = dataframe.label\n",
    "        self.max_len = max_len\n",
    "\n",
    "    def __len__(self):\n",
    "        return len(self.data)\n",
    "    \n",
    "    def __getitem__(self, index):\n",
    "        if index >= len(self.data):\n",
    "            raise IndexError(f\"Index {index} out of range\")\n",
    "        comment = str(self.comment.iloc[index])\n",
    "        parent = str(self.parent.iloc[index])\n",
    "        label = self.labels.iloc[index]\n",
    "\n",
    "\n",
    " \n",
    "        comment_encoding = self.tokenizer.encode_plus(\n",
    "            comment,\n",
    "            add_special_tokens=True,\n",
    "            max_length=self.max_len,\n",
    "            return_token_type_ids=False,\n",
    "            padding='max_length',\n",
    "            truncation=True,\n",
    "            return_attention_mask=True,\n",
    "            return_tensors='pt',\n",
    "        )\n",
    "\n",
    "        parent_encoding = self.tokenizer.encode_plus(\n",
    "            parent,\n",
    "            add_special_tokens=True,\n",
    "            max_length=self.max_len,\n",
    "            return_token_type_ids=False,\n",
    "            padding='max_length',\n",
    "            truncation=True,\n",
    "            return_attention_mask=True,\n",
    "            return_tensors='pt',\n",
    "        )\n",
    "\n",
    "        return {\n",
    "        'input_ids1': parent_encoding['input_ids'].flatten(),\n",
    "        'attention_mask1': parent_encoding['attention_mask'].flatten(),\n",
    "        'input_ids2': comment_encoding['input_ids'].flatten(),\n",
    "        'attention_mask2': comment_encoding['attention_mask'].flatten(),\n",
    "        'labels': torch.tensor(label, dtype=torch.long)\n",
    "    }"
   ]
  },
  {
   "cell_type": "code",
   "execution_count": 34,
   "id": "199ade25",
   "metadata": {
    "execution": {
     "iopub.execute_input": "2025-02-22T14:01:29.073180Z",
     "iopub.status.busy": "2025-02-22T14:01:29.072951Z",
     "iopub.status.idle": "2025-02-22T14:01:29.075922Z",
     "shell.execute_reply": "2025-02-22T14:01:29.075091Z"
    },
    "papermill": {
     "duration": 0.020266,
     "end_time": "2025-02-22T14:01:29.077167",
     "exception": false,
     "start_time": "2025-02-22T14:01:29.056901",
     "status": "completed"
    },
    "tags": []
   },
   "outputs": [],
   "source": [
    "# print(data_twitter_df.shape)\n",
    "# data_twitter_df.head(3)"
   ]
  },
  {
   "cell_type": "code",
   "execution_count": 35,
   "id": "83d139ae",
   "metadata": {
    "execution": {
     "iopub.execute_input": "2025-02-22T14:01:29.107945Z",
     "iopub.status.busy": "2025-02-22T14:01:29.107636Z",
     "iopub.status.idle": "2025-02-22T14:01:29.117052Z",
     "shell.execute_reply": "2025-02-22T14:01:29.116314Z"
    },
    "papermill": {
     "duration": 0.026081,
     "end_time": "2025-02-22T14:01:29.118359",
     "exception": false,
     "start_time": "2025-02-22T14:01:29.092278",
     "status": "completed"
    },
    "tags": []
   },
   "outputs": [
    {
     "data": {
      "text/html": [
       "<div>\n",
       "<style scoped>\n",
       "    .dataframe tbody tr th:only-of-type {\n",
       "        vertical-align: middle;\n",
       "    }\n",
       "\n",
       "    .dataframe tbody tr th {\n",
       "        vertical-align: top;\n",
       "    }\n",
       "\n",
       "    .dataframe thead th {\n",
       "        text-align: right;\n",
       "    }\n",
       "</style>\n",
       "<table border=\"1\" class=\"dataframe\">\n",
       "  <thead>\n",
       "    <tr style=\"text-align: right;\">\n",
       "      <th></th>\n",
       "      <th>id</th>\n",
       "      <th>parent_comment</th>\n",
       "      <th>label</th>\n",
       "      <th>comment</th>\n",
       "    </tr>\n",
       "  </thead>\n",
       "  <tbody>\n",
       "    <tr>\n",
       "      <th>0</th>\n",
       "      <td>0</td>\n",
       "      <td>শুধু মাত্র এই পোস্টে কমেন্ট করার জন্য বাড়ির এ...</td>\n",
       "      <td>1</td>\n",
       "      <td>ছিলাম বসে কিনে বি এম করে বিক্রি ঘোড়া পাড়া ডি...</td>\n",
       "    </tr>\n",
       "    <tr>\n",
       "      <th>1</th>\n",
       "      <td>2</td>\n",
       "      <td>সাথে আছে বুক ভরা চুল ।</td>\n",
       "      <td>1</td>\n",
       "      <td>। চুল ভরা বুক আছে সাথে</td>\n",
       "    </tr>\n",
       "    <tr>\n",
       "      <th>2</th>\n",
       "      <td>4</td>\n",
       "      <td>ভাই মিথ্যা কথা বইলেন না আপনি ভিপিএন ইউজ করে পো...</td>\n",
       "      <td>1</td>\n",
       "      <td>। না পারলাম যেতে এড়িয়ে বিষয়টি তাই রঙমিস্ত্র...</td>\n",
       "    </tr>\n",
       "  </tbody>\n",
       "</table>\n",
       "</div>"
      ],
      "text/plain": [
       "   id                                     parent_comment  label  \\\n",
       "0   0  শুধু মাত্র এই পোস্টে কমেন্ট করার জন্য বাড়ির এ...      1   \n",
       "1   2                             সাথে আছে বুক ভরা চুল ।      1   \n",
       "2   4  ভাই মিথ্যা কথা বইলেন না আপনি ভিপিএন ইউজ করে পো...      1   \n",
       "\n",
       "                                             comment  \n",
       "0  ছিলাম বসে কিনে বি এম করে বিক্রি ঘোড়া পাড়া ডি...  \n",
       "1                             । চুল ভরা বুক আছে সাথে  \n",
       "2  । না পারলাম যেতে এড়িয়ে বিষয়টি তাই রঙমিস্ত্র...  "
      ]
     },
     "execution_count": 35,
     "metadata": {},
     "output_type": "execute_result"
    }
   ],
   "source": [
    "# df.rename(columns={\"Polarity\": \"label\"}, inplace=True)\n",
    "df.rename(columns={\"text\": \"parent_comment\"}, inplace=True)\n",
    "df.rename(columns={\"rtext\": \"comment\"}, inplace=True)\n",
    "\n",
    "df.head(3)"
   ]
  },
  {
   "cell_type": "code",
   "execution_count": 36,
   "id": "48e387d8",
   "metadata": {
    "execution": {
     "iopub.execute_input": "2025-02-22T14:01:29.149211Z",
     "iopub.status.busy": "2025-02-22T14:01:29.148990Z",
     "iopub.status.idle": "2025-02-22T14:01:29.155214Z",
     "shell.execute_reply": "2025-02-22T14:01:29.154559Z"
    },
    "papermill": {
     "duration": 0.022956,
     "end_time": "2025-02-22T14:01:29.156595",
     "exception": false,
     "start_time": "2025-02-22T14:01:29.133639",
     "status": "completed"
    },
    "tags": []
   },
   "outputs": [],
   "source": [
    "data_twitter_df = df.copy()"
   ]
  },
  {
   "cell_type": "code",
   "execution_count": 37,
   "id": "8bef7e7b",
   "metadata": {
    "execution": {
     "iopub.execute_input": "2025-02-22T14:01:29.189575Z",
     "iopub.status.busy": "2025-02-22T14:01:29.189343Z",
     "iopub.status.idle": "2025-02-22T14:01:29.215478Z",
     "shell.execute_reply": "2025-02-22T14:01:29.214878Z"
    },
    "papermill": {
     "duration": 0.043613,
     "end_time": "2025-02-22T14:01:29.216701",
     "exception": false,
     "start_time": "2025-02-22T14:01:29.173088",
     "status": "completed"
    },
    "tags": []
   },
   "outputs": [],
   "source": [
    "n_samples = 1000  # Change this as needed\n",
    "\n",
    "sampled_df = data_twitter_df.sample(n=n_samples, random_state=42) if len(data_twitter_df) > n_samples else data_twitter_df"
   ]
  },
  {
   "cell_type": "code",
   "execution_count": 38,
   "id": "fcbef662",
   "metadata": {
    "execution": {
     "iopub.execute_input": "2025-02-22T14:01:29.249207Z",
     "iopub.status.busy": "2025-02-22T14:01:29.248841Z",
     "iopub.status.idle": "2025-02-22T14:01:29.263597Z",
     "shell.execute_reply": "2025-02-22T14:01:29.262698Z"
    },
    "papermill": {
     "duration": 0.03248,
     "end_time": "2025-02-22T14:01:29.265036",
     "exception": false,
     "start_time": "2025-02-22T14:01:29.232556",
     "status": "completed"
    },
    "tags": []
   },
   "outputs": [
    {
     "name": "stdout",
     "output_type": "stream",
     "text": [
      "20508 5128\n"
     ]
    }
   ],
   "source": [
    "from sklearn.model_selection import train_test_split\n",
    "\n",
    "train_df, eval_df = train_test_split(data_twitter_df, test_size=0.2, random_state=42, stratify=data_twitter_df['label'])\n",
    "\n",
    "print(len(train_df), len(eval_df))"
   ]
  },
  {
   "cell_type": "code",
   "execution_count": 39,
   "id": "ae394d87",
   "metadata": {
    "execution": {
     "iopub.execute_input": "2025-02-22T14:01:29.297754Z",
     "iopub.status.busy": "2025-02-22T14:01:29.297539Z",
     "iopub.status.idle": "2025-02-22T14:01:29.305536Z",
     "shell.execute_reply": "2025-02-22T14:01:29.304648Z"
    },
    "papermill": {
     "duration": 0.025718,
     "end_time": "2025-02-22T14:01:29.306845",
     "exception": false,
     "start_time": "2025-02-22T14:01:29.281127",
     "status": "completed"
    },
    "tags": []
   },
   "outputs": [
    {
     "data": {
      "text/html": [
       "<div>\n",
       "<style scoped>\n",
       "    .dataframe tbody tr th:only-of-type {\n",
       "        vertical-align: middle;\n",
       "    }\n",
       "\n",
       "    .dataframe tbody tr th {\n",
       "        vertical-align: top;\n",
       "    }\n",
       "\n",
       "    .dataframe thead th {\n",
       "        text-align: right;\n",
       "    }\n",
       "</style>\n",
       "<table border=\"1\" class=\"dataframe\">\n",
       "  <thead>\n",
       "    <tr style=\"text-align: right;\">\n",
       "      <th></th>\n",
       "      <th>id</th>\n",
       "      <th>parent_comment</th>\n",
       "      <th>label</th>\n",
       "      <th>comment</th>\n",
       "    </tr>\n",
       "  </thead>\n",
       "  <tbody>\n",
       "    <tr>\n",
       "      <th>24108</th>\n",
       "      <td>24487</td>\n",
       "      <td>আমার ভাই এবং বাবাকে নিয়ে নােয়াখালী সদর থানায...</td>\n",
       "      <td>0</td>\n",
       "      <td>। পারেনি দিতে সন্ধান কোন আমাকে তারা চাইলে সন্ধ...</td>\n",
       "    </tr>\n",
       "    <tr>\n",
       "      <th>16703</th>\n",
       "      <td>11100</td>\n",
       "      <td>যদি ডট বল করাতে চাও তবে আমাকে ডাকো সুনীল নারিন...</td>\n",
       "      <td>0</td>\n",
       "      <td>। পানি বোতল এক ভিতর মরুভুমির । ছেলে সোনার আমাদ...</td>\n",
       "    </tr>\n",
       "    <tr>\n",
       "      <th>9138</th>\n",
       "      <td>22963</td>\n",
       "      <td>কেউ অক্সিজেন না পেয়ে মরে আর কেউ বিয়ে করে মরে ।</td>\n",
       "      <td>1</td>\n",
       "      <td>। মরে করে বিয়ে কেউ আর মরে পেয়ে না অক্সিজেন কেউ</td>\n",
       "    </tr>\n",
       "  </tbody>\n",
       "</table>\n",
       "</div>"
      ],
      "text/plain": [
       "          id                                     parent_comment  label  \\\n",
       "24108  24487  আমার ভাই এবং বাবাকে নিয়ে নােয়াখালী সদর থানায...      0   \n",
       "16703  11100  যদি ডট বল করাতে চাও তবে আমাকে ডাকো সুনীল নারিন...      0   \n",
       "9138   22963   কেউ অক্সিজেন না পেয়ে মরে আর কেউ বিয়ে করে মরে ।      1   \n",
       "\n",
       "                                                 comment  \n",
       "24108  । পারেনি দিতে সন্ধান কোন আমাকে তারা চাইলে সন্ধ...  \n",
       "16703  । পানি বোতল এক ভিতর মরুভুমির । ছেলে সোনার আমাদ...  \n",
       "9138    । মরে করে বিয়ে কেউ আর মরে পেয়ে না অক্সিজেন কেউ  "
      ]
     },
     "execution_count": 39,
     "metadata": {},
     "output_type": "execute_result"
    }
   ],
   "source": [
    "train_df.head(3)"
   ]
  },
  {
   "cell_type": "code",
   "execution_count": 40,
   "id": "6adeb601",
   "metadata": {
    "execution": {
     "iopub.execute_input": "2025-02-22T14:01:29.338394Z",
     "iopub.status.busy": "2025-02-22T14:01:29.338186Z",
     "iopub.status.idle": "2025-02-22T14:01:29.343957Z",
     "shell.execute_reply": "2025-02-22T14:01:29.343202Z"
    },
    "papermill": {
     "duration": 0.022972,
     "end_time": "2025-02-22T14:01:29.345284",
     "exception": false,
     "start_time": "2025-02-22T14:01:29.322312",
     "status": "completed"
    },
    "tags": []
   },
   "outputs": [
    {
     "data": {
      "text/plain": [
       "label\n",
       "0    10254\n",
       "1    10254\n",
       "Name: count, dtype: int64"
      ]
     },
     "execution_count": 40,
     "metadata": {},
     "output_type": "execute_result"
    }
   ],
   "source": [
    "train_df.label.value_counts()"
   ]
  },
  {
   "cell_type": "code",
   "execution_count": 41,
   "id": "a5989740",
   "metadata": {
    "execution": {
     "iopub.execute_input": "2025-02-22T14:01:29.377092Z",
     "iopub.status.busy": "2025-02-22T14:01:29.376817Z",
     "iopub.status.idle": "2025-02-22T14:01:29.382604Z",
     "shell.execute_reply": "2025-02-22T14:01:29.381705Z"
    },
    "papermill": {
     "duration": 0.023134,
     "end_time": "2025-02-22T14:01:29.383789",
     "exception": false,
     "start_time": "2025-02-22T14:01:29.360655",
     "status": "completed"
    },
    "tags": []
   },
   "outputs": [
    {
     "data": {
      "text/plain": [
       "label\n",
       "1    2564\n",
       "0    2564\n",
       "Name: count, dtype: int64"
      ]
     },
     "execution_count": 41,
     "metadata": {},
     "output_type": "execute_result"
    }
   ],
   "source": [
    "eval_df.label.value_counts()"
   ]
  },
  {
   "cell_type": "code",
   "execution_count": 42,
   "id": "f43089bd",
   "metadata": {
    "execution": {
     "iopub.execute_input": "2025-02-22T14:01:29.418219Z",
     "iopub.status.busy": "2025-02-22T14:01:29.417944Z",
     "iopub.status.idle": "2025-02-22T14:01:29.421253Z",
     "shell.execute_reply": "2025-02-22T14:01:29.420348Z"
    },
    "papermill": {
     "duration": 0.022529,
     "end_time": "2025-02-22T14:01:29.422727",
     "exception": false,
     "start_time": "2025-02-22T14:01:29.400198",
     "status": "completed"
    },
    "tags": []
   },
   "outputs": [],
   "source": [
    "# mlm_model.config.hidden_size"
   ]
  },
  {
   "cell_type": "code",
   "execution_count": 43,
   "id": "1b8cd381",
   "metadata": {
    "execution": {
     "iopub.execute_input": "2025-02-22T14:01:29.456740Z",
     "iopub.status.busy": "2025-02-22T14:01:29.456515Z",
     "iopub.status.idle": "2025-02-22T14:01:29.467563Z",
     "shell.execute_reply": "2025-02-22T14:01:29.466905Z"
    },
    "papermill": {
     "duration": 0.02914,
     "end_time": "2025-02-22T14:01:29.468815",
     "exception": false,
     "start_time": "2025-02-22T14:01:29.439675",
     "status": "completed"
    },
    "tags": []
   },
   "outputs": [],
   "source": [
    "from transformers import AutoConfig, AutoModel, AutoTokenizer, logging\n",
    "import torch\n",
    "import torch.nn as nn\n",
    "\n",
    "# Suppress unnecessary warnings\n",
    "logging.set_verbosity_error()\n",
    "\n",
    "class CustomEncoderLayer(nn.Module):\n",
    "    def __init__(self, hidden_size, num_attention_heads, dropout_rate=0.3):\n",
    "        super(CustomEncoderLayer, self).__init__()\n",
    "        self.self_attention = nn.MultiheadAttention(hidden_size, num_attention_heads, dropout=dropout_rate)\n",
    "        self.cross_attention = nn.MultiheadAttention(hidden_size, num_attention_heads, dropout=dropout_rate)\n",
    "        self.feed_forward = nn.Sequential(\n",
    "            nn.Linear(hidden_size, hidden_size * 4),\n",
    "            nn.ReLU(),\n",
    "            nn.Linear(hidden_size * 4, hidden_size)\n",
    "        )\n",
    "        self.layer_norm1 = nn.LayerNorm(hidden_size)\n",
    "        self.layer_norm2 = nn.LayerNorm(hidden_size)\n",
    "        self.layer_norm3 = nn.LayerNorm(hidden_size)\n",
    "        self.dropout = nn.Dropout(dropout_rate)\n",
    "\n",
    "    def forward(self, x, y, x_mask, y_mask):\n",
    "        # Self-attention on x\n",
    "        temp1 = x\n",
    "        self_attn_output, _ = self.self_attention(x, x, x)\n",
    "        x = self.layer_norm1(temp1 + self.dropout(self_attn_output))\n",
    "        \n",
    "        # Cross-attention from x to y\n",
    "        cross_attn_output, cross_attn_weights = self.cross_attention(x, y, y)\n",
    "        x = self.layer_norm2(temp1 + self.dropout(cross_attn_output))\n",
    "        \n",
    "        # Feed forward\n",
    "        ff_output = self.feed_forward(x)\n",
    "        x = self.layer_norm3(temp1 + self.dropout(ff_output))\n",
    "        \n",
    "        return x, cross_attn_weights\n",
    "\n",
    "class CustomDualBanglaBERTModel(nn.Module):\n",
    "    def __init__(self, model_checkpoint, num_layers=6, hidden_size=1024, num_attention_heads=8, dropout_rate=0.1):\n",
    "        super(CustomDualBanglaBERTModel, self).__init__()\n",
    "        \n",
    "        # Load BanglaBERT Electra-based models\n",
    "        self.bert1 = AutoModel.from_pretrained(model_checkpoint)\n",
    "        self.bert2 = AutoModel.from_pretrained(model_checkpoint)\n",
    "        \n",
    "        # Custom encoder layers\n",
    "        self.encoder_layers = nn.ModuleList([\n",
    "            CustomEncoderLayer(hidden_size, num_attention_heads, dropout_rate)\n",
    "            for _ in range(num_layers)\n",
    "        ])\n",
    "        \n",
    "        # Classification head\n",
    "        self.fc = nn.Linear(hidden_size * 2, 2)\n",
    "\n",
    "    def forward(self, input_ids1, attention_mask1, input_ids2, attention_mask2):\n",
    "        # Get embeddings from two BERT models\n",
    "        output1 = self.bert1(input_ids=input_ids1, attention_mask=attention_mask1).last_hidden_state\n",
    "        output2 = self.bert2(input_ids=input_ids2, attention_mask=attention_mask2).last_hidden_state\n",
    "        \n",
    "        # Attention masks for padding tokens\n",
    "        x_mask = ~attention_mask1.bool()\n",
    "        y_mask = ~attention_mask2.bool()\n",
    "        \n",
    "        # Apply encoder layers\n",
    "        for layer in self.encoder_layers:\n",
    "            output1, _ = layer(output1, output2, x_mask, y_mask)\n",
    "            output2, cross_attn_weights = layer(output2, output1, y_mask, x_mask)\n",
    "        \n",
    "        # Pool the outputs from both models\n",
    "        pooled_output1 = torch.mean(output1, dim=1)\n",
    "        pooled_output2 = torch.mean(output2, dim=1)\n",
    "        \n",
    "        # Combine and classify\n",
    "        combined = torch.cat((pooled_output1, pooled_output2), dim=1)\n",
    "        return self.fc(combined)"
   ]
  },
  {
   "cell_type": "code",
   "execution_count": 44,
   "id": "acff7b4b",
   "metadata": {
    "execution": {
     "iopub.execute_input": "2025-02-22T14:01:29.501101Z",
     "iopub.status.busy": "2025-02-22T14:01:29.500816Z",
     "iopub.status.idle": "2025-02-22T14:01:29.505228Z",
     "shell.execute_reply": "2025-02-22T14:01:29.504436Z"
    },
    "papermill": {
     "duration": 0.021739,
     "end_time": "2025-02-22T14:01:29.506414",
     "exception": false,
     "start_time": "2025-02-22T14:01:29.484675",
     "status": "completed"
    },
    "tags": []
   },
   "outputs": [
    {
     "data": {
      "text/plain": [
       "'csebuetnlp/banglabert_large'"
      ]
     },
     "execution_count": 44,
     "metadata": {},
     "output_type": "execute_result"
    }
   ],
   "source": [
    "model_path "
   ]
  },
  {
   "cell_type": "code",
   "execution_count": 45,
   "id": "a0902651",
   "metadata": {
    "execution": {
     "iopub.execute_input": "2025-02-22T14:01:29.537704Z",
     "iopub.status.busy": "2025-02-22T14:01:29.537475Z",
     "iopub.status.idle": "2025-02-22T14:01:32.629752Z",
     "shell.execute_reply": "2025-02-22T14:01:32.628804Z"
    },
    "papermill": {
     "duration": 3.109711,
     "end_time": "2025-02-22T14:01:32.631429",
     "exception": false,
     "start_time": "2025-02-22T14:01:29.521718",
     "status": "completed"
    },
    "tags": []
   },
   "outputs": [
    {
     "data": {
      "text/plain": [
       "CustomDualBanglaBERTModel(\n",
       "  (bert1): ElectraModel(\n",
       "    (embeddings): ElectraEmbeddings(\n",
       "      (word_embeddings): Embedding(32000, 1024, padding_idx=0)\n",
       "      (position_embeddings): Embedding(512, 1024)\n",
       "      (token_type_embeddings): Embedding(2, 1024)\n",
       "      (LayerNorm): LayerNorm((1024,), eps=1e-12, elementwise_affine=True)\n",
       "      (dropout): Dropout(p=0.1, inplace=False)\n",
       "    )\n",
       "    (encoder): ElectraEncoder(\n",
       "      (layer): ModuleList(\n",
       "        (0-23): 24 x ElectraLayer(\n",
       "          (attention): ElectraAttention(\n",
       "            (self): ElectraSelfAttention(\n",
       "              (query): Linear(in_features=1024, out_features=1024, bias=True)\n",
       "              (key): Linear(in_features=1024, out_features=1024, bias=True)\n",
       "              (value): Linear(in_features=1024, out_features=1024, bias=True)\n",
       "              (dropout): Dropout(p=0.1, inplace=False)\n",
       "            )\n",
       "            (output): ElectraSelfOutput(\n",
       "              (dense): Linear(in_features=1024, out_features=1024, bias=True)\n",
       "              (LayerNorm): LayerNorm((1024,), eps=1e-12, elementwise_affine=True)\n",
       "              (dropout): Dropout(p=0.1, inplace=False)\n",
       "            )\n",
       "          )\n",
       "          (intermediate): ElectraIntermediate(\n",
       "            (dense): Linear(in_features=1024, out_features=4096, bias=True)\n",
       "            (intermediate_act_fn): GELUActivation()\n",
       "          )\n",
       "          (output): ElectraOutput(\n",
       "            (dense): Linear(in_features=4096, out_features=1024, bias=True)\n",
       "            (LayerNorm): LayerNorm((1024,), eps=1e-12, elementwise_affine=True)\n",
       "            (dropout): Dropout(p=0.1, inplace=False)\n",
       "          )\n",
       "        )\n",
       "      )\n",
       "    )\n",
       "  )\n",
       "  (bert2): ElectraModel(\n",
       "    (embeddings): ElectraEmbeddings(\n",
       "      (word_embeddings): Embedding(32000, 1024, padding_idx=0)\n",
       "      (position_embeddings): Embedding(512, 1024)\n",
       "      (token_type_embeddings): Embedding(2, 1024)\n",
       "      (LayerNorm): LayerNorm((1024,), eps=1e-12, elementwise_affine=True)\n",
       "      (dropout): Dropout(p=0.1, inplace=False)\n",
       "    )\n",
       "    (encoder): ElectraEncoder(\n",
       "      (layer): ModuleList(\n",
       "        (0-23): 24 x ElectraLayer(\n",
       "          (attention): ElectraAttention(\n",
       "            (self): ElectraSelfAttention(\n",
       "              (query): Linear(in_features=1024, out_features=1024, bias=True)\n",
       "              (key): Linear(in_features=1024, out_features=1024, bias=True)\n",
       "              (value): Linear(in_features=1024, out_features=1024, bias=True)\n",
       "              (dropout): Dropout(p=0.1, inplace=False)\n",
       "            )\n",
       "            (output): ElectraSelfOutput(\n",
       "              (dense): Linear(in_features=1024, out_features=1024, bias=True)\n",
       "              (LayerNorm): LayerNorm((1024,), eps=1e-12, elementwise_affine=True)\n",
       "              (dropout): Dropout(p=0.1, inplace=False)\n",
       "            )\n",
       "          )\n",
       "          (intermediate): ElectraIntermediate(\n",
       "            (dense): Linear(in_features=1024, out_features=4096, bias=True)\n",
       "            (intermediate_act_fn): GELUActivation()\n",
       "          )\n",
       "          (output): ElectraOutput(\n",
       "            (dense): Linear(in_features=4096, out_features=1024, bias=True)\n",
       "            (LayerNorm): LayerNorm((1024,), eps=1e-12, elementwise_affine=True)\n",
       "            (dropout): Dropout(p=0.1, inplace=False)\n",
       "          )\n",
       "        )\n",
       "      )\n",
       "    )\n",
       "  )\n",
       "  (encoder_layers): ModuleList(\n",
       "    (0-5): 6 x CustomEncoderLayer(\n",
       "      (self_attention): MultiheadAttention(\n",
       "        (out_proj): NonDynamicallyQuantizableLinear(in_features=1024, out_features=1024, bias=True)\n",
       "      )\n",
       "      (cross_attention): MultiheadAttention(\n",
       "        (out_proj): NonDynamicallyQuantizableLinear(in_features=1024, out_features=1024, bias=True)\n",
       "      )\n",
       "      (feed_forward): Sequential(\n",
       "        (0): Linear(in_features=1024, out_features=4096, bias=True)\n",
       "        (1): ReLU()\n",
       "        (2): Linear(in_features=4096, out_features=1024, bias=True)\n",
       "      )\n",
       "      (layer_norm1): LayerNorm((1024,), eps=1e-05, elementwise_affine=True)\n",
       "      (layer_norm2): LayerNorm((1024,), eps=1e-05, elementwise_affine=True)\n",
       "      (layer_norm3): LayerNorm((1024,), eps=1e-05, elementwise_affine=True)\n",
       "      (dropout): Dropout(p=0.1, inplace=False)\n",
       "    )\n",
       "  )\n",
       "  (fc): Linear(in_features=2048, out_features=2, bias=True)\n",
       ")"
      ]
     },
     "execution_count": 45,
     "metadata": {},
     "output_type": "execute_result"
    }
   ],
   "source": [
    "# Example usage\n",
    "# model_checkpoint = 'csebuetnlp/banglabert'\n",
    "model_checkpoint = \"/kaggle/working/mlm_pretrained_model\"\n",
    "# model_checkpoint = model_path\n",
    "model = CustomDualBanglaBERTModel(model_checkpoint=model_checkpoint)\n",
    "\n",
    "# Move the model to GPU if available\n",
    "device = torch.device(\"cuda\" if torch.cuda.is_available() else \"cpu\")\n",
    "# model.to(device)\n",
    "model.cuda()"
   ]
  },
  {
   "cell_type": "code",
   "execution_count": 46,
   "id": "0516abdc",
   "metadata": {
    "execution": {
     "iopub.execute_input": "2025-02-22T14:01:32.664797Z",
     "iopub.status.busy": "2025-02-22T14:01:32.664485Z",
     "iopub.status.idle": "2025-02-22T14:01:32.672693Z",
     "shell.execute_reply": "2025-02-22T14:01:32.671769Z"
    },
    "papermill": {
     "duration": 0.025942,
     "end_time": "2025-02-22T14:01:32.674058",
     "exception": false,
     "start_time": "2025-02-22T14:01:32.648116",
     "status": "completed"
    },
    "tags": []
   },
   "outputs": [
    {
     "name": "stdout",
     "output_type": "stream",
     "text": [
      "Approximate Model Size in Memory: 2.88 GB\n"
     ]
    }
   ],
   "source": [
    "# Calculate the total number of trainable parameters\n",
    "trainable_params = sum(p.numel() for p in model.parameters() if p.requires_grad)\n",
    "\n",
    "# Each parameter takes 4 bytes (float32)\n",
    "param_size_in_bytes = trainable_params * 4\n",
    "\n",
    "# Convert to GB\n",
    "param_size_in_gb = param_size_in_bytes / (1024**3)\n",
    "print(f\"Approximate Model Size in Memory: {param_size_in_gb:.2f} GB\")"
   ]
  },
  {
   "cell_type": "code",
   "execution_count": 47,
   "id": "d9ae5cd0",
   "metadata": {
    "execution": {
     "iopub.execute_input": "2025-02-22T14:01:32.705379Z",
     "iopub.status.busy": "2025-02-22T14:01:32.705149Z",
     "iopub.status.idle": "2025-02-22T14:01:32.709176Z",
     "shell.execute_reply": "2025-02-22T14:01:32.708211Z"
    },
    "papermill": {
     "duration": 0.021114,
     "end_time": "2025-02-22T14:01:32.710554",
     "exception": false,
     "start_time": "2025-02-22T14:01:32.689440",
     "status": "completed"
    },
    "tags": []
   },
   "outputs": [],
   "source": [
    "# import torch\n",
    "# import torch.nn as nn\n",
    "# from transformers import  BertConfig,AutoModel\n",
    "\n",
    "# class CustomEncoderLayer(nn.Module):\n",
    "#     def __init__(self, hidden_size, num_attention_heads, dropout_rate=0.1):\n",
    "#         super(CustomEncoderLayer, self).__init__()\n",
    "#         self.self_attention = nn.MultiheadAttention(hidden_size, num_attention_heads, dropout=dropout_rate)\n",
    "#         self.cross_attention = nn.MultiheadAttention(hidden_size, num_attention_heads, dropout=dropout_rate)\n",
    "#         self.feed_forward = nn.Sequential(\n",
    "#             nn.Linear(hidden_size, hidden_size * 4),\n",
    "#             nn.ReLU(),\n",
    "#             nn.Linear(hidden_size * 4, hidden_size)\n",
    "#         )\n",
    "#         self.layer_norm1 = nn.LayerNorm(hidden_size)\n",
    "#         self.layer_norm2 = nn.LayerNorm(hidden_size)\n",
    "#         self.layer_norm3 = nn.LayerNorm(hidden_size)\n",
    "#         self.dropout = nn.Dropout(dropout_rate)\n",
    "\n",
    "#     def forward(self, x, y):\n",
    "#         # Self-attention on x\n",
    "#         e=x\n",
    "#         self_attn_output, _ = self.self_attention(x, x, x)\n",
    "#         x = self.layer_norm1(e + self.dropout(self_attn_output))\n",
    "        \n",
    "#         # Cross-attention from x to y\n",
    "#         cross_attn_output, cross_attn_weights = self.cross_attention(x, y, y)\n",
    "#         x = self.layer_norm2(e + self.dropout(cross_attn_output))\n",
    "        \n",
    "#         # Feed forward\n",
    "#         ff_output = self.feed_forward(x)\n",
    "#         x = self.layer_norm3(e + self.dropout(ff_output))\n",
    "        \n",
    "#         return x, cross_attn_weights\n",
    "\n",
    "# class CustomDualBERTModel(nn.Module):\n",
    "#     def __init__(self, num_layers=3, hidden_size=768, num_attention_heads=8, dropout_rate=0.1):\n",
    "#         super(CustomDualBERTModel, self).__init__()\n",
    "        \n",
    "#         # Two BERT models: one for each input\n",
    "#         self.bert1 = AutoModel.from_pretrained('bert-base-uncased')\n",
    "#         self.bert2 = AutoModel.from_pretrained('bert-base-uncased')\n",
    "        \n",
    "#         self.encoder_layers = nn.ModuleList([\n",
    "#             CustomEncoderLayer(hidden_size, num_attention_heads, dropout_rate)\n",
    "#             for _ in range(num_layers)\n",
    "#         ])\n",
    "        \n",
    "#         self.fc = nn.Linear(hidden_size * 2, 2)\n",
    "\n",
    "#     def forward(self, input_ids1, attention_mask1, input_ids2, attention_mask2):\n",
    "#         # Get BERT embeddings from two different models\n",
    "#         output1 = self.bert1(input_ids=input_ids1, attention_mask=attention_mask1).last_hidden_state\n",
    "#         output2 = self.bert2(input_ids=input_ids2, attention_mask=attention_mask2).last_hidden_state\n",
    "        \n",
    "#         # Create attention masks\n",
    "#         x_mask = ~attention_mask1.bool()\n",
    "#         y_mask = ~attention_mask2.bool()\n",
    "        \n",
    "#         # Apply custom encoder layers (self-attention and cross-attention)\n",
    "#         for layer in self.encoder_layers:\n",
    "#             output1, _ = layer(output1, output2)\n",
    "#             output2, cross_attn_weights = layer(output2, output1)\n",
    "#         # Pool the outputs from both BERTs\n",
    "#         pooled_output1 = torch.mean(output1, dim=1)\n",
    "#         pooled_output2 = torch.mean(output2, dim=1)\n",
    "        \n",
    "#         # Combine and classify\n",
    "#         combined = torch.cat((pooled_output1, pooled_output2), dim=1)\n",
    "#         return self.fc(combined)\n"
   ]
  },
  {
   "cell_type": "code",
   "execution_count": 48,
   "id": "2c9de8d7",
   "metadata": {
    "execution": {
     "iopub.execute_input": "2025-02-22T14:01:32.741989Z",
     "iopub.status.busy": "2025-02-22T14:01:32.741738Z",
     "iopub.status.idle": "2025-02-22T14:01:32.747089Z",
     "shell.execute_reply": "2025-02-22T14:01:32.746429Z"
    },
    "papermill": {
     "duration": 0.022413,
     "end_time": "2025-02-22T14:01:32.748303",
     "exception": false,
     "start_time": "2025-02-22T14:01:32.725890",
     "status": "completed"
    },
    "tags": []
   },
   "outputs": [],
   "source": [
    "import torch\n",
    "import torch.nn as nn\n",
    "from torch.utils.data import DataLoader\n",
    "from transformers import BertTokenizer, AdamW,AutoModel,AutoTokenizer\n",
    "from tqdm import tqdm  # Import tqdm for progress bars\n",
    "\n",
    "# Hyperparameters\n",
    "MAX_LEN = 128\n",
    "BATCH_SIZE = 2\n",
    "EPOCHS = 2\n",
    "LEARNING_RATE = 2e-5\n",
    "\n",
    "# tokenizer = AutoTokenizer.from_pretrained(model_path)\n",
    "\n",
    "# Create data loaders\n",
    "train_dataset = MultiFeatureDataset(train_df, tokenizer, MAX_LEN)\n",
    "val_dataset = MultiFeatureDataset(eval_df, tokenizer, MAX_LEN)\n",
    "\n",
    "train_loader = DataLoader(train_dataset, batch_size=BATCH_SIZE, shuffle=True)\n",
    "val_loader = DataLoader(val_dataset, batch_size=BATCH_SIZE)"
   ]
  },
  {
   "cell_type": "code",
   "execution_count": 49,
   "id": "2bce4075",
   "metadata": {
    "execution": {
     "iopub.execute_input": "2025-02-22T14:01:32.780034Z",
     "iopub.status.busy": "2025-02-22T14:01:32.779779Z",
     "iopub.status.idle": "2025-02-22T14:01:32.791901Z",
     "shell.execute_reply": "2025-02-22T14:01:32.790937Z"
    },
    "papermill": {
     "duration": 0.02947,
     "end_time": "2025-02-22T14:01:32.793164",
     "exception": false,
     "start_time": "2025-02-22T14:01:32.763694",
     "status": "completed"
    },
    "tags": []
   },
   "outputs": [
    {
     "name": "stderr",
     "output_type": "stream",
     "text": [
      "/usr/local/lib/python3.10/dist-packages/transformers/optimization.py:591: FutureWarning: This implementation of AdamW is deprecated and will be removed in a future version. Use the PyTorch implementation torch.optim.AdamW instead, or set `no_deprecation_warning=True` to disable this warning\n",
      "  warnings.warn(\n"
     ]
    }
   ],
   "source": [
    "# Initialize the model\n",
    "\n",
    "# Usage\n",
    "# model = CustomDualBERTModel()\n",
    "#model.load_state_dict(torch.load('dual_bert_classifier.pth'))\n",
    "\n",
    "\n",
    "# Optimizer with weight decay\n",
    "from transformers import AdamW, get_linear_schedule_with_warmup\n",
    "\n",
    "\n",
    "# device = torch.device('cuda' if torch.cuda.is_available() else 'cpu')\n",
    "# model = model.to(device)\n",
    "\n",
    "optimizer = AdamW(model.parameters(), lr=LEARNING_RATE, weight_decay=0.01)"
   ]
  },
  {
   "cell_type": "code",
   "execution_count": 50,
   "id": "d783e522",
   "metadata": {
    "execution": {
     "iopub.execute_input": "2025-02-22T14:01:32.825986Z",
     "iopub.status.busy": "2025-02-22T14:01:32.825774Z",
     "iopub.status.idle": "2025-02-22T14:01:32.830321Z",
     "shell.execute_reply": "2025-02-22T14:01:32.829577Z"
    },
    "papermill": {
     "duration": 0.022464,
     "end_time": "2025-02-22T14:01:32.831601",
     "exception": false,
     "start_time": "2025-02-22T14:01:32.809137",
     "status": "completed"
    },
    "tags": []
   },
   "outputs": [
    {
     "data": {
      "text/plain": [
       "AdamW (\n",
       "Parameter Group 0\n",
       "    betas: (0.9, 0.999)\n",
       "    correct_bias: True\n",
       "    eps: 1e-06\n",
       "    lr: 2e-05\n",
       "    weight_decay: 0.01\n",
       ")"
      ]
     },
     "execution_count": 50,
     "metadata": {},
     "output_type": "execute_result"
    }
   ],
   "source": [
    "optimizer"
   ]
  },
  {
   "cell_type": "code",
   "execution_count": 51,
   "id": "e7ee4f85",
   "metadata": {
    "execution": {
     "iopub.execute_input": "2025-02-22T14:01:32.863823Z",
     "iopub.status.busy": "2025-02-22T14:01:32.863603Z",
     "iopub.status.idle": "2025-02-22T14:01:32.866481Z",
     "shell.execute_reply": "2025-02-22T14:01:32.865813Z"
    },
    "papermill": {
     "duration": 0.020251,
     "end_time": "2025-02-22T14:01:32.867925",
     "exception": false,
     "start_time": "2025-02-22T14:01:32.847674",
     "status": "completed"
    },
    "tags": []
   },
   "outputs": [],
   "source": [
    "# mlm_model"
   ]
  },
  {
   "cell_type": "code",
   "execution_count": 52,
   "id": "2be700e2",
   "metadata": {
    "execution": {
     "iopub.execute_input": "2025-02-22T14:01:32.900181Z",
     "iopub.status.busy": "2025-02-22T14:01:32.899977Z",
     "iopub.status.idle": "2025-02-22T14:01:33.185732Z",
     "shell.execute_reply": "2025-02-22T14:01:33.184905Z"
    },
    "papermill": {
     "duration": 0.30326,
     "end_time": "2025-02-22T14:01:33.187232",
     "exception": false,
     "start_time": "2025-02-22T14:01:32.883972",
     "status": "completed"
    },
    "tags": []
   },
   "outputs": [],
   "source": [
    "import gc\n",
    "import torch\n",
    "\n",
    "# Delete any unnecessary objects, e.g., big tensors or models you no longer need\n",
    "# del mlm_model  \n",
    "# del model\n",
    "\n",
    "# Run garbage collector\n",
    "gc.collect()\n",
    "\n",
    "# If you’re using PyTorch, clear GPU cache\n",
    "torch.cuda.empty_cache()"
   ]
  },
  {
   "cell_type": "code",
   "execution_count": 53,
   "id": "8f7b2184",
   "metadata": {
    "execution": {
     "iopub.execute_input": "2025-02-22T14:01:33.221367Z",
     "iopub.status.busy": "2025-02-22T14:01:33.221135Z",
     "iopub.status.idle": "2025-02-22T14:01:33.224306Z",
     "shell.execute_reply": "2025-02-22T14:01:33.223566Z"
    },
    "papermill": {
     "duration": 0.021275,
     "end_time": "2025-02-22T14:01:33.225575",
     "exception": false,
     "start_time": "2025-02-22T14:01:33.204300",
     "status": "completed"
    },
    "tags": []
   },
   "outputs": [],
   "source": [
    "# import os\n",
    "# os.environ[\"PYTORCH_CUDA_ALLOC_CONF\"] = \"expandable_segments:True\"\n",
    "\n",
    "# import torch\n",
    "# Now you can continue with your PyTorch code\n"
   ]
  },
  {
   "cell_type": "code",
   "execution_count": 54,
   "id": "4189ad43",
   "metadata": {
    "execution": {
     "iopub.execute_input": "2025-02-22T14:01:33.257623Z",
     "iopub.status.busy": "2025-02-22T14:01:33.257423Z",
     "iopub.status.idle": "2025-02-22T14:01:33.260941Z",
     "shell.execute_reply": "2025-02-22T14:01:33.259940Z"
    },
    "papermill": {
     "duration": 0.02091,
     "end_time": "2025-02-22T14:01:33.262219",
     "exception": false,
     "start_time": "2025-02-22T14:01:33.241309",
     "status": "completed"
    },
    "tags": []
   },
   "outputs": [],
   "source": [
    "# model"
   ]
  },
  {
   "cell_type": "code",
   "execution_count": 55,
   "id": "e79b9093",
   "metadata": {
    "execution": {
     "iopub.execute_input": "2025-02-22T14:01:33.294515Z",
     "iopub.status.busy": "2025-02-22T14:01:33.294314Z",
     "iopub.status.idle": "2025-02-22T14:01:33.298144Z",
     "shell.execute_reply": "2025-02-22T14:01:33.297475Z"
    },
    "papermill": {
     "duration": 0.021196,
     "end_time": "2025-02-22T14:01:33.299340",
     "exception": false,
     "start_time": "2025-02-22T14:01:33.278144",
     "status": "completed"
    },
    "tags": []
   },
   "outputs": [],
   "source": [
    "# Custom function to save the model\n",
    "def save_model(model, filepath, epoch, val_accuracy, best_val_accuracy):\n",
    "    \"\"\"\n",
    "    Save the model if the current validation accuracy is higher than the best seen so far.\n",
    "    \"\"\"\n",
    "    if val_accuracy > best_val_accuracy:\n",
    "        torch.save(model.state_dict(), filepath)\n",
    "        print(f\"Model saved at epoch {epoch+1} with validation accuracy: {val_accuracy:.2f}%\")\n",
    "        return val_accuracy  # Update best validation accuracy\n",
    "    return best_val_accuracy  # Keep the previous best validation accuracy\n",
    "\n",
    "# Training loop with model saving\n",
    "best_val_accuracy = 0.0  # Initialize the best validation accuracy\n",
    "model_filepath = 'dual_bert_classifier_best.pth'"
   ]
  },
  {
   "cell_type": "code",
   "execution_count": 56,
   "id": "11352ada",
   "metadata": {
    "execution": {
     "iopub.execute_input": "2025-02-22T14:01:33.332195Z",
     "iopub.status.busy": "2025-02-22T14:01:33.331999Z",
     "iopub.status.idle": "2025-02-22T18:17:38.615246Z",
     "shell.execute_reply": "2025-02-22T18:17:38.614145Z"
    },
    "papermill": {
     "duration": 15365.301567,
     "end_time": "2025-02-22T18:17:38.617120",
     "exception": false,
     "start_time": "2025-02-22T14:01:33.315553",
     "status": "completed"
    },
    "tags": []
   },
   "outputs": [
    {
     "name": "stderr",
     "output_type": "stream",
     "text": [
      "                                                                                         \r"
     ]
    },
    {
     "name": "stdout",
     "output_type": "stream",
     "text": [
      "Epoch [1/2], Loss: 0.6636, Accuracy: 0.5767\n"
     ]
    },
    {
     "name": "stderr",
     "output_type": "stream",
     "text": [
      "                                                                       \r"
     ]
    },
    {
     "name": "stdout",
     "output_type": "stream",
     "text": [
      "Epoch 1/2, Validation Loss: 0.7001, Validation Accuracy: 50.00%\n",
      "Model saved at epoch 1 with validation accuracy: 50.00%\n"
     ]
    },
    {
     "name": "stderr",
     "output_type": "stream",
     "text": [
      "                                                                                         \r"
     ]
    },
    {
     "name": "stdout",
     "output_type": "stream",
     "text": [
      "Epoch [2/2], Loss: 0.6966, Accuracy: 0.4945\n"
     ]
    },
    {
     "name": "stderr",
     "output_type": "stream",
     "text": [
      "                                                                       "
     ]
    },
    {
     "name": "stdout",
     "output_type": "stream",
     "text": [
      "Epoch 2/2, Validation Loss: 0.6933, Validation Accuracy: 50.00%\n"
     ]
    },
    {
     "name": "stderr",
     "output_type": "stream",
     "text": [
      "\r"
     ]
    }
   ],
   "source": [
    "# TRaining LOOP\n",
    "for epoch in range(EPOCHS):\n",
    "    model.train()\n",
    "    running_loss = 0.0\n",
    "    correct_train = 0\n",
    "    total_train = 0\n",
    "\n",
    "    # Initialize the tqdm progress bar\n",
    "    progress_bar = tqdm(train_loader, desc=f\"Training Epoch {epoch+1}\", leave=False)\n",
    "    \n",
    "    for batch_idx, batch in enumerate(progress_bar):\n",
    "        text_input_ids1 = batch['input_ids1'].to(device)\n",
    "        text_attention_mask1 = batch['attention_mask1'].to(device)\n",
    "        text_input_ids2 = batch['input_ids2'].to(device)\n",
    "        text_attention_mask2 = batch['attention_mask2'].to(device)\n",
    "        labels = batch['labels'].to(device)\n",
    "        \n",
    "        optimizer.zero_grad()\n",
    "        \n",
    "        # Forward pass\n",
    "        outputs = model(text_input_ids1, text_attention_mask1, text_input_ids2, text_attention_mask2)\n",
    "        \n",
    "        # Calculate loss\n",
    "        loss = nn.CrossEntropyLoss()(outputs, labels)\n",
    "        \n",
    "        # Backward pass and optimization\n",
    "        loss.backward()\n",
    "        optimizer.step()\n",
    "        \n",
    "        # Update running loss and accuracy\n",
    "        running_loss += loss.item()\n",
    "        _, predicted = torch.max(outputs.data, 1)\n",
    "        total_train += labels.size(0)\n",
    "        correct_train += (predicted == labels).sum().item()\n",
    "        \n",
    "        avg_loss = running_loss / (batch_idx + 1)\n",
    "\n",
    "        # Update the progress bar with the average loss\n",
    "        progress_bar.set_postfix(avg_loss=avg_loss)\n",
    "\n",
    "    # Optional: Print statistics at the end of each epoch\n",
    "    epoch_loss = running_loss / len(train_loader)\n",
    "    epoch_acc = correct_train / total_train\n",
    "    print(f\"Epoch [{epoch+1}/{EPOCHS}], Loss: {epoch_loss:.4f}, Accuracy: {epoch_acc:.4f}\")\n",
    "    \n",
    "    # Validation\n",
    "    model.eval()\n",
    "    val_loss = 0\n",
    "    correct_val = 0\n",
    "    total_val = 0\n",
    "    with torch.no_grad():\n",
    "        for batch in tqdm(val_loader, desc=f\"Validation Epoch {epoch+1}\", leave=False):\n",
    "            text_input_ids1 = batch['input_ids1'].to(device)\n",
    "            text_attention_mask1 = batch['attention_mask1'].to(device)\n",
    "            text_input_ids2 = batch['input_ids2'].to(device)\n",
    "            text_attention_mask2 = batch['attention_mask2'].to(device)\n",
    "            labels = batch['labels'].to(device)\n",
    "            \n",
    "            outputs = model(text_input_ids1, text_attention_mask1, text_input_ids2, text_attention_mask2)\n",
    "            val_loss += nn.CrossEntropyLoss()(outputs, labels).item()\n",
    "            _, predicted = torch.max(outputs.data, 1)\n",
    "            total_val += labels.size(0)\n",
    "            correct_val += (predicted == labels).sum().item()\n",
    "\n",
    "    val_accuracy = 100 * correct_val / total_val\n",
    "    print(f'Epoch {epoch+1}/{EPOCHS}, Validation Loss: {val_loss/len(val_loader):.4f}, Validation Accuracy: {val_accuracy:.2f}%')\n",
    "\n",
    "    # Save the model if validation accuracy improves\n",
    "    best_val_accuracy = save_model(model, model_filepath, epoch, val_accuracy, best_val_accuracy)"
   ]
  },
  {
   "cell_type": "code",
   "execution_count": 57,
   "id": "a2a50733",
   "metadata": {
    "execution": {
     "iopub.execute_input": "2025-02-22T18:17:43.369739Z",
     "iopub.status.busy": "2025-02-22T18:17:43.369387Z",
     "iopub.status.idle": "2025-02-22T18:17:51.098574Z",
     "shell.execute_reply": "2025-02-22T18:17:51.097663Z"
    },
    "papermill": {
     "duration": 10.240243,
     "end_time": "2025-02-22T18:17:51.099944",
     "exception": false,
     "start_time": "2025-02-22T18:17:40.859701",
     "status": "completed"
    },
    "tags": []
   },
   "outputs": [
    {
     "name": "stderr",
     "output_type": "stream",
     "text": [
      "<ipython-input-57-7872ffada0ea>:12: FutureWarning: You are using `torch.load` with `weights_only=False` (the current default value), which uses the default pickle module implicitly. It is possible to construct malicious pickle data which will execute arbitrary code during unpickling (See https://github.com/pytorch/pytorch/blob/main/SECURITY.md#untrusted-models for more details). In a future release, the default value for `weights_only` will be flipped to `True`. This limits the functions that could be executed during unpickling. Arbitrary objects will no longer be allowed to be loaded via this mode unless they are explicitly allowlisted by the user via `torch.serialization.add_safe_globals`. We recommend you start setting `weights_only=True` for any use case where you don't have full control of the loaded file. Please open an issue on GitHub for any issues related to this experimental feature.\n",
      "  model.load_state_dict(torch.load(saved_model_path))\n"
     ]
    },
    {
     "name": "stdout",
     "output_type": "stream",
     "text": [
      "Custom model loaded successfully!\n"
     ]
    }
   ],
   "source": [
    "# Define the model checkpoint and path to the saved weights\n",
    "# model_checkpoint = 'csebuetnlp/banglabert'\n",
    "\n",
    "\n",
    "saved_model_path = 'dual_bert_classifier_best.pth'\n",
    "\n",
    "\n",
    "# Recreate the model architecture\n",
    "model = CustomDualBanglaBERTModel(model_checkpoint=model_checkpoint)\n",
    "\n",
    "# Load the model weights from the saved file\n",
    "model.load_state_dict(torch.load(saved_model_path))\n",
    "\n",
    "# Send the model to the appropriate device\n",
    "device = torch.device(\"cuda\" if torch.cuda.is_available() else \"cpu\")\n",
    "model.to(device)\n",
    "\n",
    "print(\"Custom model loaded successfully!\")"
   ]
  },
  {
   "cell_type": "code",
   "execution_count": 58,
   "id": "6b800f24",
   "metadata": {
    "execution": {
     "iopub.execute_input": "2025-02-22T18:17:55.707425Z",
     "iopub.status.busy": "2025-02-22T18:17:55.707118Z",
     "iopub.status.idle": "2025-02-22T18:24:59.339773Z",
     "shell.execute_reply": "2025-02-22T18:24:59.338846Z"
    },
    "papermill": {
     "duration": 426.180093,
     "end_time": "2025-02-22T18:24:59.513650",
     "exception": false,
     "start_time": "2025-02-22T18:17:53.333557",
     "status": "completed"
    },
    "tags": []
   },
   "outputs": [
    {
     "name": "stderr",
     "output_type": "stream",
     "text": [
      "/usr/local/lib/python3.10/dist-packages/sklearn/metrics/_classification.py:1344: UndefinedMetricWarning: Precision and F-score are ill-defined and being set to 0.0 in labels with no predicted samples. Use `zero_division` parameter to control this behavior.\n",
      "  _warn_prf(average, modifier, msg_start, len(result))\n",
      "/usr/local/lib/python3.10/dist-packages/sklearn/metrics/_classification.py:1344: UndefinedMetricWarning: Precision and F-score are ill-defined and being set to 0.0 in labels with no predicted samples. Use `zero_division` parameter to control this behavior.\n",
      "  _warn_prf(average, modifier, msg_start, len(result))\n"
     ]
    },
    {
     "name": "stdout",
     "output_type": "stream",
     "text": [
      "Class 0:\n",
      "  Precision: 0.0000\n",
      "  Recall:    0.0000\n",
      "  F1 Score:  0.0000\n",
      "Class 1:\n",
      "  Precision: 0.5000\n",
      "  Recall:    1.0000\n",
      "  F1 Score:  0.6667\n",
      "\n",
      "Average Precision: 0.2500\n",
      "Average Recall:    0.5000\n",
      "Average F1 Score:  0.3333\n",
      "Accuracy: 0.5000\n",
      "Class Distribution: {0: 2564, 1: 2564}\n",
      "Total Samples: 5128\n"
     ]
    },
    {
     "data": {
      "image/png": "[encoded data removed]",
      "text/plain": [
       "<Figure size 640x480 with 2 Axes>"
      ]
     },
     "metadata": {},
     "output_type": "display_data"
    }
   ],
   "source": [
    "\n",
    "from tqdm import tqdm\n",
    "\n",
    "def batch_predict(loader):\n",
    "    model.eval()  # Set the model to evaluation mode\n",
    "    predictions = []\n",
    "\n",
    "    with torch.no_grad():\n",
    "        for batch in tqdm(loader, desc=\"Batch Prediction\", leave=False):\n",
    "            text_input_ids1 = batch['input_ids1'].to(device)\n",
    "            text_attention_mask1 = batch['attention_mask1'].to(device)\n",
    "            text_input_ids2 = batch['input_ids2'].to(device)\n",
    "            text_attention_mask2 = batch['attention_mask2'].to(device)\n",
    "            labels = batch['labels'].to(device)\n",
    "            outputs = model(text_input_ids1, text_attention_mask1, text_input_ids2, text_attention_mask2)\n",
    "            _, predicted = torch.max(outputs.data, 1)\n",
    "            predictions.extend(predicted.cpu().numpy())\n",
    "\n",
    "    return predictions\n",
    "pred=batch_predict(val_loader)\n",
    "true=val_dataset.labels\n",
    "\n",
    "import matplotlib.pyplot as plt\n",
    "from sklearn.metrics import confusion_matrix, ConfusionMatrixDisplay, roc_curve, auc, accuracy_score\n",
    "import numpy as np\n",
    "from sklearn.metrics import precision_recall_fscore_support\n",
    "import numpy as np\n",
    "from sklearn.preprocessing import label_binarize\n",
    "\n",
    "\n",
    "# Generate predictions and true labels\n",
    "\n",
    "pred = np.array(pred)\n",
    "true_labels =np.array(true)\n",
    "\n",
    "\n",
    "\n",
    "# Calculate precision, recall, and F1 score for each class\n",
    "precision, recall, f1, _ = precision_recall_fscore_support(true_labels, pred, average=None)\n",
    "\n",
    "# Get the unique labels\n",
    "labels =np.array([0,1])\n",
    "\n",
    "# Print the precision, recall, and F1 score for each class\n",
    "for i, label in enumerate(labels):\n",
    "    print(f\"Class {label}:\")\n",
    "    print(f\"  Precision: {precision[i]:.4f}\")\n",
    "    print(f\"  Recall:    {recall[i]:.4f}\")\n",
    "    print(f\"  F1 Score:  {f1[i]:.4f}\")\n",
    "\n",
    "# Optionally, you can calculate the average scores\n",
    "avg_precision, avg_recall, avg_f1, _ = precision_recall_fscore_support(true_labels, pred, average='weighted')\n",
    "\n",
    "print(f\"\\nAverage Precision: {avg_precision:.4f}\")\n",
    "print(f\"Average Recall:    {avg_recall:.4f}\")\n",
    "print(f\"Average F1 Score:  {avg_f1:.4f}\")\n",
    "\n",
    "# Compute accuracy\n",
    "accuracy = accuracy_score(true_labels, pred)\n",
    "print(f'Accuracy: {accuracy:.4f}')\n",
    "\n",
    "# Print the number of samples for each class and total samples\n",
    "unique, counts = np.unique(true_labels, return_counts=True)\n",
    "class_distribution = dict(zip(unique, counts))\n",
    "total_samples = len(true_labels)\n",
    "print(f'Class Distribution: {class_distribution}')\n",
    "print(f'Total Samples: {total_samples}')\n",
    "\n",
    "# Compute confusion matrix\n",
    "cm = confusion_matrix(true_labels, pred)\n",
    "disp = ConfusionMatrixDisplay(confusion_matrix=cm, display_labels=labels)\n",
    "\n",
    "# Plot confusion matrix\n",
    "disp.plot(cmap=plt.cm.Blues)\n",
    "plt.title(\"Confusion Matrix\")\n",
    "plt.show()"
   ]
  },
  {
   "cell_type": "code",
   "execution_count": 59,
   "id": "c9f1f217",
   "metadata": {
    "execution": {
     "iopub.execute_input": "2025-02-22T18:25:04.534345Z",
     "iopub.status.busy": "2025-02-22T18:25:04.534008Z",
     "iopub.status.idle": "2025-02-22T18:25:04.542646Z",
     "shell.execute_reply": "2025-02-22T18:25:04.541674Z"
    },
    "papermill": {
     "duration": 2.392737,
     "end_time": "2025-02-22T18:25:04.544063",
     "exception": false,
     "start_time": "2025-02-22T18:25:02.151326",
     "status": "completed"
    },
    "tags": []
   },
   "outputs": [
    {
     "data": {
      "text/html": [
       "<div>\n",
       "<style scoped>\n",
       "    .dataframe tbody tr th:only-of-type {\n",
       "        vertical-align: middle;\n",
       "    }\n",
       "\n",
       "    .dataframe tbody tr th {\n",
       "        vertical-align: top;\n",
       "    }\n",
       "\n",
       "    .dataframe thead th {\n",
       "        text-align: right;\n",
       "    }\n",
       "</style>\n",
       "<table border=\"1\" class=\"dataframe\">\n",
       "  <thead>\n",
       "    <tr style=\"text-align: right;\">\n",
       "      <th></th>\n",
       "      <th>id</th>\n",
       "      <th>parent_comment</th>\n",
       "      <th>label</th>\n",
       "      <th>comment</th>\n",
       "    </tr>\n",
       "  </thead>\n",
       "  <tbody>\n",
       "    <tr>\n",
       "      <th>3524</th>\n",
       "      <td>7682</td>\n",
       "      <td>পরীমনির পেজের প্রফাইলটা দেখেন ও মানুষ না আর্জে...</td>\n",
       "      <td>1</td>\n",
       "      <td>উচিৎ থাকা লজ্জা ছি বইচে ঝর প্রশংসার আবার নিয়ে...</td>\n",
       "    </tr>\n",
       "    <tr>\n",
       "      <th>11178</th>\n",
       "      <td>27904</td>\n",
       "      <td>ঢপ এর চপ এমন ভাও খাচ্ছে যেনো বোকাচোদার সিরিয়াল</td>\n",
       "      <td>1</td>\n",
       "      <td>সিরিয়াল বোকাচোদার যেনো খাচ্ছে ভাও এমন চপ এর ঢপ</td>\n",
       "    </tr>\n",
       "    <tr>\n",
       "      <th>24525</th>\n",
       "      <td>25185</td>\n",
       "      <td>হেলমেট ছাড়া বেরোলে ঠিকই কেউ না কেউ বলবে ওদিকে...</td>\n",
       "      <td>0</td>\n",
       "      <td>ধরছে পুলিশ না যাবেন ওদিকে বলবে কেউ না কেউ ঠিকই...</td>\n",
       "    </tr>\n",
       "  </tbody>\n",
       "</table>\n",
       "</div>"
      ],
      "text/plain": [
       "          id                                     parent_comment  label  \\\n",
       "3524    7682  পরীমনির পেজের প্রফাইলটা দেখেন ও মানুষ না আর্জে...      1   \n",
       "11178  27904    ঢপ এর চপ এমন ভাও খাচ্ছে যেনো বোকাচোদার সিরিয়াল      1   \n",
       "24525  25185  হেলমেট ছাড়া বেরোলে ঠিকই কেউ না কেউ বলবে ওদিকে...      0   \n",
       "\n",
       "                                                 comment  \n",
       "3524   উচিৎ থাকা লজ্জা ছি বইচে ঝর প্রশংসার আবার নিয়ে...  \n",
       "11178    সিরিয়াল বোকাচোদার যেনো খাচ্ছে ভাও এমন চপ এর ঢপ  \n",
       "24525  ধরছে পুলিশ না যাবেন ওদিকে বলবে কেউ না কেউ ঠিকই...  "
      ]
     },
     "execution_count": 59,
     "metadata": {},
     "output_type": "execute_result"
    }
   ],
   "source": [
    "eval_df.head(3)"
   ]
  },
  {
   "cell_type": "code",
   "execution_count": 60,
   "id": "e50c56e3",
   "metadata": {
    "execution": {
     "iopub.execute_input": "2025-02-22T18:25:09.687179Z",
     "iopub.status.busy": "2025-02-22T18:25:09.686777Z",
     "iopub.status.idle": "2025-02-22T18:25:09.690522Z",
     "shell.execute_reply": "2025-02-22T18:25:09.689576Z"
    },
    "papermill": {
     "duration": 2.535097,
     "end_time": "2025-02-22T18:25:09.692152",
     "exception": false,
     "start_time": "2025-02-22T18:25:07.157055",
     "status": "completed"
    },
    "tags": []
   },
   "outputs": [],
   "source": [
    "# def preprocess_function(context,text):\n",
    "#     parent_encoding = tokenizer(context, padding=\"max_length\", truncation=True, max_length=128)\n",
    "#     text_encoding = tokenizer(context, padding=\"max_length\", truncation=True, max_length=128)\n",
    "    \n",
    "#     return {\n",
    "#         'input_ids1': parent_encoding['input_ids'],\n",
    "#         'attention_mask1': parent_encoding['attention_mask'],\n",
    "#         'input_ids2': text_encoding['input_ids'],\n",
    "#         'attention_mask2': text_encoding['attention_mask'],\n",
    "#     }"
   ]
  },
  {
   "cell_type": "code",
   "execution_count": 61,
   "id": "cf2e53ba",
   "metadata": {
    "execution": {
     "iopub.execute_input": "2025-02-22T18:25:14.709002Z",
     "iopub.status.busy": "2025-02-22T18:25:14.708637Z",
     "iopub.status.idle": "2025-02-22T18:25:14.712078Z",
     "shell.execute_reply": "2025-02-22T18:25:14.711312Z"
    },
    "papermill": {
     "duration": 2.664824,
     "end_time": "2025-02-22T18:25:14.713271",
     "exception": false,
     "start_time": "2025-02-22T18:25:12.048447",
     "status": "completed"
    },
    "tags": []
   },
   "outputs": [],
   "source": [
    "#batch=preprocess_function(data2.iloc[1011]['parent_comment'],data2.iloc[1011]['comment'])"
   ]
  },
  {
   "cell_type": "code",
   "execution_count": null,
   "id": "d300f724",
   "metadata": {
    "papermill": {
     "duration": 2.601222,
     "end_time": "2025-02-22T18:25:19.663372",
     "exception": false,
     "start_time": "2025-02-22T18:25:17.062150",
     "status": "completed"
    },
    "tags": []
   },
   "outputs": [],
   "source": []
  }
 ],
 "metadata": {
  "kaggle": {
   "accelerator": "nvidiaTeslaT4",
   "dataSources": [
    {
     "datasetId": 113003,
     "sourceId": 269740,
     "sourceType": "datasetVersion"
    },
    {
     "datasetId": 32526,
     "sourceId": 4243451,
     "sourceType": "datasetVersion"
    },
    {
     "datasetId": 5668978,
     "sourceId": 9601762,
     "sourceType": "datasetVersion"
    },
    {
     "datasetId": 4892370,
     "sourceId": 10280684,
     "sourceType": "datasetVersion"
    }
   ],
   "dockerImageVersionId": 30823,
   "isGpuEnabled": true,
   "isInternetEnabled": true,
   "language": "python",
   "sourceType": "notebook"
  },
  "kernelspec": {
   "display_name": "Python 3",
   "language": "python",
   "name": "python3"
  },
  "language_info": {
   "codemirror_mode": {
    "name": "ipython",
    "version": 3
   },
   "file_extension": ".py",
   "mimetype": "text/x-python",
   "name": "python",
   "nbconvert_exporter": "python",
   "pygments_lexer": "ipython3",
   "version": "3.10.12"
  },
  "papermill": {
   "default_parameters": {},
   "duration": 20015.959191,
   "end_time": "2025-02-22T18:25:25.661437",
   "environment_variables": {},
   "exception": null,
   "input_path": "__notebook__.ipynb",
   "output_path": "__notebook__.ipynb",
   "parameters": {},
   "start_time": "2025-02-22T12:51:49.702246",
   "version": "2.6.0"
  },
  "widgets": {
   "application/vnd.jupyter.widget-state+json": {
    "state": {
     "01465768f6554d38bd6fcfd2ac199297": {
      "model_module": "@jupyter-widgets/base",
      "model_module_version": "2.0.0",
      "model_name": "LayoutModel",
      "state": {
       "_model_module": "@jupyter-widgets/base",
       "_model_module_version": "2.0.0",
       "_model_name": "LayoutModel",
       "_view_count": null,
       "_view_module": "@jupyter-widgets/base",
       "_view_module_version": "2.0.0",
       "_view_name": "LayoutView",
       "align_content": null,
       "align_items": null,
       "align_self": null,
       "border_bottom": null,
       "border_left": null,
       "border_right": null,
       "border_top": null,
       "bottom": null,
       "display": null,
       "flex": null,
       "flex_flow": null,
       "grid_area": null,
       "grid_auto_columns": null,
       "grid_auto_flow": null,
       "grid_auto_rows": null,
       "grid_column": null,
       "grid_gap": null,
       "grid_row": null,
       "grid_template_areas": null,
       "grid_template_columns": null,
       "grid_template_rows": null,
       "height": null,
       "justify_content": null,
       "justify_items": null,
       "left": null,
       "margin": null,
       "max_height": null,
       "max_width": null,
       "min_height": null,
       "min_width": null,
       "object_fit": null,
       "object_position": null,
       "order": null,
       "overflow": null,
       "padding": null,
       "right": null,
       "top": null,
       "visibility": null,
       "width": null
      }
     },
     "021ada6efaca47ba9aeddfbab75b4c94": {
      "model_module": "@jupyter-widgets/controls",
      "model_module_version": "2.0.0",
      "model_name": "HBoxModel",
      "state": {
       "_dom_classes": [],
       "_model_module": "@jupyter-widgets/controls",
       "_model_module_version": "2.0.0",
       "_model_name": "HBoxModel",
       "_view_count": null,
       "_view_module": "@jupyter-widgets/controls",
       "_view_module_version": "2.0.0",
       "_view_name": "HBoxView",
       "box_style": "",
       "children": [
        "IPY_MODEL_0b8ce68009ca42ccb92d564e579f7625",
        "IPY_MODEL_454a1693bc774b77afe94b605806b560",
        "IPY_MODEL_2af90e8835ab42baa7c374bfc97895fe"
       ],
       "layout": "IPY_MODEL_fdce347a58194bd883a5c99dfbce9bcc",
       "tabbable": null,
       "tooltip": null
      }
     },
     "02558ab6e612403f8c695fb47455d23b": {
      "model_module": "@jupyter-widgets/controls",
      "model_module_version": "2.0.0",
      "model_name": "HBoxModel",
      "state": {
       "_dom_classes": [],
       "_model_module": "@jupyter-widgets/controls",
       "_model_module_version": "2.0.0",
       "_model_name": "HBoxModel",
       "_view_count": null,
       "_view_module": "@jupyter-widgets/controls",
       "_view_module_version": "2.0.0",
       "_view_name": "HBoxView",
       "box_style": "",
       "children": [
        "IPY_MODEL_d73f4c6bf7e74bcdbee87806da5b9b6f",
        "IPY_MODEL_e246ade6c4874f438a8162a9c939308d",
        "IPY_MODEL_178124ebac234f3c909271db2647acce"
       ],
       "layout": "IPY_MODEL_71f59c05858346ec914888be239a0a6d",
       "tabbable": null,
       "tooltip": null
      }
     },
     "0877ce727cb94b50a5186d850be3611d": {
      "model_module": "@jupyter-widgets/base",
      "model_module_version": "2.0.0",
      "model_name": "LayoutModel",
      "state": {
       "_model_module": "@jupyter-widgets/base",
       "_model_module_version": "2.0.0",
       "_model_name": "LayoutModel",
       "_view_count": null,
       "_view_module": "@jupyter-widgets/base",
       "_view_module_version": "2.0.0",
       "_view_name": "LayoutView",
       "align_content": null,
       "align_items": null,
       "align_self": null,
       "border_bottom": null,
       "border_left": null,
       "border_right": null,
       "border_top": null,
       "bottom": null,
       "display": null,
       "flex": null,
       "flex_flow": null,
       "grid_area": null,
       "grid_auto_columns": null,
       "grid_auto_flow": null,
       "grid_auto_rows": null,
       "grid_column": null,
       "grid_gap": null,
       "grid_row": null,
       "grid_template_areas": null,
       "grid_template_columns": null,
       "grid_template_rows": null,
       "height": null,
       "justify_content": null,
       "justify_items": null,
       "left": null,
       "margin": null,
       "max_height": null,
       "max_width": null,
       "min_height": null,
       "min_width": null,
       "object_fit": null,
       "object_position": null,
       "order": null,
       "overflow": null,
       "padding": null,
       "right": null,
       "top": null,
       "visibility": null,
       "width": null
      }
     },
     "08fd7dd8112843b2a60fb683a86a0f4f": {
      "model_module": "@jupyter-widgets/controls",
      "model_module_version": "2.0.0",
      "model_name": "ProgressStyleModel",
      "state": {
       "_model_module": "@jupyter-widgets/controls",
       "_model_module_version": "2.0.0",
       "_model_name": "ProgressStyleModel",
       "_view_count": null,
       "_view_module": "@jupyter-widgets/base",
       "_view_module_version": "2.0.0",
       "_view_name": "StyleView",
       "bar_color": null,
       "description_width": ""
      }
     },
     "0b8ce68009ca42ccb92d564e579f7625": {
      "model_module": "@jupyter-widgets/controls",
      "model_module_version": "2.0.0",
      "model_name": "HTMLModel",
      "state": {
       "_dom_classes": [],
       "_model_module": "@jupyter-widgets/controls",
       "_model_module_version": "2.0.0",
       "_model_name": "HTMLModel",
       "_view_count": null,
       "_view_module": "@jupyter-widgets/controls",
       "_view_module_version": "2.0.0",
       "_view_name": "HTMLView",
       "description": "",
       "description_allow_html": false,
       "layout": "IPY_MODEL_531377ff8b794280af3cc52c74bf9691",
       "placeholder": "​",
       "style": "IPY_MODEL_9c34c6bd5d4240478f3c1f49e4778d59",
       "tabbable": null,
       "tooltip": null,
       "value": "Map: 100%"
      }
     },
     "0e08092b210249be901f7423c261684e": {
      "model_module": "@jupyter-widgets/base",
      "model_module_version": "2.0.0",
      "model_name": "LayoutModel",
      "state": {
       "_model_module": "@jupyter-widgets/base",
       "_model_module_version": "2.0.0",
       "_model_name": "LayoutModel",
       "_view_count": null,
       "_view_module": "@jupyter-widgets/base",
       "_view_module_version": "2.0.0",
       "_view_name": "LayoutView",
       "align_content": null,
       "align_items": null,
       "align_self": null,
       "border_bottom": null,
       "border_left": null,
       "border_right": null,
       "border_top": null,
       "bottom": null,
       "display": null,
       "flex": null,
       "flex_flow": null,
       "grid_area": null,
       "grid_auto_columns": null,
       "grid_auto_flow": null,
       "grid_auto_rows": null,
       "grid_column": null,
       "grid_gap": null,
       "grid_row": null,
       "grid_template_areas": null,
       "grid_template_columns": null,
       "grid_template_rows": null,
       "height": null,
       "justify_content": null,
       "justify_items": null,
       "left": null,
       "margin": null,
       "max_height": null,
       "max_width": null,
       "min_height": null,
       "min_width": null,
       "object_fit": null,
       "object_position": null,
       "order": null,
       "overflow": null,
       "padding": null,
       "right": null,
       "top": null,
       "visibility": null,
       "width": null
      }
     },
     "0eb5d681ad544e2f8dce2e04e1c4300d": {
      "model_module": "@jupyter-widgets/controls",
      "model_module_version": "2.0.0",
      "model_name": "HTMLStyleModel",
      "state": {
       "_model_module": "@jupyter-widgets/controls",
       "_model_module_version": "2.0.0",
       "_model_name": "HTMLStyleModel",
       "_view_count": null,
       "_view_module": "@jupyter-widgets/base",
       "_view_module_version": "2.0.0",
       "_view_name": "StyleView",
       "background": null,
       "description_width": "",
       "font_size": null,
       "text_color": null
      }
     },
     "178124ebac234f3c909271db2647acce": {
      "model_module": "@jupyter-widgets/controls",
      "model_module_version": "2.0.0",
      "model_name": "HTMLModel",
      "state": {
       "_dom_classes": [],
       "_model_module": "@jupyter-widgets/controls",
       "_model_module_version": "2.0.0",
       "_model_name": "HTMLModel",
       "_view_count": null,
       "_view_module": "@jupyter-widgets/controls",
       "_view_module_version": "2.0.0",
       "_view_name": "HTMLView",
       "description": "",
       "description_allow_html": false,
       "layout": "IPY_MODEL_8d95b5b28a3f423c883b431df90112d1",
       "placeholder": "​",
       "style": "IPY_MODEL_ed49f4c5fad2462c8db58336e2686a90",
       "tabbable": null,
       "tooltip": null,
       "value": " 112/112 [00:00&lt;00:00, 9.50kB/s]"
      }
     },
     "236a792facf44d8b9d40a9d4a45340f6": {
      "model_module": "@jupyter-widgets/controls",
      "model_module_version": "2.0.0",
      "model_name": "HBoxModel",
      "state": {
       "_dom_classes": [],
       "_model_module": "@jupyter-widgets/controls",
       "_model_module_version": "2.0.0",
       "_model_name": "HBoxModel",
       "_view_count": null,
       "_view_module": "@jupyter-widgets/controls",
       "_view_module_version": "2.0.0",
       "_view_name": "HBoxView",
       "box_style": "",
       "children": [
        "IPY_MODEL_abe411fae0cf4daca0076b7da07d85a3",
        "IPY_MODEL_98f4b0821c164c5b8f0e779097be2c90",
        "IPY_MODEL_c80e7724226b4ec7bbcae465d43ef323"
       ],
       "layout": "IPY_MODEL_7fecbbaec93241bda37d1d939b08f065",
       "tabbable": null,
       "tooltip": null
      }
     },
     "2af90e8835ab42baa7c374bfc97895fe": {
      "model_module": "@jupyter-widgets/controls",
      "model_module_version": "2.0.0",
      "model_name": "HTMLModel",
      "state": {
       "_dom_classes": [],
       "_model_module": "@jupyter-widgets/controls",
       "_model_module_version": "2.0.0",
       "_model_name": "HTMLModel",
       "_view_count": null,
       "_view_module": "@jupyter-widgets/controls",
       "_view_module_version": "2.0.0",
       "_view_name": "HTMLView",
       "description": "",
       "description_allow_html": false,
       "layout": "IPY_MODEL_45ca93f08f9748a0863872d730688650",
       "placeholder": "​",
       "style": "IPY_MODEL_a59f53e78a914792a9f23d0acac5345d",
       "tabbable": null,
       "tooltip": null,
       "value": " 25636/25636 [00:02&lt;00:00, 10728.09 examples/s]"
      }
     },
     "318401fc1d0e45ae8585d3f27e53b4e9": {
      "model_module": "@jupyter-widgets/controls",
      "model_module_version": "2.0.0",
      "model_name": "HTMLStyleModel",
      "state": {
       "_model_module": "@jupyter-widgets/controls",
       "_model_module_version": "2.0.0",
       "_model_name": "HTMLStyleModel",
       "_view_count": null,
       "_view_module": "@jupyter-widgets/base",
       "_view_module_version": "2.0.0",
       "_view_name": "StyleView",
       "background": null,
       "description_width": "",
       "font_size": null,
       "text_color": null
      }
     },
     "35e486e2e7ca4d9aa5e8ab4c6a4a393b": {
      "model_module": "@jupyter-widgets/base",
      "model_module_version": "2.0.0",
      "model_name": "LayoutModel",
      "state": {
       "_model_module": "@jupyter-widgets/base",
       "_model_module_version": "2.0.0",
       "_model_name": "LayoutModel",
       "_view_count": null,
       "_view_module": "@jupyter-widgets/base",
       "_view_module_version": "2.0.0",
       "_view_name": "LayoutView",
       "align_content": null,
       "align_items": null,
       "align_self": null,
       "border_bottom": null,
       "border_left": null,
       "border_right": null,
       "border_top": null,
       "bottom": null,
       "display": null,
       "flex": null,
       "flex_flow": null,
       "grid_area": null,
       "grid_auto_columns": null,
       "grid_auto_flow": null,
       "grid_auto_rows": null,
       "grid_column": null,
       "grid_gap": null,
       "grid_row": null,
       "grid_template_areas": null,
       "grid_template_columns": null,
       "grid_template_rows": null,
       "height": null,
       "justify_content": null,
       "justify_items": null,
       "left": null,
       "margin": null,
       "max_height": null,
       "max_width": null,
       "min_height": null,
       "min_width": null,
       "object_fit": null,
       "object_position": null,
       "order": null,
       "overflow": null,
       "padding": null,
       "right": null,
       "top": null,
       "visibility": null,
       "width": null
      }
     },
     "3aa015d6de5847f99646fd0a1963b310": {
      "model_module": "@jupyter-widgets/base",
      "model_module_version": "2.0.0",
      "model_name": "LayoutModel",
      "state": {
       "_model_module": "@jupyter-widgets/base",
       "_model_module_version": "2.0.0",
       "_model_name": "LayoutModel",
       "_view_count": null,
       "_view_module": "@jupyter-widgets/base",
       "_view_module_version": "2.0.0",
       "_view_name": "LayoutView",
       "align_content": null,
       "align_items": null,
       "align_self": null,
       "border_bottom": null,
       "border_left": null,
       "border_right": null,
       "border_top": null,
       "bottom": null,
       "display": null,
       "flex": null,
       "flex_flow": null,
       "grid_area": null,
       "grid_auto_columns": null,
       "grid_auto_flow": null,
       "grid_auto_rows": null,
       "grid_column": null,
       "grid_gap": null,
       "grid_row": null,
       "grid_template_areas": null,
       "grid_template_columns": null,
       "grid_template_rows": null,
       "height": null,
       "justify_content": null,
       "justify_items": null,
       "left": null,
       "margin": null,
       "max_height": null,
       "max_width": null,
       "min_height": null,
       "min_width": null,
       "object_fit": null,
       "object_position": null,
       "order": null,
       "overflow": null,
       "padding": null,
       "right": null,
       "top": null,
       "visibility": null,
       "width": null
      }
     },
     "454a1693bc774b77afe94b605806b560": {
      "model_module": "@jupyter-widgets/controls",
      "model_module_version": "2.0.0",
      "model_name": "FloatProgressModel",
      "state": {
       "_dom_classes": [],
       "_model_module": "@jupyter-widgets/controls",
       "_model_module_version": "2.0.0",
       "_model_name": "FloatProgressModel",
       "_view_count": null,
       "_view_module": "@jupyter-widgets/controls",
       "_view_module_version": "2.0.0",
       "_view_name": "ProgressView",
       "bar_style": "success",
       "description": "",
       "description_allow_html": false,
       "layout": "IPY_MODEL_b2bb5b7298d147a3bb3df7f04613e5fd",
       "max": 25636.0,
       "min": 0.0,
       "orientation": "horizontal",
       "style": "IPY_MODEL_6a17207163b844a4b2f9e849d8da5c5b",
       "tabbable": null,
       "tooltip": null,
       "value": 25636.0
      }
     },
     "45ca93f08f9748a0863872d730688650": {
      "model_module": "@jupyter-widgets/base",
      "model_module_version": "2.0.0",
      "model_name": "LayoutModel",
      "state": {
       "_model_module": "@jupyter-widgets/base",
       "_model_module_version": "2.0.0",
       "_model_name": "LayoutModel",
       "_view_count": null,
       "_view_module": "@jupyter-widgets/base",
       "_view_module_version": "2.0.0",
       "_view_name": "LayoutView",
       "align_content": null,
       "align_items": null,
       "align_self": null,
       "border_bottom": null,
       "border_left": null,
       "border_right": null,
       "border_top": null,
       "bottom": null,
       "display": null,
       "flex": null,
       "flex_flow": null,
       "grid_area": null,
       "grid_auto_columns": null,
       "grid_auto_flow": null,
       "grid_auto_rows": null,
       "grid_column": null,
       "grid_gap": null,
       "grid_row": null,
       "grid_template_areas": null,
       "grid_template_columns": null,
       "grid_template_rows": null,
       "height": null,
       "justify_content": null,
       "justify_items": null,
       "left": null,
       "margin": null,
       "max_height": null,
       "max_width": null,
       "min_height": null,
       "min_width": null,
       "object_fit": null,
       "object_position": null,
       "order": null,
       "overflow": null,
       "padding": null,
       "right": null,
       "top": null,
       "visibility": null,
       "width": null
      }
     },
     "501a95715143480aad74cd05ceac6f58": {
      "model_module": "@jupyter-widgets/controls",
      "model_module_version": "2.0.0",
      "model_name": "ProgressStyleModel",
      "state": {
       "_model_module": "@jupyter-widgets/controls",
       "_model_module_version": "2.0.0",
       "_model_name": "ProgressStyleModel",
       "_view_count": null,
       "_view_module": "@jupyter-widgets/base",
       "_view_module_version": "2.0.0",
       "_view_name": "StyleView",
       "bar_color": null,
       "description_width": ""
      }
     },
     "52cf485d21e0444588761a33399a58d9": {
      "model_module": "@jupyter-widgets/controls",
      "model_module_version": "2.0.0",
      "model_name": "HTMLStyleModel",
      "state": {
       "_model_module": "@jupyter-widgets/controls",
       "_model_module_version": "2.0.0",
       "_model_name": "HTMLStyleModel",
       "_view_count": null,
       "_view_module": "@jupyter-widgets/base",
       "_view_module_version": "2.0.0",
       "_view_name": "StyleView",
       "background": null,
       "description_width": "",
       "font_size": null,
       "text_color": null
      }
     },
     "530bd65847ee41cdb18361420c824b7b": {
      "model_module": "@jupyter-widgets/controls",
      "model_module_version": "2.0.0",
      "model_name": "ProgressStyleModel",
      "state": {
       "_model_module": "@jupyter-widgets/controls",
       "_model_module_version": "2.0.0",
       "_model_name": "ProgressStyleModel",
       "_view_count": null,
       "_view_module": "@jupyter-widgets/base",
       "_view_module_version": "2.0.0",
       "_view_name": "StyleView",
       "bar_color": null,
       "description_width": ""
      }
     },
     "531377ff8b794280af3cc52c74bf9691": {
      "model_module": "@jupyter-widgets/base",
      "model_module_version": "2.0.0",
      "model_name": "LayoutModel",
      "state": {
       "_model_module": "@jupyter-widgets/base",
       "_model_module_version": "2.0.0",
       "_model_name": "LayoutModel",
       "_view_count": null,
       "_view_module": "@jupyter-widgets/base",
       "_view_module_version": "2.0.0",
       "_view_name": "LayoutView",
       "align_content": null,
       "align_items": null,
       "align_self": null,
       "border_bottom": null,
       "border_left": null,
       "border_right": null,
       "border_top": null,
       "bottom": null,
       "display": null,
       "flex": null,
       "flex_flow": null,
       "grid_area": null,
       "grid_auto_columns": null,
       "grid_auto_flow": null,
       "grid_auto_rows": null,
       "grid_column": null,
       "grid_gap": null,
       "grid_row": null,
       "grid_template_areas": null,
       "grid_template_columns": null,
       "grid_template_rows": null,
       "height": null,
       "justify_content": null,
       "justify_items": null,
       "left": null,
       "margin": null,
       "max_height": null,
       "max_width": null,
       "min_height": null,
       "min_width": null,
       "object_fit": null,
       "object_position": null,
       "order": null,
       "overflow": null,
       "padding": null,
       "right": null,
       "top": null,
       "visibility": null,
       "width": null
      }
     },
     "56663802166243ecb8b56fdc220a60af": {
      "model_module": "@jupyter-widgets/controls",
      "model_module_version": "2.0.0",
      "model_name": "HTMLStyleModel",
      "state": {
       "_model_module": "@jupyter-widgets/controls",
       "_model_module_version": "2.0.0",
       "_model_name": "HTMLStyleModel",
       "_view_count": null,
       "_view_module": "@jupyter-widgets/base",
       "_view_module_version": "2.0.0",
       "_view_name": "StyleView",
       "background": null,
       "description_width": "",
       "font_size": null,
       "text_color": null
      }
     },
     "60093464a7ff412a9d5c2524096db900": {
      "model_module": "@jupyter-widgets/controls",
      "model_module_version": "2.0.0",
      "model_name": "HBoxModel",
      "state": {
       "_dom_classes": [],
       "_model_module": "@jupyter-widgets/controls",
       "_model_module_version": "2.0.0",
       "_model_name": "HBoxModel",
       "_view_count": null,
       "_view_module": "@jupyter-widgets/controls",
       "_view_module_version": "2.0.0",
       "_view_name": "HBoxView",
       "box_style": "",
       "children": [
        "IPY_MODEL_fabf6ab05eda4d27a817b7d650ef62c6",
        "IPY_MODEL_a8491312dc2a47c6a9822c7967c09d48",
        "IPY_MODEL_e81d10c8e7e24d97be9c3e17754d1bca"
       ],
       "layout": "IPY_MODEL_01465768f6554d38bd6fcfd2ac199297",
       "tabbable": null,
       "tooltip": null
      }
     },
     "67695c85d6ae400ba1837234a381a505": {
      "model_module": "@jupyter-widgets/controls",
      "model_module_version": "2.0.0",
      "model_name": "FloatProgressModel",
      "state": {
       "_dom_classes": [],
       "_model_module": "@jupyter-widgets/controls",
       "_model_module_version": "2.0.0",
       "_model_name": "FloatProgressModel",
       "_view_count": null,
       "_view_module": "@jupyter-widgets/controls",
       "_view_module_version": "2.0.0",
       "_view_name": "ProgressView",
       "bar_style": "success",
       "description": "",
       "description_allow_html": false,
       "layout": "IPY_MODEL_b9684e03e69542fb8fbebc6060844235",
       "max": 1346790431.0,
       "min": 0.0,
       "orientation": "horizontal",
       "style": "IPY_MODEL_e88f4bb830be4835aeb49ae97f3c04d8",
       "tabbable": null,
       "tooltip": null,
       "value": 1346790431.0
      }
     },
     "6a17207163b844a4b2f9e849d8da5c5b": {
      "model_module": "@jupyter-widgets/controls",
      "model_module_version": "2.0.0",
      "model_name": "ProgressStyleModel",
      "state": {
       "_model_module": "@jupyter-widgets/controls",
       "_model_module_version": "2.0.0",
       "_model_name": "ProgressStyleModel",
       "_view_count": null,
       "_view_module": "@jupyter-widgets/base",
       "_view_module_version": "2.0.0",
       "_view_name": "StyleView",
       "bar_color": null,
       "description_width": ""
      }
     },
     "70d60b4fd50a49bb926c98c939eb54ad": {
      "model_module": "@jupyter-widgets/controls",
      "model_module_version": "2.0.0",
      "model_name": "HTMLStyleModel",
      "state": {
       "_model_module": "@jupyter-widgets/controls",
       "_model_module_version": "2.0.0",
       "_model_name": "HTMLStyleModel",
       "_view_count": null,
       "_view_module": "@jupyter-widgets/base",
       "_view_module_version": "2.0.0",
       "_view_name": "StyleView",
       "background": null,
       "description_width": "",
       "font_size": null,
       "text_color": null
      }
     },
     "71f59c05858346ec914888be239a0a6d": {
      "model_module": "@jupyter-widgets/base",
      "model_module_version": "2.0.0",
      "model_name": "LayoutModel",
      "state": {
       "_model_module": "@jupyter-widgets/base",
       "_model_module_version": "2.0.0",
       "_model_name": "LayoutModel",
       "_view_count": null,
       "_view_module": "@jupyter-widgets/base",
       "_view_module_version": "2.0.0",
       "_view_name": "LayoutView",
       "align_content": null,
       "align_items": null,
       "align_self": null,
       "border_bottom": null,
       "border_left": null,
       "border_right": null,
       "border_top": null,
       "bottom": null,
       "display": null,
       "flex": null,
       "flex_flow": null,
       "grid_area": null,
       "grid_auto_columns": null,
       "grid_auto_flow": null,
       "grid_auto_rows": null,
       "grid_column": null,
       "grid_gap": null,
       "grid_row": null,
       "grid_template_areas": null,
       "grid_template_columns": null,
       "grid_template_rows": null,
       "height": null,
       "justify_content": null,
       "justify_items": null,
       "left": null,
       "margin": null,
       "max_height": null,
       "max_width": null,
       "min_height": null,
       "min_width": null,
       "object_fit": null,
       "object_position": null,
       "order": null,
       "overflow": null,
       "padding": null,
       "right": null,
       "top": null,
       "visibility": null,
       "width": null
      }
     },
     "7fc471446640444a860e10cb95bba6f0": {
      "model_module": "@jupyter-widgets/base",
      "model_module_version": "2.0.0",
      "model_name": "LayoutModel",
      "state": {
       "_model_module": "@jupyter-widgets/base",
       "_model_module_version": "2.0.0",
       "_model_name": "LayoutModel",
       "_view_count": null,
       "_view_module": "@jupyter-widgets/base",
       "_view_module_version": "2.0.0",
       "_view_name": "LayoutView",
       "align_content": null,
       "align_items": null,
       "align_self": null,
       "border_bottom": null,
       "border_left": null,
       "border_right": null,
       "border_top": null,
       "bottom": null,
       "display": null,
       "flex": null,
       "flex_flow": null,
       "grid_area": null,
       "grid_auto_columns": null,
       "grid_auto_flow": null,
       "grid_auto_rows": null,
       "grid_column": null,
       "grid_gap": null,
       "grid_row": null,
       "grid_template_areas": null,
       "grid_template_columns": null,
       "grid_template_rows": null,
       "height": null,
       "justify_content": null,
       "justify_items": null,
       "left": null,
       "margin": null,
       "max_height": null,
       "max_width": null,
       "min_height": null,
       "min_width": null,
       "object_fit": null,
       "object_position": null,
       "order": null,
       "overflow": null,
       "padding": null,
       "right": null,
       "top": null,
       "visibility": null,
       "width": null
      }
     },
     "7fd784af07fe41df96d5588a1605b95a": {
      "model_module": "@jupyter-widgets/base",
      "model_module_version": "2.0.0",
      "model_name": "LayoutModel",
      "state": {
       "_model_module": "@jupyter-widgets/base",
       "_model_module_version": "2.0.0",
       "_model_name": "LayoutModel",
       "_view_count": null,
       "_view_module": "@jupyter-widgets/base",
       "_view_module_version": "2.0.0",
       "_view_name": "LayoutView",
       "align_content": null,
       "align_items": null,
       "align_self": null,
       "border_bottom": null,
       "border_left": null,
       "border_right": null,
       "border_top": null,
       "bottom": null,
       "display": null,
       "flex": null,
       "flex_flow": null,
       "grid_area": null,
       "grid_auto_columns": null,
       "grid_auto_flow": null,
       "grid_auto_rows": null,
       "grid_column": null,
       "grid_gap": null,
       "grid_row": null,
       "grid_template_areas": null,
       "grid_template_columns": null,
       "grid_template_rows": null,
       "height": null,
       "justify_content": null,
       "justify_items": null,
       "left": null,
       "margin": null,
       "max_height": null,
       "max_width": null,
       "min_height": null,
       "min_width": null,
       "object_fit": null,
       "object_position": null,
       "order": null,
       "overflow": null,
       "padding": null,
       "right": null,
       "top": null,
       "visibility": null,
       "width": null
      }
     },
     "7fecbbaec93241bda37d1d939b08f065": {
      "model_module": "@jupyter-widgets/base",
      "model_module_version": "2.0.0",
      "model_name": "LayoutModel",
      "state": {
       "_model_module": "@jupyter-widgets/base",
       "_model_module_version": "2.0.0",
       "_model_name": "LayoutModel",
       "_view_count": null,
       "_view_module": "@jupyter-widgets/base",
       "_view_module_version": "2.0.0",
       "_view_name": "LayoutView",
       "align_content": null,
       "align_items": null,
       "align_self": null,
       "border_bottom": null,
       "border_left": null,
       "border_right": null,
       "border_top": null,
       "bottom": null,
       "display": null,
       "flex": null,
       "flex_flow": null,
       "grid_area": null,
       "grid_auto_columns": null,
       "grid_auto_flow": null,
       "grid_auto_rows": null,
       "grid_column": null,
       "grid_gap": null,
       "grid_row": null,
       "grid_template_areas": null,
       "grid_template_columns": null,
       "grid_template_rows": null,
       "height": null,
       "justify_content": null,
       "justify_items": null,
       "left": null,
       "margin": null,
       "max_height": null,
       "max_width": null,
       "min_height": null,
       "min_width": null,
       "object_fit": null,
       "object_position": null,
       "order": null,
       "overflow": null,
       "padding": null,
       "right": null,
       "top": null,
       "visibility": null,
       "width": null
      }
     },
     "8d95b5b28a3f423c883b431df90112d1": {
      "model_module": "@jupyter-widgets/base",
      "model_module_version": "2.0.0",
      "model_name": "LayoutModel",
      "state": {
       "_model_module": "@jupyter-widgets/base",
       "_model_module_version": "2.0.0",
       "_model_name": "LayoutModel",
       "_view_count": null,
       "_view_module": "@jupyter-widgets/base",
       "_view_module_version": "2.0.0",
       "_view_name": "LayoutView",
       "align_content": null,
       "align_items": null,
       "align_self": null,
       "border_bottom": null,
       "border_left": null,
       "border_right": null,
       "border_top": null,
       "bottom": null,
       "display": null,
       "flex": null,
       "flex_flow": null,
       "grid_area": null,
       "grid_auto_columns": null,
       "grid_auto_flow": null,
       "grid_auto_rows": null,
       "grid_column": null,
       "grid_gap": null,
       "grid_row": null,
       "grid_template_areas": null,
       "grid_template_columns": null,
       "grid_template_rows": null,
       "height": null,
       "justify_content": null,
       "justify_items": null,
       "left": null,
       "margin": null,
       "max_height": null,
       "max_width": null,
       "min_height": null,
       "min_width": null,
       "object_fit": null,
       "object_position": null,
       "order": null,
       "overflow": null,
       "padding": null,
       "right": null,
       "top": null,
       "visibility": null,
       "width": null
      }
     },
     "8f30a6c0d81743c5975a922a6458e774": {
      "model_module": "@jupyter-widgets/controls",
      "model_module_version": "2.0.0",
      "model_name": "HTMLStyleModel",
      "state": {
       "_model_module": "@jupyter-widgets/controls",
       "_model_module_version": "2.0.0",
       "_model_name": "HTMLStyleModel",
       "_view_count": null,
       "_view_module": "@jupyter-widgets/base",
       "_view_module_version": "2.0.0",
       "_view_name": "StyleView",
       "background": null,
       "description_width": "",
       "font_size": null,
       "text_color": null
      }
     },
     "90b54116be994ab691f3e0eead816ac4": {
      "model_module": "@jupyter-widgets/base",
      "model_module_version": "2.0.0",
      "model_name": "LayoutModel",
      "state": {
       "_model_module": "@jupyter-widgets/base",
       "_model_module_version": "2.0.0",
       "_model_name": "LayoutModel",
       "_view_count": null,
       "_view_module": "@jupyter-widgets/base",
       "_view_module_version": "2.0.0",
       "_view_name": "LayoutView",
       "align_content": null,
       "align_items": null,
       "align_self": null,
       "border_bottom": null,
       "border_left": null,
       "border_right": null,
       "border_top": null,
       "bottom": null,
       "display": null,
       "flex": null,
       "flex_flow": null,
       "grid_area": null,
       "grid_auto_columns": null,
       "grid_auto_flow": null,
       "grid_auto_rows": null,
       "grid_column": null,
       "grid_gap": null,
       "grid_row": null,
       "grid_template_areas": null,
       "grid_template_columns": null,
       "grid_template_rows": null,
       "height": null,
       "justify_content": null,
       "justify_items": null,
       "left": null,
       "margin": null,
       "max_height": null,
       "max_width": null,
       "min_height": null,
       "min_width": null,
       "object_fit": null,
       "object_position": null,
       "order": null,
       "overflow": null,
       "padding": null,
       "right": null,
       "top": null,
       "visibility": null,
       "width": null
      }
     },
     "9620b44c9b18450e97d7e76169f2cc92": {
      "model_module": "@jupyter-widgets/controls",
      "model_module_version": "2.0.0",
      "model_name": "HTMLModel",
      "state": {
       "_dom_classes": [],
       "_model_module": "@jupyter-widgets/controls",
       "_model_module_version": "2.0.0",
       "_model_name": "HTMLModel",
       "_view_count": null,
       "_view_module": "@jupyter-widgets/controls",
       "_view_module_version": "2.0.0",
       "_view_name": "HTMLView",
       "description": "",
       "description_allow_html": false,
       "layout": "IPY_MODEL_c458cca809914249865d6c0c874f8a35",
       "placeholder": "​",
       "style": "IPY_MODEL_a7c22abc89384f5bac2e4675d7011a40",
       "tabbable": null,
       "tooltip": null,
       "value": "vocab.txt: 100%"
      }
     },
     "98f4b0821c164c5b8f0e779097be2c90": {
      "model_module": "@jupyter-widgets/controls",
      "model_module_version": "2.0.0",
      "model_name": "FloatProgressModel",
      "state": {
       "_dom_classes": [],
       "_model_module": "@jupyter-widgets/controls",
       "_model_module_version": "2.0.0",
       "_model_name": "FloatProgressModel",
       "_view_count": null,
       "_view_module": "@jupyter-widgets/controls",
       "_view_module_version": "2.0.0",
       "_view_name": "ProgressView",
       "bar_style": "success",
       "description": "",
       "description_allow_html": false,
       "layout": "IPY_MODEL_0877ce727cb94b50a5186d850be3611d",
       "max": 880.0,
       "min": 0.0,
       "orientation": "horizontal",
       "style": "IPY_MODEL_08fd7dd8112843b2a60fb683a86a0f4f",
       "tabbable": null,
       "tooltip": null,
       "value": 880.0
      }
     },
     "9c34c6bd5d4240478f3c1f49e4778d59": {
      "model_module": "@jupyter-widgets/controls",
      "model_module_version": "2.0.0",
      "model_name": "HTMLStyleModel",
      "state": {
       "_model_module": "@jupyter-widgets/controls",
       "_model_module_version": "2.0.0",
       "_model_name": "HTMLStyleModel",
       "_view_count": null,
       "_view_module": "@jupyter-widgets/base",
       "_view_module_version": "2.0.0",
       "_view_name": "StyleView",
       "background": null,
       "description_width": "",
       "font_size": null,
       "text_color": null
      }
     },
     "a59f53e78a914792a9f23d0acac5345d": {
      "model_module": "@jupyter-widgets/controls",
      "model_module_version": "2.0.0",
      "model_name": "HTMLStyleModel",
      "state": {
       "_model_module": "@jupyter-widgets/controls",
       "_model_module_version": "2.0.0",
       "_model_name": "HTMLStyleModel",
       "_view_count": null,
       "_view_module": "@jupyter-widgets/base",
       "_view_module_version": "2.0.0",
       "_view_name": "StyleView",
       "background": null,
       "description_width": "",
       "font_size": null,
       "text_color": null
      }
     },
     "a7c22abc89384f5bac2e4675d7011a40": {
      "model_module": "@jupyter-widgets/controls",
      "model_module_version": "2.0.0",
      "model_name": "HTMLStyleModel",
      "state": {
       "_model_module": "@jupyter-widgets/controls",
       "_model_module_version": "2.0.0",
       "_model_name": "HTMLStyleModel",
       "_view_count": null,
       "_view_module": "@jupyter-widgets/base",
       "_view_module_version": "2.0.0",
       "_view_name": "StyleView",
       "background": null,
       "description_width": "",
       "font_size": null,
       "text_color": null
      }
     },
     "a8491312dc2a47c6a9822c7967c09d48": {
      "model_module": "@jupyter-widgets/controls",
      "model_module_version": "2.0.0",
      "model_name": "FloatProgressModel",
      "state": {
       "_dom_classes": [],
       "_model_module": "@jupyter-widgets/controls",
       "_model_module_version": "2.0.0",
       "_model_name": "FloatProgressModel",
       "_view_count": null,
       "_view_module": "@jupyter-widgets/controls",
       "_view_module_version": "2.0.0",
       "_view_name": "ProgressView",
       "bar_style": "success",
       "description": "",
       "description_allow_html": false,
       "layout": "IPY_MODEL_0e08092b210249be901f7423c261684e",
       "max": 119.0,
       "min": 0.0,
       "orientation": "horizontal",
       "style": "IPY_MODEL_501a95715143480aad74cd05ceac6f58",
       "tabbable": null,
       "tooltip": null,
       "value": 119.0
      }
     },
     "abe411fae0cf4daca0076b7da07d85a3": {
      "model_module": "@jupyter-widgets/controls",
      "model_module_version": "2.0.0",
      "model_name": "HTMLModel",
      "state": {
       "_dom_classes": [],
       "_model_module": "@jupyter-widgets/controls",
       "_model_module_version": "2.0.0",
       "_model_name": "HTMLModel",
       "_view_count": null,
       "_view_module": "@jupyter-widgets/controls",
       "_view_module_version": "2.0.0",
       "_view_name": "HTMLView",
       "description": "",
       "description_allow_html": false,
       "layout": "IPY_MODEL_babfd4838d3847c499d48113f5f4d178",
       "placeholder": "​",
       "style": "IPY_MODEL_56663802166243ecb8b56fdc220a60af",
       "tabbable": null,
       "tooltip": null,
       "value": "config.json: 100%"
      }
     },
     "af222fc7f81d48dfa5acc831dbefa9a7": {
      "model_module": "@jupyter-widgets/base",
      "model_module_version": "2.0.0",
      "model_name": "LayoutModel",
      "state": {
       "_model_module": "@jupyter-widgets/base",
       "_model_module_version": "2.0.0",
       "_model_name": "LayoutModel",
       "_view_count": null,
       "_view_module": "@jupyter-widgets/base",
       "_view_module_version": "2.0.0",
       "_view_name": "LayoutView",
       "align_content": null,
       "align_items": null,
       "align_self": null,
       "border_bottom": null,
       "border_left": null,
       "border_right": null,
       "border_top": null,
       "bottom": null,
       "display": null,
       "flex": null,
       "flex_flow": null,
       "grid_area": null,
       "grid_auto_columns": null,
       "grid_auto_flow": null,
       "grid_auto_rows": null,
       "grid_column": null,
       "grid_gap": null,
       "grid_row": null,
       "grid_template_areas": null,
       "grid_template_columns": null,
       "grid_template_rows": null,
       "height": null,
       "justify_content": null,
       "justify_items": null,
       "left": null,
       "margin": null,
       "max_height": null,
       "max_width": null,
       "min_height": null,
       "min_width": null,
       "object_fit": null,
       "object_position": null,
       "order": null,
       "overflow": null,
       "padding": null,
       "right": null,
       "top": null,
       "visibility": null,
       "width": null
      }
     },
     "b26be035d641439cb578783a30e10b86": {
      "model_module": "@jupyter-widgets/controls",
      "model_module_version": "2.0.0",
      "model_name": "HTMLStyleModel",
      "state": {
       "_model_module": "@jupyter-widgets/controls",
       "_model_module_version": "2.0.0",
       "_model_name": "HTMLStyleModel",
       "_view_count": null,
       "_view_module": "@jupyter-widgets/base",
       "_view_module_version": "2.0.0",
       "_view_name": "StyleView",
       "background": null,
       "description_width": "",
       "font_size": null,
       "text_color": null
      }
     },
     "b29a687f0d224ce39460d08d8b380528": {
      "model_module": "@jupyter-widgets/controls",
      "model_module_version": "2.0.0",
      "model_name": "HBoxModel",
      "state": {
       "_dom_classes": [],
       "_model_module": "@jupyter-widgets/controls",
       "_model_module_version": "2.0.0",
       "_model_name": "HBoxModel",
       "_view_count": null,
       "_view_module": "@jupyter-widgets/controls",
       "_view_module_version": "2.0.0",
       "_view_name": "HBoxView",
       "box_style": "",
       "children": [
        "IPY_MODEL_9620b44c9b18450e97d7e76169f2cc92",
        "IPY_MODEL_b584f0f87ea345e5af4b8ed31fd7c653",
        "IPY_MODEL_b2f8e0a1907c4bb9b0f4391f1c9ce4c6"
       ],
       "layout": "IPY_MODEL_f65534f89e8b4c6caabb10a032358440",
       "tabbable": null,
       "tooltip": null
      }
     },
     "b2bb5b7298d147a3bb3df7f04613e5fd": {
      "model_module": "@jupyter-widgets/base",
      "model_module_version": "2.0.0",
      "model_name": "LayoutModel",
      "state": {
       "_model_module": "@jupyter-widgets/base",
       "_model_module_version": "2.0.0",
       "_model_name": "LayoutModel",
       "_view_count": null,
       "_view_module": "@jupyter-widgets/base",
       "_view_module_version": "2.0.0",
       "_view_name": "LayoutView",
       "align_content": null,
       "align_items": null,
       "align_self": null,
       "border_bottom": null,
       "border_left": null,
       "border_right": null,
       "border_top": null,
       "bottom": null,
       "display": null,
       "flex": null,
       "flex_flow": null,
       "grid_area": null,
       "grid_auto_columns": null,
       "grid_auto_flow": null,
       "grid_auto_rows": null,
       "grid_column": null,
       "grid_gap": null,
       "grid_row": null,
       "grid_template_areas": null,
       "grid_template_columns": null,
       "grid_template_rows": null,
       "height": null,
       "justify_content": null,
       "justify_items": null,
       "left": null,
       "margin": null,
       "max_height": null,
       "max_width": null,
       "min_height": null,
       "min_width": null,
       "object_fit": null,
       "object_position": null,
       "order": null,
       "overflow": null,
       "padding": null,
       "right": null,
       "top": null,
       "visibility": null,
       "width": null
      }
     },
     "b2f8e0a1907c4bb9b0f4391f1c9ce4c6": {
      "model_module": "@jupyter-widgets/controls",
      "model_module_version": "2.0.0",
      "model_name": "HTMLModel",
      "state": {
       "_dom_classes": [],
       "_model_module": "@jupyter-widgets/controls",
       "_model_module_version": "2.0.0",
       "_model_name": "HTMLModel",
       "_view_count": null,
       "_view_module": "@jupyter-widgets/controls",
       "_view_module_version": "2.0.0",
       "_view_name": "HTMLView",
       "description": "",
       "description_allow_html": false,
       "layout": "IPY_MODEL_35e486e2e7ca4d9aa5e8ab4c6a4a393b",
       "placeholder": "​",
       "style": "IPY_MODEL_8f30a6c0d81743c5975a922a6458e774",
       "tabbable": null,
       "tooltip": null,
       "value": " 528k/528k [00:00&lt;00:00, 10.4MB/s]"
      }
     },
     "b584f0f87ea345e5af4b8ed31fd7c653": {
      "model_module": "@jupyter-widgets/controls",
      "model_module_version": "2.0.0",
      "model_name": "FloatProgressModel",
      "state": {
       "_dom_classes": [],
       "_model_module": "@jupyter-widgets/controls",
       "_model_module_version": "2.0.0",
       "_model_name": "FloatProgressModel",
       "_view_count": null,
       "_view_module": "@jupyter-widgets/controls",
       "_view_module_version": "2.0.0",
       "_view_name": "ProgressView",
       "bar_style": "success",
       "description": "",
       "description_allow_html": false,
       "layout": "IPY_MODEL_ec398887530d49f8abb569b40557573b",
       "max": 528316.0,
       "min": 0.0,
       "orientation": "horizontal",
       "style": "IPY_MODEL_530bd65847ee41cdb18361420c824b7b",
       "tabbable": null,
       "tooltip": null,
       "value": 528316.0
      }
     },
     "b9684e03e69542fb8fbebc6060844235": {
      "model_module": "@jupyter-widgets/base",
      "model_module_version": "2.0.0",
      "model_name": "LayoutModel",
      "state": {
       "_model_module": "@jupyter-widgets/base",
       "_model_module_version": "2.0.0",
       "_model_name": "LayoutModel",
       "_view_count": null,
       "_view_module": "@jupyter-widgets/base",
       "_view_module_version": "2.0.0",
       "_view_name": "LayoutView",
       "align_content": null,
       "align_items": null,
       "align_self": null,
       "border_bottom": null,
       "border_left": null,
       "border_right": null,
       "border_top": null,
       "bottom": null,
       "display": null,
       "flex": null,
       "flex_flow": null,
       "grid_area": null,
       "grid_auto_columns": null,
       "grid_auto_flow": null,
       "grid_auto_rows": null,
       "grid_column": null,
       "grid_gap": null,
       "grid_row": null,
       "grid_template_areas": null,
       "grid_template_columns": null,
       "grid_template_rows": null,
       "height": null,
       "justify_content": null,
       "justify_items": null,
       "left": null,
       "margin": null,
       "max_height": null,
       "max_width": null,
       "min_height": null,
       "min_width": null,
       "object_fit": null,
       "object_position": null,
       "order": null,
       "overflow": null,
       "padding": null,
       "right": null,
       "top": null,
       "visibility": null,
       "width": null
      }
     },
     "babfd4838d3847c499d48113f5f4d178": {
      "model_module": "@jupyter-widgets/base",
      "model_module_version": "2.0.0",
      "model_name": "LayoutModel",
      "state": {
       "_model_module": "@jupyter-widgets/base",
       "_model_module_version": "2.0.0",
       "_model_name": "LayoutModel",
       "_view_count": null,
       "_view_module": "@jupyter-widgets/base",
       "_view_module_version": "2.0.0",
       "_view_name": "LayoutView",
       "align_content": null,
       "align_items": null,
       "align_self": null,
       "border_bottom": null,
       "border_left": null,
       "border_right": null,
       "border_top": null,
       "bottom": null,
       "display": null,
       "flex": null,
       "flex_flow": null,
       "grid_area": null,
       "grid_auto_columns": null,
       "grid_auto_flow": null,
       "grid_auto_rows": null,
       "grid_column": null,
       "grid_gap": null,
       "grid_row": null,
       "grid_template_areas": null,
       "grid_template_columns": null,
       "grid_template_rows": null,
       "height": null,
       "justify_content": null,
       "justify_items": null,
       "left": null,
       "margin": null,
       "max_height": null,
       "max_width": null,
       "min_height": null,
       "min_width": null,
       "object_fit": null,
       "object_position": null,
       "order": null,
       "overflow": null,
       "padding": null,
       "right": null,
       "top": null,
       "visibility": null,
       "width": null
      }
     },
     "be4d7c40c0a542ce84bc48a5881bbdb6": {
      "model_module": "@jupyter-widgets/base",
      "model_module_version": "2.0.0",
      "model_name": "LayoutModel",
      "state": {
       "_model_module": "@jupyter-widgets/base",
       "_model_module_version": "2.0.0",
       "_model_name": "LayoutModel",
       "_view_count": null,
       "_view_module": "@jupyter-widgets/base",
       "_view_module_version": "2.0.0",
       "_view_name": "LayoutView",
       "align_content": null,
       "align_items": null,
       "align_self": null,
       "border_bottom": null,
       "border_left": null,
       "border_right": null,
       "border_top": null,
       "bottom": null,
       "display": null,
       "flex": null,
       "flex_flow": null,
       "grid_area": null,
       "grid_auto_columns": null,
       "grid_auto_flow": null,
       "grid_auto_rows": null,
       "grid_column": null,
       "grid_gap": null,
       "grid_row": null,
       "grid_template_areas": null,
       "grid_template_columns": null,
       "grid_template_rows": null,
       "height": null,
       "justify_content": null,
       "justify_items": null,
       "left": null,
       "margin": null,
       "max_height": null,
       "max_width": null,
       "min_height": null,
       "min_width": null,
       "object_fit": null,
       "object_position": null,
       "order": null,
       "overflow": null,
       "padding": null,
       "right": null,
       "top": null,
       "visibility": null,
       "width": null
      }
     },
     "c33470eadbaa47fda4dd58c3353b4ca4": {
      "model_module": "@jupyter-widgets/controls",
      "model_module_version": "2.0.0",
      "model_name": "HTMLModel",
      "state": {
       "_dom_classes": [],
       "_model_module": "@jupyter-widgets/controls",
       "_model_module_version": "2.0.0",
       "_model_name": "HTMLModel",
       "_view_count": null,
       "_view_module": "@jupyter-widgets/controls",
       "_view_module_version": "2.0.0",
       "_view_name": "HTMLView",
       "description": "",
       "description_allow_html": false,
       "layout": "IPY_MODEL_90b54116be994ab691f3e0eead816ac4",
       "placeholder": "​",
       "style": "IPY_MODEL_52cf485d21e0444588761a33399a58d9",
       "tabbable": null,
       "tooltip": null,
       "value": "pytorch_model.bin: 100%"
      }
     },
     "c458cca809914249865d6c0c874f8a35": {
      "model_module": "@jupyter-widgets/base",
      "model_module_version": "2.0.0",
      "model_name": "LayoutModel",
      "state": {
       "_model_module": "@jupyter-widgets/base",
       "_model_module_version": "2.0.0",
       "_model_name": "LayoutModel",
       "_view_count": null,
       "_view_module": "@jupyter-widgets/base",
       "_view_module_version": "2.0.0",
       "_view_name": "LayoutView",
       "align_content": null,
       "align_items": null,
       "align_self": null,
       "border_bottom": null,
       "border_left": null,
       "border_right": null,
       "border_top": null,
       "bottom": null,
       "display": null,
       "flex": null,
       "flex_flow": null,
       "grid_area": null,
       "grid_auto_columns": null,
       "grid_auto_flow": null,
       "grid_auto_rows": null,
       "grid_column": null,
       "grid_gap": null,
       "grid_row": null,
       "grid_template_areas": null,
       "grid_template_columns": null,
       "grid_template_rows": null,
       "height": null,
       "justify_content": null,
       "justify_items": null,
       "left": null,
       "margin": null,
       "max_height": null,
       "max_width": null,
       "min_height": null,
       "min_width": null,
       "object_fit": null,
       "object_position": null,
       "order": null,
       "overflow": null,
       "padding": null,
       "right": null,
       "top": null,
       "visibility": null,
       "width": null
      }
     },
     "c80e7724226b4ec7bbcae465d43ef323": {
      "model_module": "@jupyter-widgets/controls",
      "model_module_version": "2.0.0",
      "model_name": "HTMLModel",
      "state": {
       "_dom_classes": [],
       "_model_module": "@jupyter-widgets/controls",
       "_model_module_version": "2.0.0",
       "_model_name": "HTMLModel",
       "_view_count": null,
       "_view_module": "@jupyter-widgets/controls",
       "_view_module_version": "2.0.0",
       "_view_name": "HTMLView",
       "description": "",
       "description_allow_html": false,
       "layout": "IPY_MODEL_7fc471446640444a860e10cb95bba6f0",
       "placeholder": "​",
       "style": "IPY_MODEL_318401fc1d0e45ae8585d3f27e53b4e9",
       "tabbable": null,
       "tooltip": null,
       "value": " 880/880 [00:00&lt;00:00, 86.1kB/s]"
      }
     },
     "cbabf52ecf014d84bfe48977839466cf": {
      "model_module": "@jupyter-widgets/controls",
      "model_module_version": "2.0.0",
      "model_name": "HTMLModel",
      "state": {
       "_dom_classes": [],
       "_model_module": "@jupyter-widgets/controls",
       "_model_module_version": "2.0.0",
       "_model_name": "HTMLModel",
       "_view_count": null,
       "_view_module": "@jupyter-widgets/controls",
       "_view_module_version": "2.0.0",
       "_view_name": "HTMLView",
       "description": "",
       "description_allow_html": false,
       "layout": "IPY_MODEL_f780301c2e4540bea58736f98010ca64",
       "placeholder": "​",
       "style": "IPY_MODEL_d36e997fd5c74abf8a44013126f8b6e2",
       "tabbable": null,
       "tooltip": null,
       "value": " 1.35G/1.35G [00:05&lt;00:00, 241MB/s]"
      }
     },
     "d36e997fd5c74abf8a44013126f8b6e2": {
      "model_module": "@jupyter-widgets/controls",
      "model_module_version": "2.0.0",
      "model_name": "HTMLStyleModel",
      "state": {
       "_model_module": "@jupyter-widgets/controls",
       "_model_module_version": "2.0.0",
       "_model_name": "HTMLStyleModel",
       "_view_count": null,
       "_view_module": "@jupyter-widgets/base",
       "_view_module_version": "2.0.0",
       "_view_name": "StyleView",
       "background": null,
       "description_width": "",
       "font_size": null,
       "text_color": null
      }
     },
     "d73f4c6bf7e74bcdbee87806da5b9b6f": {
      "model_module": "@jupyter-widgets/controls",
      "model_module_version": "2.0.0",
      "model_name": "HTMLModel",
      "state": {
       "_dom_classes": [],
       "_model_module": "@jupyter-widgets/controls",
       "_model_module_version": "2.0.0",
       "_model_name": "HTMLModel",
       "_view_count": null,
       "_view_module": "@jupyter-widgets/controls",
       "_view_module_version": "2.0.0",
       "_view_name": "HTMLView",
       "description": "",
       "description_allow_html": false,
       "layout": "IPY_MODEL_7fd784af07fe41df96d5588a1605b95a",
       "placeholder": "​",
       "style": "IPY_MODEL_b26be035d641439cb578783a30e10b86",
       "tabbable": null,
       "tooltip": null,
       "value": "special_tokens_map.json: 100%"
      }
     },
     "d9ae08d2c9e44a98ae425bf7597cfe17": {
      "model_module": "@jupyter-widgets/controls",
      "model_module_version": "2.0.0",
      "model_name": "ProgressStyleModel",
      "state": {
       "_model_module": "@jupyter-widgets/controls",
       "_model_module_version": "2.0.0",
       "_model_name": "ProgressStyleModel",
       "_view_count": null,
       "_view_module": "@jupyter-widgets/base",
       "_view_module_version": "2.0.0",
       "_view_name": "StyleView",
       "bar_color": null,
       "description_width": ""
      }
     },
     "da539bea9de24bf98b99e6cabd5d13a1": {
      "model_module": "@jupyter-widgets/base",
      "model_module_version": "2.0.0",
      "model_name": "LayoutModel",
      "state": {
       "_model_module": "@jupyter-widgets/base",
       "_model_module_version": "2.0.0",
       "_model_name": "LayoutModel",
       "_view_count": null,
       "_view_module": "@jupyter-widgets/base",
       "_view_module_version": "2.0.0",
       "_view_name": "LayoutView",
       "align_content": null,
       "align_items": null,
       "align_self": null,
       "border_bottom": null,
       "border_left": null,
       "border_right": null,
       "border_top": null,
       "bottom": null,
       "display": null,
       "flex": null,
       "flex_flow": null,
       "grid_area": null,
       "grid_auto_columns": null,
       "grid_auto_flow": null,
       "grid_auto_rows": null,
       "grid_column": null,
       "grid_gap": null,
       "grid_row": null,
       "grid_template_areas": null,
       "grid_template_columns": null,
       "grid_template_rows": null,
       "height": null,
       "justify_content": null,
       "justify_items": null,
       "left": null,
       "margin": null,
       "max_height": null,
       "max_width": null,
       "min_height": null,
       "min_width": null,
       "object_fit": null,
       "object_position": null,
       "order": null,
       "overflow": null,
       "padding": null,
       "right": null,
       "top": null,
       "visibility": null,
       "width": null
      }
     },
     "e246ade6c4874f438a8162a9c939308d": {
      "model_module": "@jupyter-widgets/controls",
      "model_module_version": "2.0.0",
      "model_name": "FloatProgressModel",
      "state": {
       "_dom_classes": [],
       "_model_module": "@jupyter-widgets/controls",
       "_model_module_version": "2.0.0",
       "_model_name": "FloatProgressModel",
       "_view_count": null,
       "_view_module": "@jupyter-widgets/controls",
       "_view_module_version": "2.0.0",
       "_view_name": "ProgressView",
       "bar_style": "success",
       "description": "",
       "description_allow_html": false,
       "layout": "IPY_MODEL_3aa015d6de5847f99646fd0a1963b310",
       "max": 112.0,
       "min": 0.0,
       "orientation": "horizontal",
       "style": "IPY_MODEL_d9ae08d2c9e44a98ae425bf7597cfe17",
       "tabbable": null,
       "tooltip": null,
       "value": 112.0
      }
     },
     "e81d10c8e7e24d97be9c3e17754d1bca": {
      "model_module": "@jupyter-widgets/controls",
      "model_module_version": "2.0.0",
      "model_name": "HTMLModel",
      "state": {
       "_dom_classes": [],
       "_model_module": "@jupyter-widgets/controls",
       "_model_module_version": "2.0.0",
       "_model_name": "HTMLModel",
       "_view_count": null,
       "_view_module": "@jupyter-widgets/controls",
       "_view_module_version": "2.0.0",
       "_view_name": "HTMLView",
       "description": "",
       "description_allow_html": false,
       "layout": "IPY_MODEL_af222fc7f81d48dfa5acc831dbefa9a7",
       "placeholder": "​",
       "style": "IPY_MODEL_0eb5d681ad544e2f8dce2e04e1c4300d",
       "tabbable": null,
       "tooltip": null,
       "value": " 119/119 [00:00&lt;00:00, 11.1kB/s]"
      }
     },
     "e88f4bb830be4835aeb49ae97f3c04d8": {
      "model_module": "@jupyter-widgets/controls",
      "model_module_version": "2.0.0",
      "model_name": "ProgressStyleModel",
      "state": {
       "_model_module": "@jupyter-widgets/controls",
       "_model_module_version": "2.0.0",
       "_model_name": "ProgressStyleModel",
       "_view_count": null,
       "_view_module": "@jupyter-widgets/base",
       "_view_module_version": "2.0.0",
       "_view_name": "StyleView",
       "bar_color": null,
       "description_width": ""
      }
     },
     "ec398887530d49f8abb569b40557573b": {
      "model_module": "@jupyter-widgets/base",
      "model_module_version": "2.0.0",
      "model_name": "LayoutModel",
      "state": {
       "_model_module": "@jupyter-widgets/base",
       "_model_module_version": "2.0.0",
       "_model_name": "LayoutModel",
       "_view_count": null,
       "_view_module": "@jupyter-widgets/base",
       "_view_module_version": "2.0.0",
       "_view_name": "LayoutView",
       "align_content": null,
       "align_items": null,
       "align_self": null,
       "border_bottom": null,
       "border_left": null,
       "border_right": null,
       "border_top": null,
       "bottom": null,
       "display": null,
       "flex": null,
       "flex_flow": null,
       "grid_area": null,
       "grid_auto_columns": null,
       "grid_auto_flow": null,
       "grid_auto_rows": null,
       "grid_column": null,
       "grid_gap": null,
       "grid_row": null,
       "grid_template_areas": null,
       "grid_template_columns": null,
       "grid_template_rows": null,
       "height": null,
       "justify_content": null,
       "justify_items": null,
       "left": null,
       "margin": null,
       "max_height": null,
       "max_width": null,
       "min_height": null,
       "min_width": null,
       "object_fit": null,
       "object_position": null,
       "order": null,
       "overflow": null,
       "padding": null,
       "right": null,
       "top": null,
       "visibility": null,
       "width": null
      }
     },
     "ed49f4c5fad2462c8db58336e2686a90": {
      "model_module": "@jupyter-widgets/controls",
      "model_module_version": "2.0.0",
      "model_name": "HTMLStyleModel",
      "state": {
       "_model_module": "@jupyter-widgets/controls",
       "_model_module_version": "2.0.0",
       "_model_name": "HTMLStyleModel",
       "_view_count": null,
       "_view_module": "@jupyter-widgets/base",
       "_view_module_version": "2.0.0",
       "_view_name": "StyleView",
       "background": null,
       "description_width": "",
       "font_size": null,
       "text_color": null
      }
     },
     "f5c44b845c3b4a268716e15e38fa095a": {
      "model_module": "@jupyter-widgets/controls",
      "model_module_version": "2.0.0",
      "model_name": "HBoxModel",
      "state": {
       "_dom_classes": [],
       "_model_module": "@jupyter-widgets/controls",
       "_model_module_version": "2.0.0",
       "_model_name": "HBoxModel",
       "_view_count": null,
       "_view_module": "@jupyter-widgets/controls",
       "_view_module_version": "2.0.0",
       "_view_name": "HBoxView",
       "box_style": "",
       "children": [
        "IPY_MODEL_c33470eadbaa47fda4dd58c3353b4ca4",
        "IPY_MODEL_67695c85d6ae400ba1837234a381a505",
        "IPY_MODEL_cbabf52ecf014d84bfe48977839466cf"
       ],
       "layout": "IPY_MODEL_da539bea9de24bf98b99e6cabd5d13a1",
       "tabbable": null,
       "tooltip": null
      }
     },
     "f65534f89e8b4c6caabb10a032358440": {
      "model_module": "@jupyter-widgets/base",
      "model_module_version": "2.0.0",
      "model_name": "LayoutModel",
      "state": {
       "_model_module": "@jupyter-widgets/base",
       "_model_module_version": "2.0.0",
       "_model_name": "LayoutModel",
       "_view_count": null,
       "_view_module": "@jupyter-widgets/base",
       "_view_module_version": "2.0.0",
       "_view_name": "LayoutView",
       "align_content": null,
       "align_items": null,
       "align_self": null,
       "border_bottom": null,
       "border_left": null,
       "border_right": null,
       "border_top": null,
       "bottom": null,
       "display": null,
       "flex": null,
       "flex_flow": null,
       "grid_area": null,
       "grid_auto_columns": null,
       "grid_auto_flow": null,
       "grid_auto_rows": null,
       "grid_column": null,
       "grid_gap": null,
       "grid_row": null,
       "grid_template_areas": null,
       "grid_template_columns": null,
       "grid_template_rows": null,
       "height": null,
       "justify_content": null,
       "justify_items": null,
       "left": null,
       "margin": null,
       "max_height": null,
       "max_width": null,
       "min_height": null,
       "min_width": null,
       "object_fit": null,
       "object_position": null,
       "order": null,
       "overflow": null,
       "padding": null,
       "right": null,
       "top": null,
       "visibility": null,
       "width": null
      }
     },
     "f780301c2e4540bea58736f98010ca64": {
      "model_module": "@jupyter-widgets/base",
      "model_module_version": "2.0.0",
      "model_name": "LayoutModel",
      "state": {
       "_model_module": "@jupyter-widgets/base",
       "_model_module_version": "2.0.0",
       "_model_name": "LayoutModel",
       "_view_count": null,
       "_view_module": "@jupyter-widgets/base",
       "_view_module_version": "2.0.0",
       "_view_name": "LayoutView",
       "align_content": null,
       "align_items": null,
       "align_self": null,
       "border_bottom": null,
       "border_left": null,
       "border_right": null,
       "border_top": null,
       "bottom": null,
       "display": null,
       "flex": null,
       "flex_flow": null,
       "grid_area": null,
       "grid_auto_columns": null,
       "grid_auto_flow": null,
       "grid_auto_rows": null,
       "grid_column": null,
       "grid_gap": null,
       "grid_row": null,
       "grid_template_areas": null,
       "grid_template_columns": null,
       "grid_template_rows": null,
       "height": null,
       "justify_content": null,
       "justify_items": null,
       "left": null,
       "margin": null,
       "max_height": null,
       "max_width": null,
       "min_height": null,
       "min_width": null,
       "object_fit": null,
       "object_position": null,
       "order": null,
       "overflow": null,
       "padding": null,
       "right": null,
       "top": null,
       "visibility": null,
       "width": null
      }
     },
     "fabf6ab05eda4d27a817b7d650ef62c6": {
      "model_module": "@jupyter-widgets/controls",
      "model_module_version": "2.0.0",
      "model_name": "HTMLModel",
      "state": {
       "_dom_classes": [],
       "_model_module": "@jupyter-widgets/controls",
       "_model_module_version": "2.0.0",
       "_model_name": "HTMLModel",
       "_view_count": null,
       "_view_module": "@jupyter-widgets/controls",
       "_view_module_version": "2.0.0",
       "_view_name": "HTMLView",
       "description": "",
       "description_allow_html": false,
       "layout": "IPY_MODEL_be4d7c40c0a542ce84bc48a5881bbdb6",
       "placeholder": "​",
       "style": "IPY_MODEL_70d60b4fd50a49bb926c98c939eb54ad",
       "tabbable": null,
       "tooltip": null,
       "value": "tokenizer_config.json: 100%"
      }
     },
     "fdce347a58194bd883a5c99dfbce9bcc": {
      "model_module": "@jupyter-widgets/base",
      "model_module_version": "2.0.0",
      "model_name": "LayoutModel",
      "state": {
       "_model_module": "@jupyter-widgets/base",
       "_model_module_version": "2.0.0",
       "_model_name": "LayoutModel",
       "_view_count": null,
       "_view_module": "@jupyter-widgets/base",
       "_view_module_version": "2.0.0",
       "_view_name": "LayoutView",
       "align_content": null,
       "align_items": null,
       "align_self": null,
       "border_bottom": null,
       "border_left": null,
       "border_right": null,
       "border_top": null,
       "bottom": null,
       "display": null,
       "flex": null,
       "flex_flow": null,
       "grid_area": null,
       "grid_auto_columns": null,
       "grid_auto_flow": null,
       "grid_auto_rows": null,
       "grid_column": null,
       "grid_gap": null,
       "grid_row": null,
       "grid_template_areas": null,
       "grid_template_columns": null,
       "grid_template_rows": null,
       "height": null,
       "justify_content": null,
       "justify_items": null,
       "left": null,
       "margin": null,
       "max_height": null,
       "max_width": null,
       "min_height": null,
       "min_width": null,
       "object_fit": null,
       "object_position": null,
       "order": null,
       "overflow": null,
       "padding": null,
       "right": null,
       "top": null,
       "visibility": null,
       "width": null
      }
     }
    },
    "version_major": 2,
    "version_minor": 0
   }
  }
 },
 "nbformat": 4,
 "nbformat_minor": 5
}
