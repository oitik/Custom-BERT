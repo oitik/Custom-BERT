{
 "cells": [
  {
   "cell_type": "code",
   "execution_count": 1,
   "id": "668afe7f",
   "metadata": {
    "_cell_guid": "b1076dfc-b9ad-4769-8c92-a6c4dae69d19",
    "_uuid": "8f2839f25d086af736a60e9eeb907d3b93b6e0e5",
    "execution": {
     "iopub.execute_input": "2025-02-22T05:04:53.364703Z",
     "iopub.status.busy": "2025-02-22T05:04:53.364302Z",
     "iopub.status.idle": "2025-02-22T05:04:54.059331Z",
     "shell.execute_reply": "2025-02-22T05:04:54.058197Z"
    },
    "papermill": {
     "duration": 0.708148,
     "end_time": "2025-02-22T05:04:54.060712",
     "exception": false,
     "start_time": "2025-02-22T05:04:53.352564",
     "status": "completed"
    },
    "tags": []
   },
   "outputs": [
    {
     "name": "stdout",
     "output_type": "stream",
     "text": [
      "/kaggle/input/sarcasm/reddit_test.jsonl\n",
      "/kaggle/input/sarcasm/sarcasm_detection_shared_task_twitter_training.jsonl\n",
      "/kaggle/input/sarcasm/twitter_test.jsonl\n",
      "/kaggle/input/sarcasm/sarcasm_detection_shared_task_reddit_training.jsonl\n",
      "/kaggle/input/sarcasm/Ben-Sarc_ Bengali Sarcasm Detection Corpus.xlsx\n",
      "/kaggle/input/sarcasm/sarcasm_v2/RQ-sarc-notsarc.csv\n",
      "/kaggle/input/sarcasm/sarcasm_v2/GEN-sarc-notsarc.csv\n",
      "/kaggle/input/sarcasm/sarcasm_v2/HYP-sarc-notsarc.csv\n",
      "/kaggle/input/personal-data/high_contrast.jpeg\n",
      "/kaggle/input/personal-data/1694354392633.jpg\n",
      "/kaggle/input/personal-data/Translation of banglaNewsData.xlsx\n",
      "/kaggle/input/personal-data/hindu.csv\n",
      "/kaggle/input/personal-data/political.txt\n",
      "/kaggle/input/personal-data/BanglaBlendCleanedData.xlsx\n",
      "/kaggle/input/personal-data/result31.csv\n",
      "/kaggle/input/personal-data/low_contrast_cat.jpeg\n",
      "/kaggle/input/personal-data/IMG_3661.jpg\n",
      "/kaggle/input/personal-data/Translator Dataset/Word.xlsx\n",
      "/kaggle/input/personal-data/Translator Dataset/Clause.xlsx\n",
      "/kaggle/input/personal-data/Translator Dataset/Sentence.xlsx\n",
      "/kaggle/input/news-category-dataset/News_Category_Dataset_v3.json\n",
      "/kaggle/input/sarcastic-comments-on-reddit/train-balanced-sarcasm.csv\n"
     ]
    }
   ],
   "source": [
    "# This Python 3 environment comes with many helpful analytics libraries installed\n",
    "# It is defined by the kaggle/python Docker image: https://github.com/kaggle/docker-python\n",
    "# For example, here's several helpful packages to load\n",
    "\n",
    "import numpy as np # linear algebra\n",
    "import pandas as pd # data processing, CSV file I/O (e.g. pd.read_csv)\n",
    "\n",
    "# Input data files are available in the read-only \"../input/\" directory\n",
    "# For example, running this (by clicking run or pressing Shift+Enter) will list all files under the input directory\n",
    "\n",
    "import os\n",
    "for dirname, _, filenames in os.walk('/kaggle/input'):\n",
    "    for filename in filenames:\n",
    "        print(os.path.join(dirname, filename))\n",
    "\n",
    "# You can write up to 20GB to the current directory (/kaggle/working/) that gets preserved as output when you create a version using \"Save & Run All\" \n",
    "# You can also write temporary files to /kaggle/temp/, but they won't be saved outside of the current session"
   ]
  },
  {
   "cell_type": "code",
   "execution_count": 2,
   "id": "80470461",
   "metadata": {
    "execution": {
     "iopub.execute_input": "2025-02-22T05:04:54.080613Z",
     "iopub.status.busy": "2025-02-22T05:04:54.080212Z",
     "iopub.status.idle": "2025-02-22T05:04:56.334314Z",
     "shell.execute_reply": "2025-02-22T05:04:56.333478Z"
    },
    "papermill": {
     "duration": 2.265119,
     "end_time": "2025-02-22T05:04:56.335744",
     "exception": false,
     "start_time": "2025-02-22T05:04:54.070625",
     "status": "completed"
    },
    "tags": []
   },
   "outputs": [
    {
     "data": {
      "text/html": [
       "<div>\n",
       "<style scoped>\n",
       "    .dataframe tbody tr th:only-of-type {\n",
       "        vertical-align: middle;\n",
       "    }\n",
       "\n",
       "    .dataframe tbody tr th {\n",
       "        vertical-align: top;\n",
       "    }\n",
       "\n",
       "    .dataframe thead th {\n",
       "        text-align: right;\n",
       "    }\n",
       "</style>\n",
       "<table border=\"1\" class=\"dataframe\">\n",
       "  <thead>\n",
       "    <tr style=\"text-align: right;\">\n",
       "      <th></th>\n",
       "      <th>id</th>\n",
       "      <th>Text</th>\n",
       "      <th>Polarity</th>\n",
       "    </tr>\n",
       "  </thead>\n",
       "  <tbody>\n",
       "    <tr>\n",
       "      <th>0</th>\n",
       "      <td>0</td>\n",
       "      <td>শুধু মাত্র এই পোস্টে কমেন্ট করার জন্য বাড়ির এ...</td>\n",
       "      <td>1</td>\n",
       "    </tr>\n",
       "    <tr>\n",
       "      <th>1</th>\n",
       "      <td>2</td>\n",
       "      <td>সাথে আছে বুক ভরা চুল ।</td>\n",
       "      <td>1</td>\n",
       "    </tr>\n",
       "    <tr>\n",
       "      <th>2</th>\n",
       "      <td>4</td>\n",
       "      <td>ভাই মিথ্যা কথা বইলেন না আপনি ভিপিএন ইউজ করে পো...</td>\n",
       "      <td>1</td>\n",
       "    </tr>\n",
       "  </tbody>\n",
       "</table>\n",
       "</div>"
      ],
      "text/plain": [
       "   id                                               Text  Polarity\n",
       "0   0  শুধু মাত্র এই পোস্টে কমেন্ট করার জন্য বাড়ির এ...         1\n",
       "1   2                             সাথে আছে বুক ভরা চুল ।         1\n",
       "2   4  ভাই মিথ্যা কথা বইলেন না আপনি ভিপিএন ইউজ করে পো...         1"
      ]
     },
     "execution_count": 2,
     "metadata": {},
     "output_type": "execute_result"
    }
   ],
   "source": [
    "df = pd.read_excel('/kaggle/input/sarcasm/Ben-Sarc_ Bengali Sarcasm Detection Corpus.xlsx')\n",
    "\n",
    "df.head(3)"
   ]
  },
  {
   "cell_type": "code",
   "execution_count": 3,
   "id": "1849dbe3",
   "metadata": {
    "execution": {
     "iopub.execute_input": "2025-02-22T05:04:56.356186Z",
     "iopub.status.busy": "2025-02-22T05:04:56.355849Z",
     "iopub.status.idle": "2025-02-22T05:04:56.365847Z",
     "shell.execute_reply": "2025-02-22T05:04:56.365060Z"
    },
    "papermill": {
     "duration": 0.021085,
     "end_time": "2025-02-22T05:04:56.367184",
     "exception": false,
     "start_time": "2025-02-22T05:04:56.346099",
     "status": "completed"
    },
    "tags": []
   },
   "outputs": [
    {
     "data": {
      "text/html": [
       "<div>\n",
       "<style scoped>\n",
       "    .dataframe tbody tr th:only-of-type {\n",
       "        vertical-align: middle;\n",
       "    }\n",
       "\n",
       "    .dataframe tbody tr th {\n",
       "        vertical-align: top;\n",
       "    }\n",
       "\n",
       "    .dataframe thead th {\n",
       "        text-align: right;\n",
       "    }\n",
       "</style>\n",
       "<table border=\"1\" class=\"dataframe\">\n",
       "  <thead>\n",
       "    <tr style=\"text-align: right;\">\n",
       "      <th></th>\n",
       "      <th>id</th>\n",
       "      <th>text</th>\n",
       "      <th>label</th>\n",
       "    </tr>\n",
       "  </thead>\n",
       "  <tbody>\n",
       "    <tr>\n",
       "      <th>0</th>\n",
       "      <td>0</td>\n",
       "      <td>শুধু মাত্র এই পোস্টে কমেন্ট করার জন্য বাড়ির এ...</td>\n",
       "      <td>1</td>\n",
       "    </tr>\n",
       "    <tr>\n",
       "      <th>1</th>\n",
       "      <td>2</td>\n",
       "      <td>সাথে আছে বুক ভরা চুল ।</td>\n",
       "      <td>1</td>\n",
       "    </tr>\n",
       "    <tr>\n",
       "      <th>2</th>\n",
       "      <td>4</td>\n",
       "      <td>ভাই মিথ্যা কথা বইলেন না আপনি ভিপিএন ইউজ করে পো...</td>\n",
       "      <td>1</td>\n",
       "    </tr>\n",
       "  </tbody>\n",
       "</table>\n",
       "</div>"
      ],
      "text/plain": [
       "   id                                               text  label\n",
       "0   0  শুধু মাত্র এই পোস্টে কমেন্ট করার জন্য বাড়ির এ...      1\n",
       "1   2                             সাথে আছে বুক ভরা চুল ।      1\n",
       "2   4  ভাই মিথ্যা কথা বইলেন না আপনি ভিপিএন ইউজ করে পো...      1"
      ]
     },
     "execution_count": 3,
     "metadata": {},
     "output_type": "execute_result"
    }
   ],
   "source": [
    "df.rename(columns={\"Text\": \"text\"}, inplace=True)\n",
    "df.rename(columns={\"Polarity\": \"label\"}, inplace=True)\n",
    "\n",
    "df.head(3)"
   ]
  },
  {
   "cell_type": "markdown",
   "id": "8b8e01aa",
   "metadata": {
    "papermill": {
     "duration": 0.00935,
     "end_time": "2025-02-22T05:04:56.386495",
     "exception": false,
     "start_time": "2025-02-22T05:04:56.377145",
     "status": "completed"
    },
    "tags": []
   },
   "source": [
    "## Apply Normalizer"
   ]
  },
  {
   "cell_type": "code",
   "execution_count": 4,
   "id": "8123c6f7",
   "metadata": {
    "execution": {
     "iopub.execute_input": "2025-02-22T05:04:56.406653Z",
     "iopub.status.busy": "2025-02-22T05:04:56.406422Z",
     "iopub.status.idle": "2025-02-22T05:05:07.564635Z",
     "shell.execute_reply": "2025-02-22T05:05:07.563350Z"
    },
    "papermill": {
     "duration": 11.17011,
     "end_time": "2025-02-22T05:05:07.566479",
     "exception": false,
     "start_time": "2025-02-22T05:04:56.396369",
     "status": "completed"
    },
    "tags": []
   },
   "outputs": [
    {
     "name": "stdout",
     "output_type": "stream",
     "text": [
      "Collecting git+https://github.com/csebuetnlp/normalizer\r\n",
      "  Cloning https://github.com/csebuetnlp/normalizer to /tmp/pip-req-build-uw8zdosc\r\n",
      "  Running command git clone --filter=blob:none --quiet https://github.com/csebuetnlp/normalizer /tmp/pip-req-build-uw8zdosc\r\n",
      "  Resolved https://github.com/csebuetnlp/normalizer to commit d405944dde5ceeacb7c2fd3245ae2a9dea5f35c9\r\n",
      "  Preparing metadata (setup.py) ... \u001b[?25l\u001b[?25hdone\r\n",
      "Requirement already satisfied: regex in /usr/local/lib/python3.10/dist-packages (from normalizer==0.0.1) (2024.9.11)\r\n",
      "Collecting emoji==1.4.2 (from normalizer==0.0.1)\r\n",
      "  Downloading emoji-1.4.2.tar.gz (184 kB)\r\n",
      "\u001b[2K     \u001b[90m━━━━━━━━━━━━━━━━━━━━━━━━━━━━━━━━━━━━━━━━\u001b[0m \u001b[32m185.0/185.0 kB\u001b[0m \u001b[31m5.4 MB/s\u001b[0m eta \u001b[36m0:00:00\u001b[0m\r\n",
      "\u001b[?25h  Preparing metadata (setup.py) ... \u001b[?25l\u001b[?25hdone\r\n",
      "Collecting ftfy==6.0.3 (from normalizer==0.0.1)\r\n",
      "  Downloading ftfy-6.0.3.tar.gz (64 kB)\r\n",
      "\u001b[2K     \u001b[90m━━━━━━━━━━━━━━━━━━━━━━━━━━━━━━━━━━━━━━━━\u001b[0m \u001b[32m64.2/64.2 kB\u001b[0m \u001b[31m4.9 MB/s\u001b[0m eta \u001b[36m0:00:00\u001b[0m\r\n",
      "\u001b[?25h  Preparing metadata (setup.py) ... \u001b[?25l\u001b[?25hdone\r\n",
      "Requirement already satisfied: wcwidth in /usr/local/lib/python3.10/dist-packages (from ftfy==6.0.3->normalizer==0.0.1) (0.2.13)\r\n",
      "Building wheels for collected packages: normalizer, emoji, ftfy\r\n",
      "  Building wheel for normalizer (setup.py) ... \u001b[?25l\u001b[?25hdone\r\n",
      "  Created wheel for normalizer: filename=normalizer-0.0.1-py3-none-any.whl size=6860 sha256=b1bcd401fd58885f0c6ed531fb085a1b194db6f1dc882041fbd2bdae60bcdf88\r\n",
      "  Stored in directory: /tmp/pip-ephem-wheel-cache-vw8yzbcn/wheels/2e/79/9c/cd96d490298305d51d2da11484bb2c25fd1f759a6906708282\r\n",
      "  Building wheel for emoji (setup.py) ... \u001b[?25l\u001b[?25hdone\r\n",
      "  Created wheel for emoji: filename=emoji-1.4.2-py3-none-any.whl size=186456 sha256=93f625bc0081c2235532c1c457aaa751bb75779348b0ac4e9d94afa32736b3a5\r\n",
      "  Stored in directory: /root/.cache/pip/wheels/10/f0/fd/4813b1177405693e8da9cdea839f0fb64fde161380e058c827\r\n",
      "  Building wheel for ftfy (setup.py) ... \u001b[?25l\u001b[?25hdone\r\n",
      "  Created wheel for ftfy: filename=ftfy-6.0.3-py3-none-any.whl size=41930 sha256=8824b265d4e4b49164a84de36766dd82e77130691a9bf0343c5009cf4add4d9e\r\n",
      "  Stored in directory: /root/.cache/pip/wheels/92/8e/16/c1e4d4d65685d71085e4e27b44d6ed880b0559474c9ee4ff66\r\n",
      "Successfully built normalizer emoji ftfy\r\n",
      "Installing collected packages: emoji, ftfy, normalizer\r\n",
      "  Attempting uninstall: emoji\r\n",
      "    Found existing installation: emoji 2.14.0\r\n",
      "    Uninstalling emoji-2.14.0:\r\n",
      "      Successfully uninstalled emoji-2.14.0\r\n",
      "Successfully installed emoji-1.4.2 ftfy-6.0.3 normalizer-0.0.1\r\n",
      "Note: you may need to restart the kernel to use updated packages.\n"
     ]
    }
   ],
   "source": [
    "pip install git+https://github.com/csebuetnlp/normalizer"
   ]
  },
  {
   "cell_type": "code",
   "execution_count": 5,
   "id": "760d5e3e",
   "metadata": {
    "execution": {
     "iopub.execute_input": "2025-02-22T05:05:07.600507Z",
     "iopub.status.busy": "2025-02-22T05:05:07.600114Z",
     "iopub.status.idle": "2025-02-22T05:05:12.090626Z",
     "shell.execute_reply": "2025-02-22T05:05:12.089490Z"
    },
    "papermill": {
     "duration": 4.505045,
     "end_time": "2025-02-22T05:05:12.092084",
     "exception": false,
     "start_time": "2025-02-22T05:05:07.587039",
     "status": "completed"
    },
    "tags": []
   },
   "outputs": [
    {
     "name": "stderr",
     "output_type": "stream",
     "text": [
      "100%|██████████| 25636/25636 [00:04<00:00, 5919.99it/s]\n"
     ]
    }
   ],
   "source": [
    "from normalizer import normalize \n",
    "from tqdm import tqdm\n",
    "\n",
    "tqdm.pandas()\n",
    "df['text'] = df['text'].progress_apply(normalize)"
   ]
  },
  {
   "cell_type": "code",
   "execution_count": 6,
   "id": "4a73ff10",
   "metadata": {
    "execution": {
     "iopub.execute_input": "2025-02-22T05:05:12.117824Z",
     "iopub.status.busy": "2025-02-22T05:05:12.117568Z",
     "iopub.status.idle": "2025-02-22T05:05:12.202805Z",
     "shell.execute_reply": "2025-02-22T05:05:12.201596Z"
    },
    "papermill": {
     "duration": 0.09955,
     "end_time": "2025-02-22T05:05:12.204218",
     "exception": false,
     "start_time": "2025-02-22T05:05:12.104668",
     "status": "completed"
    },
    "tags": []
   },
   "outputs": [
    {
     "name": "stderr",
     "output_type": "stream",
     "text": [
      "100%|██████████| 25636/25636 [00:00<00:00, 335395.70it/s]\n"
     ]
    }
   ],
   "source": [
    "df['rtext'] = df['text'].progress_apply(lambda x: ' '.join(x.split()[::-1]))"
   ]
  },
  {
   "cell_type": "code",
   "execution_count": 7,
   "id": "43622048",
   "metadata": {
    "execution": {
     "iopub.execute_input": "2025-02-22T05:05:12.230961Z",
     "iopub.status.busy": "2025-02-22T05:05:12.230723Z",
     "iopub.status.idle": "2025-02-22T05:05:12.236121Z",
     "shell.execute_reply": "2025-02-22T05:05:12.235246Z"
    },
    "papermill": {
     "duration": 0.01989,
     "end_time": "2025-02-22T05:05:12.237382",
     "exception": false,
     "start_time": "2025-02-22T05:05:12.217492",
     "status": "completed"
    },
    "tags": []
   },
   "outputs": [
    {
     "data": {
      "text/plain": [
       "('ভাই মিথ্যা কথা বইলেন না আপনি ভিপিএন ইউজ করে পোস্ট দিয়েছেন এবং আপনি রঙিন দুনিয়া দেখছেন না । কারণ আপনার ফ্রেম রঙিন হলেও গ্লাসটা কিন্তু কালো । আমি কিন্তু রঙিন দুনিয়ার একজন রঙমিস্ত্রি তাই বিষয়টি এড়িয়ে যেতে পারলাম না ।',\n",
       " 1)"
      ]
     },
     "execution_count": 7,
     "metadata": {},
     "output_type": "execute_result"
    }
   ],
   "source": [
    "ri = 2\n",
    "df['text'][ri], df['label'][ri]"
   ]
  },
  {
   "cell_type": "code",
   "execution_count": 8,
   "id": "e8b859a9",
   "metadata": {
    "execution": {
     "iopub.execute_input": "2025-02-22T05:05:12.263229Z",
     "iopub.status.busy": "2025-02-22T05:05:12.262956Z",
     "iopub.status.idle": "2025-02-22T05:05:12.272436Z",
     "shell.execute_reply": "2025-02-22T05:05:12.271533Z"
    },
    "papermill": {
     "duration": 0.023698,
     "end_time": "2025-02-22T05:05:12.273938",
     "exception": false,
     "start_time": "2025-02-22T05:05:12.250240",
     "status": "completed"
    },
    "tags": []
   },
   "outputs": [
    {
     "data": {
      "text/plain": [
       "label\n",
       "1    12818\n",
       "0    12818\n",
       "Name: count, dtype: int64"
      ]
     },
     "execution_count": 8,
     "metadata": {},
     "output_type": "execute_result"
    }
   ],
   "source": [
    "df.label.value_counts()"
   ]
  },
  {
   "cell_type": "code",
   "execution_count": 9,
   "id": "17b7228b",
   "metadata": {
    "execution": {
     "iopub.execute_input": "2025-02-22T05:05:12.301165Z",
     "iopub.status.busy": "2025-02-22T05:05:12.300956Z",
     "iopub.status.idle": "2025-02-22T05:05:12.305424Z",
     "shell.execute_reply": "2025-02-22T05:05:12.304554Z"
    },
    "papermill": {
     "duration": 0.018857,
     "end_time": "2025-02-22T05:05:12.306722",
     "exception": false,
     "start_time": "2025-02-22T05:05:12.287865",
     "status": "completed"
    },
    "tags": []
   },
   "outputs": [
    {
     "data": {
      "text/plain": [
       "(25636, 4)"
      ]
     },
     "execution_count": 9,
     "metadata": {},
     "output_type": "execute_result"
    }
   ],
   "source": [
    "df.shape"
   ]
  },
  {
   "cell_type": "code",
   "execution_count": 10,
   "id": "07f669f7",
   "metadata": {
    "execution": {
     "iopub.execute_input": "2025-02-22T05:05:12.332785Z",
     "iopub.status.busy": "2025-02-22T05:05:12.332579Z",
     "iopub.status.idle": "2025-02-22T05:05:13.397753Z",
     "shell.execute_reply": "2025-02-22T05:05:13.396965Z"
    },
    "papermill": {
     "duration": 1.080428,
     "end_time": "2025-02-22T05:05:13.399576",
     "exception": false,
     "start_time": "2025-02-22T05:05:12.319148",
     "status": "completed"
    },
    "tags": []
   },
   "outputs": [],
   "source": [
    "from sklearn.model_selection import train_test_split\n",
    "\n",
    "# Assume 'df' is your DataFrame and 'label_column' is the column you want to stratify on\n",
    "# df, _ = train_test_split(df, train_size=1000, stratify=df['label'], random_state=42)"
   ]
  },
  {
   "cell_type": "code",
   "execution_count": 11,
   "id": "554cac9f",
   "metadata": {
    "execution": {
     "iopub.execute_input": "2025-02-22T05:05:13.427819Z",
     "iopub.status.busy": "2025-02-22T05:05:13.427443Z",
     "iopub.status.idle": "2025-02-22T05:05:13.436426Z",
     "shell.execute_reply": "2025-02-22T05:05:13.435592Z"
    },
    "papermill": {
     "duration": 0.024558,
     "end_time": "2025-02-22T05:05:13.437696",
     "exception": false,
     "start_time": "2025-02-22T05:05:13.413138",
     "status": "completed"
    },
    "tags": []
   },
   "outputs": [
    {
     "name": "stdout",
     "output_type": "stream",
     "text": [
      "(25636, 4)\n"
     ]
    },
    {
     "data": {
      "text/html": [
       "<div>\n",
       "<style scoped>\n",
       "    .dataframe tbody tr th:only-of-type {\n",
       "        vertical-align: middle;\n",
       "    }\n",
       "\n",
       "    .dataframe tbody tr th {\n",
       "        vertical-align: top;\n",
       "    }\n",
       "\n",
       "    .dataframe thead th {\n",
       "        text-align: right;\n",
       "    }\n",
       "</style>\n",
       "<table border=\"1\" class=\"dataframe\">\n",
       "  <thead>\n",
       "    <tr style=\"text-align: right;\">\n",
       "      <th></th>\n",
       "      <th>id</th>\n",
       "      <th>text</th>\n",
       "      <th>label</th>\n",
       "      <th>rtext</th>\n",
       "    </tr>\n",
       "  </thead>\n",
       "  <tbody>\n",
       "    <tr>\n",
       "      <th>0</th>\n",
       "      <td>0</td>\n",
       "      <td>শুধু মাত্র এই পোস্টে কমেন্ট করার জন্য বাড়ির এ...</td>\n",
       "      <td>1</td>\n",
       "      <td>ছিলাম বসে কিনে বি এম করে বিক্রি ঘোড়া পাড়া ডি...</td>\n",
       "    </tr>\n",
       "    <tr>\n",
       "      <th>1</th>\n",
       "      <td>2</td>\n",
       "      <td>সাথে আছে বুক ভরা চুল ।</td>\n",
       "      <td>1</td>\n",
       "      <td>। চুল ভরা বুক আছে সাথে</td>\n",
       "    </tr>\n",
       "    <tr>\n",
       "      <th>2</th>\n",
       "      <td>4</td>\n",
       "      <td>ভাই মিথ্যা কথা বইলেন না আপনি ভিপিএন ইউজ করে পো...</td>\n",
       "      <td>1</td>\n",
       "      <td>। না পারলাম যেতে এড়িয়ে বিষয়টি তাই রঙমিস্ত্র...</td>\n",
       "    </tr>\n",
       "  </tbody>\n",
       "</table>\n",
       "</div>"
      ],
      "text/plain": [
       "   id                                               text  label  \\\n",
       "0   0  শুধু মাত্র এই পোস্টে কমেন্ট করার জন্য বাড়ির এ...      1   \n",
       "1   2                             সাথে আছে বুক ভরা চুল ।      1   \n",
       "2   4  ভাই মিথ্যা কথা বইলেন না আপনি ভিপিএন ইউজ করে পো...      1   \n",
       "\n",
       "                                               rtext  \n",
       "0  ছিলাম বসে কিনে বি এম করে বিক্রি ঘোড়া পাড়া ডি...  \n",
       "1                             । চুল ভরা বুক আছে সাথে  \n",
       "2  । না পারলাম যেতে এড়িয়ে বিষয়টি তাই রঙমিস্ত্র...  "
      ]
     },
     "execution_count": 11,
     "metadata": {},
     "output_type": "execute_result"
    }
   ],
   "source": [
    "print(df.shape)\n",
    "df.head(3)"
   ]
  },
  {
   "cell_type": "markdown",
   "id": "b37f6f90",
   "metadata": {
    "papermill": {
     "duration": 0.012361,
     "end_time": "2025-02-22T05:05:13.462444",
     "exception": false,
     "start_time": "2025-02-22T05:05:13.450083",
     "status": "completed"
    },
    "tags": []
   },
   "source": [
    "## Training On MLM"
   ]
  },
  {
   "cell_type": "code",
   "execution_count": 12,
   "id": "93926a9f",
   "metadata": {
    "execution": {
     "iopub.execute_input": "2025-02-22T05:05:13.488412Z",
     "iopub.status.busy": "2025-02-22T05:05:13.488134Z",
     "iopub.status.idle": "2025-02-22T05:05:13.493813Z",
     "shell.execute_reply": "2025-02-22T05:05:13.493141Z"
    },
    "papermill": {
     "duration": 0.020154,
     "end_time": "2025-02-22T05:05:13.494953",
     "exception": false,
     "start_time": "2025-02-22T05:05:13.474799",
     "status": "completed"
    },
    "tags": []
   },
   "outputs": [
    {
     "name": "stdout",
     "output_type": "stream",
     "text": [
      "25636\n",
      "25636\n"
     ]
    }
   ],
   "source": [
    "sentences = df.text.values.tolist()\n",
    "\n",
    "labels = df.label.values.tolist()\n",
    "\n",
    "print(len(sentences))\n",
    "\n",
    "print(len(labels))"
   ]
  },
  {
   "cell_type": "code",
   "execution_count": 13,
   "id": "f513e7b9",
   "metadata": {
    "execution": {
     "iopub.execute_input": "2025-02-22T05:05:13.522556Z",
     "iopub.status.busy": "2025-02-22T05:05:13.522308Z",
     "iopub.status.idle": "2025-02-22T05:05:13.526506Z",
     "shell.execute_reply": "2025-02-22T05:05:13.525833Z"
    },
    "papermill": {
     "duration": 0.019145,
     "end_time": "2025-02-22T05:05:13.527616",
     "exception": false,
     "start_time": "2025-02-22T05:05:13.508471",
     "status": "completed"
    },
    "tags": []
   },
   "outputs": [
    {
     "data": {
      "text/plain": [
       "'শুধু মাত্র এই পোস্টে কমেন্ট করার জন্য বাড়ির এক মাত্র ডিম পাড়া ঘোড়া বিক্রি করে এম বি কিনে বসে ছিলাম'"
      ]
     },
     "execution_count": 13,
     "metadata": {},
     "output_type": "execute_result"
    }
   ],
   "source": [
    "sentences[0]"
   ]
  },
  {
   "cell_type": "code",
   "execution_count": 14,
   "id": "bcf5ad4e",
   "metadata": {
    "execution": {
     "iopub.execute_input": "2025-02-22T05:05:13.553487Z",
     "iopub.status.busy": "2025-02-22T05:05:13.553227Z",
     "iopub.status.idle": "2025-02-22T05:05:13.556198Z",
     "shell.execute_reply": "2025-02-22T05:05:13.555444Z"
    },
    "papermill": {
     "duration": 0.016932,
     "end_time": "2025-02-22T05:05:13.557384",
     "exception": false,
     "start_time": "2025-02-22T05:05:13.540452",
     "status": "completed"
    },
    "tags": []
   },
   "outputs": [],
   "source": [
    "# Specify the model path\n",
    "\n",
    "# model_path = \"csebuetnlp/banglabert_large\"\n",
    "model_path = \"csebuetnlp/banglabert\""
   ]
  },
  {
   "cell_type": "code",
   "execution_count": 15,
   "id": "47648e39",
   "metadata": {
    "execution": {
     "iopub.execute_input": "2025-02-22T05:05:13.583420Z",
     "iopub.status.busy": "2025-02-22T05:05:13.583129Z",
     "iopub.status.idle": "2025-02-22T05:05:26.445462Z",
     "shell.execute_reply": "2025-02-22T05:05:26.444558Z"
    },
    "papermill": {
     "duration": 12.877116,
     "end_time": "2025-02-22T05:05:26.447149",
     "exception": false,
     "start_time": "2025-02-22T05:05:13.570033",
     "status": "completed"
    },
    "tags": []
   },
   "outputs": [],
   "source": [
    "# First, disable wandb\n",
    "import os\n",
    "os.environ[\"WANDB_DISABLED\"] = \"true\"\n",
    "os.environ[\"WANDB_MODE\"] = \"disabled\"\n",
    "os.environ[\"WANDB_SILENT\"] = \"true\"\n",
    "\n",
    "# Import required libraries\n",
    "from transformers import (\n",
    "    AutoModelForMaskedLM,\n",
    "    AutoTokenizer,\n",
    "    DataCollatorForLanguageModeling,\n",
    "    Trainer,\n",
    "    TrainingArguments\n",
    ")"
   ]
  },
  {
   "cell_type": "code",
   "execution_count": 16,
   "id": "1ab67bd7",
   "metadata": {
    "execution": {
     "iopub.execute_input": "2025-02-22T05:05:26.473434Z",
     "iopub.status.busy": "2025-02-22T05:05:26.472898Z",
     "iopub.status.idle": "2025-02-22T05:05:27.766488Z",
     "shell.execute_reply": "2025-02-22T05:05:27.765596Z"
    },
    "papermill": {
     "duration": 1.307996,
     "end_time": "2025-02-22T05:05:27.767878",
     "exception": false,
     "start_time": "2025-02-22T05:05:26.459882",
     "status": "completed"
    },
    "tags": []
   },
   "outputs": [
    {
     "data": {
      "application/vnd.jupyter.widget-view+json": {
       "model_id": "193d9195edd8441990c1aef43cffb6d1",
       "version_major": 2,
       "version_minor": 0
      },
      "text/plain": [
       "tokenizer_config.json:   0%|          | 0.00/119 [00:00<?, ?B/s]"
      ]
     },
     "metadata": {},
     "output_type": "display_data"
    },
    {
     "data": {
      "application/vnd.jupyter.widget-view+json": {
       "model_id": "388142879ab94746a7be3410ebb11a09",
       "version_major": 2,
       "version_minor": 0
      },
      "text/plain": [
       "config.json:   0%|          | 0.00/586 [00:00<?, ?B/s]"
      ]
     },
     "metadata": {},
     "output_type": "display_data"
    },
    {
     "data": {
      "application/vnd.jupyter.widget-view+json": {
       "model_id": "8ed76d35f8a849dbb848da2eab05cfcf",
       "version_major": 2,
       "version_minor": 0
      },
      "text/plain": [
       "vocab.txt:   0%|          | 0.00/528k [00:00<?, ?B/s]"
      ]
     },
     "metadata": {},
     "output_type": "display_data"
    },
    {
     "data": {
      "application/vnd.jupyter.widget-view+json": {
       "model_id": "77677fbd534044dab6e98c0378303a6f",
       "version_major": 2,
       "version_minor": 0
      },
      "text/plain": [
       "special_tokens_map.json:   0%|          | 0.00/112 [00:00<?, ?B/s]"
      ]
     },
     "metadata": {},
     "output_type": "display_data"
    },
    {
     "name": "stderr",
     "output_type": "stream",
     "text": [
      "/usr/local/lib/python3.10/dist-packages/transformers/tokenization_utils_base.py:1601: FutureWarning: `clean_up_tokenization_spaces` was not set. It will be set to `True` by default. This behavior will be depracted in transformers v4.45, and will be then set to `False` by default. For more details check this issue: https://github.com/huggingface/transformers/issues/31884\n",
      "  warnings.warn(\n"
     ]
    }
   ],
   "source": [
    "import torch\n",
    "from datasets import Dataset\n",
    "\n",
    "# Prepare your text data\n",
    "# your_unlabeled_texts = df.parent_comm.values.tolist()\n",
    "\n",
    "# Create dataset\n",
    "# dataset = Dataset.from_dict({\"text\": sentences[:500]})\n",
    "dataset = Dataset.from_dict({\"text\": sentences})\n",
    "\n",
    "\n",
    "# Load tokenizer\n",
    "tokenizer = AutoTokenizer.from_pretrained(model_path)\n",
    "\n",
    "# Tokenize function\n",
    "def tokenize_function(examples):\n",
    "    return tokenizer(\n",
    "        examples[\"text\"],\n",
    "        padding=\"max_length\",\n",
    "        truncation=True,\n",
    "        max_length=64,\n",
    "        return_special_tokens_mask=True\n",
    ")"
   ]
  },
  {
   "cell_type": "code",
   "execution_count": 17,
   "id": "2a8a3d24",
   "metadata": {
    "execution": {
     "iopub.execute_input": "2025-02-22T05:05:27.796699Z",
     "iopub.status.busy": "2025-02-22T05:05:27.796399Z",
     "iopub.status.idle": "2025-02-22T05:05:27.805667Z",
     "shell.execute_reply": "2025-02-22T05:05:27.804764Z"
    },
    "papermill": {
     "duration": 0.024747,
     "end_time": "2025-02-22T05:05:27.806976",
     "exception": false,
     "start_time": "2025-02-22T05:05:27.782229",
     "status": "completed"
    },
    "tags": []
   },
   "outputs": [
    {
     "name": "stdout",
     "output_type": "stream",
     "text": [
      " Original:  শুধু মাত্র এই পোস্টে কমেন্ট করার জন্য বাড়ির এক মাত্র ডিম পাড়া ঘোড়া বিক্রি করে এম বি কিনে বসে ছিলাম\n",
      "Tokenized:  ['শুধু', 'মাত্র', 'এই', 'পোস্টে', 'কমেন্ট', 'করার', 'জন্য', 'বাড়ির', 'এক', 'মাত্র', 'ডিম', 'পাড়া', 'ঘোড়া', 'বিক্রি', 'করে', 'এম', 'বি', 'কিনে', 'বসে', 'ছিলাম']\n",
      "Token IDs:  [1289, 1768, 830, 12098, 8764, 1121, 900, 2095, 788, 1768, 5270, 9224, 8046, 3149, 792, 1611, 797, 3597, 1346, 3285]\n"
     ]
    }
   ],
   "source": [
    "# Print the original sentence.\n",
    "print(' Original: ', sentences[0])\n",
    "\n",
    "# Print the sentence split into tokens.\n",
    "print('Tokenized: ', tokenizer.tokenize(sentences[0]))\n",
    "\n",
    "# Print the sentence mapped to token ids.\n",
    "print('Token IDs: ', tokenizer.convert_tokens_to_ids(tokenizer.tokenize(sentences[0])))"
   ]
  },
  {
   "cell_type": "code",
   "execution_count": 18,
   "id": "f3740455",
   "metadata": {
    "execution": {
     "iopub.execute_input": "2025-02-22T05:05:27.834103Z",
     "iopub.status.busy": "2025-02-22T05:05:27.833851Z",
     "iopub.status.idle": "2025-02-22T05:05:30.215788Z",
     "shell.execute_reply": "2025-02-22T05:05:30.214772Z"
    },
    "papermill": {
     "duration": 2.39708,
     "end_time": "2025-02-22T05:05:30.217289",
     "exception": false,
     "start_time": "2025-02-22T05:05:27.820209",
     "status": "completed"
    },
    "tags": []
   },
   "outputs": [
    {
     "data": {
      "application/vnd.jupyter.widget-view+json": {
       "model_id": "becb8925f06545dc9f6ffd117597a365",
       "version_major": 2,
       "version_minor": 0
      },
      "text/plain": [
       "Map:   0%|          | 0/25636 [00:00<?, ? examples/s]"
      ]
     },
     "metadata": {},
     "output_type": "display_data"
    }
   ],
   "source": [
    "# Tokenize dataset\n",
    "tokenized_dataset = dataset.map(\n",
    "    tokenize_function,\n",
    "    batched=True,\n",
    "    remove_columns=dataset.column_names\n",
    ")"
   ]
  },
  {
   "cell_type": "markdown",
   "id": "f6573323",
   "metadata": {
    "papermill": {
     "duration": 0.01483,
     "end_time": "2025-02-22T05:05:30.248018",
     "exception": false,
     "start_time": "2025-02-22T05:05:30.233188",
     "status": "completed"
    },
    "tags": []
   },
   "source": [
    "## Load MLM Model"
   ]
  },
  {
   "cell_type": "code",
   "execution_count": 19,
   "id": "212c6694",
   "metadata": {
    "execution": {
     "iopub.execute_input": "2025-02-22T05:05:30.276539Z",
     "iopub.status.busy": "2025-02-22T05:05:30.276210Z",
     "iopub.status.idle": "2025-02-22T05:05:30.280763Z",
     "shell.execute_reply": "2025-02-22T05:05:30.279678Z"
    },
    "papermill": {
     "duration": 0.020818,
     "end_time": "2025-02-22T05:05:30.282511",
     "exception": false,
     "start_time": "2025-02-22T05:05:30.261693",
     "status": "completed"
    },
    "tags": []
   },
   "outputs": [
    {
     "name": "stdout",
     "output_type": "stream",
     "text": [
      "csebuetnlp/banglabert\n"
     ]
    }
   ],
   "source": [
    "print(model_path)"
   ]
  },
  {
   "cell_type": "code",
   "execution_count": 20,
   "id": "4fbbdbd8",
   "metadata": {
    "execution": {
     "iopub.execute_input": "2025-02-22T05:05:30.320478Z",
     "iopub.status.busy": "2025-02-22T05:05:30.320142Z",
     "iopub.status.idle": "2025-02-22T05:05:34.237256Z",
     "shell.execute_reply": "2025-02-22T05:05:34.236308Z"
    },
    "papermill": {
     "duration": 3.93276,
     "end_time": "2025-02-22T05:05:34.238803",
     "exception": false,
     "start_time": "2025-02-22T05:05:30.306043",
     "status": "completed"
    },
    "tags": []
   },
   "outputs": [
    {
     "data": {
      "application/vnd.jupyter.widget-view+json": {
       "model_id": "8c1a389c17ee479b8a863e53ab843006",
       "version_major": 2,
       "version_minor": 0
      },
      "text/plain": [
       "pytorch_model.bin:   0%|          | 0.00/443M [00:00<?, ?B/s]"
      ]
     },
     "metadata": {},
     "output_type": "display_data"
    },
    {
     "name": "stderr",
     "output_type": "stream",
     "text": [
      "Some weights of ElectraForMaskedLM were not initialized from the model checkpoint at csebuetnlp/banglabert and are newly initialized: ['generator_lm_head.bias', 'generator_predictions.LayerNorm.bias', 'generator_predictions.LayerNorm.weight', 'generator_predictions.dense.bias', 'generator_predictions.dense.weight']\n",
      "You should probably TRAIN this model on a down-stream task to be able to use it for predictions and inference.\n"
     ]
    },
    {
     "data": {
      "text/plain": [
       "ElectraForMaskedLM(\n",
       "  (electra): ElectraModel(\n",
       "    (embeddings): ElectraEmbeddings(\n",
       "      (word_embeddings): Embedding(32000, 768, padding_idx=0)\n",
       "      (position_embeddings): Embedding(512, 768)\n",
       "      (token_type_embeddings): Embedding(2, 768)\n",
       "      (LayerNorm): LayerNorm((768,), eps=1e-12, elementwise_affine=True)\n",
       "      (dropout): Dropout(p=0.1, inplace=False)\n",
       "    )\n",
       "    (encoder): ElectraEncoder(\n",
       "      (layer): ModuleList(\n",
       "        (0-11): 12 x ElectraLayer(\n",
       "          (attention): ElectraAttention(\n",
       "            (self): ElectraSelfAttention(\n",
       "              (query): Linear(in_features=768, out_features=768, bias=True)\n",
       "              (key): Linear(in_features=768, out_features=768, bias=True)\n",
       "              (value): Linear(in_features=768, out_features=768, bias=True)\n",
       "              (dropout): Dropout(p=0.1, inplace=False)\n",
       "            )\n",
       "            (output): ElectraSelfOutput(\n",
       "              (dense): Linear(in_features=768, out_features=768, bias=True)\n",
       "              (LayerNorm): LayerNorm((768,), eps=1e-12, elementwise_affine=True)\n",
       "              (dropout): Dropout(p=0.1, inplace=False)\n",
       "            )\n",
       "          )\n",
       "          (intermediate): ElectraIntermediate(\n",
       "            (dense): Linear(in_features=768, out_features=3072, bias=True)\n",
       "            (intermediate_act_fn): GELUActivation()\n",
       "          )\n",
       "          (output): ElectraOutput(\n",
       "            (dense): Linear(in_features=3072, out_features=768, bias=True)\n",
       "            (LayerNorm): LayerNorm((768,), eps=1e-12, elementwise_affine=True)\n",
       "            (dropout): Dropout(p=0.1, inplace=False)\n",
       "          )\n",
       "        )\n",
       "      )\n",
       "    )\n",
       "  )\n",
       "  (generator_predictions): ElectraGeneratorPredictions(\n",
       "    (activation): GELUActivation()\n",
       "    (LayerNorm): LayerNorm((768,), eps=1e-12, elementwise_affine=True)\n",
       "    (dense): Linear(in_features=768, out_features=768, bias=True)\n",
       "  )\n",
       "  (generator_lm_head): Linear(in_features=768, out_features=32000, bias=True)\n",
       ")"
      ]
     },
     "execution_count": 20,
     "metadata": {},
     "output_type": "execute_result"
    }
   ],
   "source": [
    "# Load model for MLM\n",
    "mlm_model = AutoModelForMaskedLM.from_pretrained(model_path)\n",
    "# Create data collator\n",
    "data_collator = DataCollatorForLanguageModeling(\n",
    "    tokenizer=tokenizer,\n",
    "    mlm=True,\n",
    "    mlm_probability=0.15\n",
    ")\n",
    "\n",
    "mlm_model"
   ]
  },
  {
   "cell_type": "code",
   "execution_count": 21,
   "id": "30bd29e7",
   "metadata": {
    "execution": {
     "iopub.execute_input": "2025-02-22T05:05:34.267450Z",
     "iopub.status.busy": "2025-02-22T05:05:34.267171Z",
     "iopub.status.idle": "2025-02-22T05:05:34.270047Z",
     "shell.execute_reply": "2025-02-22T05:05:34.269456Z"
    },
    "papermill": {
     "duration": 0.018285,
     "end_time": "2025-02-22T05:05:34.271402",
     "exception": false,
     "start_time": "2025-02-22T05:05:34.253117",
     "status": "completed"
    },
    "tags": []
   },
   "outputs": [],
   "source": [
    "Epochs = 5"
   ]
  },
  {
   "cell_type": "code",
   "execution_count": 22,
   "id": "83726901",
   "metadata": {
    "execution": {
     "iopub.execute_input": "2025-02-22T05:05:34.298869Z",
     "iopub.status.busy": "2025-02-22T05:05:34.298662Z",
     "iopub.status.idle": "2025-02-22T05:05:34.438443Z",
     "shell.execute_reply": "2025-02-22T05:05:34.437767Z"
    },
    "papermill": {
     "duration": 0.154909,
     "end_time": "2025-02-22T05:05:34.439887",
     "exception": false,
     "start_time": "2025-02-22T05:05:34.284978",
     "status": "completed"
    },
    "tags": []
   },
   "outputs": [],
   "source": [
    "# Setup training arguments without automatic saving.\n",
    "training_args = TrainingArguments(\n",
    "    output_dir=\"./mlm_pretrained_model\",  # still required for logs etc.\n",
    "    report_to=[],                         # Disable all integrations\n",
    "    num_train_epochs=Epochs,\n",
    "    per_device_train_batch_size=16,\n",
    "    save_strategy=\"no\",                   # Disable automatic saving\n",
    "    logging_strategy=\"epoch\",\n",
    "    learning_rate=5e-5,\n",
    "    weight_decay=0.01,\n",
    ")"
   ]
  },
  {
   "cell_type": "code",
   "execution_count": 23,
   "id": "5c786a76",
   "metadata": {
    "execution": {
     "iopub.execute_input": "2025-02-22T05:05:34.468647Z",
     "iopub.status.busy": "2025-02-22T05:05:34.468394Z",
     "iopub.status.idle": "2025-02-22T05:05:34.818339Z",
     "shell.execute_reply": "2025-02-22T05:05:34.817625Z"
    },
    "papermill": {
     "duration": 0.365669,
     "end_time": "2025-02-22T05:05:34.820001",
     "exception": false,
     "start_time": "2025-02-22T05:05:34.454332",
     "status": "completed"
    },
    "tags": []
   },
   "outputs": [],
   "source": [
    "# Initialize trainer\n",
    "trainer = Trainer(\n",
    "    model=mlm_model,\n",
    "    args=training_args,\n",
    "    train_dataset=tokenized_dataset,\n",
    "    data_collator=data_collator,\n",
    ")"
   ]
  },
  {
   "cell_type": "code",
   "execution_count": 24,
   "id": "cf68567a",
   "metadata": {
    "execution": {
     "iopub.execute_input": "2025-02-22T05:05:34.848422Z",
     "iopub.status.busy": "2025-02-22T05:05:34.848124Z",
     "iopub.status.idle": "2025-02-22T05:30:40.755530Z",
     "shell.execute_reply": "2025-02-22T05:30:40.754654Z"
    },
    "papermill": {
     "duration": 1505.922563,
     "end_time": "2025-02-22T05:30:40.756887",
     "exception": false,
     "start_time": "2025-02-22T05:05:34.834324",
     "status": "completed"
    },
    "tags": []
   },
   "outputs": [
    {
     "name": "stderr",
     "output_type": "stream",
     "text": [
      "/usr/local/lib/python3.10/dist-packages/torch/nn/parallel/_functions.py:68: UserWarning: Was asked to gather along dimension 0, but all input tensors were scalars; will instead unsqueeze and return a vector.\n",
      "  warnings.warn('Was asked to gather along dimension 0, but all '\n"
     ]
    },
    {
     "data": {
      "text/html": [
       "\n",
       "    <div>\n",
       "      \n",
       "      <progress value='4010' max='4010' style='width:300px; height:20px; vertical-align: middle;'></progress>\n",
       "      [4010/4010 25:03, Epoch 5/5]\n",
       "    </div>\n",
       "    <table border=\"1\" class=\"dataframe\">\n",
       "  <thead>\n",
       " <tr style=\"text-align: left;\">\n",
       "      <th>Step</th>\n",
       "      <th>Training Loss</th>\n",
       "    </tr>\n",
       "  </thead>\n",
       "  <tbody>\n",
       "    <tr>\n",
       "      <td>802</td>\n",
       "      <td>7.459500</td>\n",
       "    </tr>\n",
       "    <tr>\n",
       "      <td>1604</td>\n",
       "      <td>5.923200</td>\n",
       "    </tr>\n",
       "    <tr>\n",
       "      <td>2406</td>\n",
       "      <td>5.460300</td>\n",
       "    </tr>\n",
       "    <tr>\n",
       "      <td>3208</td>\n",
       "      <td>5.201700</td>\n",
       "    </tr>\n",
       "    <tr>\n",
       "      <td>4010</td>\n",
       "      <td>5.058500</td>\n",
       "    </tr>\n",
       "  </tbody>\n",
       "</table><p>"
      ],
      "text/plain": [
       "<IPython.core.display.HTML object>"
      ]
     },
     "metadata": {},
     "output_type": "display_data"
    },
    {
     "data": {
      "text/plain": [
       "TrainOutput(global_step=4010, training_loss=5.820625681889028, metrics={'train_runtime': 1504.7444, 'train_samples_per_second': 85.184, 'train_steps_per_second': 2.665, 'total_flos': 4217271861903360.0, 'train_loss': 5.820625681889028, 'epoch': 5.0})"
      ]
     },
     "execution_count": 24,
     "metadata": {},
     "output_type": "execute_result"
    }
   ],
   "source": [
    "# Start Training\n",
    "trainer.train()"
   ]
  },
  {
   "cell_type": "code",
   "execution_count": 25,
   "id": "d90d6ac1",
   "metadata": {
    "execution": {
     "iopub.execute_input": "2025-02-22T05:30:40.786434Z",
     "iopub.status.busy": "2025-02-22T05:30:40.786138Z",
     "iopub.status.idle": "2025-02-22T05:30:41.446818Z",
     "shell.execute_reply": "2025-02-22T05:30:41.445820Z"
    },
    "papermill": {
     "duration": 0.676794,
     "end_time": "2025-02-22T05:30:41.448490",
     "exception": false,
     "start_time": "2025-02-22T05:30:40.771696",
     "status": "completed"
    },
    "tags": []
   },
   "outputs": [
    {
     "name": "stdout",
     "output_type": "stream",
     "text": [
      "Model saved to ./mlm_pretrained_model (all tensors are now contiguous)\n"
     ]
    }
   ],
   "source": [
    "# Save the model\n",
    "\n",
    "import os\n",
    "import torch\n",
    "\n",
    "def save_model_contiguous(model, output_dir):\n",
    "    os.makedirs(output_dir, exist_ok=True)\n",
    "    state_dict = model.state_dict()\n",
    "    contiguous_state_dict = {k: v.contiguous() for k, v in state_dict.items()}\n",
    "    torch.save(contiguous_state_dict, os.path.join(output_dir, \"pytorch_model.bin\"))\n",
    "    # If your model has a configuration saved, also save it:\n",
    "    if hasattr(model, \"config\"):\n",
    "        model.config.save_pretrained(output_dir)\n",
    "    print(f\"Model saved to {output_dir} (all tensors are now contiguous)\")\n",
    "\n",
    "# Example usage:\n",
    "output_dir = \"./mlm_pretrained_model\"\n",
    "save_model_contiguous(mlm_model, output_dir)\n",
    "\n",
    "\n",
    "# trainer.save_model(\"./mlm_pretrained_model\")"
   ]
  },
  {
   "cell_type": "code",
   "execution_count": 26,
   "id": "078ed7a2",
   "metadata": {
    "execution": {
     "iopub.execute_input": "2025-02-22T05:30:41.477742Z",
     "iopub.status.busy": "2025-02-22T05:30:41.477451Z",
     "iopub.status.idle": "2025-02-22T05:30:41.480726Z",
     "shell.execute_reply": "2025-02-22T05:30:41.480078Z"
    },
    "papermill": {
     "duration": 0.018956,
     "end_time": "2025-02-22T05:30:41.482039",
     "exception": false,
     "start_time": "2025-02-22T05:30:41.463083",
     "status": "completed"
    },
    "tags": []
   },
   "outputs": [],
   "source": [
    "# from transformers import AutoModelForSequenceClassification, AutoTokenizer\n",
    "\n",
    "# # Now you can load this for classification\n",
    "# model = AutoModelForSequenceClassification.from_pretrained(\n",
    "#     \"./mlm_pretrained_model\",\n",
    "#     num_labels=2,\n",
    "#     output_attentions=False,\n",
    "#     output_hidden_states=False,\n",
    "# )\n",
    "\n",
    "new_model_path = \"/kaggle/working/mlm_pretrained_model\""
   ]
  },
  {
   "cell_type": "code",
   "execution_count": 27,
   "id": "f776d828",
   "metadata": {
    "execution": {
     "iopub.execute_input": "2025-02-22T05:30:41.511541Z",
     "iopub.status.busy": "2025-02-22T05:30:41.511247Z",
     "iopub.status.idle": "2025-02-22T05:30:41.514177Z",
     "shell.execute_reply": "2025-02-22T05:30:41.513541Z"
    },
    "papermill": {
     "duration": 0.018184,
     "end_time": "2025-02-22T05:30:41.515419",
     "exception": false,
     "start_time": "2025-02-22T05:30:41.497235",
     "status": "completed"
    },
    "tags": []
   },
   "outputs": [],
   "source": [
    "# import pandas as pd\n",
    "# import json\n",
    "\n",
    "# # Read the JSONL file\n",
    "# data_train = []\n",
    "# with open('/kaggle/input/sarcasm/sarcasm_detection_shared_task_reddit_training.jsonl', 'r') as f:\n",
    "#     for line in f:\n",
    "#         # Parse each line as JSON and append to list\n",
    "#         data_train.append(json.loads(line))\n",
    "# data_twitter_df = pd.DataFrame(data_train)\n",
    "# # Convert list of dictionaries to Data"
   ]
  },
  {
   "cell_type": "code",
   "execution_count": 28,
   "id": "9b73fcc4",
   "metadata": {
    "execution": {
     "iopub.execute_input": "2025-02-22T05:30:41.543250Z",
     "iopub.status.busy": "2025-02-22T05:30:41.543016Z",
     "iopub.status.idle": "2025-02-22T05:30:41.546012Z",
     "shell.execute_reply": "2025-02-22T05:30:41.545184Z"
    },
    "papermill": {
     "duration": 0.018078,
     "end_time": "2025-02-22T05:30:41.547289",
     "exception": false,
     "start_time": "2025-02-22T05:30:41.529211",
     "status": "completed"
    },
    "tags": []
   },
   "outputs": [],
   "source": [
    "# data_twitter_df['label']=data_twitter_df['label'].map({'SARCASM':0,'NOT_SARCASM':1})\n",
    "# data_twitter_df=data_twitter_df.rename(columns={'context':'parent_comment','response':'comment'})"
   ]
  },
  {
   "cell_type": "code",
   "execution_count": 29,
   "id": "e2a7babb",
   "metadata": {
    "execution": {
     "iopub.execute_input": "2025-02-22T05:30:41.575496Z",
     "iopub.status.busy": "2025-02-22T05:30:41.575223Z",
     "iopub.status.idle": "2025-02-22T05:30:41.578299Z",
     "shell.execute_reply": "2025-02-22T05:30:41.577584Z"
    },
    "papermill": {
     "duration": 0.018577,
     "end_time": "2025-02-22T05:30:41.579586",
     "exception": false,
     "start_time": "2025-02-22T05:30:41.561009",
     "status": "completed"
    },
    "tags": []
   },
   "outputs": [],
   "source": [
    "# data_twitter_df.head(3)"
   ]
  },
  {
   "cell_type": "code",
   "execution_count": 30,
   "id": "134d444b",
   "metadata": {
    "execution": {
     "iopub.execute_input": "2025-02-22T05:30:41.607615Z",
     "iopub.status.busy": "2025-02-22T05:30:41.607355Z",
     "iopub.status.idle": "2025-02-22T05:30:41.610310Z",
     "shell.execute_reply": "2025-02-22T05:30:41.609677Z"
    },
    "papermill": {
     "duration": 0.018205,
     "end_time": "2025-02-22T05:30:41.611506",
     "exception": false,
     "start_time": "2025-02-22T05:30:41.593301",
     "status": "completed"
    },
    "tags": []
   },
   "outputs": [],
   "source": [
    "# data_twitter_df['comment']=data_twitter_df['comment'].astype(str)\n",
    "# data_twitter_df['parent_comment']=data_twitter_df['parent_comment'].astype(str)"
   ]
  },
  {
   "cell_type": "code",
   "execution_count": 31,
   "id": "2316bcf2",
   "metadata": {
    "execution": {
     "iopub.execute_input": "2025-02-22T05:30:41.639198Z",
     "iopub.status.busy": "2025-02-22T05:30:41.638973Z",
     "iopub.status.idle": "2025-02-22T05:30:41.645196Z",
     "shell.execute_reply": "2025-02-22T05:30:41.644558Z"
    },
    "papermill": {
     "duration": 0.021557,
     "end_time": "2025-02-22T05:30:41.646360",
     "exception": false,
     "start_time": "2025-02-22T05:30:41.624803",
     "status": "completed"
    },
    "tags": []
   },
   "outputs": [],
   "source": [
    "import torch\n",
    "from torch.utils.data import Dataset\n",
    "\n",
    "class MultiFeatureDataset(Dataset):\n",
    "    def __init__(self, dataframe, tokenizer, max_len):\n",
    "        self.tokenizer = tokenizer\n",
    "        self.data = dataframe\n",
    "        self.comment = dataframe['comment']\n",
    "        self.parent=dataframe['parent_comment']\n",
    "        self.labels = dataframe.label\n",
    "        self.max_len = max_len\n",
    "\n",
    "    def __len__(self):\n",
    "        return len(self.data)\n",
    "    \n",
    "    def __getitem__(self, index):\n",
    "        if index >= len(self.data):\n",
    "            raise IndexError(f\"Index {index} out of range\")\n",
    "        comment = str(self.comment.iloc[index])\n",
    "        parent = str(self.parent.iloc[index])\n",
    "        label = self.labels.iloc[index]\n",
    "\n",
    "\n",
    " \n",
    "        comment_encoding = self.tokenizer.encode_plus(\n",
    "            comment,\n",
    "            add_special_tokens=True,\n",
    "            max_length=self.max_len,\n",
    "            return_token_type_ids=False,\n",
    "            padding='max_length',\n",
    "            truncation=True,\n",
    "            return_attention_mask=True,\n",
    "            return_tensors='pt',\n",
    "        )\n",
    "\n",
    "        parent_encoding = self.tokenizer.encode_plus(\n",
    "            parent,\n",
    "            add_special_tokens=True,\n",
    "            max_length=self.max_len,\n",
    "            return_token_type_ids=False,\n",
    "            padding='max_length',\n",
    "            truncation=True,\n",
    "            return_attention_mask=True,\n",
    "            return_tensors='pt',\n",
    "        )\n",
    "\n",
    "        return {\n",
    "        'input_ids1': parent_encoding['input_ids'].flatten(),\n",
    "        'attention_mask1': parent_encoding['attention_mask'].flatten(),\n",
    "        'input_ids2': comment_encoding['input_ids'].flatten(),\n",
    "        'attention_mask2': comment_encoding['attention_mask'].flatten(),\n",
    "        'labels': torch.tensor(label, dtype=torch.long)\n",
    "    }"
   ]
  },
  {
   "cell_type": "code",
   "execution_count": 32,
   "id": "b3714589",
   "metadata": {
    "execution": {
     "iopub.execute_input": "2025-02-22T05:30:41.674707Z",
     "iopub.status.busy": "2025-02-22T05:30:41.674488Z",
     "iopub.status.idle": "2025-02-22T05:30:41.677199Z",
     "shell.execute_reply": "2025-02-22T05:30:41.676574Z"
    },
    "papermill": {
     "duration": 0.018082,
     "end_time": "2025-02-22T05:30:41.678501",
     "exception": false,
     "start_time": "2025-02-22T05:30:41.660419",
     "status": "completed"
    },
    "tags": []
   },
   "outputs": [],
   "source": [
    "# print(data_twitter_df.shape)\n",
    "# data_twitter_df.head(3)"
   ]
  },
  {
   "cell_type": "code",
   "execution_count": 33,
   "id": "6d78d9fb",
   "metadata": {
    "execution": {
     "iopub.execute_input": "2025-02-22T05:30:41.705990Z",
     "iopub.status.busy": "2025-02-22T05:30:41.705787Z",
     "iopub.status.idle": "2025-02-22T05:30:41.714875Z",
     "shell.execute_reply": "2025-02-22T05:30:41.714089Z"
    },
    "papermill": {
     "duration": 0.024124,
     "end_time": "2025-02-22T05:30:41.716036",
     "exception": false,
     "start_time": "2025-02-22T05:30:41.691912",
     "status": "completed"
    },
    "tags": []
   },
   "outputs": [
    {
     "data": {
      "text/html": [
       "<div>\n",
       "<style scoped>\n",
       "    .dataframe tbody tr th:only-of-type {\n",
       "        vertical-align: middle;\n",
       "    }\n",
       "\n",
       "    .dataframe tbody tr th {\n",
       "        vertical-align: top;\n",
       "    }\n",
       "\n",
       "    .dataframe thead th {\n",
       "        text-align: right;\n",
       "    }\n",
       "</style>\n",
       "<table border=\"1\" class=\"dataframe\">\n",
       "  <thead>\n",
       "    <tr style=\"text-align: right;\">\n",
       "      <th></th>\n",
       "      <th>id</th>\n",
       "      <th>parent_comment</th>\n",
       "      <th>label</th>\n",
       "      <th>comment</th>\n",
       "    </tr>\n",
       "  </thead>\n",
       "  <tbody>\n",
       "    <tr>\n",
       "      <th>0</th>\n",
       "      <td>0</td>\n",
       "      <td>শুধু মাত্র এই পোস্টে কমেন্ট করার জন্য বাড়ির এ...</td>\n",
       "      <td>1</td>\n",
       "      <td>ছিলাম বসে কিনে বি এম করে বিক্রি ঘোড়া পাড়া ডি...</td>\n",
       "    </tr>\n",
       "    <tr>\n",
       "      <th>1</th>\n",
       "      <td>2</td>\n",
       "      <td>সাথে আছে বুক ভরা চুল ।</td>\n",
       "      <td>1</td>\n",
       "      <td>। চুল ভরা বুক আছে সাথে</td>\n",
       "    </tr>\n",
       "    <tr>\n",
       "      <th>2</th>\n",
       "      <td>4</td>\n",
       "      <td>ভাই মিথ্যা কথা বইলেন না আপনি ভিপিএন ইউজ করে পো...</td>\n",
       "      <td>1</td>\n",
       "      <td>। না পারলাম যেতে এড়িয়ে বিষয়টি তাই রঙমিস্ত্র...</td>\n",
       "    </tr>\n",
       "  </tbody>\n",
       "</table>\n",
       "</div>"
      ],
      "text/plain": [
       "   id                                     parent_comment  label  \\\n",
       "0   0  শুধু মাত্র এই পোস্টে কমেন্ট করার জন্য বাড়ির এ...      1   \n",
       "1   2                             সাথে আছে বুক ভরা চুল ।      1   \n",
       "2   4  ভাই মিথ্যা কথা বইলেন না আপনি ভিপিএন ইউজ করে পো...      1   \n",
       "\n",
       "                                             comment  \n",
       "0  ছিলাম বসে কিনে বি এম করে বিক্রি ঘোড়া পাড়া ডি...  \n",
       "1                             । চুল ভরা বুক আছে সাথে  \n",
       "2  । না পারলাম যেতে এড়িয়ে বিষয়টি তাই রঙমিস্ত্র...  "
      ]
     },
     "execution_count": 33,
     "metadata": {},
     "output_type": "execute_result"
    }
   ],
   "source": [
    "# df.rename(columns={\"Polarity\": \"label\"}, inplace=True)\n",
    "df.rename(columns={\"text\": \"parent_comment\"}, inplace=True)\n",
    "df.rename(columns={\"rtext\": \"comment\"}, inplace=True)\n",
    "\n",
    "df.head(3)"
   ]
  },
  {
   "cell_type": "code",
   "execution_count": 34,
   "id": "6ace1dd8",
   "metadata": {
    "execution": {
     "iopub.execute_input": "2025-02-22T05:30:41.744573Z",
     "iopub.status.busy": "2025-02-22T05:30:41.744316Z",
     "iopub.status.idle": "2025-02-22T05:30:41.754221Z",
     "shell.execute_reply": "2025-02-22T05:30:41.753438Z"
    },
    "papermill": {
     "duration": 0.025512,
     "end_time": "2025-02-22T05:30:41.755536",
     "exception": false,
     "start_time": "2025-02-22T05:30:41.730024",
     "status": "completed"
    },
    "tags": []
   },
   "outputs": [],
   "source": [
    "data_twitter_df = df.copy()"
   ]
  },
  {
   "cell_type": "code",
   "execution_count": 35,
   "id": "9412555b",
   "metadata": {
    "execution": {
     "iopub.execute_input": "2025-02-22T05:30:41.783520Z",
     "iopub.status.busy": "2025-02-22T05:30:41.783265Z",
     "iopub.status.idle": "2025-02-22T05:30:41.790954Z",
     "shell.execute_reply": "2025-02-22T05:30:41.790394Z"
    },
    "papermill": {
     "duration": 0.022916,
     "end_time": "2025-02-22T05:30:41.792144",
     "exception": false,
     "start_time": "2025-02-22T05:30:41.769228",
     "status": "completed"
    },
    "tags": []
   },
   "outputs": [],
   "source": [
    "n_samples = 1000  # Change this as needed\n",
    "\n",
    "sampled_df = data_twitter_df.sample(n=n_samples, random_state=42) if len(data_twitter_df) > n_samples else data_twitter_df"
   ]
  },
  {
   "cell_type": "code",
   "execution_count": 36,
   "id": "f24892d1",
   "metadata": {
    "execution": {
     "iopub.execute_input": "2025-02-22T05:30:41.820100Z",
     "iopub.status.busy": "2025-02-22T05:30:41.819893Z",
     "iopub.status.idle": "2025-02-22T05:30:41.833126Z",
     "shell.execute_reply": "2025-02-22T05:30:41.832361Z"
    },
    "papermill": {
     "duration": 0.02848,
     "end_time": "2025-02-22T05:30:41.834257",
     "exception": false,
     "start_time": "2025-02-22T05:30:41.805777",
     "status": "completed"
    },
    "tags": []
   },
   "outputs": [
    {
     "name": "stdout",
     "output_type": "stream",
     "text": [
      "20508 5128\n"
     ]
    }
   ],
   "source": [
    "from sklearn.model_selection import train_test_split\n",
    "\n",
    "train_df, eval_df = train_test_split(data_twitter_df, test_size=0.2, random_state=42, stratify=data_twitter_df['label'])\n",
    "\n",
    "print(len(train_df), len(eval_df))"
   ]
  },
  {
   "cell_type": "code",
   "execution_count": 37,
   "id": "7e6b1fce",
   "metadata": {
    "execution": {
     "iopub.execute_input": "2025-02-22T05:30:41.862678Z",
     "iopub.status.busy": "2025-02-22T05:30:41.862448Z",
     "iopub.status.idle": "2025-02-22T05:30:41.870151Z",
     "shell.execute_reply": "2025-02-22T05:30:41.869451Z"
    },
    "papermill": {
     "duration": 0.023475,
     "end_time": "2025-02-22T05:30:41.871541",
     "exception": false,
     "start_time": "2025-02-22T05:30:41.848066",
     "status": "completed"
    },
    "tags": []
   },
   "outputs": [
    {
     "data": {
      "text/html": [
       "<div>\n",
       "<style scoped>\n",
       "    .dataframe tbody tr th:only-of-type {\n",
       "        vertical-align: middle;\n",
       "    }\n",
       "\n",
       "    .dataframe tbody tr th {\n",
       "        vertical-align: top;\n",
       "    }\n",
       "\n",
       "    .dataframe thead th {\n",
       "        text-align: right;\n",
       "    }\n",
       "</style>\n",
       "<table border=\"1\" class=\"dataframe\">\n",
       "  <thead>\n",
       "    <tr style=\"text-align: right;\">\n",
       "      <th></th>\n",
       "      <th>id</th>\n",
       "      <th>parent_comment</th>\n",
       "      <th>label</th>\n",
       "      <th>comment</th>\n",
       "    </tr>\n",
       "  </thead>\n",
       "  <tbody>\n",
       "    <tr>\n",
       "      <th>24108</th>\n",
       "      <td>24487</td>\n",
       "      <td>আমার ভাই এবং বাবাকে নিয়ে নােয়াখালী সদর থানায...</td>\n",
       "      <td>0</td>\n",
       "      <td>। পারেনি দিতে সন্ধান কোন আমাকে তারা চাইলে সন্ধ...</td>\n",
       "    </tr>\n",
       "    <tr>\n",
       "      <th>16703</th>\n",
       "      <td>11100</td>\n",
       "      <td>যদি ডট বল করাতে চাও তবে আমাকে ডাকো সুনীল নারিন...</td>\n",
       "      <td>0</td>\n",
       "      <td>। পানি বোতল এক ভিতর মরুভুমির । ছেলে সোনার আমাদ...</td>\n",
       "    </tr>\n",
       "    <tr>\n",
       "      <th>9138</th>\n",
       "      <td>22963</td>\n",
       "      <td>কেউ অক্সিজেন না পেয়ে মরে আর কেউ বিয়ে করে মরে ।</td>\n",
       "      <td>1</td>\n",
       "      <td>। মরে করে বিয়ে কেউ আর মরে পেয়ে না অক্সিজেন কেউ</td>\n",
       "    </tr>\n",
       "  </tbody>\n",
       "</table>\n",
       "</div>"
      ],
      "text/plain": [
       "          id                                     parent_comment  label  \\\n",
       "24108  24487  আমার ভাই এবং বাবাকে নিয়ে নােয়াখালী সদর থানায...      0   \n",
       "16703  11100  যদি ডট বল করাতে চাও তবে আমাকে ডাকো সুনীল নারিন...      0   \n",
       "9138   22963   কেউ অক্সিজেন না পেয়ে মরে আর কেউ বিয়ে করে মরে ।      1   \n",
       "\n",
       "                                                 comment  \n",
       "24108  । পারেনি দিতে সন্ধান কোন আমাকে তারা চাইলে সন্ধ...  \n",
       "16703  । পানি বোতল এক ভিতর মরুভুমির । ছেলে সোনার আমাদ...  \n",
       "9138    । মরে করে বিয়ে কেউ আর মরে পেয়ে না অক্সিজেন কেউ  "
      ]
     },
     "execution_count": 37,
     "metadata": {},
     "output_type": "execute_result"
    }
   ],
   "source": [
    "train_df.head(3)"
   ]
  },
  {
   "cell_type": "code",
   "execution_count": 38,
   "id": "5767f1cf",
   "metadata": {
    "execution": {
     "iopub.execute_input": "2025-02-22T05:30:41.901650Z",
     "iopub.status.busy": "2025-02-22T05:30:41.901427Z",
     "iopub.status.idle": "2025-02-22T05:30:41.907103Z",
     "shell.execute_reply": "2025-02-22T05:30:41.906270Z"
    },
    "papermill": {
     "duration": 0.021461,
     "end_time": "2025-02-22T05:30:41.908298",
     "exception": false,
     "start_time": "2025-02-22T05:30:41.886837",
     "status": "completed"
    },
    "tags": []
   },
   "outputs": [
    {
     "data": {
      "text/plain": [
       "label\n",
       "0    10254\n",
       "1    10254\n",
       "Name: count, dtype: int64"
      ]
     },
     "execution_count": 38,
     "metadata": {},
     "output_type": "execute_result"
    }
   ],
   "source": [
    "train_df.label.value_counts()"
   ]
  },
  {
   "cell_type": "code",
   "execution_count": 39,
   "id": "0e0de556",
   "metadata": {
    "execution": {
     "iopub.execute_input": "2025-02-22T05:30:41.936965Z",
     "iopub.status.busy": "2025-02-22T05:30:41.936757Z",
     "iopub.status.idle": "2025-02-22T05:30:41.942250Z",
     "shell.execute_reply": "2025-02-22T05:30:41.941417Z"
    },
    "papermill": {
     "duration": 0.021037,
     "end_time": "2025-02-22T05:30:41.943472",
     "exception": false,
     "start_time": "2025-02-22T05:30:41.922435",
     "status": "completed"
    },
    "tags": []
   },
   "outputs": [
    {
     "data": {
      "text/plain": [
       "label\n",
       "1    2564\n",
       "0    2564\n",
       "Name: count, dtype: int64"
      ]
     },
     "execution_count": 39,
     "metadata": {},
     "output_type": "execute_result"
    }
   ],
   "source": [
    "eval_df.label.value_counts()"
   ]
  },
  {
   "cell_type": "code",
   "execution_count": 40,
   "id": "dda8d1d3",
   "metadata": {
    "execution": {
     "iopub.execute_input": "2025-02-22T05:30:41.972224Z",
     "iopub.status.busy": "2025-02-22T05:30:41.971994Z",
     "iopub.status.idle": "2025-02-22T05:30:41.976198Z",
     "shell.execute_reply": "2025-02-22T05:30:41.975440Z"
    },
    "papermill": {
     "duration": 0.020038,
     "end_time": "2025-02-22T05:30:41.977661",
     "exception": false,
     "start_time": "2025-02-22T05:30:41.957623",
     "status": "completed"
    },
    "tags": []
   },
   "outputs": [
    {
     "data": {
      "text/plain": [
       "768"
      ]
     },
     "execution_count": 40,
     "metadata": {},
     "output_type": "execute_result"
    }
   ],
   "source": [
    "mlm_model.config.hidden_size"
   ]
  },
  {
   "cell_type": "code",
   "execution_count": 41,
   "id": "fa05eac0",
   "metadata": {
    "execution": {
     "iopub.execute_input": "2025-02-22T05:30:42.007020Z",
     "iopub.status.busy": "2025-02-22T05:30:42.006742Z",
     "iopub.status.idle": "2025-02-22T05:30:42.017259Z",
     "shell.execute_reply": "2025-02-22T05:30:42.016448Z"
    },
    "papermill": {
     "duration": 0.026703,
     "end_time": "2025-02-22T05:30:42.018750",
     "exception": false,
     "start_time": "2025-02-22T05:30:41.992047",
     "status": "completed"
    },
    "tags": []
   },
   "outputs": [],
   "source": [
    "from transformers import AutoConfig, AutoModel, AutoTokenizer, logging\n",
    "import torch\n",
    "import torch.nn as nn\n",
    "\n",
    "# Suppress unnecessary warnings\n",
    "logging.set_verbosity_error()\n",
    "\n",
    "class CustomEncoderLayer(nn.Module):\n",
    "    def __init__(self, hidden_size, num_attention_heads, dropout_rate=0.3):\n",
    "        super(CustomEncoderLayer, self).__init__()\n",
    "        self.self_attention = nn.MultiheadAttention(hidden_size, num_attention_heads, dropout=dropout_rate)\n",
    "        self.cross_attention = nn.MultiheadAttention(hidden_size, num_attention_heads, dropout=dropout_rate)\n",
    "        self.feed_forward = nn.Sequential(\n",
    "            nn.Linear(hidden_size, hidden_size * 4),\n",
    "            nn.ReLU(),\n",
    "            nn.Linear(hidden_size * 4, hidden_size)\n",
    "        )\n",
    "        self.layer_norm1 = nn.LayerNorm(hidden_size)\n",
    "        self.layer_norm2 = nn.LayerNorm(hidden_size)\n",
    "        self.layer_norm3 = nn.LayerNorm(hidden_size)\n",
    "        self.dropout = nn.Dropout(dropout_rate)\n",
    "\n",
    "    def forward(self, x, y, x_mask, y_mask):\n",
    "        # Self-attention on x\n",
    "        temp1 = x\n",
    "        self_attn_output, _ = self.self_attention(x, x, x)\n",
    "        x = self.layer_norm1(temp1 + self.dropout(self_attn_output))\n",
    "        \n",
    "        # Cross-attention from x to y\n",
    "        cross_attn_output, cross_attn_weights = self.cross_attention(x, y, y)\n",
    "        x = self.layer_norm2(temp1 + self.dropout(cross_attn_output))\n",
    "        \n",
    "        # Feed forward\n",
    "        ff_output = self.feed_forward(x)\n",
    "        x = self.layer_norm3(temp1 + self.dropout(ff_output))\n",
    "        \n",
    "        return x, cross_attn_weights\n",
    "\n",
    "class CustomDualBanglaBERTModel(nn.Module):\n",
    "    def __init__(self, model_checkpoint, num_layers=2, hidden_size=768, num_attention_heads=8, dropout_rate=0.1):\n",
    "        super(CustomDualBanglaBERTModel, self).__init__()\n",
    "        \n",
    "        # Load BanglaBERT Electra-based models\n",
    "        self.bert1 = AutoModel.from_pretrained(model_checkpoint)\n",
    "        self.bert2 = AutoModel.from_pretrained(model_checkpoint)\n",
    "        \n",
    "        # Custom encoder layers\n",
    "        self.encoder_layers = nn.ModuleList([\n",
    "            CustomEncoderLayer(hidden_size, num_attention_heads, dropout_rate)\n",
    "            for _ in range(num_layers)\n",
    "        ])\n",
    "        \n",
    "        # Classification head\n",
    "        self.fc = nn.Linear(hidden_size * 2, 2)\n",
    "\n",
    "    def forward(self, input_ids1, attention_mask1, input_ids2, attention_mask2):\n",
    "        # Get embeddings from two BERT models\n",
    "        output1 = self.bert1(input_ids=input_ids1, attention_mask=attention_mask1).last_hidden_state\n",
    "        output2 = self.bert2(input_ids=input_ids2, attention_mask=attention_mask2).last_hidden_state\n",
    "        \n",
    "        # Attention masks for padding tokens\n",
    "        x_mask = ~attention_mask1.bool()\n",
    "        y_mask = ~attention_mask2.bool()\n",
    "        \n",
    "        # Apply encoder layers\n",
    "        for layer in self.encoder_layers:\n",
    "            output1, _ = layer(output1, output2, x_mask, y_mask)\n",
    "            output2, cross_attn_weights = layer(output2, output1, y_mask, x_mask)\n",
    "        \n",
    "        # Pool the outputs from both models\n",
    "        pooled_output1 = torch.mean(output1, dim=1)\n",
    "        pooled_output2 = torch.mean(output2, dim=1)\n",
    "        \n",
    "        # Combine and classify\n",
    "        combined = torch.cat((pooled_output1, pooled_output2), dim=1)\n",
    "        return self.fc(combined)"
   ]
  },
  {
   "cell_type": "code",
   "execution_count": 42,
   "id": "bedbc996",
   "metadata": {
    "execution": {
     "iopub.execute_input": "2025-02-22T05:30:42.047570Z",
     "iopub.status.busy": "2025-02-22T05:30:42.047308Z",
     "iopub.status.idle": "2025-02-22T05:30:42.910873Z",
     "shell.execute_reply": "2025-02-22T05:30:42.909932Z"
    },
    "papermill": {
     "duration": 0.879451,
     "end_time": "2025-02-22T05:30:42.912236",
     "exception": false,
     "start_time": "2025-02-22T05:30:42.032785",
     "status": "completed"
    },
    "tags": []
   },
   "outputs": [
    {
     "data": {
      "text/plain": [
       "CustomDualBanglaBERTModel(\n",
       "  (bert1): ElectraModel(\n",
       "    (embeddings): ElectraEmbeddings(\n",
       "      (word_embeddings): Embedding(32000, 768, padding_idx=0)\n",
       "      (position_embeddings): Embedding(512, 768)\n",
       "      (token_type_embeddings): Embedding(2, 768)\n",
       "      (LayerNorm): LayerNorm((768,), eps=1e-12, elementwise_affine=True)\n",
       "      (dropout): Dropout(p=0.1, inplace=False)\n",
       "    )\n",
       "    (encoder): ElectraEncoder(\n",
       "      (layer): ModuleList(\n",
       "        (0-11): 12 x ElectraLayer(\n",
       "          (attention): ElectraAttention(\n",
       "            (self): ElectraSelfAttention(\n",
       "              (query): Linear(in_features=768, out_features=768, bias=True)\n",
       "              (key): Linear(in_features=768, out_features=768, bias=True)\n",
       "              (value): Linear(in_features=768, out_features=768, bias=True)\n",
       "              (dropout): Dropout(p=0.1, inplace=False)\n",
       "            )\n",
       "            (output): ElectraSelfOutput(\n",
       "              (dense): Linear(in_features=768, out_features=768, bias=True)\n",
       "              (LayerNorm): LayerNorm((768,), eps=1e-12, elementwise_affine=True)\n",
       "              (dropout): Dropout(p=0.1, inplace=False)\n",
       "            )\n",
       "          )\n",
       "          (intermediate): ElectraIntermediate(\n",
       "            (dense): Linear(in_features=768, out_features=3072, bias=True)\n",
       "            (intermediate_act_fn): GELUActivation()\n",
       "          )\n",
       "          (output): ElectraOutput(\n",
       "            (dense): Linear(in_features=3072, out_features=768, bias=True)\n",
       "            (LayerNorm): LayerNorm((768,), eps=1e-12, elementwise_affine=True)\n",
       "            (dropout): Dropout(p=0.1, inplace=False)\n",
       "          )\n",
       "        )\n",
       "      )\n",
       "    )\n",
       "  )\n",
       "  (bert2): ElectraModel(\n",
       "    (embeddings): ElectraEmbeddings(\n",
       "      (word_embeddings): Embedding(32000, 768, padding_idx=0)\n",
       "      (position_embeddings): Embedding(512, 768)\n",
       "      (token_type_embeddings): Embedding(2, 768)\n",
       "      (LayerNorm): LayerNorm((768,), eps=1e-12, elementwise_affine=True)\n",
       "      (dropout): Dropout(p=0.1, inplace=False)\n",
       "    )\n",
       "    (encoder): ElectraEncoder(\n",
       "      (layer): ModuleList(\n",
       "        (0-11): 12 x ElectraLayer(\n",
       "          (attention): ElectraAttention(\n",
       "            (self): ElectraSelfAttention(\n",
       "              (query): Linear(in_features=768, out_features=768, bias=True)\n",
       "              (key): Linear(in_features=768, out_features=768, bias=True)\n",
       "              (value): Linear(in_features=768, out_features=768, bias=True)\n",
       "              (dropout): Dropout(p=0.1, inplace=False)\n",
       "            )\n",
       "            (output): ElectraSelfOutput(\n",
       "              (dense): Linear(in_features=768, out_features=768, bias=True)\n",
       "              (LayerNorm): LayerNorm((768,), eps=1e-12, elementwise_affine=True)\n",
       "              (dropout): Dropout(p=0.1, inplace=False)\n",
       "            )\n",
       "          )\n",
       "          (intermediate): ElectraIntermediate(\n",
       "            (dense): Linear(in_features=768, out_features=3072, bias=True)\n",
       "            (intermediate_act_fn): GELUActivation()\n",
       "          )\n",
       "          (output): ElectraOutput(\n",
       "            (dense): Linear(in_features=3072, out_features=768, bias=True)\n",
       "            (LayerNorm): LayerNorm((768,), eps=1e-12, elementwise_affine=True)\n",
       "            (dropout): Dropout(p=0.1, inplace=False)\n",
       "          )\n",
       "        )\n",
       "      )\n",
       "    )\n",
       "  )\n",
       "  (encoder_layers): ModuleList(\n",
       "    (0-1): 2 x CustomEncoderLayer(\n",
       "      (self_attention): MultiheadAttention(\n",
       "        (out_proj): NonDynamicallyQuantizableLinear(in_features=768, out_features=768, bias=True)\n",
       "      )\n",
       "      (cross_attention): MultiheadAttention(\n",
       "        (out_proj): NonDynamicallyQuantizableLinear(in_features=768, out_features=768, bias=True)\n",
       "      )\n",
       "      (feed_forward): Sequential(\n",
       "        (0): Linear(in_features=768, out_features=3072, bias=True)\n",
       "        (1): ReLU()\n",
       "        (2): Linear(in_features=3072, out_features=768, bias=True)\n",
       "      )\n",
       "      (layer_norm1): LayerNorm((768,), eps=1e-05, elementwise_affine=True)\n",
       "      (layer_norm2): LayerNorm((768,), eps=1e-05, elementwise_affine=True)\n",
       "      (layer_norm3): LayerNorm((768,), eps=1e-05, elementwise_affine=True)\n",
       "      (dropout): Dropout(p=0.1, inplace=False)\n",
       "    )\n",
       "  )\n",
       "  (fc): Linear(in_features=1536, out_features=2, bias=True)\n",
       ")"
      ]
     },
     "execution_count": 42,
     "metadata": {},
     "output_type": "execute_result"
    }
   ],
   "source": [
    "# Example usage\n",
    "# model_checkpoint = 'csebuetnlp/banglabert'\n",
    "model_checkpoint = \"/kaggle/working/mlm_pretrained_model\"\n",
    "model = CustomDualBanglaBERTModel(model_checkpoint=model_checkpoint)\n",
    "\n",
    "# Move the model to GPU if available\n",
    "device = torch.device(\"cuda\" if torch.cuda.is_available() else \"cpu\")\n",
    "# model.to(device)\n",
    "model.cuda()"
   ]
  },
  {
   "cell_type": "code",
   "execution_count": 43,
   "id": "c9879af6",
   "metadata": {
    "execution": {
     "iopub.execute_input": "2025-02-22T05:30:42.942828Z",
     "iopub.status.busy": "2025-02-22T05:30:42.942539Z",
     "iopub.status.idle": "2025-02-22T05:30:42.949074Z",
     "shell.execute_reply": "2025-02-22T05:30:42.948201Z"
    },
    "papermill": {
     "duration": 0.022882,
     "end_time": "2025-02-22T05:30:42.950153",
     "exception": false,
     "start_time": "2025-02-22T05:30:42.927271",
     "status": "completed"
    },
    "tags": []
   },
   "outputs": [
    {
     "name": "stdout",
     "output_type": "stream",
     "text": [
      "Approximate Model Size in Memory: 0.89 GB\n"
     ]
    }
   ],
   "source": [
    "# Calculate the total number of trainable parameters\n",
    "trainable_params = sum(p.numel() for p in model.parameters() if p.requires_grad)\n",
    "\n",
    "# Each parameter takes 4 bytes (float32)\n",
    "param_size_in_bytes = trainable_params * 4\n",
    "\n",
    "# Convert to GB\n",
    "param_size_in_gb = param_size_in_bytes / (1024**3)\n",
    "print(f\"Approximate Model Size in Memory: {param_size_in_gb:.2f} GB\")"
   ]
  },
  {
   "cell_type": "code",
   "execution_count": 44,
   "id": "ec51f1df",
   "metadata": {
    "execution": {
     "iopub.execute_input": "2025-02-22T05:30:42.980174Z",
     "iopub.status.busy": "2025-02-22T05:30:42.979949Z",
     "iopub.status.idle": "2025-02-22T05:30:42.983544Z",
     "shell.execute_reply": "2025-02-22T05:30:42.982857Z"
    },
    "papermill": {
     "duration": 0.019973,
     "end_time": "2025-02-22T05:30:42.984694",
     "exception": false,
     "start_time": "2025-02-22T05:30:42.964721",
     "status": "completed"
    },
    "tags": []
   },
   "outputs": [],
   "source": [
    "# import torch\n",
    "# import torch.nn as nn\n",
    "# from transformers import  BertConfig,AutoModel\n",
    "\n",
    "# class CustomEncoderLayer(nn.Module):\n",
    "#     def __init__(self, hidden_size, num_attention_heads, dropout_rate=0.1):\n",
    "#         super(CustomEncoderLayer, self).__init__()\n",
    "#         self.self_attention = nn.MultiheadAttention(hidden_size, num_attention_heads, dropout=dropout_rate)\n",
    "#         self.cross_attention = nn.MultiheadAttention(hidden_size, num_attention_heads, dropout=dropout_rate)\n",
    "#         self.feed_forward = nn.Sequential(\n",
    "#             nn.Linear(hidden_size, hidden_size * 4),\n",
    "#             nn.ReLU(),\n",
    "#             nn.Linear(hidden_size * 4, hidden_size)\n",
    "#         )\n",
    "#         self.layer_norm1 = nn.LayerNorm(hidden_size)\n",
    "#         self.layer_norm2 = nn.LayerNorm(hidden_size)\n",
    "#         self.layer_norm3 = nn.LayerNorm(hidden_size)\n",
    "#         self.dropout = nn.Dropout(dropout_rate)\n",
    "\n",
    "#     def forward(self, x, y):\n",
    "#         # Self-attention on x\n",
    "#         e=x\n",
    "#         self_attn_output, _ = self.self_attention(x, x, x)\n",
    "#         x = self.layer_norm1(e + self.dropout(self_attn_output))\n",
    "        \n",
    "#         # Cross-attention from x to y\n",
    "#         cross_attn_output, cross_attn_weights = self.cross_attention(x, y, y)\n",
    "#         x = self.layer_norm2(e + self.dropout(cross_attn_output))\n",
    "        \n",
    "#         # Feed forward\n",
    "#         ff_output = self.feed_forward(x)\n",
    "#         x = self.layer_norm3(e + self.dropout(ff_output))\n",
    "        \n",
    "#         return x, cross_attn_weights\n",
    "\n",
    "# class CustomDualBERTModel(nn.Module):\n",
    "#     def __init__(self, num_layers=3, hidden_size=768, num_attention_heads=8, dropout_rate=0.1):\n",
    "#         super(CustomDualBERTModel, self).__init__()\n",
    "        \n",
    "#         # Two BERT models: one for each input\n",
    "#         self.bert1 = AutoModel.from_pretrained('bert-base-uncased')\n",
    "#         self.bert2 = AutoModel.from_pretrained('bert-base-uncased')\n",
    "        \n",
    "#         self.encoder_layers = nn.ModuleList([\n",
    "#             CustomEncoderLayer(hidden_size, num_attention_heads, dropout_rate)\n",
    "#             for _ in range(num_layers)\n",
    "#         ])\n",
    "        \n",
    "#         self.fc = nn.Linear(hidden_size * 2, 2)\n",
    "\n",
    "#     def forward(self, input_ids1, attention_mask1, input_ids2, attention_mask2):\n",
    "#         # Get BERT embeddings from two different models\n",
    "#         output1 = self.bert1(input_ids=input_ids1, attention_mask=attention_mask1).last_hidden_state\n",
    "#         output2 = self.bert2(input_ids=input_ids2, attention_mask=attention_mask2).last_hidden_state\n",
    "        \n",
    "#         # Create attention masks\n",
    "#         x_mask = ~attention_mask1.bool()\n",
    "#         y_mask = ~attention_mask2.bool()\n",
    "        \n",
    "#         # Apply custom encoder layers (self-attention and cross-attention)\n",
    "#         for layer in self.encoder_layers:\n",
    "#             output1, _ = layer(output1, output2)\n",
    "#             output2, cross_attn_weights = layer(output2, output1)\n",
    "#         # Pool the outputs from both BERTs\n",
    "#         pooled_output1 = torch.mean(output1, dim=1)\n",
    "#         pooled_output2 = torch.mean(output2, dim=1)\n",
    "        \n",
    "#         # Combine and classify\n",
    "#         combined = torch.cat((pooled_output1, pooled_output2), dim=1)\n",
    "#         return self.fc(combined)\n"
   ]
  },
  {
   "cell_type": "code",
   "execution_count": 45,
   "id": "678155ff",
   "metadata": {
    "execution": {
     "iopub.execute_input": "2025-02-22T05:30:43.014333Z",
     "iopub.status.busy": "2025-02-22T05:30:43.014075Z",
     "iopub.status.idle": "2025-02-22T05:30:43.019752Z",
     "shell.execute_reply": "2025-02-22T05:30:43.018875Z"
    },
    "papermill": {
     "duration": 0.022029,
     "end_time": "2025-02-22T05:30:43.021142",
     "exception": false,
     "start_time": "2025-02-22T05:30:42.999113",
     "status": "completed"
    },
    "tags": []
   },
   "outputs": [],
   "source": [
    "import torch\n",
    "import torch.nn as nn\n",
    "from torch.utils.data import DataLoader\n",
    "from transformers import BertTokenizer, AdamW,AutoModel,AutoTokenizer\n",
    "from tqdm import tqdm  # Import tqdm for progress bars\n",
    "\n",
    "# Hyperparameters\n",
    "MAX_LEN = 128\n",
    "BATCH_SIZE = 16\n",
    "EPOCHS = 3\n",
    "LEARNING_RATE = 2e-5\n",
    "\n",
    "# tokenizer = AutoTokenizer.from_pretrained(model_checkpoint)\n",
    "\n",
    "# Create data loaders\n",
    "train_dataset = MultiFeatureDataset(train_df, tokenizer, MAX_LEN)\n",
    "val_dataset = MultiFeatureDataset(eval_df, tokenizer, MAX_LEN)\n",
    "\n",
    "train_loader = DataLoader(train_dataset, batch_size=BATCH_SIZE, shuffle=True)\n",
    "val_loader = DataLoader(val_dataset, batch_size=BATCH_SIZE)"
   ]
  },
  {
   "cell_type": "code",
   "execution_count": 46,
   "id": "10eadaf5",
   "metadata": {
    "execution": {
     "iopub.execute_input": "2025-02-22T05:30:43.052278Z",
     "iopub.status.busy": "2025-02-22T05:30:43.052043Z",
     "iopub.status.idle": "2025-02-22T05:30:43.066118Z",
     "shell.execute_reply": "2025-02-22T05:30:43.065171Z"
    },
    "papermill": {
     "duration": 0.031297,
     "end_time": "2025-02-22T05:30:43.067498",
     "exception": false,
     "start_time": "2025-02-22T05:30:43.036201",
     "status": "completed"
    },
    "tags": []
   },
   "outputs": [
    {
     "name": "stderr",
     "output_type": "stream",
     "text": [
      "/usr/local/lib/python3.10/dist-packages/transformers/optimization.py:591: FutureWarning: This implementation of AdamW is deprecated and will be removed in a future version. Use the PyTorch implementation torch.optim.AdamW instead, or set `no_deprecation_warning=True` to disable this warning\n",
      "  warnings.warn(\n"
     ]
    }
   ],
   "source": [
    "# Initialize the model\n",
    "\n",
    "# Usage\n",
    "# model = CustomDualBERTModel()\n",
    "#model.load_state_dict(torch.load('dual_bert_classifier.pth'))\n",
    "\n",
    "\n",
    "# Optimizer with weight decay\n",
    "from transformers import AdamW, get_linear_schedule_with_warmup\n",
    "\n",
    "\n",
    "device = torch.device('cuda' if torch.cuda.is_available() else 'cpu')\n",
    "model = model.to(device)\n",
    "\n",
    "optimizer = AdamW(model.parameters(), lr=LEARNING_RATE, weight_decay=0.01)"
   ]
  },
  {
   "cell_type": "code",
   "execution_count": 47,
   "id": "aea3414d",
   "metadata": {
    "execution": {
     "iopub.execute_input": "2025-02-22T05:30:43.097910Z",
     "iopub.status.busy": "2025-02-22T05:30:43.097662Z",
     "iopub.status.idle": "2025-02-22T05:30:43.102181Z",
     "shell.execute_reply": "2025-02-22T05:30:43.101524Z"
    },
    "papermill": {
     "duration": 0.021015,
     "end_time": "2025-02-22T05:30:43.103480",
     "exception": false,
     "start_time": "2025-02-22T05:30:43.082465",
     "status": "completed"
    },
    "tags": []
   },
   "outputs": [
    {
     "data": {
      "text/plain": [
       "AdamW (\n",
       "Parameter Group 0\n",
       "    betas: (0.9, 0.999)\n",
       "    correct_bias: True\n",
       "    eps: 1e-06\n",
       "    lr: 2e-05\n",
       "    weight_decay: 0.01\n",
       ")"
      ]
     },
     "execution_count": 47,
     "metadata": {},
     "output_type": "execute_result"
    }
   ],
   "source": [
    "optimizer"
   ]
  },
  {
   "cell_type": "code",
   "execution_count": 48,
   "id": "5a2e6381",
   "metadata": {
    "execution": {
     "iopub.execute_input": "2025-02-22T05:30:43.133807Z",
     "iopub.status.busy": "2025-02-22T05:30:43.133567Z",
     "iopub.status.idle": "2025-02-22T05:30:43.540190Z",
     "shell.execute_reply": "2025-02-22T05:30:43.539440Z"
    },
    "papermill": {
     "duration": 0.423355,
     "end_time": "2025-02-22T05:30:43.541640",
     "exception": false,
     "start_time": "2025-02-22T05:30:43.118285",
     "status": "completed"
    },
    "tags": []
   },
   "outputs": [],
   "source": [
    "import gc\n",
    "import torch\n",
    "\n",
    "# Delete any unnecessary objects, e.g., big tensors or models you no longer need\n",
    "# del mlm_model  \n",
    "# del model\n",
    "\n",
    "# Run garbage collector\n",
    "gc.collect()\n",
    "\n",
    "# If you’re using PyTorch, clear GPU cache\n",
    "torch.cuda.empty_cache()"
   ]
  },
  {
   "cell_type": "code",
   "execution_count": 49,
   "id": "405ca6b4",
   "metadata": {
    "execution": {
     "iopub.execute_input": "2025-02-22T05:30:43.573809Z",
     "iopub.status.busy": "2025-02-22T05:30:43.573546Z",
     "iopub.status.idle": "2025-02-22T05:30:43.576415Z",
     "shell.execute_reply": "2025-02-22T05:30:43.575751Z"
    },
    "papermill": {
     "duration": 0.019984,
     "end_time": "2025-02-22T05:30:43.577692",
     "exception": false,
     "start_time": "2025-02-22T05:30:43.557708",
     "status": "completed"
    },
    "tags": []
   },
   "outputs": [],
   "source": [
    "# import os\n",
    "# os.environ[\"PYTORCH_CUDA_ALLOC_CONF\"] = \"expandable_segments:True\"\n",
    "\n",
    "# import torch\n",
    "# Now you can continue with your PyTorch code\n"
   ]
  },
  {
   "cell_type": "code",
   "execution_count": 50,
   "id": "9ce3da98",
   "metadata": {
    "execution": {
     "iopub.execute_input": "2025-02-22T05:30:43.609009Z",
     "iopub.status.busy": "2025-02-22T05:30:43.608759Z",
     "iopub.status.idle": "2025-02-22T05:30:43.611611Z",
     "shell.execute_reply": "2025-02-22T05:30:43.610924Z"
    },
    "papermill": {
     "duration": 0.019197,
     "end_time": "2025-02-22T05:30:43.612816",
     "exception": false,
     "start_time": "2025-02-22T05:30:43.593619",
     "status": "completed"
    },
    "tags": []
   },
   "outputs": [],
   "source": [
    "# model"
   ]
  },
  {
   "cell_type": "code",
   "execution_count": 51,
   "id": "f8284041",
   "metadata": {
    "execution": {
     "iopub.execute_input": "2025-02-22T05:30:43.643142Z",
     "iopub.status.busy": "2025-02-22T05:30:43.642899Z",
     "iopub.status.idle": "2025-02-22T05:30:43.646787Z",
     "shell.execute_reply": "2025-02-22T05:30:43.646105Z"
    },
    "papermill": {
     "duration": 0.020291,
     "end_time": "2025-02-22T05:30:43.648104",
     "exception": false,
     "start_time": "2025-02-22T05:30:43.627813",
     "status": "completed"
    },
    "tags": []
   },
   "outputs": [],
   "source": [
    "# Custom function to save the model\n",
    "def save_model(model, filepath, epoch, val_accuracy, best_val_accuracy):\n",
    "    \"\"\"\n",
    "    Save the model if the current validation accuracy is higher than the best seen so far.\n",
    "    \"\"\"\n",
    "    if val_accuracy > best_val_accuracy:\n",
    "        torch.save(model.state_dict(), filepath)\n",
    "        print(f\"Model saved at epoch {epoch+1} with validation accuracy: {val_accuracy:.2f}%\")\n",
    "        return val_accuracy  # Update best validation accuracy\n",
    "    return best_val_accuracy  # Keep the previous best validation accuracy\n",
    "\n",
    "# Training loop with model saving\n",
    "best_val_accuracy = 0.0  # Initialize the best validation accuracy\n",
    "model_filepath = 'dual_bert_classifier_best.pth'"
   ]
  },
  {
   "cell_type": "code",
   "execution_count": 52,
   "id": "7f8c44eb",
   "metadata": {
    "execution": {
     "iopub.execute_input": "2025-02-22T05:30:43.679888Z",
     "iopub.status.busy": "2025-02-22T05:30:43.679625Z",
     "iopub.status.idle": "2025-02-22T06:44:27.387279Z",
     "shell.execute_reply": "2025-02-22T06:44:27.386354Z"
    },
    "papermill": {
     "duration": 4423.724973,
     "end_time": "2025-02-22T06:44:27.388602",
     "exception": false,
     "start_time": "2025-02-22T05:30:43.663629",
     "status": "completed"
    },
    "tags": []
   },
   "outputs": [
    {
     "name": "stderr",
     "output_type": "stream",
     "text": [
      "                                                                                     \r"
     ]
    },
    {
     "name": "stdout",
     "output_type": "stream",
     "text": [
      "Epoch [1/3], Loss: 0.4837, Accuracy: 0.7717\n"
     ]
    },
    {
     "name": "stderr",
     "output_type": "stream",
     "text": [
      "                                                                     \r"
     ]
    },
    {
     "name": "stdout",
     "output_type": "stream",
     "text": [
      "Epoch 1/3, Validation Loss: 0.4415, Validation Accuracy: 80.64%\n",
      "Model saved at epoch 1 with validation accuracy: 80.64%\n"
     ]
    },
    {
     "name": "stderr",
     "output_type": "stream",
     "text": [
      "                                                                                     \r"
     ]
    },
    {
     "name": "stdout",
     "output_type": "stream",
     "text": [
      "Epoch [2/3], Loss: 0.3118, Accuracy: 0.8695\n"
     ]
    },
    {
     "name": "stderr",
     "output_type": "stream",
     "text": [
      "                                                                     \r"
     ]
    },
    {
     "name": "stdout",
     "output_type": "stream",
     "text": [
      "Epoch 2/3, Validation Loss: 0.4774, Validation Accuracy: 80.11%\n"
     ]
    },
    {
     "name": "stderr",
     "output_type": "stream",
     "text": [
      "                                                                                     \r"
     ]
    },
    {
     "name": "stdout",
     "output_type": "stream",
     "text": [
      "Epoch [3/3], Loss: 0.1455, Accuracy: 0.9483\n"
     ]
    },
    {
     "name": "stderr",
     "output_type": "stream",
     "text": [
      "                                                                     "
     ]
    },
    {
     "name": "stdout",
     "output_type": "stream",
     "text": [
      "Epoch 3/3, Validation Loss: 0.7512, Validation Accuracy: 78.72%\n"
     ]
    },
    {
     "name": "stderr",
     "output_type": "stream",
     "text": [
      "\r"
     ]
    }
   ],
   "source": [
    "# TRaining LOOP\n",
    "for epoch in range(EPOCHS):\n",
    "    model.train()\n",
    "    running_loss = 0.0\n",
    "    correct_train = 0\n",
    "    total_train = 0\n",
    "\n",
    "    # Initialize the tqdm progress bar\n",
    "    progress_bar = tqdm(train_loader, desc=f\"Training Epoch {epoch+1}\", leave=False)\n",
    "    \n",
    "    for batch_idx, batch in enumerate(progress_bar):\n",
    "        text_input_ids1 = batch['input_ids1'].to(device)\n",
    "        text_attention_mask1 = batch['attention_mask1'].to(device)\n",
    "        text_input_ids2 = batch['input_ids2'].to(device)\n",
    "        text_attention_mask2 = batch['attention_mask2'].to(device)\n",
    "        labels = batch['labels'].to(device)\n",
    "        \n",
    "        optimizer.zero_grad()\n",
    "        \n",
    "        # Forward pass\n",
    "        outputs = model(text_input_ids1, text_attention_mask1, text_input_ids2, text_attention_mask2)\n",
    "        \n",
    "        # Calculate loss\n",
    "        loss = nn.CrossEntropyLoss()(outputs, labels)\n",
    "        \n",
    "        # Backward pass and optimization\n",
    "        loss.backward()\n",
    "        optimizer.step()\n",
    "        \n",
    "        # Update running loss and accuracy\n",
    "        running_loss += loss.item()\n",
    "        _, predicted = torch.max(outputs.data, 1)\n",
    "        total_train += labels.size(0)\n",
    "        correct_train += (predicted == labels).sum().item()\n",
    "        \n",
    "        avg_loss = running_loss / (batch_idx + 1)\n",
    "\n",
    "        # Update the progress bar with the average loss\n",
    "        progress_bar.set_postfix(avg_loss=avg_loss)\n",
    "\n",
    "    # Optional: Print statistics at the end of each epoch\n",
    "    epoch_loss = running_loss / len(train_loader)\n",
    "    epoch_acc = correct_train / total_train\n",
    "    print(f\"Epoch [{epoch+1}/{EPOCHS}], Loss: {epoch_loss:.4f}, Accuracy: {epoch_acc:.4f}\")\n",
    "    \n",
    "    # Validation\n",
    "    model.eval()\n",
    "    val_loss = 0\n",
    "    correct_val = 0\n",
    "    total_val = 0\n",
    "    with torch.no_grad():\n",
    "        for batch in tqdm(val_loader, desc=f\"Validation Epoch {epoch+1}\", leave=False):\n",
    "            text_input_ids1 = batch['input_ids1'].to(device)\n",
    "            text_attention_mask1 = batch['attention_mask1'].to(device)\n",
    "            text_input_ids2 = batch['input_ids2'].to(device)\n",
    "            text_attention_mask2 = batch['attention_mask2'].to(device)\n",
    "            labels = batch['labels'].to(device)\n",
    "            \n",
    "            outputs = model(text_input_ids1, text_attention_mask1, text_input_ids2, text_attention_mask2)\n",
    "            val_loss += nn.CrossEntropyLoss()(outputs, labels).item()\n",
    "            _, predicted = torch.max(outputs.data, 1)\n",
    "            total_val += labels.size(0)\n",
    "            correct_val += (predicted == labels).sum().item()\n",
    "\n",
    "    val_accuracy = 100 * correct_val / total_val\n",
    "    print(f'Epoch {epoch+1}/{EPOCHS}, Validation Loss: {val_loss/len(val_loader):.4f}, Validation Accuracy: {val_accuracy:.2f}%')\n",
    "\n",
    "    # Save the model if validation accuracy improves\n",
    "    best_val_accuracy = save_model(model, model_filepath, epoch, val_accuracy, best_val_accuracy)"
   ]
  },
  {
   "cell_type": "code",
   "execution_count": 53,
   "id": "2445f528",
   "metadata": {
    "execution": {
     "iopub.execute_input": "2025-02-22T06:44:28.243106Z",
     "iopub.status.busy": "2025-02-22T06:44:28.242787Z",
     "iopub.status.idle": "2025-02-22T06:44:30.872296Z",
     "shell.execute_reply": "2025-02-22T06:44:30.871215Z"
    },
    "papermill": {
     "duration": 3.047598,
     "end_time": "2025-02-22T06:44:30.873777",
     "exception": false,
     "start_time": "2025-02-22T06:44:27.826179",
     "status": "completed"
    },
    "tags": []
   },
   "outputs": [
    {
     "name": "stderr",
     "output_type": "stream",
     "text": [
      "<ipython-input-53-699ca1464688>:9: FutureWarning: You are using `torch.load` with `weights_only=False` (the current default value), which uses the default pickle module implicitly. It is possible to construct malicious pickle data which will execute arbitrary code during unpickling (See https://github.com/pytorch/pytorch/blob/main/SECURITY.md#untrusted-models for more details). In a future release, the default value for `weights_only` will be flipped to `True`. This limits the functions that could be executed during unpickling. Arbitrary objects will no longer be allowed to be loaded via this mode unless they are explicitly allowlisted by the user via `torch.serialization.add_safe_globals`. We recommend you start setting `weights_only=True` for any use case where you don't have full control of the loaded file. Please open an issue on GitHub for any issues related to this experimental feature.\n",
      "  model.load_state_dict(torch.load(saved_model_path))\n"
     ]
    },
    {
     "name": "stdout",
     "output_type": "stream",
     "text": [
      "Custom model loaded successfully!\n"
     ]
    }
   ],
   "source": [
    "# Define the model checkpoint and path to the saved weights\n",
    "model_checkpoint = 'csebuetnlp/banglabert'\n",
    "saved_model_path = 'dual_bert_classifier_best.pth'\n",
    "\n",
    "# Recreate the model architecture\n",
    "model = CustomDualBanglaBERTModel(model_checkpoint=model_checkpoint)\n",
    "\n",
    "# Load the model weights from the saved file\n",
    "model.load_state_dict(torch.load(saved_model_path))\n",
    "\n",
    "# Send the model to the appropriate device\n",
    "device = torch.device(\"cuda\" if torch.cuda.is_available() else \"cpu\")\n",
    "model.to(device)\n",
    "\n",
    "print(\"Custom model loaded successfully!\")"
   ]
  },
  {
   "cell_type": "code",
   "execution_count": 54,
   "id": "e1b6b94d",
   "metadata": {
    "execution": {
     "iopub.execute_input": "2025-02-22T06:44:31.738165Z",
     "iopub.status.busy": "2025-02-22T06:44:31.737830Z",
     "iopub.status.idle": "2025-02-22T06:46:26.077264Z",
     "shell.execute_reply": "2025-02-22T06:46:26.076474Z"
    },
    "papermill": {
     "duration": 114.745932,
     "end_time": "2025-02-22T06:46:26.078576",
     "exception": false,
     "start_time": "2025-02-22T06:44:31.332644",
     "status": "completed"
    },
    "tags": []
   },
   "outputs": [
    {
     "name": "stderr",
     "output_type": "stream",
     "text": [
      "                                                                   \r"
     ]
    },
    {
     "name": "stdout",
     "output_type": "stream",
     "text": [
      "Class 0:\n",
      "  Precision: 0.7864\n",
      "  Recall:    0.8413\n",
      "  F1 Score:  0.8129\n",
      "Class 1:\n",
      "  Precision: 0.8294\n",
      "  Recall:    0.7715\n",
      "  F1 Score:  0.7994\n",
      "\n",
      "Average Precision: 0.8079\n",
      "Average Recall:    0.8064\n",
      "Average F1 Score:  0.8061\n",
      "Accuracy: 0.8064\n",
      "Class Distribution: {0: 2564, 1: 2564}\n",
      "Total Samples: 5128\n"
     ]
    },
    {
     "data": {
      "image/png": "[encoded data removed]",
      "text/plain": [
       "<Figure size 640x480 with 2 Axes>"
      ]
     },
     "metadata": {},
     "output_type": "display_data"
    }
   ],
   "source": [
    "\n",
    "from tqdm import tqdm\n",
    "\n",
    "def batch_predict(loader):\n",
    "    model.eval()  # Set the model to evaluation mode\n",
    "    predictions = []\n",
    "\n",
    "    with torch.no_grad():\n",
    "        for batch in tqdm(loader, desc=\"Batch Prediction\", leave=False):\n",
    "            text_input_ids1 = batch['input_ids1'].to(device)\n",
    "            text_attention_mask1 = batch['attention_mask1'].to(device)\n",
    "            text_input_ids2 = batch['input_ids2'].to(device)\n",
    "            text_attention_mask2 = batch['attention_mask2'].to(device)\n",
    "            labels = batch['labels'].to(device)\n",
    "            outputs = model(text_input_ids1, text_attention_mask1, text_input_ids2, text_attention_mask2)\n",
    "            _, predicted = torch.max(outputs.data, 1)\n",
    "            predictions.extend(predicted.cpu().numpy())\n",
    "\n",
    "    return predictions\n",
    "pred=batch_predict(val_loader)\n",
    "true=val_dataset.labels\n",
    "\n",
    "import matplotlib.pyplot as plt\n",
    "from sklearn.metrics import confusion_matrix, ConfusionMatrixDisplay, roc_curve, auc, accuracy_score\n",
    "import numpy as np\n",
    "from sklearn.metrics import precision_recall_fscore_support\n",
    "import numpy as np\n",
    "from sklearn.preprocessing import label_binarize\n",
    "\n",
    "\n",
    "# Generate predictions and true labels\n",
    "\n",
    "pred = np.array(pred)\n",
    "true_labels =np.array(true)\n",
    "\n",
    "\n",
    "\n",
    "# Calculate precision, recall, and F1 score for each class\n",
    "precision, recall, f1, _ = precision_recall_fscore_support(true_labels, pred, average=None)\n",
    "\n",
    "# Get the unique labels\n",
    "labels =np.array([0,1])\n",
    "\n",
    "# Print the precision, recall, and F1 score for each class\n",
    "for i, label in enumerate(labels):\n",
    "    print(f\"Class {label}:\")\n",
    "    print(f\"  Precision: {precision[i]:.4f}\")\n",
    "    print(f\"  Recall:    {recall[i]:.4f}\")\n",
    "    print(f\"  F1 Score:  {f1[i]:.4f}\")\n",
    "\n",
    "# Optionally, you can calculate the average scores\n",
    "avg_precision, avg_recall, avg_f1, _ = precision_recall_fscore_support(true_labels, pred, average='weighted')\n",
    "\n",
    "print(f\"\\nAverage Precision: {avg_precision:.4f}\")\n",
    "print(f\"Average Recall:    {avg_recall:.4f}\")\n",
    "print(f\"Average F1 Score:  {avg_f1:.4f}\")\n",
    "\n",
    "# Compute accuracy\n",
    "accuracy = accuracy_score(true_labels, pred)\n",
    "print(f'Accuracy: {accuracy:.4f}')\n",
    "\n",
    "# Print the number of samples for each class and total samples\n",
    "unique, counts = np.unique(true_labels, return_counts=True)\n",
    "class_distribution = dict(zip(unique, counts))\n",
    "total_samples = len(true_labels)\n",
    "print(f'Class Distribution: {class_distribution}')\n",
    "print(f'Total Samples: {total_samples}')\n",
    "\n",
    "# Compute confusion matrix\n",
    "cm = confusion_matrix(true_labels, pred)\n",
    "disp = ConfusionMatrixDisplay(confusion_matrix=cm, display_labels=labels)\n",
    "\n",
    "# Plot confusion matrix\n",
    "disp.plot(cmap=plt.cm.Blues)\n",
    "plt.title(\"Confusion Matrix\")\n",
    "plt.show()"
   ]
  },
  {
   "cell_type": "code",
   "execution_count": 55,
   "id": "70b08459",
   "metadata": {
    "execution": {
     "iopub.execute_input": "2025-02-22T06:46:26.973208Z",
     "iopub.status.busy": "2025-02-22T06:46:26.972734Z",
     "iopub.status.idle": "2025-02-22T06:46:26.981064Z",
     "shell.execute_reply": "2025-02-22T06:46:26.980257Z"
    },
    "papermill": {
     "duration": 0.424194,
     "end_time": "2025-02-22T06:46:26.982450",
     "exception": false,
     "start_time": "2025-02-22T06:46:26.558256",
     "status": "completed"
    },
    "tags": []
   },
   "outputs": [
    {
     "data": {
      "text/html": [
       "<div>\n",
       "<style scoped>\n",
       "    .dataframe tbody tr th:only-of-type {\n",
       "        vertical-align: middle;\n",
       "    }\n",
       "\n",
       "    .dataframe tbody tr th {\n",
       "        vertical-align: top;\n",
       "    }\n",
       "\n",
       "    .dataframe thead th {\n",
       "        text-align: right;\n",
       "    }\n",
       "</style>\n",
       "<table border=\"1\" class=\"dataframe\">\n",
       "  <thead>\n",
       "    <tr style=\"text-align: right;\">\n",
       "      <th></th>\n",
       "      <th>id</th>\n",
       "      <th>parent_comment</th>\n",
       "      <th>label</th>\n",
       "      <th>comment</th>\n",
       "    </tr>\n",
       "  </thead>\n",
       "  <tbody>\n",
       "    <tr>\n",
       "      <th>3524</th>\n",
       "      <td>7682</td>\n",
       "      <td>পরীমনির পেজের প্রফাইলটা দেখেন ও মানুষ না আর্জে...</td>\n",
       "      <td>1</td>\n",
       "      <td>উচিৎ থাকা লজ্জা ছি বইচে ঝর প্রশংসার আবার নিয়ে...</td>\n",
       "    </tr>\n",
       "    <tr>\n",
       "      <th>11178</th>\n",
       "      <td>27904</td>\n",
       "      <td>ঢপ এর চপ এমন ভাও খাচ্ছে যেনো বোকাচোদার সিরিয়াল</td>\n",
       "      <td>1</td>\n",
       "      <td>সিরিয়াল বোকাচোদার যেনো খাচ্ছে ভাও এমন চপ এর ঢপ</td>\n",
       "    </tr>\n",
       "    <tr>\n",
       "      <th>24525</th>\n",
       "      <td>25185</td>\n",
       "      <td>হেলমেট ছাড়া বেরোলে ঠিকই কেউ না কেউ বলবে ওদিকে...</td>\n",
       "      <td>0</td>\n",
       "      <td>ধরছে পুলিশ না যাবেন ওদিকে বলবে কেউ না কেউ ঠিকই...</td>\n",
       "    </tr>\n",
       "  </tbody>\n",
       "</table>\n",
       "</div>"
      ],
      "text/plain": [
       "          id                                     parent_comment  label  \\\n",
       "3524    7682  পরীমনির পেজের প্রফাইলটা দেখেন ও মানুষ না আর্জে...      1   \n",
       "11178  27904    ঢপ এর চপ এমন ভাও খাচ্ছে যেনো বোকাচোদার সিরিয়াল      1   \n",
       "24525  25185  হেলমেট ছাড়া বেরোলে ঠিকই কেউ না কেউ বলবে ওদিকে...      0   \n",
       "\n",
       "                                                 comment  \n",
       "3524   উচিৎ থাকা লজ্জা ছি বইচে ঝর প্রশংসার আবার নিয়ে...  \n",
       "11178    সিরিয়াল বোকাচোদার যেনো খাচ্ছে ভাও এমন চপ এর ঢপ  \n",
       "24525  ধরছে পুলিশ না যাবেন ওদিকে বলবে কেউ না কেউ ঠিকই...  "
      ]
     },
     "execution_count": 55,
     "metadata": {},
     "output_type": "execute_result"
    }
   ],
   "source": [
    "eval_df.head(3)"
   ]
  },
  {
   "cell_type": "code",
   "execution_count": 56,
   "id": "4421d0d4",
   "metadata": {
    "execution": {
     "iopub.execute_input": "2025-02-22T06:46:27.910466Z",
     "iopub.status.busy": "2025-02-22T06:46:27.910130Z",
     "iopub.status.idle": "2025-02-22T06:46:27.913503Z",
     "shell.execute_reply": "2025-02-22T06:46:27.912743Z"
    },
    "papermill": {
     "duration": 0.512244,
     "end_time": "2025-02-22T06:46:27.914728",
     "exception": false,
     "start_time": "2025-02-22T06:46:27.402484",
     "status": "completed"
    },
    "tags": []
   },
   "outputs": [],
   "source": [
    "# def preprocess_function(context,text):\n",
    "#     parent_encoding = tokenizer(context, padding=\"max_length\", truncation=True, max_length=128)\n",
    "#     text_encoding = tokenizer(context, padding=\"max_length\", truncation=True, max_length=128)\n",
    "    \n",
    "#     return {\n",
    "#         'input_ids1': parent_encoding['input_ids'],\n",
    "#         'attention_mask1': parent_encoding['attention_mask'],\n",
    "#         'input_ids2': text_encoding['input_ids'],\n",
    "#         'attention_mask2': text_encoding['attention_mask'],\n",
    "#     }"
   ]
  },
  {
   "cell_type": "code",
   "execution_count": 57,
   "id": "35cdc4ef",
   "metadata": {
    "execution": {
     "iopub.execute_input": "2025-02-22T06:46:28.776166Z",
     "iopub.status.busy": "2025-02-22T06:46:28.775867Z",
     "iopub.status.idle": "2025-02-22T06:46:28.779185Z",
     "shell.execute_reply": "2025-02-22T06:46:28.778496Z"
    },
    "papermill": {
     "duration": 0.434011,
     "end_time": "2025-02-22T06:46:28.780518",
     "exception": false,
     "start_time": "2025-02-22T06:46:28.346507",
     "status": "completed"
    },
    "tags": []
   },
   "outputs": [],
   "source": [
    "#batch=preprocess_function(data2.iloc[1011]['parent_comment'],data2.iloc[1011]['comment'])"
   ]
  },
  {
   "cell_type": "code",
   "execution_count": null,
   "id": "0d6e4769",
   "metadata": {
    "papermill": {
     "duration": 0.478857,
     "end_time": "2025-02-22T06:46:29.689168",
     "exception": false,
     "start_time": "2025-02-22T06:46:29.210311",
     "status": "completed"
    },
    "tags": []
   },
   "outputs": [],
   "source": []
  }
 ],
 "metadata": {
  "kaggle": {
   "accelerator": "nvidiaTeslaT4",
   "dataSources": [
    {
     "datasetId": 113003,
     "sourceId": 269740,
     "sourceType": "datasetVersion"
    },
    {
     "datasetId": 32526,
     "sourceId": 4243451,
     "sourceType": "datasetVersion"
    },
    {
     "datasetId": 5668978,
     "sourceId": 9601762,
     "sourceType": "datasetVersion"
    },
    {
     "datasetId": 4892370,
     "sourceId": 10280684,
     "sourceType": "datasetVersion"
    }
   ],
   "dockerImageVersionId": 30823,
   "isGpuEnabled": true,
   "isInternetEnabled": true,
   "language": "python",
   "sourceType": "notebook"
  },
  "kernelspec": {
   "display_name": "Python 3",
   "language": "python",
   "name": "python3"
  },
  "language_info": {
   "codemirror_mode": {
    "name": "ipython",
    "version": 3
   },
   "file_extension": ".py",
   "mimetype": "text/x-python",
   "name": "python",
   "nbconvert_exporter": "python",
   "pygments_lexer": "ipython3",
   "version": "3.10.12"
  },
  "papermill": {
   "default_parameters": {},
   "duration": 6102.014557,
   "end_time": "2025-02-22T06:46:33.097238",
   "environment_variables": {},
   "exception": null,
   "input_path": "__notebook__.ipynb",
   "output_path": "__notebook__.ipynb",
   "parameters": {},
   "start_time": "2025-02-22T05:04:51.082681",
   "version": "2.6.0"
  },
  "widgets": {
   "application/vnd.jupyter.widget-state+json": {
    "state": {
     "01657702998e407f88412640b89cd8f1": {
      "model_module": "@jupyter-widgets/controls",
      "model_module_version": "2.0.0",
      "model_name": "HTMLStyleModel",
      "state": {
       "_model_module": "@jupyter-widgets/controls",
       "_model_module_version": "2.0.0",
       "_model_name": "HTMLStyleModel",
       "_view_count": null,
       "_view_module": "@jupyter-widgets/base",
       "_view_module_version": "2.0.0",
       "_view_name": "StyleView",
       "background": null,
       "description_width": "",
       "font_size": null,
       "text_color": null
      }
     },
     "032251730de648a190a10ec482bf0eab": {
      "model_module": "@jupyter-widgets/controls",
      "model_module_version": "2.0.0",
      "model_name": "HTMLModel",
      "state": {
       "_dom_classes": [],
       "_model_module": "@jupyter-widgets/controls",
       "_model_module_version": "2.0.0",
       "_model_name": "HTMLModel",
       "_view_count": null,
       "_view_module": "@jupyter-widgets/controls",
       "_view_module_version": "2.0.0",
       "_view_name": "HTMLView",
       "description": "",
       "description_allow_html": false,
       "layout": "IPY_MODEL_f32c0ee023d9468ca5c0ac20807d34a4",
       "placeholder": "​",
       "style": "IPY_MODEL_163766d2481d4fe0b0a1b226bb260b98",
       "tabbable": null,
       "tooltip": null,
       "value": "vocab.txt: 100%"
      }
     },
     "0caa5d12f4874cad94caf0c33f0ccfb9": {
      "model_module": "@jupyter-widgets/base",
      "model_module_version": "2.0.0",
      "model_name": "LayoutModel",
      "state": {
       "_model_module": "@jupyter-widgets/base",
       "_model_module_version": "2.0.0",
       "_model_name": "LayoutModel",
       "_view_count": null,
       "_view_module": "@jupyter-widgets/base",
       "_view_module_version": "2.0.0",
       "_view_name": "LayoutView",
       "align_content": null,
       "align_items": null,
       "align_self": null,
       "border_bottom": null,
       "border_left": null,
       "border_right": null,
       "border_top": null,
       "bottom": null,
       "display": null,
       "flex": null,
       "flex_flow": null,
       "grid_area": null,
       "grid_auto_columns": null,
       "grid_auto_flow": null,
       "grid_auto_rows": null,
       "grid_column": null,
       "grid_gap": null,
       "grid_row": null,
       "grid_template_areas": null,
       "grid_template_columns": null,
       "grid_template_rows": null,
       "height": null,
       "justify_content": null,
       "justify_items": null,
       "left": null,
       "margin": null,
       "max_height": null,
       "max_width": null,
       "min_height": null,
       "min_width": null,
       "object_fit": null,
       "object_position": null,
       "order": null,
       "overflow": null,
       "padding": null,
       "right": null,
       "top": null,
       "visibility": null,
       "width": null
      }
     },
     "0df6b52dec8a4dad926a2837b07c3015": {
      "model_module": "@jupyter-widgets/base",
      "model_module_version": "2.0.0",
      "model_name": "LayoutModel",
      "state": {
       "_model_module": "@jupyter-widgets/base",
       "_model_module_version": "2.0.0",
       "_model_name": "LayoutModel",
       "_view_count": null,
       "_view_module": "@jupyter-widgets/base",
       "_view_module_version": "2.0.0",
       "_view_name": "LayoutView",
       "align_content": null,
       "align_items": null,
       "align_self": null,
       "border_bottom": null,
       "border_left": null,
       "border_right": null,
       "border_top": null,
       "bottom": null,
       "display": null,
       "flex": null,
       "flex_flow": null,
       "grid_area": null,
       "grid_auto_columns": null,
       "grid_auto_flow": null,
       "grid_auto_rows": null,
       "grid_column": null,
       "grid_gap": null,
       "grid_row": null,
       "grid_template_areas": null,
       "grid_template_columns": null,
       "grid_template_rows": null,
       "height": null,
       "justify_content": null,
       "justify_items": null,
       "left": null,
       "margin": null,
       "max_height": null,
       "max_width": null,
       "min_height": null,
       "min_width": null,
       "object_fit": null,
       "object_position": null,
       "order": null,
       "overflow": null,
       "padding": null,
       "right": null,
       "top": null,
       "visibility": null,
       "width": null
      }
     },
     "0f6ec50d83824cf2acbcc58868b2e909": {
      "model_module": "@jupyter-widgets/base",
      "model_module_version": "2.0.0",
      "model_name": "LayoutModel",
      "state": {
       "_model_module": "@jupyter-widgets/base",
       "_model_module_version": "2.0.0",
       "_model_name": "LayoutModel",
       "_view_count": null,
       "_view_module": "@jupyter-widgets/base",
       "_view_module_version": "2.0.0",
       "_view_name": "LayoutView",
       "align_content": null,
       "align_items": null,
       "align_self": null,
       "border_bottom": null,
       "border_left": null,
       "border_right": null,
       "border_top": null,
       "bottom": null,
       "display": null,
       "flex": null,
       "flex_flow": null,
       "grid_area": null,
       "grid_auto_columns": null,
       "grid_auto_flow": null,
       "grid_auto_rows": null,
       "grid_column": null,
       "grid_gap": null,
       "grid_row": null,
       "grid_template_areas": null,
       "grid_template_columns": null,
       "grid_template_rows": null,
       "height": null,
       "justify_content": null,
       "justify_items": null,
       "left": null,
       "margin": null,
       "max_height": null,
       "max_width": null,
       "min_height": null,
       "min_width": null,
       "object_fit": null,
       "object_position": null,
       "order": null,
       "overflow": null,
       "padding": null,
       "right": null,
       "top": null,
       "visibility": null,
       "width": null
      }
     },
     "100df527640a490193db73f3dd5948a0": {
      "model_module": "@jupyter-widgets/controls",
      "model_module_version": "2.0.0",
      "model_name": "ProgressStyleModel",
      "state": {
       "_model_module": "@jupyter-widgets/controls",
       "_model_module_version": "2.0.0",
       "_model_name": "ProgressStyleModel",
       "_view_count": null,
       "_view_module": "@jupyter-widgets/base",
       "_view_module_version": "2.0.0",
       "_view_name": "StyleView",
       "bar_color": null,
       "description_width": ""
      }
     },
     "163766d2481d4fe0b0a1b226bb260b98": {
      "model_module": "@jupyter-widgets/controls",
      "model_module_version": "2.0.0",
      "model_name": "HTMLStyleModel",
      "state": {
       "_model_module": "@jupyter-widgets/controls",
       "_model_module_version": "2.0.0",
       "_model_name": "HTMLStyleModel",
       "_view_count": null,
       "_view_module": "@jupyter-widgets/base",
       "_view_module_version": "2.0.0",
       "_view_name": "StyleView",
       "background": null,
       "description_width": "",
       "font_size": null,
       "text_color": null
      }
     },
     "193d9195edd8441990c1aef43cffb6d1": {
      "model_module": "@jupyter-widgets/controls",
      "model_module_version": "2.0.0",
      "model_name": "HBoxModel",
      "state": {
       "_dom_classes": [],
       "_model_module": "@jupyter-widgets/controls",
       "_model_module_version": "2.0.0",
       "_model_name": "HBoxModel",
       "_view_count": null,
       "_view_module": "@jupyter-widgets/controls",
       "_view_module_version": "2.0.0",
       "_view_name": "HBoxView",
       "box_style": "",
       "children": [
        "IPY_MODEL_f817a43447234750810e1a426b6397c4",
        "IPY_MODEL_ba80812e92fe4e369ff0332b1727ac13",
        "IPY_MODEL_6c36bbacb97c4645b4cdb1e5331062ca"
       ],
       "layout": "IPY_MODEL_3af554ce454d4425a9217e3f8e2f80c3",
       "tabbable": null,
       "tooltip": null
      }
     },
     "1c17e699c6314bf49cc1a915589cb007": {
      "model_module": "@jupyter-widgets/controls",
      "model_module_version": "2.0.0",
      "model_name": "HTMLStyleModel",
      "state": {
       "_model_module": "@jupyter-widgets/controls",
       "_model_module_version": "2.0.0",
       "_model_name": "HTMLStyleModel",
       "_view_count": null,
       "_view_module": "@jupyter-widgets/base",
       "_view_module_version": "2.0.0",
       "_view_name": "StyleView",
       "background": null,
       "description_width": "",
       "font_size": null,
       "text_color": null
      }
     },
     "1d64be51893c4153a2110f9699913538": {
      "model_module": "@jupyter-widgets/base",
      "model_module_version": "2.0.0",
      "model_name": "LayoutModel",
      "state": {
       "_model_module": "@jupyter-widgets/base",
       "_model_module_version": "2.0.0",
       "_model_name": "LayoutModel",
       "_view_count": null,
       "_view_module": "@jupyter-widgets/base",
       "_view_module_version": "2.0.0",
       "_view_name": "LayoutView",
       "align_content": null,
       "align_items": null,
       "align_self": null,
       "border_bottom": null,
       "border_left": null,
       "border_right": null,
       "border_top": null,
       "bottom": null,
       "display": null,
       "flex": null,
       "flex_flow": null,
       "grid_area": null,
       "grid_auto_columns": null,
       "grid_auto_flow": null,
       "grid_auto_rows": null,
       "grid_column": null,
       "grid_gap": null,
       "grid_row": null,
       "grid_template_areas": null,
       "grid_template_columns": null,
       "grid_template_rows": null,
       "height": null,
       "justify_content": null,
       "justify_items": null,
       "left": null,
       "margin": null,
       "max_height": null,
       "max_width": null,
       "min_height": null,
       "min_width": null,
       "object_fit": null,
       "object_position": null,
       "order": null,
       "overflow": null,
       "padding": null,
       "right": null,
       "top": null,
       "visibility": null,
       "width": null
      }
     },
     "1f2af89cca024283a24044ef6abecfd8": {
      "model_module": "@jupyter-widgets/controls",
      "model_module_version": "2.0.0",
      "model_name": "FloatProgressModel",
      "state": {
       "_dom_classes": [],
       "_model_module": "@jupyter-widgets/controls",
       "_model_module_version": "2.0.0",
       "_model_name": "FloatProgressModel",
       "_view_count": null,
       "_view_module": "@jupyter-widgets/controls",
       "_view_module_version": "2.0.0",
       "_view_name": "ProgressView",
       "bar_style": "success",
       "description": "",
       "description_allow_html": false,
       "layout": "IPY_MODEL_4d4d50af5c8849949c4c20ec103dc21d",
       "max": 112.0,
       "min": 0.0,
       "orientation": "horizontal",
       "style": "IPY_MODEL_e8bdbbb5b87a46bf8157a134e5c37c87",
       "tabbable": null,
       "tooltip": null,
       "value": 112.0
      }
     },
     "28b04bbcdcbb481fb45b70f190c064fd": {
      "model_module": "@jupyter-widgets/controls",
      "model_module_version": "2.0.0",
      "model_name": "HTMLModel",
      "state": {
       "_dom_classes": [],
       "_model_module": "@jupyter-widgets/controls",
       "_model_module_version": "2.0.0",
       "_model_name": "HTMLModel",
       "_view_count": null,
       "_view_module": "@jupyter-widgets/controls",
       "_view_module_version": "2.0.0",
       "_view_name": "HTMLView",
       "description": "",
       "description_allow_html": false,
       "layout": "IPY_MODEL_6e47d3bf4d854b52b93dc377be2a78c1",
       "placeholder": "​",
       "style": "IPY_MODEL_80706c37d6934ae5b757bf8c9947810b",
       "tabbable": null,
       "tooltip": null,
       "value": "pytorch_model.bin: 100%"
      }
     },
     "2a2f39589ddc4d2bb40c41124eb99ba3": {
      "model_module": "@jupyter-widgets/controls",
      "model_module_version": "2.0.0",
      "model_name": "HTMLModel",
      "state": {
       "_dom_classes": [],
       "_model_module": "@jupyter-widgets/controls",
       "_model_module_version": "2.0.0",
       "_model_name": "HTMLModel",
       "_view_count": null,
       "_view_module": "@jupyter-widgets/controls",
       "_view_module_version": "2.0.0",
       "_view_name": "HTMLView",
       "description": "",
       "description_allow_html": false,
       "layout": "IPY_MODEL_0f6ec50d83824cf2acbcc58868b2e909",
       "placeholder": "​",
       "style": "IPY_MODEL_4de4e2e2d7424b4084fc68913f7df2b9",
       "tabbable": null,
       "tooltip": null,
       "value": " 443M/443M [00:02&lt;00:00, 208MB/s]"
      }
     },
     "2ce6a4aa243d4ad8850702e9a3adf617": {
      "model_module": "@jupyter-widgets/base",
      "model_module_version": "2.0.0",
      "model_name": "LayoutModel",
      "state": {
       "_model_module": "@jupyter-widgets/base",
       "_model_module_version": "2.0.0",
       "_model_name": "LayoutModel",
       "_view_count": null,
       "_view_module": "@jupyter-widgets/base",
       "_view_module_version": "2.0.0",
       "_view_name": "LayoutView",
       "align_content": null,
       "align_items": null,
       "align_self": null,
       "border_bottom": null,
       "border_left": null,
       "border_right": null,
       "border_top": null,
       "bottom": null,
       "display": null,
       "flex": null,
       "flex_flow": null,
       "grid_area": null,
       "grid_auto_columns": null,
       "grid_auto_flow": null,
       "grid_auto_rows": null,
       "grid_column": null,
       "grid_gap": null,
       "grid_row": null,
       "grid_template_areas": null,
       "grid_template_columns": null,
       "grid_template_rows": null,
       "height": null,
       "justify_content": null,
       "justify_items": null,
       "left": null,
       "margin": null,
       "max_height": null,
       "max_width": null,
       "min_height": null,
       "min_width": null,
       "object_fit": null,
       "object_position": null,
       "order": null,
       "overflow": null,
       "padding": null,
       "right": null,
       "top": null,
       "visibility": null,
       "width": null
      }
     },
     "372de131674f42bebe3da295488fec82": {
      "model_module": "@jupyter-widgets/controls",
      "model_module_version": "2.0.0",
      "model_name": "HTMLModel",
      "state": {
       "_dom_classes": [],
       "_model_module": "@jupyter-widgets/controls",
       "_model_module_version": "2.0.0",
       "_model_name": "HTMLModel",
       "_view_count": null,
       "_view_module": "@jupyter-widgets/controls",
       "_view_module_version": "2.0.0",
       "_view_name": "HTMLView",
       "description": "",
       "description_allow_html": false,
       "layout": "IPY_MODEL_791722e345a443e7a2d29d6ed6551ae3",
       "placeholder": "​",
       "style": "IPY_MODEL_5646d2e743a34038a6567d87854ce120",
       "tabbable": null,
       "tooltip": null,
       "value": " 25636/25636 [00:02&lt;00:00, 9971.32 examples/s]"
      }
     },
     "388142879ab94746a7be3410ebb11a09": {
      "model_module": "@jupyter-widgets/controls",
      "model_module_version": "2.0.0",
      "model_name": "HBoxModel",
      "state": {
       "_dom_classes": [],
       "_model_module": "@jupyter-widgets/controls",
       "_model_module_version": "2.0.0",
       "_model_name": "HBoxModel",
       "_view_count": null,
       "_view_module": "@jupyter-widgets/controls",
       "_view_module_version": "2.0.0",
       "_view_name": "HBoxView",
       "box_style": "",
       "children": [
        "IPY_MODEL_9ba07e3bfe054699ac2105b2968213b1",
        "IPY_MODEL_e6c20dd995b24b0894d7cc72f3400e1f",
        "IPY_MODEL_9857e84453c4483e823fe9ba4a2568c0"
       ],
       "layout": "IPY_MODEL_0df6b52dec8a4dad926a2837b07c3015",
       "tabbable": null,
       "tooltip": null
      }
     },
     "3af554ce454d4425a9217e3f8e2f80c3": {
      "model_module": "@jupyter-widgets/base",
      "model_module_version": "2.0.0",
      "model_name": "LayoutModel",
      "state": {
       "_model_module": "@jupyter-widgets/base",
       "_model_module_version": "2.0.0",
       "_model_name": "LayoutModel",
       "_view_count": null,
       "_view_module": "@jupyter-widgets/base",
       "_view_module_version": "2.0.0",
       "_view_name": "LayoutView",
       "align_content": null,
       "align_items": null,
       "align_self": null,
       "border_bottom": null,
       "border_left": null,
       "border_right": null,
       "border_top": null,
       "bottom": null,
       "display": null,
       "flex": null,
       "flex_flow": null,
       "grid_area": null,
       "grid_auto_columns": null,
       "grid_auto_flow": null,
       "grid_auto_rows": null,
       "grid_column": null,
       "grid_gap": null,
       "grid_row": null,
       "grid_template_areas": null,
       "grid_template_columns": null,
       "grid_template_rows": null,
       "height": null,
       "justify_content": null,
       "justify_items": null,
       "left": null,
       "margin": null,
       "max_height": null,
       "max_width": null,
       "min_height": null,
       "min_width": null,
       "object_fit": null,
       "object_position": null,
       "order": null,
       "overflow": null,
       "padding": null,
       "right": null,
       "top": null,
       "visibility": null,
       "width": null
      }
     },
     "45887d1dbd104c08837320bfd71a0965": {
      "model_module": "@jupyter-widgets/controls",
      "model_module_version": "2.0.0",
      "model_name": "HTMLStyleModel",
      "state": {
       "_model_module": "@jupyter-widgets/controls",
       "_model_module_version": "2.0.0",
       "_model_name": "HTMLStyleModel",
       "_view_count": null,
       "_view_module": "@jupyter-widgets/base",
       "_view_module_version": "2.0.0",
       "_view_name": "StyleView",
       "background": null,
       "description_width": "",
       "font_size": null,
       "text_color": null
      }
     },
     "49c99652c88e47f39e2e9ff7e857ccf5": {
      "model_module": "@jupyter-widgets/base",
      "model_module_version": "2.0.0",
      "model_name": "LayoutModel",
      "state": {
       "_model_module": "@jupyter-widgets/base",
       "_model_module_version": "2.0.0",
       "_model_name": "LayoutModel",
       "_view_count": null,
       "_view_module": "@jupyter-widgets/base",
       "_view_module_version": "2.0.0",
       "_view_name": "LayoutView",
       "align_content": null,
       "align_items": null,
       "align_self": null,
       "border_bottom": null,
       "border_left": null,
       "border_right": null,
       "border_top": null,
       "bottom": null,
       "display": null,
       "flex": null,
       "flex_flow": null,
       "grid_area": null,
       "grid_auto_columns": null,
       "grid_auto_flow": null,
       "grid_auto_rows": null,
       "grid_column": null,
       "grid_gap": null,
       "grid_row": null,
       "grid_template_areas": null,
       "grid_template_columns": null,
       "grid_template_rows": null,
       "height": null,
       "justify_content": null,
       "justify_items": null,
       "left": null,
       "margin": null,
       "max_height": null,
       "max_width": null,
       "min_height": null,
       "min_width": null,
       "object_fit": null,
       "object_position": null,
       "order": null,
       "overflow": null,
       "padding": null,
       "right": null,
       "top": null,
       "visibility": null,
       "width": null
      }
     },
     "4d4d50af5c8849949c4c20ec103dc21d": {
      "model_module": "@jupyter-widgets/base",
      "model_module_version": "2.0.0",
      "model_name": "LayoutModel",
      "state": {
       "_model_module": "@jupyter-widgets/base",
       "_model_module_version": "2.0.0",
       "_model_name": "LayoutModel",
       "_view_count": null,
       "_view_module": "@jupyter-widgets/base",
       "_view_module_version": "2.0.0",
       "_view_name": "LayoutView",
       "align_content": null,
       "align_items": null,
       "align_self": null,
       "border_bottom": null,
       "border_left": null,
       "border_right": null,
       "border_top": null,
       "bottom": null,
       "display": null,
       "flex": null,
       "flex_flow": null,
       "grid_area": null,
       "grid_auto_columns": null,
       "grid_auto_flow": null,
       "grid_auto_rows": null,
       "grid_column": null,
       "grid_gap": null,
       "grid_row": null,
       "grid_template_areas": null,
       "grid_template_columns": null,
       "grid_template_rows": null,
       "height": null,
       "justify_content": null,
       "justify_items": null,
       "left": null,
       "margin": null,
       "max_height": null,
       "max_width": null,
       "min_height": null,
       "min_width": null,
       "object_fit": null,
       "object_position": null,
       "order": null,
       "overflow": null,
       "padding": null,
       "right": null,
       "top": null,
       "visibility": null,
       "width": null
      }
     },
     "4de4e2e2d7424b4084fc68913f7df2b9": {
      "model_module": "@jupyter-widgets/controls",
      "model_module_version": "2.0.0",
      "model_name": "HTMLStyleModel",
      "state": {
       "_model_module": "@jupyter-widgets/controls",
       "_model_module_version": "2.0.0",
       "_model_name": "HTMLStyleModel",
       "_view_count": null,
       "_view_module": "@jupyter-widgets/base",
       "_view_module_version": "2.0.0",
       "_view_name": "StyleView",
       "background": null,
       "description_width": "",
       "font_size": null,
       "text_color": null
      }
     },
     "50e0fc42a2e24690afb39c9b0307785e": {
      "model_module": "@jupyter-widgets/base",
      "model_module_version": "2.0.0",
      "model_name": "LayoutModel",
      "state": {
       "_model_module": "@jupyter-widgets/base",
       "_model_module_version": "2.0.0",
       "_model_name": "LayoutModel",
       "_view_count": null,
       "_view_module": "@jupyter-widgets/base",
       "_view_module_version": "2.0.0",
       "_view_name": "LayoutView",
       "align_content": null,
       "align_items": null,
       "align_self": null,
       "border_bottom": null,
       "border_left": null,
       "border_right": null,
       "border_top": null,
       "bottom": null,
       "display": null,
       "flex": null,
       "flex_flow": null,
       "grid_area": null,
       "grid_auto_columns": null,
       "grid_auto_flow": null,
       "grid_auto_rows": null,
       "grid_column": null,
       "grid_gap": null,
       "grid_row": null,
       "grid_template_areas": null,
       "grid_template_columns": null,
       "grid_template_rows": null,
       "height": null,
       "justify_content": null,
       "justify_items": null,
       "left": null,
       "margin": null,
       "max_height": null,
       "max_width": null,
       "min_height": null,
       "min_width": null,
       "object_fit": null,
       "object_position": null,
       "order": null,
       "overflow": null,
       "padding": null,
       "right": null,
       "top": null,
       "visibility": null,
       "width": null
      }
     },
     "513873f2b9b4499aa816053dc8253e59": {
      "model_module": "@jupyter-widgets/controls",
      "model_module_version": "2.0.0",
      "model_name": "HTMLModel",
      "state": {
       "_dom_classes": [],
       "_model_module": "@jupyter-widgets/controls",
       "_model_module_version": "2.0.0",
       "_model_name": "HTMLModel",
       "_view_count": null,
       "_view_module": "@jupyter-widgets/controls",
       "_view_module_version": "2.0.0",
       "_view_name": "HTMLView",
       "description": "",
       "description_allow_html": false,
       "layout": "IPY_MODEL_49c99652c88e47f39e2e9ff7e857ccf5",
       "placeholder": "​",
       "style": "IPY_MODEL_d9de716867024ba59f8b1bf80ca330e3",
       "tabbable": null,
       "tooltip": null,
       "value": " 528k/528k [00:00&lt;00:00, 10.2MB/s]"
      }
     },
     "5646d2e743a34038a6567d87854ce120": {
      "model_module": "@jupyter-widgets/controls",
      "model_module_version": "2.0.0",
      "model_name": "HTMLStyleModel",
      "state": {
       "_model_module": "@jupyter-widgets/controls",
       "_model_module_version": "2.0.0",
       "_model_name": "HTMLStyleModel",
       "_view_count": null,
       "_view_module": "@jupyter-widgets/base",
       "_view_module_version": "2.0.0",
       "_view_name": "StyleView",
       "background": null,
       "description_width": "",
       "font_size": null,
       "text_color": null
      }
     },
     "5a2e02fed2bf45eb9d826437a58167cb": {
      "model_module": "@jupyter-widgets/base",
      "model_module_version": "2.0.0",
      "model_name": "LayoutModel",
      "state": {
       "_model_module": "@jupyter-widgets/base",
       "_model_module_version": "2.0.0",
       "_model_name": "LayoutModel",
       "_view_count": null,
       "_view_module": "@jupyter-widgets/base",
       "_view_module_version": "2.0.0",
       "_view_name": "LayoutView",
       "align_content": null,
       "align_items": null,
       "align_self": null,
       "border_bottom": null,
       "border_left": null,
       "border_right": null,
       "border_top": null,
       "bottom": null,
       "display": null,
       "flex": null,
       "flex_flow": null,
       "grid_area": null,
       "grid_auto_columns": null,
       "grid_auto_flow": null,
       "grid_auto_rows": null,
       "grid_column": null,
       "grid_gap": null,
       "grid_row": null,
       "grid_template_areas": null,
       "grid_template_columns": null,
       "grid_template_rows": null,
       "height": null,
       "justify_content": null,
       "justify_items": null,
       "left": null,
       "margin": null,
       "max_height": null,
       "max_width": null,
       "min_height": null,
       "min_width": null,
       "object_fit": null,
       "object_position": null,
       "order": null,
       "overflow": null,
       "padding": null,
       "right": null,
       "top": null,
       "visibility": null,
       "width": null
      }
     },
     "5e3d56a441de4f029e4784800f05bfc3": {
      "model_module": "@jupyter-widgets/controls",
      "model_module_version": "2.0.0",
      "model_name": "ProgressStyleModel",
      "state": {
       "_model_module": "@jupyter-widgets/controls",
       "_model_module_version": "2.0.0",
       "_model_name": "ProgressStyleModel",
       "_view_count": null,
       "_view_module": "@jupyter-widgets/base",
       "_view_module_version": "2.0.0",
       "_view_name": "StyleView",
       "bar_color": null,
       "description_width": ""
      }
     },
     "5f24edde02b54bf4bb8c860051210b08": {
      "model_module": "@jupyter-widgets/base",
      "model_module_version": "2.0.0",
      "model_name": "LayoutModel",
      "state": {
       "_model_module": "@jupyter-widgets/base",
       "_model_module_version": "2.0.0",
       "_model_name": "LayoutModel",
       "_view_count": null,
       "_view_module": "@jupyter-widgets/base",
       "_view_module_version": "2.0.0",
       "_view_name": "LayoutView",
       "align_content": null,
       "align_items": null,
       "align_self": null,
       "border_bottom": null,
       "border_left": null,
       "border_right": null,
       "border_top": null,
       "bottom": null,
       "display": null,
       "flex": null,
       "flex_flow": null,
       "grid_area": null,
       "grid_auto_columns": null,
       "grid_auto_flow": null,
       "grid_auto_rows": null,
       "grid_column": null,
       "grid_gap": null,
       "grid_row": null,
       "grid_template_areas": null,
       "grid_template_columns": null,
       "grid_template_rows": null,
       "height": null,
       "justify_content": null,
       "justify_items": null,
       "left": null,
       "margin": null,
       "max_height": null,
       "max_width": null,
       "min_height": null,
       "min_width": null,
       "object_fit": null,
       "object_position": null,
       "order": null,
       "overflow": null,
       "padding": null,
       "right": null,
       "top": null,
       "visibility": null,
       "width": null
      }
     },
     "68f5dd476c0d41a4836c1301b14174cb": {
      "model_module": "@jupyter-widgets/base",
      "model_module_version": "2.0.0",
      "model_name": "LayoutModel",
      "state": {
       "_model_module": "@jupyter-widgets/base",
       "_model_module_version": "2.0.0",
       "_model_name": "LayoutModel",
       "_view_count": null,
       "_view_module": "@jupyter-widgets/base",
       "_view_module_version": "2.0.0",
       "_view_name": "LayoutView",
       "align_content": null,
       "align_items": null,
       "align_self": null,
       "border_bottom": null,
       "border_left": null,
       "border_right": null,
       "border_top": null,
       "bottom": null,
       "display": null,
       "flex": null,
       "flex_flow": null,
       "grid_area": null,
       "grid_auto_columns": null,
       "grid_auto_flow": null,
       "grid_auto_rows": null,
       "grid_column": null,
       "grid_gap": null,
       "grid_row": null,
       "grid_template_areas": null,
       "grid_template_columns": null,
       "grid_template_rows": null,
       "height": null,
       "justify_content": null,
       "justify_items": null,
       "left": null,
       "margin": null,
       "max_height": null,
       "max_width": null,
       "min_height": null,
       "min_width": null,
       "object_fit": null,
       "object_position": null,
       "order": null,
       "overflow": null,
       "padding": null,
       "right": null,
       "top": null,
       "visibility": null,
       "width": null
      }
     },
     "6c36bbacb97c4645b4cdb1e5331062ca": {
      "model_module": "@jupyter-widgets/controls",
      "model_module_version": "2.0.0",
      "model_name": "HTMLModel",
      "state": {
       "_dom_classes": [],
       "_model_module": "@jupyter-widgets/controls",
       "_model_module_version": "2.0.0",
       "_model_name": "HTMLModel",
       "_view_count": null,
       "_view_module": "@jupyter-widgets/controls",
       "_view_module_version": "2.0.0",
       "_view_name": "HTMLView",
       "description": "",
       "description_allow_html": false,
       "layout": "IPY_MODEL_71c84b5e5c8941828271bc7642347e91",
       "placeholder": "​",
       "style": "IPY_MODEL_9c194786d3774ad7abc29130db1f62b4",
       "tabbable": null,
       "tooltip": null,
       "value": " 119/119 [00:00&lt;00:00, 10.6kB/s]"
      }
     },
     "6e47d3bf4d854b52b93dc377be2a78c1": {
      "model_module": "@jupyter-widgets/base",
      "model_module_version": "2.0.0",
      "model_name": "LayoutModel",
      "state": {
       "_model_module": "@jupyter-widgets/base",
       "_model_module_version": "2.0.0",
       "_model_name": "LayoutModel",
       "_view_count": null,
       "_view_module": "@jupyter-widgets/base",
       "_view_module_version": "2.0.0",
       "_view_name": "LayoutView",
       "align_content": null,
       "align_items": null,
       "align_self": null,
       "border_bottom": null,
       "border_left": null,
       "border_right": null,
       "border_top": null,
       "bottom": null,
       "display": null,
       "flex": null,
       "flex_flow": null,
       "grid_area": null,
       "grid_auto_columns": null,
       "grid_auto_flow": null,
       "grid_auto_rows": null,
       "grid_column": null,
       "grid_gap": null,
       "grid_row": null,
       "grid_template_areas": null,
       "grid_template_columns": null,
       "grid_template_rows": null,
       "height": null,
       "justify_content": null,
       "justify_items": null,
       "left": null,
       "margin": null,
       "max_height": null,
       "max_width": null,
       "min_height": null,
       "min_width": null,
       "object_fit": null,
       "object_position": null,
       "order": null,
       "overflow": null,
       "padding": null,
       "right": null,
       "top": null,
       "visibility": null,
       "width": null
      }
     },
     "71c84b5e5c8941828271bc7642347e91": {
      "model_module": "@jupyter-widgets/base",
      "model_module_version": "2.0.0",
      "model_name": "LayoutModel",
      "state": {
       "_model_module": "@jupyter-widgets/base",
       "_model_module_version": "2.0.0",
       "_model_name": "LayoutModel",
       "_view_count": null,
       "_view_module": "@jupyter-widgets/base",
       "_view_module_version": "2.0.0",
       "_view_name": "LayoutView",
       "align_content": null,
       "align_items": null,
       "align_self": null,
       "border_bottom": null,
       "border_left": null,
       "border_right": null,
       "border_top": null,
       "bottom": null,
       "display": null,
       "flex": null,
       "flex_flow": null,
       "grid_area": null,
       "grid_auto_columns": null,
       "grid_auto_flow": null,
       "grid_auto_rows": null,
       "grid_column": null,
       "grid_gap": null,
       "grid_row": null,
       "grid_template_areas": null,
       "grid_template_columns": null,
       "grid_template_rows": null,
       "height": null,
       "justify_content": null,
       "justify_items": null,
       "left": null,
       "margin": null,
       "max_height": null,
       "max_width": null,
       "min_height": null,
       "min_width": null,
       "object_fit": null,
       "object_position": null,
       "order": null,
       "overflow": null,
       "padding": null,
       "right": null,
       "top": null,
       "visibility": null,
       "width": null
      }
     },
     "77677fbd534044dab6e98c0378303a6f": {
      "model_module": "@jupyter-widgets/controls",
      "model_module_version": "2.0.0",
      "model_name": "HBoxModel",
      "state": {
       "_dom_classes": [],
       "_model_module": "@jupyter-widgets/controls",
       "_model_module_version": "2.0.0",
       "_model_name": "HBoxModel",
       "_view_count": null,
       "_view_module": "@jupyter-widgets/controls",
       "_view_module_version": "2.0.0",
       "_view_name": "HBoxView",
       "box_style": "",
       "children": [
        "IPY_MODEL_ea1679010c69466696fa23e3fe3379fb",
        "IPY_MODEL_1f2af89cca024283a24044ef6abecfd8",
        "IPY_MODEL_99596e1b42214757920ad69110b316f3"
       ],
       "layout": "IPY_MODEL_5a2e02fed2bf45eb9d826437a58167cb",
       "tabbable": null,
       "tooltip": null
      }
     },
     "791722e345a443e7a2d29d6ed6551ae3": {
      "model_module": "@jupyter-widgets/base",
      "model_module_version": "2.0.0",
      "model_name": "LayoutModel",
      "state": {
       "_model_module": "@jupyter-widgets/base",
       "_model_module_version": "2.0.0",
       "_model_name": "LayoutModel",
       "_view_count": null,
       "_view_module": "@jupyter-widgets/base",
       "_view_module_version": "2.0.0",
       "_view_name": "LayoutView",
       "align_content": null,
       "align_items": null,
       "align_self": null,
       "border_bottom": null,
       "border_left": null,
       "border_right": null,
       "border_top": null,
       "bottom": null,
       "display": null,
       "flex": null,
       "flex_flow": null,
       "grid_area": null,
       "grid_auto_columns": null,
       "grid_auto_flow": null,
       "grid_auto_rows": null,
       "grid_column": null,
       "grid_gap": null,
       "grid_row": null,
       "grid_template_areas": null,
       "grid_template_columns": null,
       "grid_template_rows": null,
       "height": null,
       "justify_content": null,
       "justify_items": null,
       "left": null,
       "margin": null,
       "max_height": null,
       "max_width": null,
       "min_height": null,
       "min_width": null,
       "object_fit": null,
       "object_position": null,
       "order": null,
       "overflow": null,
       "padding": null,
       "right": null,
       "top": null,
       "visibility": null,
       "width": null
      }
     },
     "7d6c19a547dc4d5fade0429445e3a080": {
      "model_module": "@jupyter-widgets/base",
      "model_module_version": "2.0.0",
      "model_name": "LayoutModel",
      "state": {
       "_model_module": "@jupyter-widgets/base",
       "_model_module_version": "2.0.0",
       "_model_name": "LayoutModel",
       "_view_count": null,
       "_view_module": "@jupyter-widgets/base",
       "_view_module_version": "2.0.0",
       "_view_name": "LayoutView",
       "align_content": null,
       "align_items": null,
       "align_self": null,
       "border_bottom": null,
       "border_left": null,
       "border_right": null,
       "border_top": null,
       "bottom": null,
       "display": null,
       "flex": null,
       "flex_flow": null,
       "grid_area": null,
       "grid_auto_columns": null,
       "grid_auto_flow": null,
       "grid_auto_rows": null,
       "grid_column": null,
       "grid_gap": null,
       "grid_row": null,
       "grid_template_areas": null,
       "grid_template_columns": null,
       "grid_template_rows": null,
       "height": null,
       "justify_content": null,
       "justify_items": null,
       "left": null,
       "margin": null,
       "max_height": null,
       "max_width": null,
       "min_height": null,
       "min_width": null,
       "object_fit": null,
       "object_position": null,
       "order": null,
       "overflow": null,
       "padding": null,
       "right": null,
       "top": null,
       "visibility": null,
       "width": null
      }
     },
     "80706c37d6934ae5b757bf8c9947810b": {
      "model_module": "@jupyter-widgets/controls",
      "model_module_version": "2.0.0",
      "model_name": "HTMLStyleModel",
      "state": {
       "_model_module": "@jupyter-widgets/controls",
       "_model_module_version": "2.0.0",
       "_model_name": "HTMLStyleModel",
       "_view_count": null,
       "_view_module": "@jupyter-widgets/base",
       "_view_module_version": "2.0.0",
       "_view_name": "StyleView",
       "background": null,
       "description_width": "",
       "font_size": null,
       "text_color": null
      }
     },
     "8100ee505c464239bfb2c4795b161abe": {
      "model_module": "@jupyter-widgets/controls",
      "model_module_version": "2.0.0",
      "model_name": "FloatProgressModel",
      "state": {
       "_dom_classes": [],
       "_model_module": "@jupyter-widgets/controls",
       "_model_module_version": "2.0.0",
       "_model_name": "FloatProgressModel",
       "_view_count": null,
       "_view_module": "@jupyter-widgets/controls",
       "_view_module_version": "2.0.0",
       "_view_name": "ProgressView",
       "bar_style": "success",
       "description": "",
       "description_allow_html": false,
       "layout": "IPY_MODEL_ef3b50e0e3e643e6a2d28b9edc4eac95",
       "max": 25636.0,
       "min": 0.0,
       "orientation": "horizontal",
       "style": "IPY_MODEL_fa0268cfe49f4aabbbc059519320f5b1",
       "tabbable": null,
       "tooltip": null,
       "value": 25636.0
      }
     },
     "8987b2dd7f074ce9a7e6fbb77735e16d": {
      "model_module": "@jupyter-widgets/base",
      "model_module_version": "2.0.0",
      "model_name": "LayoutModel",
      "state": {
       "_model_module": "@jupyter-widgets/base",
       "_model_module_version": "2.0.0",
       "_model_name": "LayoutModel",
       "_view_count": null,
       "_view_module": "@jupyter-widgets/base",
       "_view_module_version": "2.0.0",
       "_view_name": "LayoutView",
       "align_content": null,
       "align_items": null,
       "align_self": null,
       "border_bottom": null,
       "border_left": null,
       "border_right": null,
       "border_top": null,
       "bottom": null,
       "display": null,
       "flex": null,
       "flex_flow": null,
       "grid_area": null,
       "grid_auto_columns": null,
       "grid_auto_flow": null,
       "grid_auto_rows": null,
       "grid_column": null,
       "grid_gap": null,
       "grid_row": null,
       "grid_template_areas": null,
       "grid_template_columns": null,
       "grid_template_rows": null,
       "height": null,
       "justify_content": null,
       "justify_items": null,
       "left": null,
       "margin": null,
       "max_height": null,
       "max_width": null,
       "min_height": null,
       "min_width": null,
       "object_fit": null,
       "object_position": null,
       "order": null,
       "overflow": null,
       "padding": null,
       "right": null,
       "top": null,
       "visibility": null,
       "width": null
      }
     },
     "8c1a389c17ee479b8a863e53ab843006": {
      "model_module": "@jupyter-widgets/controls",
      "model_module_version": "2.0.0",
      "model_name": "HBoxModel",
      "state": {
       "_dom_classes": [],
       "_model_module": "@jupyter-widgets/controls",
       "_model_module_version": "2.0.0",
       "_model_name": "HBoxModel",
       "_view_count": null,
       "_view_module": "@jupyter-widgets/controls",
       "_view_module_version": "2.0.0",
       "_view_name": "HBoxView",
       "box_style": "",
       "children": [
        "IPY_MODEL_28b04bbcdcbb481fb45b70f190c064fd",
        "IPY_MODEL_bab866746179494ab1b23245b19f709e",
        "IPY_MODEL_2a2f39589ddc4d2bb40c41124eb99ba3"
       ],
       "layout": "IPY_MODEL_8987b2dd7f074ce9a7e6fbb77735e16d",
       "tabbable": null,
       "tooltip": null
      }
     },
     "8ed76d35f8a849dbb848da2eab05cfcf": {
      "model_module": "@jupyter-widgets/controls",
      "model_module_version": "2.0.0",
      "model_name": "HBoxModel",
      "state": {
       "_dom_classes": [],
       "_model_module": "@jupyter-widgets/controls",
       "_model_module_version": "2.0.0",
       "_model_name": "HBoxModel",
       "_view_count": null,
       "_view_module": "@jupyter-widgets/controls",
       "_view_module_version": "2.0.0",
       "_view_name": "HBoxView",
       "box_style": "",
       "children": [
        "IPY_MODEL_032251730de648a190a10ec482bf0eab",
        "IPY_MODEL_ddb208a00a68468d9673eb219e7ec302",
        "IPY_MODEL_513873f2b9b4499aa816053dc8253e59"
       ],
       "layout": "IPY_MODEL_2ce6a4aa243d4ad8850702e9a3adf617",
       "tabbable": null,
       "tooltip": null
      }
     },
     "9857e84453c4483e823fe9ba4a2568c0": {
      "model_module": "@jupyter-widgets/controls",
      "model_module_version": "2.0.0",
      "model_name": "HTMLModel",
      "state": {
       "_dom_classes": [],
       "_model_module": "@jupyter-widgets/controls",
       "_model_module_version": "2.0.0",
       "_model_name": "HTMLModel",
       "_view_count": null,
       "_view_module": "@jupyter-widgets/controls",
       "_view_module_version": "2.0.0",
       "_view_name": "HTMLView",
       "description": "",
       "description_allow_html": false,
       "layout": "IPY_MODEL_7d6c19a547dc4d5fade0429445e3a080",
       "placeholder": "​",
       "style": "IPY_MODEL_01657702998e407f88412640b89cd8f1",
       "tabbable": null,
       "tooltip": null,
       "value": " 586/586 [00:00&lt;00:00, 60.0kB/s]"
      }
     },
     "9862a6f260c74fac9bf02d1a323f28d4": {
      "model_module": "@jupyter-widgets/controls",
      "model_module_version": "2.0.0",
      "model_name": "HTMLModel",
      "state": {
       "_dom_classes": [],
       "_model_module": "@jupyter-widgets/controls",
       "_model_module_version": "2.0.0",
       "_model_name": "HTMLModel",
       "_view_count": null,
       "_view_module": "@jupyter-widgets/controls",
       "_view_module_version": "2.0.0",
       "_view_name": "HTMLView",
       "description": "",
       "description_allow_html": false,
       "layout": "IPY_MODEL_ae5ae1695ad04309b77e7f73c7646d40",
       "placeholder": "​",
       "style": "IPY_MODEL_45887d1dbd104c08837320bfd71a0965",
       "tabbable": null,
       "tooltip": null,
       "value": "Map: 100%"
      }
     },
     "99596e1b42214757920ad69110b316f3": {
      "model_module": "@jupyter-widgets/controls",
      "model_module_version": "2.0.0",
      "model_name": "HTMLModel",
      "state": {
       "_dom_classes": [],
       "_model_module": "@jupyter-widgets/controls",
       "_model_module_version": "2.0.0",
       "_model_name": "HTMLModel",
       "_view_count": null,
       "_view_module": "@jupyter-widgets/controls",
       "_view_module_version": "2.0.0",
       "_view_name": "HTMLView",
       "description": "",
       "description_allow_html": false,
       "layout": "IPY_MODEL_d120e08d01d54daca5ad360e6bd17fa6",
       "placeholder": "​",
       "style": "IPY_MODEL_ba919286ab134dc6a3ffd5e70db889be",
       "tabbable": null,
       "tooltip": null,
       "value": " 112/112 [00:00&lt;00:00, 11.2kB/s]"
      }
     },
     "9b9df8a8b792428face45c569e938a2c": {
      "model_module": "@jupyter-widgets/base",
      "model_module_version": "2.0.0",
      "model_name": "LayoutModel",
      "state": {
       "_model_module": "@jupyter-widgets/base",
       "_model_module_version": "2.0.0",
       "_model_name": "LayoutModel",
       "_view_count": null,
       "_view_module": "@jupyter-widgets/base",
       "_view_module_version": "2.0.0",
       "_view_name": "LayoutView",
       "align_content": null,
       "align_items": null,
       "align_self": null,
       "border_bottom": null,
       "border_left": null,
       "border_right": null,
       "border_top": null,
       "bottom": null,
       "display": null,
       "flex": null,
       "flex_flow": null,
       "grid_area": null,
       "grid_auto_columns": null,
       "grid_auto_flow": null,
       "grid_auto_rows": null,
       "grid_column": null,
       "grid_gap": null,
       "grid_row": null,
       "grid_template_areas": null,
       "grid_template_columns": null,
       "grid_template_rows": null,
       "height": null,
       "justify_content": null,
       "justify_items": null,
       "left": null,
       "margin": null,
       "max_height": null,
       "max_width": null,
       "min_height": null,
       "min_width": null,
       "object_fit": null,
       "object_position": null,
       "order": null,
       "overflow": null,
       "padding": null,
       "right": null,
       "top": null,
       "visibility": null,
       "width": null
      }
     },
     "9ba07e3bfe054699ac2105b2968213b1": {
      "model_module": "@jupyter-widgets/controls",
      "model_module_version": "2.0.0",
      "model_name": "HTMLModel",
      "state": {
       "_dom_classes": [],
       "_model_module": "@jupyter-widgets/controls",
       "_model_module_version": "2.0.0",
       "_model_name": "HTMLModel",
       "_view_count": null,
       "_view_module": "@jupyter-widgets/controls",
       "_view_module_version": "2.0.0",
       "_view_name": "HTMLView",
       "description": "",
       "description_allow_html": false,
       "layout": "IPY_MODEL_1d64be51893c4153a2110f9699913538",
       "placeholder": "​",
       "style": "IPY_MODEL_b1651c2fc0654f18bf3a75d8b96d70d0",
       "tabbable": null,
       "tooltip": null,
       "value": "config.json: 100%"
      }
     },
     "9c194786d3774ad7abc29130db1f62b4": {
      "model_module": "@jupyter-widgets/controls",
      "model_module_version": "2.0.0",
      "model_name": "HTMLStyleModel",
      "state": {
       "_model_module": "@jupyter-widgets/controls",
       "_model_module_version": "2.0.0",
       "_model_name": "HTMLStyleModel",
       "_view_count": null,
       "_view_module": "@jupyter-widgets/base",
       "_view_module_version": "2.0.0",
       "_view_name": "StyleView",
       "background": null,
       "description_width": "",
       "font_size": null,
       "text_color": null
      }
     },
     "ae5ae1695ad04309b77e7f73c7646d40": {
      "model_module": "@jupyter-widgets/base",
      "model_module_version": "2.0.0",
      "model_name": "LayoutModel",
      "state": {
       "_model_module": "@jupyter-widgets/base",
       "_model_module_version": "2.0.0",
       "_model_name": "LayoutModel",
       "_view_count": null,
       "_view_module": "@jupyter-widgets/base",
       "_view_module_version": "2.0.0",
       "_view_name": "LayoutView",
       "align_content": null,
       "align_items": null,
       "align_self": null,
       "border_bottom": null,
       "border_left": null,
       "border_right": null,
       "border_top": null,
       "bottom": null,
       "display": null,
       "flex": null,
       "flex_flow": null,
       "grid_area": null,
       "grid_auto_columns": null,
       "grid_auto_flow": null,
       "grid_auto_rows": null,
       "grid_column": null,
       "grid_gap": null,
       "grid_row": null,
       "grid_template_areas": null,
       "grid_template_columns": null,
       "grid_template_rows": null,
       "height": null,
       "justify_content": null,
       "justify_items": null,
       "left": null,
       "margin": null,
       "max_height": null,
       "max_width": null,
       "min_height": null,
       "min_width": null,
       "object_fit": null,
       "object_position": null,
       "order": null,
       "overflow": null,
       "padding": null,
       "right": null,
       "top": null,
       "visibility": null,
       "width": null
      }
     },
     "aeb2e39f452b491983e47ea18e586d12": {
      "model_module": "@jupyter-widgets/controls",
      "model_module_version": "2.0.0",
      "model_name": "ProgressStyleModel",
      "state": {
       "_model_module": "@jupyter-widgets/controls",
       "_model_module_version": "2.0.0",
       "_model_name": "ProgressStyleModel",
       "_view_count": null,
       "_view_module": "@jupyter-widgets/base",
       "_view_module_version": "2.0.0",
       "_view_name": "StyleView",
       "bar_color": null,
       "description_width": ""
      }
     },
     "b1651c2fc0654f18bf3a75d8b96d70d0": {
      "model_module": "@jupyter-widgets/controls",
      "model_module_version": "2.0.0",
      "model_name": "HTMLStyleModel",
      "state": {
       "_model_module": "@jupyter-widgets/controls",
       "_model_module_version": "2.0.0",
       "_model_name": "HTMLStyleModel",
       "_view_count": null,
       "_view_module": "@jupyter-widgets/base",
       "_view_module_version": "2.0.0",
       "_view_name": "StyleView",
       "background": null,
       "description_width": "",
       "font_size": null,
       "text_color": null
      }
     },
     "ba80812e92fe4e369ff0332b1727ac13": {
      "model_module": "@jupyter-widgets/controls",
      "model_module_version": "2.0.0",
      "model_name": "FloatProgressModel",
      "state": {
       "_dom_classes": [],
       "_model_module": "@jupyter-widgets/controls",
       "_model_module_version": "2.0.0",
       "_model_name": "FloatProgressModel",
       "_view_count": null,
       "_view_module": "@jupyter-widgets/controls",
       "_view_module_version": "2.0.0",
       "_view_name": "ProgressView",
       "bar_style": "success",
       "description": "",
       "description_allow_html": false,
       "layout": "IPY_MODEL_50e0fc42a2e24690afb39c9b0307785e",
       "max": 119.0,
       "min": 0.0,
       "orientation": "horizontal",
       "style": "IPY_MODEL_aeb2e39f452b491983e47ea18e586d12",
       "tabbable": null,
       "tooltip": null,
       "value": 119.0
      }
     },
     "ba919286ab134dc6a3ffd5e70db889be": {
      "model_module": "@jupyter-widgets/controls",
      "model_module_version": "2.0.0",
      "model_name": "HTMLStyleModel",
      "state": {
       "_model_module": "@jupyter-widgets/controls",
       "_model_module_version": "2.0.0",
       "_model_name": "HTMLStyleModel",
       "_view_count": null,
       "_view_module": "@jupyter-widgets/base",
       "_view_module_version": "2.0.0",
       "_view_name": "StyleView",
       "background": null,
       "description_width": "",
       "font_size": null,
       "text_color": null
      }
     },
     "bab866746179494ab1b23245b19f709e": {
      "model_module": "@jupyter-widgets/controls",
      "model_module_version": "2.0.0",
      "model_name": "FloatProgressModel",
      "state": {
       "_dom_classes": [],
       "_model_module": "@jupyter-widgets/controls",
       "_model_module_version": "2.0.0",
       "_model_name": "FloatProgressModel",
       "_view_count": null,
       "_view_module": "@jupyter-widgets/controls",
       "_view_module_version": "2.0.0",
       "_view_name": "ProgressView",
       "bar_style": "success",
       "description": "",
       "description_allow_html": false,
       "layout": "IPY_MODEL_c0d8a50ee6744d919dcd1c0684b49234",
       "max": 442560329.0,
       "min": 0.0,
       "orientation": "horizontal",
       "style": "IPY_MODEL_ce3edc49df724191b6d1608c2c5fb82a",
       "tabbable": null,
       "tooltip": null,
       "value": 442560329.0
      }
     },
     "becb8925f06545dc9f6ffd117597a365": {
      "model_module": "@jupyter-widgets/controls",
      "model_module_version": "2.0.0",
      "model_name": "HBoxModel",
      "state": {
       "_dom_classes": [],
       "_model_module": "@jupyter-widgets/controls",
       "_model_module_version": "2.0.0",
       "_model_name": "HBoxModel",
       "_view_count": null,
       "_view_module": "@jupyter-widgets/controls",
       "_view_module_version": "2.0.0",
       "_view_name": "HBoxView",
       "box_style": "",
       "children": [
        "IPY_MODEL_9862a6f260c74fac9bf02d1a323f28d4",
        "IPY_MODEL_8100ee505c464239bfb2c4795b161abe",
        "IPY_MODEL_372de131674f42bebe3da295488fec82"
       ],
       "layout": "IPY_MODEL_68f5dd476c0d41a4836c1301b14174cb",
       "tabbable": null,
       "tooltip": null
      }
     },
     "bf462f7b12884ff69b134092f260fa5f": {
      "model_module": "@jupyter-widgets/base",
      "model_module_version": "2.0.0",
      "model_name": "LayoutModel",
      "state": {
       "_model_module": "@jupyter-widgets/base",
       "_model_module_version": "2.0.0",
       "_model_name": "LayoutModel",
       "_view_count": null,
       "_view_module": "@jupyter-widgets/base",
       "_view_module_version": "2.0.0",
       "_view_name": "LayoutView",
       "align_content": null,
       "align_items": null,
       "align_self": null,
       "border_bottom": null,
       "border_left": null,
       "border_right": null,
       "border_top": null,
       "bottom": null,
       "display": null,
       "flex": null,
       "flex_flow": null,
       "grid_area": null,
       "grid_auto_columns": null,
       "grid_auto_flow": null,
       "grid_auto_rows": null,
       "grid_column": null,
       "grid_gap": null,
       "grid_row": null,
       "grid_template_areas": null,
       "grid_template_columns": null,
       "grid_template_rows": null,
       "height": null,
       "justify_content": null,
       "justify_items": null,
       "left": null,
       "margin": null,
       "max_height": null,
       "max_width": null,
       "min_height": null,
       "min_width": null,
       "object_fit": null,
       "object_position": null,
       "order": null,
       "overflow": null,
       "padding": null,
       "right": null,
       "top": null,
       "visibility": null,
       "width": null
      }
     },
     "c0d8a50ee6744d919dcd1c0684b49234": {
      "model_module": "@jupyter-widgets/base",
      "model_module_version": "2.0.0",
      "model_name": "LayoutModel",
      "state": {
       "_model_module": "@jupyter-widgets/base",
       "_model_module_version": "2.0.0",
       "_model_name": "LayoutModel",
       "_view_count": null,
       "_view_module": "@jupyter-widgets/base",
       "_view_module_version": "2.0.0",
       "_view_name": "LayoutView",
       "align_content": null,
       "align_items": null,
       "align_self": null,
       "border_bottom": null,
       "border_left": null,
       "border_right": null,
       "border_top": null,
       "bottom": null,
       "display": null,
       "flex": null,
       "flex_flow": null,
       "grid_area": null,
       "grid_auto_columns": null,
       "grid_auto_flow": null,
       "grid_auto_rows": null,
       "grid_column": null,
       "grid_gap": null,
       "grid_row": null,
       "grid_template_areas": null,
       "grid_template_columns": null,
       "grid_template_rows": null,
       "height": null,
       "justify_content": null,
       "justify_items": null,
       "left": null,
       "margin": null,
       "max_height": null,
       "max_width": null,
       "min_height": null,
       "min_width": null,
       "object_fit": null,
       "object_position": null,
       "order": null,
       "overflow": null,
       "padding": null,
       "right": null,
       "top": null,
       "visibility": null,
       "width": null
      }
     },
     "ce3edc49df724191b6d1608c2c5fb82a": {
      "model_module": "@jupyter-widgets/controls",
      "model_module_version": "2.0.0",
      "model_name": "ProgressStyleModel",
      "state": {
       "_model_module": "@jupyter-widgets/controls",
       "_model_module_version": "2.0.0",
       "_model_name": "ProgressStyleModel",
       "_view_count": null,
       "_view_module": "@jupyter-widgets/base",
       "_view_module_version": "2.0.0",
       "_view_name": "StyleView",
       "bar_color": null,
       "description_width": ""
      }
     },
     "d120e08d01d54daca5ad360e6bd17fa6": {
      "model_module": "@jupyter-widgets/base",
      "model_module_version": "2.0.0",
      "model_name": "LayoutModel",
      "state": {
       "_model_module": "@jupyter-widgets/base",
       "_model_module_version": "2.0.0",
       "_model_name": "LayoutModel",
       "_view_count": null,
       "_view_module": "@jupyter-widgets/base",
       "_view_module_version": "2.0.0",
       "_view_name": "LayoutView",
       "align_content": null,
       "align_items": null,
       "align_self": null,
       "border_bottom": null,
       "border_left": null,
       "border_right": null,
       "border_top": null,
       "bottom": null,
       "display": null,
       "flex": null,
       "flex_flow": null,
       "grid_area": null,
       "grid_auto_columns": null,
       "grid_auto_flow": null,
       "grid_auto_rows": null,
       "grid_column": null,
       "grid_gap": null,
       "grid_row": null,
       "grid_template_areas": null,
       "grid_template_columns": null,
       "grid_template_rows": null,
       "height": null,
       "justify_content": null,
       "justify_items": null,
       "left": null,
       "margin": null,
       "max_height": null,
       "max_width": null,
       "min_height": null,
       "min_width": null,
       "object_fit": null,
       "object_position": null,
       "order": null,
       "overflow": null,
       "padding": null,
       "right": null,
       "top": null,
       "visibility": null,
       "width": null
      }
     },
     "d9de716867024ba59f8b1bf80ca330e3": {
      "model_module": "@jupyter-widgets/controls",
      "model_module_version": "2.0.0",
      "model_name": "HTMLStyleModel",
      "state": {
       "_model_module": "@jupyter-widgets/controls",
       "_model_module_version": "2.0.0",
       "_model_name": "HTMLStyleModel",
       "_view_count": null,
       "_view_module": "@jupyter-widgets/base",
       "_view_module_version": "2.0.0",
       "_view_name": "StyleView",
       "background": null,
       "description_width": "",
       "font_size": null,
       "text_color": null
      }
     },
     "ddb208a00a68468d9673eb219e7ec302": {
      "model_module": "@jupyter-widgets/controls",
      "model_module_version": "2.0.0",
      "model_name": "FloatProgressModel",
      "state": {
       "_dom_classes": [],
       "_model_module": "@jupyter-widgets/controls",
       "_model_module_version": "2.0.0",
       "_model_name": "FloatProgressModel",
       "_view_count": null,
       "_view_module": "@jupyter-widgets/controls",
       "_view_module_version": "2.0.0",
       "_view_name": "ProgressView",
       "bar_style": "success",
       "description": "",
       "description_allow_html": false,
       "layout": "IPY_MODEL_bf462f7b12884ff69b134092f260fa5f",
       "max": 528316.0,
       "min": 0.0,
       "orientation": "horizontal",
       "style": "IPY_MODEL_100df527640a490193db73f3dd5948a0",
       "tabbable": null,
       "tooltip": null,
       "value": 528316.0
      }
     },
     "e5a79bcda3f04f54a68b6d8f9bdc7587": {
      "model_module": "@jupyter-widgets/controls",
      "model_module_version": "2.0.0",
      "model_name": "HTMLStyleModel",
      "state": {
       "_model_module": "@jupyter-widgets/controls",
       "_model_module_version": "2.0.0",
       "_model_name": "HTMLStyleModel",
       "_view_count": null,
       "_view_module": "@jupyter-widgets/base",
       "_view_module_version": "2.0.0",
       "_view_name": "StyleView",
       "background": null,
       "description_width": "",
       "font_size": null,
       "text_color": null
      }
     },
     "e6c20dd995b24b0894d7cc72f3400e1f": {
      "model_module": "@jupyter-widgets/controls",
      "model_module_version": "2.0.0",
      "model_name": "FloatProgressModel",
      "state": {
       "_dom_classes": [],
       "_model_module": "@jupyter-widgets/controls",
       "_model_module_version": "2.0.0",
       "_model_name": "FloatProgressModel",
       "_view_count": null,
       "_view_module": "@jupyter-widgets/controls",
       "_view_module_version": "2.0.0",
       "_view_name": "ProgressView",
       "bar_style": "success",
       "description": "",
       "description_allow_html": false,
       "layout": "IPY_MODEL_5f24edde02b54bf4bb8c860051210b08",
       "max": 586.0,
       "min": 0.0,
       "orientation": "horizontal",
       "style": "IPY_MODEL_5e3d56a441de4f029e4784800f05bfc3",
       "tabbable": null,
       "tooltip": null,
       "value": 586.0
      }
     },
     "e8bdbbb5b87a46bf8157a134e5c37c87": {
      "model_module": "@jupyter-widgets/controls",
      "model_module_version": "2.0.0",
      "model_name": "ProgressStyleModel",
      "state": {
       "_model_module": "@jupyter-widgets/controls",
       "_model_module_version": "2.0.0",
       "_model_name": "ProgressStyleModel",
       "_view_count": null,
       "_view_module": "@jupyter-widgets/base",
       "_view_module_version": "2.0.0",
       "_view_name": "StyleView",
       "bar_color": null,
       "description_width": ""
      }
     },
     "ea1679010c69466696fa23e3fe3379fb": {
      "model_module": "@jupyter-widgets/controls",
      "model_module_version": "2.0.0",
      "model_name": "HTMLModel",
      "state": {
       "_dom_classes": [],
       "_model_module": "@jupyter-widgets/controls",
       "_model_module_version": "2.0.0",
       "_model_name": "HTMLModel",
       "_view_count": null,
       "_view_module": "@jupyter-widgets/controls",
       "_view_module_version": "2.0.0",
       "_view_name": "HTMLView",
       "description": "",
       "description_allow_html": false,
       "layout": "IPY_MODEL_0caa5d12f4874cad94caf0c33f0ccfb9",
       "placeholder": "​",
       "style": "IPY_MODEL_1c17e699c6314bf49cc1a915589cb007",
       "tabbable": null,
       "tooltip": null,
       "value": "special_tokens_map.json: 100%"
      }
     },
     "ef3b50e0e3e643e6a2d28b9edc4eac95": {
      "model_module": "@jupyter-widgets/base",
      "model_module_version": "2.0.0",
      "model_name": "LayoutModel",
      "state": {
       "_model_module": "@jupyter-widgets/base",
       "_model_module_version": "2.0.0",
       "_model_name": "LayoutModel",
       "_view_count": null,
       "_view_module": "@jupyter-widgets/base",
       "_view_module_version": "2.0.0",
       "_view_name": "LayoutView",
       "align_content": null,
       "align_items": null,
       "align_self": null,
       "border_bottom": null,
       "border_left": null,
       "border_right": null,
       "border_top": null,
       "bottom": null,
       "display": null,
       "flex": null,
       "flex_flow": null,
       "grid_area": null,
       "grid_auto_columns": null,
       "grid_auto_flow": null,
       "grid_auto_rows": null,
       "grid_column": null,
       "grid_gap": null,
       "grid_row": null,
       "grid_template_areas": null,
       "grid_template_columns": null,
       "grid_template_rows": null,
       "height": null,
       "justify_content": null,
       "justify_items": null,
       "left": null,
       "margin": null,
       "max_height": null,
       "max_width": null,
       "min_height": null,
       "min_width": null,
       "object_fit": null,
       "object_position": null,
       "order": null,
       "overflow": null,
       "padding": null,
       "right": null,
       "top": null,
       "visibility": null,
       "width": null
      }
     },
     "f32c0ee023d9468ca5c0ac20807d34a4": {
      "model_module": "@jupyter-widgets/base",
      "model_module_version": "2.0.0",
      "model_name": "LayoutModel",
      "state": {
       "_model_module": "@jupyter-widgets/base",
       "_model_module_version": "2.0.0",
       "_model_name": "LayoutModel",
       "_view_count": null,
       "_view_module": "@jupyter-widgets/base",
       "_view_module_version": "2.0.0",
       "_view_name": "LayoutView",
       "align_content": null,
       "align_items": null,
       "align_self": null,
       "border_bottom": null,
       "border_left": null,
       "border_right": null,
       "border_top": null,
       "bottom": null,
       "display": null,
       "flex": null,
       "flex_flow": null,
       "grid_area": null,
       "grid_auto_columns": null,
       "grid_auto_flow": null,
       "grid_auto_rows": null,
       "grid_column": null,
       "grid_gap": null,
       "grid_row": null,
       "grid_template_areas": null,
       "grid_template_columns": null,
       "grid_template_rows": null,
       "height": null,
       "justify_content": null,
       "justify_items": null,
       "left": null,
       "margin": null,
       "max_height": null,
       "max_width": null,
       "min_height": null,
       "min_width": null,
       "object_fit": null,
       "object_position": null,
       "order": null,
       "overflow": null,
       "padding": null,
       "right": null,
       "top": null,
       "visibility": null,
       "width": null
      }
     },
     "f817a43447234750810e1a426b6397c4": {
      "model_module": "@jupyter-widgets/controls",
      "model_module_version": "2.0.0",
      "model_name": "HTMLModel",
      "state": {
       "_dom_classes": [],
       "_model_module": "@jupyter-widgets/controls",
       "_model_module_version": "2.0.0",
       "_model_name": "HTMLModel",
       "_view_count": null,
       "_view_module": "@jupyter-widgets/controls",
       "_view_module_version": "2.0.0",
       "_view_name": "HTMLView",
       "description": "",
       "description_allow_html": false,
       "layout": "IPY_MODEL_9b9df8a8b792428face45c569e938a2c",
       "placeholder": "​",
       "style": "IPY_MODEL_e5a79bcda3f04f54a68b6d8f9bdc7587",
       "tabbable": null,
       "tooltip": null,
       "value": "tokenizer_config.json: 100%"
      }
     },
     "fa0268cfe49f4aabbbc059519320f5b1": {
      "model_module": "@jupyter-widgets/controls",
      "model_module_version": "2.0.0",
      "model_name": "ProgressStyleModel",
      "state": {
       "_model_module": "@jupyter-widgets/controls",
       "_model_module_version": "2.0.0",
       "_model_name": "ProgressStyleModel",
       "_view_count": null,
       "_view_module": "@jupyter-widgets/base",
       "_view_module_version": "2.0.0",
       "_view_name": "StyleView",
       "bar_color": null,
       "description_width": ""
      }
     }
    },
    "version_major": 2,
    "version_minor": 0
   }
  }
 },
 "nbformat": 4,
 "nbformat_minor": 5
}
