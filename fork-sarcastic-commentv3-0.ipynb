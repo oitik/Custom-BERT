{
 "cells": [
  {
   "cell_type": "code",
   "execution_count": 1,
   "id": "c66fa470",
   "metadata": {
    "_cell_guid": "b1076dfc-b9ad-4769-8c92-a6c4dae69d19",
    "_uuid": "8f2839f25d086af736a60e9eeb907d3b93b6e0e5",
    "execution": {
     "iopub.execute_input": "2025-01-01T13:38:37.695259Z",
     "iopub.status.busy": "2025-01-01T13:38:37.695041Z",
     "iopub.status.idle": "2025-01-01T13:38:38.917820Z",
     "shell.execute_reply": "2025-01-01T13:38:38.916721Z"
    },
    "papermill": {
     "duration": 1.235127,
     "end_time": "2025-01-01T13:38:38.919371",
     "exception": false,
     "start_time": "2025-01-01T13:38:37.684244",
     "status": "completed"
    },
    "tags": []
   },
   "outputs": [
    {
     "name": "stdout",
     "output_type": "stream",
     "text": [
      "/kaggle/input/sarcastic-comments-on-reddit/train-balanced-sarcasm.csv\n",
      "/kaggle/input/sarcasm/reddit_test.jsonl\n",
      "/kaggle/input/sarcasm/sarcasm_detection_shared_task_twitter_training.jsonl\n",
      "/kaggle/input/sarcasm/twitter_test.jsonl\n",
      "/kaggle/input/sarcasm/sarcasm_detection_shared_task_reddit_training.jsonl\n",
      "/kaggle/input/sarcasm/Ben-Sarc_ Bengali Sarcasm Detection Corpus.xlsx\n",
      "/kaggle/input/sarcasm/sarcasm_v2/RQ-sarc-notsarc.csv\n",
      "/kaggle/input/sarcasm/sarcasm_v2/GEN-sarc-notsarc.csv\n",
      "/kaggle/input/sarcasm/sarcasm_v2/HYP-sarc-notsarc.csv\n",
      "/kaggle/input/news-category-dataset/News_Category_Dataset_v3.json\n",
      "/kaggle/input/personal-data/high_contrast.jpeg\n",
      "/kaggle/input/personal-data/1694354392633.jpg\n",
      "/kaggle/input/personal-data/Translation of banglaNewsData.xlsx\n",
      "/kaggle/input/personal-data/hindu.csv\n",
      "/kaggle/input/personal-data/political.txt\n",
      "/kaggle/input/personal-data/BanglaBlendCleanedData.xlsx\n",
      "/kaggle/input/personal-data/result31.csv\n",
      "/kaggle/input/personal-data/low_contrast_cat.jpeg\n",
      "/kaggle/input/personal-data/IMG_3661.jpg\n",
      "/kaggle/input/personal-data/Translator Dataset/Word.xlsx\n",
      "/kaggle/input/personal-data/Translator Dataset/Clause.xlsx\n",
      "/kaggle/input/personal-data/Translator Dataset/Sentence.xlsx\n"
     ]
    }
   ],
   "source": [
    "# This Python 3 environment comes with many helpful analytics libraries installed\n",
    "# It is defined by the kaggle/python Docker image: https://github.com/kaggle/docker-python\n",
    "# For example, here's several helpful packages to load\n",
    "\n",
    "import numpy as np # linear algebra\n",
    "import pandas as pd # data processing, CSV file I/O (e.g. pd.read_csv)\n",
    "\n",
    "# Input data files are available in the read-only \"../input/\" directory\n",
    "# For example, running this (by clicking run or pressing Shift+Enter) will list all files under the input directory\n",
    "\n",
    "import os\n",
    "for dirname, _, filenames in os.walk('/kaggle/input'):\n",
    "    for filename in filenames:\n",
    "        print(os.path.join(dirname, filename))\n",
    "\n",
    "# You can write up to 20GB to the current directory (/kaggle/working/) that gets preserved as output when you create a version using \"Save & Run All\" \n",
    "# You can also write temporary files to /kaggle/temp/, but they won't be saved outside of the current session"
   ]
  },
  {
   "cell_type": "code",
   "execution_count": 2,
   "id": "7a327c63",
   "metadata": {
    "execution": {
     "iopub.execute_input": "2025-01-01T13:38:38.939217Z",
     "iopub.status.busy": "2025-01-01T13:38:38.938885Z",
     "iopub.status.idle": "2025-01-01T13:38:41.358751Z",
     "shell.execute_reply": "2025-01-01T13:38:41.357867Z"
    },
    "papermill": {
     "duration": 2.431109,
     "end_time": "2025-01-01T13:38:41.360297",
     "exception": false,
     "start_time": "2025-01-01T13:38:38.929188",
     "status": "completed"
    },
    "tags": []
   },
   "outputs": [
    {
     "data": {
      "text/html": [
       "<div>\n",
       "<style scoped>\n",
       "    .dataframe tbody tr th:only-of-type {\n",
       "        vertical-align: middle;\n",
       "    }\n",
       "\n",
       "    .dataframe tbody tr th {\n",
       "        vertical-align: top;\n",
       "    }\n",
       "\n",
       "    .dataframe thead th {\n",
       "        text-align: right;\n",
       "    }\n",
       "</style>\n",
       "<table border=\"1\" class=\"dataframe\">\n",
       "  <thead>\n",
       "    <tr style=\"text-align: right;\">\n",
       "      <th></th>\n",
       "      <th>id</th>\n",
       "      <th>Text</th>\n",
       "      <th>Polarity</th>\n",
       "    </tr>\n",
       "  </thead>\n",
       "  <tbody>\n",
       "    <tr>\n",
       "      <th>0</th>\n",
       "      <td>0</td>\n",
       "      <td>শুধু মাত্র এই পোস্টে কমেন্ট করার জন্য বাড়ির এ...</td>\n",
       "      <td>1</td>\n",
       "    </tr>\n",
       "    <tr>\n",
       "      <th>1</th>\n",
       "      <td>2</td>\n",
       "      <td>সাথে আছে বুক ভরা চুল ।</td>\n",
       "      <td>1</td>\n",
       "    </tr>\n",
       "    <tr>\n",
       "      <th>2</th>\n",
       "      <td>4</td>\n",
       "      <td>ভাই মিথ্যা কথা বইলেন না আপনি ভিপিএন ইউজ করে পো...</td>\n",
       "      <td>1</td>\n",
       "    </tr>\n",
       "  </tbody>\n",
       "</table>\n",
       "</div>"
      ],
      "text/plain": [
       "   id                                               Text  Polarity\n",
       "0   0  শুধু মাত্র এই পোস্টে কমেন্ট করার জন্য বাড়ির এ...         1\n",
       "1   2                             সাথে আছে বুক ভরা চুল ।         1\n",
       "2   4  ভাই মিথ্যা কথা বইলেন না আপনি ভিপিএন ইউজ করে পো...         1"
      ]
     },
     "execution_count": 2,
     "metadata": {},
     "output_type": "execute_result"
    }
   ],
   "source": [
    "df = pd.read_excel('/kaggle/input/sarcasm/Ben-Sarc_ Bengali Sarcasm Detection Corpus.xlsx')\n",
    "\n",
    "df.head(3)"
   ]
  },
  {
   "cell_type": "code",
   "execution_count": 3,
   "id": "ff5e7d51",
   "metadata": {
    "execution": {
     "iopub.execute_input": "2025-01-01T13:38:41.380600Z",
     "iopub.status.busy": "2025-01-01T13:38:41.380236Z",
     "iopub.status.idle": "2025-01-01T13:38:41.392543Z",
     "shell.execute_reply": "2025-01-01T13:38:41.391835Z"
    },
    "papermill": {
     "duration": 0.023336,
     "end_time": "2025-01-01T13:38:41.393896",
     "exception": false,
     "start_time": "2025-01-01T13:38:41.370560",
     "status": "completed"
    },
    "tags": []
   },
   "outputs": [
    {
     "data": {
      "text/html": [
       "<div>\n",
       "<style scoped>\n",
       "    .dataframe tbody tr th:only-of-type {\n",
       "        vertical-align: middle;\n",
       "    }\n",
       "\n",
       "    .dataframe tbody tr th {\n",
       "        vertical-align: top;\n",
       "    }\n",
       "\n",
       "    .dataframe thead th {\n",
       "        text-align: right;\n",
       "    }\n",
       "</style>\n",
       "<table border=\"1\" class=\"dataframe\">\n",
       "  <thead>\n",
       "    <tr style=\"text-align: right;\">\n",
       "      <th></th>\n",
       "      <th>id</th>\n",
       "      <th>text</th>\n",
       "      <th>label</th>\n",
       "    </tr>\n",
       "  </thead>\n",
       "  <tbody>\n",
       "    <tr>\n",
       "      <th>0</th>\n",
       "      <td>0</td>\n",
       "      <td>শুধু মাত্র এই পোস্টে কমেন্ট করার জন্য বাড়ির এ...</td>\n",
       "      <td>1</td>\n",
       "    </tr>\n",
       "    <tr>\n",
       "      <th>1</th>\n",
       "      <td>2</td>\n",
       "      <td>সাথে আছে বুক ভরা চুল ।</td>\n",
       "      <td>1</td>\n",
       "    </tr>\n",
       "    <tr>\n",
       "      <th>2</th>\n",
       "      <td>4</td>\n",
       "      <td>ভাই মিথ্যা কথা বইলেন না আপনি ভিপিএন ইউজ করে পো...</td>\n",
       "      <td>1</td>\n",
       "    </tr>\n",
       "  </tbody>\n",
       "</table>\n",
       "</div>"
      ],
      "text/plain": [
       "   id                                               text  label\n",
       "0   0  শুধু মাত্র এই পোস্টে কমেন্ট করার জন্য বাড়ির এ...      1\n",
       "1   2                             সাথে আছে বুক ভরা চুল ।      1\n",
       "2   4  ভাই মিথ্যা কথা বইলেন না আপনি ভিপিএন ইউজ করে পো...      1"
      ]
     },
     "execution_count": 3,
     "metadata": {},
     "output_type": "execute_result"
    }
   ],
   "source": [
    "df.rename(columns={\"Text\": \"text\"}, inplace=True)\n",
    "df.rename(columns={\"Polarity\": \"label\"}, inplace=True)\n",
    "\n",
    "df.head(3)"
   ]
  },
  {
   "cell_type": "code",
   "execution_count": 4,
   "id": "4c87f671",
   "metadata": {
    "execution": {
     "iopub.execute_input": "2025-01-01T13:38:41.414301Z",
     "iopub.status.busy": "2025-01-01T13:38:41.414053Z",
     "iopub.status.idle": "2025-01-01T13:38:41.468005Z",
     "shell.execute_reply": "2025-01-01T13:38:41.467240Z"
    },
    "papermill": {
     "duration": 0.065545,
     "end_time": "2025-01-01T13:38:41.469256",
     "exception": false,
     "start_time": "2025-01-01T13:38:41.403711",
     "status": "completed"
    },
    "tags": []
   },
   "outputs": [],
   "source": [
    "df['rtext'] = df['text'].apply(lambda x: ' '.join(x.split()[::-1]))"
   ]
  },
  {
   "cell_type": "code",
   "execution_count": 5,
   "id": "113e9dde",
   "metadata": {
    "execution": {
     "iopub.execute_input": "2025-01-01T13:38:41.488855Z",
     "iopub.status.busy": "2025-01-01T13:38:41.488617Z",
     "iopub.status.idle": "2025-01-01T13:38:41.492981Z",
     "shell.execute_reply": "2025-01-01T13:38:41.492329Z"
    },
    "papermill": {
     "duration": 0.015131,
     "end_time": "2025-01-01T13:38:41.494089",
     "exception": false,
     "start_time": "2025-01-01T13:38:41.478958",
     "status": "completed"
    },
    "tags": []
   },
   "outputs": [
    {
     "data": {
      "text/plain": [
       "('ভাই মিথ্যা কথা বইলেন না আপনি ভিপিএন ইউজ করে পোস্ট দিয়েছেন এবং আপনি রঙিন দুনিয়া দেখছেন না । কারণ আপনার ফ্রেম রঙিন হলেও গ্লাসটা কিন্তু কালো । আমি কিন্তু রঙিন দুনিয়ার একজন রঙমিস্ত্রি তাই বিষয়টি এড়িয়ে যেতে পারলাম না ।',\n",
       " 1)"
      ]
     },
     "execution_count": 5,
     "metadata": {},
     "output_type": "execute_result"
    }
   ],
   "source": [
    "ri = 2\n",
    "df['text'][ri], df['label'][ri]"
   ]
  },
  {
   "cell_type": "code",
   "execution_count": 6,
   "id": "3372c363",
   "metadata": {
    "execution": {
     "iopub.execute_input": "2025-01-01T13:38:41.513886Z",
     "iopub.status.busy": "2025-01-01T13:38:41.513651Z",
     "iopub.status.idle": "2025-01-01T13:38:41.525984Z",
     "shell.execute_reply": "2025-01-01T13:38:41.525134Z"
    },
    "papermill": {
     "duration": 0.023298,
     "end_time": "2025-01-01T13:38:41.527182",
     "exception": false,
     "start_time": "2025-01-01T13:38:41.503884",
     "status": "completed"
    },
    "tags": []
   },
   "outputs": [
    {
     "data": {
      "text/plain": [
       "label\n",
       "1    12818\n",
       "0    12818\n",
       "Name: count, dtype: int64"
      ]
     },
     "execution_count": 6,
     "metadata": {},
     "output_type": "execute_result"
    }
   ],
   "source": [
    "df.label.value_counts()"
   ]
  },
  {
   "cell_type": "code",
   "execution_count": 7,
   "id": "dd2d2daf",
   "metadata": {
    "execution": {
     "iopub.execute_input": "2025-01-01T13:38:41.546537Z",
     "iopub.status.busy": "2025-01-01T13:38:41.546314Z",
     "iopub.status.idle": "2025-01-01T13:38:41.550475Z",
     "shell.execute_reply": "2025-01-01T13:38:41.549709Z"
    },
    "papermill": {
     "duration": 0.015134,
     "end_time": "2025-01-01T13:38:41.551614",
     "exception": false,
     "start_time": "2025-01-01T13:38:41.536480",
     "status": "completed"
    },
    "tags": []
   },
   "outputs": [
    {
     "data": {
      "text/plain": [
       "(25636, 4)"
      ]
     },
     "execution_count": 7,
     "metadata": {},
     "output_type": "execute_result"
    }
   ],
   "source": [
    "df.shape"
   ]
  },
  {
   "cell_type": "code",
   "execution_count": 8,
   "id": "c4eaa50d",
   "metadata": {
    "execution": {
     "iopub.execute_input": "2025-01-01T13:38:41.571458Z",
     "iopub.status.busy": "2025-01-01T13:38:41.571232Z",
     "iopub.status.idle": "2025-01-01T13:38:43.648979Z",
     "shell.execute_reply": "2025-01-01T13:38:43.648019Z"
    },
    "papermill": {
     "duration": 2.089463,
     "end_time": "2025-01-01T13:38:43.650587",
     "exception": false,
     "start_time": "2025-01-01T13:38:41.561124",
     "status": "completed"
    },
    "tags": []
   },
   "outputs": [],
   "source": [
    "from sklearn.model_selection import train_test_split\n",
    "\n",
    "# Assume 'df' is your DataFrame and 'label_column' is the column you want to stratify on\n",
    "# df, _ = train_test_split(df, train_size=1000, stratify=df['label'], random_state=42)"
   ]
  },
  {
   "cell_type": "code",
   "execution_count": 9,
   "id": "b20e1586",
   "metadata": {
    "execution": {
     "iopub.execute_input": "2025-01-01T13:38:43.671437Z",
     "iopub.status.busy": "2025-01-01T13:38:43.671076Z",
     "iopub.status.idle": "2025-01-01T13:38:43.679579Z",
     "shell.execute_reply": "2025-01-01T13:38:43.678889Z"
    },
    "papermill": {
     "duration": 0.020303,
     "end_time": "2025-01-01T13:38:43.680930",
     "exception": false,
     "start_time": "2025-01-01T13:38:43.660627",
     "status": "completed"
    },
    "tags": []
   },
   "outputs": [
    {
     "name": "stdout",
     "output_type": "stream",
     "text": [
      "(25636, 4)\n"
     ]
    },
    {
     "data": {
      "text/html": [
       "<div>\n",
       "<style scoped>\n",
       "    .dataframe tbody tr th:only-of-type {\n",
       "        vertical-align: middle;\n",
       "    }\n",
       "\n",
       "    .dataframe tbody tr th {\n",
       "        vertical-align: top;\n",
       "    }\n",
       "\n",
       "    .dataframe thead th {\n",
       "        text-align: right;\n",
       "    }\n",
       "</style>\n",
       "<table border=\"1\" class=\"dataframe\">\n",
       "  <thead>\n",
       "    <tr style=\"text-align: right;\">\n",
       "      <th></th>\n",
       "      <th>id</th>\n",
       "      <th>text</th>\n",
       "      <th>label</th>\n",
       "      <th>rtext</th>\n",
       "    </tr>\n",
       "  </thead>\n",
       "  <tbody>\n",
       "    <tr>\n",
       "      <th>0</th>\n",
       "      <td>0</td>\n",
       "      <td>শুধু মাত্র এই পোস্টে কমেন্ট করার জন্য বাড়ির এ...</td>\n",
       "      <td>1</td>\n",
       "      <td>ছিলাম বসে কিনে বি এম করে বিক্রি ঘোড়া পাড়া ডি...</td>\n",
       "    </tr>\n",
       "    <tr>\n",
       "      <th>1</th>\n",
       "      <td>2</td>\n",
       "      <td>সাথে আছে বুক ভরা চুল ।</td>\n",
       "      <td>1</td>\n",
       "      <td>। চুল ভরা বুক আছে সাথে</td>\n",
       "    </tr>\n",
       "    <tr>\n",
       "      <th>2</th>\n",
       "      <td>4</td>\n",
       "      <td>ভাই মিথ্যা কথা বইলেন না আপনি ভিপিএন ইউজ করে পো...</td>\n",
       "      <td>1</td>\n",
       "      <td>। না পারলাম যেতে এড়িয়ে বিষয়টি তাই রঙমিস্ত্রি এ...</td>\n",
       "    </tr>\n",
       "  </tbody>\n",
       "</table>\n",
       "</div>"
      ],
      "text/plain": [
       "   id                                               text  label  \\\n",
       "0   0  শুধু মাত্র এই পোস্টে কমেন্ট করার জন্য বাড়ির এ...      1   \n",
       "1   2                             সাথে আছে বুক ভরা চুল ।      1   \n",
       "2   4  ভাই মিথ্যা কথা বইলেন না আপনি ভিপিএন ইউজ করে পো...      1   \n",
       "\n",
       "                                               rtext  \n",
       "0  ছিলাম বসে কিনে বি এম করে বিক্রি ঘোড়া পাড়া ডি...  \n",
       "1                             । চুল ভরা বুক আছে সাথে  \n",
       "2  । না পারলাম যেতে এড়িয়ে বিষয়টি তাই রঙমিস্ত্রি এ...  "
      ]
     },
     "execution_count": 9,
     "metadata": {},
     "output_type": "execute_result"
    }
   ],
   "source": [
    "print(df.shape)\n",
    "df.head(3)"
   ]
  },
  {
   "cell_type": "code",
   "execution_count": 10,
   "id": "b5419f60",
   "metadata": {
    "execution": {
     "iopub.execute_input": "2025-01-01T13:38:43.701441Z",
     "iopub.status.busy": "2025-01-01T13:38:43.701227Z",
     "iopub.status.idle": "2025-01-01T13:38:43.744908Z",
     "shell.execute_reply": "2025-01-01T13:38:43.744254Z"
    },
    "papermill": {
     "duration": 0.054929,
     "end_time": "2025-01-01T13:38:43.746239",
     "exception": false,
     "start_time": "2025-01-01T13:38:43.691310",
     "status": "completed"
    },
    "tags": []
   },
   "outputs": [],
   "source": [
    "import pandas as pd\n",
    "import json\n",
    "\n",
    "# Read the JSONL file\n",
    "data_train = []\n",
    "with open('/kaggle/input/sarcasm/sarcasm_detection_shared_task_reddit_training.jsonl', 'r') as f:\n",
    "    for line in f:\n",
    "        # Parse each line as JSON and append to list\n",
    "        data_train.append(json.loads(line))\n",
    "data_twitter_df = pd.DataFrame(data_train)\n",
    "# Convert list of dictionaries to Data"
   ]
  },
  {
   "cell_type": "code",
   "execution_count": 11,
   "id": "9f1dd489",
   "metadata": {
    "execution": {
     "iopub.execute_input": "2025-01-01T13:38:43.767154Z",
     "iopub.status.busy": "2025-01-01T13:38:43.766912Z",
     "iopub.status.idle": "2025-01-01T13:38:43.776694Z",
     "shell.execute_reply": "2025-01-01T13:38:43.775898Z"
    },
    "papermill": {
     "duration": 0.021799,
     "end_time": "2025-01-01T13:38:43.778114",
     "exception": false,
     "start_time": "2025-01-01T13:38:43.756315",
     "status": "completed"
    },
    "tags": []
   },
   "outputs": [],
   "source": [
    "data_twitter_df['label']=data_twitter_df['label'].map({'SARCASM':0,'NOT_SARCASM':1})\n",
    "data_twitter_df=data_twitter_df.rename(columns={'context':'parent_comment','response':'comment'})"
   ]
  },
  {
   "cell_type": "code",
   "execution_count": 12,
   "id": "c85678aa",
   "metadata": {
    "execution": {
     "iopub.execute_input": "2025-01-01T13:38:43.799378Z",
     "iopub.status.busy": "2025-01-01T13:38:43.799171Z",
     "iopub.status.idle": "2025-01-01T13:38:43.807252Z",
     "shell.execute_reply": "2025-01-01T13:38:43.806417Z"
    },
    "papermill": {
     "duration": 0.020837,
     "end_time": "2025-01-01T13:38:43.808550",
     "exception": false,
     "start_time": "2025-01-01T13:38:43.787713",
     "status": "completed"
    },
    "tags": []
   },
   "outputs": [
    {
     "data": {
      "text/html": [
       "<div>\n",
       "<style scoped>\n",
       "    .dataframe tbody tr th:only-of-type {\n",
       "        vertical-align: middle;\n",
       "    }\n",
       "\n",
       "    .dataframe tbody tr th {\n",
       "        vertical-align: top;\n",
       "    }\n",
       "\n",
       "    .dataframe thead th {\n",
       "        text-align: right;\n",
       "    }\n",
       "</style>\n",
       "<table border=\"1\" class=\"dataframe\">\n",
       "  <thead>\n",
       "    <tr style=\"text-align: right;\">\n",
       "      <th></th>\n",
       "      <th>label</th>\n",
       "      <th>comment</th>\n",
       "      <th>parent_comment</th>\n",
       "    </tr>\n",
       "  </thead>\n",
       "  <tbody>\n",
       "    <tr>\n",
       "      <th>0</th>\n",
       "      <td>0</td>\n",
       "      <td>Yeah I mean there's only one gender anyways, w...</td>\n",
       "      <td>[LPT: If you're worried about hurting someone'...</td>\n",
       "    </tr>\n",
       "    <tr>\n",
       "      <th>1</th>\n",
       "      <td>0</td>\n",
       "      <td>Sounds like you don't like science, you theist...</td>\n",
       "      <td>[Promotional images for some guy's Facebook pa...</td>\n",
       "    </tr>\n",
       "    <tr>\n",
       "      <th>2</th>\n",
       "      <td>0</td>\n",
       "      <td>Ofc play them in try mode, Blizzard were so ge...</td>\n",
       "      <td>[My friends won't play Dota2; I won't play LoL...</td>\n",
       "    </tr>\n",
       "  </tbody>\n",
       "</table>\n",
       "</div>"
      ],
      "text/plain": [
       "   label                                            comment  \\\n",
       "0      0  Yeah I mean there's only one gender anyways, w...   \n",
       "1      0  Sounds like you don't like science, you theist...   \n",
       "2      0  Ofc play them in try mode, Blizzard were so ge...   \n",
       "\n",
       "                                      parent_comment  \n",
       "0  [LPT: If you're worried about hurting someone'...  \n",
       "1  [Promotional images for some guy's Facebook pa...  \n",
       "2  [My friends won't play Dota2; I won't play LoL...  "
      ]
     },
     "execution_count": 12,
     "metadata": {},
     "output_type": "execute_result"
    }
   ],
   "source": [
    "data_twitter_df.head(3)"
   ]
  },
  {
   "cell_type": "code",
   "execution_count": 13,
   "id": "114cb527",
   "metadata": {
    "execution": {
     "iopub.execute_input": "2025-01-01T13:38:43.830248Z",
     "iopub.status.busy": "2025-01-01T13:38:43.830045Z",
     "iopub.status.idle": "2025-01-01T13:38:43.842188Z",
     "shell.execute_reply": "2025-01-01T13:38:43.841624Z"
    },
    "papermill": {
     "duration": 0.023555,
     "end_time": "2025-01-01T13:38:43.843355",
     "exception": false,
     "start_time": "2025-01-01T13:38:43.819800",
     "status": "completed"
    },
    "tags": []
   },
   "outputs": [],
   "source": [
    "data_twitter_df['comment']=data_twitter_df['comment'].astype(str)\n",
    "data_twitter_df['parent_comment']=data_twitter_df['parent_comment'].astype(str)"
   ]
  },
  {
   "cell_type": "code",
   "execution_count": 14,
   "id": "bfacb362",
   "metadata": {
    "execution": {
     "iopub.execute_input": "2025-01-01T13:38:43.863591Z",
     "iopub.status.busy": "2025-01-01T13:38:43.863395Z",
     "iopub.status.idle": "2025-01-01T13:38:48.999768Z",
     "shell.execute_reply": "2025-01-01T13:38:48.998845Z"
    },
    "papermill": {
     "duration": 5.148144,
     "end_time": "2025-01-01T13:38:49.001367",
     "exception": false,
     "start_time": "2025-01-01T13:38:43.853223",
     "status": "completed"
    },
    "tags": []
   },
   "outputs": [],
   "source": [
    "import torch\n",
    "from torch.utils.data import Dataset\n",
    "\n",
    "class MultiFeatureDataset(Dataset):\n",
    "    def __init__(self, dataframe, tokenizer, max_len):\n",
    "        self.tokenizer = tokenizer\n",
    "        self.data = dataframe\n",
    "        self.comment = dataframe['comment']\n",
    "        self.parent=dataframe['parent_comment']\n",
    "        self.labels = dataframe.label\n",
    "        self.max_len = max_len\n",
    "\n",
    "    def __len__(self):\n",
    "        return len(self.data)\n",
    "    \n",
    "    def __getitem__(self, index):\n",
    "        if index >= len(self.data):\n",
    "            raise IndexError(f\"Index {index} out of range\")\n",
    "        comment = str(self.comment.iloc[index])\n",
    "        parent = str(self.parent.iloc[index])\n",
    "        label = self.labels.iloc[index]\n",
    "\n",
    "\n",
    " \n",
    "        comment_encoding = self.tokenizer.encode_plus(\n",
    "            comment,\n",
    "            add_special_tokens=True,\n",
    "            max_length=self.max_len,\n",
    "            return_token_type_ids=False,\n",
    "            padding='max_length',\n",
    "            truncation=True,\n",
    "            return_attention_mask=True,\n",
    "            return_tensors='pt',\n",
    "        )\n",
    "\n",
    "        parent_encoding = self.tokenizer.encode_plus(\n",
    "            parent,\n",
    "            add_special_tokens=True,\n",
    "            max_length=self.max_len,\n",
    "            return_token_type_ids=False,\n",
    "            padding='max_length',\n",
    "            truncation=True,\n",
    "            return_attention_mask=True,\n",
    "            return_tensors='pt',\n",
    "        )\n",
    "\n",
    "        return {\n",
    "        'input_ids1': parent_encoding['input_ids'].flatten(),\n",
    "        'attention_mask1': parent_encoding['attention_mask'].flatten(),\n",
    "        'input_ids2': comment_encoding['input_ids'].flatten(),\n",
    "        'attention_mask2': comment_encoding['attention_mask'].flatten(),\n",
    "        'labels': torch.tensor(label, dtype=torch.long)\n",
    "    }\n"
   ]
  },
  {
   "cell_type": "code",
   "execution_count": 15,
   "id": "b9eede41",
   "metadata": {
    "execution": {
     "iopub.execute_input": "2025-01-01T13:38:49.022818Z",
     "iopub.status.busy": "2025-01-01T13:38:49.022411Z",
     "iopub.status.idle": "2025-01-01T13:38:49.030604Z",
     "shell.execute_reply": "2025-01-01T13:38:49.029904Z"
    },
    "papermill": {
     "duration": 0.019978,
     "end_time": "2025-01-01T13:38:49.031953",
     "exception": false,
     "start_time": "2025-01-01T13:38:49.011975",
     "status": "completed"
    },
    "tags": []
   },
   "outputs": [
    {
     "name": "stdout",
     "output_type": "stream",
     "text": [
      "(4400, 3)\n"
     ]
    },
    {
     "data": {
      "text/html": [
       "<div>\n",
       "<style scoped>\n",
       "    .dataframe tbody tr th:only-of-type {\n",
       "        vertical-align: middle;\n",
       "    }\n",
       "\n",
       "    .dataframe tbody tr th {\n",
       "        vertical-align: top;\n",
       "    }\n",
       "\n",
       "    .dataframe thead th {\n",
       "        text-align: right;\n",
       "    }\n",
       "</style>\n",
       "<table border=\"1\" class=\"dataframe\">\n",
       "  <thead>\n",
       "    <tr style=\"text-align: right;\">\n",
       "      <th></th>\n",
       "      <th>label</th>\n",
       "      <th>comment</th>\n",
       "      <th>parent_comment</th>\n",
       "    </tr>\n",
       "  </thead>\n",
       "  <tbody>\n",
       "    <tr>\n",
       "      <th>0</th>\n",
       "      <td>0</td>\n",
       "      <td>Yeah I mean there's only one gender anyways, w...</td>\n",
       "      <td>['LPT: If you\\'re worried about hurting someon...</td>\n",
       "    </tr>\n",
       "    <tr>\n",
       "      <th>1</th>\n",
       "      <td>0</td>\n",
       "      <td>Sounds like you don't like science, you theist...</td>\n",
       "      <td>[\"Promotional images for some guy's Facebook p...</td>\n",
       "    </tr>\n",
       "    <tr>\n",
       "      <th>2</th>\n",
       "      <td>0</td>\n",
       "      <td>Ofc play them in try mode, Blizzard were so ge...</td>\n",
       "      <td>[\"My friends won't play Dota2; I won't play Lo...</td>\n",
       "    </tr>\n",
       "  </tbody>\n",
       "</table>\n",
       "</div>"
      ],
      "text/plain": [
       "   label                                            comment  \\\n",
       "0      0  Yeah I mean there's only one gender anyways, w...   \n",
       "1      0  Sounds like you don't like science, you theist...   \n",
       "2      0  Ofc play them in try mode, Blizzard were so ge...   \n",
       "\n",
       "                                      parent_comment  \n",
       "0  ['LPT: If you\\'re worried about hurting someon...  \n",
       "1  [\"Promotional images for some guy's Facebook p...  \n",
       "2  [\"My friends won't play Dota2; I won't play Lo...  "
      ]
     },
     "execution_count": 15,
     "metadata": {},
     "output_type": "execute_result"
    }
   ],
   "source": [
    "print(data_twitter_df.shape)\n",
    "data_twitter_df.head(3)"
   ]
  },
  {
   "cell_type": "code",
   "execution_count": 16,
   "id": "917850e0",
   "metadata": {
    "execution": {
     "iopub.execute_input": "2025-01-01T13:38:49.053332Z",
     "iopub.status.busy": "2025-01-01T13:38:49.053117Z",
     "iopub.status.idle": "2025-01-01T13:38:49.061261Z",
     "shell.execute_reply": "2025-01-01T13:38:49.060544Z"
    },
    "papermill": {
     "duration": 0.019842,
     "end_time": "2025-01-01T13:38:49.062462",
     "exception": false,
     "start_time": "2025-01-01T13:38:49.042620",
     "status": "completed"
    },
    "tags": []
   },
   "outputs": [
    {
     "data": {
      "text/html": [
       "<div>\n",
       "<style scoped>\n",
       "    .dataframe tbody tr th:only-of-type {\n",
       "        vertical-align: middle;\n",
       "    }\n",
       "\n",
       "    .dataframe tbody tr th {\n",
       "        vertical-align: top;\n",
       "    }\n",
       "\n",
       "    .dataframe thead th {\n",
       "        text-align: right;\n",
       "    }\n",
       "</style>\n",
       "<table border=\"1\" class=\"dataframe\">\n",
       "  <thead>\n",
       "    <tr style=\"text-align: right;\">\n",
       "      <th></th>\n",
       "      <th>id</th>\n",
       "      <th>parent_comment</th>\n",
       "      <th>label</th>\n",
       "      <th>comment</th>\n",
       "    </tr>\n",
       "  </thead>\n",
       "  <tbody>\n",
       "    <tr>\n",
       "      <th>0</th>\n",
       "      <td>0</td>\n",
       "      <td>শুধু মাত্র এই পোস্টে কমেন্ট করার জন্য বাড়ির এ...</td>\n",
       "      <td>1</td>\n",
       "      <td>ছিলাম বসে কিনে বি এম করে বিক্রি ঘোড়া পাড়া ডি...</td>\n",
       "    </tr>\n",
       "    <tr>\n",
       "      <th>1</th>\n",
       "      <td>2</td>\n",
       "      <td>সাথে আছে বুক ভরা চুল ।</td>\n",
       "      <td>1</td>\n",
       "      <td>। চুল ভরা বুক আছে সাথে</td>\n",
       "    </tr>\n",
       "    <tr>\n",
       "      <th>2</th>\n",
       "      <td>4</td>\n",
       "      <td>ভাই মিথ্যা কথা বইলেন না আপনি ভিপিএন ইউজ করে পো...</td>\n",
       "      <td>1</td>\n",
       "      <td>। না পারলাম যেতে এড়িয়ে বিষয়টি তাই রঙমিস্ত্রি এ...</td>\n",
       "    </tr>\n",
       "  </tbody>\n",
       "</table>\n",
       "</div>"
      ],
      "text/plain": [
       "   id                                     parent_comment  label  \\\n",
       "0   0  শুধু মাত্র এই পোস্টে কমেন্ট করার জন্য বাড়ির এ...      1   \n",
       "1   2                             সাথে আছে বুক ভরা চুল ।      1   \n",
       "2   4  ভাই মিথ্যা কথা বইলেন না আপনি ভিপিএন ইউজ করে পো...      1   \n",
       "\n",
       "                                             comment  \n",
       "0  ছিলাম বসে কিনে বি এম করে বিক্রি ঘোড়া পাড়া ডি...  \n",
       "1                             । চুল ভরা বুক আছে সাথে  \n",
       "2  । না পারলাম যেতে এড়িয়ে বিষয়টি তাই রঙমিস্ত্রি এ...  "
      ]
     },
     "execution_count": 16,
     "metadata": {},
     "output_type": "execute_result"
    }
   ],
   "source": [
    "# df.rename(columns={\"Polarity\": \"label\"}, inplace=True)\n",
    "df.rename(columns={\"text\": \"parent_comment\"}, inplace=True)\n",
    "df.rename(columns={\"rtext\": \"comment\"}, inplace=True)\n",
    "\n",
    "df.head(3)"
   ]
  },
  {
   "cell_type": "code",
   "execution_count": 17,
   "id": "5dfcd214",
   "metadata": {
    "execution": {
     "iopub.execute_input": "2025-01-01T13:38:49.083383Z",
     "iopub.status.busy": "2025-01-01T13:38:49.083161Z",
     "iopub.status.idle": "2025-01-01T13:38:49.090110Z",
     "shell.execute_reply": "2025-01-01T13:38:49.089456Z"
    },
    "papermill": {
     "duration": 0.018634,
     "end_time": "2025-01-01T13:38:49.091352",
     "exception": false,
     "start_time": "2025-01-01T13:38:49.072718",
     "status": "completed"
    },
    "tags": []
   },
   "outputs": [],
   "source": [
    "data_twitter_df = df.copy()"
   ]
  },
  {
   "cell_type": "code",
   "execution_count": 18,
   "id": "8570d711",
   "metadata": {
    "execution": {
     "iopub.execute_input": "2025-01-01T13:38:49.112497Z",
     "iopub.status.busy": "2025-01-01T13:38:49.112293Z",
     "iopub.status.idle": "2025-01-01T13:38:49.128571Z",
     "shell.execute_reply": "2025-01-01T13:38:49.127800Z"
    },
    "papermill": {
     "duration": 0.028042,
     "end_time": "2025-01-01T13:38:49.129844",
     "exception": false,
     "start_time": "2025-01-01T13:38:49.101802",
     "status": "completed"
    },
    "tags": []
   },
   "outputs": [
    {
     "name": "stdout",
     "output_type": "stream",
     "text": [
      "20508 5128\n"
     ]
    }
   ],
   "source": [
    "from sklearn.model_selection import train_test_split\n",
    "\n",
    "train_df, eval_df = train_test_split(data_twitter_df, test_size=0.2, random_state=42, stratify=data_twitter_df['label'])\n",
    "\n",
    "print(len(train_df), len(eval_df))"
   ]
  },
  {
   "cell_type": "code",
   "execution_count": 19,
   "id": "2920b994",
   "metadata": {
    "execution": {
     "iopub.execute_input": "2025-01-01T13:38:49.150662Z",
     "iopub.status.busy": "2025-01-01T13:38:49.150459Z",
     "iopub.status.idle": "2025-01-01T13:38:49.157392Z",
     "shell.execute_reply": "2025-01-01T13:38:49.156605Z"
    },
    "papermill": {
     "duration": 0.018598,
     "end_time": "2025-01-01T13:38:49.158571",
     "exception": false,
     "start_time": "2025-01-01T13:38:49.139973",
     "status": "completed"
    },
    "tags": []
   },
   "outputs": [
    {
     "data": {
      "text/html": [
       "<div>\n",
       "<style scoped>\n",
       "    .dataframe tbody tr th:only-of-type {\n",
       "        vertical-align: middle;\n",
       "    }\n",
       "\n",
       "    .dataframe tbody tr th {\n",
       "        vertical-align: top;\n",
       "    }\n",
       "\n",
       "    .dataframe thead th {\n",
       "        text-align: right;\n",
       "    }\n",
       "</style>\n",
       "<table border=\"1\" class=\"dataframe\">\n",
       "  <thead>\n",
       "    <tr style=\"text-align: right;\">\n",
       "      <th></th>\n",
       "      <th>id</th>\n",
       "      <th>parent_comment</th>\n",
       "      <th>label</th>\n",
       "      <th>comment</th>\n",
       "    </tr>\n",
       "  </thead>\n",
       "  <tbody>\n",
       "    <tr>\n",
       "      <th>24108</th>\n",
       "      <td>24487</td>\n",
       "      <td>আমার ভাই এবং বাবাকে নিয়ে নােয়াখালী সদর থানায...</td>\n",
       "      <td>0</td>\n",
       "      <td>। পারেনি দিতে সন্ধান কোন আমাকে তারা চাইলে সন্ধ...</td>\n",
       "    </tr>\n",
       "    <tr>\n",
       "      <th>16703</th>\n",
       "      <td>11100</td>\n",
       "      <td>যদি ডট বল করাতে চাও তবে আমাকে ডাকো সুনীল নারিন...</td>\n",
       "      <td>0</td>\n",
       "      <td>। পানি বোতল এক ভিতর মরুভুমির । ছেলে সোনার আমাদ...</td>\n",
       "    </tr>\n",
       "    <tr>\n",
       "      <th>9138</th>\n",
       "      <td>22963</td>\n",
       "      <td>কেউ অক্সিজেন না পেয়ে মরে আর কেউ বিয়ে করে মরে ।</td>\n",
       "      <td>1</td>\n",
       "      <td>। মরে করে বিয়ে কেউ আর মরে পেয়ে না অক্সিজেন কেউ</td>\n",
       "    </tr>\n",
       "  </tbody>\n",
       "</table>\n",
       "</div>"
      ],
      "text/plain": [
       "          id                                     parent_comment  label  \\\n",
       "24108  24487  আমার ভাই এবং বাবাকে নিয়ে নােয়াখালী সদর থানায...      0   \n",
       "16703  11100  যদি ডট বল করাতে চাও তবে আমাকে ডাকো সুনীল নারিন...      0   \n",
       "9138   22963     কেউ অক্সিজেন না পেয়ে মরে আর কেউ বিয়ে করে মরে ।      1   \n",
       "\n",
       "                                                 comment  \n",
       "24108  । পারেনি দিতে সন্ধান কোন আমাকে তারা চাইলে সন্ধ...  \n",
       "16703  । পানি বোতল এক ভিতর মরুভুমির । ছেলে সোনার আমাদ...  \n",
       "9138      । মরে করে বিয়ে কেউ আর মরে পেয়ে না অক্সিজেন কেউ  "
      ]
     },
     "execution_count": 19,
     "metadata": {},
     "output_type": "execute_result"
    }
   ],
   "source": [
    "train_df.head(3)"
   ]
  },
  {
   "cell_type": "code",
   "execution_count": 20,
   "id": "7e35927f",
   "metadata": {
    "execution": {
     "iopub.execute_input": "2025-01-01T13:38:49.179707Z",
     "iopub.status.busy": "2025-01-01T13:38:49.179484Z",
     "iopub.status.idle": "2025-01-01T13:38:51.243505Z",
     "shell.execute_reply": "2025-01-01T13:38:51.242757Z"
    },
    "papermill": {
     "duration": 2.076275,
     "end_time": "2025-01-01T13:38:51.245165",
     "exception": false,
     "start_time": "2025-01-01T13:38:49.168890",
     "status": "completed"
    },
    "tags": []
   },
   "outputs": [],
   "source": [
    "from transformers import AutoConfig, AutoModel, AutoTokenizer, logging\n",
    "import torch\n",
    "import torch.nn as nn\n",
    "\n",
    "# Suppress unnecessary warnings\n",
    "logging.set_verbosity_error()\n",
    "\n",
    "class CustomEncoderLayer(nn.Module):\n",
    "    def __init__(self, hidden_size, num_attention_heads, dropout_rate=0.3):\n",
    "        super(CustomEncoderLayer, self).__init__()\n",
    "        self.self_attention = nn.MultiheadAttention(hidden_size, num_attention_heads, dropout=dropout_rate)\n",
    "        self.cross_attention = nn.MultiheadAttention(hidden_size, num_attention_heads, dropout=dropout_rate)\n",
    "        self.feed_forward = nn.Sequential(\n",
    "            nn.Linear(hidden_size, hidden_size * 4),\n",
    "            nn.ReLU(),\n",
    "            nn.Linear(hidden_size * 4, hidden_size)\n",
    "        )\n",
    "        self.layer_norm1 = nn.LayerNorm(hidden_size)\n",
    "        self.layer_norm2 = nn.LayerNorm(hidden_size)\n",
    "        self.layer_norm3 = nn.LayerNorm(hidden_size)\n",
    "        self.dropout = nn.Dropout(dropout_rate)\n",
    "\n",
    "    def forward(self, x, y, x_mask, y_mask):\n",
    "        # Self-attention on x\n",
    "        temp1 = x\n",
    "        self_attn_output, _ = self.self_attention(x, x, x)\n",
    "        x = self.layer_norm1(temp1 + self.dropout(self_attn_output))\n",
    "        \n",
    "        # Cross-attention from x to y\n",
    "        cross_attn_output, cross_attn_weights = self.cross_attention(x, y, y)\n",
    "        x = self.layer_norm2(temp1 + self.dropout(cross_attn_output))\n",
    "        \n",
    "        # Feed forward\n",
    "        ff_output = self.feed_forward(x)\n",
    "        x = self.layer_norm3(temp1 + self.dropout(ff_output))\n",
    "        \n",
    "        return x, cross_attn_weights\n",
    "\n",
    "class CustomDualBanglaBERTModel(nn.Module):\n",
    "    def __init__(self, model_checkpoint, num_layers=6, hidden_size=768, num_attention_heads=8, dropout_rate=0.1):\n",
    "        super(CustomDualBanglaBERTModel, self).__init__()\n",
    "        \n",
    "        # Load BanglaBERT Electra-based models\n",
    "        self.bert1 = AutoModel.from_pretrained(model_checkpoint)\n",
    "        self.bert2 = AutoModel.from_pretrained(model_checkpoint)\n",
    "        \n",
    "        # Custom encoder layers\n",
    "        self.encoder_layers = nn.ModuleList([\n",
    "            CustomEncoderLayer(hidden_size, num_attention_heads, dropout_rate)\n",
    "            for _ in range(num_layers)\n",
    "        ])\n",
    "        \n",
    "        # Classification head\n",
    "        self.fc = nn.Linear(hidden_size * 2, 2)\n",
    "\n",
    "    def forward(self, input_ids1, attention_mask1, input_ids2, attention_mask2):\n",
    "        # Get embeddings from two BERT models\n",
    "        output1 = self.bert1(input_ids=input_ids1, attention_mask=attention_mask1).last_hidden_state\n",
    "        output2 = self.bert2(input_ids=input_ids2, attention_mask=attention_mask2).last_hidden_state\n",
    "        \n",
    "        # Attention masks for padding tokens\n",
    "        x_mask = ~attention_mask1.bool()\n",
    "        y_mask = ~attention_mask2.bool()\n",
    "        \n",
    "        # Apply encoder layers\n",
    "        for layer in self.encoder_layers:\n",
    "            output1, _ = layer(output1, output2, x_mask, y_mask)\n",
    "            output2, cross_attn_weights = layer(output2, output1, y_mask, x_mask)\n",
    "        \n",
    "        # Pool the outputs from both models\n",
    "        pooled_output1 = torch.mean(output1, dim=1)\n",
    "        pooled_output2 = torch.mean(output2, dim=1)\n",
    "        \n",
    "        # Combine and classify\n",
    "        combined = torch.cat((pooled_output1, pooled_output2), dim=1)\n",
    "        return self.fc(combined)"
   ]
  },
  {
   "cell_type": "code",
   "execution_count": 21,
   "id": "3ab468f1",
   "metadata": {
    "execution": {
     "iopub.execute_input": "2025-01-01T13:38:51.267662Z",
     "iopub.status.busy": "2025-01-01T13:38:51.267438Z",
     "iopub.status.idle": "2025-01-01T13:38:57.748184Z",
     "shell.execute_reply": "2025-01-01T13:38:57.747367Z"
    },
    "papermill": {
     "duration": 6.492993,
     "end_time": "2025-01-01T13:38:57.749586",
     "exception": false,
     "start_time": "2025-01-01T13:38:51.256593",
     "status": "completed"
    },
    "tags": []
   },
   "outputs": [
    {
     "data": {
      "application/vnd.jupyter.widget-view+json": {
       "model_id": "9db6a35c91c2435495c71a40fce9abcc",
       "version_major": 2,
       "version_minor": 0
      },
      "text/plain": [
       "config.json:   0%|          | 0.00/586 [00:00<?, ?B/s]"
      ]
     },
     "metadata": {},
     "output_type": "display_data"
    },
    {
     "data": {
      "application/vnd.jupyter.widget-view+json": {
       "model_id": "945bc49184bb48f3b8aee31e60117f4e",
       "version_major": 2,
       "version_minor": 0
      },
      "text/plain": [
       "pytorch_model.bin:   0%|          | 0.00/443M [00:00<?, ?B/s]"
      ]
     },
     "metadata": {},
     "output_type": "display_data"
    },
    {
     "data": {
      "text/plain": [
       "CustomDualBanglaBERTModel(\n",
       "  (bert1): ElectraModel(\n",
       "    (embeddings): ElectraEmbeddings(\n",
       "      (word_embeddings): Embedding(32000, 768, padding_idx=0)\n",
       "      (position_embeddings): Embedding(512, 768)\n",
       "      (token_type_embeddings): Embedding(2, 768)\n",
       "      (LayerNorm): LayerNorm((768,), eps=1e-12, elementwise_affine=True)\n",
       "      (dropout): Dropout(p=0.1, inplace=False)\n",
       "    )\n",
       "    (encoder): ElectraEncoder(\n",
       "      (layer): ModuleList(\n",
       "        (0-11): 12 x ElectraLayer(\n",
       "          (attention): ElectraAttention(\n",
       "            (self): ElectraSelfAttention(\n",
       "              (query): Linear(in_features=768, out_features=768, bias=True)\n",
       "              (key): Linear(in_features=768, out_features=768, bias=True)\n",
       "              (value): Linear(in_features=768, out_features=768, bias=True)\n",
       "              (dropout): Dropout(p=0.1, inplace=False)\n",
       "            )\n",
       "            (output): ElectraSelfOutput(\n",
       "              (dense): Linear(in_features=768, out_features=768, bias=True)\n",
       "              (LayerNorm): LayerNorm((768,), eps=1e-12, elementwise_affine=True)\n",
       "              (dropout): Dropout(p=0.1, inplace=False)\n",
       "            )\n",
       "          )\n",
       "          (intermediate): ElectraIntermediate(\n",
       "            (dense): Linear(in_features=768, out_features=3072, bias=True)\n",
       "            (intermediate_act_fn): GELUActivation()\n",
       "          )\n",
       "          (output): ElectraOutput(\n",
       "            (dense): Linear(in_features=3072, out_features=768, bias=True)\n",
       "            (LayerNorm): LayerNorm((768,), eps=1e-12, elementwise_affine=True)\n",
       "            (dropout): Dropout(p=0.1, inplace=False)\n",
       "          )\n",
       "        )\n",
       "      )\n",
       "    )\n",
       "  )\n",
       "  (bert2): ElectraModel(\n",
       "    (embeddings): ElectraEmbeddings(\n",
       "      (word_embeddings): Embedding(32000, 768, padding_idx=0)\n",
       "      (position_embeddings): Embedding(512, 768)\n",
       "      (token_type_embeddings): Embedding(2, 768)\n",
       "      (LayerNorm): LayerNorm((768,), eps=1e-12, elementwise_affine=True)\n",
       "      (dropout): Dropout(p=0.1, inplace=False)\n",
       "    )\n",
       "    (encoder): ElectraEncoder(\n",
       "      (layer): ModuleList(\n",
       "        (0-11): 12 x ElectraLayer(\n",
       "          (attention): ElectraAttention(\n",
       "            (self): ElectraSelfAttention(\n",
       "              (query): Linear(in_features=768, out_features=768, bias=True)\n",
       "              (key): Linear(in_features=768, out_features=768, bias=True)\n",
       "              (value): Linear(in_features=768, out_features=768, bias=True)\n",
       "              (dropout): Dropout(p=0.1, inplace=False)\n",
       "            )\n",
       "            (output): ElectraSelfOutput(\n",
       "              (dense): Linear(in_features=768, out_features=768, bias=True)\n",
       "              (LayerNorm): LayerNorm((768,), eps=1e-12, elementwise_affine=True)\n",
       "              (dropout): Dropout(p=0.1, inplace=False)\n",
       "            )\n",
       "          )\n",
       "          (intermediate): ElectraIntermediate(\n",
       "            (dense): Linear(in_features=768, out_features=3072, bias=True)\n",
       "            (intermediate_act_fn): GELUActivation()\n",
       "          )\n",
       "          (output): ElectraOutput(\n",
       "            (dense): Linear(in_features=3072, out_features=768, bias=True)\n",
       "            (LayerNorm): LayerNorm((768,), eps=1e-12, elementwise_affine=True)\n",
       "            (dropout): Dropout(p=0.1, inplace=False)\n",
       "          )\n",
       "        )\n",
       "      )\n",
       "    )\n",
       "  )\n",
       "  (encoder_layers): ModuleList(\n",
       "    (0-5): 6 x CustomEncoderLayer(\n",
       "      (self_attention): MultiheadAttention(\n",
       "        (out_proj): NonDynamicallyQuantizableLinear(in_features=768, out_features=768, bias=True)\n",
       "      )\n",
       "      (cross_attention): MultiheadAttention(\n",
       "        (out_proj): NonDynamicallyQuantizableLinear(in_features=768, out_features=768, bias=True)\n",
       "      )\n",
       "      (feed_forward): Sequential(\n",
       "        (0): Linear(in_features=768, out_features=3072, bias=True)\n",
       "        (1): ReLU()\n",
       "        (2): Linear(in_features=3072, out_features=768, bias=True)\n",
       "      )\n",
       "      (layer_norm1): LayerNorm((768,), eps=1e-05, elementwise_affine=True)\n",
       "      (layer_norm2): LayerNorm((768,), eps=1e-05, elementwise_affine=True)\n",
       "      (layer_norm3): LayerNorm((768,), eps=1e-05, elementwise_affine=True)\n",
       "      (dropout): Dropout(p=0.1, inplace=False)\n",
       "    )\n",
       "  )\n",
       "  (fc): Linear(in_features=1536, out_features=2, bias=True)\n",
       ")"
      ]
     },
     "execution_count": 21,
     "metadata": {},
     "output_type": "execute_result"
    }
   ],
   "source": [
    "# Example usage\n",
    "model_checkpoint = 'csebuetnlp/banglabert'\n",
    "model = CustomDualBanglaBERTModel(model_checkpoint=model_checkpoint)\n",
    "\n",
    "# Move the model to GPU if available\n",
    "device = torch.device(\"cuda\" if torch.cuda.is_available() else \"cpu\")\n",
    "# model.to(device)\n",
    "model.cuda()"
   ]
  },
  {
   "cell_type": "code",
   "execution_count": 22,
   "id": "f69961c0",
   "metadata": {
    "execution": {
     "iopub.execute_input": "2025-01-01T13:38:57.775106Z",
     "iopub.status.busy": "2025-01-01T13:38:57.774671Z",
     "iopub.status.idle": "2025-01-01T13:38:57.781112Z",
     "shell.execute_reply": "2025-01-01T13:38:57.780221Z"
    },
    "papermill": {
     "duration": 0.019695,
     "end_time": "2025-01-01T13:38:57.782418",
     "exception": false,
     "start_time": "2025-01-01T13:38:57.762723",
     "status": "completed"
    },
    "tags": []
   },
   "outputs": [
    {
     "name": "stdout",
     "output_type": "stream",
     "text": [
      "Approximate Model Size in Memory: 1.03 GB\n"
     ]
    }
   ],
   "source": [
    "# Calculate the total number of trainable parameters\n",
    "trainable_params = sum(p.numel() for p in model.parameters() if p.requires_grad)\n",
    "\n",
    "# Each parameter takes 4 bytes (float32)\n",
    "param_size_in_bytes = trainable_params * 4\n",
    "\n",
    "# Convert to GB\n",
    "param_size_in_gb = param_size_in_bytes / (1024**3)\n",
    "print(f\"Approximate Model Size in Memory: {param_size_in_gb:.2f} GB\")"
   ]
  },
  {
   "cell_type": "code",
   "execution_count": 23,
   "id": "47b2f35b",
   "metadata": {
    "execution": {
     "iopub.execute_input": "2025-01-01T13:38:57.804496Z",
     "iopub.status.busy": "2025-01-01T13:38:57.804289Z",
     "iopub.status.idle": "2025-01-01T13:38:57.807955Z",
     "shell.execute_reply": "2025-01-01T13:38:57.807333Z"
    },
    "papermill": {
     "duration": 0.016019,
     "end_time": "2025-01-01T13:38:57.809159",
     "exception": false,
     "start_time": "2025-01-01T13:38:57.793140",
     "status": "completed"
    },
    "tags": []
   },
   "outputs": [],
   "source": [
    "# import torch\n",
    "# import torch.nn as nn\n",
    "# from transformers import  BertConfig,AutoModel\n",
    "\n",
    "# class CustomEncoderLayer(nn.Module):\n",
    "#     def __init__(self, hidden_size, num_attention_heads, dropout_rate=0.1):\n",
    "#         super(CustomEncoderLayer, self).__init__()\n",
    "#         self.self_attention = nn.MultiheadAttention(hidden_size, num_attention_heads, dropout=dropout_rate)\n",
    "#         self.cross_attention = nn.MultiheadAttention(hidden_size, num_attention_heads, dropout=dropout_rate)\n",
    "#         self.feed_forward = nn.Sequential(\n",
    "#             nn.Linear(hidden_size, hidden_size * 4),\n",
    "#             nn.ReLU(),\n",
    "#             nn.Linear(hidden_size * 4, hidden_size)\n",
    "#         )\n",
    "#         self.layer_norm1 = nn.LayerNorm(hidden_size)\n",
    "#         self.layer_norm2 = nn.LayerNorm(hidden_size)\n",
    "#         self.layer_norm3 = nn.LayerNorm(hidden_size)\n",
    "#         self.dropout = nn.Dropout(dropout_rate)\n",
    "\n",
    "#     def forward(self, x, y):\n",
    "#         # Self-attention on x\n",
    "#         e=x\n",
    "#         self_attn_output, _ = self.self_attention(x, x, x)\n",
    "#         x = self.layer_norm1(e + self.dropout(self_attn_output))\n",
    "        \n",
    "#         # Cross-attention from x to y\n",
    "#         cross_attn_output, cross_attn_weights = self.cross_attention(x, y, y)\n",
    "#         x = self.layer_norm2(e + self.dropout(cross_attn_output))\n",
    "        \n",
    "#         # Feed forward\n",
    "#         ff_output = self.feed_forward(x)\n",
    "#         x = self.layer_norm3(e + self.dropout(ff_output))\n",
    "        \n",
    "#         return x, cross_attn_weights\n",
    "\n",
    "# class CustomDualBERTModel(nn.Module):\n",
    "#     def __init__(self, num_layers=3, hidden_size=768, num_attention_heads=8, dropout_rate=0.1):\n",
    "#         super(CustomDualBERTModel, self).__init__()\n",
    "        \n",
    "#         # Two BERT models: one for each input\n",
    "#         self.bert1 = AutoModel.from_pretrained('bert-base-uncased')\n",
    "#         self.bert2 = AutoModel.from_pretrained('bert-base-uncased')\n",
    "        \n",
    "#         self.encoder_layers = nn.ModuleList([\n",
    "#             CustomEncoderLayer(hidden_size, num_attention_heads, dropout_rate)\n",
    "#             for _ in range(num_layers)\n",
    "#         ])\n",
    "        \n",
    "#         self.fc = nn.Linear(hidden_size * 2, 2)\n",
    "\n",
    "#     def forward(self, input_ids1, attention_mask1, input_ids2, attention_mask2):\n",
    "#         # Get BERT embeddings from two different models\n",
    "#         output1 = self.bert1(input_ids=input_ids1, attention_mask=attention_mask1).last_hidden_state\n",
    "#         output2 = self.bert2(input_ids=input_ids2, attention_mask=attention_mask2).last_hidden_state\n",
    "        \n",
    "#         # Create attention masks\n",
    "#         x_mask = ~attention_mask1.bool()\n",
    "#         y_mask = ~attention_mask2.bool()\n",
    "        \n",
    "#         # Apply custom encoder layers (self-attention and cross-attention)\n",
    "#         for layer in self.encoder_layers:\n",
    "#             output1, _ = layer(output1, output2)\n",
    "#             output2, cross_attn_weights = layer(output2, output1)\n",
    "#         # Pool the outputs from both BERTs\n",
    "#         pooled_output1 = torch.mean(output1, dim=1)\n",
    "#         pooled_output2 = torch.mean(output2, dim=1)\n",
    "        \n",
    "#         # Combine and classify\n",
    "#         combined = torch.cat((pooled_output1, pooled_output2), dim=1)\n",
    "#         return self.fc(combined)\n"
   ]
  },
  {
   "cell_type": "code",
   "execution_count": 24,
   "id": "71b30f9a",
   "metadata": {
    "execution": {
     "iopub.execute_input": "2025-01-01T13:38:57.833160Z",
     "iopub.status.busy": "2025-01-01T13:38:57.832961Z",
     "iopub.status.idle": "2025-01-01T13:38:59.402114Z",
     "shell.execute_reply": "2025-01-01T13:38:59.401270Z"
    },
    "papermill": {
     "duration": 1.583749,
     "end_time": "2025-01-01T13:38:59.403716",
     "exception": false,
     "start_time": "2025-01-01T13:38:57.819967",
     "status": "completed"
    },
    "tags": []
   },
   "outputs": [
    {
     "data": {
      "application/vnd.jupyter.widget-view+json": {
       "model_id": "525ac0abc7da4973a93af5f1378c6bb5",
       "version_major": 2,
       "version_minor": 0
      },
      "text/plain": [
       "tokenizer_config.json:   0%|          | 0.00/119 [00:00<?, ?B/s]"
      ]
     },
     "metadata": {},
     "output_type": "display_data"
    },
    {
     "data": {
      "application/vnd.jupyter.widget-view+json": {
       "model_id": "abf3779948084fd7a52e8ee95aa1c640",
       "version_major": 2,
       "version_minor": 0
      },
      "text/plain": [
       "vocab.txt:   0%|          | 0.00/528k [00:00<?, ?B/s]"
      ]
     },
     "metadata": {},
     "output_type": "display_data"
    },
    {
     "data": {
      "application/vnd.jupyter.widget-view+json": {
       "model_id": "26d8f2d8a69b4de0a102a0d67967a8ca",
       "version_major": 2,
       "version_minor": 0
      },
      "text/plain": [
       "special_tokens_map.json:   0%|          | 0.00/112 [00:00<?, ?B/s]"
      ]
     },
     "metadata": {},
     "output_type": "display_data"
    },
    {
     "name": "stderr",
     "output_type": "stream",
     "text": [
      "/usr/local/lib/python3.10/dist-packages/transformers/tokenization_utils_base.py:1601: FutureWarning: `clean_up_tokenization_spaces` was not set. It will be set to `True` by default. This behavior will be depracted in transformers v4.45, and will be then set to `False` by default. For more details check this issue: https://github.com/huggingface/transformers/issues/31884\n",
      "  warnings.warn(\n",
      "/usr/local/lib/python3.10/dist-packages/transformers/optimization.py:591: FutureWarning: This implementation of AdamW is deprecated and will be removed in a future version. Use the PyTorch implementation torch.optim.AdamW instead, or set `no_deprecation_warning=True` to disable this warning\n",
      "  warnings.warn(\n"
     ]
    }
   ],
   "source": [
    "import torch\n",
    "import torch.nn as nn\n",
    "from torch.utils.data import DataLoader\n",
    "from transformers import BertTokenizer, AdamW,AutoModel,AutoTokenizer\n",
    "from tqdm import tqdm  # Import tqdm for progress bars\n",
    "\n",
    "# Hyperparameters\n",
    "MAX_LEN = 128\n",
    "BATCH_SIZE = 16\n",
    "EPOCHS = 4\n",
    "LEARNING_RATE = 2e-5\n",
    "\n",
    "tokenizer = AutoTokenizer.from_pretrained(model_checkpoint)\n",
    "\n",
    "# Create data loaders\n",
    "train_dataset = MultiFeatureDataset(train_df, tokenizer, MAX_LEN)\n",
    "val_dataset = MultiFeatureDataset(eval_df, tokenizer, MAX_LEN)\n",
    "\n",
    "train_loader = DataLoader(train_dataset, batch_size=BATCH_SIZE, shuffle=True)\n",
    "val_loader = DataLoader(val_dataset, batch_size=BATCH_SIZE)\n",
    "\n",
    "# Initialize the model\n",
    "\n",
    "# Usage\n",
    "# model = CustomDualBERTModel()\n",
    "#model.load_state_dict(torch.load('dual_bert_classifier.pth'))\n",
    "\n",
    "\n",
    "# Optimizer with weight decay\n",
    "from transformers import AdamW, get_linear_schedule_with_warmup\n",
    "\n",
    "\n",
    "device = torch.device('cuda' if torch.cuda.is_available() else 'cpu')\n",
    "model = model.to(device)\n",
    "\n",
    "optimizer = AdamW(model.parameters(), lr=2e-5, weight_decay=0.01)"
   ]
  },
  {
   "cell_type": "code",
   "execution_count": 25,
   "id": "bee00a6c",
   "metadata": {
    "execution": {
     "iopub.execute_input": "2025-01-01T13:38:59.428412Z",
     "iopub.status.busy": "2025-01-01T13:38:59.427877Z",
     "iopub.status.idle": "2025-01-01T15:44:05.864817Z",
     "shell.execute_reply": "2025-01-01T15:44:05.863827Z"
    },
    "papermill": {
     "duration": 7506.450905,
     "end_time": "2025-01-01T15:44:05.866464",
     "exception": false,
     "start_time": "2025-01-01T13:38:59.415559",
     "status": "completed"
    },
    "tags": []
   },
   "outputs": [
    {
     "name": "stderr",
     "output_type": "stream",
     "text": [
      "                                                                                     \r"
     ]
    },
    {
     "name": "stdout",
     "output_type": "stream",
     "text": [
      "Epoch [1/4], Loss: 0.5036, Accuracy: 0.7563\n"
     ]
    },
    {
     "name": "stderr",
     "output_type": "stream",
     "text": [
      "                                                                     \r"
     ]
    },
    {
     "name": "stdout",
     "output_type": "stream",
     "text": [
      "Epoch 1/4, Validation Loss: 0.5138, Validation Accuracy: 76.66%\n"
     ]
    },
    {
     "name": "stderr",
     "output_type": "stream",
     "text": [
      "                                                                                     \r"
     ]
    },
    {
     "name": "stdout",
     "output_type": "stream",
     "text": [
      "Epoch [2/4], Loss: 0.3153, Accuracy: 0.8703\n"
     ]
    },
    {
     "name": "stderr",
     "output_type": "stream",
     "text": [
      "                                                                     \r"
     ]
    },
    {
     "name": "stdout",
     "output_type": "stream",
     "text": [
      "Epoch 2/4, Validation Loss: 0.5026, Validation Accuracy: 78.74%\n"
     ]
    },
    {
     "name": "stderr",
     "output_type": "stream",
     "text": [
      "                                                                                     \r"
     ]
    },
    {
     "name": "stdout",
     "output_type": "stream",
     "text": [
      "Epoch [3/4], Loss: 0.1328, Accuracy: 0.9519\n"
     ]
    },
    {
     "name": "stderr",
     "output_type": "stream",
     "text": [
      "                                                                     \r"
     ]
    },
    {
     "name": "stdout",
     "output_type": "stream",
     "text": [
      "Epoch 3/4, Validation Loss: 0.6920, Validation Accuracy: 77.96%\n"
     ]
    },
    {
     "name": "stderr",
     "output_type": "stream",
     "text": [
      "                                                                                      \r"
     ]
    },
    {
     "name": "stdout",
     "output_type": "stream",
     "text": [
      "Epoch [4/4], Loss: 0.0624, Accuracy: 0.9783\n"
     ]
    },
    {
     "name": "stderr",
     "output_type": "stream",
     "text": [
      "                                                                     \r"
     ]
    },
    {
     "name": "stdout",
     "output_type": "stream",
     "text": [
      "Epoch 4/4, Validation Loss: 0.9139, Validation Accuracy: 75.20%\n"
     ]
    }
   ],
   "source": [
    "\n",
    "\n",
    "# Training loop\n",
    "for epoch in range(EPOCHS):\n",
    "    model.train()\n",
    "    running_loss = 0.0\n",
    "    correct_train = 0\n",
    "    total_train = 0\n",
    "    \n",
    "    # Initialize the tqdm progress bar\n",
    "    progress_bar = tqdm(train_loader, desc=f\"Training Epoch {epoch+1}\", leave=False)\n",
    "    \n",
    "    for batch_idx,batch in enumerate(progress_bar):\n",
    "        text_input_ids1 = batch['input_ids1'].to(device)\n",
    "        text_attention_mask1 = batch['attention_mask1'].to(device)\n",
    "        text_input_ids2 = batch['input_ids2'].to(device)\n",
    "        text_attention_mask2 = batch['attention_mask2'].to(device)\n",
    "        labels = batch['labels'].to(device)\n",
    "        \n",
    "        optimizer.zero_grad()\n",
    "        \n",
    "        # Forward pass\n",
    "        outputs = model(text_input_ids1, text_attention_mask1, text_input_ids2, text_attention_mask2)\n",
    "        \n",
    "        # Calculate loss\n",
    "        loss = nn.CrossEntropyLoss()(outputs, labels)\n",
    "        \n",
    "        # Backward pass and optimization\n",
    "        loss.backward()\n",
    "        optimizer.step()\n",
    "        \n",
    "        # Update running loss and accuracy\n",
    "        running_loss += loss.item()\n",
    "        _, predicted = torch.max(outputs.data, 1)\n",
    "        total_train += labels.size(0)\n",
    "        correct_train += (predicted == labels).sum().item()\n",
    "        \n",
    "        avg_loss = running_loss / (batch_idx + 1)\n",
    "\n",
    "        # Update the progress bar with the average loss\n",
    "        progress_bar.set_postfix(avg_loss=avg_loss)\n",
    "\n",
    "    # Optional: Print statistics at the end of each epoch\n",
    "    epoch_loss = running_loss / len(train_loader)\n",
    "    epoch_acc = correct_train / total_train\n",
    "    print(f\"Epoch [{epoch+1}/{EPOCHS}], Loss: {epoch_loss:.4f}, Accuracy: {epoch_acc:.4f}\")\n",
    "    # Validation\n",
    "    model.eval()\n",
    "    val_loss = 0\n",
    "    correct_val = 0\n",
    "    total_val = 0\n",
    "    with torch.no_grad():\n",
    "        for batch in tqdm(val_loader, desc=f\"Validation Epoch {epoch+1}\", leave=False):\n",
    "            text_input_ids1 = batch['input_ids1'].to(device)\n",
    "            text_attention_mask1 = batch['attention_mask1'].to(device)\n",
    "            text_input_ids2 = batch['input_ids2'].to(device)\n",
    "            text_attention_mask2 = batch['attention_mask2'].to(device)\n",
    "            labels = batch['labels'].to(device)\n",
    "            \n",
    "    \n",
    "            outputs = model(text_input_ids1, text_attention_mask1, text_input_ids2, text_attention_mask2)\n",
    "            val_loss += nn.CrossEntropyLoss()(outputs, labels).item()\n",
    "            _, predicted = torch.max(outputs.data, 1)\n",
    "            total_val += labels.size(0)\n",
    "            correct_val += (predicted == labels).sum().item()\n",
    "\n",
    "    val_accuracy = 100 * correct_val / total_val\n",
    "    print(f'Epoch {epoch+1}/{EPOCHS}, Validation Loss: {val_loss/len(val_loader):.4f}, Validation Accuracy: {val_accuracy:.2f}%')\n",
    "\n",
    "# Save the model\n",
    "torch.save(model.state_dict(), 'dual_bert_classifier.pth')\n"
   ]
  },
  {
   "cell_type": "code",
   "execution_count": 26,
   "id": "f74b1422",
   "metadata": {
    "execution": {
     "iopub.execute_input": "2025-01-01T15:44:06.970461Z",
     "iopub.status.busy": "2025-01-01T15:44:06.970161Z",
     "iopub.status.idle": "2025-01-01T15:46:32.122550Z",
     "shell.execute_reply": "2025-01-01T15:46:32.121806Z"
    },
    "papermill": {
     "duration": 145.675185,
     "end_time": "2025-01-01T15:46:32.123852",
     "exception": false,
     "start_time": "2025-01-01T15:44:06.448667",
     "status": "completed"
    },
    "tags": []
   },
   "outputs": [
    {
     "name": "stderr",
     "output_type": "stream",
     "text": [
      "                                                                   \r"
     ]
    },
    {
     "name": "stdout",
     "output_type": "stream",
     "text": [
      "Class 0:\n",
      "  Precision: 0.70\n",
      "  Recall:    0.89\n",
      "  F1 Score:  0.78\n",
      "Class 1:\n",
      "  Precision: 0.84\n",
      "  Recall:    0.62\n",
      "  F1 Score:  0.71\n",
      "\n",
      "Average Precision: 0.77\n",
      "Average Recall:    0.75\n",
      "Average F1 Score:  0.75\n",
      "Accuracy: 0.75\n",
      "Class Distribution: {0: 2564, 1: 2564}\n",
      "Total Samples: 5128\n"
     ]
    },
    {
     "data": {
      "image/png": "[encoded data removed]",
      "text/plain": [
       "<Figure size 640x480 with 2 Axes>"
      ]
     },
     "metadata": {},
     "output_type": "display_data"
    }
   ],
   "source": [
    "\n",
    "from tqdm import tqdm\n",
    "\n",
    "def batch_predict(loader):\n",
    "    model.eval()  # Set the model to evaluation mode\n",
    "    predictions = []\n",
    "\n",
    "    with torch.no_grad():\n",
    "        for batch in tqdm(loader, desc=\"Batch Prediction\", leave=False):\n",
    "            text_input_ids1 = batch['input_ids1'].to(device)\n",
    "            text_attention_mask1 = batch['attention_mask1'].to(device)\n",
    "            text_input_ids2 = batch['input_ids2'].to(device)\n",
    "            text_attention_mask2 = batch['attention_mask2'].to(device)\n",
    "            labels = batch['labels'].to(device)\n",
    "            outputs = model(text_input_ids1, text_attention_mask1, text_input_ids2, text_attention_mask2)\n",
    "            _, predicted = torch.max(outputs.data, 1)\n",
    "            predictions.extend(predicted.cpu().numpy())\n",
    "\n",
    "    return predictions\n",
    "pred=batch_predict(val_loader)\n",
    "true=val_dataset.labels\n",
    "\n",
    "import matplotlib.pyplot as plt\n",
    "from sklearn.metrics import confusion_matrix, ConfusionMatrixDisplay, roc_curve, auc, accuracy_score\n",
    "import numpy as np\n",
    "from sklearn.metrics import precision_recall_fscore_support\n",
    "import numpy as np\n",
    "from sklearn.preprocessing import label_binarize\n",
    "\n",
    "\n",
    "# Generate predictions and true labels\n",
    "\n",
    "pred = np.array(pred)\n",
    "true_labels =np.array(true)\n",
    "\n",
    "\n",
    "\n",
    "# Calculate precision, recall, and F1 score for each class\n",
    "precision, recall, f1, _ = precision_recall_fscore_support(true_labels, pred, average=None)\n",
    "\n",
    "# Get the unique labels\n",
    "labels =np.array([0,1])\n",
    "\n",
    "# Print the precision, recall, and F1 score for each class\n",
    "for i, label in enumerate(labels):\n",
    "    print(f\"Class {label}:\")\n",
    "    print(f\"  Precision: {precision[i]:.2f}\")\n",
    "    print(f\"  Recall:    {recall[i]:.2f}\")\n",
    "    print(f\"  F1 Score:  {f1[i]:.2f}\")\n",
    "\n",
    "# Optionally, you can calculate the average scores\n",
    "avg_precision, avg_recall, avg_f1, _ = precision_recall_fscore_support(true_labels, pred, average='weighted')\n",
    "\n",
    "print(f\"\\nAverage Precision: {avg_precision:.2f}\")\n",
    "print(f\"Average Recall:    {avg_recall:.2f}\")\n",
    "print(f\"Average F1 Score:  {avg_f1:.2f}\")\n",
    "\n",
    "# Compute accuracy\n",
    "accuracy = accuracy_score(true_labels, pred)\n",
    "print(f'Accuracy: {accuracy:.2f}')\n",
    "\n",
    "# Print the number of samples for each class and total samples\n",
    "unique, counts = np.unique(true_labels, return_counts=True)\n",
    "class_distribution = dict(zip(unique, counts))\n",
    "total_samples = len(true_labels)\n",
    "print(f'Class Distribution: {class_distribution}')\n",
    "print(f'Total Samples: {total_samples}')\n",
    "\n",
    "# Compute confusion matrix\n",
    "cm = confusion_matrix(true_labels, pred)\n",
    "disp = ConfusionMatrixDisplay(confusion_matrix=cm, display_labels=labels)\n",
    "\n",
    "# Plot confusion matrix\n",
    "disp.plot(cmap=plt.cm.Blues)\n",
    "plt.title(\"Confusion Matrix\")\n",
    "plt.show()"
   ]
  },
  {
   "cell_type": "code",
   "execution_count": 27,
   "id": "9c8902df",
   "metadata": {
    "execution": {
     "iopub.execute_input": "2025-01-01T15:46:33.255771Z",
     "iopub.status.busy": "2025-01-01T15:46:33.255456Z",
     "iopub.status.idle": "2025-01-01T15:46:33.263198Z",
     "shell.execute_reply": "2025-01-01T15:46:33.262469Z"
    },
    "papermill": {
     "duration": 0.602095,
     "end_time": "2025-01-01T15:46:33.264454",
     "exception": false,
     "start_time": "2025-01-01T15:46:32.662359",
     "status": "completed"
    },
    "tags": []
   },
   "outputs": [
    {
     "data": {
      "text/html": [
       "<div>\n",
       "<style scoped>\n",
       "    .dataframe tbody tr th:only-of-type {\n",
       "        vertical-align: middle;\n",
       "    }\n",
       "\n",
       "    .dataframe tbody tr th {\n",
       "        vertical-align: top;\n",
       "    }\n",
       "\n",
       "    .dataframe thead th {\n",
       "        text-align: right;\n",
       "    }\n",
       "</style>\n",
       "<table border=\"1\" class=\"dataframe\">\n",
       "  <thead>\n",
       "    <tr style=\"text-align: right;\">\n",
       "      <th></th>\n",
       "      <th>id</th>\n",
       "      <th>parent_comment</th>\n",
       "      <th>label</th>\n",
       "      <th>comment</th>\n",
       "    </tr>\n",
       "  </thead>\n",
       "  <tbody>\n",
       "    <tr>\n",
       "      <th>3524</th>\n",
       "      <td>7682</td>\n",
       "      <td>পরীমনির পেজের প্রফাইলটা দেখেন ও মানুষ না আর্জে...</td>\n",
       "      <td>1</td>\n",
       "      <td>উচিৎ থাকা লজ্জা ছি বইচে ঝর প্রশংসার আবার নিয়ে ...</td>\n",
       "    </tr>\n",
       "    <tr>\n",
       "      <th>11178</th>\n",
       "      <td>27904</td>\n",
       "      <td>ঢপ এর চপ এমন ভাও খাচ্ছে যেনো বোকাচোদার সিরিয়াল</td>\n",
       "      <td>1</td>\n",
       "      <td>সিরিয়াল বোকাচোদার যেনো খাচ্ছে ভাও এমন চপ এর ঢপ</td>\n",
       "    </tr>\n",
       "    <tr>\n",
       "      <th>24525</th>\n",
       "      <td>25185</td>\n",
       "      <td>হেলমেট ছাড়া বেরোলে ঠিকই কেউ না কেউ বলবে ওদিকে...</td>\n",
       "      <td>0</td>\n",
       "      <td>ধরছে পুলিশ না যাবেন ওদিকে বলবে কেউ না কেউ ঠিকই...</td>\n",
       "    </tr>\n",
       "  </tbody>\n",
       "</table>\n",
       "</div>"
      ],
      "text/plain": [
       "          id                                     parent_comment  label  \\\n",
       "3524    7682  পরীমনির পেজের প্রফাইলটা দেখেন ও মানুষ না আর্জে...      1   \n",
       "11178  27904    ঢপ এর চপ এমন ভাও খাচ্ছে যেনো বোকাচোদার সিরিয়াল      1   \n",
       "24525  25185  হেলমেট ছাড়া বেরোলে ঠিকই কেউ না কেউ বলবে ওদিকে...      0   \n",
       "\n",
       "                                                 comment  \n",
       "3524   উচিৎ থাকা লজ্জা ছি বইচে ঝর প্রশংসার আবার নিয়ে ...  \n",
       "11178    সিরিয়াল বোকাচোদার যেনো খাচ্ছে ভাও এমন চপ এর ঢপ  \n",
       "24525  ধরছে পুলিশ না যাবেন ওদিকে বলবে কেউ না কেউ ঠিকই...  "
      ]
     },
     "execution_count": 27,
     "metadata": {},
     "output_type": "execute_result"
    }
   ],
   "source": [
    "eval_df.head(3)"
   ]
  },
  {
   "cell_type": "code",
   "execution_count": 28,
   "id": "625e0c34",
   "metadata": {
    "execution": {
     "iopub.execute_input": "2025-01-01T15:46:34.352494Z",
     "iopub.status.busy": "2025-01-01T15:46:34.351994Z",
     "iopub.status.idle": "2025-01-01T15:46:34.355437Z",
     "shell.execute_reply": "2025-01-01T15:46:34.354728Z"
    },
    "papermill": {
     "duration": 0.542883,
     "end_time": "2025-01-01T15:46:34.356602",
     "exception": false,
     "start_time": "2025-01-01T15:46:33.813719",
     "status": "completed"
    },
    "tags": []
   },
   "outputs": [],
   "source": [
    "# def preprocess_function(context,text):\n",
    "#     parent_encoding = tokenizer(context, padding=\"max_length\", truncation=True, max_length=128)\n",
    "#     text_encoding = tokenizer(context, padding=\"max_length\", truncation=True, max_length=128)\n",
    "    \n",
    "#     return {\n",
    "#         'input_ids1': parent_encoding['input_ids'],\n",
    "#         'attention_mask1': parent_encoding['attention_mask'],\n",
    "#         'input_ids2': text_encoding['input_ids'],\n",
    "#         'attention_mask2': text_encoding['attention_mask'],\n",
    "#     }"
   ]
  },
  {
   "cell_type": "code",
   "execution_count": 29,
   "id": "a7bba0fa",
   "metadata": {
    "execution": {
     "iopub.execute_input": "2025-01-01T15:46:35.480652Z",
     "iopub.status.busy": "2025-01-01T15:46:35.480352Z",
     "iopub.status.idle": "2025-01-01T15:46:35.483823Z",
     "shell.execute_reply": "2025-01-01T15:46:35.482928Z"
    },
    "papermill": {
     "duration": 0.541335,
     "end_time": "2025-01-01T15:46:35.485108",
     "exception": false,
     "start_time": "2025-01-01T15:46:34.943773",
     "status": "completed"
    },
    "tags": []
   },
   "outputs": [],
   "source": [
    "#batch=preprocess_function(data2.iloc[1011]['parent_comment'],data2.iloc[1011]['comment'])"
   ]
  },
  {
   "cell_type": "code",
   "execution_count": 30,
   "id": "7033071a",
   "metadata": {
    "execution": {
     "iopub.execute_input": "2025-01-01T15:46:36.618662Z",
     "iopub.status.busy": "2025-01-01T15:46:36.618368Z",
     "iopub.status.idle": "2025-01-01T15:46:36.621472Z",
     "shell.execute_reply": "2025-01-01T15:46:36.620806Z"
    },
    "papermill": {
     "duration": 0.544685,
     "end_time": "2025-01-01T15:46:36.622857",
     "exception": false,
     "start_time": "2025-01-01T15:46:36.078172",
     "status": "completed"
    },
    "tags": []
   },
   "outputs": [],
   "source": [
    "# with torch.no_grad():\n",
    "#     text_input_ids1 = torch.tensor(batch['input_ids1']).unsqueeze(dim=0).to(device)\n",
    "#     text_attention_mask1 = torch.tensor(batch['attention_mask1']).unsqueeze(dim=0).to(device)\n",
    "#     text_input_ids2 =torch.tensor(batch['input_ids2']).unsqueeze(dim=0).to(device)\n",
    "#     text_attention_mask2 = torch.tensor(batch['attention_mask2']).unsqueeze(dim=0).to(device)\n",
    "    \n",
    "#     outputs = model(text_input_ids1, text_attention_mask1, text_input_ids2, text_attention_mask2).squeeze()\n",
    "#     print(np.argmax(outputs.cpu()))\n",
    "#     print(outputs)"
   ]
  },
  {
   "cell_type": "markdown",
   "id": "698199bf",
   "metadata": {
    "papermill": {
     "duration": 0.59767,
     "end_time": "2025-01-01T15:46:37.759676",
     "exception": false,
     "start_time": "2025-01-01T15:46:37.162006",
     "status": "completed"
    },
    "tags": []
   },
   "source": [
    "# Using Concatenation Technique"
   ]
  },
  {
   "cell_type": "code",
   "execution_count": 31,
   "id": "1b5f5c20",
   "metadata": {
    "execution": {
     "iopub.execute_input": "2025-01-01T15:46:38.916211Z",
     "iopub.status.busy": "2025-01-01T15:46:38.915900Z",
     "iopub.status.idle": "2025-01-01T15:46:38.923986Z",
     "shell.execute_reply": "2025-01-01T15:46:38.923156Z"
    },
    "papermill": {
     "duration": 0.601865,
     "end_time": "2025-01-01T15:46:38.925180",
     "exception": false,
     "start_time": "2025-01-01T15:46:38.323315",
     "status": "completed"
    },
    "tags": []
   },
   "outputs": [
    {
     "data": {
      "text/html": [
       "<div>\n",
       "<style scoped>\n",
       "    .dataframe tbody tr th:only-of-type {\n",
       "        vertical-align: middle;\n",
       "    }\n",
       "\n",
       "    .dataframe tbody tr th {\n",
       "        vertical-align: top;\n",
       "    }\n",
       "\n",
       "    .dataframe thead th {\n",
       "        text-align: right;\n",
       "    }\n",
       "</style>\n",
       "<table border=\"1\" class=\"dataframe\">\n",
       "  <thead>\n",
       "    <tr style=\"text-align: right;\">\n",
       "      <th></th>\n",
       "      <th>id</th>\n",
       "      <th>parent_comment</th>\n",
       "      <th>label</th>\n",
       "      <th>comment</th>\n",
       "    </tr>\n",
       "  </thead>\n",
       "  <tbody>\n",
       "    <tr>\n",
       "      <th>0</th>\n",
       "      <td>0</td>\n",
       "      <td>শুধু মাত্র এই পোস্টে কমেন্ট করার জন্য বাড়ির এ...</td>\n",
       "      <td>1</td>\n",
       "      <td>ছিলাম বসে কিনে বি এম করে বিক্রি ঘোড়া পাড়া ডি...</td>\n",
       "    </tr>\n",
       "    <tr>\n",
       "      <th>1</th>\n",
       "      <td>2</td>\n",
       "      <td>সাথে আছে বুক ভরা চুল ।</td>\n",
       "      <td>1</td>\n",
       "      <td>। চুল ভরা বুক আছে সাথে</td>\n",
       "    </tr>\n",
       "    <tr>\n",
       "      <th>2</th>\n",
       "      <td>4</td>\n",
       "      <td>ভাই মিথ্যা কথা বইলেন না আপনি ভিপিএন ইউজ করে পো...</td>\n",
       "      <td>1</td>\n",
       "      <td>। না পারলাম যেতে এড়িয়ে বিষয়টি তাই রঙমিস্ত্রি এ...</td>\n",
       "    </tr>\n",
       "  </tbody>\n",
       "</table>\n",
       "</div>"
      ],
      "text/plain": [
       "   id                                     parent_comment  label  \\\n",
       "0   0  শুধু মাত্র এই পোস্টে কমেন্ট করার জন্য বাড়ির এ...      1   \n",
       "1   2                             সাথে আছে বুক ভরা চুল ।      1   \n",
       "2   4  ভাই মিথ্যা কথা বইলেন না আপনি ভিপিএন ইউজ করে পো...      1   \n",
       "\n",
       "                                             comment  \n",
       "0  ছিলাম বসে কিনে বি এম করে বিক্রি ঘোড়া পাড়া ডি...  \n",
       "1                             । চুল ভরা বুক আছে সাথে  \n",
       "2  । না পারলাম যেতে এড়িয়ে বিষয়টি তাই রঙমিস্ত্রি এ...  "
      ]
     },
     "execution_count": 31,
     "metadata": {},
     "output_type": "execute_result"
    }
   ],
   "source": [
    "data_twitter_df.head(3)"
   ]
  },
  {
   "cell_type": "code",
   "execution_count": 32,
   "id": "a8e960fe",
   "metadata": {
    "execution": {
     "iopub.execute_input": "2025-01-01T15:46:39.993109Z",
     "iopub.status.busy": "2025-01-01T15:46:39.992825Z",
     "iopub.status.idle": "2025-01-01T15:46:39.995727Z",
     "shell.execute_reply": "2025-01-01T15:46:39.995069Z"
    },
    "papermill": {
     "duration": 0.53996,
     "end_time": "2025-01-01T15:46:39.997008",
     "exception": false,
     "start_time": "2025-01-01T15:46:39.457048",
     "status": "completed"
    },
    "tags": []
   },
   "outputs": [],
   "source": [
    "# def concat_function(comment, parent):\n",
    "#     return comment + \" \" + parent\n",
    "\n",
    "# data_twitter_df['text'] = data_twitter_df.apply(lambda x: concat_function(x['comment'], x['parent_comment']), axis=1)"
   ]
  },
  {
   "cell_type": "code",
   "execution_count": 33,
   "id": "a92e0b98",
   "metadata": {
    "execution": {
     "iopub.execute_input": "2025-01-01T15:46:41.122421Z",
     "iopub.status.busy": "2025-01-01T15:46:41.122108Z",
     "iopub.status.idle": "2025-01-01T15:46:41.130095Z",
     "shell.execute_reply": "2025-01-01T15:46:41.129216Z"
    },
    "papermill": {
     "duration": 0.543743,
     "end_time": "2025-01-01T15:46:41.131664",
     "exception": false,
     "start_time": "2025-01-01T15:46:40.587921",
     "status": "completed"
    },
    "tags": []
   },
   "outputs": [
    {
     "data": {
      "text/html": [
       "<div>\n",
       "<style scoped>\n",
       "    .dataframe tbody tr th:only-of-type {\n",
       "        vertical-align: middle;\n",
       "    }\n",
       "\n",
       "    .dataframe tbody tr th {\n",
       "        vertical-align: top;\n",
       "    }\n",
       "\n",
       "    .dataframe thead th {\n",
       "        text-align: right;\n",
       "    }\n",
       "</style>\n",
       "<table border=\"1\" class=\"dataframe\">\n",
       "  <thead>\n",
       "    <tr style=\"text-align: right;\">\n",
       "      <th></th>\n",
       "      <th>id</th>\n",
       "      <th>parent_comment</th>\n",
       "      <th>label</th>\n",
       "      <th>comment</th>\n",
       "    </tr>\n",
       "  </thead>\n",
       "  <tbody>\n",
       "    <tr>\n",
       "      <th>0</th>\n",
       "      <td>0</td>\n",
       "      <td>শুধু মাত্র এই পোস্টে কমেন্ট করার জন্য বাড়ির এ...</td>\n",
       "      <td>1</td>\n",
       "      <td>ছিলাম বসে কিনে বি এম করে বিক্রি ঘোড়া পাড়া ডি...</td>\n",
       "    </tr>\n",
       "    <tr>\n",
       "      <th>1</th>\n",
       "      <td>2</td>\n",
       "      <td>সাথে আছে বুক ভরা চুল ।</td>\n",
       "      <td>1</td>\n",
       "      <td>। চুল ভরা বুক আছে সাথে</td>\n",
       "    </tr>\n",
       "  </tbody>\n",
       "</table>\n",
       "</div>"
      ],
      "text/plain": [
       "   id                                     parent_comment  label  \\\n",
       "0   0  শুধু মাত্র এই পোস্টে কমেন্ট করার জন্য বাড়ির এ...      1   \n",
       "1   2                             সাথে আছে বুক ভরা চুল ।      1   \n",
       "\n",
       "                                             comment  \n",
       "0  ছিলাম বসে কিনে বি এম করে বিক্রি ঘোড়া পাড়া ডি...  \n",
       "1                             । চুল ভরা বুক আছে সাথে  "
      ]
     },
     "execution_count": 33,
     "metadata": {},
     "output_type": "execute_result"
    }
   ],
   "source": [
    "data_twitter_df.head(2)"
   ]
  },
  {
   "cell_type": "code",
   "execution_count": 34,
   "id": "9ae4be6c",
   "metadata": {
    "execution": {
     "iopub.execute_input": "2025-01-01T15:46:42.257591Z",
     "iopub.status.busy": "2025-01-01T15:46:42.257078Z",
     "iopub.status.idle": "2025-01-01T15:46:42.268197Z",
     "shell.execute_reply": "2025-01-01T15:46:42.267475Z"
    },
    "papermill": {
     "duration": 0.600869,
     "end_time": "2025-01-01T15:46:42.269387",
     "exception": false,
     "start_time": "2025-01-01T15:46:41.668518",
     "status": "completed"
    },
    "tags": []
   },
   "outputs": [
    {
     "data": {
      "text/html": [
       "<div>\n",
       "<style scoped>\n",
       "    .dataframe tbody tr th:only-of-type {\n",
       "        vertical-align: middle;\n",
       "    }\n",
       "\n",
       "    .dataframe tbody tr th {\n",
       "        vertical-align: top;\n",
       "    }\n",
       "\n",
       "    .dataframe thead th {\n",
       "        text-align: right;\n",
       "    }\n",
       "</style>\n",
       "<table border=\"1\" class=\"dataframe\">\n",
       "  <thead>\n",
       "    <tr style=\"text-align: right;\">\n",
       "      <th></th>\n",
       "      <th>parent_comment</th>\n",
       "      <th>label</th>\n",
       "    </tr>\n",
       "  </thead>\n",
       "  <tbody>\n",
       "    <tr>\n",
       "      <th>0</th>\n",
       "      <td>শুধু মাত্র এই পোস্টে কমেন্ট করার জন্য বাড়ির এ...</td>\n",
       "      <td>1</td>\n",
       "    </tr>\n",
       "    <tr>\n",
       "      <th>1</th>\n",
       "      <td>সাথে আছে বুক ভরা চুল ।</td>\n",
       "      <td>1</td>\n",
       "    </tr>\n",
       "    <tr>\n",
       "      <th>2</th>\n",
       "      <td>ভাই মিথ্যা কথা বইলেন না আপনি ভিপিএন ইউজ করে পো...</td>\n",
       "      <td>1</td>\n",
       "    </tr>\n",
       "    <tr>\n",
       "      <th>3</th>\n",
       "      <td>দিঠি আর ডিংকার তো ইদুরের মত দাঁত আছে । ওরা জাল...</td>\n",
       "      <td>1</td>\n",
       "    </tr>\n",
       "    <tr>\n",
       "      <th>4</th>\n",
       "      <td>ওদেরকে পানির জাহাজে নেওয়া হোক । তারা বিশেষ বিম...</td>\n",
       "      <td>1</td>\n",
       "    </tr>\n",
       "    <tr>\n",
       "      <th>...</th>\n",
       "      <td>...</td>\n",
       "      <td>...</td>\n",
       "    </tr>\n",
       "    <tr>\n",
       "      <th>25631</th>\n",
       "      <td>যাকে জনগণই চায় না তাহলে সে কেন আবার মুখ্যমন্ত...</td>\n",
       "      <td>0</td>\n",
       "    </tr>\n",
       "    <tr>\n",
       "      <th>25632</th>\n",
       "      <td>এক কথায় একজন টেস্ট ব্যাটসম্যানের জন্য যে সকল ...</td>\n",
       "      <td>0</td>\n",
       "    </tr>\n",
       "    <tr>\n",
       "      <th>25633</th>\n",
       "      <td>সেনাবাহিনী সবসময়ই অসাধারণ</td>\n",
       "      <td>0</td>\n",
       "    </tr>\n",
       "    <tr>\n",
       "      <th>25634</th>\n",
       "      <td>যারা মিলাতে পারে তারা পুরা পাগল । আপনি আধা পাগল !</td>\n",
       "      <td>0</td>\n",
       "    </tr>\n",
       "    <tr>\n",
       "      <th>25635</th>\n",
       "      <td>ঢাকা শহরকে হার মানালো</td>\n",
       "      <td>0</td>\n",
       "    </tr>\n",
       "  </tbody>\n",
       "</table>\n",
       "<p>25636 rows × 2 columns</p>\n",
       "</div>"
      ],
      "text/plain": [
       "                                          parent_comment  label\n",
       "0      শুধু মাত্র এই পোস্টে কমেন্ট করার জন্য বাড়ির এ...      1\n",
       "1                                 সাথে আছে বুক ভরা চুল ।      1\n",
       "2      ভাই মিথ্যা কথা বইলেন না আপনি ভিপিএন ইউজ করে পো...      1\n",
       "3      দিঠি আর ডিংকার তো ইদুরের মত দাঁত আছে । ওরা জাল...      1\n",
       "4      ওদেরকে পানির জাহাজে নেওয়া হোক । তারা বিশেষ বিম...      1\n",
       "...                                                  ...    ...\n",
       "25631  যাকে জনগণই চায় না তাহলে সে কেন আবার মুখ্যমন্ত...      0\n",
       "25632  এক কথায় একজন টেস্ট ব্যাটসম্যানের জন্য যে সকল ...      0\n",
       "25633                          সেনাবাহিনী সবসময়ই অসাধারণ      0\n",
       "25634  যারা মিলাতে পারে তারা পুরা পাগল । আপনি আধা পাগল !      0\n",
       "25635                              ঢাকা শহরকে হার মানালো      0\n",
       "\n",
       "[25636 rows x 2 columns]"
      ]
     },
     "execution_count": 34,
     "metadata": {},
     "output_type": "execute_result"
    }
   ],
   "source": [
    "data_twitter_df_concat=data_twitter_df[['parent_comment','label']]\n",
    "data_twitter_df_concat"
   ]
  },
  {
   "cell_type": "code",
   "execution_count": 35,
   "id": "8f4ffea9",
   "metadata": {
    "execution": {
     "iopub.execute_input": "2025-01-01T15:46:43.387987Z",
     "iopub.status.busy": "2025-01-01T15:46:43.387650Z",
     "iopub.status.idle": "2025-01-01T15:46:43.403362Z",
     "shell.execute_reply": "2025-01-01T15:46:43.402655Z"
    },
    "papermill": {
     "duration": 0.605893,
     "end_time": "2025-01-01T15:46:43.404600",
     "exception": false,
     "start_time": "2025-01-01T15:46:42.798707",
     "status": "completed"
    },
    "tags": []
   },
   "outputs": [
    {
     "data": {
      "text/html": [
       "<div>\n",
       "<style scoped>\n",
       "    .dataframe tbody tr th:only-of-type {\n",
       "        vertical-align: middle;\n",
       "    }\n",
       "\n",
       "    .dataframe tbody tr th {\n",
       "        vertical-align: top;\n",
       "    }\n",
       "\n",
       "    .dataframe thead th {\n",
       "        text-align: right;\n",
       "    }\n",
       "</style>\n",
       "<table border=\"1\" class=\"dataframe\">\n",
       "  <thead>\n",
       "    <tr style=\"text-align: right;\">\n",
       "      <th></th>\n",
       "      <th>parent_comment</th>\n",
       "      <th>label</th>\n",
       "    </tr>\n",
       "  </thead>\n",
       "  <tbody>\n",
       "    <tr>\n",
       "      <th>24108</th>\n",
       "      <td>আমার ভাই এবং বাবাকে নিয়ে নােয়াখালী সদর থানায...</td>\n",
       "      <td>0</td>\n",
       "    </tr>\n",
       "    <tr>\n",
       "      <th>16703</th>\n",
       "      <td>যদি ডট বল করাতে চাও তবে আমাকে ডাকো সুনীল নারিন...</td>\n",
       "      <td>0</td>\n",
       "    </tr>\n",
       "    <tr>\n",
       "      <th>9138</th>\n",
       "      <td>কেউ অক্সিজেন না পেয়ে মরে আর কেউ বিয়ে করে মরে ।</td>\n",
       "      <td>1</td>\n",
       "    </tr>\n",
       "  </tbody>\n",
       "</table>\n",
       "</div>"
      ],
      "text/plain": [
       "                                          parent_comment  label\n",
       "24108  আমার ভাই এবং বাবাকে নিয়ে নােয়াখালী সদর থানায...      0\n",
       "16703  যদি ডট বল করাতে চাও তবে আমাকে ডাকো সুনীল নারিন...      0\n",
       "9138      কেউ অক্সিজেন না পেয়ে মরে আর কেউ বিয়ে করে মরে ।      1"
      ]
     },
     "execution_count": 35,
     "metadata": {},
     "output_type": "execute_result"
    }
   ],
   "source": [
    "train_df, eval_df = train_test_split(data_twitter_df_concat, test_size=0.2, random_state=42, stratify=data_twitter_df_concat['label'])\n",
    "\n",
    "\n",
    "train_df.head(3)"
   ]
  },
  {
   "cell_type": "code",
   "execution_count": 36,
   "id": "c004ca67",
   "metadata": {
    "execution": {
     "iopub.execute_input": "2025-01-01T15:46:44.488433Z",
     "iopub.status.busy": "2025-01-01T15:46:44.488145Z",
     "iopub.status.idle": "2025-01-01T15:46:44.494064Z",
     "shell.execute_reply": "2025-01-01T15:46:44.493306Z"
    },
    "papermill": {
     "duration": 0.553925,
     "end_time": "2025-01-01T15:46:44.495276",
     "exception": false,
     "start_time": "2025-01-01T15:46:43.941351",
     "status": "completed"
    },
    "tags": []
   },
   "outputs": [
    {
     "data": {
      "text/plain": [
       "label\n",
       "0    10254\n",
       "1    10254\n",
       "Name: count, dtype: int64"
      ]
     },
     "execution_count": 36,
     "metadata": {},
     "output_type": "execute_result"
    }
   ],
   "source": [
    "train_df.label.value_counts()"
   ]
  },
  {
   "cell_type": "code",
   "execution_count": 37,
   "id": "e2fe3bc9",
   "metadata": {
    "execution": {
     "iopub.execute_input": "2025-01-01T15:46:45.620663Z",
     "iopub.status.busy": "2025-01-01T15:46:45.620370Z",
     "iopub.status.idle": "2025-01-01T15:46:45.626361Z",
     "shell.execute_reply": "2025-01-01T15:46:45.625499Z"
    },
    "papermill": {
     "duration": 0.547463,
     "end_time": "2025-01-01T15:46:45.627788",
     "exception": false,
     "start_time": "2025-01-01T15:46:45.080325",
     "status": "completed"
    },
    "tags": []
   },
   "outputs": [
    {
     "data": {
      "text/plain": [
       "label\n",
       "1    2564\n",
       "0    2564\n",
       "Name: count, dtype: int64"
      ]
     },
     "execution_count": 37,
     "metadata": {},
     "output_type": "execute_result"
    }
   ],
   "source": [
    "eval_df.label.value_counts()"
   ]
  },
  {
   "cell_type": "code",
   "execution_count": 38,
   "id": "400cc828",
   "metadata": {
    "execution": {
     "iopub.execute_input": "2025-01-01T15:46:46.751209Z",
     "iopub.status.busy": "2025-01-01T15:46:46.750890Z",
     "iopub.status.idle": "2025-01-01T15:46:46.755618Z",
     "shell.execute_reply": "2025-01-01T15:46:46.754816Z"
    },
    "papermill": {
     "duration": 0.597831,
     "end_time": "2025-01-01T15:46:46.756851",
     "exception": false,
     "start_time": "2025-01-01T15:46:46.159020",
     "status": "completed"
    },
    "tags": []
   },
   "outputs": [
    {
     "data": {
      "text/plain": [
       "'csebuetnlp/banglabert'"
      ]
     },
     "execution_count": 38,
     "metadata": {},
     "output_type": "execute_result"
    }
   ],
   "source": [
    "model_checkpoint"
   ]
  },
  {
   "cell_type": "code",
   "execution_count": 39,
   "id": "fdf71ba9",
   "metadata": {
    "execution": {
     "iopub.execute_input": "2025-01-01T15:46:47.913947Z",
     "iopub.status.busy": "2025-01-01T15:46:47.913550Z",
     "iopub.status.idle": "2025-01-01T15:46:47.919875Z",
     "shell.execute_reply": "2025-01-01T15:46:47.918838Z"
    },
    "papermill": {
     "duration": 0.616812,
     "end_time": "2025-01-01T15:46:47.921961",
     "exception": false,
     "start_time": "2025-01-01T15:46:47.305149",
     "status": "completed"
    },
    "tags": []
   },
   "outputs": [
    {
     "data": {
      "text/plain": [
       "ElectraTokenizerFast(name_or_path='csebuetnlp/banglabert', vocab_size=32000, model_max_length=1000000000000000019884624838656, is_fast=True, padding_side='right', truncation_side='right', special_tokens={'unk_token': '[UNK]', 'sep_token': '[SEP]', 'pad_token': '[PAD]', 'cls_token': '[CLS]', 'mask_token': '[MASK]'}, clean_up_tokenization_spaces=True),  added_tokens_decoder={\n",
       "\t0: AddedToken(\"[PAD]\", rstrip=False, lstrip=False, single_word=False, normalized=False, special=True),\n",
       "\t1: AddedToken(\"[UNK]\", rstrip=False, lstrip=False, single_word=False, normalized=False, special=True),\n",
       "\t2: AddedToken(\"[CLS]\", rstrip=False, lstrip=False, single_word=False, normalized=False, special=True),\n",
       "\t3: AddedToken(\"[SEP]\", rstrip=False, lstrip=False, single_word=False, normalized=False, special=True),\n",
       "\t4: AddedToken(\"[MASK]\", rstrip=False, lstrip=False, single_word=False, normalized=False, special=True),\n",
       "}"
      ]
     },
     "execution_count": 39,
     "metadata": {},
     "output_type": "execute_result"
    }
   ],
   "source": [
    "tokenizer"
   ]
  },
  {
   "cell_type": "code",
   "execution_count": 40,
   "id": "e6f8db07",
   "metadata": {
    "execution": {
     "iopub.execute_input": "2025-01-01T15:46:49.015581Z",
     "iopub.status.busy": "2025-01-01T15:46:49.015259Z",
     "iopub.status.idle": "2025-01-01T15:46:49.021744Z",
     "shell.execute_reply": "2025-01-01T15:46:49.020986Z"
    },
    "papermill": {
     "duration": 0.538998,
     "end_time": "2025-01-01T15:46:49.023113",
     "exception": false,
     "start_time": "2025-01-01T15:46:48.484115",
     "status": "completed"
    },
    "tags": []
   },
   "outputs": [
    {
     "name": "stdout",
     "output_type": "stream",
     "text": [
      " Original:  আমি তোমাকে ভালবাসি।\n",
      "Tokenized:  ['আমি', 'তোমাকে', 'ভালবাসি', '।']\n",
      "Token IDs:  [857, 1934, 9463, 205]\n"
     ]
    }
   ],
   "source": [
    "# Print the original sentence.\n",
    "dem = 'আমি তোমাকে ভালবাসি।'\n",
    "print(' Original: ', dem)\n",
    "\n",
    "# Print the sentence split into tokens.\n",
    "print('Tokenized: ', tokenizer.tokenize(dem))\n",
    "\n",
    "# Print the sentence mapped to token ids.\n",
    "print('Token IDs: ', tokenizer.convert_tokens_to_ids(tokenizer.tokenize(dem)))"
   ]
  },
  {
   "cell_type": "code",
   "execution_count": null,
   "id": "14dcb3d1",
   "metadata": {
    "papermill": {
     "duration": 0.533621,
     "end_time": "2025-01-01T15:46:50.153079",
     "exception": false,
     "start_time": "2025-01-01T15:46:49.619458",
     "status": "completed"
    },
    "tags": []
   },
   "outputs": [],
   "source": []
  },
  {
   "cell_type": "code",
   "execution_count": 41,
   "id": "6e4f67a5",
   "metadata": {
    "execution": {
     "iopub.execute_input": "2025-01-01T15:46:51.281657Z",
     "iopub.status.busy": "2025-01-01T15:46:51.281337Z",
     "iopub.status.idle": "2025-01-01T15:47:09.097295Z",
     "shell.execute_reply": "2025-01-01T15:47:09.096417Z"
    },
    "papermill": {
     "duration": 18.402373,
     "end_time": "2025-01-01T15:47:09.098603",
     "exception": false,
     "start_time": "2025-01-01T15:46:50.696230",
     "status": "completed"
    },
    "tags": []
   },
   "outputs": [
    {
     "name": "stderr",
     "output_type": "stream",
     "text": [
      "/usr/local/lib/python3.10/dist-packages/transformers/tokenization_utils_base.py:1601: FutureWarning: `clean_up_tokenization_spaces` was not set. It will be set to `True` by default. This behavior will be depracted in transformers v4.45, and will be then set to `False` by default. For more details check this issue: https://github.com/huggingface/transformers/issues/31884\n",
      "  warnings.warn(\n"
     ]
    },
    {
     "data": {
      "application/vnd.jupyter.widget-view+json": {
       "model_id": "0ee9d509d87c478788788ad1bb4ddf2d",
       "version_major": 2,
       "version_minor": 0
      },
      "text/plain": [
       "Map:   0%|          | 0/20508 [00:00<?, ? examples/s]"
      ]
     },
     "metadata": {},
     "output_type": "display_data"
    },
    {
     "data": {
      "application/vnd.jupyter.widget-view+json": {
       "model_id": "a79ceccab0f64aa2b360f1627b459562",
       "version_major": 2,
       "version_minor": 0
      },
      "text/plain": [
       "Map:   0%|          | 0/5128 [00:00<?, ? examples/s]"
      ]
     },
     "metadata": {},
     "output_type": "display_data"
    }
   ],
   "source": [
    "from transformers import AutoTokenizer,BertForSequenceClassification, Trainer, TrainingArguments,BertConfig\n",
    "from datasets import Dataset, DatasetDict\n",
    "from sklearn.model_selection import train_test_split\n",
    "\n",
    "from transformers import AutoTokenizer\n",
    "# train_df=augment_text(train_df)\n",
    "# print('augmentation finished..')\n",
    "# # Convert the pandas DataFrames to Hugging Face Datasets.\n",
    "train_dataset = Dataset.from_pandas(train_df)\n",
    "\n",
    "eval_dataset = Dataset.from_pandas(eval_df)\n",
    "\n",
    "# Create a DatasetDict to hold the training and evaluation datasets.\n",
    "dataset_dict = DatasetDict({\n",
    "    'train': train_dataset,\n",
    "    'eval': eval_dataset\n",
    "})\n",
    "\n",
    "# Specify the checkpoint of the pre-trained model to use for tokenization.\n",
    "# model_checkpoint ='bert-base-uncased'\n",
    "\n",
    "# Load the tokenizer from the specified checkpoint.\n",
    "tokenizer = AutoTokenizer.from_pretrained(model_checkpoint)\n",
    "\n",
    "# Define a function to tokenize the input examples.\n",
    "def tokenize_function(examples):\n",
    "    return tokenizer(examples['parent_comment'], truncation=True)\n",
    "\n",
    "# Apply the tokenization function to the datasets.\n",
    "# This tokenizes the 'text' field in each example, with batched processing for efficiency.\n",
    "tokenized_datasets = dataset_dict.map(tokenize_function, batched=True)"
   ]
  },
  {
   "cell_type": "code",
   "execution_count": 42,
   "id": "8ea1f118",
   "metadata": {
    "execution": {
     "iopub.execute_input": "2025-01-01T15:47:10.226101Z",
     "iopub.status.busy": "2025-01-01T15:47:10.225765Z",
     "iopub.status.idle": "2025-01-01T15:47:10.495687Z",
     "shell.execute_reply": "2025-01-01T15:47:10.494908Z"
    },
    "papermill": {
     "duration": 0.860928,
     "end_time": "2025-01-01T15:47:10.497046",
     "exception": false,
     "start_time": "2025-01-01T15:47:09.636118",
     "status": "completed"
    },
    "tags": []
   },
   "outputs": [
    {
     "data": {
      "text/plain": [
       "ElectraForSequenceClassification(\n",
       "  (electra): ElectraModel(\n",
       "    (embeddings): ElectraEmbeddings(\n",
       "      (word_embeddings): Embedding(32000, 768, padding_idx=0)\n",
       "      (position_embeddings): Embedding(512, 768)\n",
       "      (token_type_embeddings): Embedding(2, 768)\n",
       "      (LayerNorm): LayerNorm((768,), eps=1e-12, elementwise_affine=True)\n",
       "      (dropout): Dropout(p=0.1, inplace=False)\n",
       "    )\n",
       "    (encoder): ElectraEncoder(\n",
       "      (layer): ModuleList(\n",
       "        (0-11): 12 x ElectraLayer(\n",
       "          (attention): ElectraAttention(\n",
       "            (self): ElectraSelfAttention(\n",
       "              (query): Linear(in_features=768, out_features=768, bias=True)\n",
       "              (key): Linear(in_features=768, out_features=768, bias=True)\n",
       "              (value): Linear(in_features=768, out_features=768, bias=True)\n",
       "              (dropout): Dropout(p=0.1, inplace=False)\n",
       "            )\n",
       "            (output): ElectraSelfOutput(\n",
       "              (dense): Linear(in_features=768, out_features=768, bias=True)\n",
       "              (LayerNorm): LayerNorm((768,), eps=1e-12, elementwise_affine=True)\n",
       "              (dropout): Dropout(p=0.1, inplace=False)\n",
       "            )\n",
       "          )\n",
       "          (intermediate): ElectraIntermediate(\n",
       "            (dense): Linear(in_features=768, out_features=3072, bias=True)\n",
       "            (intermediate_act_fn): GELUActivation()\n",
       "          )\n",
       "          (output): ElectraOutput(\n",
       "            (dense): Linear(in_features=3072, out_features=768, bias=True)\n",
       "            (LayerNorm): LayerNorm((768,), eps=1e-12, elementwise_affine=True)\n",
       "            (dropout): Dropout(p=0.1, inplace=False)\n",
       "          )\n",
       "        )\n",
       "      )\n",
       "    )\n",
       "  )\n",
       "  (classifier): ElectraClassificationHead(\n",
       "    (dense): Linear(in_features=768, out_features=768, bias=True)\n",
       "    (activation): GELUActivation()\n",
       "    (dropout): Dropout(p=0.1, inplace=False)\n",
       "    (out_proj): Linear(in_features=768, out_features=2, bias=True)\n",
       "  )\n",
       ")"
      ]
     },
     "execution_count": 42,
     "metadata": {},
     "output_type": "execute_result"
    }
   ],
   "source": [
    "from transformers import BertForSequenceClassification,AutoModelForSequenceClassification, TrainingArguments, Trainer, BertConfig, DataCollatorWithPadding\n",
    "from sklearn.metrics import accuracy_score\n",
    "# model_checkpoint='bert-base-uncased'\n",
    "\n",
    "def compute_metrics(p):\n",
    "    logits, labels = p\n",
    "    predictions = logits.argmax(axis=-1)  # Get the predicted class\n",
    "    accuracy = accuracy_score(labels, predictions)\n",
    "    return {\"accuracy\": accuracy}\n",
    "# Load the configuration for BERT model from a pretrained model directory.\n",
    "# Adjust the dropout probabilities and specify the number of output labels.\n",
    "#model_config = BertConfig.from_pretrained(model_checkpoint, hidden_dropout_prob=0.40,  attention_probs_dropout_prob=0.15, num_labels=2)\n",
    "\n",
    "# Load the BERT model for sequence classification from a pretrained model directory.\n",
    "# The model is trained on a specific dataset relevant to the task.\n",
    "model = AutoModelForSequenceClassification.from_pretrained(model_checkpoint, num_labels=2)\n",
    "\n",
    "model"
   ]
  },
  {
   "cell_type": "code",
   "execution_count": 43,
   "id": "f25cdab8",
   "metadata": {
    "execution": {
     "iopub.execute_input": "2025-01-01T15:47:11.629826Z",
     "iopub.status.busy": "2025-01-01T15:47:11.629471Z",
     "iopub.status.idle": "2025-01-01T16:06:46.740209Z",
     "shell.execute_reply": "2025-01-01T16:06:46.739162Z"
    },
    "papermill": {
     "duration": 1176.274779,
     "end_time": "2025-01-01T16:06:47.307832",
     "exception": false,
     "start_time": "2025-01-01T15:47:11.033053",
     "status": "completed"
    },
    "tags": []
   },
   "outputs": [
    {
     "name": "stderr",
     "output_type": "stream",
     "text": [
      "/usr/local/lib/python3.10/dist-packages/transformers/training_args.py:1525: FutureWarning: `evaluation_strategy` is deprecated and will be removed in version 4.46 of 🤗 Transformers. Use `eval_strategy` instead\n",
      "  warnings.warn(\n",
      "/usr/local/lib/python3.10/dist-packages/torch/nn/parallel/_functions.py:68: UserWarning: Was asked to gather along dimension 0, but all input tensors were scalars; will instead unsqueeze and return a vector.\n",
      "  warnings.warn('Was asked to gather along dimension 0, but all '\n"
     ]
    },
    {
     "name": "stdout",
     "output_type": "stream",
     "text": [
      "{'loss': 0.5293, 'grad_norm': 4.334847450256348, 'learning_rate': 1.8049921996879874e-05, 'epoch': 0.39001560062402496}\n",
      "{'loss': 0.4794, 'grad_norm': 6.228850841522217, 'learning_rate': 1.609984399375975e-05, 'epoch': 0.7800312012480499}\n",
      "{'eval_loss': 0.4753488302230835, 'eval_accuracy': 0.7952418096723869, 'eval_runtime': 21.501, 'eval_samples_per_second': 238.501, 'eval_steps_per_second': 14.93, 'epoch': 1.0}\n"
     ]
    },
    {
     "name": "stderr",
     "output_type": "stream",
     "text": [
      "/usr/local/lib/python3.10/dist-packages/torch/nn/parallel/_functions.py:68: UserWarning: Was asked to gather along dimension 0, but all input tensors were scalars; will instead unsqueeze and return a vector.\n",
      "  warnings.warn('Was asked to gather along dimension 0, but all '\n"
     ]
    },
    {
     "name": "stdout",
     "output_type": "stream",
     "text": [
      "{'loss': 0.4098, 'grad_norm': 5.050482749938965, 'learning_rate': 1.4149765990639625e-05, 'epoch': 1.1700468018720749}\n",
      "{'loss': 0.3317, 'grad_norm': 11.208963394165039, 'learning_rate': 1.2199687987519501e-05, 'epoch': 1.5600624024960998}\n",
      "{'loss': 0.3387, 'grad_norm': 11.362199783325195, 'learning_rate': 1.0249609984399376e-05, 'epoch': 1.9500780031201248}\n",
      "{'eval_loss': 0.4732106029987335, 'eval_accuracy': 0.8028471138845554, 'eval_runtime': 21.2455, 'eval_samples_per_second': 241.369, 'eval_steps_per_second': 15.109, 'epoch': 2.0}\n"
     ]
    },
    {
     "name": "stderr",
     "output_type": "stream",
     "text": [
      "/usr/local/lib/python3.10/dist-packages/torch/nn/parallel/_functions.py:68: UserWarning: Was asked to gather along dimension 0, but all input tensors were scalars; will instead unsqueeze and return a vector.\n",
      "  warnings.warn('Was asked to gather along dimension 0, but all '\n"
     ]
    },
    {
     "name": "stdout",
     "output_type": "stream",
     "text": [
      "{'loss': 0.2303, 'grad_norm': 0.45234838128089905, 'learning_rate': 8.299531981279252e-06, 'epoch': 2.3400936037441498}\n",
      "{'loss': 0.2106, 'grad_norm': 0.7836577296257019, 'learning_rate': 6.349453978159127e-06, 'epoch': 2.7301092043681745}\n",
      "{'eval_loss': 0.7198939323425293, 'eval_accuracy': 0.7923166926677067, 'eval_runtime': 21.2881, 'eval_samples_per_second': 240.886, 'eval_steps_per_second': 15.079, 'epoch': 3.0}\n"
     ]
    },
    {
     "name": "stderr",
     "output_type": "stream",
     "text": [
      "/usr/local/lib/python3.10/dist-packages/torch/nn/parallel/_functions.py:68: UserWarning: Was asked to gather along dimension 0, but all input tensors were scalars; will instead unsqueeze and return a vector.\n",
      "  warnings.warn('Was asked to gather along dimension 0, but all '\n"
     ]
    },
    {
     "name": "stdout",
     "output_type": "stream",
     "text": [
      "{'loss': 0.1863, 'grad_norm': 1.423093557357788, 'learning_rate': 4.399375975039002e-06, 'epoch': 3.1201248049921997}\n",
      "{'loss': 0.127, 'grad_norm': 1.3339552879333496, 'learning_rate': 2.449297971918877e-06, 'epoch': 3.510140405616225}\n",
      "{'loss': 0.1425, 'grad_norm': 12.379219055175781, 'learning_rate': 4.99219968798752e-07, 'epoch': 3.9001560062402496}\n",
      "{'eval_loss': 0.9197904467582703, 'eval_accuracy': 0.7794461778471139, 'eval_runtime': 21.2619, 'eval_samples_per_second': 241.183, 'eval_steps_per_second': 15.097, 'epoch': 4.0}\n",
      "{'train_runtime': 1173.8403, 'train_samples_per_second': 69.883, 'train_steps_per_second': 4.369, 'train_loss': 0.2939455113061319, 'epoch': 4.0}\n"
     ]
    },
    {
     "data": {
      "text/plain": [
       "TrainOutput(global_step=5128, training_loss=0.2939455113061319, metrics={'train_runtime': 1173.8403, 'train_samples_per_second': 69.883, 'train_steps_per_second': 4.369, 'train_loss': 0.2939455113061319, 'epoch': 4.0})"
      ]
     },
     "execution_count": 43,
     "metadata": {},
     "output_type": "execute_result"
    }
   ],
   "source": [
    "\n",
    "\n",
    "# Create a data collator that dynamically pads the inputs to the longest sequence in a batch.\n",
    "data_collator = DataCollatorWithPadding(tokenizer=tokenizer)\n",
    "\n",
    "# Define the training arguments for the Trainer with no model saving.\n",
    "training_args = TrainingArguments(\n",
    "    output_dir=\"./results\",              # Directory to save training logs (if any).\n",
    "    evaluation_strategy=\"epoch\",         # Evaluate the model at the end of each epoch.\n",
    "    save_strategy=\"no\",                  # Do not save the model during or after training.\n",
    "    learning_rate=2e-5,                  # Learning rate for the optimizer.\n",
    "    per_device_train_batch_size=8,      # Batch size for training.\n",
    "    per_device_eval_batch_size=8,       # Batch size for evaluation.\n",
    "    num_train_epochs=4,                  # Number of epochs to train the model.\n",
    "    weight_decay=0.01,                   # Weight decay to apply (if any).\n",
    "    load_best_model_at_end=False,        # Do not load the best model at the end of training.\n",
    "    report_to=\"none\"                     # Disable logging to W&B.\n",
    ")\n",
    "\n",
    "# Initialize the Trainer with the model, training arguments, datasets, tokenizer, and data collator.\n",
    "trainer = Trainer(\n",
    "    model=model,                          # The model to train.\n",
    "    args=training_args,                   # Training arguments.\n",
    "    train_dataset=tokenized_datasets['train'],  # Training dataset.\n",
    "    eval_dataset=tokenized_datasets['eval'],    # Evaluation dataset.\n",
    "    tokenizer=tokenizer,                  # Tokenizer used for preprocessing.\n",
    "    data_collator=data_collator,          # Data collator for dynamic padding.\n",
    "    compute_metrics=compute_metrics       # Compute accuracy metric.\n",
    ")\n",
    "\n",
    "# Start the training process.\n",
    "trainer.train()\n"
   ]
  },
  {
   "cell_type": "code",
   "execution_count": 44,
   "id": "2ddd0b40",
   "metadata": {
    "execution": {
     "iopub.execute_input": "2025-01-01T16:06:48.492361Z",
     "iopub.status.busy": "2025-01-01T16:06:48.492062Z",
     "iopub.status.idle": "2025-01-01T16:06:48.499236Z",
     "shell.execute_reply": "2025-01-01T16:06:48.498481Z"
    },
    "papermill": {
     "duration": 0.57814,
     "end_time": "2025-01-01T16:06:48.500504",
     "exception": false,
     "start_time": "2025-01-01T16:06:47.922364",
     "status": "completed"
    },
    "tags": []
   },
   "outputs": [
    {
     "data": {
      "text/plain": [
       "ElectraForSequenceClassification(\n",
       "  (electra): ElectraModel(\n",
       "    (embeddings): ElectraEmbeddings(\n",
       "      (word_embeddings): Embedding(32000, 768, padding_idx=0)\n",
       "      (position_embeddings): Embedding(512, 768)\n",
       "      (token_type_embeddings): Embedding(2, 768)\n",
       "      (LayerNorm): LayerNorm((768,), eps=1e-12, elementwise_affine=True)\n",
       "      (dropout): Dropout(p=0.1, inplace=False)\n",
       "    )\n",
       "    (encoder): ElectraEncoder(\n",
       "      (layer): ModuleList(\n",
       "        (0-11): 12 x ElectraLayer(\n",
       "          (attention): ElectraAttention(\n",
       "            (self): ElectraSelfAttention(\n",
       "              (query): Linear(in_features=768, out_features=768, bias=True)\n",
       "              (key): Linear(in_features=768, out_features=768, bias=True)\n",
       "              (value): Linear(in_features=768, out_features=768, bias=True)\n",
       "              (dropout): Dropout(p=0.1, inplace=False)\n",
       "            )\n",
       "            (output): ElectraSelfOutput(\n",
       "              (dense): Linear(in_features=768, out_features=768, bias=True)\n",
       "              (LayerNorm): LayerNorm((768,), eps=1e-12, elementwise_affine=True)\n",
       "              (dropout): Dropout(p=0.1, inplace=False)\n",
       "            )\n",
       "          )\n",
       "          (intermediate): ElectraIntermediate(\n",
       "            (dense): Linear(in_features=768, out_features=3072, bias=True)\n",
       "            (intermediate_act_fn): GELUActivation()\n",
       "          )\n",
       "          (output): ElectraOutput(\n",
       "            (dense): Linear(in_features=3072, out_features=768, bias=True)\n",
       "            (LayerNorm): LayerNorm((768,), eps=1e-12, elementwise_affine=True)\n",
       "            (dropout): Dropout(p=0.1, inplace=False)\n",
       "          )\n",
       "        )\n",
       "      )\n",
       "    )\n",
       "  )\n",
       "  (classifier): ElectraClassificationHead(\n",
       "    (dense): Linear(in_features=768, out_features=768, bias=True)\n",
       "    (activation): GELUActivation()\n",
       "    (dropout): Dropout(p=0.1, inplace=False)\n",
       "    (out_proj): Linear(in_features=768, out_features=2, bias=True)\n",
       "  )\n",
       ")"
      ]
     },
     "execution_count": 44,
     "metadata": {},
     "output_type": "execute_result"
    }
   ],
   "source": [
    "model"
   ]
  },
  {
   "cell_type": "code",
   "execution_count": 45,
   "id": "205ea3d6",
   "metadata": {
    "execution": {
     "iopub.execute_input": "2025-01-01T16:06:49.655927Z",
     "iopub.status.busy": "2025-01-01T16:06:49.655589Z",
     "iopub.status.idle": "2025-01-01T16:07:11.940780Z",
     "shell.execute_reply": "2025-01-01T16:07:11.939957Z"
    },
    "papermill": {
     "duration": 22.894009,
     "end_time": "2025-01-01T16:07:11.942519",
     "exception": false,
     "start_time": "2025-01-01T16:06:49.048510",
     "status": "completed"
    },
    "tags": []
   },
   "outputs": [
    {
     "name": "stderr",
     "output_type": "stream",
     "text": [
      "/usr/local/lib/python3.10/dist-packages/torch/nn/parallel/_functions.py:68: UserWarning: Was asked to gather along dimension 0, but all input tensors were scalars; will instead unsqueeze and return a vector.\n",
      "  warnings.warn('Was asked to gather along dimension 0, but all '\n"
     ]
    },
    {
     "name": "stdout",
     "output_type": "stream",
     "text": [
      "Class 0:\n",
      "  Precision: 0.74\n",
      "  Recall:    0.87\n",
      "  F1 Score:  0.80\n",
      "Class 1:\n",
      "  Precision: 0.84\n",
      "  Recall:    0.69\n",
      "  F1 Score:  0.76\n",
      "\n",
      "Average Precision: 0.79\n",
      "Average Recall:    0.78\n",
      "Average F1 Score:  0.78\n",
      "Accuracy: 0.78\n",
      "Class Distribution: {0: 2564, 1: 2564}\n",
      "Total Samples: 5128\n"
     ]
    },
    {
     "data": {
      "image/png": "[encoded data removed]",
      "text/plain": [
       "<Figure size 640x480 with 2 Axes>"
      ]
     },
     "metadata": {},
     "output_type": "display_data"
    },
    {
     "data": {
      "image/png": "[encoded data removed]",
      "text/plain": [
       "<Figure size 640x480 with 1 Axes>"
      ]
     },
     "metadata": {},
     "output_type": "display_data"
    }
   ],
   "source": [
    "import matplotlib.pyplot as plt\n",
    "from sklearn.metrics import confusion_matrix, ConfusionMatrixDisplay, roc_curve, auc, accuracy_score\n",
    "import numpy as np\n",
    "from sklearn.metrics import precision_recall_fscore_support\n",
    "import numpy as np\n",
    "\n",
    "# Generate predictions and true labels\n",
    "predictions = trainer.predict(tokenized_datasets['eval'])\n",
    "preds = np.argmax(predictions.predictions, axis=1)\n",
    "true_labels = predictions.label_ids\n",
    "\n",
    "\n",
    "\n",
    "# Calculate precision, recall, and F1 score for each class\n",
    "precision, recall, f1, _ = precision_recall_fscore_support(true_labels, preds, average=None)\n",
    "\n",
    "# Get the unique labels\n",
    "labels = np.unique(true_labels)\n",
    "\n",
    "# Print the precision, recall, and F1 score for each class\n",
    "for i, label in enumerate(labels):\n",
    "    print(f\"Class {label}:\")\n",
    "    print(f\"  Precision: {precision[i]:.2f}\")\n",
    "    print(f\"  Recall:    {recall[i]:.2f}\")\n",
    "    print(f\"  F1 Score:  {f1[i]:.2f}\")\n",
    "\n",
    "# Optionally, you can calculate the average scores\n",
    "avg_precision, avg_recall, avg_f1, _ = precision_recall_fscore_support(true_labels, preds, average='weighted')\n",
    "\n",
    "print(f\"\\nAverage Precision: {avg_precision:.2f}\")\n",
    "print(f\"Average Recall:    {avg_recall:.2f}\")\n",
    "print(f\"Average F1 Score:  {avg_f1:.2f}\")\n",
    "\n",
    "# Compute accuracy\n",
    "accuracy = accuracy_score(true_labels, preds)\n",
    "print(f'Accuracy: {accuracy:.2f}')\n",
    "\n",
    "# Print the number of samples for each class and total samples\n",
    "unique, counts = np.unique(true_labels, return_counts=True)\n",
    "class_distribution = dict(zip(unique, counts))\n",
    "total_samples = len(true_labels)\n",
    "print(f'Class Distribution: {class_distribution}')\n",
    "print(f'Total Samples: {total_samples}')\n",
    "\n",
    "# Compute confusion matrix\n",
    "cm = confusion_matrix(true_labels, preds)\n",
    "disp = ConfusionMatrixDisplay(confusion_matrix=cm, display_labels=model.config.id2label)\n",
    "\n",
    "# Plot confusion matrix\n",
    "disp.plot(cmap=plt.cm.Blues)\n",
    "plt.title(\"Confusion Matrix\")\n",
    "plt.show()\n",
    "\n",
    "# Compute ROC curve and ROC area for each class\n",
    "fpr = dict()\n",
    "tpr = dict()\n",
    "roc_auc = dict()\n",
    "num_classes = model.config.num_labels\n",
    "\n",
    "for i in range(num_classes):\n",
    "    fpr[i], tpr[i], _ = roc_curve(true_labels, predictions.predictions[:, i], pos_label=i)\n",
    "    roc_auc[i] = auc(fpr[i], tpr[i])\n",
    "\n",
    "# Plot ROC curve for each class\n",
    "plt.figure()\n",
    "colors = ['darkorange', 'blue', 'green', 'red']\n",
    "for i in range(num_classes):\n",
    "    plt.plot(fpr[i], tpr[i], color=colors[i % len(colors)], lw=2, label=f'Class {i} ROC curve (area = {roc_auc[i]:.2f})')\n",
    "\n",
    "plt.plot([0, 1], [0, 1], color='navy', lw=2, linestyle='--')\n",
    "plt.xlim([0.0, 1.0])\n",
    "plt.ylim([0.0, 1.05])\n",
    "plt.xlabel('False Positive Rate')\n",
    "plt.ylabel('True Positive Rate')\n",
    "plt.title('Receiver Operating Characteristic for Each Class')\n",
    "plt.legend(loc=\"lower right\")\n",
    "plt.show()"
   ]
  },
  {
   "cell_type": "code",
   "execution_count": 46,
   "id": "702b3f55",
   "metadata": {
    "execution": {
     "iopub.execute_input": "2025-01-01T16:07:13.128675Z",
     "iopub.status.busy": "2025-01-01T16:07:13.128342Z",
     "iopub.status.idle": "2025-01-01T16:07:13.132414Z",
     "shell.execute_reply": "2025-01-01T16:07:13.131543Z"
    },
    "papermill": {
     "duration": 0.615188,
     "end_time": "2025-01-01T16:07:13.133778",
     "exception": false,
     "start_time": "2025-01-01T16:07:12.518590",
     "status": "completed"
    },
    "tags": []
   },
   "outputs": [],
   "source": [
    "eval_df.reset_index(drop=True, inplace=True)"
   ]
  },
  {
   "cell_type": "code",
   "execution_count": 47,
   "id": "245b7df0",
   "metadata": {
    "execution": {
     "iopub.execute_input": "2025-01-01T16:07:14.238993Z",
     "iopub.status.busy": "2025-01-01T16:07:14.238655Z",
     "iopub.status.idle": "2025-01-01T16:07:14.246631Z",
     "shell.execute_reply": "2025-01-01T16:07:14.245811Z"
    },
    "papermill": {
     "duration": 0.562675,
     "end_time": "2025-01-01T16:07:14.248033",
     "exception": false,
     "start_time": "2025-01-01T16:07:13.685358",
     "status": "completed"
    },
    "tags": []
   },
   "outputs": [
    {
     "data": {
      "text/html": [
       "<div>\n",
       "<style scoped>\n",
       "    .dataframe tbody tr th:only-of-type {\n",
       "        vertical-align: middle;\n",
       "    }\n",
       "\n",
       "    .dataframe tbody tr th {\n",
       "        vertical-align: top;\n",
       "    }\n",
       "\n",
       "    .dataframe thead th {\n",
       "        text-align: right;\n",
       "    }\n",
       "</style>\n",
       "<table border=\"1\" class=\"dataframe\">\n",
       "  <thead>\n",
       "    <tr style=\"text-align: right;\">\n",
       "      <th></th>\n",
       "      <th>parent_comment</th>\n",
       "      <th>label</th>\n",
       "    </tr>\n",
       "  </thead>\n",
       "  <tbody>\n",
       "    <tr>\n",
       "      <th>0</th>\n",
       "      <td>পরীমনির পেজের প্রফাইলটা দেখেন ও মানুষ না আর্জে...</td>\n",
       "      <td>1</td>\n",
       "    </tr>\n",
       "    <tr>\n",
       "      <th>1</th>\n",
       "      <td>ঢপ এর চপ এমন ভাও খাচ্ছে যেনো বোকাচোদার সিরিয়াল</td>\n",
       "      <td>1</td>\n",
       "    </tr>\n",
       "    <tr>\n",
       "      <th>2</th>\n",
       "      <td>হেলমেট ছাড়া বেরোলে ঠিকই কেউ না কেউ বলবে ওদিকে...</td>\n",
       "      <td>0</td>\n",
       "    </tr>\n",
       "    <tr>\n",
       "      <th>3</th>\n",
       "      <td>ক্ষেত মার্কা নাটক সব কাঁনামাছি ভোঁ ভোঁ যাকে পা...</td>\n",
       "      <td>1</td>\n",
       "    </tr>\n",
       "    <tr>\n",
       "      <th>4</th>\n",
       "      <td>মরন এক মাস ধরে আসছে । কিসে আসছে গো জুলু কাকু ক...</td>\n",
       "      <td>1</td>\n",
       "    </tr>\n",
       "    <tr>\n",
       "      <th>5</th>\n",
       "      <td>রমজান মাস উপলক্ষে হলেও মেয়েটা একটু সংযত হয়েছে ...</td>\n",
       "      <td>0</td>\n",
       "    </tr>\n",
       "    <tr>\n",
       "      <th>6</th>\n",
       "      <td>দলে এমন খেলোয়ার বড়ই প্রয়োজন ।</td>\n",
       "      <td>0</td>\n",
       "    </tr>\n",
       "    <tr>\n",
       "      <th>7</th>\n",
       "      <td>তার আত্মার মাগফিরাত কামনা করছি ।</td>\n",
       "      <td>0</td>\n",
       "    </tr>\n",
       "    <tr>\n",
       "      <th>8</th>\n",
       "      <td>অনেকদিন দিন পর ট্রাম্প কাকু কে দেখলাম ।</td>\n",
       "      <td>1</td>\n",
       "    </tr>\n",
       "    <tr>\n",
       "      <th>9</th>\n",
       "      <td>তোমার এই ছবি দেখে অনেক ছেলের গিটারের তার ছিড়ে ...</td>\n",
       "      <td>1</td>\n",
       "    </tr>\n",
       "  </tbody>\n",
       "</table>\n",
       "</div>"
      ],
      "text/plain": [
       "                                      parent_comment  label\n",
       "0  পরীমনির পেজের প্রফাইলটা দেখেন ও মানুষ না আর্জে...      1\n",
       "1    ঢপ এর চপ এমন ভাও খাচ্ছে যেনো বোকাচোদার সিরিয়াল      1\n",
       "2  হেলমেট ছাড়া বেরোলে ঠিকই কেউ না কেউ বলবে ওদিকে...      0\n",
       "3  ক্ষেত মার্কা নাটক সব কাঁনামাছি ভোঁ ভোঁ যাকে পা...      1\n",
       "4  মরন এক মাস ধরে আসছে । কিসে আসছে গো জুলু কাকু ক...      1\n",
       "5  রমজান মাস উপলক্ষে হলেও মেয়েটা একটু সংযত হয়েছে ...      0\n",
       "6                      দলে এমন খেলোয়ার বড়ই প্রয়োজন ।      0\n",
       "7                   তার আত্মার মাগফিরাত কামনা করছি ।      0\n",
       "8            অনেকদিন দিন পর ট্রাম্প কাকু কে দেখলাম ।      1\n",
       "9  তোমার এই ছবি দেখে অনেক ছেলের গিটারের তার ছিড়ে ...      1"
      ]
     },
     "execution_count": 47,
     "metadata": {},
     "output_type": "execute_result"
    }
   ],
   "source": [
    "eval_df.head(10)"
   ]
  },
  {
   "cell_type": "code",
   "execution_count": 48,
   "id": "092d1d55",
   "metadata": {
    "execution": {
     "iopub.execute_input": "2025-01-01T16:07:15.407628Z",
     "iopub.status.busy": "2025-01-01T16:07:15.407329Z",
     "iopub.status.idle": "2025-01-01T16:07:15.412175Z",
     "shell.execute_reply": "2025-01-01T16:07:15.411461Z"
    },
    "papermill": {
     "duration": 0.553618,
     "end_time": "2025-01-01T16:07:15.413436",
     "exception": false,
     "start_time": "2025-01-01T16:07:14.859818",
     "status": "completed"
    },
    "tags": []
   },
   "outputs": [
    {
     "data": {
      "text/plain": [
       "'তার আত্মার মাগফিরাত কামনা করছি ।'"
      ]
     },
     "execution_count": 48,
     "metadata": {},
     "output_type": "execute_result"
    }
   ],
   "source": [
    "text = eval_df['parent_comment'][7]\n",
    "text"
   ]
  },
  {
   "cell_type": "code",
   "execution_count": 49,
   "id": "ca1ce163",
   "metadata": {
    "execution": {
     "iopub.execute_input": "2025-01-01T16:07:16.571430Z",
     "iopub.status.busy": "2025-01-01T16:07:16.571139Z",
     "iopub.status.idle": "2025-01-01T16:07:16.667929Z",
     "shell.execute_reply": "2025-01-01T16:07:16.667024Z"
    },
    "papermill": {
     "duration": 0.705534,
     "end_time": "2025-01-01T16:07:16.669434",
     "exception": false,
     "start_time": "2025-01-01T16:07:15.963900",
     "status": "completed"
    },
    "tags": []
   },
   "outputs": [
    {
     "data": {
      "text/plain": [
       "0"
      ]
     },
     "execution_count": 49,
     "metadata": {},
     "output_type": "execute_result"
    }
   ],
   "source": [
    "def predict(text):\n",
    "    # Tokenize the input text\n",
    "    inputs = tokenizer(text, return_tensors='pt', truncation=True, padding=True, max_length=128)\n",
    "    \n",
    "    # Move inputs to the same device as the model (GPU or CPU)\n",
    "    device = torch.device(\"cuda\" if torch.cuda.is_available() else \"cpu\")\n",
    "    model.to(device)\n",
    "    inputs = {key: value.to(device) for key, value in inputs.items()}\n",
    "    \n",
    "    # Make predictions\n",
    "    with torch.no_grad():\n",
    "        outputs = model(**inputs)\n",
    "        logits = outputs.logits\n",
    "    \n",
    "    # Get the predicted class (0 or 1)\n",
    "    predicted_class = torch.argmax(logits, dim=-1).item()\n",
    "\n",
    "    return predicted_class\n",
    "\n",
    "predict(text)"
   ]
  },
  {
   "cell_type": "code",
   "execution_count": 50,
   "id": "abe1de38",
   "metadata": {
    "execution": {
     "iopub.execute_input": "2025-01-01T16:07:17.841705Z",
     "iopub.status.busy": "2025-01-01T16:07:17.841400Z",
     "iopub.status.idle": "2025-01-01T16:07:17.846382Z",
     "shell.execute_reply": "2025-01-01T16:07:17.845658Z"
    },
    "papermill": {
     "duration": 0.623789,
     "end_time": "2025-01-01T16:07:17.847609",
     "exception": false,
     "start_time": "2025-01-01T16:07:17.223820",
     "status": "completed"
    },
    "tags": []
   },
   "outputs": [
    {
     "data": {
      "text/plain": [
       "array([0, 1, 0, 1, 1, 0, 0, 0, 1, 1])"
      ]
     },
     "execution_count": 50,
     "metadata": {},
     "output_type": "execute_result"
    }
   ],
   "source": [
    "preds[:10]"
   ]
  },
  {
   "cell_type": "code",
   "execution_count": 51,
   "id": "12a57f4b",
   "metadata": {
    "execution": {
     "iopub.execute_input": "2025-01-01T16:07:18.965436Z",
     "iopub.status.busy": "2025-01-01T16:07:18.965141Z",
     "iopub.status.idle": "2025-01-01T16:07:18.970124Z",
     "shell.execute_reply": "2025-01-01T16:07:18.969411Z"
    },
    "papermill": {
     "duration": 0.554246,
     "end_time": "2025-01-01T16:07:18.971337",
     "exception": false,
     "start_time": "2025-01-01T16:07:18.417091",
     "status": "completed"
    },
    "tags": []
   },
   "outputs": [
    {
     "data": {
      "text/plain": [
       "array([1, 1, 0, 1, 1, 0, 0, 0, 1, 1])"
      ]
     },
     "execution_count": 51,
     "metadata": {},
     "output_type": "execute_result"
    }
   ],
   "source": [
    "true_labels[:10]"
   ]
  },
  {
   "cell_type": "markdown",
   "id": "fb836cdd",
   "metadata": {
    "papermill": {
     "duration": 0.547836,
     "end_time": "2025-01-01T16:07:20.127539",
     "exception": false,
     "start_time": "2025-01-01T16:07:19.579703",
     "status": "completed"
    },
    "tags": []
   },
   "source": [
    "# Semiase Architecture"
   ]
  },
  {
   "cell_type": "code",
   "execution_count": 52,
   "id": "d7d16af8",
   "metadata": {
    "execution": {
     "iopub.execute_input": "2025-01-01T16:07:21.281851Z",
     "iopub.status.busy": "2025-01-01T16:07:21.281500Z",
     "iopub.status.idle": "2025-01-01T16:07:21.290423Z",
     "shell.execute_reply": "2025-01-01T16:07:21.289699Z"
    },
    "papermill": {
     "duration": 0.616725,
     "end_time": "2025-01-01T16:07:21.291704",
     "exception": false,
     "start_time": "2025-01-01T16:07:20.674979",
     "status": "completed"
    },
    "tags": []
   },
   "outputs": [],
   "source": [
    "import torch\n",
    "from torch.utils.data import Dataset\n",
    "\n",
    "class MultiFeatureDataset(Dataset):\n",
    "    def __init__(self, dataframe, tokenizer, max_len):\n",
    "        self.tokenizer = tokenizer\n",
    "        self.data = dataframe\n",
    "        self.comment = dataframe['comment']\n",
    "        self.parent=dataframe['parent_comment']\n",
    "        self.labels = dataframe.label\n",
    "        self.max_len = max_len\n",
    "\n",
    "    def __len__(self):\n",
    "        return len(self.data)\n",
    "    \n",
    "    def __getitem__(self, index):\n",
    "        if index >= len(self.data):\n",
    "            raise IndexError(f\"Index {index} out of range\")\n",
    "        comment = str(self.comment.iloc[index])\n",
    "        parent = str(self.parent.iloc[index])\n",
    "        label = self.labels.iloc[index]\n",
    "\n",
    "\n",
    " \n",
    "        comment_encoding = self.tokenizer.encode_plus(\n",
    "            comment,\n",
    "            add_special_tokens=True,\n",
    "            max_length=self.max_len,\n",
    "            return_token_type_ids=False,\n",
    "            padding='max_length',\n",
    "            truncation=True,\n",
    "            return_attention_mask=True,\n",
    "            return_tensors='pt',\n",
    "        )\n",
    "\n",
    "        parent_encoding = self.tokenizer.encode_plus(\n",
    "            parent,\n",
    "            add_special_tokens=True,\n",
    "            max_length=self.max_len,\n",
    "            return_token_type_ids=False,\n",
    "            padding='max_length',\n",
    "            truncation=True,\n",
    "            return_attention_mask=True,\n",
    "            return_tensors='pt',\n",
    "        )\n",
    "\n",
    "        return {\n",
    "        'input_ids1': parent_encoding['input_ids'].flatten(),\n",
    "        'attention_mask1': parent_encoding['attention_mask'].flatten(),\n",
    "        'input_ids2': comment_encoding['input_ids'].flatten(),\n",
    "        'attention_mask2': comment_encoding['attention_mask'].flatten(),\n",
    "        'labels': torch.tensor(label, dtype=torch.long)\n",
    "    }\n"
   ]
  },
  {
   "cell_type": "code",
   "execution_count": 53,
   "id": "14833ff3",
   "metadata": {
    "execution": {
     "iopub.execute_input": "2025-01-01T16:07:22.447454Z",
     "iopub.status.busy": "2025-01-01T16:07:22.447161Z",
     "iopub.status.idle": "2025-01-01T16:07:22.452517Z",
     "shell.execute_reply": "2025-01-01T16:07:22.451831Z"
    },
    "papermill": {
     "duration": 0.613555,
     "end_time": "2025-01-01T16:07:22.453787",
     "exception": false,
     "start_time": "2025-01-01T16:07:21.840232",
     "status": "completed"
    },
    "tags": []
   },
   "outputs": [],
   "source": [
    "import torch\n",
    "import torch.nn as nn\n",
    "from transformers import AutoModel\n",
    "\n",
    "class SemiaseBERT(nn.Module):\n",
    "    def __init__(self, hidden_size=768):\n",
    "        super(SemiaseBERT, self).__init__()\n",
    "        \n",
    "        # Two BERT models: one for each input\n",
    "        self.bert1 = AutoModel.from_pretrained('bert-base-uncased')\n",
    "        self.bert2 = AutoModel.from_pretrained('bert-base-uncased')\n",
    "        \n",
    "        # Fully connected layer for classification\n",
    "        self.fc = nn.Linear(hidden_size * 2, 2)  # Multiply by 2 for concatenation\n",
    "\n",
    "    def forward(self, input_ids1, attention_mask1, input_ids2, attention_mask2):\n",
    "        # Get BERT embeddings (pooled output or CLS token output)\n",
    "        output1 = self.bert1(input_ids=input_ids1, attention_mask=attention_mask1).pooler_output  # [batch_size, hidden_size]\n",
    "        output2 = self.bert2(input_ids=input_ids2, attention_mask=attention_mask2).pooler_output  # [batch_size, hidden_size]\n",
    "        \n",
    "        # Concatenate the pooled outputs\n",
    "        combined = torch.cat((output1, output2), dim=1)  # [batch_size, hidden_size * 2]\n",
    "        \n",
    "        # Pass through the fully connected layer\n",
    "        return self.fc(combined)  # [batch_size, 2]\n",
    "\n"
   ]
  },
  {
   "cell_type": "code",
   "execution_count": 54,
   "id": "9168a0a9",
   "metadata": {
    "execution": {
     "iopub.execute_input": "2025-01-01T16:07:23.548350Z",
     "iopub.status.busy": "2025-01-01T16:07:23.548050Z",
     "iopub.status.idle": "2025-01-01T16:07:23.556004Z",
     "shell.execute_reply": "2025-01-01T16:07:23.555176Z"
    },
    "papermill": {
     "duration": 0.556478,
     "end_time": "2025-01-01T16:07:23.557304",
     "exception": false,
     "start_time": "2025-01-01T16:07:23.000826",
     "status": "completed"
    },
    "tags": []
   },
   "outputs": [
    {
     "data": {
      "text/html": [
       "<div>\n",
       "<style scoped>\n",
       "    .dataframe tbody tr th:only-of-type {\n",
       "        vertical-align: middle;\n",
       "    }\n",
       "\n",
       "    .dataframe tbody tr th {\n",
       "        vertical-align: top;\n",
       "    }\n",
       "\n",
       "    .dataframe thead th {\n",
       "        text-align: right;\n",
       "    }\n",
       "</style>\n",
       "<table border=\"1\" class=\"dataframe\">\n",
       "  <thead>\n",
       "    <tr style=\"text-align: right;\">\n",
       "      <th></th>\n",
       "      <th>id</th>\n",
       "      <th>parent_comment</th>\n",
       "      <th>label</th>\n",
       "      <th>comment</th>\n",
       "    </tr>\n",
       "  </thead>\n",
       "  <tbody>\n",
       "    <tr>\n",
       "      <th>0</th>\n",
       "      <td>0</td>\n",
       "      <td>শুধু মাত্র এই পোস্টে কমেন্ট করার জন্য বাড়ির এ...</td>\n",
       "      <td>1</td>\n",
       "      <td>ছিলাম বসে কিনে বি এম করে বিক্রি ঘোড়া পাড়া ডি...</td>\n",
       "    </tr>\n",
       "    <tr>\n",
       "      <th>1</th>\n",
       "      <td>2</td>\n",
       "      <td>সাথে আছে বুক ভরা চুল ।</td>\n",
       "      <td>1</td>\n",
       "      <td>। চুল ভরা বুক আছে সাথে</td>\n",
       "    </tr>\n",
       "    <tr>\n",
       "      <th>2</th>\n",
       "      <td>4</td>\n",
       "      <td>ভাই মিথ্যা কথা বইলেন না আপনি ভিপিএন ইউজ করে পো...</td>\n",
       "      <td>1</td>\n",
       "      <td>। না পারলাম যেতে এড়িয়ে বিষয়টি তাই রঙমিস্ত্রি এ...</td>\n",
       "    </tr>\n",
       "  </tbody>\n",
       "</table>\n",
       "</div>"
      ],
      "text/plain": [
       "   id                                     parent_comment  label  \\\n",
       "0   0  শুধু মাত্র এই পোস্টে কমেন্ট করার জন্য বাড়ির এ...      1   \n",
       "1   2                             সাথে আছে বুক ভরা চুল ।      1   \n",
       "2   4  ভাই মিথ্যা কথা বইলেন না আপনি ভিপিএন ইউজ করে পো...      1   \n",
       "\n",
       "                                             comment  \n",
       "0  ছিলাম বসে কিনে বি এম করে বিক্রি ঘোড়া পাড়া ডি...  \n",
       "1                             । চুল ভরা বুক আছে সাথে  \n",
       "2  । না পারলাম যেতে এড়িয়ে বিষয়টি তাই রঙমিস্ত্রি এ...  "
      ]
     },
     "execution_count": 54,
     "metadata": {},
     "output_type": "execute_result"
    }
   ],
   "source": [
    "data_twitter_df.head(3)"
   ]
  },
  {
   "cell_type": "code",
   "execution_count": 55,
   "id": "dbce77fb",
   "metadata": {
    "execution": {
     "iopub.execute_input": "2025-01-01T16:07:24.710281Z",
     "iopub.status.busy": "2025-01-01T16:07:24.709983Z",
     "iopub.status.idle": "2025-01-01T16:07:24.713375Z",
     "shell.execute_reply": "2025-01-01T16:07:24.712705Z"
    },
    "papermill": {
     "duration": 0.54821,
     "end_time": "2025-01-01T16:07:24.714606",
     "exception": false,
     "start_time": "2025-01-01T16:07:24.166396",
     "status": "completed"
    },
    "tags": []
   },
   "outputs": [],
   "source": [
    "# import torch\n",
    "# import torch.nn as nn\n",
    "# from torch.utils.data import DataLoader\n",
    "# from transformers import BertTokenizer, AdamW,AutoModel,AutoTokenizer\n",
    "# from tqdm import tqdm  # Import tqdm for progress bars\n",
    "\n",
    "# # Hyperparameters\n",
    "# MAX_LEN = 128\n",
    "# BATCH_SIZE = 16\n",
    "# EPOCHS = 5\n",
    "# LEARNING_RATE = 2e-5\n",
    "\n",
    "# tokenizer = AutoTokenizer.from_pretrained('bert-base-uncased')\n",
    "# train_df, eval_df = train_test_split(data_twitter_df, test_size=0.2, random_state=42, stratify=data_twitter_df['label'])\n",
    "# # Create data loaders\n",
    "# train_dataset = MultiFeatureDataset(train_df, tokenizer, MAX_LEN)\n",
    "# val_dataset = MultiFeatureDataset(eval_df, tokenizer, MAX_LEN)\n",
    "\n",
    "# train_loader = DataLoader(train_dataset, batch_size=BATCH_SIZE, shuffle=True)\n",
    "# val_loader = DataLoader(val_dataset, batch_size=BATCH_SIZE)\n",
    "\n",
    "# # Initialize the model\n",
    "\n",
    "# # Usage\n",
    "# model = SemiaseBERT()\n",
    "# #model.load_state_dict(torch.load('dual_bert_classifier.pth'))\n",
    "\n",
    "\n",
    "# # Optimizer with weight decay\n",
    "# from transformers import AdamW, get_linear_schedule_with_warmup\n",
    "\n",
    "\n",
    "# device = torch.device('cuda' if torch.cuda.is_available() else 'cpu')\n",
    "# model = model.to(device)\n",
    "\n",
    "# optimizer = AdamW(model.parameters(), lr=2e-5, weight_decay=0.01)\n",
    "\n",
    "\n",
    "# model.cuda()"
   ]
  },
  {
   "cell_type": "code",
   "execution_count": 56,
   "id": "1f04d56e",
   "metadata": {
    "execution": {
     "iopub.execute_input": "2025-01-01T16:07:25.871643Z",
     "iopub.status.busy": "2025-01-01T16:07:25.871324Z",
     "iopub.status.idle": "2025-01-01T16:07:25.875426Z",
     "shell.execute_reply": "2025-01-01T16:07:25.874560Z"
    },
    "papermill": {
     "duration": 0.621836,
     "end_time": "2025-01-01T16:07:25.876649",
     "exception": false,
     "start_time": "2025-01-01T16:07:25.254813",
     "status": "completed"
    },
    "tags": []
   },
   "outputs": [],
   "source": [
    "\n",
    "# # Training loop\n",
    "# for epoch in range(EPOCHS):\n",
    "#     model.train()\n",
    "#     running_loss = 0.0\n",
    "#     correct_train = 0\n",
    "#     total_train = 0\n",
    "    \n",
    "#     # Initialize the tqdm progress bar\n",
    "#     progress_bar = tqdm(train_loader, desc=f\"Training Epoch {epoch+1}\", leave=False)\n",
    "    \n",
    "#     for batch_idx,batch in enumerate(progress_bar):\n",
    "#         text_input_ids1 = batch['input_ids1'].to(device)\n",
    "#         text_attention_mask1 = batch['attention_mask1'].to(device)\n",
    "#         text_input_ids2 = batch['input_ids2'].to(device)\n",
    "#         text_attention_mask2 = batch['attention_mask2'].to(device)\n",
    "#         labels = batch['labels'].to(device)\n",
    "        \n",
    "#         optimizer.zero_grad()\n",
    "        \n",
    "#         # Forward pass\n",
    "#         outputs = model(text_input_ids1, text_attention_mask1, text_input_ids2, text_attention_mask2)\n",
    "        \n",
    "#         # Calculate loss\n",
    "#         loss = nn.CrossEntropyLoss()(outputs, labels)\n",
    "        \n",
    "#         # Backward pass and optimization\n",
    "#         loss.backward()\n",
    "#         optimizer.step()\n",
    "        \n",
    "#         # Update running loss and accuracy\n",
    "#         running_loss += loss.item()\n",
    "#         _, predicted = torch.max(outputs.data, 1)\n",
    "#         total_train += labels.size(0)\n",
    "#         correct_train += (predicted == labels).sum().item()\n",
    "        \n",
    "#         avg_loss = running_loss / (batch_idx + 1)\n",
    "\n",
    "#         # Update the progress bar with the average loss\n",
    "#         progress_bar.set_postfix(avg_loss=avg_loss)\n",
    "\n",
    "#     # Optional: Print statistics at the end of each epoch\n",
    "#     epoch_loss = running_loss / len(train_loader)\n",
    "#     epoch_acc = correct_train / total_train\n",
    "#     print(f\"Epoch [{epoch+1}/{EPOCHS}], Loss: {epoch_loss:.4f}, Accuracy: {epoch_acc:.4f}\")\n",
    "#     # Validation\n",
    "#     model.eval()\n",
    "#     val_loss = 0\n",
    "#     correct_val = 0\n",
    "#     total_val = 0\n",
    "#     with torch.no_grad():\n",
    "#         for batch in tqdm(val_loader, desc=f\"Validation Epoch {epoch+1}\", leave=False):\n",
    "#             text_input_ids1 = batch['input_ids1'].to(device)\n",
    "#             text_attention_mask1 = batch['attention_mask1'].to(device)\n",
    "#             text_input_ids2 = batch['input_ids2'].to(device)\n",
    "#             text_attention_mask2 = batch['attention_mask2'].to(device)\n",
    "#             labels = batch['labels'].to(device)\n",
    "            \n",
    "    \n",
    "#             outputs = model(text_input_ids1, text_attention_mask1, text_input_ids2, text_attention_mask2)\n",
    "#             val_loss += nn.CrossEntropyLoss()(outputs, labels).item()\n",
    "#             _, predicted = torch.max(outputs.data, 1)\n",
    "#             total_val += labels.size(0)\n",
    "#             correct_val += (predicted == labels).sum().item()\n",
    "\n",
    "#     val_accuracy = 100 * correct_val / total_val\n",
    "#     print(f'Epoch {epoch+1}/{EPOCHS}, Validation Loss: {val_loss/len(val_loader):.4f}, Validation Accuracy: {val_accuracy:.2f}%')\n",
    "\n",
    "# # Save the model\n",
    "# torch.save(model.state_dict(), 'dual_bert_classifier2.pth')\n"
   ]
  },
  {
   "cell_type": "code",
   "execution_count": 57,
   "id": "8b27b502",
   "metadata": {
    "execution": {
     "iopub.execute_input": "2025-01-01T16:07:26.980251Z",
     "iopub.status.busy": "2025-01-01T16:07:26.979958Z",
     "iopub.status.idle": "2025-01-01T16:07:26.983819Z",
     "shell.execute_reply": "2025-01-01T16:07:26.983091Z"
    },
    "papermill": {
     "duration": 0.564069,
     "end_time": "2025-01-01T16:07:26.985142",
     "exception": false,
     "start_time": "2025-01-01T16:07:26.421073",
     "status": "completed"
    },
    "tags": []
   },
   "outputs": [],
   "source": [
    "\n",
    "# from tqdm import tqdm\n",
    "\n",
    "# def batch_predict(loader):\n",
    "#     model.eval()  # Set the model to evaluation mode\n",
    "#     predictions = []\n",
    "\n",
    "#     with torch.no_grad():\n",
    "#         for batch in tqdm(loader, desc=\"Batch Prediction\", leave=False):\n",
    "#             text_input_ids1 = batch['input_ids1'].to(device)\n",
    "#             text_attention_mask1 = batch['attention_mask1'].to(device)\n",
    "#             text_input_ids2 = batch['input_ids2'].to(device)\n",
    "#             text_attention_mask2 = batch['attention_mask2'].to(device)\n",
    "#             labels = batch['labels'].to(device)\n",
    "#             outputs = model(text_input_ids1, text_attention_mask1, text_input_ids2, text_attention_mask2)\n",
    "#             _, predicted = torch.max(outputs.data, 1)\n",
    "#             predictions.extend(predicted.cpu().numpy())\n",
    "\n",
    "#     return predictions\n",
    "# pred=batch_predict(val_loader)\n",
    "# true=val_dataset.labels\n",
    "\n",
    "# import matplotlib.pyplot as plt\n",
    "# from sklearn.metrics import confusion_matrix, ConfusionMatrixDisplay, roc_curve, auc, accuracy_score\n",
    "# import numpy as np\n",
    "# from sklearn.metrics import precision_recall_fscore_support\n",
    "# import numpy as np\n",
    "# from sklearn.preprocessing import label_binarize\n",
    "\n",
    "\n",
    "# # Generate predictions and true labels\n",
    "\n",
    "# pred = np.array(pred)\n",
    "# true_labels =np.array(true)\n",
    "\n",
    "\n",
    "\n",
    "# # Calculate precision, recall, and F1 score for each class\n",
    "# precision, recall, f1, _ = precision_recall_fscore_support(true_labels, pred, average=None)\n",
    "\n",
    "# # Get the unique labels\n",
    "# labels =np.array([0,1])\n",
    "\n",
    "# # Print the precision, recall, and F1 score for each class\n",
    "# for i, label in enumerate(labels):\n",
    "#     print(f\"Class {label}:\")\n",
    "#     print(f\"  Precision: {precision[i]:.2f}\")\n",
    "#     print(f\"  Recall:    {recall[i]:.2f}\")\n",
    "#     print(f\"  F1 Score:  {f1[i]:.2f}\")\n",
    "\n",
    "# # Optionally, you can calculate the average scores\n",
    "# avg_precision, avg_recall, avg_f1, _ = precision_recall_fscore_support(true_labels, pred, average='weighted')\n",
    "\n",
    "# print(f\"\\nAverage Precision: {avg_precision:.2f}\")\n",
    "# print(f\"Average Recall:    {avg_recall:.2f}\")\n",
    "# print(f\"Average F1 Score:  {avg_f1:.2f}\")\n",
    "\n",
    "# # Compute accuracy\n",
    "# accuracy = accuracy_score(true_labels, pred)\n",
    "# print(f'Accuracy: {accuracy:.2f}')\n",
    "\n",
    "# # Print the number of samples for each class and total samples\n",
    "# unique, counts = np.unique(true_labels, return_counts=True)\n",
    "# class_distribution = dict(zip(unique, counts))\n",
    "# total_samples = len(true_labels)\n",
    "# print(f'Class Distribution: {class_distribution}')\n",
    "# print(f'Total Samples: {total_samples}')\n",
    "\n",
    "# # Compute confusion matrix\n",
    "# cm = confusion_matrix(true_labels, pred)\n",
    "# disp = ConfusionMatrixDisplay(confusion_matrix=cm, display_labels=labels)\n",
    "\n",
    "# # Plot confusion matrix\n",
    "# disp.plot(cmap=plt.cm.Blues)\n",
    "# plt.title(\"Confusion Matrix\")\n",
    "# plt.show()"
   ]
  }
 ],
 "metadata": {
  "kaggle": {
   "accelerator": "nvidiaTeslaT4",
   "dataSources": [
    {
     "datasetId": 113003,
     "sourceId": 269740,
     "sourceType": "datasetVersion"
    },
    {
     "datasetId": 32526,
     "sourceId": 4243451,
     "sourceType": "datasetVersion"
    },
    {
     "datasetId": 5668978,
     "sourceId": 9601762,
     "sourceType": "datasetVersion"
    },
    {
     "datasetId": 4892370,
     "sourceId": 10280684,
     "sourceType": "datasetVersion"
    }
   ],
   "dockerImageVersionId": 30823,
   "isGpuEnabled": true,
   "isInternetEnabled": true,
   "language": "python",
   "sourceType": "notebook"
  },
  "kernelspec": {
   "display_name": "Python 3",
   "language": "python",
   "name": "python3"
  },
  "language_info": {
   "codemirror_mode": {
    "name": "ipython",
    "version": 3
   },
   "file_extension": ".py",
   "mimetype": "text/x-python",
   "name": "python",
   "nbconvert_exporter": "python",
   "pygments_lexer": "ipython3",
   "version": "3.10.12"
  },
  "papermill": {
   "default_parameters": {},
   "duration": 8936.636314,
   "end_time": "2025-01-01T16:07:31.259253",
   "environment_variables": {},
   "exception": null,
   "input_path": "__notebook__.ipynb",
   "output_path": "__notebook__.ipynb",
   "parameters": {},
   "start_time": "2025-01-01T13:38:34.622939",
   "version": "2.6.0"
  },
  "widgets": {
   "application/vnd.jupyter.widget-state+json": {
    "state": {
     "045eacd9230d488eab755f4bcdc1fef2": {
      "model_module": "@jupyter-widgets/base",
      "model_module_version": "2.0.0",
      "model_name": "LayoutModel",
      "state": {
       "_model_module": "@jupyter-widgets/base",
       "_model_module_version": "2.0.0",
       "_model_name": "LayoutModel",
       "_view_count": null,
       "_view_module": "@jupyter-widgets/base",
       "_view_module_version": "2.0.0",
       "_view_name": "LayoutView",
       "align_content": null,
       "align_items": null,
       "align_self": null,
       "border_bottom": null,
       "border_left": null,
       "border_right": null,
       "border_top": null,
       "bottom": null,
       "display": null,
       "flex": null,
       "flex_flow": null,
       "grid_area": null,
       "grid_auto_columns": null,
       "grid_auto_flow": null,
       "grid_auto_rows": null,
       "grid_column": null,
       "grid_gap": null,
       "grid_row": null,
       "grid_template_areas": null,
       "grid_template_columns": null,
       "grid_template_rows": null,
       "height": null,
       "justify_content": null,
       "justify_items": null,
       "left": null,
       "margin": null,
       "max_height": null,
       "max_width": null,
       "min_height": null,
       "min_width": null,
       "object_fit": null,
       "object_position": null,
       "order": null,
       "overflow": null,
       "padding": null,
       "right": null,
       "top": null,
       "visibility": null,
       "width": null
      }
     },
     "0884bd4edbab43a6bebcfa5e2878eb7f": {
      "model_module": "@jupyter-widgets/base",
      "model_module_version": "2.0.0",
      "model_name": "LayoutModel",
      "state": {
       "_model_module": "@jupyter-widgets/base",
       "_model_module_version": "2.0.0",
       "_model_name": "LayoutModel",
       "_view_count": null,
       "_view_module": "@jupyter-widgets/base",
       "_view_module_version": "2.0.0",
       "_view_name": "LayoutView",
       "align_content": null,
       "align_items": null,
       "align_self": null,
       "border_bottom": null,
       "border_left": null,
       "border_right": null,
       "border_top": null,
       "bottom": null,
       "display": null,
       "flex": null,
       "flex_flow": null,
       "grid_area": null,
       "grid_auto_columns": null,
       "grid_auto_flow": null,
       "grid_auto_rows": null,
       "grid_column": null,
       "grid_gap": null,
       "grid_row": null,
       "grid_template_areas": null,
       "grid_template_columns": null,
       "grid_template_rows": null,
       "height": null,
       "justify_content": null,
       "justify_items": null,
       "left": null,
       "margin": null,
       "max_height": null,
       "max_width": null,
       "min_height": null,
       "min_width": null,
       "object_fit": null,
       "object_position": null,
       "order": null,
       "overflow": null,
       "padding": null,
       "right": null,
       "top": null,
       "visibility": null,
       "width": null
      }
     },
     "08dbe0a23e9d43a99d83654405621b8f": {
      "model_module": "@jupyter-widgets/base",
      "model_module_version": "2.0.0",
      "model_name": "LayoutModel",
      "state": {
       "_model_module": "@jupyter-widgets/base",
       "_model_module_version": "2.0.0",
       "_model_name": "LayoutModel",
       "_view_count": null,
       "_view_module": "@jupyter-widgets/base",
       "_view_module_version": "2.0.0",
       "_view_name": "LayoutView",
       "align_content": null,
       "align_items": null,
       "align_self": null,
       "border_bottom": null,
       "border_left": null,
       "border_right": null,
       "border_top": null,
       "bottom": null,
       "display": null,
       "flex": null,
       "flex_flow": null,
       "grid_area": null,
       "grid_auto_columns": null,
       "grid_auto_flow": null,
       "grid_auto_rows": null,
       "grid_column": null,
       "grid_gap": null,
       "grid_row": null,
       "grid_template_areas": null,
       "grid_template_columns": null,
       "grid_template_rows": null,
       "height": null,
       "justify_content": null,
       "justify_items": null,
       "left": null,
       "margin": null,
       "max_height": null,
       "max_width": null,
       "min_height": null,
       "min_width": null,
       "object_fit": null,
       "object_position": null,
       "order": null,
       "overflow": null,
       "padding": null,
       "right": null,
       "top": null,
       "visibility": null,
       "width": null
      }
     },
     "0ee9d509d87c478788788ad1bb4ddf2d": {
      "model_module": "@jupyter-widgets/controls",
      "model_module_version": "2.0.0",
      "model_name": "HBoxModel",
      "state": {
       "_dom_classes": [],
       "_model_module": "@jupyter-widgets/controls",
       "_model_module_version": "2.0.0",
       "_model_name": "HBoxModel",
       "_view_count": null,
       "_view_module": "@jupyter-widgets/controls",
       "_view_module_version": "2.0.0",
       "_view_name": "HBoxView",
       "box_style": "",
       "children": [
        "IPY_MODEL_b4215771bc5e4a248ce85cd177d5b033",
        "IPY_MODEL_13e7fbe8c59d4805967b84dad7609d1a",
        "IPY_MODEL_4854756fde7c4825939e50fe01131d2e"
       ],
       "layout": "IPY_MODEL_045eacd9230d488eab755f4bcdc1fef2",
       "tabbable": null,
       "tooltip": null
      }
     },
     "11d22291af3e440fb755e0360ec091e0": {
      "model_module": "@jupyter-widgets/controls",
      "model_module_version": "2.0.0",
      "model_name": "HTMLModel",
      "state": {
       "_dom_classes": [],
       "_model_module": "@jupyter-widgets/controls",
       "_model_module_version": "2.0.0",
       "_model_name": "HTMLModel",
       "_view_count": null,
       "_view_module": "@jupyter-widgets/controls",
       "_view_module_version": "2.0.0",
       "_view_name": "HTMLView",
       "description": "",
       "description_allow_html": false,
       "layout": "IPY_MODEL_719612c5641c49c5912e0018a5b69dde",
       "placeholder": "​",
       "style": "IPY_MODEL_f554ecb14d94410180b3c4526a18340e",
       "tabbable": null,
       "tooltip": null,
       "value": "pytorch_model.bin: 100%"
      }
     },
     "13e7fbe8c59d4805967b84dad7609d1a": {
      "model_module": "@jupyter-widgets/controls",
      "model_module_version": "2.0.0",
      "model_name": "FloatProgressModel",
      "state": {
       "_dom_classes": [],
       "_model_module": "@jupyter-widgets/controls",
       "_model_module_version": "2.0.0",
       "_model_name": "FloatProgressModel",
       "_view_count": null,
       "_view_module": "@jupyter-widgets/controls",
       "_view_module_version": "2.0.0",
       "_view_name": "ProgressView",
       "bar_style": "success",
       "description": "",
       "description_allow_html": false,
       "layout": "IPY_MODEL_2f98be549e5b48c091e580fac9bf834d",
       "max": 20508.0,
       "min": 0.0,
       "orientation": "horizontal",
       "style": "IPY_MODEL_f8246097dc364a18a964c63955e88a10",
       "tabbable": null,
       "tooltip": null,
       "value": 20508.0
      }
     },
     "159da7c4e7724761b439abba193a52c6": {
      "model_module": "@jupyter-widgets/base",
      "model_module_version": "2.0.0",
      "model_name": "LayoutModel",
      "state": {
       "_model_module": "@jupyter-widgets/base",
       "_model_module_version": "2.0.0",
       "_model_name": "LayoutModel",
       "_view_count": null,
       "_view_module": "@jupyter-widgets/base",
       "_view_module_version": "2.0.0",
       "_view_name": "LayoutView",
       "align_content": null,
       "align_items": null,
       "align_self": null,
       "border_bottom": null,
       "border_left": null,
       "border_right": null,
       "border_top": null,
       "bottom": null,
       "display": null,
       "flex": null,
       "flex_flow": null,
       "grid_area": null,
       "grid_auto_columns": null,
       "grid_auto_flow": null,
       "grid_auto_rows": null,
       "grid_column": null,
       "grid_gap": null,
       "grid_row": null,
       "grid_template_areas": null,
       "grid_template_columns": null,
       "grid_template_rows": null,
       "height": null,
       "justify_content": null,
       "justify_items": null,
       "left": null,
       "margin": null,
       "max_height": null,
       "max_width": null,
       "min_height": null,
       "min_width": null,
       "object_fit": null,
       "object_position": null,
       "order": null,
       "overflow": null,
       "padding": null,
       "right": null,
       "top": null,
       "visibility": null,
       "width": null
      }
     },
     "161916aa5c5046878154e871ede2cfe6": {
      "model_module": "@jupyter-widgets/base",
      "model_module_version": "2.0.0",
      "model_name": "LayoutModel",
      "state": {
       "_model_module": "@jupyter-widgets/base",
       "_model_module_version": "2.0.0",
       "_model_name": "LayoutModel",
       "_view_count": null,
       "_view_module": "@jupyter-widgets/base",
       "_view_module_version": "2.0.0",
       "_view_name": "LayoutView",
       "align_content": null,
       "align_items": null,
       "align_self": null,
       "border_bottom": null,
       "border_left": null,
       "border_right": null,
       "border_top": null,
       "bottom": null,
       "display": null,
       "flex": null,
       "flex_flow": null,
       "grid_area": null,
       "grid_auto_columns": null,
       "grid_auto_flow": null,
       "grid_auto_rows": null,
       "grid_column": null,
       "grid_gap": null,
       "grid_row": null,
       "grid_template_areas": null,
       "grid_template_columns": null,
       "grid_template_rows": null,
       "height": null,
       "justify_content": null,
       "justify_items": null,
       "left": null,
       "margin": null,
       "max_height": null,
       "max_width": null,
       "min_height": null,
       "min_width": null,
       "object_fit": null,
       "object_position": null,
       "order": null,
       "overflow": null,
       "padding": null,
       "right": null,
       "top": null,
       "visibility": null,
       "width": null
      }
     },
     "1c7c3ec011924c77bfb657cabf4f19aa": {
      "model_module": "@jupyter-widgets/controls",
      "model_module_version": "2.0.0",
      "model_name": "HTMLStyleModel",
      "state": {
       "_model_module": "@jupyter-widgets/controls",
       "_model_module_version": "2.0.0",
       "_model_name": "HTMLStyleModel",
       "_view_count": null,
       "_view_module": "@jupyter-widgets/base",
       "_view_module_version": "2.0.0",
       "_view_name": "StyleView",
       "background": null,
       "description_width": "",
       "font_size": null,
       "text_color": null
      }
     },
     "1e351699d9a24f4491d3a97f2c4233f8": {
      "model_module": "@jupyter-widgets/controls",
      "model_module_version": "2.0.0",
      "model_name": "FloatProgressModel",
      "state": {
       "_dom_classes": [],
       "_model_module": "@jupyter-widgets/controls",
       "_model_module_version": "2.0.0",
       "_model_name": "FloatProgressModel",
       "_view_count": null,
       "_view_module": "@jupyter-widgets/controls",
       "_view_module_version": "2.0.0",
       "_view_name": "ProgressView",
       "bar_style": "success",
       "description": "",
       "description_allow_html": false,
       "layout": "IPY_MODEL_ecdeb83d9e4e4ca9871e7935d3ff98ca",
       "max": 528316.0,
       "min": 0.0,
       "orientation": "horizontal",
       "style": "IPY_MODEL_6fe037a105bf4d63b3389200171021e3",
       "tabbable": null,
       "tooltip": null,
       "value": 528316.0
      }
     },
     "2057796636ec420fb8dff88c243ed38e": {
      "model_module": "@jupyter-widgets/controls",
      "model_module_version": "2.0.0",
      "model_name": "HTMLModel",
      "state": {
       "_dom_classes": [],
       "_model_module": "@jupyter-widgets/controls",
       "_model_module_version": "2.0.0",
       "_model_name": "HTMLModel",
       "_view_count": null,
       "_view_module": "@jupyter-widgets/controls",
       "_view_module_version": "2.0.0",
       "_view_name": "HTMLView",
       "description": "",
       "description_allow_html": false,
       "layout": "IPY_MODEL_ee2395f18454420dbece3b800da520a6",
       "placeholder": "​",
       "style": "IPY_MODEL_91b1c7c9ccbc407e88a10d62b6002d5f",
       "tabbable": null,
       "tooltip": null,
       "value": " 586/586 [00:00&lt;00:00, 58.0kB/s]"
      }
     },
     "26d8f2d8a69b4de0a102a0d67967a8ca": {
      "model_module": "@jupyter-widgets/controls",
      "model_module_version": "2.0.0",
      "model_name": "HBoxModel",
      "state": {
       "_dom_classes": [],
       "_model_module": "@jupyter-widgets/controls",
       "_model_module_version": "2.0.0",
       "_model_name": "HBoxModel",
       "_view_count": null,
       "_view_module": "@jupyter-widgets/controls",
       "_view_module_version": "2.0.0",
       "_view_name": "HBoxView",
       "box_style": "",
       "children": [
        "IPY_MODEL_750ef5e922c147f8924ffc980ca62fa4",
        "IPY_MODEL_d06fbe7dad0a44d2a75f6059bee182dc",
        "IPY_MODEL_93c5bced92024366a40a0760d2ecd555"
       ],
       "layout": "IPY_MODEL_2bb376830e91439199d7457dccd190bf",
       "tabbable": null,
       "tooltip": null
      }
     },
     "2b120c2ffed946288b152e170940b5c5": {
      "model_module": "@jupyter-widgets/base",
      "model_module_version": "2.0.0",
      "model_name": "LayoutModel",
      "state": {
       "_model_module": "@jupyter-widgets/base",
       "_model_module_version": "2.0.0",
       "_model_name": "LayoutModel",
       "_view_count": null,
       "_view_module": "@jupyter-widgets/base",
       "_view_module_version": "2.0.0",
       "_view_name": "LayoutView",
       "align_content": null,
       "align_items": null,
       "align_self": null,
       "border_bottom": null,
       "border_left": null,
       "border_right": null,
       "border_top": null,
       "bottom": null,
       "display": null,
       "flex": null,
       "flex_flow": null,
       "grid_area": null,
       "grid_auto_columns": null,
       "grid_auto_flow": null,
       "grid_auto_rows": null,
       "grid_column": null,
       "grid_gap": null,
       "grid_row": null,
       "grid_template_areas": null,
       "grid_template_columns": null,
       "grid_template_rows": null,
       "height": null,
       "justify_content": null,
       "justify_items": null,
       "left": null,
       "margin": null,
       "max_height": null,
       "max_width": null,
       "min_height": null,
       "min_width": null,
       "object_fit": null,
       "object_position": null,
       "order": null,
       "overflow": null,
       "padding": null,
       "right": null,
       "top": null,
       "visibility": null,
       "width": null
      }
     },
     "2bb376830e91439199d7457dccd190bf": {
      "model_module": "@jupyter-widgets/base",
      "model_module_version": "2.0.0",
      "model_name": "LayoutModel",
      "state": {
       "_model_module": "@jupyter-widgets/base",
       "_model_module_version": "2.0.0",
       "_model_name": "LayoutModel",
       "_view_count": null,
       "_view_module": "@jupyter-widgets/base",
       "_view_module_version": "2.0.0",
       "_view_name": "LayoutView",
       "align_content": null,
       "align_items": null,
       "align_self": null,
       "border_bottom": null,
       "border_left": null,
       "border_right": null,
       "border_top": null,
       "bottom": null,
       "display": null,
       "flex": null,
       "flex_flow": null,
       "grid_area": null,
       "grid_auto_columns": null,
       "grid_auto_flow": null,
       "grid_auto_rows": null,
       "grid_column": null,
       "grid_gap": null,
       "grid_row": null,
       "grid_template_areas": null,
       "grid_template_columns": null,
       "grid_template_rows": null,
       "height": null,
       "justify_content": null,
       "justify_items": null,
       "left": null,
       "margin": null,
       "max_height": null,
       "max_width": null,
       "min_height": null,
       "min_width": null,
       "object_fit": null,
       "object_position": null,
       "order": null,
       "overflow": null,
       "padding": null,
       "right": null,
       "top": null,
       "visibility": null,
       "width": null
      }
     },
     "2e58bb9b4e6a4364ae5e837d20739211": {
      "model_module": "@jupyter-widgets/controls",
      "model_module_version": "2.0.0",
      "model_name": "ProgressStyleModel",
      "state": {
       "_model_module": "@jupyter-widgets/controls",
       "_model_module_version": "2.0.0",
       "_model_name": "ProgressStyleModel",
       "_view_count": null,
       "_view_module": "@jupyter-widgets/base",
       "_view_module_version": "2.0.0",
       "_view_name": "StyleView",
       "bar_color": null,
       "description_width": ""
      }
     },
     "2f98be549e5b48c091e580fac9bf834d": {
      "model_module": "@jupyter-widgets/base",
      "model_module_version": "2.0.0",
      "model_name": "LayoutModel",
      "state": {
       "_model_module": "@jupyter-widgets/base",
       "_model_module_version": "2.0.0",
       "_model_name": "LayoutModel",
       "_view_count": null,
       "_view_module": "@jupyter-widgets/base",
       "_view_module_version": "2.0.0",
       "_view_name": "LayoutView",
       "align_content": null,
       "align_items": null,
       "align_self": null,
       "border_bottom": null,
       "border_left": null,
       "border_right": null,
       "border_top": null,
       "bottom": null,
       "display": null,
       "flex": null,
       "flex_flow": null,
       "grid_area": null,
       "grid_auto_columns": null,
       "grid_auto_flow": null,
       "grid_auto_rows": null,
       "grid_column": null,
       "grid_gap": null,
       "grid_row": null,
       "grid_template_areas": null,
       "grid_template_columns": null,
       "grid_template_rows": null,
       "height": null,
       "justify_content": null,
       "justify_items": null,
       "left": null,
       "margin": null,
       "max_height": null,
       "max_width": null,
       "min_height": null,
       "min_width": null,
       "object_fit": null,
       "object_position": null,
       "order": null,
       "overflow": null,
       "padding": null,
       "right": null,
       "top": null,
       "visibility": null,
       "width": null
      }
     },
     "307ddf8eefb245b69260b18f78a87d7c": {
      "model_module": "@jupyter-widgets/controls",
      "model_module_version": "2.0.0",
      "model_name": "HTMLModel",
      "state": {
       "_dom_classes": [],
       "_model_module": "@jupyter-widgets/controls",
       "_model_module_version": "2.0.0",
       "_model_name": "HTMLModel",
       "_view_count": null,
       "_view_module": "@jupyter-widgets/controls",
       "_view_module_version": "2.0.0",
       "_view_name": "HTMLView",
       "description": "",
       "description_allow_html": false,
       "layout": "IPY_MODEL_159da7c4e7724761b439abba193a52c6",
       "placeholder": "​",
       "style": "IPY_MODEL_5db1494111a44592a08d539f19eca875",
       "tabbable": null,
       "tooltip": null,
       "value": "Map: 100%"
      }
     },
     "311ca55d739746c5961ee8a1d29ed70d": {
      "model_module": "@jupyter-widgets/base",
      "model_module_version": "2.0.0",
      "model_name": "LayoutModel",
      "state": {
       "_model_module": "@jupyter-widgets/base",
       "_model_module_version": "2.0.0",
       "_model_name": "LayoutModel",
       "_view_count": null,
       "_view_module": "@jupyter-widgets/base",
       "_view_module_version": "2.0.0",
       "_view_name": "LayoutView",
       "align_content": null,
       "align_items": null,
       "align_self": null,
       "border_bottom": null,
       "border_left": null,
       "border_right": null,
       "border_top": null,
       "bottom": null,
       "display": null,
       "flex": null,
       "flex_flow": null,
       "grid_area": null,
       "grid_auto_columns": null,
       "grid_auto_flow": null,
       "grid_auto_rows": null,
       "grid_column": null,
       "grid_gap": null,
       "grid_row": null,
       "grid_template_areas": null,
       "grid_template_columns": null,
       "grid_template_rows": null,
       "height": null,
       "justify_content": null,
       "justify_items": null,
       "left": null,
       "margin": null,
       "max_height": null,
       "max_width": null,
       "min_height": null,
       "min_width": null,
       "object_fit": null,
       "object_position": null,
       "order": null,
       "overflow": null,
       "padding": null,
       "right": null,
       "top": null,
       "visibility": null,
       "width": null
      }
     },
     "312a75c39ab545e49df4ae93a260c6f7": {
      "model_module": "@jupyter-widgets/base",
      "model_module_version": "2.0.0",
      "model_name": "LayoutModel",
      "state": {
       "_model_module": "@jupyter-widgets/base",
       "_model_module_version": "2.0.0",
       "_model_name": "LayoutModel",
       "_view_count": null,
       "_view_module": "@jupyter-widgets/base",
       "_view_module_version": "2.0.0",
       "_view_name": "LayoutView",
       "align_content": null,
       "align_items": null,
       "align_self": null,
       "border_bottom": null,
       "border_left": null,
       "border_right": null,
       "border_top": null,
       "bottom": null,
       "display": null,
       "flex": null,
       "flex_flow": null,
       "grid_area": null,
       "grid_auto_columns": null,
       "grid_auto_flow": null,
       "grid_auto_rows": null,
       "grid_column": null,
       "grid_gap": null,
       "grid_row": null,
       "grid_template_areas": null,
       "grid_template_columns": null,
       "grid_template_rows": null,
       "height": null,
       "justify_content": null,
       "justify_items": null,
       "left": null,
       "margin": null,
       "max_height": null,
       "max_width": null,
       "min_height": null,
       "min_width": null,
       "object_fit": null,
       "object_position": null,
       "order": null,
       "overflow": null,
       "padding": null,
       "right": null,
       "top": null,
       "visibility": null,
       "width": null
      }
     },
     "3f31dae4b6294b1aa518d6be37da4c07": {
      "model_module": "@jupyter-widgets/base",
      "model_module_version": "2.0.0",
      "model_name": "LayoutModel",
      "state": {
       "_model_module": "@jupyter-widgets/base",
       "_model_module_version": "2.0.0",
       "_model_name": "LayoutModel",
       "_view_count": null,
       "_view_module": "@jupyter-widgets/base",
       "_view_module_version": "2.0.0",
       "_view_name": "LayoutView",
       "align_content": null,
       "align_items": null,
       "align_self": null,
       "border_bottom": null,
       "border_left": null,
       "border_right": null,
       "border_top": null,
       "bottom": null,
       "display": null,
       "flex": null,
       "flex_flow": null,
       "grid_area": null,
       "grid_auto_columns": null,
       "grid_auto_flow": null,
       "grid_auto_rows": null,
       "grid_column": null,
       "grid_gap": null,
       "grid_row": null,
       "grid_template_areas": null,
       "grid_template_columns": null,
       "grid_template_rows": null,
       "height": null,
       "justify_content": null,
       "justify_items": null,
       "left": null,
       "margin": null,
       "max_height": null,
       "max_width": null,
       "min_height": null,
       "min_width": null,
       "object_fit": null,
       "object_position": null,
       "order": null,
       "overflow": null,
       "padding": null,
       "right": null,
       "top": null,
       "visibility": null,
       "width": null
      }
     },
     "4128907f0c1446ada340732b25153f37": {
      "model_module": "@jupyter-widgets/base",
      "model_module_version": "2.0.0",
      "model_name": "LayoutModel",
      "state": {
       "_model_module": "@jupyter-widgets/base",
       "_model_module_version": "2.0.0",
       "_model_name": "LayoutModel",
       "_view_count": null,
       "_view_module": "@jupyter-widgets/base",
       "_view_module_version": "2.0.0",
       "_view_name": "LayoutView",
       "align_content": null,
       "align_items": null,
       "align_self": null,
       "border_bottom": null,
       "border_left": null,
       "border_right": null,
       "border_top": null,
       "bottom": null,
       "display": null,
       "flex": null,
       "flex_flow": null,
       "grid_area": null,
       "grid_auto_columns": null,
       "grid_auto_flow": null,
       "grid_auto_rows": null,
       "grid_column": null,
       "grid_gap": null,
       "grid_row": null,
       "grid_template_areas": null,
       "grid_template_columns": null,
       "grid_template_rows": null,
       "height": null,
       "justify_content": null,
       "justify_items": null,
       "left": null,
       "margin": null,
       "max_height": null,
       "max_width": null,
       "min_height": null,
       "min_width": null,
       "object_fit": null,
       "object_position": null,
       "order": null,
       "overflow": null,
       "padding": null,
       "right": null,
       "top": null,
       "visibility": null,
       "width": null
      }
     },
     "445dcf271bf042ac86620a44742022fe": {
      "model_module": "@jupyter-widgets/controls",
      "model_module_version": "2.0.0",
      "model_name": "FloatProgressModel",
      "state": {
       "_dom_classes": [],
       "_model_module": "@jupyter-widgets/controls",
       "_model_module_version": "2.0.0",
       "_model_name": "FloatProgressModel",
       "_view_count": null,
       "_view_module": "@jupyter-widgets/controls",
       "_view_module_version": "2.0.0",
       "_view_name": "ProgressView",
       "bar_style": "success",
       "description": "",
       "description_allow_html": false,
       "layout": "IPY_MODEL_59e0c1c7db2b4aa3ba45a197e8b717a4",
       "max": 5128.0,
       "min": 0.0,
       "orientation": "horizontal",
       "style": "IPY_MODEL_c94c179f8a044eada887499d59ed0631",
       "tabbable": null,
       "tooltip": null,
       "value": 5128.0
      }
     },
     "4854756fde7c4825939e50fe01131d2e": {
      "model_module": "@jupyter-widgets/controls",
      "model_module_version": "2.0.0",
      "model_name": "HTMLModel",
      "state": {
       "_dom_classes": [],
       "_model_module": "@jupyter-widgets/controls",
       "_model_module_version": "2.0.0",
       "_model_name": "HTMLModel",
       "_view_count": null,
       "_view_module": "@jupyter-widgets/controls",
       "_view_module_version": "2.0.0",
       "_view_name": "HTMLView",
       "description": "",
       "description_allow_html": false,
       "layout": "IPY_MODEL_702316e2d4754e879a5ca5e102e77853",
       "placeholder": "​",
       "style": "IPY_MODEL_a05fba26492041dba603e7974f852f5e",
       "tabbable": null,
       "tooltip": null,
       "value": " 20508/20508 [00:00&lt;00:00, 23427.66 examples/s]"
      }
     },
     "4cd1702bc00342efa8a569221630c779": {
      "model_module": "@jupyter-widgets/controls",
      "model_module_version": "2.0.0",
      "model_name": "HTMLStyleModel",
      "state": {
       "_model_module": "@jupyter-widgets/controls",
       "_model_module_version": "2.0.0",
       "_model_name": "HTMLStyleModel",
       "_view_count": null,
       "_view_module": "@jupyter-widgets/base",
       "_view_module_version": "2.0.0",
       "_view_name": "StyleView",
       "background": null,
       "description_width": "",
       "font_size": null,
       "text_color": null
      }
     },
     "522c49c410be481f8d44de7f8ab5d54b": {
      "model_module": "@jupyter-widgets/base",
      "model_module_version": "2.0.0",
      "model_name": "LayoutModel",
      "state": {
       "_model_module": "@jupyter-widgets/base",
       "_model_module_version": "2.0.0",
       "_model_name": "LayoutModel",
       "_view_count": null,
       "_view_module": "@jupyter-widgets/base",
       "_view_module_version": "2.0.0",
       "_view_name": "LayoutView",
       "align_content": null,
       "align_items": null,
       "align_self": null,
       "border_bottom": null,
       "border_left": null,
       "border_right": null,
       "border_top": null,
       "bottom": null,
       "display": null,
       "flex": null,
       "flex_flow": null,
       "grid_area": null,
       "grid_auto_columns": null,
       "grid_auto_flow": null,
       "grid_auto_rows": null,
       "grid_column": null,
       "grid_gap": null,
       "grid_row": null,
       "grid_template_areas": null,
       "grid_template_columns": null,
       "grid_template_rows": null,
       "height": null,
       "justify_content": null,
       "justify_items": null,
       "left": null,
       "margin": null,
       "max_height": null,
       "max_width": null,
       "min_height": null,
       "min_width": null,
       "object_fit": null,
       "object_position": null,
       "order": null,
       "overflow": null,
       "padding": null,
       "right": null,
       "top": null,
       "visibility": null,
       "width": null
      }
     },
     "525ac0abc7da4973a93af5f1378c6bb5": {
      "model_module": "@jupyter-widgets/controls",
      "model_module_version": "2.0.0",
      "model_name": "HBoxModel",
      "state": {
       "_dom_classes": [],
       "_model_module": "@jupyter-widgets/controls",
       "_model_module_version": "2.0.0",
       "_model_name": "HBoxModel",
       "_view_count": null,
       "_view_module": "@jupyter-widgets/controls",
       "_view_module_version": "2.0.0",
       "_view_name": "HBoxView",
       "box_style": "",
       "children": [
        "IPY_MODEL_b6aae86306b9401488a411d0783b540f",
        "IPY_MODEL_f0eb61c850de4943bc9ff06c6075181e",
        "IPY_MODEL_cf5cb84483584f7591911c9288f130a4"
       ],
       "layout": "IPY_MODEL_8a08139daa554b1899e0c7907d431fd4",
       "tabbable": null,
       "tooltip": null
      }
     },
     "59e0c1c7db2b4aa3ba45a197e8b717a4": {
      "model_module": "@jupyter-widgets/base",
      "model_module_version": "2.0.0",
      "model_name": "LayoutModel",
      "state": {
       "_model_module": "@jupyter-widgets/base",
       "_model_module_version": "2.0.0",
       "_model_name": "LayoutModel",
       "_view_count": null,
       "_view_module": "@jupyter-widgets/base",
       "_view_module_version": "2.0.0",
       "_view_name": "LayoutView",
       "align_content": null,
       "align_items": null,
       "align_self": null,
       "border_bottom": null,
       "border_left": null,
       "border_right": null,
       "border_top": null,
       "bottom": null,
       "display": null,
       "flex": null,
       "flex_flow": null,
       "grid_area": null,
       "grid_auto_columns": null,
       "grid_auto_flow": null,
       "grid_auto_rows": null,
       "grid_column": null,
       "grid_gap": null,
       "grid_row": null,
       "grid_template_areas": null,
       "grid_template_columns": null,
       "grid_template_rows": null,
       "height": null,
       "justify_content": null,
       "justify_items": null,
       "left": null,
       "margin": null,
       "max_height": null,
       "max_width": null,
       "min_height": null,
       "min_width": null,
       "object_fit": null,
       "object_position": null,
       "order": null,
       "overflow": null,
       "padding": null,
       "right": null,
       "top": null,
       "visibility": null,
       "width": null
      }
     },
     "5db1494111a44592a08d539f19eca875": {
      "model_module": "@jupyter-widgets/controls",
      "model_module_version": "2.0.0",
      "model_name": "HTMLStyleModel",
      "state": {
       "_model_module": "@jupyter-widgets/controls",
       "_model_module_version": "2.0.0",
       "_model_name": "HTMLStyleModel",
       "_view_count": null,
       "_view_module": "@jupyter-widgets/base",
       "_view_module_version": "2.0.0",
       "_view_name": "StyleView",
       "background": null,
       "description_width": "",
       "font_size": null,
       "text_color": null
      }
     },
     "685636a840bb4ffb85a19cb37fdb7041": {
      "model_module": "@jupyter-widgets/controls",
      "model_module_version": "2.0.0",
      "model_name": "HTMLStyleModel",
      "state": {
       "_model_module": "@jupyter-widgets/controls",
       "_model_module_version": "2.0.0",
       "_model_name": "HTMLStyleModel",
       "_view_count": null,
       "_view_module": "@jupyter-widgets/base",
       "_view_module_version": "2.0.0",
       "_view_name": "StyleView",
       "background": null,
       "description_width": "",
       "font_size": null,
       "text_color": null
      }
     },
     "6a0460480eec4d3c9e804e79dc529006": {
      "model_module": "@jupyter-widgets/controls",
      "model_module_version": "2.0.0",
      "model_name": "ProgressStyleModel",
      "state": {
       "_model_module": "@jupyter-widgets/controls",
       "_model_module_version": "2.0.0",
       "_model_name": "ProgressStyleModel",
       "_view_count": null,
       "_view_module": "@jupyter-widgets/base",
       "_view_module_version": "2.0.0",
       "_view_name": "StyleView",
       "bar_color": null,
       "description_width": ""
      }
     },
     "6aefd5ad79da4e059827599acf530df6": {
      "model_module": "@jupyter-widgets/base",
      "model_module_version": "2.0.0",
      "model_name": "LayoutModel",
      "state": {
       "_model_module": "@jupyter-widgets/base",
       "_model_module_version": "2.0.0",
       "_model_name": "LayoutModel",
       "_view_count": null,
       "_view_module": "@jupyter-widgets/base",
       "_view_module_version": "2.0.0",
       "_view_name": "LayoutView",
       "align_content": null,
       "align_items": null,
       "align_self": null,
       "border_bottom": null,
       "border_left": null,
       "border_right": null,
       "border_top": null,
       "bottom": null,
       "display": null,
       "flex": null,
       "flex_flow": null,
       "grid_area": null,
       "grid_auto_columns": null,
       "grid_auto_flow": null,
       "grid_auto_rows": null,
       "grid_column": null,
       "grid_gap": null,
       "grid_row": null,
       "grid_template_areas": null,
       "grid_template_columns": null,
       "grid_template_rows": null,
       "height": null,
       "justify_content": null,
       "justify_items": null,
       "left": null,
       "margin": null,
       "max_height": null,
       "max_width": null,
       "min_height": null,
       "min_width": null,
       "object_fit": null,
       "object_position": null,
       "order": null,
       "overflow": null,
       "padding": null,
       "right": null,
       "top": null,
       "visibility": null,
       "width": null
      }
     },
     "6fe037a105bf4d63b3389200171021e3": {
      "model_module": "@jupyter-widgets/controls",
      "model_module_version": "2.0.0",
      "model_name": "ProgressStyleModel",
      "state": {
       "_model_module": "@jupyter-widgets/controls",
       "_model_module_version": "2.0.0",
       "_model_name": "ProgressStyleModel",
       "_view_count": null,
       "_view_module": "@jupyter-widgets/base",
       "_view_module_version": "2.0.0",
       "_view_name": "StyleView",
       "bar_color": null,
       "description_width": ""
      }
     },
     "702316e2d4754e879a5ca5e102e77853": {
      "model_module": "@jupyter-widgets/base",
      "model_module_version": "2.0.0",
      "model_name": "LayoutModel",
      "state": {
       "_model_module": "@jupyter-widgets/base",
       "_model_module_version": "2.0.0",
       "_model_name": "LayoutModel",
       "_view_count": null,
       "_view_module": "@jupyter-widgets/base",
       "_view_module_version": "2.0.0",
       "_view_name": "LayoutView",
       "align_content": null,
       "align_items": null,
       "align_self": null,
       "border_bottom": null,
       "border_left": null,
       "border_right": null,
       "border_top": null,
       "bottom": null,
       "display": null,
       "flex": null,
       "flex_flow": null,
       "grid_area": null,
       "grid_auto_columns": null,
       "grid_auto_flow": null,
       "grid_auto_rows": null,
       "grid_column": null,
       "grid_gap": null,
       "grid_row": null,
       "grid_template_areas": null,
       "grid_template_columns": null,
       "grid_template_rows": null,
       "height": null,
       "justify_content": null,
       "justify_items": null,
       "left": null,
       "margin": null,
       "max_height": null,
       "max_width": null,
       "min_height": null,
       "min_width": null,
       "object_fit": null,
       "object_position": null,
       "order": null,
       "overflow": null,
       "padding": null,
       "right": null,
       "top": null,
       "visibility": null,
       "width": null
      }
     },
     "719612c5641c49c5912e0018a5b69dde": {
      "model_module": "@jupyter-widgets/base",
      "model_module_version": "2.0.0",
      "model_name": "LayoutModel",
      "state": {
       "_model_module": "@jupyter-widgets/base",
       "_model_module_version": "2.0.0",
       "_model_name": "LayoutModel",
       "_view_count": null,
       "_view_module": "@jupyter-widgets/base",
       "_view_module_version": "2.0.0",
       "_view_name": "LayoutView",
       "align_content": null,
       "align_items": null,
       "align_self": null,
       "border_bottom": null,
       "border_left": null,
       "border_right": null,
       "border_top": null,
       "bottom": null,
       "display": null,
       "flex": null,
       "flex_flow": null,
       "grid_area": null,
       "grid_auto_columns": null,
       "grid_auto_flow": null,
       "grid_auto_rows": null,
       "grid_column": null,
       "grid_gap": null,
       "grid_row": null,
       "grid_template_areas": null,
       "grid_template_columns": null,
       "grid_template_rows": null,
       "height": null,
       "justify_content": null,
       "justify_items": null,
       "left": null,
       "margin": null,
       "max_height": null,
       "max_width": null,
       "min_height": null,
       "min_width": null,
       "object_fit": null,
       "object_position": null,
       "order": null,
       "overflow": null,
       "padding": null,
       "right": null,
       "top": null,
       "visibility": null,
       "width": null
      }
     },
     "7339854bf0984c7798f38d980820914a": {
      "model_module": "@jupyter-widgets/controls",
      "model_module_version": "2.0.0",
      "model_name": "FloatProgressModel",
      "state": {
       "_dom_classes": [],
       "_model_module": "@jupyter-widgets/controls",
       "_model_module_version": "2.0.0",
       "_model_name": "FloatProgressModel",
       "_view_count": null,
       "_view_module": "@jupyter-widgets/controls",
       "_view_module_version": "2.0.0",
       "_view_name": "ProgressView",
       "bar_style": "success",
       "description": "",
       "description_allow_html": false,
       "layout": "IPY_MODEL_a60e5c8b4bc94d17b2c4199b72543749",
       "max": 586.0,
       "min": 0.0,
       "orientation": "horizontal",
       "style": "IPY_MODEL_85f6358f64b7438caa5036a4cb21eabd",
       "tabbable": null,
       "tooltip": null,
       "value": 586.0
      }
     },
     "750ef5e922c147f8924ffc980ca62fa4": {
      "model_module": "@jupyter-widgets/controls",
      "model_module_version": "2.0.0",
      "model_name": "HTMLModel",
      "state": {
       "_dom_classes": [],
       "_model_module": "@jupyter-widgets/controls",
       "_model_module_version": "2.0.0",
       "_model_name": "HTMLModel",
       "_view_count": null,
       "_view_module": "@jupyter-widgets/controls",
       "_view_module_version": "2.0.0",
       "_view_name": "HTMLView",
       "description": "",
       "description_allow_html": false,
       "layout": "IPY_MODEL_99d06187989048c78d6554d2033d489a",
       "placeholder": "​",
       "style": "IPY_MODEL_c46e9f1b94924ac9b6e5ee14212374fd",
       "tabbable": null,
       "tooltip": null,
       "value": "special_tokens_map.json: 100%"
      }
     },
     "85f6358f64b7438caa5036a4cb21eabd": {
      "model_module": "@jupyter-widgets/controls",
      "model_module_version": "2.0.0",
      "model_name": "ProgressStyleModel",
      "state": {
       "_model_module": "@jupyter-widgets/controls",
       "_model_module_version": "2.0.0",
       "_model_name": "ProgressStyleModel",
       "_view_count": null,
       "_view_module": "@jupyter-widgets/base",
       "_view_module_version": "2.0.0",
       "_view_name": "StyleView",
       "bar_color": null,
       "description_width": ""
      }
     },
     "898c103f3dd64ca9bbf1133091820a4e": {
      "model_module": "@jupyter-widgets/controls",
      "model_module_version": "2.0.0",
      "model_name": "HTMLStyleModel",
      "state": {
       "_model_module": "@jupyter-widgets/controls",
       "_model_module_version": "2.0.0",
       "_model_name": "HTMLStyleModel",
       "_view_count": null,
       "_view_module": "@jupyter-widgets/base",
       "_view_module_version": "2.0.0",
       "_view_name": "StyleView",
       "background": null,
       "description_width": "",
       "font_size": null,
       "text_color": null
      }
     },
     "8a08139daa554b1899e0c7907d431fd4": {
      "model_module": "@jupyter-widgets/base",
      "model_module_version": "2.0.0",
      "model_name": "LayoutModel",
      "state": {
       "_model_module": "@jupyter-widgets/base",
       "_model_module_version": "2.0.0",
       "_model_name": "LayoutModel",
       "_view_count": null,
       "_view_module": "@jupyter-widgets/base",
       "_view_module_version": "2.0.0",
       "_view_name": "LayoutView",
       "align_content": null,
       "align_items": null,
       "align_self": null,
       "border_bottom": null,
       "border_left": null,
       "border_right": null,
       "border_top": null,
       "bottom": null,
       "display": null,
       "flex": null,
       "flex_flow": null,
       "grid_area": null,
       "grid_auto_columns": null,
       "grid_auto_flow": null,
       "grid_auto_rows": null,
       "grid_column": null,
       "grid_gap": null,
       "grid_row": null,
       "grid_template_areas": null,
       "grid_template_columns": null,
       "grid_template_rows": null,
       "height": null,
       "justify_content": null,
       "justify_items": null,
       "left": null,
       "margin": null,
       "max_height": null,
       "max_width": null,
       "min_height": null,
       "min_width": null,
       "object_fit": null,
       "object_position": null,
       "order": null,
       "overflow": null,
       "padding": null,
       "right": null,
       "top": null,
       "visibility": null,
       "width": null
      }
     },
     "8a469adc87d34b72a6215ea0512514b7": {
      "model_module": "@jupyter-widgets/controls",
      "model_module_version": "2.0.0",
      "model_name": "HTMLStyleModel",
      "state": {
       "_model_module": "@jupyter-widgets/controls",
       "_model_module_version": "2.0.0",
       "_model_name": "HTMLStyleModel",
       "_view_count": null,
       "_view_module": "@jupyter-widgets/base",
       "_view_module_version": "2.0.0",
       "_view_name": "StyleView",
       "background": null,
       "description_width": "",
       "font_size": null,
       "text_color": null
      }
     },
     "90563cea422b442bb4c5b32ffd2a224a": {
      "model_module": "@jupyter-widgets/controls",
      "model_module_version": "2.0.0",
      "model_name": "HTMLStyleModel",
      "state": {
       "_model_module": "@jupyter-widgets/controls",
       "_model_module_version": "2.0.0",
       "_model_name": "HTMLStyleModel",
       "_view_count": null,
       "_view_module": "@jupyter-widgets/base",
       "_view_module_version": "2.0.0",
       "_view_name": "StyleView",
       "background": null,
       "description_width": "",
       "font_size": null,
       "text_color": null
      }
     },
     "90fb3183c4a743c8a239db058321a05d": {
      "model_module": "@jupyter-widgets/base",
      "model_module_version": "2.0.0",
      "model_name": "LayoutModel",
      "state": {
       "_model_module": "@jupyter-widgets/base",
       "_model_module_version": "2.0.0",
       "_model_name": "LayoutModel",
       "_view_count": null,
       "_view_module": "@jupyter-widgets/base",
       "_view_module_version": "2.0.0",
       "_view_name": "LayoutView",
       "align_content": null,
       "align_items": null,
       "align_self": null,
       "border_bottom": null,
       "border_left": null,
       "border_right": null,
       "border_top": null,
       "bottom": null,
       "display": null,
       "flex": null,
       "flex_flow": null,
       "grid_area": null,
       "grid_auto_columns": null,
       "grid_auto_flow": null,
       "grid_auto_rows": null,
       "grid_column": null,
       "grid_gap": null,
       "grid_row": null,
       "grid_template_areas": null,
       "grid_template_columns": null,
       "grid_template_rows": null,
       "height": null,
       "justify_content": null,
       "justify_items": null,
       "left": null,
       "margin": null,
       "max_height": null,
       "max_width": null,
       "min_height": null,
       "min_width": null,
       "object_fit": null,
       "object_position": null,
       "order": null,
       "overflow": null,
       "padding": null,
       "right": null,
       "top": null,
       "visibility": null,
       "width": null
      }
     },
     "91b1c7c9ccbc407e88a10d62b6002d5f": {
      "model_module": "@jupyter-widgets/controls",
      "model_module_version": "2.0.0",
      "model_name": "HTMLStyleModel",
      "state": {
       "_model_module": "@jupyter-widgets/controls",
       "_model_module_version": "2.0.0",
       "_model_name": "HTMLStyleModel",
       "_view_count": null,
       "_view_module": "@jupyter-widgets/base",
       "_view_module_version": "2.0.0",
       "_view_name": "StyleView",
       "background": null,
       "description_width": "",
       "font_size": null,
       "text_color": null
      }
     },
     "93c5bced92024366a40a0760d2ecd555": {
      "model_module": "@jupyter-widgets/controls",
      "model_module_version": "2.0.0",
      "model_name": "HTMLModel",
      "state": {
       "_dom_classes": [],
       "_model_module": "@jupyter-widgets/controls",
       "_model_module_version": "2.0.0",
       "_model_name": "HTMLModel",
       "_view_count": null,
       "_view_module": "@jupyter-widgets/controls",
       "_view_module_version": "2.0.0",
       "_view_name": "HTMLView",
       "description": "",
       "description_allow_html": false,
       "layout": "IPY_MODEL_3f31dae4b6294b1aa518d6be37da4c07",
       "placeholder": "​",
       "style": "IPY_MODEL_4cd1702bc00342efa8a569221630c779",
       "tabbable": null,
       "tooltip": null,
       "value": " 112/112 [00:00&lt;00:00, 13.0kB/s]"
      }
     },
     "945bc49184bb48f3b8aee31e60117f4e": {
      "model_module": "@jupyter-widgets/controls",
      "model_module_version": "2.0.0",
      "model_name": "HBoxModel",
      "state": {
       "_dom_classes": [],
       "_model_module": "@jupyter-widgets/controls",
       "_model_module_version": "2.0.0",
       "_model_name": "HBoxModel",
       "_view_count": null,
       "_view_module": "@jupyter-widgets/controls",
       "_view_module_version": "2.0.0",
       "_view_name": "HBoxView",
       "box_style": "",
       "children": [
        "IPY_MODEL_11d22291af3e440fb755e0360ec091e0",
        "IPY_MODEL_a44ac277d8b94709bd6fcb498c378b73",
        "IPY_MODEL_a3e0dfb1b864438e88ab1e1ec88825b2"
       ],
       "layout": "IPY_MODEL_08dbe0a23e9d43a99d83654405621b8f",
       "tabbable": null,
       "tooltip": null
      }
     },
     "99d06187989048c78d6554d2033d489a": {
      "model_module": "@jupyter-widgets/base",
      "model_module_version": "2.0.0",
      "model_name": "LayoutModel",
      "state": {
       "_model_module": "@jupyter-widgets/base",
       "_model_module_version": "2.0.0",
       "_model_name": "LayoutModel",
       "_view_count": null,
       "_view_module": "@jupyter-widgets/base",
       "_view_module_version": "2.0.0",
       "_view_name": "LayoutView",
       "align_content": null,
       "align_items": null,
       "align_self": null,
       "border_bottom": null,
       "border_left": null,
       "border_right": null,
       "border_top": null,
       "bottom": null,
       "display": null,
       "flex": null,
       "flex_flow": null,
       "grid_area": null,
       "grid_auto_columns": null,
       "grid_auto_flow": null,
       "grid_auto_rows": null,
       "grid_column": null,
       "grid_gap": null,
       "grid_row": null,
       "grid_template_areas": null,
       "grid_template_columns": null,
       "grid_template_rows": null,
       "height": null,
       "justify_content": null,
       "justify_items": null,
       "left": null,
       "margin": null,
       "max_height": null,
       "max_width": null,
       "min_height": null,
       "min_width": null,
       "object_fit": null,
       "object_position": null,
       "order": null,
       "overflow": null,
       "padding": null,
       "right": null,
       "top": null,
       "visibility": null,
       "width": null
      }
     },
     "9c6ed5c1a669464794ef9742bbabf9b0": {
      "model_module": "@jupyter-widgets/base",
      "model_module_version": "2.0.0",
      "model_name": "LayoutModel",
      "state": {
       "_model_module": "@jupyter-widgets/base",
       "_model_module_version": "2.0.0",
       "_model_name": "LayoutModel",
       "_view_count": null,
       "_view_module": "@jupyter-widgets/base",
       "_view_module_version": "2.0.0",
       "_view_name": "LayoutView",
       "align_content": null,
       "align_items": null,
       "align_self": null,
       "border_bottom": null,
       "border_left": null,
       "border_right": null,
       "border_top": null,
       "bottom": null,
       "display": null,
       "flex": null,
       "flex_flow": null,
       "grid_area": null,
       "grid_auto_columns": null,
       "grid_auto_flow": null,
       "grid_auto_rows": null,
       "grid_column": null,
       "grid_gap": null,
       "grid_row": null,
       "grid_template_areas": null,
       "grid_template_columns": null,
       "grid_template_rows": null,
       "height": null,
       "justify_content": null,
       "justify_items": null,
       "left": null,
       "margin": null,
       "max_height": null,
       "max_width": null,
       "min_height": null,
       "min_width": null,
       "object_fit": null,
       "object_position": null,
       "order": null,
       "overflow": null,
       "padding": null,
       "right": null,
       "top": null,
       "visibility": null,
       "width": null
      }
     },
     "9db6a35c91c2435495c71a40fce9abcc": {
      "model_module": "@jupyter-widgets/controls",
      "model_module_version": "2.0.0",
      "model_name": "HBoxModel",
      "state": {
       "_dom_classes": [],
       "_model_module": "@jupyter-widgets/controls",
       "_model_module_version": "2.0.0",
       "_model_name": "HBoxModel",
       "_view_count": null,
       "_view_module": "@jupyter-widgets/controls",
       "_view_module_version": "2.0.0",
       "_view_name": "HBoxView",
       "box_style": "",
       "children": [
        "IPY_MODEL_e0396d32a1604d23b386872cb4764106",
        "IPY_MODEL_7339854bf0984c7798f38d980820914a",
        "IPY_MODEL_2057796636ec420fb8dff88c243ed38e"
       ],
       "layout": "IPY_MODEL_a6ea1701606741dbba6ca47b92ae152c",
       "tabbable": null,
       "tooltip": null
      }
     },
     "a05fba26492041dba603e7974f852f5e": {
      "model_module": "@jupyter-widgets/controls",
      "model_module_version": "2.0.0",
      "model_name": "HTMLStyleModel",
      "state": {
       "_model_module": "@jupyter-widgets/controls",
       "_model_module_version": "2.0.0",
       "_model_name": "HTMLStyleModel",
       "_view_count": null,
       "_view_module": "@jupyter-widgets/base",
       "_view_module_version": "2.0.0",
       "_view_name": "StyleView",
       "background": null,
       "description_width": "",
       "font_size": null,
       "text_color": null
      }
     },
     "a3e0dfb1b864438e88ab1e1ec88825b2": {
      "model_module": "@jupyter-widgets/controls",
      "model_module_version": "2.0.0",
      "model_name": "HTMLModel",
      "state": {
       "_dom_classes": [],
       "_model_module": "@jupyter-widgets/controls",
       "_model_module_version": "2.0.0",
       "_model_name": "HTMLModel",
       "_view_count": null,
       "_view_module": "@jupyter-widgets/controls",
       "_view_module_version": "2.0.0",
       "_view_name": "HTMLView",
       "description": "",
       "description_allow_html": false,
       "layout": "IPY_MODEL_bad072b605b94e20a6980f40d0b130fb",
       "placeholder": "​",
       "style": "IPY_MODEL_e027c55b2e104a919c4b69a1d952a269",
       "tabbable": null,
       "tooltip": null,
       "value": " 443M/443M [00:02&lt;00:00, 177MB/s]"
      }
     },
     "a44ac277d8b94709bd6fcb498c378b73": {
      "model_module": "@jupyter-widgets/controls",
      "model_module_version": "2.0.0",
      "model_name": "FloatProgressModel",
      "state": {
       "_dom_classes": [],
       "_model_module": "@jupyter-widgets/controls",
       "_model_module_version": "2.0.0",
       "_model_name": "FloatProgressModel",
       "_view_count": null,
       "_view_module": "@jupyter-widgets/controls",
       "_view_module_version": "2.0.0",
       "_view_name": "ProgressView",
       "bar_style": "success",
       "description": "",
       "description_allow_html": false,
       "layout": "IPY_MODEL_4128907f0c1446ada340732b25153f37",
       "max": 442560329.0,
       "min": 0.0,
       "orientation": "horizontal",
       "style": "IPY_MODEL_6a0460480eec4d3c9e804e79dc529006",
       "tabbable": null,
       "tooltip": null,
       "value": 442560329.0
      }
     },
     "a51337edf989459cb0097ed1835b52f1": {
      "model_module": "@jupyter-widgets/base",
      "model_module_version": "2.0.0",
      "model_name": "LayoutModel",
      "state": {
       "_model_module": "@jupyter-widgets/base",
       "_model_module_version": "2.0.0",
       "_model_name": "LayoutModel",
       "_view_count": null,
       "_view_module": "@jupyter-widgets/base",
       "_view_module_version": "2.0.0",
       "_view_name": "LayoutView",
       "align_content": null,
       "align_items": null,
       "align_self": null,
       "border_bottom": null,
       "border_left": null,
       "border_right": null,
       "border_top": null,
       "bottom": null,
       "display": null,
       "flex": null,
       "flex_flow": null,
       "grid_area": null,
       "grid_auto_columns": null,
       "grid_auto_flow": null,
       "grid_auto_rows": null,
       "grid_column": null,
       "grid_gap": null,
       "grid_row": null,
       "grid_template_areas": null,
       "grid_template_columns": null,
       "grid_template_rows": null,
       "height": null,
       "justify_content": null,
       "justify_items": null,
       "left": null,
       "margin": null,
       "max_height": null,
       "max_width": null,
       "min_height": null,
       "min_width": null,
       "object_fit": null,
       "object_position": null,
       "order": null,
       "overflow": null,
       "padding": null,
       "right": null,
       "top": null,
       "visibility": null,
       "width": null
      }
     },
     "a60e5c8b4bc94d17b2c4199b72543749": {
      "model_module": "@jupyter-widgets/base",
      "model_module_version": "2.0.0",
      "model_name": "LayoutModel",
      "state": {
       "_model_module": "@jupyter-widgets/base",
       "_model_module_version": "2.0.0",
       "_model_name": "LayoutModel",
       "_view_count": null,
       "_view_module": "@jupyter-widgets/base",
       "_view_module_version": "2.0.0",
       "_view_name": "LayoutView",
       "align_content": null,
       "align_items": null,
       "align_self": null,
       "border_bottom": null,
       "border_left": null,
       "border_right": null,
       "border_top": null,
       "bottom": null,
       "display": null,
       "flex": null,
       "flex_flow": null,
       "grid_area": null,
       "grid_auto_columns": null,
       "grid_auto_flow": null,
       "grid_auto_rows": null,
       "grid_column": null,
       "grid_gap": null,
       "grid_row": null,
       "grid_template_areas": null,
       "grid_template_columns": null,
       "grid_template_rows": null,
       "height": null,
       "justify_content": null,
       "justify_items": null,
       "left": null,
       "margin": null,
       "max_height": null,
       "max_width": null,
       "min_height": null,
       "min_width": null,
       "object_fit": null,
       "object_position": null,
       "order": null,
       "overflow": null,
       "padding": null,
       "right": null,
       "top": null,
       "visibility": null,
       "width": null
      }
     },
     "a647823ffbb34c36bd6fa71981f3cb73": {
      "model_module": "@jupyter-widgets/controls",
      "model_module_version": "2.0.0",
      "model_name": "HTMLStyleModel",
      "state": {
       "_model_module": "@jupyter-widgets/controls",
       "_model_module_version": "2.0.0",
       "_model_name": "HTMLStyleModel",
       "_view_count": null,
       "_view_module": "@jupyter-widgets/base",
       "_view_module_version": "2.0.0",
       "_view_name": "StyleView",
       "background": null,
       "description_width": "",
       "font_size": null,
       "text_color": null
      }
     },
     "a6ea1701606741dbba6ca47b92ae152c": {
      "model_module": "@jupyter-widgets/base",
      "model_module_version": "2.0.0",
      "model_name": "LayoutModel",
      "state": {
       "_model_module": "@jupyter-widgets/base",
       "_model_module_version": "2.0.0",
       "_model_name": "LayoutModel",
       "_view_count": null,
       "_view_module": "@jupyter-widgets/base",
       "_view_module_version": "2.0.0",
       "_view_name": "LayoutView",
       "align_content": null,
       "align_items": null,
       "align_self": null,
       "border_bottom": null,
       "border_left": null,
       "border_right": null,
       "border_top": null,
       "bottom": null,
       "display": null,
       "flex": null,
       "flex_flow": null,
       "grid_area": null,
       "grid_auto_columns": null,
       "grid_auto_flow": null,
       "grid_auto_rows": null,
       "grid_column": null,
       "grid_gap": null,
       "grid_row": null,
       "grid_template_areas": null,
       "grid_template_columns": null,
       "grid_template_rows": null,
       "height": null,
       "justify_content": null,
       "justify_items": null,
       "left": null,
       "margin": null,
       "max_height": null,
       "max_width": null,
       "min_height": null,
       "min_width": null,
       "object_fit": null,
       "object_position": null,
       "order": null,
       "overflow": null,
       "padding": null,
       "right": null,
       "top": null,
       "visibility": null,
       "width": null
      }
     },
     "a79ceccab0f64aa2b360f1627b459562": {
      "model_module": "@jupyter-widgets/controls",
      "model_module_version": "2.0.0",
      "model_name": "HBoxModel",
      "state": {
       "_dom_classes": [],
       "_model_module": "@jupyter-widgets/controls",
       "_model_module_version": "2.0.0",
       "_model_name": "HBoxModel",
       "_view_count": null,
       "_view_module": "@jupyter-widgets/controls",
       "_view_module_version": "2.0.0",
       "_view_name": "HBoxView",
       "box_style": "",
       "children": [
        "IPY_MODEL_307ddf8eefb245b69260b18f78a87d7c",
        "IPY_MODEL_445dcf271bf042ac86620a44742022fe",
        "IPY_MODEL_aa0706b596724b72a2716b1337773bea"
       ],
       "layout": "IPY_MODEL_0884bd4edbab43a6bebcfa5e2878eb7f",
       "tabbable": null,
       "tooltip": null
      }
     },
     "aa0706b596724b72a2716b1337773bea": {
      "model_module": "@jupyter-widgets/controls",
      "model_module_version": "2.0.0",
      "model_name": "HTMLModel",
      "state": {
       "_dom_classes": [],
       "_model_module": "@jupyter-widgets/controls",
       "_model_module_version": "2.0.0",
       "_model_name": "HTMLModel",
       "_view_count": null,
       "_view_module": "@jupyter-widgets/controls",
       "_view_module_version": "2.0.0",
       "_view_name": "HTMLView",
       "description": "",
       "description_allow_html": false,
       "layout": "IPY_MODEL_311ca55d739746c5961ee8a1d29ed70d",
       "placeholder": "​",
       "style": "IPY_MODEL_a647823ffbb34c36bd6fa71981f3cb73",
       "tabbable": null,
       "tooltip": null,
       "value": " 5128/5128 [00:00&lt;00:00, 22977.04 examples/s]"
      }
     },
     "ab011e1292cc4c2a9213b9c7c18ebfda": {
      "model_module": "@jupyter-widgets/controls",
      "model_module_version": "2.0.0",
      "model_name": "HTMLStyleModel",
      "state": {
       "_model_module": "@jupyter-widgets/controls",
       "_model_module_version": "2.0.0",
       "_model_name": "HTMLStyleModel",
       "_view_count": null,
       "_view_module": "@jupyter-widgets/base",
       "_view_module_version": "2.0.0",
       "_view_name": "StyleView",
       "background": null,
       "description_width": "",
       "font_size": null,
       "text_color": null
      }
     },
     "abf3779948084fd7a52e8ee95aa1c640": {
      "model_module": "@jupyter-widgets/controls",
      "model_module_version": "2.0.0",
      "model_name": "HBoxModel",
      "state": {
       "_dom_classes": [],
       "_model_module": "@jupyter-widgets/controls",
       "_model_module_version": "2.0.0",
       "_model_name": "HBoxModel",
       "_view_count": null,
       "_view_module": "@jupyter-widgets/controls",
       "_view_module_version": "2.0.0",
       "_view_name": "HBoxView",
       "box_style": "",
       "children": [
        "IPY_MODEL_ccda65568d084b6e86af521f2385309a",
        "IPY_MODEL_1e351699d9a24f4491d3a97f2c4233f8",
        "IPY_MODEL_ccc061b8ea774d8187504cc69734efc0"
       ],
       "layout": "IPY_MODEL_312a75c39ab545e49df4ae93a260c6f7",
       "tabbable": null,
       "tooltip": null
      }
     },
     "b4215771bc5e4a248ce85cd177d5b033": {
      "model_module": "@jupyter-widgets/controls",
      "model_module_version": "2.0.0",
      "model_name": "HTMLModel",
      "state": {
       "_dom_classes": [],
       "_model_module": "@jupyter-widgets/controls",
       "_model_module_version": "2.0.0",
       "_model_name": "HTMLModel",
       "_view_count": null,
       "_view_module": "@jupyter-widgets/controls",
       "_view_module_version": "2.0.0",
       "_view_name": "HTMLView",
       "description": "",
       "description_allow_html": false,
       "layout": "IPY_MODEL_e3741e4fa71245988b9837501d9b2ab5",
       "placeholder": "​",
       "style": "IPY_MODEL_898c103f3dd64ca9bbf1133091820a4e",
       "tabbable": null,
       "tooltip": null,
       "value": "Map: 100%"
      }
     },
     "b6aae86306b9401488a411d0783b540f": {
      "model_module": "@jupyter-widgets/controls",
      "model_module_version": "2.0.0",
      "model_name": "HTMLModel",
      "state": {
       "_dom_classes": [],
       "_model_module": "@jupyter-widgets/controls",
       "_model_module_version": "2.0.0",
       "_model_name": "HTMLModel",
       "_view_count": null,
       "_view_module": "@jupyter-widgets/controls",
       "_view_module_version": "2.0.0",
       "_view_name": "HTMLView",
       "description": "",
       "description_allow_html": false,
       "layout": "IPY_MODEL_9c6ed5c1a669464794ef9742bbabf9b0",
       "placeholder": "​",
       "style": "IPY_MODEL_685636a840bb4ffb85a19cb37fdb7041",
       "tabbable": null,
       "tooltip": null,
       "value": "tokenizer_config.json: 100%"
      }
     },
     "bad072b605b94e20a6980f40d0b130fb": {
      "model_module": "@jupyter-widgets/base",
      "model_module_version": "2.0.0",
      "model_name": "LayoutModel",
      "state": {
       "_model_module": "@jupyter-widgets/base",
       "_model_module_version": "2.0.0",
       "_model_name": "LayoutModel",
       "_view_count": null,
       "_view_module": "@jupyter-widgets/base",
       "_view_module_version": "2.0.0",
       "_view_name": "LayoutView",
       "align_content": null,
       "align_items": null,
       "align_self": null,
       "border_bottom": null,
       "border_left": null,
       "border_right": null,
       "border_top": null,
       "bottom": null,
       "display": null,
       "flex": null,
       "flex_flow": null,
       "grid_area": null,
       "grid_auto_columns": null,
       "grid_auto_flow": null,
       "grid_auto_rows": null,
       "grid_column": null,
       "grid_gap": null,
       "grid_row": null,
       "grid_template_areas": null,
       "grid_template_columns": null,
       "grid_template_rows": null,
       "height": null,
       "justify_content": null,
       "justify_items": null,
       "left": null,
       "margin": null,
       "max_height": null,
       "max_width": null,
       "min_height": null,
       "min_width": null,
       "object_fit": null,
       "object_position": null,
       "order": null,
       "overflow": null,
       "padding": null,
       "right": null,
       "top": null,
       "visibility": null,
       "width": null
      }
     },
     "c46e9f1b94924ac9b6e5ee14212374fd": {
      "model_module": "@jupyter-widgets/controls",
      "model_module_version": "2.0.0",
      "model_name": "HTMLStyleModel",
      "state": {
       "_model_module": "@jupyter-widgets/controls",
       "_model_module_version": "2.0.0",
       "_model_name": "HTMLStyleModel",
       "_view_count": null,
       "_view_module": "@jupyter-widgets/base",
       "_view_module_version": "2.0.0",
       "_view_name": "StyleView",
       "background": null,
       "description_width": "",
       "font_size": null,
       "text_color": null
      }
     },
     "c94c179f8a044eada887499d59ed0631": {
      "model_module": "@jupyter-widgets/controls",
      "model_module_version": "2.0.0",
      "model_name": "ProgressStyleModel",
      "state": {
       "_model_module": "@jupyter-widgets/controls",
       "_model_module_version": "2.0.0",
       "_model_name": "ProgressStyleModel",
       "_view_count": null,
       "_view_module": "@jupyter-widgets/base",
       "_view_module_version": "2.0.0",
       "_view_name": "StyleView",
       "bar_color": null,
       "description_width": ""
      }
     },
     "ccc061b8ea774d8187504cc69734efc0": {
      "model_module": "@jupyter-widgets/controls",
      "model_module_version": "2.0.0",
      "model_name": "HTMLModel",
      "state": {
       "_dom_classes": [],
       "_model_module": "@jupyter-widgets/controls",
       "_model_module_version": "2.0.0",
       "_model_name": "HTMLModel",
       "_view_count": null,
       "_view_module": "@jupyter-widgets/controls",
       "_view_module_version": "2.0.0",
       "_view_name": "HTMLView",
       "description": "",
       "description_allow_html": false,
       "layout": "IPY_MODEL_522c49c410be481f8d44de7f8ab5d54b",
       "placeholder": "​",
       "style": "IPY_MODEL_8a469adc87d34b72a6215ea0512514b7",
       "tabbable": null,
       "tooltip": null,
       "value": " 528k/528k [00:00&lt;00:00, 8.83MB/s]"
      }
     },
     "ccda65568d084b6e86af521f2385309a": {
      "model_module": "@jupyter-widgets/controls",
      "model_module_version": "2.0.0",
      "model_name": "HTMLModel",
      "state": {
       "_dom_classes": [],
       "_model_module": "@jupyter-widgets/controls",
       "_model_module_version": "2.0.0",
       "_model_name": "HTMLModel",
       "_view_count": null,
       "_view_module": "@jupyter-widgets/controls",
       "_view_module_version": "2.0.0",
       "_view_name": "HTMLView",
       "description": "",
       "description_allow_html": false,
       "layout": "IPY_MODEL_161916aa5c5046878154e871ede2cfe6",
       "placeholder": "​",
       "style": "IPY_MODEL_90563cea422b442bb4c5b32ffd2a224a",
       "tabbable": null,
       "tooltip": null,
       "value": "vocab.txt: 100%"
      }
     },
     "cf5cb84483584f7591911c9288f130a4": {
      "model_module": "@jupyter-widgets/controls",
      "model_module_version": "2.0.0",
      "model_name": "HTMLModel",
      "state": {
       "_dom_classes": [],
       "_model_module": "@jupyter-widgets/controls",
       "_model_module_version": "2.0.0",
       "_model_name": "HTMLModel",
       "_view_count": null,
       "_view_module": "@jupyter-widgets/controls",
       "_view_module_version": "2.0.0",
       "_view_name": "HTMLView",
       "description": "",
       "description_allow_html": false,
       "layout": "IPY_MODEL_a51337edf989459cb0097ed1835b52f1",
       "placeholder": "​",
       "style": "IPY_MODEL_ab011e1292cc4c2a9213b9c7c18ebfda",
       "tabbable": null,
       "tooltip": null,
       "value": " 119/119 [00:00&lt;00:00, 12.6kB/s]"
      }
     },
     "d06fbe7dad0a44d2a75f6059bee182dc": {
      "model_module": "@jupyter-widgets/controls",
      "model_module_version": "2.0.0",
      "model_name": "FloatProgressModel",
      "state": {
       "_dom_classes": [],
       "_model_module": "@jupyter-widgets/controls",
       "_model_module_version": "2.0.0",
       "_model_name": "FloatProgressModel",
       "_view_count": null,
       "_view_module": "@jupyter-widgets/controls",
       "_view_module_version": "2.0.0",
       "_view_name": "ProgressView",
       "bar_style": "success",
       "description": "",
       "description_allow_html": false,
       "layout": "IPY_MODEL_2b120c2ffed946288b152e170940b5c5",
       "max": 112.0,
       "min": 0.0,
       "orientation": "horizontal",
       "style": "IPY_MODEL_2e58bb9b4e6a4364ae5e837d20739211",
       "tabbable": null,
       "tooltip": null,
       "value": 112.0
      }
     },
     "de6a55ea23154b10a813ac6ddcceb033": {
      "model_module": "@jupyter-widgets/controls",
      "model_module_version": "2.0.0",
      "model_name": "ProgressStyleModel",
      "state": {
       "_model_module": "@jupyter-widgets/controls",
       "_model_module_version": "2.0.0",
       "_model_name": "ProgressStyleModel",
       "_view_count": null,
       "_view_module": "@jupyter-widgets/base",
       "_view_module_version": "2.0.0",
       "_view_name": "StyleView",
       "bar_color": null,
       "description_width": ""
      }
     },
     "e027c55b2e104a919c4b69a1d952a269": {
      "model_module": "@jupyter-widgets/controls",
      "model_module_version": "2.0.0",
      "model_name": "HTMLStyleModel",
      "state": {
       "_model_module": "@jupyter-widgets/controls",
       "_model_module_version": "2.0.0",
       "_model_name": "HTMLStyleModel",
       "_view_count": null,
       "_view_module": "@jupyter-widgets/base",
       "_view_module_version": "2.0.0",
       "_view_name": "StyleView",
       "background": null,
       "description_width": "",
       "font_size": null,
       "text_color": null
      }
     },
     "e0396d32a1604d23b386872cb4764106": {
      "model_module": "@jupyter-widgets/controls",
      "model_module_version": "2.0.0",
      "model_name": "HTMLModel",
      "state": {
       "_dom_classes": [],
       "_model_module": "@jupyter-widgets/controls",
       "_model_module_version": "2.0.0",
       "_model_name": "HTMLModel",
       "_view_count": null,
       "_view_module": "@jupyter-widgets/controls",
       "_view_module_version": "2.0.0",
       "_view_name": "HTMLView",
       "description": "",
       "description_allow_html": false,
       "layout": "IPY_MODEL_90fb3183c4a743c8a239db058321a05d",
       "placeholder": "​",
       "style": "IPY_MODEL_1c7c3ec011924c77bfb657cabf4f19aa",
       "tabbable": null,
       "tooltip": null,
       "value": "config.json: 100%"
      }
     },
     "e3741e4fa71245988b9837501d9b2ab5": {
      "model_module": "@jupyter-widgets/base",
      "model_module_version": "2.0.0",
      "model_name": "LayoutModel",
      "state": {
       "_model_module": "@jupyter-widgets/base",
       "_model_module_version": "2.0.0",
       "_model_name": "LayoutModel",
       "_view_count": null,
       "_view_module": "@jupyter-widgets/base",
       "_view_module_version": "2.0.0",
       "_view_name": "LayoutView",
       "align_content": null,
       "align_items": null,
       "align_self": null,
       "border_bottom": null,
       "border_left": null,
       "border_right": null,
       "border_top": null,
       "bottom": null,
       "display": null,
       "flex": null,
       "flex_flow": null,
       "grid_area": null,
       "grid_auto_columns": null,
       "grid_auto_flow": null,
       "grid_auto_rows": null,
       "grid_column": null,
       "grid_gap": null,
       "grid_row": null,
       "grid_template_areas": null,
       "grid_template_columns": null,
       "grid_template_rows": null,
       "height": null,
       "justify_content": null,
       "justify_items": null,
       "left": null,
       "margin": null,
       "max_height": null,
       "max_width": null,
       "min_height": null,
       "min_width": null,
       "object_fit": null,
       "object_position": null,
       "order": null,
       "overflow": null,
       "padding": null,
       "right": null,
       "top": null,
       "visibility": null,
       "width": null
      }
     },
     "ecdeb83d9e4e4ca9871e7935d3ff98ca": {
      "model_module": "@jupyter-widgets/base",
      "model_module_version": "2.0.0",
      "model_name": "LayoutModel",
      "state": {
       "_model_module": "@jupyter-widgets/base",
       "_model_module_version": "2.0.0",
       "_model_name": "LayoutModel",
       "_view_count": null,
       "_view_module": "@jupyter-widgets/base",
       "_view_module_version": "2.0.0",
       "_view_name": "LayoutView",
       "align_content": null,
       "align_items": null,
       "align_self": null,
       "border_bottom": null,
       "border_left": null,
       "border_right": null,
       "border_top": null,
       "bottom": null,
       "display": null,
       "flex": null,
       "flex_flow": null,
       "grid_area": null,
       "grid_auto_columns": null,
       "grid_auto_flow": null,
       "grid_auto_rows": null,
       "grid_column": null,
       "grid_gap": null,
       "grid_row": null,
       "grid_template_areas": null,
       "grid_template_columns": null,
       "grid_template_rows": null,
       "height": null,
       "justify_content": null,
       "justify_items": null,
       "left": null,
       "margin": null,
       "max_height": null,
       "max_width": null,
       "min_height": null,
       "min_width": null,
       "object_fit": null,
       "object_position": null,
       "order": null,
       "overflow": null,
       "padding": null,
       "right": null,
       "top": null,
       "visibility": null,
       "width": null
      }
     },
     "ee2395f18454420dbece3b800da520a6": {
      "model_module": "@jupyter-widgets/base",
      "model_module_version": "2.0.0",
      "model_name": "LayoutModel",
      "state": {
       "_model_module": "@jupyter-widgets/base",
       "_model_module_version": "2.0.0",
       "_model_name": "LayoutModel",
       "_view_count": null,
       "_view_module": "@jupyter-widgets/base",
       "_view_module_version": "2.0.0",
       "_view_name": "LayoutView",
       "align_content": null,
       "align_items": null,
       "align_self": null,
       "border_bottom": null,
       "border_left": null,
       "border_right": null,
       "border_top": null,
       "bottom": null,
       "display": null,
       "flex": null,
       "flex_flow": null,
       "grid_area": null,
       "grid_auto_columns": null,
       "grid_auto_flow": null,
       "grid_auto_rows": null,
       "grid_column": null,
       "grid_gap": null,
       "grid_row": null,
       "grid_template_areas": null,
       "grid_template_columns": null,
       "grid_template_rows": null,
       "height": null,
       "justify_content": null,
       "justify_items": null,
       "left": null,
       "margin": null,
       "max_height": null,
       "max_width": null,
       "min_height": null,
       "min_width": null,
       "object_fit": null,
       "object_position": null,
       "order": null,
       "overflow": null,
       "padding": null,
       "right": null,
       "top": null,
       "visibility": null,
       "width": null
      }
     },
     "f0eb61c850de4943bc9ff06c6075181e": {
      "model_module": "@jupyter-widgets/controls",
      "model_module_version": "2.0.0",
      "model_name": "FloatProgressModel",
      "state": {
       "_dom_classes": [],
       "_model_module": "@jupyter-widgets/controls",
       "_model_module_version": "2.0.0",
       "_model_name": "FloatProgressModel",
       "_view_count": null,
       "_view_module": "@jupyter-widgets/controls",
       "_view_module_version": "2.0.0",
       "_view_name": "ProgressView",
       "bar_style": "success",
       "description": "",
       "description_allow_html": false,
       "layout": "IPY_MODEL_6aefd5ad79da4e059827599acf530df6",
       "max": 119.0,
       "min": 0.0,
       "orientation": "horizontal",
       "style": "IPY_MODEL_de6a55ea23154b10a813ac6ddcceb033",
       "tabbable": null,
       "tooltip": null,
       "value": 119.0
      }
     },
     "f554ecb14d94410180b3c4526a18340e": {
      "model_module": "@jupyter-widgets/controls",
      "model_module_version": "2.0.0",
      "model_name": "HTMLStyleModel",
      "state": {
       "_model_module": "@jupyter-widgets/controls",
       "_model_module_version": "2.0.0",
       "_model_name": "HTMLStyleModel",
       "_view_count": null,
       "_view_module": "@jupyter-widgets/base",
       "_view_module_version": "2.0.0",
       "_view_name": "StyleView",
       "background": null,
       "description_width": "",
       "font_size": null,
       "text_color": null
      }
     },
     "f8246097dc364a18a964c63955e88a10": {
      "model_module": "@jupyter-widgets/controls",
      "model_module_version": "2.0.0",
      "model_name": "ProgressStyleModel",
      "state": {
       "_model_module": "@jupyter-widgets/controls",
       "_model_module_version": "2.0.0",
       "_model_name": "ProgressStyleModel",
       "_view_count": null,
       "_view_module": "@jupyter-widgets/base",
       "_view_module_version": "2.0.0",
       "_view_name": "StyleView",
       "bar_color": null,
       "description_width": ""
      }
     }
    },
    "version_major": 2,
    "version_minor": 0
   }
  }
 },
 "nbformat": 4,
 "nbformat_minor": 5
}
